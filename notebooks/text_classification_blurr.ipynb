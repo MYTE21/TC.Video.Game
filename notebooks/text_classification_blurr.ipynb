{
  "nbformat": 4,
  "nbformat_minor": 0,
  "metadata": {
    "colab": {
      "provenance": [],
      "collapsed_sections": [
        "bygDMNZ0Bzso",
        "uUQ5xghYB_zP",
        "oRiKOPG9CwAJ"
      ],
      "gpuType": "T4"
    },
    "kernelspec": {
      "name": "python3",
      "display_name": "Python 3"
    },
    "language_info": {
      "name": "python"
    },
    "accelerator": "GPU",
    "widgets": {
      "application/vnd.jupyter.widget-state+json": {
        "435de68e6277450a9b84033806338b26": {
          "model_module": "@jupyter-widgets/controls",
          "model_name": "HBoxModel",
          "model_module_version": "1.5.0",
          "state": {
            "_dom_classes": [],
            "_model_module": "@jupyter-widgets/controls",
            "_model_module_version": "1.5.0",
            "_model_name": "HBoxModel",
            "_view_count": null,
            "_view_module": "@jupyter-widgets/controls",
            "_view_module_version": "1.5.0",
            "_view_name": "HBoxView",
            "box_style": "",
            "children": [
              "IPY_MODEL_2bdda0f67dcd4b17b1a5da3975dd2e24",
              "IPY_MODEL_f8c1fc8c082b4bba9c3a226588e1d9c3",
              "IPY_MODEL_8b7541430aeb4bf68cb26401baf87082"
            ],
            "layout": "IPY_MODEL_0d1717479b2040acb78dec6a042733d8"
          }
        },
        "2bdda0f67dcd4b17b1a5da3975dd2e24": {
          "model_module": "@jupyter-widgets/controls",
          "model_name": "HTMLModel",
          "model_module_version": "1.5.0",
          "state": {
            "_dom_classes": [],
            "_model_module": "@jupyter-widgets/controls",
            "_model_module_version": "1.5.0",
            "_model_name": "HTMLModel",
            "_view_count": null,
            "_view_module": "@jupyter-widgets/controls",
            "_view_module_version": "1.5.0",
            "_view_name": "HTMLView",
            "description": "",
            "description_tooltip": null,
            "layout": "IPY_MODEL_0937573789494a6395aab4056b0aacd9",
            "placeholder": "​",
            "style": "IPY_MODEL_20f3f44fbffb40ce9a74ab7501d48c59",
            "value": "Downloading builder script: "
          }
        },
        "f8c1fc8c082b4bba9c3a226588e1d9c3": {
          "model_module": "@jupyter-widgets/controls",
          "model_name": "FloatProgressModel",
          "model_module_version": "1.5.0",
          "state": {
            "_dom_classes": [],
            "_model_module": "@jupyter-widgets/controls",
            "_model_module_version": "1.5.0",
            "_model_name": "FloatProgressModel",
            "_view_count": null,
            "_view_module": "@jupyter-widgets/controls",
            "_view_module_version": "1.5.0",
            "_view_name": "ProgressView",
            "bar_style": "success",
            "description": "",
            "description_tooltip": null,
            "layout": "IPY_MODEL_78fadddf658245c1b46bc044151d961f",
            "max": 1715,
            "min": 0,
            "orientation": "horizontal",
            "style": "IPY_MODEL_3393da58fab94f01971b5ef0c40ad67f",
            "value": 1715
          }
        },
        "8b7541430aeb4bf68cb26401baf87082": {
          "model_module": "@jupyter-widgets/controls",
          "model_name": "HTMLModel",
          "model_module_version": "1.5.0",
          "state": {
            "_dom_classes": [],
            "_model_module": "@jupyter-widgets/controls",
            "_model_module_version": "1.5.0",
            "_model_name": "HTMLModel",
            "_view_count": null,
            "_view_module": "@jupyter-widgets/controls",
            "_view_module_version": "1.5.0",
            "_view_name": "HTMLView",
            "description": "",
            "description_tooltip": null,
            "layout": "IPY_MODEL_a4c59501569748a9ba6b8cf32f13d436",
            "placeholder": "​",
            "style": "IPY_MODEL_59b46fca88eb4c52bfe9d78288c563c0",
            "value": " 4.50k/? [00:00&lt;00:00, 130kB/s]"
          }
        },
        "0d1717479b2040acb78dec6a042733d8": {
          "model_module": "@jupyter-widgets/base",
          "model_name": "LayoutModel",
          "model_module_version": "1.2.0",
          "state": {
            "_model_module": "@jupyter-widgets/base",
            "_model_module_version": "1.2.0",
            "_model_name": "LayoutModel",
            "_view_count": null,
            "_view_module": "@jupyter-widgets/base",
            "_view_module_version": "1.2.0",
            "_view_name": "LayoutView",
            "align_content": null,
            "align_items": null,
            "align_self": null,
            "border": null,
            "bottom": null,
            "display": null,
            "flex": null,
            "flex_flow": null,
            "grid_area": null,
            "grid_auto_columns": null,
            "grid_auto_flow": null,
            "grid_auto_rows": null,
            "grid_column": null,
            "grid_gap": null,
            "grid_row": null,
            "grid_template_areas": null,
            "grid_template_columns": null,
            "grid_template_rows": null,
            "height": null,
            "justify_content": null,
            "justify_items": null,
            "left": null,
            "margin": null,
            "max_height": null,
            "max_width": null,
            "min_height": null,
            "min_width": null,
            "object_fit": null,
            "object_position": null,
            "order": null,
            "overflow": null,
            "overflow_x": null,
            "overflow_y": null,
            "padding": null,
            "right": null,
            "top": null,
            "visibility": null,
            "width": null
          }
        },
        "0937573789494a6395aab4056b0aacd9": {
          "model_module": "@jupyter-widgets/base",
          "model_name": "LayoutModel",
          "model_module_version": "1.2.0",
          "state": {
            "_model_module": "@jupyter-widgets/base",
            "_model_module_version": "1.2.0",
            "_model_name": "LayoutModel",
            "_view_count": null,
            "_view_module": "@jupyter-widgets/base",
            "_view_module_version": "1.2.0",
            "_view_name": "LayoutView",
            "align_content": null,
            "align_items": null,
            "align_self": null,
            "border": null,
            "bottom": null,
            "display": null,
            "flex": null,
            "flex_flow": null,
            "grid_area": null,
            "grid_auto_columns": null,
            "grid_auto_flow": null,
            "grid_auto_rows": null,
            "grid_column": null,
            "grid_gap": null,
            "grid_row": null,
            "grid_template_areas": null,
            "grid_template_columns": null,
            "grid_template_rows": null,
            "height": null,
            "justify_content": null,
            "justify_items": null,
            "left": null,
            "margin": null,
            "max_height": null,
            "max_width": null,
            "min_height": null,
            "min_width": null,
            "object_fit": null,
            "object_position": null,
            "order": null,
            "overflow": null,
            "overflow_x": null,
            "overflow_y": null,
            "padding": null,
            "right": null,
            "top": null,
            "visibility": null,
            "width": null
          }
        },
        "20f3f44fbffb40ce9a74ab7501d48c59": {
          "model_module": "@jupyter-widgets/controls",
          "model_name": "DescriptionStyleModel",
          "model_module_version": "1.5.0",
          "state": {
            "_model_module": "@jupyter-widgets/controls",
            "_model_module_version": "1.5.0",
            "_model_name": "DescriptionStyleModel",
            "_view_count": null,
            "_view_module": "@jupyter-widgets/base",
            "_view_module_version": "1.2.0",
            "_view_name": "StyleView",
            "description_width": ""
          }
        },
        "78fadddf658245c1b46bc044151d961f": {
          "model_module": "@jupyter-widgets/base",
          "model_name": "LayoutModel",
          "model_module_version": "1.2.0",
          "state": {
            "_model_module": "@jupyter-widgets/base",
            "_model_module_version": "1.2.0",
            "_model_name": "LayoutModel",
            "_view_count": null,
            "_view_module": "@jupyter-widgets/base",
            "_view_module_version": "1.2.0",
            "_view_name": "LayoutView",
            "align_content": null,
            "align_items": null,
            "align_self": null,
            "border": null,
            "bottom": null,
            "display": null,
            "flex": null,
            "flex_flow": null,
            "grid_area": null,
            "grid_auto_columns": null,
            "grid_auto_flow": null,
            "grid_auto_rows": null,
            "grid_column": null,
            "grid_gap": null,
            "grid_row": null,
            "grid_template_areas": null,
            "grid_template_columns": null,
            "grid_template_rows": null,
            "height": null,
            "justify_content": null,
            "justify_items": null,
            "left": null,
            "margin": null,
            "max_height": null,
            "max_width": null,
            "min_height": null,
            "min_width": null,
            "object_fit": null,
            "object_position": null,
            "order": null,
            "overflow": null,
            "overflow_x": null,
            "overflow_y": null,
            "padding": null,
            "right": null,
            "top": null,
            "visibility": null,
            "width": null
          }
        },
        "3393da58fab94f01971b5ef0c40ad67f": {
          "model_module": "@jupyter-widgets/controls",
          "model_name": "ProgressStyleModel",
          "model_module_version": "1.5.0",
          "state": {
            "_model_module": "@jupyter-widgets/controls",
            "_model_module_version": "1.5.0",
            "_model_name": "ProgressStyleModel",
            "_view_count": null,
            "_view_module": "@jupyter-widgets/base",
            "_view_module_version": "1.2.0",
            "_view_name": "StyleView",
            "bar_color": null,
            "description_width": ""
          }
        },
        "a4c59501569748a9ba6b8cf32f13d436": {
          "model_module": "@jupyter-widgets/base",
          "model_name": "LayoutModel",
          "model_module_version": "1.2.0",
          "state": {
            "_model_module": "@jupyter-widgets/base",
            "_model_module_version": "1.2.0",
            "_model_name": "LayoutModel",
            "_view_count": null,
            "_view_module": "@jupyter-widgets/base",
            "_view_module_version": "1.2.0",
            "_view_name": "LayoutView",
            "align_content": null,
            "align_items": null,
            "align_self": null,
            "border": null,
            "bottom": null,
            "display": null,
            "flex": null,
            "flex_flow": null,
            "grid_area": null,
            "grid_auto_columns": null,
            "grid_auto_flow": null,
            "grid_auto_rows": null,
            "grid_column": null,
            "grid_gap": null,
            "grid_row": null,
            "grid_template_areas": null,
            "grid_template_columns": null,
            "grid_template_rows": null,
            "height": null,
            "justify_content": null,
            "justify_items": null,
            "left": null,
            "margin": null,
            "max_height": null,
            "max_width": null,
            "min_height": null,
            "min_width": null,
            "object_fit": null,
            "object_position": null,
            "order": null,
            "overflow": null,
            "overflow_x": null,
            "overflow_y": null,
            "padding": null,
            "right": null,
            "top": null,
            "visibility": null,
            "width": null
          }
        },
        "59b46fca88eb4c52bfe9d78288c563c0": {
          "model_module": "@jupyter-widgets/controls",
          "model_name": "DescriptionStyleModel",
          "model_module_version": "1.5.0",
          "state": {
            "_model_module": "@jupyter-widgets/controls",
            "_model_module_version": "1.5.0",
            "_model_name": "DescriptionStyleModel",
            "_view_count": null,
            "_view_module": "@jupyter-widgets/base",
            "_view_module_version": "1.2.0",
            "_view_name": "StyleView",
            "description_width": ""
          }
        },
        "6a657e40d7ba42ff9b0f4dd6084c1999": {
          "model_module": "@jupyter-widgets/controls",
          "model_name": "HBoxModel",
          "model_module_version": "1.5.0",
          "state": {
            "_dom_classes": [],
            "_model_module": "@jupyter-widgets/controls",
            "_model_module_version": "1.5.0",
            "_model_name": "HBoxModel",
            "_view_count": null,
            "_view_module": "@jupyter-widgets/controls",
            "_view_module_version": "1.5.0",
            "_view_name": "HBoxView",
            "box_style": "",
            "children": [
              "IPY_MODEL_1635ed128d814f909e4c5bed4c042227",
              "IPY_MODEL_49c94db2d1b74e92aa104798074e2e92",
              "IPY_MODEL_a6cf4f6ad24741f9873b4fdd06288039"
            ],
            "layout": "IPY_MODEL_61466f8a17de453cbfb80c7a1b04f5ef"
          }
        },
        "1635ed128d814f909e4c5bed4c042227": {
          "model_module": "@jupyter-widgets/controls",
          "model_name": "HTMLModel",
          "model_module_version": "1.5.0",
          "state": {
            "_dom_classes": [],
            "_model_module": "@jupyter-widgets/controls",
            "_model_module_version": "1.5.0",
            "_model_name": "HTMLModel",
            "_view_count": null,
            "_view_module": "@jupyter-widgets/controls",
            "_view_module_version": "1.5.0",
            "_view_name": "HTMLView",
            "description": "",
            "description_tooltip": null,
            "layout": "IPY_MODEL_1ac45b8035d64967a60b0a11a20aeea0",
            "placeholder": "​",
            "style": "IPY_MODEL_9e920b53a4ac482992f2bba6df1dc565",
            "value": "Downloading extra modules: "
          }
        },
        "49c94db2d1b74e92aa104798074e2e92": {
          "model_module": "@jupyter-widgets/controls",
          "model_name": "FloatProgressModel",
          "model_module_version": "1.5.0",
          "state": {
            "_dom_classes": [],
            "_model_module": "@jupyter-widgets/controls",
            "_model_module_version": "1.5.0",
            "_model_name": "FloatProgressModel",
            "_view_count": null,
            "_view_module": "@jupyter-widgets/controls",
            "_view_module_version": "1.5.0",
            "_view_name": "ProgressView",
            "bar_style": "success",
            "description": "",
            "description_tooltip": null,
            "layout": "IPY_MODEL_8c705fee51ae4068a6f37415c4a272ec",
            "max": 1109,
            "min": 0,
            "orientation": "horizontal",
            "style": "IPY_MODEL_f132529f6ecb4fc09a804ccce49a6e81",
            "value": 1109
          }
        },
        "a6cf4f6ad24741f9873b4fdd06288039": {
          "model_module": "@jupyter-widgets/controls",
          "model_name": "HTMLModel",
          "model_module_version": "1.5.0",
          "state": {
            "_dom_classes": [],
            "_model_module": "@jupyter-widgets/controls",
            "_model_module_version": "1.5.0",
            "_model_name": "HTMLModel",
            "_view_count": null,
            "_view_module": "@jupyter-widgets/controls",
            "_view_module_version": "1.5.0",
            "_view_name": "HTMLView",
            "description": "",
            "description_tooltip": null,
            "layout": "IPY_MODEL_8c55cfcee5bc4a09b0a52ef8287a9beb",
            "placeholder": "​",
            "style": "IPY_MODEL_10a9382f5f5f43029b8048659315b3a5",
            "value": " 3.30k/? [00:00&lt;00:00, 123kB/s]"
          }
        },
        "61466f8a17de453cbfb80c7a1b04f5ef": {
          "model_module": "@jupyter-widgets/base",
          "model_name": "LayoutModel",
          "model_module_version": "1.2.0",
          "state": {
            "_model_module": "@jupyter-widgets/base",
            "_model_module_version": "1.2.0",
            "_model_name": "LayoutModel",
            "_view_count": null,
            "_view_module": "@jupyter-widgets/base",
            "_view_module_version": "1.2.0",
            "_view_name": "LayoutView",
            "align_content": null,
            "align_items": null,
            "align_self": null,
            "border": null,
            "bottom": null,
            "display": null,
            "flex": null,
            "flex_flow": null,
            "grid_area": null,
            "grid_auto_columns": null,
            "grid_auto_flow": null,
            "grid_auto_rows": null,
            "grid_column": null,
            "grid_gap": null,
            "grid_row": null,
            "grid_template_areas": null,
            "grid_template_columns": null,
            "grid_template_rows": null,
            "height": null,
            "justify_content": null,
            "justify_items": null,
            "left": null,
            "margin": null,
            "max_height": null,
            "max_width": null,
            "min_height": null,
            "min_width": null,
            "object_fit": null,
            "object_position": null,
            "order": null,
            "overflow": null,
            "overflow_x": null,
            "overflow_y": null,
            "padding": null,
            "right": null,
            "top": null,
            "visibility": null,
            "width": null
          }
        },
        "1ac45b8035d64967a60b0a11a20aeea0": {
          "model_module": "@jupyter-widgets/base",
          "model_name": "LayoutModel",
          "model_module_version": "1.2.0",
          "state": {
            "_model_module": "@jupyter-widgets/base",
            "_model_module_version": "1.2.0",
            "_model_name": "LayoutModel",
            "_view_count": null,
            "_view_module": "@jupyter-widgets/base",
            "_view_module_version": "1.2.0",
            "_view_name": "LayoutView",
            "align_content": null,
            "align_items": null,
            "align_self": null,
            "border": null,
            "bottom": null,
            "display": null,
            "flex": null,
            "flex_flow": null,
            "grid_area": null,
            "grid_auto_columns": null,
            "grid_auto_flow": null,
            "grid_auto_rows": null,
            "grid_column": null,
            "grid_gap": null,
            "grid_row": null,
            "grid_template_areas": null,
            "grid_template_columns": null,
            "grid_template_rows": null,
            "height": null,
            "justify_content": null,
            "justify_items": null,
            "left": null,
            "margin": null,
            "max_height": null,
            "max_width": null,
            "min_height": null,
            "min_width": null,
            "object_fit": null,
            "object_position": null,
            "order": null,
            "overflow": null,
            "overflow_x": null,
            "overflow_y": null,
            "padding": null,
            "right": null,
            "top": null,
            "visibility": null,
            "width": null
          }
        },
        "9e920b53a4ac482992f2bba6df1dc565": {
          "model_module": "@jupyter-widgets/controls",
          "model_name": "DescriptionStyleModel",
          "model_module_version": "1.5.0",
          "state": {
            "_model_module": "@jupyter-widgets/controls",
            "_model_module_version": "1.5.0",
            "_model_name": "DescriptionStyleModel",
            "_view_count": null,
            "_view_module": "@jupyter-widgets/base",
            "_view_module_version": "1.2.0",
            "_view_name": "StyleView",
            "description_width": ""
          }
        },
        "8c705fee51ae4068a6f37415c4a272ec": {
          "model_module": "@jupyter-widgets/base",
          "model_name": "LayoutModel",
          "model_module_version": "1.2.0",
          "state": {
            "_model_module": "@jupyter-widgets/base",
            "_model_module_version": "1.2.0",
            "_model_name": "LayoutModel",
            "_view_count": null,
            "_view_module": "@jupyter-widgets/base",
            "_view_module_version": "1.2.0",
            "_view_name": "LayoutView",
            "align_content": null,
            "align_items": null,
            "align_self": null,
            "border": null,
            "bottom": null,
            "display": null,
            "flex": null,
            "flex_flow": null,
            "grid_area": null,
            "grid_auto_columns": null,
            "grid_auto_flow": null,
            "grid_auto_rows": null,
            "grid_column": null,
            "grid_gap": null,
            "grid_row": null,
            "grid_template_areas": null,
            "grid_template_columns": null,
            "grid_template_rows": null,
            "height": null,
            "justify_content": null,
            "justify_items": null,
            "left": null,
            "margin": null,
            "max_height": null,
            "max_width": null,
            "min_height": null,
            "min_width": null,
            "object_fit": null,
            "object_position": null,
            "order": null,
            "overflow": null,
            "overflow_x": null,
            "overflow_y": null,
            "padding": null,
            "right": null,
            "top": null,
            "visibility": null,
            "width": null
          }
        },
        "f132529f6ecb4fc09a804ccce49a6e81": {
          "model_module": "@jupyter-widgets/controls",
          "model_name": "ProgressStyleModel",
          "model_module_version": "1.5.0",
          "state": {
            "_model_module": "@jupyter-widgets/controls",
            "_model_module_version": "1.5.0",
            "_model_name": "ProgressStyleModel",
            "_view_count": null,
            "_view_module": "@jupyter-widgets/base",
            "_view_module_version": "1.2.0",
            "_view_name": "StyleView",
            "bar_color": null,
            "description_width": ""
          }
        },
        "8c55cfcee5bc4a09b0a52ef8287a9beb": {
          "model_module": "@jupyter-widgets/base",
          "model_name": "LayoutModel",
          "model_module_version": "1.2.0",
          "state": {
            "_model_module": "@jupyter-widgets/base",
            "_model_module_version": "1.2.0",
            "_model_name": "LayoutModel",
            "_view_count": null,
            "_view_module": "@jupyter-widgets/base",
            "_view_module_version": "1.2.0",
            "_view_name": "LayoutView",
            "align_content": null,
            "align_items": null,
            "align_self": null,
            "border": null,
            "bottom": null,
            "display": null,
            "flex": null,
            "flex_flow": null,
            "grid_area": null,
            "grid_auto_columns": null,
            "grid_auto_flow": null,
            "grid_auto_rows": null,
            "grid_column": null,
            "grid_gap": null,
            "grid_row": null,
            "grid_template_areas": null,
            "grid_template_columns": null,
            "grid_template_rows": null,
            "height": null,
            "justify_content": null,
            "justify_items": null,
            "left": null,
            "margin": null,
            "max_height": null,
            "max_width": null,
            "min_height": null,
            "min_width": null,
            "object_fit": null,
            "object_position": null,
            "order": null,
            "overflow": null,
            "overflow_x": null,
            "overflow_y": null,
            "padding": null,
            "right": null,
            "top": null,
            "visibility": null,
            "width": null
          }
        },
        "10a9382f5f5f43029b8048659315b3a5": {
          "model_module": "@jupyter-widgets/controls",
          "model_name": "DescriptionStyleModel",
          "model_module_version": "1.5.0",
          "state": {
            "_model_module": "@jupyter-widgets/controls",
            "_model_module_version": "1.5.0",
            "_model_name": "DescriptionStyleModel",
            "_view_count": null,
            "_view_module": "@jupyter-widgets/base",
            "_view_module_version": "1.2.0",
            "_view_name": "StyleView",
            "description_width": ""
          }
        },
        "b7258d8d790942269580e73ce713e83b": {
          "model_module": "@jupyter-widgets/controls",
          "model_name": "HBoxModel",
          "model_module_version": "1.5.0",
          "state": {
            "_dom_classes": [],
            "_model_module": "@jupyter-widgets/controls",
            "_model_module_version": "1.5.0",
            "_model_name": "HBoxModel",
            "_view_count": null,
            "_view_module": "@jupyter-widgets/controls",
            "_view_module_version": "1.5.0",
            "_view_name": "HBoxView",
            "box_style": "",
            "children": [
              "IPY_MODEL_4c27732da8bd42f19f6a59676a2330f9",
              "IPY_MODEL_ebb61ad8eee3465b9dbc2d3bd8d8b9dd",
              "IPY_MODEL_c4ab6b563aa84294bacc73b9ddbaef18"
            ],
            "layout": "IPY_MODEL_37f757cda0e94427ab5fc23f86cdc0e8"
          }
        },
        "4c27732da8bd42f19f6a59676a2330f9": {
          "model_module": "@jupyter-widgets/controls",
          "model_name": "HTMLModel",
          "model_module_version": "1.5.0",
          "state": {
            "_dom_classes": [],
            "_model_module": "@jupyter-widgets/controls",
            "_model_module_version": "1.5.0",
            "_model_name": "HTMLModel",
            "_view_count": null,
            "_view_module": "@jupyter-widgets/controls",
            "_view_module_version": "1.5.0",
            "_view_name": "HTMLView",
            "description": "",
            "description_tooltip": null,
            "layout": "IPY_MODEL_f87f033a534242d79783010c575a3980",
            "placeholder": "​",
            "style": "IPY_MODEL_8ab5cb91ea814d4cadea3a41a11febae",
            "value": "Downloading (…)lve/main/config.json: 100%"
          }
        },
        "ebb61ad8eee3465b9dbc2d3bd8d8b9dd": {
          "model_module": "@jupyter-widgets/controls",
          "model_name": "FloatProgressModel",
          "model_module_version": "1.5.0",
          "state": {
            "_dom_classes": [],
            "_model_module": "@jupyter-widgets/controls",
            "_model_module_version": "1.5.0",
            "_model_name": "FloatProgressModel",
            "_view_count": null,
            "_view_module": "@jupyter-widgets/controls",
            "_view_module_version": "1.5.0",
            "_view_name": "ProgressView",
            "bar_style": "success",
            "description": "",
            "description_tooltip": null,
            "layout": "IPY_MODEL_5417e3fe6eb84e57ad77b6c27c58bf97",
            "max": 480,
            "min": 0,
            "orientation": "horizontal",
            "style": "IPY_MODEL_b816acc2a0b44282adddb17f6881f7a9",
            "value": 480
          }
        },
        "c4ab6b563aa84294bacc73b9ddbaef18": {
          "model_module": "@jupyter-widgets/controls",
          "model_name": "HTMLModel",
          "model_module_version": "1.5.0",
          "state": {
            "_dom_classes": [],
            "_model_module": "@jupyter-widgets/controls",
            "_model_module_version": "1.5.0",
            "_model_name": "HTMLModel",
            "_view_count": null,
            "_view_module": "@jupyter-widgets/controls",
            "_view_module_version": "1.5.0",
            "_view_name": "HTMLView",
            "description": "",
            "description_tooltip": null,
            "layout": "IPY_MODEL_0ba226b0c40d48bdacf5ab1dd3c19a33",
            "placeholder": "​",
            "style": "IPY_MODEL_1f473de2c2af4b1e8d9a2664f8cdda99",
            "value": " 480/480 [00:00&lt;00:00, 38.8kB/s]"
          }
        },
        "37f757cda0e94427ab5fc23f86cdc0e8": {
          "model_module": "@jupyter-widgets/base",
          "model_name": "LayoutModel",
          "model_module_version": "1.2.0",
          "state": {
            "_model_module": "@jupyter-widgets/base",
            "_model_module_version": "1.2.0",
            "_model_name": "LayoutModel",
            "_view_count": null,
            "_view_module": "@jupyter-widgets/base",
            "_view_module_version": "1.2.0",
            "_view_name": "LayoutView",
            "align_content": null,
            "align_items": null,
            "align_self": null,
            "border": null,
            "bottom": null,
            "display": null,
            "flex": null,
            "flex_flow": null,
            "grid_area": null,
            "grid_auto_columns": null,
            "grid_auto_flow": null,
            "grid_auto_rows": null,
            "grid_column": null,
            "grid_gap": null,
            "grid_row": null,
            "grid_template_areas": null,
            "grid_template_columns": null,
            "grid_template_rows": null,
            "height": null,
            "justify_content": null,
            "justify_items": null,
            "left": null,
            "margin": null,
            "max_height": null,
            "max_width": null,
            "min_height": null,
            "min_width": null,
            "object_fit": null,
            "object_position": null,
            "order": null,
            "overflow": null,
            "overflow_x": null,
            "overflow_y": null,
            "padding": null,
            "right": null,
            "top": null,
            "visibility": null,
            "width": null
          }
        },
        "f87f033a534242d79783010c575a3980": {
          "model_module": "@jupyter-widgets/base",
          "model_name": "LayoutModel",
          "model_module_version": "1.2.0",
          "state": {
            "_model_module": "@jupyter-widgets/base",
            "_model_module_version": "1.2.0",
            "_model_name": "LayoutModel",
            "_view_count": null,
            "_view_module": "@jupyter-widgets/base",
            "_view_module_version": "1.2.0",
            "_view_name": "LayoutView",
            "align_content": null,
            "align_items": null,
            "align_self": null,
            "border": null,
            "bottom": null,
            "display": null,
            "flex": null,
            "flex_flow": null,
            "grid_area": null,
            "grid_auto_columns": null,
            "grid_auto_flow": null,
            "grid_auto_rows": null,
            "grid_column": null,
            "grid_gap": null,
            "grid_row": null,
            "grid_template_areas": null,
            "grid_template_columns": null,
            "grid_template_rows": null,
            "height": null,
            "justify_content": null,
            "justify_items": null,
            "left": null,
            "margin": null,
            "max_height": null,
            "max_width": null,
            "min_height": null,
            "min_width": null,
            "object_fit": null,
            "object_position": null,
            "order": null,
            "overflow": null,
            "overflow_x": null,
            "overflow_y": null,
            "padding": null,
            "right": null,
            "top": null,
            "visibility": null,
            "width": null
          }
        },
        "8ab5cb91ea814d4cadea3a41a11febae": {
          "model_module": "@jupyter-widgets/controls",
          "model_name": "DescriptionStyleModel",
          "model_module_version": "1.5.0",
          "state": {
            "_model_module": "@jupyter-widgets/controls",
            "_model_module_version": "1.5.0",
            "_model_name": "DescriptionStyleModel",
            "_view_count": null,
            "_view_module": "@jupyter-widgets/base",
            "_view_module_version": "1.2.0",
            "_view_name": "StyleView",
            "description_width": ""
          }
        },
        "5417e3fe6eb84e57ad77b6c27c58bf97": {
          "model_module": "@jupyter-widgets/base",
          "model_name": "LayoutModel",
          "model_module_version": "1.2.0",
          "state": {
            "_model_module": "@jupyter-widgets/base",
            "_model_module_version": "1.2.0",
            "_model_name": "LayoutModel",
            "_view_count": null,
            "_view_module": "@jupyter-widgets/base",
            "_view_module_version": "1.2.0",
            "_view_name": "LayoutView",
            "align_content": null,
            "align_items": null,
            "align_self": null,
            "border": null,
            "bottom": null,
            "display": null,
            "flex": null,
            "flex_flow": null,
            "grid_area": null,
            "grid_auto_columns": null,
            "grid_auto_flow": null,
            "grid_auto_rows": null,
            "grid_column": null,
            "grid_gap": null,
            "grid_row": null,
            "grid_template_areas": null,
            "grid_template_columns": null,
            "grid_template_rows": null,
            "height": null,
            "justify_content": null,
            "justify_items": null,
            "left": null,
            "margin": null,
            "max_height": null,
            "max_width": null,
            "min_height": null,
            "min_width": null,
            "object_fit": null,
            "object_position": null,
            "order": null,
            "overflow": null,
            "overflow_x": null,
            "overflow_y": null,
            "padding": null,
            "right": null,
            "top": null,
            "visibility": null,
            "width": null
          }
        },
        "b816acc2a0b44282adddb17f6881f7a9": {
          "model_module": "@jupyter-widgets/controls",
          "model_name": "ProgressStyleModel",
          "model_module_version": "1.5.0",
          "state": {
            "_model_module": "@jupyter-widgets/controls",
            "_model_module_version": "1.5.0",
            "_model_name": "ProgressStyleModel",
            "_view_count": null,
            "_view_module": "@jupyter-widgets/base",
            "_view_module_version": "1.2.0",
            "_view_name": "StyleView",
            "bar_color": null,
            "description_width": ""
          }
        },
        "0ba226b0c40d48bdacf5ab1dd3c19a33": {
          "model_module": "@jupyter-widgets/base",
          "model_name": "LayoutModel",
          "model_module_version": "1.2.0",
          "state": {
            "_model_module": "@jupyter-widgets/base",
            "_model_module_version": "1.2.0",
            "_model_name": "LayoutModel",
            "_view_count": null,
            "_view_module": "@jupyter-widgets/base",
            "_view_module_version": "1.2.0",
            "_view_name": "LayoutView",
            "align_content": null,
            "align_items": null,
            "align_self": null,
            "border": null,
            "bottom": null,
            "display": null,
            "flex": null,
            "flex_flow": null,
            "grid_area": null,
            "grid_auto_columns": null,
            "grid_auto_flow": null,
            "grid_auto_rows": null,
            "grid_column": null,
            "grid_gap": null,
            "grid_row": null,
            "grid_template_areas": null,
            "grid_template_columns": null,
            "grid_template_rows": null,
            "height": null,
            "justify_content": null,
            "justify_items": null,
            "left": null,
            "margin": null,
            "max_height": null,
            "max_width": null,
            "min_height": null,
            "min_width": null,
            "object_fit": null,
            "object_position": null,
            "order": null,
            "overflow": null,
            "overflow_x": null,
            "overflow_y": null,
            "padding": null,
            "right": null,
            "top": null,
            "visibility": null,
            "width": null
          }
        },
        "1f473de2c2af4b1e8d9a2664f8cdda99": {
          "model_module": "@jupyter-widgets/controls",
          "model_name": "DescriptionStyleModel",
          "model_module_version": "1.5.0",
          "state": {
            "_model_module": "@jupyter-widgets/controls",
            "_model_module_version": "1.5.0",
            "_model_name": "DescriptionStyleModel",
            "_view_count": null,
            "_view_module": "@jupyter-widgets/base",
            "_view_module_version": "1.2.0",
            "_view_name": "StyleView",
            "description_width": ""
          }
        },
        "ec44e732f7274b3aa6d60c8ae6109ba5": {
          "model_module": "@jupyter-widgets/controls",
          "model_name": "HBoxModel",
          "model_module_version": "1.5.0",
          "state": {
            "_dom_classes": [],
            "_model_module": "@jupyter-widgets/controls",
            "_model_module_version": "1.5.0",
            "_model_name": "HBoxModel",
            "_view_count": null,
            "_view_module": "@jupyter-widgets/controls",
            "_view_module_version": "1.5.0",
            "_view_name": "HBoxView",
            "box_style": "",
            "children": [
              "IPY_MODEL_67afc5276e484a6b80b1d4c27d5870da",
              "IPY_MODEL_7d3eaf9d039d4bfbb25212a092324a5b",
              "IPY_MODEL_be0ae0e23afc486f986c20d97ff76b51"
            ],
            "layout": "IPY_MODEL_d91bde8715f54f14b1fbbc73ddb15cfa"
          }
        },
        "67afc5276e484a6b80b1d4c27d5870da": {
          "model_module": "@jupyter-widgets/controls",
          "model_name": "HTMLModel",
          "model_module_version": "1.5.0",
          "state": {
            "_dom_classes": [],
            "_model_module": "@jupyter-widgets/controls",
            "_model_module_version": "1.5.0",
            "_model_name": "HTMLModel",
            "_view_count": null,
            "_view_module": "@jupyter-widgets/controls",
            "_view_module_version": "1.5.0",
            "_view_name": "HTMLView",
            "description": "",
            "description_tooltip": null,
            "layout": "IPY_MODEL_9605b731093b4cffbbcc68cde8efdcaa",
            "placeholder": "​",
            "style": "IPY_MODEL_33c3a73363b744b9a59328ebaa773573",
            "value": "Downloading (…)olve/main/vocab.json: 100%"
          }
        },
        "7d3eaf9d039d4bfbb25212a092324a5b": {
          "model_module": "@jupyter-widgets/controls",
          "model_name": "FloatProgressModel",
          "model_module_version": "1.5.0",
          "state": {
            "_dom_classes": [],
            "_model_module": "@jupyter-widgets/controls",
            "_model_module_version": "1.5.0",
            "_model_name": "FloatProgressModel",
            "_view_count": null,
            "_view_module": "@jupyter-widgets/controls",
            "_view_module_version": "1.5.0",
            "_view_name": "ProgressView",
            "bar_style": "success",
            "description": "",
            "description_tooltip": null,
            "layout": "IPY_MODEL_77eab871589245d9aea34719fab5d845",
            "max": 898823,
            "min": 0,
            "orientation": "horizontal",
            "style": "IPY_MODEL_d3683079c7c24d3482a3a0f748767c02",
            "value": 898823
          }
        },
        "be0ae0e23afc486f986c20d97ff76b51": {
          "model_module": "@jupyter-widgets/controls",
          "model_name": "HTMLModel",
          "model_module_version": "1.5.0",
          "state": {
            "_dom_classes": [],
            "_model_module": "@jupyter-widgets/controls",
            "_model_module_version": "1.5.0",
            "_model_name": "HTMLModel",
            "_view_count": null,
            "_view_module": "@jupyter-widgets/controls",
            "_view_module_version": "1.5.0",
            "_view_name": "HTMLView",
            "description": "",
            "description_tooltip": null,
            "layout": "IPY_MODEL_a0431cb022054a40973a74f03aa4df73",
            "placeholder": "​",
            "style": "IPY_MODEL_8bcbe051a61a4e71932fedb9aaf64d20",
            "value": " 899k/899k [00:00&lt;00:00, 4.63MB/s]"
          }
        },
        "d91bde8715f54f14b1fbbc73ddb15cfa": {
          "model_module": "@jupyter-widgets/base",
          "model_name": "LayoutModel",
          "model_module_version": "1.2.0",
          "state": {
            "_model_module": "@jupyter-widgets/base",
            "_model_module_version": "1.2.0",
            "_model_name": "LayoutModel",
            "_view_count": null,
            "_view_module": "@jupyter-widgets/base",
            "_view_module_version": "1.2.0",
            "_view_name": "LayoutView",
            "align_content": null,
            "align_items": null,
            "align_self": null,
            "border": null,
            "bottom": null,
            "display": null,
            "flex": null,
            "flex_flow": null,
            "grid_area": null,
            "grid_auto_columns": null,
            "grid_auto_flow": null,
            "grid_auto_rows": null,
            "grid_column": null,
            "grid_gap": null,
            "grid_row": null,
            "grid_template_areas": null,
            "grid_template_columns": null,
            "grid_template_rows": null,
            "height": null,
            "justify_content": null,
            "justify_items": null,
            "left": null,
            "margin": null,
            "max_height": null,
            "max_width": null,
            "min_height": null,
            "min_width": null,
            "object_fit": null,
            "object_position": null,
            "order": null,
            "overflow": null,
            "overflow_x": null,
            "overflow_y": null,
            "padding": null,
            "right": null,
            "top": null,
            "visibility": null,
            "width": null
          }
        },
        "9605b731093b4cffbbcc68cde8efdcaa": {
          "model_module": "@jupyter-widgets/base",
          "model_name": "LayoutModel",
          "model_module_version": "1.2.0",
          "state": {
            "_model_module": "@jupyter-widgets/base",
            "_model_module_version": "1.2.0",
            "_model_name": "LayoutModel",
            "_view_count": null,
            "_view_module": "@jupyter-widgets/base",
            "_view_module_version": "1.2.0",
            "_view_name": "LayoutView",
            "align_content": null,
            "align_items": null,
            "align_self": null,
            "border": null,
            "bottom": null,
            "display": null,
            "flex": null,
            "flex_flow": null,
            "grid_area": null,
            "grid_auto_columns": null,
            "grid_auto_flow": null,
            "grid_auto_rows": null,
            "grid_column": null,
            "grid_gap": null,
            "grid_row": null,
            "grid_template_areas": null,
            "grid_template_columns": null,
            "grid_template_rows": null,
            "height": null,
            "justify_content": null,
            "justify_items": null,
            "left": null,
            "margin": null,
            "max_height": null,
            "max_width": null,
            "min_height": null,
            "min_width": null,
            "object_fit": null,
            "object_position": null,
            "order": null,
            "overflow": null,
            "overflow_x": null,
            "overflow_y": null,
            "padding": null,
            "right": null,
            "top": null,
            "visibility": null,
            "width": null
          }
        },
        "33c3a73363b744b9a59328ebaa773573": {
          "model_module": "@jupyter-widgets/controls",
          "model_name": "DescriptionStyleModel",
          "model_module_version": "1.5.0",
          "state": {
            "_model_module": "@jupyter-widgets/controls",
            "_model_module_version": "1.5.0",
            "_model_name": "DescriptionStyleModel",
            "_view_count": null,
            "_view_module": "@jupyter-widgets/base",
            "_view_module_version": "1.2.0",
            "_view_name": "StyleView",
            "description_width": ""
          }
        },
        "77eab871589245d9aea34719fab5d845": {
          "model_module": "@jupyter-widgets/base",
          "model_name": "LayoutModel",
          "model_module_version": "1.2.0",
          "state": {
            "_model_module": "@jupyter-widgets/base",
            "_model_module_version": "1.2.0",
            "_model_name": "LayoutModel",
            "_view_count": null,
            "_view_module": "@jupyter-widgets/base",
            "_view_module_version": "1.2.0",
            "_view_name": "LayoutView",
            "align_content": null,
            "align_items": null,
            "align_self": null,
            "border": null,
            "bottom": null,
            "display": null,
            "flex": null,
            "flex_flow": null,
            "grid_area": null,
            "grid_auto_columns": null,
            "grid_auto_flow": null,
            "grid_auto_rows": null,
            "grid_column": null,
            "grid_gap": null,
            "grid_row": null,
            "grid_template_areas": null,
            "grid_template_columns": null,
            "grid_template_rows": null,
            "height": null,
            "justify_content": null,
            "justify_items": null,
            "left": null,
            "margin": null,
            "max_height": null,
            "max_width": null,
            "min_height": null,
            "min_width": null,
            "object_fit": null,
            "object_position": null,
            "order": null,
            "overflow": null,
            "overflow_x": null,
            "overflow_y": null,
            "padding": null,
            "right": null,
            "top": null,
            "visibility": null,
            "width": null
          }
        },
        "d3683079c7c24d3482a3a0f748767c02": {
          "model_module": "@jupyter-widgets/controls",
          "model_name": "ProgressStyleModel",
          "model_module_version": "1.5.0",
          "state": {
            "_model_module": "@jupyter-widgets/controls",
            "_model_module_version": "1.5.0",
            "_model_name": "ProgressStyleModel",
            "_view_count": null,
            "_view_module": "@jupyter-widgets/base",
            "_view_module_version": "1.2.0",
            "_view_name": "StyleView",
            "bar_color": null,
            "description_width": ""
          }
        },
        "a0431cb022054a40973a74f03aa4df73": {
          "model_module": "@jupyter-widgets/base",
          "model_name": "LayoutModel",
          "model_module_version": "1.2.0",
          "state": {
            "_model_module": "@jupyter-widgets/base",
            "_model_module_version": "1.2.0",
            "_model_name": "LayoutModel",
            "_view_count": null,
            "_view_module": "@jupyter-widgets/base",
            "_view_module_version": "1.2.0",
            "_view_name": "LayoutView",
            "align_content": null,
            "align_items": null,
            "align_self": null,
            "border": null,
            "bottom": null,
            "display": null,
            "flex": null,
            "flex_flow": null,
            "grid_area": null,
            "grid_auto_columns": null,
            "grid_auto_flow": null,
            "grid_auto_rows": null,
            "grid_column": null,
            "grid_gap": null,
            "grid_row": null,
            "grid_template_areas": null,
            "grid_template_columns": null,
            "grid_template_rows": null,
            "height": null,
            "justify_content": null,
            "justify_items": null,
            "left": null,
            "margin": null,
            "max_height": null,
            "max_width": null,
            "min_height": null,
            "min_width": null,
            "object_fit": null,
            "object_position": null,
            "order": null,
            "overflow": null,
            "overflow_x": null,
            "overflow_y": null,
            "padding": null,
            "right": null,
            "top": null,
            "visibility": null,
            "width": null
          }
        },
        "8bcbe051a61a4e71932fedb9aaf64d20": {
          "model_module": "@jupyter-widgets/controls",
          "model_name": "DescriptionStyleModel",
          "model_module_version": "1.5.0",
          "state": {
            "_model_module": "@jupyter-widgets/controls",
            "_model_module_version": "1.5.0",
            "_model_name": "DescriptionStyleModel",
            "_view_count": null,
            "_view_module": "@jupyter-widgets/base",
            "_view_module_version": "1.2.0",
            "_view_name": "StyleView",
            "description_width": ""
          }
        },
        "53e7a4c1e1294bffb1004790adeaef09": {
          "model_module": "@jupyter-widgets/controls",
          "model_name": "HBoxModel",
          "model_module_version": "1.5.0",
          "state": {
            "_dom_classes": [],
            "_model_module": "@jupyter-widgets/controls",
            "_model_module_version": "1.5.0",
            "_model_name": "HBoxModel",
            "_view_count": null,
            "_view_module": "@jupyter-widgets/controls",
            "_view_module_version": "1.5.0",
            "_view_name": "HBoxView",
            "box_style": "",
            "children": [
              "IPY_MODEL_ca5cf437f17a4c47a831aaa19570ebc7",
              "IPY_MODEL_c8b369bb6ff849e0af0183f31db61b80",
              "IPY_MODEL_793eeb203a9548cb83ba21c15ce96dc4"
            ],
            "layout": "IPY_MODEL_2a39359ede72483c92691cda1adb731f"
          }
        },
        "ca5cf437f17a4c47a831aaa19570ebc7": {
          "model_module": "@jupyter-widgets/controls",
          "model_name": "HTMLModel",
          "model_module_version": "1.5.0",
          "state": {
            "_dom_classes": [],
            "_model_module": "@jupyter-widgets/controls",
            "_model_module_version": "1.5.0",
            "_model_name": "HTMLModel",
            "_view_count": null,
            "_view_module": "@jupyter-widgets/controls",
            "_view_module_version": "1.5.0",
            "_view_name": "HTMLView",
            "description": "",
            "description_tooltip": null,
            "layout": "IPY_MODEL_7fa79442782144b7a15e716b9cf43a70",
            "placeholder": "​",
            "style": "IPY_MODEL_0dd5c144f0784b608136365f9d4f60e6",
            "value": "Downloading (…)olve/main/merges.txt: 100%"
          }
        },
        "c8b369bb6ff849e0af0183f31db61b80": {
          "model_module": "@jupyter-widgets/controls",
          "model_name": "FloatProgressModel",
          "model_module_version": "1.5.0",
          "state": {
            "_dom_classes": [],
            "_model_module": "@jupyter-widgets/controls",
            "_model_module_version": "1.5.0",
            "_model_name": "FloatProgressModel",
            "_view_count": null,
            "_view_module": "@jupyter-widgets/controls",
            "_view_module_version": "1.5.0",
            "_view_name": "ProgressView",
            "bar_style": "success",
            "description": "",
            "description_tooltip": null,
            "layout": "IPY_MODEL_93efc628c677413994ca30c0ce2e7d0c",
            "max": 456318,
            "min": 0,
            "orientation": "horizontal",
            "style": "IPY_MODEL_c049b8cedcc34af69aa97a691b5c14b5",
            "value": 456318
          }
        },
        "793eeb203a9548cb83ba21c15ce96dc4": {
          "model_module": "@jupyter-widgets/controls",
          "model_name": "HTMLModel",
          "model_module_version": "1.5.0",
          "state": {
            "_dom_classes": [],
            "_model_module": "@jupyter-widgets/controls",
            "_model_module_version": "1.5.0",
            "_model_name": "HTMLModel",
            "_view_count": null,
            "_view_module": "@jupyter-widgets/controls",
            "_view_module_version": "1.5.0",
            "_view_name": "HTMLView",
            "description": "",
            "description_tooltip": null,
            "layout": "IPY_MODEL_31d7015090a947eeadbcfbb635460940",
            "placeholder": "​",
            "style": "IPY_MODEL_30fc87cb5f4b4acf87adeb1a9c562288",
            "value": " 456k/456k [00:00&lt;00:00, 3.57MB/s]"
          }
        },
        "2a39359ede72483c92691cda1adb731f": {
          "model_module": "@jupyter-widgets/base",
          "model_name": "LayoutModel",
          "model_module_version": "1.2.0",
          "state": {
            "_model_module": "@jupyter-widgets/base",
            "_model_module_version": "1.2.0",
            "_model_name": "LayoutModel",
            "_view_count": null,
            "_view_module": "@jupyter-widgets/base",
            "_view_module_version": "1.2.0",
            "_view_name": "LayoutView",
            "align_content": null,
            "align_items": null,
            "align_self": null,
            "border": null,
            "bottom": null,
            "display": null,
            "flex": null,
            "flex_flow": null,
            "grid_area": null,
            "grid_auto_columns": null,
            "grid_auto_flow": null,
            "grid_auto_rows": null,
            "grid_column": null,
            "grid_gap": null,
            "grid_row": null,
            "grid_template_areas": null,
            "grid_template_columns": null,
            "grid_template_rows": null,
            "height": null,
            "justify_content": null,
            "justify_items": null,
            "left": null,
            "margin": null,
            "max_height": null,
            "max_width": null,
            "min_height": null,
            "min_width": null,
            "object_fit": null,
            "object_position": null,
            "order": null,
            "overflow": null,
            "overflow_x": null,
            "overflow_y": null,
            "padding": null,
            "right": null,
            "top": null,
            "visibility": null,
            "width": null
          }
        },
        "7fa79442782144b7a15e716b9cf43a70": {
          "model_module": "@jupyter-widgets/base",
          "model_name": "LayoutModel",
          "model_module_version": "1.2.0",
          "state": {
            "_model_module": "@jupyter-widgets/base",
            "_model_module_version": "1.2.0",
            "_model_name": "LayoutModel",
            "_view_count": null,
            "_view_module": "@jupyter-widgets/base",
            "_view_module_version": "1.2.0",
            "_view_name": "LayoutView",
            "align_content": null,
            "align_items": null,
            "align_self": null,
            "border": null,
            "bottom": null,
            "display": null,
            "flex": null,
            "flex_flow": null,
            "grid_area": null,
            "grid_auto_columns": null,
            "grid_auto_flow": null,
            "grid_auto_rows": null,
            "grid_column": null,
            "grid_gap": null,
            "grid_row": null,
            "grid_template_areas": null,
            "grid_template_columns": null,
            "grid_template_rows": null,
            "height": null,
            "justify_content": null,
            "justify_items": null,
            "left": null,
            "margin": null,
            "max_height": null,
            "max_width": null,
            "min_height": null,
            "min_width": null,
            "object_fit": null,
            "object_position": null,
            "order": null,
            "overflow": null,
            "overflow_x": null,
            "overflow_y": null,
            "padding": null,
            "right": null,
            "top": null,
            "visibility": null,
            "width": null
          }
        },
        "0dd5c144f0784b608136365f9d4f60e6": {
          "model_module": "@jupyter-widgets/controls",
          "model_name": "DescriptionStyleModel",
          "model_module_version": "1.5.0",
          "state": {
            "_model_module": "@jupyter-widgets/controls",
            "_model_module_version": "1.5.0",
            "_model_name": "DescriptionStyleModel",
            "_view_count": null,
            "_view_module": "@jupyter-widgets/base",
            "_view_module_version": "1.2.0",
            "_view_name": "StyleView",
            "description_width": ""
          }
        },
        "93efc628c677413994ca30c0ce2e7d0c": {
          "model_module": "@jupyter-widgets/base",
          "model_name": "LayoutModel",
          "model_module_version": "1.2.0",
          "state": {
            "_model_module": "@jupyter-widgets/base",
            "_model_module_version": "1.2.0",
            "_model_name": "LayoutModel",
            "_view_count": null,
            "_view_module": "@jupyter-widgets/base",
            "_view_module_version": "1.2.0",
            "_view_name": "LayoutView",
            "align_content": null,
            "align_items": null,
            "align_self": null,
            "border": null,
            "bottom": null,
            "display": null,
            "flex": null,
            "flex_flow": null,
            "grid_area": null,
            "grid_auto_columns": null,
            "grid_auto_flow": null,
            "grid_auto_rows": null,
            "grid_column": null,
            "grid_gap": null,
            "grid_row": null,
            "grid_template_areas": null,
            "grid_template_columns": null,
            "grid_template_rows": null,
            "height": null,
            "justify_content": null,
            "justify_items": null,
            "left": null,
            "margin": null,
            "max_height": null,
            "max_width": null,
            "min_height": null,
            "min_width": null,
            "object_fit": null,
            "object_position": null,
            "order": null,
            "overflow": null,
            "overflow_x": null,
            "overflow_y": null,
            "padding": null,
            "right": null,
            "top": null,
            "visibility": null,
            "width": null
          }
        },
        "c049b8cedcc34af69aa97a691b5c14b5": {
          "model_module": "@jupyter-widgets/controls",
          "model_name": "ProgressStyleModel",
          "model_module_version": "1.5.0",
          "state": {
            "_model_module": "@jupyter-widgets/controls",
            "_model_module_version": "1.5.0",
            "_model_name": "ProgressStyleModel",
            "_view_count": null,
            "_view_module": "@jupyter-widgets/base",
            "_view_module_version": "1.2.0",
            "_view_name": "StyleView",
            "bar_color": null,
            "description_width": ""
          }
        },
        "31d7015090a947eeadbcfbb635460940": {
          "model_module": "@jupyter-widgets/base",
          "model_name": "LayoutModel",
          "model_module_version": "1.2.0",
          "state": {
            "_model_module": "@jupyter-widgets/base",
            "_model_module_version": "1.2.0",
            "_model_name": "LayoutModel",
            "_view_count": null,
            "_view_module": "@jupyter-widgets/base",
            "_view_module_version": "1.2.0",
            "_view_name": "LayoutView",
            "align_content": null,
            "align_items": null,
            "align_self": null,
            "border": null,
            "bottom": null,
            "display": null,
            "flex": null,
            "flex_flow": null,
            "grid_area": null,
            "grid_auto_columns": null,
            "grid_auto_flow": null,
            "grid_auto_rows": null,
            "grid_column": null,
            "grid_gap": null,
            "grid_row": null,
            "grid_template_areas": null,
            "grid_template_columns": null,
            "grid_template_rows": null,
            "height": null,
            "justify_content": null,
            "justify_items": null,
            "left": null,
            "margin": null,
            "max_height": null,
            "max_width": null,
            "min_height": null,
            "min_width": null,
            "object_fit": null,
            "object_position": null,
            "order": null,
            "overflow": null,
            "overflow_x": null,
            "overflow_y": null,
            "padding": null,
            "right": null,
            "top": null,
            "visibility": null,
            "width": null
          }
        },
        "30fc87cb5f4b4acf87adeb1a9c562288": {
          "model_module": "@jupyter-widgets/controls",
          "model_name": "DescriptionStyleModel",
          "model_module_version": "1.5.0",
          "state": {
            "_model_module": "@jupyter-widgets/controls",
            "_model_module_version": "1.5.0",
            "_model_name": "DescriptionStyleModel",
            "_view_count": null,
            "_view_module": "@jupyter-widgets/base",
            "_view_module_version": "1.2.0",
            "_view_name": "StyleView",
            "description_width": ""
          }
        },
        "ff9ae43ec87d4f319c93dbba8297f4a7": {
          "model_module": "@jupyter-widgets/controls",
          "model_name": "HBoxModel",
          "model_module_version": "1.5.0",
          "state": {
            "_dom_classes": [],
            "_model_module": "@jupyter-widgets/controls",
            "_model_module_version": "1.5.0",
            "_model_name": "HBoxModel",
            "_view_count": null,
            "_view_module": "@jupyter-widgets/controls",
            "_view_module_version": "1.5.0",
            "_view_name": "HBoxView",
            "box_style": "",
            "children": [
              "IPY_MODEL_cf86bdca9a974da982a4e7c0a4530b54",
              "IPY_MODEL_aad5a92da48f427282d22e7d67607191",
              "IPY_MODEL_fa50f568bae649489b93ddec13ee1836"
            ],
            "layout": "IPY_MODEL_0ec508b85c2c431db136ab45679f3401"
          }
        },
        "cf86bdca9a974da982a4e7c0a4530b54": {
          "model_module": "@jupyter-widgets/controls",
          "model_name": "HTMLModel",
          "model_module_version": "1.5.0",
          "state": {
            "_dom_classes": [],
            "_model_module": "@jupyter-widgets/controls",
            "_model_module_version": "1.5.0",
            "_model_name": "HTMLModel",
            "_view_count": null,
            "_view_module": "@jupyter-widgets/controls",
            "_view_module_version": "1.5.0",
            "_view_name": "HTMLView",
            "description": "",
            "description_tooltip": null,
            "layout": "IPY_MODEL_dd93246fba6b42649a36ccecd4896cb1",
            "placeholder": "​",
            "style": "IPY_MODEL_ecb0b048a4fe40e8a735f46ff59aae48",
            "value": "Downloading (…)/main/tokenizer.json: 100%"
          }
        },
        "aad5a92da48f427282d22e7d67607191": {
          "model_module": "@jupyter-widgets/controls",
          "model_name": "FloatProgressModel",
          "model_module_version": "1.5.0",
          "state": {
            "_dom_classes": [],
            "_model_module": "@jupyter-widgets/controls",
            "_model_module_version": "1.5.0",
            "_model_name": "FloatProgressModel",
            "_view_count": null,
            "_view_module": "@jupyter-widgets/controls",
            "_view_module_version": "1.5.0",
            "_view_name": "ProgressView",
            "bar_style": "success",
            "description": "",
            "description_tooltip": null,
            "layout": "IPY_MODEL_8f946c8c6a334ea6bd6fcfa64189cc1d",
            "max": 1355863,
            "min": 0,
            "orientation": "horizontal",
            "style": "IPY_MODEL_6b4849a9f7764644b399d95581265ec1",
            "value": 1355863
          }
        },
        "fa50f568bae649489b93ddec13ee1836": {
          "model_module": "@jupyter-widgets/controls",
          "model_name": "HTMLModel",
          "model_module_version": "1.5.0",
          "state": {
            "_dom_classes": [],
            "_model_module": "@jupyter-widgets/controls",
            "_model_module_version": "1.5.0",
            "_model_name": "HTMLModel",
            "_view_count": null,
            "_view_module": "@jupyter-widgets/controls",
            "_view_module_version": "1.5.0",
            "_view_name": "HTMLView",
            "description": "",
            "description_tooltip": null,
            "layout": "IPY_MODEL_8e147af1588a413b86dea71e2346bf3c",
            "placeholder": "​",
            "style": "IPY_MODEL_2ca878a46efb4ef69435b7e1058bc47e",
            "value": " 1.36M/1.36M [00:00&lt;00:00, 10.1MB/s]"
          }
        },
        "0ec508b85c2c431db136ab45679f3401": {
          "model_module": "@jupyter-widgets/base",
          "model_name": "LayoutModel",
          "model_module_version": "1.2.0",
          "state": {
            "_model_module": "@jupyter-widgets/base",
            "_model_module_version": "1.2.0",
            "_model_name": "LayoutModel",
            "_view_count": null,
            "_view_module": "@jupyter-widgets/base",
            "_view_module_version": "1.2.0",
            "_view_name": "LayoutView",
            "align_content": null,
            "align_items": null,
            "align_self": null,
            "border": null,
            "bottom": null,
            "display": null,
            "flex": null,
            "flex_flow": null,
            "grid_area": null,
            "grid_auto_columns": null,
            "grid_auto_flow": null,
            "grid_auto_rows": null,
            "grid_column": null,
            "grid_gap": null,
            "grid_row": null,
            "grid_template_areas": null,
            "grid_template_columns": null,
            "grid_template_rows": null,
            "height": null,
            "justify_content": null,
            "justify_items": null,
            "left": null,
            "margin": null,
            "max_height": null,
            "max_width": null,
            "min_height": null,
            "min_width": null,
            "object_fit": null,
            "object_position": null,
            "order": null,
            "overflow": null,
            "overflow_x": null,
            "overflow_y": null,
            "padding": null,
            "right": null,
            "top": null,
            "visibility": null,
            "width": null
          }
        },
        "dd93246fba6b42649a36ccecd4896cb1": {
          "model_module": "@jupyter-widgets/base",
          "model_name": "LayoutModel",
          "model_module_version": "1.2.0",
          "state": {
            "_model_module": "@jupyter-widgets/base",
            "_model_module_version": "1.2.0",
            "_model_name": "LayoutModel",
            "_view_count": null,
            "_view_module": "@jupyter-widgets/base",
            "_view_module_version": "1.2.0",
            "_view_name": "LayoutView",
            "align_content": null,
            "align_items": null,
            "align_self": null,
            "border": null,
            "bottom": null,
            "display": null,
            "flex": null,
            "flex_flow": null,
            "grid_area": null,
            "grid_auto_columns": null,
            "grid_auto_flow": null,
            "grid_auto_rows": null,
            "grid_column": null,
            "grid_gap": null,
            "grid_row": null,
            "grid_template_areas": null,
            "grid_template_columns": null,
            "grid_template_rows": null,
            "height": null,
            "justify_content": null,
            "justify_items": null,
            "left": null,
            "margin": null,
            "max_height": null,
            "max_width": null,
            "min_height": null,
            "min_width": null,
            "object_fit": null,
            "object_position": null,
            "order": null,
            "overflow": null,
            "overflow_x": null,
            "overflow_y": null,
            "padding": null,
            "right": null,
            "top": null,
            "visibility": null,
            "width": null
          }
        },
        "ecb0b048a4fe40e8a735f46ff59aae48": {
          "model_module": "@jupyter-widgets/controls",
          "model_name": "DescriptionStyleModel",
          "model_module_version": "1.5.0",
          "state": {
            "_model_module": "@jupyter-widgets/controls",
            "_model_module_version": "1.5.0",
            "_model_name": "DescriptionStyleModel",
            "_view_count": null,
            "_view_module": "@jupyter-widgets/base",
            "_view_module_version": "1.2.0",
            "_view_name": "StyleView",
            "description_width": ""
          }
        },
        "8f946c8c6a334ea6bd6fcfa64189cc1d": {
          "model_module": "@jupyter-widgets/base",
          "model_name": "LayoutModel",
          "model_module_version": "1.2.0",
          "state": {
            "_model_module": "@jupyter-widgets/base",
            "_model_module_version": "1.2.0",
            "_model_name": "LayoutModel",
            "_view_count": null,
            "_view_module": "@jupyter-widgets/base",
            "_view_module_version": "1.2.0",
            "_view_name": "LayoutView",
            "align_content": null,
            "align_items": null,
            "align_self": null,
            "border": null,
            "bottom": null,
            "display": null,
            "flex": null,
            "flex_flow": null,
            "grid_area": null,
            "grid_auto_columns": null,
            "grid_auto_flow": null,
            "grid_auto_rows": null,
            "grid_column": null,
            "grid_gap": null,
            "grid_row": null,
            "grid_template_areas": null,
            "grid_template_columns": null,
            "grid_template_rows": null,
            "height": null,
            "justify_content": null,
            "justify_items": null,
            "left": null,
            "margin": null,
            "max_height": null,
            "max_width": null,
            "min_height": null,
            "min_width": null,
            "object_fit": null,
            "object_position": null,
            "order": null,
            "overflow": null,
            "overflow_x": null,
            "overflow_y": null,
            "padding": null,
            "right": null,
            "top": null,
            "visibility": null,
            "width": null
          }
        },
        "6b4849a9f7764644b399d95581265ec1": {
          "model_module": "@jupyter-widgets/controls",
          "model_name": "ProgressStyleModel",
          "model_module_version": "1.5.0",
          "state": {
            "_model_module": "@jupyter-widgets/controls",
            "_model_module_version": "1.5.0",
            "_model_name": "ProgressStyleModel",
            "_view_count": null,
            "_view_module": "@jupyter-widgets/base",
            "_view_module_version": "1.2.0",
            "_view_name": "StyleView",
            "bar_color": null,
            "description_width": ""
          }
        },
        "8e147af1588a413b86dea71e2346bf3c": {
          "model_module": "@jupyter-widgets/base",
          "model_name": "LayoutModel",
          "model_module_version": "1.2.0",
          "state": {
            "_model_module": "@jupyter-widgets/base",
            "_model_module_version": "1.2.0",
            "_model_name": "LayoutModel",
            "_view_count": null,
            "_view_module": "@jupyter-widgets/base",
            "_view_module_version": "1.2.0",
            "_view_name": "LayoutView",
            "align_content": null,
            "align_items": null,
            "align_self": null,
            "border": null,
            "bottom": null,
            "display": null,
            "flex": null,
            "flex_flow": null,
            "grid_area": null,
            "grid_auto_columns": null,
            "grid_auto_flow": null,
            "grid_auto_rows": null,
            "grid_column": null,
            "grid_gap": null,
            "grid_row": null,
            "grid_template_areas": null,
            "grid_template_columns": null,
            "grid_template_rows": null,
            "height": null,
            "justify_content": null,
            "justify_items": null,
            "left": null,
            "margin": null,
            "max_height": null,
            "max_width": null,
            "min_height": null,
            "min_width": null,
            "object_fit": null,
            "object_position": null,
            "order": null,
            "overflow": null,
            "overflow_x": null,
            "overflow_y": null,
            "padding": null,
            "right": null,
            "top": null,
            "visibility": null,
            "width": null
          }
        },
        "2ca878a46efb4ef69435b7e1058bc47e": {
          "model_module": "@jupyter-widgets/controls",
          "model_name": "DescriptionStyleModel",
          "model_module_version": "1.5.0",
          "state": {
            "_model_module": "@jupyter-widgets/controls",
            "_model_module_version": "1.5.0",
            "_model_name": "DescriptionStyleModel",
            "_view_count": null,
            "_view_module": "@jupyter-widgets/base",
            "_view_module_version": "1.2.0",
            "_view_name": "StyleView",
            "description_width": ""
          }
        },
        "9c5c5a2351224cba8345be6ec21179d0": {
          "model_module": "@jupyter-widgets/controls",
          "model_name": "HBoxModel",
          "model_module_version": "1.5.0",
          "state": {
            "_dom_classes": [],
            "_model_module": "@jupyter-widgets/controls",
            "_model_module_version": "1.5.0",
            "_model_name": "HBoxModel",
            "_view_count": null,
            "_view_module": "@jupyter-widgets/controls",
            "_view_module_version": "1.5.0",
            "_view_name": "HBoxView",
            "box_style": "",
            "children": [
              "IPY_MODEL_6fb5880f08d64681be7c9d9ea9fb5d82",
              "IPY_MODEL_a40cc0ad95e94d898b30ca9ca08bb991",
              "IPY_MODEL_d546e1d165cd43bc84d965cbc48b8334"
            ],
            "layout": "IPY_MODEL_047330227d754a0d8340ff25913feaa9"
          }
        },
        "6fb5880f08d64681be7c9d9ea9fb5d82": {
          "model_module": "@jupyter-widgets/controls",
          "model_name": "HTMLModel",
          "model_module_version": "1.5.0",
          "state": {
            "_dom_classes": [],
            "_model_module": "@jupyter-widgets/controls",
            "_model_module_version": "1.5.0",
            "_model_name": "HTMLModel",
            "_view_count": null,
            "_view_module": "@jupyter-widgets/controls",
            "_view_module_version": "1.5.0",
            "_view_name": "HTMLView",
            "description": "",
            "description_tooltip": null,
            "layout": "IPY_MODEL_6d13fd19d51c4d2689c51d6836ffdceb",
            "placeholder": "​",
            "style": "IPY_MODEL_9c874e95b3d84649b41ef0bccca3482a",
            "value": "Downloading model.safetensors: 100%"
          }
        },
        "a40cc0ad95e94d898b30ca9ca08bb991": {
          "model_module": "@jupyter-widgets/controls",
          "model_name": "FloatProgressModel",
          "model_module_version": "1.5.0",
          "state": {
            "_dom_classes": [],
            "_model_module": "@jupyter-widgets/controls",
            "_model_module_version": "1.5.0",
            "_model_name": "FloatProgressModel",
            "_view_count": null,
            "_view_module": "@jupyter-widgets/controls",
            "_view_module_version": "1.5.0",
            "_view_name": "ProgressView",
            "bar_style": "success",
            "description": "",
            "description_tooltip": null,
            "layout": "IPY_MODEL_179b6aeebf0d4c22bcc7d6662579a817",
            "max": 331055963,
            "min": 0,
            "orientation": "horizontal",
            "style": "IPY_MODEL_6f5a0857bf714915912ec5281ea4e91a",
            "value": 331055963
          }
        },
        "d546e1d165cd43bc84d965cbc48b8334": {
          "model_module": "@jupyter-widgets/controls",
          "model_name": "HTMLModel",
          "model_module_version": "1.5.0",
          "state": {
            "_dom_classes": [],
            "_model_module": "@jupyter-widgets/controls",
            "_model_module_version": "1.5.0",
            "_model_name": "HTMLModel",
            "_view_count": null,
            "_view_module": "@jupyter-widgets/controls",
            "_view_module_version": "1.5.0",
            "_view_name": "HTMLView",
            "description": "",
            "description_tooltip": null,
            "layout": "IPY_MODEL_f3d67ae1c4554b008c19152fe6dddff1",
            "placeholder": "​",
            "style": "IPY_MODEL_87476e67ead34a84add937ed3ff75900",
            "value": " 331M/331M [00:03&lt;00:00, 98.9MB/s]"
          }
        },
        "047330227d754a0d8340ff25913feaa9": {
          "model_module": "@jupyter-widgets/base",
          "model_name": "LayoutModel",
          "model_module_version": "1.2.0",
          "state": {
            "_model_module": "@jupyter-widgets/base",
            "_model_module_version": "1.2.0",
            "_model_name": "LayoutModel",
            "_view_count": null,
            "_view_module": "@jupyter-widgets/base",
            "_view_module_version": "1.2.0",
            "_view_name": "LayoutView",
            "align_content": null,
            "align_items": null,
            "align_self": null,
            "border": null,
            "bottom": null,
            "display": null,
            "flex": null,
            "flex_flow": null,
            "grid_area": null,
            "grid_auto_columns": null,
            "grid_auto_flow": null,
            "grid_auto_rows": null,
            "grid_column": null,
            "grid_gap": null,
            "grid_row": null,
            "grid_template_areas": null,
            "grid_template_columns": null,
            "grid_template_rows": null,
            "height": null,
            "justify_content": null,
            "justify_items": null,
            "left": null,
            "margin": null,
            "max_height": null,
            "max_width": null,
            "min_height": null,
            "min_width": null,
            "object_fit": null,
            "object_position": null,
            "order": null,
            "overflow": null,
            "overflow_x": null,
            "overflow_y": null,
            "padding": null,
            "right": null,
            "top": null,
            "visibility": null,
            "width": null
          }
        },
        "6d13fd19d51c4d2689c51d6836ffdceb": {
          "model_module": "@jupyter-widgets/base",
          "model_name": "LayoutModel",
          "model_module_version": "1.2.0",
          "state": {
            "_model_module": "@jupyter-widgets/base",
            "_model_module_version": "1.2.0",
            "_model_name": "LayoutModel",
            "_view_count": null,
            "_view_module": "@jupyter-widgets/base",
            "_view_module_version": "1.2.0",
            "_view_name": "LayoutView",
            "align_content": null,
            "align_items": null,
            "align_self": null,
            "border": null,
            "bottom": null,
            "display": null,
            "flex": null,
            "flex_flow": null,
            "grid_area": null,
            "grid_auto_columns": null,
            "grid_auto_flow": null,
            "grid_auto_rows": null,
            "grid_column": null,
            "grid_gap": null,
            "grid_row": null,
            "grid_template_areas": null,
            "grid_template_columns": null,
            "grid_template_rows": null,
            "height": null,
            "justify_content": null,
            "justify_items": null,
            "left": null,
            "margin": null,
            "max_height": null,
            "max_width": null,
            "min_height": null,
            "min_width": null,
            "object_fit": null,
            "object_position": null,
            "order": null,
            "overflow": null,
            "overflow_x": null,
            "overflow_y": null,
            "padding": null,
            "right": null,
            "top": null,
            "visibility": null,
            "width": null
          }
        },
        "9c874e95b3d84649b41ef0bccca3482a": {
          "model_module": "@jupyter-widgets/controls",
          "model_name": "DescriptionStyleModel",
          "model_module_version": "1.5.0",
          "state": {
            "_model_module": "@jupyter-widgets/controls",
            "_model_module_version": "1.5.0",
            "_model_name": "DescriptionStyleModel",
            "_view_count": null,
            "_view_module": "@jupyter-widgets/base",
            "_view_module_version": "1.2.0",
            "_view_name": "StyleView",
            "description_width": ""
          }
        },
        "179b6aeebf0d4c22bcc7d6662579a817": {
          "model_module": "@jupyter-widgets/base",
          "model_name": "LayoutModel",
          "model_module_version": "1.2.0",
          "state": {
            "_model_module": "@jupyter-widgets/base",
            "_model_module_version": "1.2.0",
            "_model_name": "LayoutModel",
            "_view_count": null,
            "_view_module": "@jupyter-widgets/base",
            "_view_module_version": "1.2.0",
            "_view_name": "LayoutView",
            "align_content": null,
            "align_items": null,
            "align_self": null,
            "border": null,
            "bottom": null,
            "display": null,
            "flex": null,
            "flex_flow": null,
            "grid_area": null,
            "grid_auto_columns": null,
            "grid_auto_flow": null,
            "grid_auto_rows": null,
            "grid_column": null,
            "grid_gap": null,
            "grid_row": null,
            "grid_template_areas": null,
            "grid_template_columns": null,
            "grid_template_rows": null,
            "height": null,
            "justify_content": null,
            "justify_items": null,
            "left": null,
            "margin": null,
            "max_height": null,
            "max_width": null,
            "min_height": null,
            "min_width": null,
            "object_fit": null,
            "object_position": null,
            "order": null,
            "overflow": null,
            "overflow_x": null,
            "overflow_y": null,
            "padding": null,
            "right": null,
            "top": null,
            "visibility": null,
            "width": null
          }
        },
        "6f5a0857bf714915912ec5281ea4e91a": {
          "model_module": "@jupyter-widgets/controls",
          "model_name": "ProgressStyleModel",
          "model_module_version": "1.5.0",
          "state": {
            "_model_module": "@jupyter-widgets/controls",
            "_model_module_version": "1.5.0",
            "_model_name": "ProgressStyleModel",
            "_view_count": null,
            "_view_module": "@jupyter-widgets/base",
            "_view_module_version": "1.2.0",
            "_view_name": "StyleView",
            "bar_color": null,
            "description_width": ""
          }
        },
        "f3d67ae1c4554b008c19152fe6dddff1": {
          "model_module": "@jupyter-widgets/base",
          "model_name": "LayoutModel",
          "model_module_version": "1.2.0",
          "state": {
            "_model_module": "@jupyter-widgets/base",
            "_model_module_version": "1.2.0",
            "_model_name": "LayoutModel",
            "_view_count": null,
            "_view_module": "@jupyter-widgets/base",
            "_view_module_version": "1.2.0",
            "_view_name": "LayoutView",
            "align_content": null,
            "align_items": null,
            "align_self": null,
            "border": null,
            "bottom": null,
            "display": null,
            "flex": null,
            "flex_flow": null,
            "grid_area": null,
            "grid_auto_columns": null,
            "grid_auto_flow": null,
            "grid_auto_rows": null,
            "grid_column": null,
            "grid_gap": null,
            "grid_row": null,
            "grid_template_areas": null,
            "grid_template_columns": null,
            "grid_template_rows": null,
            "height": null,
            "justify_content": null,
            "justify_items": null,
            "left": null,
            "margin": null,
            "max_height": null,
            "max_width": null,
            "min_height": null,
            "min_width": null,
            "object_fit": null,
            "object_position": null,
            "order": null,
            "overflow": null,
            "overflow_x": null,
            "overflow_y": null,
            "padding": null,
            "right": null,
            "top": null,
            "visibility": null,
            "width": null
          }
        },
        "87476e67ead34a84add937ed3ff75900": {
          "model_module": "@jupyter-widgets/controls",
          "model_name": "DescriptionStyleModel",
          "model_module_version": "1.5.0",
          "state": {
            "_model_module": "@jupyter-widgets/controls",
            "_model_module_version": "1.5.0",
            "_model_name": "DescriptionStyleModel",
            "_view_count": null,
            "_view_module": "@jupyter-widgets/base",
            "_view_module_version": "1.2.0",
            "_view_name": "StyleView",
            "description_width": ""
          }
        }
      }
    }
  },
  "cells": [
    {
      "cell_type": "markdown",
      "source": [
        "# Text Classification Blurr"
      ],
      "metadata": {
        "id": "vDK2TFnMBpqF"
      }
    },
    {
      "cell_type": "markdown",
      "source": [
        "## Setting Up Necessary Things"
      ],
      "metadata": {
        "id": "bygDMNZ0Bzso"
      }
    },
    {
      "cell_type": "code",
      "execution_count": 1,
      "metadata": {
        "id": "mB9RpVn_9t-P"
      },
      "outputs": [],
      "source": [
        "# Jupyter Notebook Magic Command - Auto Reloading\n",
        "%reload_ext autoreload\n",
        "%autoreload 2\n",
        "\n",
        "# Jupyter Notebook Magic Command - Inline Plotting\n",
        "%matplotlib inline"
      ]
    },
    {
      "cell_type": "code",
      "source": [
        "# Ignore All Warnings\n",
        "import warnings\n",
        "warnings.filterwarnings(\"ignore\")"
      ],
      "metadata": {
        "id": "kVfV-NQLB4H0"
      },
      "execution_count": 2,
      "outputs": []
    },
    {
      "cell_type": "code",
      "source": [
        "# NVIDIA Status\n",
        "! nvidia-smi"
      ],
      "metadata": {
        "colab": {
          "base_uri": "https://localhost:8080/"
        },
        "id": "qrRzrYw8B5jg",
        "outputId": "8889d32d-f994-449c-f624-cec975f45b02"
      },
      "execution_count": 3,
      "outputs": [
        {
          "output_type": "stream",
          "name": "stdout",
          "text": [
            "Thu Aug 17 12:47:47 2023       \n",
            "+-----------------------------------------------------------------------------+\n",
            "| NVIDIA-SMI 525.105.17   Driver Version: 525.105.17   CUDA Version: 12.0     |\n",
            "|-------------------------------+----------------------+----------------------+\n",
            "| GPU  Name        Persistence-M| Bus-Id        Disp.A | Volatile Uncorr. ECC |\n",
            "| Fan  Temp  Perf  Pwr:Usage/Cap|         Memory-Usage | GPU-Util  Compute M. |\n",
            "|                               |                      |               MIG M. |\n",
            "|===============================+======================+======================|\n",
            "|   0  Tesla T4            Off  | 00000000:00:04.0 Off |                    0 |\n",
            "| N/A   43C    P8     9W /  70W |      0MiB / 15360MiB |      0%      Default |\n",
            "|                               |                      |                  N/A |\n",
            "+-------------------------------+----------------------+----------------------+\n",
            "                                                                               \n",
            "+-----------------------------------------------------------------------------+\n",
            "| Processes:                                                                  |\n",
            "|  GPU   GI   CI        PID   Type   Process name                  GPU Memory |\n",
            "|        ID   ID                                                   Usage      |\n",
            "|=============================================================================|\n",
            "|  No running processes found                                                 |\n",
            "+-----------------------------------------------------------------------------+\n"
          ]
        }
      ]
    },
    {
      "cell_type": "code",
      "source": [
        "from google.colab import drive\n",
        "drive.mount('/content/drive')"
      ],
      "metadata": {
        "colab": {
          "base_uri": "https://localhost:8080/"
        },
        "id": "FiTy63l_B8b6",
        "outputId": "b9c65eff-d870-47ad-86d2-3bf75589eb0a"
      },
      "execution_count": 4,
      "outputs": [
        {
          "output_type": "stream",
          "name": "stdout",
          "text": [
            "Mounted at /content/drive\n"
          ]
        }
      ]
    },
    {
      "cell_type": "code",
      "source": [
        "%cd /content/drive/MyDrive/Colab Notebooks/TC.Video.Game"
      ],
      "metadata": {
        "colab": {
          "base_uri": "https://localhost:8080/"
        },
        "id": "x6SNvC8LB95X",
        "outputId": "20a9ef8b-60ac-456f-d55f-8bf1fb6e2fe0"
      },
      "execution_count": 5,
      "outputs": [
        {
          "output_type": "stream",
          "name": "stdout",
          "text": [
            "/content/drive/MyDrive/Colab Notebooks/TC.Video.Game\n"
          ]
        }
      ]
    },
    {
      "cell_type": "markdown",
      "source": [
        "## Necessary Imports"
      ],
      "metadata": {
        "id": "uUQ5xghYB_zP"
      }
    },
    {
      "cell_type": "code",
      "source": [
        "! pip install -q transformers[sentencepiece] fastbook fastai ohmeow-blurr nbdev"
      ],
      "metadata": {
        "colab": {
          "base_uri": "https://localhost:8080/"
        },
        "id": "_-vqjyZXCAsp",
        "outputId": "122261f9-f550-4f4b-cdf7-41f6d4d45f48"
      },
      "execution_count": 6,
      "outputs": [
        {
          "output_type": "stream",
          "name": "stdout",
          "text": [
            "\u001b[2K     \u001b[90m━━━━━━━━━━━━━━━━━━━━━━━━━━━━━━━━━━━━━━━━\u001b[0m \u001b[32m7.4/7.4 MB\u001b[0m \u001b[31m22.4 MB/s\u001b[0m eta \u001b[36m0:00:00\u001b[0m\n",
            "\u001b[2K     \u001b[90m━━━━━━━━━━━━━━━━━━━━━━━━━━━━━━━━━━━━━━\u001b[0m \u001b[32m719.8/719.8 kB\u001b[0m \u001b[31m40.2 MB/s\u001b[0m eta \u001b[36m0:00:00\u001b[0m\n",
            "\u001b[2K     \u001b[90m━━━━━━━━━━━━━━━━━━━━━━━━━━━━━━━━━━━━━━━━\u001b[0m \u001b[32m81.1/81.1 kB\u001b[0m \u001b[31m10.6 MB/s\u001b[0m eta \u001b[36m0:00:00\u001b[0m\n",
            "\u001b[2K     \u001b[90m━━━━━━━━━━━━━━━━━━━━━━━━━━━━━━━━━━━━━━━━\u001b[0m \u001b[32m64.8/64.8 kB\u001b[0m \u001b[31m8.9 MB/s\u001b[0m eta \u001b[36m0:00:00\u001b[0m\n",
            "\u001b[2K     \u001b[90m━━━━━━━━━━━━━━━━━━━━━━━━━━━━━━━━━━━━━━\u001b[0m \u001b[32m268.8/268.8 kB\u001b[0m \u001b[31m32.1 MB/s\u001b[0m eta \u001b[36m0:00:00\u001b[0m\n",
            "\u001b[2K     \u001b[90m━━━━━━━━━━━━━━━━━━━━━━━━━━━━━━━━━━━━━━━━\u001b[0m \u001b[32m7.8/7.8 MB\u001b[0m \u001b[31m65.3 MB/s\u001b[0m eta \u001b[36m0:00:00\u001b[0m\n",
            "\u001b[2K     \u001b[90m━━━━━━━━━━━━━━━━━━━━━━━━━━━━━━━━━━━━━━━━\u001b[0m \u001b[32m1.3/1.3 MB\u001b[0m \u001b[31m57.4 MB/s\u001b[0m eta \u001b[36m0:00:00\u001b[0m\n",
            "\u001b[2K     \u001b[90m━━━━━━━━━━━━━━━━━━━━━━━━━━━━━━━━━━━━━━━━\u001b[0m \u001b[32m1.3/1.3 MB\u001b[0m \u001b[31m74.6 MB/s\u001b[0m eta \u001b[36m0:00:00\u001b[0m\n",
            "\u001b[2K     \u001b[90m━━━━━━━━━━━━━━━━━━━━━━━━━━━━━━━━━━━━━━\u001b[0m \u001b[32m519.3/519.3 kB\u001b[0m \u001b[31m54.3 MB/s\u001b[0m eta \u001b[36m0:00:00\u001b[0m\n",
            "\u001b[2K     \u001b[90m━━━━━━━━━━━━━━━━━━━━━━━━━━━━━━━━━━━━━━━\u001b[0m \u001b[32m887.5/887.5 MB\u001b[0m \u001b[31m1.7 MB/s\u001b[0m eta \u001b[36m0:00:00\u001b[0m\n",
            "\u001b[2K     \u001b[90m━━━━━━━━━━━━━━━━━━━━━━━━━━━━━━━━━━━━━━━━\u001b[0m \u001b[32m43.6/43.6 kB\u001b[0m \u001b[31m4.1 MB/s\u001b[0m eta \u001b[36m0:00:00\u001b[0m\n",
            "\u001b[?25h  Preparing metadata (setup.py) ... \u001b[?25l\u001b[?25hdone\n",
            "  Preparing metadata (setup.py) ... \u001b[?25l\u001b[?25hdone\n",
            "\u001b[2K     \u001b[90m━━━━━━━━━━━━━━━━━━━━━━━━━━━━━━━━━━━━━━━━\u001b[0m \u001b[32m58.7/58.7 kB\u001b[0m \u001b[31m8.1 MB/s\u001b[0m eta \u001b[36m0:00:00\u001b[0m\n",
            "\u001b[2K     \u001b[90m━━━━━━━━━━━━━━━━━━━━━━━━━━━━━━━━━━━━━━━━\u001b[0m \u001b[32m82.1/82.1 kB\u001b[0m \u001b[31m12.1 MB/s\u001b[0m eta \u001b[36m0:00:00\u001b[0m\n",
            "\u001b[2K     \u001b[90m━━━━━━━━━━━━━━━━━━━━━━━━━━━━━━━━━━━━━━\u001b[0m \u001b[32m849.3/849.3 kB\u001b[0m \u001b[31m56.4 MB/s\u001b[0m eta \u001b[36m0:00:00\u001b[0m\n",
            "\u001b[2K     \u001b[90m━━━━━━━━━━━━━━━━━━━━━━━━━━━━━━━━━━━━━━━\u001b[0m \u001b[32m557.1/557.1 MB\u001b[0m \u001b[31m1.9 MB/s\u001b[0m eta \u001b[36m0:00:00\u001b[0m\n",
            "\u001b[2K     \u001b[90m━━━━━━━━━━━━━━━━━━━━━━━━━━━━━━━━━━━━━━━\u001b[0m \u001b[32m317.1/317.1 MB\u001b[0m \u001b[31m4.3 MB/s\u001b[0m eta \u001b[36m0:00:00\u001b[0m\n",
            "\u001b[2K     \u001b[90m━━━━━━━━━━━━━━━━━━━━━━━━━━━━━━━━━━━━━━━━\u001b[0m \u001b[32m21.0/21.0 MB\u001b[0m \u001b[31m78.1 MB/s\u001b[0m eta \u001b[36m0:00:00\u001b[0m\n",
            "\u001b[2K     \u001b[90m━━━━━━━━━━━━━━━━━━━━━━━━━━━━━━━━━━━━━━━━\u001b[0m \u001b[32m6.0/6.0 MB\u001b[0m \u001b[31m103.4 MB/s\u001b[0m eta \u001b[36m0:00:00\u001b[0m\n",
            "\u001b[2K     \u001b[90m━━━━━━━━━━━━━━━━━━━━━━━━━━━━━━━━━━━━━━━━\u001b[0m \u001b[32m6.0/6.0 MB\u001b[0m \u001b[31m122.9 MB/s\u001b[0m eta \u001b[36m0:00:00\u001b[0m\n",
            "\u001b[2K     \u001b[90m━━━━━━━━━━━━━━━━━━━━━━━━━━━━━━━━━━━━━━━━\u001b[0m \u001b[32m24.2/24.2 MB\u001b[0m \u001b[31m73.6 MB/s\u001b[0m eta \u001b[36m0:00:00\u001b[0m\n",
            "\u001b[2K     \u001b[90m━━━━━━━━━━━━━━━━━━━━━━━━━━━━━━━━━━━━━━\u001b[0m \u001b[32m115.3/115.3 kB\u001b[0m \u001b[31m15.0 MB/s\u001b[0m eta \u001b[36m0:00:00\u001b[0m\n",
            "\u001b[2K     \u001b[90m━━━━━━━━━━━━━━━━━━━━━━━━━━━━━━━━━━━━━━\u001b[0m \u001b[32m194.1/194.1 kB\u001b[0m \u001b[31m22.1 MB/s\u001b[0m eta \u001b[36m0:00:00\u001b[0m\n",
            "\u001b[2K     \u001b[90m━━━━━━━━━━━━━━━━━━━━━━━━━━━━━━━━━━━━━━\u001b[0m \u001b[32m134.8/134.8 kB\u001b[0m \u001b[31m18.4 MB/s\u001b[0m eta \u001b[36m0:00:00\u001b[0m\n",
            "\u001b[2K     \u001b[90m━━━━━━━━━━━━━━━━━━━━━━━━━━━━━━━━━━━━━━━━\u001b[0m \u001b[32m1.6/1.6 MB\u001b[0m \u001b[31m97.6 MB/s\u001b[0m eta \u001b[36m0:00:00\u001b[0m\n",
            "\u001b[?25h  Building wheel for rouge-score (setup.py) ... \u001b[?25l\u001b[?25hdone\n",
            "  Building wheel for seqeval (setup.py) ... \u001b[?25l\u001b[?25hdone\n",
            "\u001b[31mERROR: pip's dependency resolver does not currently take into account all the packages that are installed. This behaviour is the source of the following dependency conflicts.\n",
            "torchaudio 2.0.2+cu118 requires torch==2.0.1, but you have torch 1.13.1 which is incompatible.\n",
            "torchdata 0.6.1 requires torch==2.0.1, but you have torch 1.13.1 which is incompatible.\n",
            "torchtext 0.15.2 requires torch==2.0.1, but you have torch 1.13.1 which is incompatible.\u001b[0m\u001b[31m\n",
            "\u001b[0m"
          ]
        }
      ]
    },
    {
      "cell_type": "code",
      "source": [
        "import torch\n",
        "\n",
        "from transformers import AutoModelForSequenceClassification, AutoConfig\n",
        "\n",
        "from fastai.text.all import *\n",
        "\n",
        "from blurr.text.data.all import *\n",
        "from blurr.text.modeling.all import *"
      ],
      "metadata": {
        "colab": {
          "base_uri": "https://localhost:8080/",
          "height": 0,
          "referenced_widgets": [
            "435de68e6277450a9b84033806338b26",
            "2bdda0f67dcd4b17b1a5da3975dd2e24",
            "f8c1fc8c082b4bba9c3a226588e1d9c3",
            "8b7541430aeb4bf68cb26401baf87082",
            "0d1717479b2040acb78dec6a042733d8",
            "0937573789494a6395aab4056b0aacd9",
            "20f3f44fbffb40ce9a74ab7501d48c59",
            "78fadddf658245c1b46bc044151d961f",
            "3393da58fab94f01971b5ef0c40ad67f",
            "a4c59501569748a9ba6b8cf32f13d436",
            "59b46fca88eb4c52bfe9d78288c563c0",
            "6a657e40d7ba42ff9b0f4dd6084c1999",
            "1635ed128d814f909e4c5bed4c042227",
            "49c94db2d1b74e92aa104798074e2e92",
            "a6cf4f6ad24741f9873b4fdd06288039",
            "61466f8a17de453cbfb80c7a1b04f5ef",
            "1ac45b8035d64967a60b0a11a20aeea0",
            "9e920b53a4ac482992f2bba6df1dc565",
            "8c705fee51ae4068a6f37415c4a272ec",
            "f132529f6ecb4fc09a804ccce49a6e81",
            "8c55cfcee5bc4a09b0a52ef8287a9beb",
            "10a9382f5f5f43029b8048659315b3a5"
          ]
        },
        "id": "S66yx1ZqCRCy",
        "outputId": "f7690339-3e42-44ea-d04c-931b2b250ce6"
      },
      "execution_count": 7,
      "outputs": [
        {
          "output_type": "display_data",
          "data": {
            "text/plain": [
              "Downloading builder script:   0%|          | 0.00/1.72k [00:00<?, ?B/s]"
            ],
            "application/vnd.jupyter.widget-view+json": {
              "version_major": 2,
              "version_minor": 0,
              "model_id": "435de68e6277450a9b84033806338b26"
            }
          },
          "metadata": {}
        },
        {
          "output_type": "display_data",
          "data": {
            "text/plain": [
              "Downloading extra modules:   0%|          | 0.00/1.11k [00:00<?, ?B/s]"
            ],
            "application/vnd.jupyter.widget-view+json": {
              "version_major": 2,
              "version_minor": 0,
              "model_id": "6a657e40d7ba42ff9b0f4dd6084c1999"
            }
          },
          "metadata": {}
        }
      ]
    },
    {
      "cell_type": "markdown",
      "source": [
        "## Data Cleaning"
      ],
      "metadata": {
        "id": "oRiKOPG9CwAJ"
      }
    },
    {
      "cell_type": "code",
      "source": [
        "# Load Data Into DataFrame\n",
        "df = pd.read_csv(\"data/raw_data/game_details.csv\")\n",
        "df.head()"
      ],
      "metadata": {
        "colab": {
          "base_uri": "https://localhost:8080/",
          "height": 0
        },
        "id": "juhxDfkQCwVR",
        "outputId": "aab35485-d3aa-4bc1-aa98-49c606beda83"
      },
      "execution_count": 8,
      "outputs": [
        {
          "output_type": "execute_result",
          "data": {
            "text/plain": [
              "                                   Name  \\\n",
              "0  The Legend of Zelda: Ocarina of Time   \n",
              "1              Tony Hawk's Pro Skater 2   \n",
              "2                   Grand Theft Auto IV   \n",
              "3                           SoulCalibur   \n",
              "4                   Grand Theft Auto IV   \n",
              "\n",
              "                                                                                                                                                                                                                                                                                                                                                                                                                                                                                                                                                                                                                   Summary  \\\n",
              "0                                                                                                                                                                                                 As a young boy, Link is tricked by Ganondorf, the King of the Gerudo Thieves. The evil human uses Link to gain access to the Sacred Realm, where he places his tainted hands on Triforce and transforms the beautiful Hyrulean landscape into a barren wasteland. Link is determined to fix the problems he helped to create, so with the help of Rauru he travels through time gathering the powers of the Seven Sages.   \n",
              "1                                                                                                                                                                                                                                                                                                                                                                                                                As most major publishers' development efforts shift to any number of next-generation platforms, Tony Hawk 2 will likely stand as one of the last truly fantastic games to be released on the PlayStation.   \n",
              "2  [Metacritic's 2008 PS3 Game of the Year; Also known as \"GTA IV\"] What does the American Dream mean today? For Niko Belic, fresh off the boat from Europe. It's the hope he can escape his past. For his cousin, Roman, it is the vision that together they can find fortune in Liberty City, gateway to the land of opportunity. As they slip into debt and are dragged into a criminal underworld by a series of shysters, thieves and sociopaths, they discover that the reality is very different from the dream in a city that worships money and status, and is heaven for those who have them an a living nigh...   \n",
              "3                                                                                                                                                                                                                                                                                                                     This is a tale of souls and swords, transcending the world and all its history, told for all eternity... The greatest weapons-based fighter returns, this time on Sega Dreamcast. Soul Calibur unleashes incredible graphics, fantastic fighters, and combos so amazing they'll make your head spin!   \n",
              "4  [Metacritic's 2008 Xbox 360 Game of the Year; Also known as \"GTA IV\"] What does the American Dream mean today? For Niko Belic, fresh off the boat from Europe. It's the hope he can escape his past. For his cousin, Roman, it is the vision that together they can find fortune in Liberty City, gateway to the land of opportunity. As they slip into debt and are dragged into a criminal underworld by a series of shysters, thieves and sociopaths, they discover that the reality is very different from the dream in a city that worships money and status, and is heaven for those who have them an a living...   \n",
              "\n",
              "                                                   Genres  \n",
              "0                         ['Action Adventure', 'Fantasy']  \n",
              "1              ['Sports', 'Alternative', 'Skateboarding']  \n",
              "2  ['Action Adventure', 'Modern', 'Modern', 'Open-World']  \n",
              "3                            ['Action', 'Fighting', '3D']  \n",
              "4  ['Action Adventure', 'Modern', 'Modern', 'Open-World']  "
            ],
            "text/html": [
              "\n",
              "\n",
              "  <div id=\"df-14eac0c9-3278-48a4-8a2b-73ba385d71ea\">\n",
              "    <div class=\"colab-df-container\">\n",
              "      <div>\n",
              "<style scoped>\n",
              "    .dataframe tbody tr th:only-of-type {\n",
              "        vertical-align: middle;\n",
              "    }\n",
              "\n",
              "    .dataframe tbody tr th {\n",
              "        vertical-align: top;\n",
              "    }\n",
              "\n",
              "    .dataframe thead th {\n",
              "        text-align: right;\n",
              "    }\n",
              "</style>\n",
              "<table border=\"1\" class=\"dataframe\">\n",
              "  <thead>\n",
              "    <tr style=\"text-align: right;\">\n",
              "      <th></th>\n",
              "      <th>Name</th>\n",
              "      <th>Summary</th>\n",
              "      <th>Genres</th>\n",
              "    </tr>\n",
              "  </thead>\n",
              "  <tbody>\n",
              "    <tr>\n",
              "      <th>0</th>\n",
              "      <td>The Legend of Zelda: Ocarina of Time</td>\n",
              "      <td>As a young boy, Link is tricked by Ganondorf, the King of the Gerudo Thieves. The evil human uses Link to gain access to the Sacred Realm, where he places his tainted hands on Triforce and transforms the beautiful Hyrulean landscape into a barren wasteland. Link is determined to fix the problems he helped to create, so with the help of Rauru he travels through time gathering the powers of the Seven Sages.</td>\n",
              "      <td>['Action Adventure', 'Fantasy']</td>\n",
              "    </tr>\n",
              "    <tr>\n",
              "      <th>1</th>\n",
              "      <td>Tony Hawk's Pro Skater 2</td>\n",
              "      <td>As most major publishers' development efforts shift to any number of next-generation platforms, Tony Hawk 2 will likely stand as one of the last truly fantastic games to be released on the PlayStation.</td>\n",
              "      <td>['Sports', 'Alternative', 'Skateboarding']</td>\n",
              "    </tr>\n",
              "    <tr>\n",
              "      <th>2</th>\n",
              "      <td>Grand Theft Auto IV</td>\n",
              "      <td>[Metacritic's 2008 PS3 Game of the Year; Also known as \"GTA IV\"] What does the American Dream mean today? For Niko Belic, fresh off the boat from Europe. It's the hope he can escape his past. For his cousin, Roman, it is the vision that together they can find fortune in Liberty City, gateway to the land of opportunity. As they slip into debt and are dragged into a criminal underworld by a series of shysters, thieves and sociopaths, they discover that the reality is very different from the dream in a city that worships money and status, and is heaven for those who have them an a living nigh...</td>\n",
              "      <td>['Action Adventure', 'Modern', 'Modern', 'Open-World']</td>\n",
              "    </tr>\n",
              "    <tr>\n",
              "      <th>3</th>\n",
              "      <td>SoulCalibur</td>\n",
              "      <td>This is a tale of souls and swords, transcending the world and all its history, told for all eternity... The greatest weapons-based fighter returns, this time on Sega Dreamcast. Soul Calibur unleashes incredible graphics, fantastic fighters, and combos so amazing they'll make your head spin!</td>\n",
              "      <td>['Action', 'Fighting', '3D']</td>\n",
              "    </tr>\n",
              "    <tr>\n",
              "      <th>4</th>\n",
              "      <td>Grand Theft Auto IV</td>\n",
              "      <td>[Metacritic's 2008 Xbox 360 Game of the Year; Also known as \"GTA IV\"] What does the American Dream mean today? For Niko Belic, fresh off the boat from Europe. It's the hope he can escape his past. For his cousin, Roman, it is the vision that together they can find fortune in Liberty City, gateway to the land of opportunity. As they slip into debt and are dragged into a criminal underworld by a series of shysters, thieves and sociopaths, they discover that the reality is very different from the dream in a city that worships money and status, and is heaven for those who have them an a living...</td>\n",
              "      <td>['Action Adventure', 'Modern', 'Modern', 'Open-World']</td>\n",
              "    </tr>\n",
              "  </tbody>\n",
              "</table>\n",
              "</div>\n",
              "      <button class=\"colab-df-convert\" onclick=\"convertToInteractive('df-14eac0c9-3278-48a4-8a2b-73ba385d71ea')\"\n",
              "              title=\"Convert this dataframe to an interactive table.\"\n",
              "              style=\"display:none;\">\n",
              "\n",
              "  <svg xmlns=\"http://www.w3.org/2000/svg\" height=\"24px\"viewBox=\"0 0 24 24\"\n",
              "       width=\"24px\">\n",
              "    <path d=\"M0 0h24v24H0V0z\" fill=\"none\"/>\n",
              "    <path d=\"M18.56 5.44l.94 2.06.94-2.06 2.06-.94-2.06-.94-.94-2.06-.94 2.06-2.06.94zm-11 1L8.5 8.5l.94-2.06 2.06-.94-2.06-.94L8.5 2.5l-.94 2.06-2.06.94zm10 10l.94 2.06.94-2.06 2.06-.94-2.06-.94-.94-2.06-.94 2.06-2.06.94z\"/><path d=\"M17.41 7.96l-1.37-1.37c-.4-.4-.92-.59-1.43-.59-.52 0-1.04.2-1.43.59L10.3 9.45l-7.72 7.72c-.78.78-.78 2.05 0 2.83L4 21.41c.39.39.9.59 1.41.59.51 0 1.02-.2 1.41-.59l7.78-7.78 2.81-2.81c.8-.78.8-2.07 0-2.86zM5.41 20L4 18.59l7.72-7.72 1.47 1.35L5.41 20z\"/>\n",
              "  </svg>\n",
              "      </button>\n",
              "\n",
              "\n",
              "\n",
              "    <div id=\"df-b80ddebf-99f3-46dc-a219-54b50590a669\">\n",
              "      <button class=\"colab-df-quickchart\" onclick=\"quickchart('df-b80ddebf-99f3-46dc-a219-54b50590a669')\"\n",
              "              title=\"Suggest charts.\"\n",
              "              style=\"display:none;\">\n",
              "\n",
              "<svg xmlns=\"http://www.w3.org/2000/svg\" height=\"24px\"viewBox=\"0 0 24 24\"\n",
              "     width=\"24px\">\n",
              "    <g>\n",
              "        <path d=\"M19 3H5c-1.1 0-2 .9-2 2v14c0 1.1.9 2 2 2h14c1.1 0 2-.9 2-2V5c0-1.1-.9-2-2-2zM9 17H7v-7h2v7zm4 0h-2V7h2v10zm4 0h-2v-4h2v4z\"/>\n",
              "    </g>\n",
              "</svg>\n",
              "      </button>\n",
              "    </div>\n",
              "\n",
              "<style>\n",
              "  .colab-df-quickchart {\n",
              "    background-color: #E8F0FE;\n",
              "    border: none;\n",
              "    border-radius: 50%;\n",
              "    cursor: pointer;\n",
              "    display: none;\n",
              "    fill: #1967D2;\n",
              "    height: 32px;\n",
              "    padding: 0 0 0 0;\n",
              "    width: 32px;\n",
              "  }\n",
              "\n",
              "  .colab-df-quickchart:hover {\n",
              "    background-color: #E2EBFA;\n",
              "    box-shadow: 0px 1px 2px rgba(60, 64, 67, 0.3), 0px 1px 3px 1px rgba(60, 64, 67, 0.15);\n",
              "    fill: #174EA6;\n",
              "  }\n",
              "\n",
              "  [theme=dark] .colab-df-quickchart {\n",
              "    background-color: #3B4455;\n",
              "    fill: #D2E3FC;\n",
              "  }\n",
              "\n",
              "  [theme=dark] .colab-df-quickchart:hover {\n",
              "    background-color: #434B5C;\n",
              "    box-shadow: 0px 1px 3px 1px rgba(0, 0, 0, 0.15);\n",
              "    filter: drop-shadow(0px 1px 2px rgba(0, 0, 0, 0.3));\n",
              "    fill: #FFFFFF;\n",
              "  }\n",
              "</style>\n",
              "\n",
              "    <script>\n",
              "      async function quickchart(key) {\n",
              "        const containerElement = document.querySelector('#' + key);\n",
              "        const charts = await google.colab.kernel.invokeFunction(\n",
              "            'suggestCharts', [key], {});\n",
              "      }\n",
              "    </script>\n",
              "\n",
              "\n",
              "      <script>\n",
              "\n",
              "function displayQuickchartButton(domScope) {\n",
              "  let quickchartButtonEl =\n",
              "    domScope.querySelector('#df-b80ddebf-99f3-46dc-a219-54b50590a669 button.colab-df-quickchart');\n",
              "  quickchartButtonEl.style.display =\n",
              "    google.colab.kernel.accessAllowed ? 'block' : 'none';\n",
              "}\n",
              "\n",
              "        displayQuickchartButton(document);\n",
              "      </script>\n",
              "      <style>\n",
              "    .colab-df-container {\n",
              "      display:flex;\n",
              "      flex-wrap:wrap;\n",
              "      gap: 12px;\n",
              "    }\n",
              "\n",
              "    .colab-df-convert {\n",
              "      background-color: #E8F0FE;\n",
              "      border: none;\n",
              "      border-radius: 50%;\n",
              "      cursor: pointer;\n",
              "      display: none;\n",
              "      fill: #1967D2;\n",
              "      height: 32px;\n",
              "      padding: 0 0 0 0;\n",
              "      width: 32px;\n",
              "    }\n",
              "\n",
              "    .colab-df-convert:hover {\n",
              "      background-color: #E2EBFA;\n",
              "      box-shadow: 0px 1px 2px rgba(60, 64, 67, 0.3), 0px 1px 3px 1px rgba(60, 64, 67, 0.15);\n",
              "      fill: #174EA6;\n",
              "    }\n",
              "\n",
              "    [theme=dark] .colab-df-convert {\n",
              "      background-color: #3B4455;\n",
              "      fill: #D2E3FC;\n",
              "    }\n",
              "\n",
              "    [theme=dark] .colab-df-convert:hover {\n",
              "      background-color: #434B5C;\n",
              "      box-shadow: 0px 1px 3px 1px rgba(0, 0, 0, 0.15);\n",
              "      filter: drop-shadow(0px 1px 2px rgba(0, 0, 0, 0.3));\n",
              "      fill: #FFFFFF;\n",
              "    }\n",
              "  </style>\n",
              "\n",
              "      <script>\n",
              "        const buttonEl =\n",
              "          document.querySelector('#df-14eac0c9-3278-48a4-8a2b-73ba385d71ea button.colab-df-convert');\n",
              "        buttonEl.style.display =\n",
              "          google.colab.kernel.accessAllowed ? 'block' : 'none';\n",
              "\n",
              "        async function convertToInteractive(key) {\n",
              "          const element = document.querySelector('#df-14eac0c9-3278-48a4-8a2b-73ba385d71ea');\n",
              "          const dataTable =\n",
              "            await google.colab.kernel.invokeFunction('convertToInteractive',\n",
              "                                                     [key], {});\n",
              "          if (!dataTable) return;\n",
              "\n",
              "          const docLinkHtml = 'Like what you see? Visit the ' +\n",
              "            '<a target=\"_blank\" href=https://colab.research.google.com/notebooks/data_table.ipynb>data table notebook</a>'\n",
              "            + ' to learn more about interactive tables.';\n",
              "          element.innerHTML = '';\n",
              "          dataTable['output_type'] = 'display_data';\n",
              "          await google.colab.output.renderOutput(dataTable, element);\n",
              "          const docLink = document.createElement('div');\n",
              "          docLink.innerHTML = docLinkHtml;\n",
              "          element.appendChild(docLink);\n",
              "        }\n",
              "      </script>\n",
              "    </div>\n",
              "  </div>\n"
            ]
          },
          "metadata": {},
          "execution_count": 8
        }
      ]
    },
    {
      "cell_type": "code",
      "source": [
        "# Shape of the DataFrame\n",
        "df.shape"
      ],
      "metadata": {
        "colab": {
          "base_uri": "https://localhost:8080/"
        },
        "id": "y0hUD7awCz9E",
        "outputId": "e5788f18-e7f8-48fe-d74a-415fb7611036"
      },
      "execution_count": 9,
      "outputs": [
        {
          "output_type": "execute_result",
          "data": {
            "text/plain": [
              "(20406, 3)"
            ]
          },
          "metadata": {},
          "execution_count": 9
        }
      ]
    },
    {
      "cell_type": "markdown",
      "source": [
        "### Total Number of Genres"
      ],
      "metadata": {
        "id": "HjyGVcK8C4Hl"
      }
    },
    {
      "cell_type": "code",
      "source": [
        "genres_list = df[\"Genres\"].to_list()    # list of all the genres\n",
        "genres_count = {}                       # count of all the genres\n",
        "\n",
        "for genres in genres_list:\n",
        "    genre_list = eval(genres)\n",
        "\n",
        "    for genre in genre_list:\n",
        "        if genre in genres_count.keys():\n",
        "            genres_count[genre] += 1\n",
        "        else:\n",
        "            genres_count[genre] = 1"
      ],
      "metadata": {
        "id": "XjVi9PpxC1tU"
      },
      "execution_count": 10,
      "outputs": []
    },
    {
      "cell_type": "code",
      "source": [
        "print(\"Total Number of Genres: \", len(genres_count))\n",
        "\n",
        "sorted_genres_count = dict(sorted(genres_count.items(), key=lambda item: item[1], reverse=True))\n",
        "print(\"Individual Genres Count: \\n\", sorted_genres_count)"
      ],
      "metadata": {
        "colab": {
          "base_uri": "https://localhost:8080/"
        },
        "id": "-aKGcO07C5sD",
        "outputId": "f3ddeca8-315d-460c-9f41-adf30b8af9d4"
      },
      "execution_count": 11,
      "outputs": [
        {
          "output_type": "stream",
          "name": "stdout",
          "text": [
            "Total Number of Genres:  178\n",
            "Individual Genres Count: \n",
            " {'Action': 7097, 'General': 7035, 'Shooter': 3549, 'Action Adventure': 3424, 'Platformer': 2371, 'Arcade': 2355, 'Role-Playing': 2341, '3D': 2127, 'Adventure': 1995, '2D': 1979, 'Miscellaneous': 1927, 'Strategy': 1905, 'First-Person': 1875, 'Sci-Fi': 1779, 'Fantasy': 1729, 'Sports': 1727, 'Modern': 1569, 'Puzzle': 1376, 'Action RPG': 1300, 'Racing': 1239, 'Sim': 1162, 'Simulation': 1160, 'Third-Person': 1040, 'Traditional': 1015, 'Driving': 971, 'Historic': 915, 'Fighting': 838, 'Automobile': 782, 'Real-Time': 772, 'Turn-Based': 740, 'Open-World': 736, \"Beat-'Em-Up\": 713, 'Team': 619, 'Compilation': 546, 'Survival': 544, 'Individual': 450, \"Shoot-'Em-Up\": 433, 'Point-and-Click': 430, 'Horror': 419, 'Japanese-Style': 415, 'Music': 411, 'Tactical': 405, 'Tactics': 392, 'Combat': 382, 'Linear': 353, 'Console-style RPG': 346, 'Rhythm': 340, 'Management': 334, 'GT / Street': 283, 'Western-Style': 279, 'Soccer': 276, 'Scrolling': 264, 'Virtual Life': 249, 'Virtual': 237, 'Basketball': 222, 'Alternative': 216, 'Football': 213, 'Top-Down': 210, 'Flight': 204, 'Metroidvania': 174, 'Rally / Offroad': 172, 'Massively Multiplayer': 166, 'Vertical': 165, 'Business / Tycoon': 156, 'Wrestling': 156, 'Party / Minigame': 156, 'Visual Novel': 149, 'Other': 146, 'Baseball': 145, 'Matching': 144, 'Party': 140, 'Massively Multiplayer Online': 134, 'Golf': 130, 'Card Battle': 128, 'Vehicle': 128, 'Ice Hockey': 124, 'Tycoon': 124, 'PC-style RPG': 123, 'Mission-based': 112, 'Board / Card Game': 109, '': 106, 'Board Games': 103, 'Command': 102, 'Government': 101, 'Static': 101, 'Skateboarding': 99, 'Tennis': 99, 'Motorcycle': 99, 'Futuristic': 98, 'Career': 95, 'Dancing': 92, 'Civilian': 90, 'Horizontal': 89, 'Formula One': 87, 'WWII': 86, 'Parlor': 86, 'Logic': 85, 'Car Combat': 84, 'Street': 84, 'Kart': 83, 'Sandbox': 82, 'Defense': 81, 'Light Gun': 79, 'Space': 75, 'Breeding/Constructing': 71, 'Pinball': 67, 'Military': 67, 'Roguelike': 65, 'Boxing': 64, '4X': 61, 'Snowboarding': 60, 'Trainer': 60, 'Gambling': 60, 'Skate / Skateboard': 59, 'Rail': 56, 'Small Spaceship': 55, 'Mech': 55, 'Edutainment': 55, 'Olympic Sports': 54, 'Motocross': 52, 'Modern Jet': 48, 'Trivia / Game Show': 47, 'Stock Car': 45, 'MOBA': 44, 'Billiards': 40, 'Biking': 39, 'Athletics': 36, 'Wargame': 35, 'Stacking': 34, 'Music Maker': 34, 'Nature': 33, 'Fishing': 33, 'Boxing / Martial Arts': 31, 'Artillery': 28, 'Application': 27, 'Helicopter': 27, 'Ski / Snowboard': 27, 'Exercise / Fitness': 24, 'City Building': 23, 'Demolition Derby': 23, 'Large Spaceship': 21, 'Snow / Water': 20, 'Surfing': 20, 'Hidden Object': 19, 'Marine': 16, 'Ship': 16, 'Pet': 15, 'Rugby': 13, 'On-foot': 13, 'Truck': 12, 'Submarine': 11, 'Skating': 11, 'Train': 11, 'Hunting': 10, 'Text': 9, 'Civilian Plane': 9, 'On GameFAQs': 9, 'Bowling': 9, 'Surf / Wakeboard': 9, 'Volleyball': 6, 'Futuristic Sub': 6, 'Skiing': 6, 'Wakeboarding': 5, 'Futuristic Jet': 4, 'Cricket': 4, 'Horse Racing': 4, 'Interactive Movie': 4, 'Tank': 3, '6 Online': 2, 'No Online Multiplayer': 2, 'Videos': 2, 'Drag': 2, '1 Player': 2, '1-4': 1, 'Old Jet': 1, 'WWI': 1, '1-2': 1, 'Online Multiplayer': 1}\n"
          ]
        }
      ]
    },
    {
      "cell_type": "markdown",
      "source": [
        "### Using Only 1st Category of the Genres: Single-Label Classification"
      ],
      "metadata": {
        "id": "x6eRn-rSC9ZS"
      }
    },
    {
      "cell_type": "code",
      "source": [
        "primary_genre_list = []    # only first genre\n",
        "indices_to_drop = []       # empty genre indices drop\n",
        "\n",
        "for idx, genres in enumerate(df[\"Genres\"].to_list()):\n",
        "    genres_list = eval(genres)\n",
        "\n",
        "    if len(genres_list) != 0:\n",
        "        primary_genre_list.append(genres_list[0])\n",
        "    else:\n",
        "        indices_to_drop.append(idx)"
      ],
      "metadata": {
        "id": "yQsUme6LC7MR"
      },
      "execution_count": 12,
      "outputs": []
    },
    {
      "cell_type": "code",
      "source": [
        "# Total Primary Genres\n",
        "print(\"Total Primary Genres: \", len(primary_genre_list))\n",
        "print(primary_genre_list)\n",
        "\n",
        "# Total Indices to Drop\n",
        "print(\"Total Indices to Drop: \", len(indices_to_drop))"
      ],
      "metadata": {
        "colab": {
          "base_uri": "https://localhost:8080/"
        },
        "id": "-5utWXhMC_ZS",
        "outputId": "ab547e1a-122f-4fd4-edd0-ad77db722e09"
      },
      "execution_count": 13,
      "outputs": [
        {
          "output_type": "stream",
          "name": "stdout",
          "text": [
            "Total Primary Genres:  19894\n",
            "['Action Adventure', 'Sports', 'Action Adventure', 'Action', 'Action Adventure', 'Action Adventure', 'Sports', 'Action Adventure', 'Action', 'Action Adventure', 'Action Adventure', 'Sports', 'Action Adventure', 'Action', 'Action Adventure', 'Action Adventure', 'Sports', 'Action Adventure', 'Action', 'Action Adventure', 'Action', 'Action', 'Action Adventure', 'Action Adventure', 'Modern', 'Role-Playing', 'Modern', 'Sports', 'Action Adventure', 'Role-Playing', 'Sports', 'Action', 'Action Adventure', 'Action Adventure', 'Action', 'Action Adventure', 'Action', 'Action', 'Sports', 'Action', 'Modern', 'Fantasy', 'Action', 'Action', 'Action Adventure', 'Action Adventure', 'Action', 'Action', 'Action Adventure', 'Action', 'Role-Playing', 'Role-Playing', 'Adventure', 'Action Adventure', 'Role-Playing', 'Action', 'Role-Playing', 'Action Adventure', 'Action Adventure', 'Driving', 'Action Adventure', 'Action', 'Action Adventure', 'Miscellaneous', 'Miscellaneous', 'Role-Playing', 'Action Adventure', 'Action Adventure', 'Action', 'Action Adventure', 'Action', 'Driving', 'Action', 'Role-Playing', 'Action Adventure', 'Action Adventure', 'Modern', 'Action Adventure', 'Sports', 'Sports', 'Role-Playing', 'Action Adventure', 'Action', 'Action', 'Action', 'Modern', 'Action', 'Puzzle', 'Miscellaneous', 'Role-Playing', 'Action', 'Role-Playing', 'Action', 'Action Adventure', 'Sports', 'Action Adventure', 'Action', 'Sports', 'Action Adventure', 'Action', 'Action', 'Action', 'Action', 'Action', 'Action Adventure', 'Role-Playing', 'Action', 'Action', 'Action', 'Action Adventure', 'Role-Playing', 'Action', 'Action', 'Action', 'Action Adventure', 'Role-Playing', 'Action', 'Action', 'Action', 'Action Adventure', 'Role-Playing', 'Role-Playing', 'Action', 'Action', 'Action', 'Action Adventure', 'Adventure', 'Action Adventure', 'Action Adventure', 'Driving', 'Role-Playing', 'Role-Playing', 'Action Adventure', 'Open-World', 'Action', 'Action Adventure', 'Sports', 'Role-Playing', 'Action Adventure', 'Role-Playing', 'Strategy', 'Sports', 'Action', 'Action', 'Action RPG', 'Driving', 'Action', 'Strategy', 'Driving', 'General', 'Role-Playing', 'Action Adventure', 'Action Adventure', 'Adventure', 'Action', 'Role-Playing', 'Turn-Based', 'Sports', 'Action', 'Role-Playing', 'Action RPG', 'Action', 'Action', 'Action', 'Action', 'Action Adventure', 'Platformer', 'Strategy', 'Sports', 'Action', 'Action Adventure', 'Adventure', 'Role-Playing', 'Role-Playing', 'Role-Playing', 'Role-Playing', 'Action Adventure', 'Sports', 'Action Adventure', 'Action Adventure', 'Action', 'Strategy', 'Action Adventure', 'Role-Playing', 'Role-Playing', 'Action', 'Action Adventure', 'Action', 'Sports', 'Sports', 'Role-Playing', 'Modern', 'Role-Playing', 'Fantasy', 'Puzzle', 'Driving', 'Action', 'Action', 'Action', 'Driving', 'Sports', 'Role-Playing', 'Miscellaneous', 'Sports', 'Sports', 'Action', 'Role-Playing', 'Miscellaneous', 'Sports', 'Sports', 'Action', 'Role-Playing', 'Miscellaneous', 'Sports', 'Sports', 'Action', 'Role-Playing', 'Miscellaneous', 'Sports', 'Sports', 'Action', 'Role-Playing', 'Action Adventure', 'Action', 'Racing', 'Action Adventure', 'Role-Playing', 'Sports', 'Sports', 'Sports', 'Action', 'Action Adventure', 'Action Adventure', 'Action', 'Action', 'Fantasy', 'Action Adventure', 'Strategy', 'Sports', 'Simulation', 'Action', 'Strategy', 'Action', 'Action', 'Driving', 'Sports', 'Action', 'Racing', 'Action', 'Sports', 'Strategy', 'Role-Playing', 'Adventure', 'Action', 'Action Adventure', 'Action Adventure', 'Role-Playing', 'Role-Playing', 'Sports', 'Action RPG', 'Action', 'Sports', 'Action', 'Role-Playing', 'Sports', 'Sports', 'Strategy', 'Driving', 'Role-Playing', 'Action Adventure', 'Role-Playing', 'Action Adventure', 'Action', 'Sports', 'Action', 'Sports', 'Action Adventure', 'Strategy', 'Action', 'Strategy', 'Action', 'Role-Playing', 'Action Adventure', 'Miscellaneous', 'Action', 'Strategy', 'Driving', 'Role-Playing', 'Strategy', 'Action', 'Miscellaneous', 'Role-Playing', 'Action', 'Role-Playing', 'Action Adventure', 'Role-Playing', 'Action', 'Role-Playing', 'Action', 'Action', 'Miscellaneous', 'Action', 'Action', 'Action RPG', 'Action Adventure', 'Sports', 'Action', 'Action', 'Action RPG', 'Action Adventure', 'Sports', 'Action', 'Action', 'Action RPG', 'Action Adventure', 'Sports', 'Action', 'Action', 'Action RPG', 'Action Adventure', 'Sports', 'Action', 'Strategy', 'Action', 'Action', 'Simulation', 'Miscellaneous', 'Role-Playing', 'Role-Playing', 'Action', 'Action', 'Strategy', 'General', 'Driving', 'Sports', 'Sports', 'Role-Playing', 'Action Adventure', 'Role-Playing', 'Action RPG', 'Action', 'Action', 'Simulation', 'Sports', 'Simulation', 'Simulation', 'Action Adventure', 'Action', 'Action Adventure', 'Sports', 'Action Adventure', 'Action Adventure', 'Role-Playing', 'Driving', 'Action', 'Action Adventure', 'Action', 'Action Adventure', 'Action Adventure', 'Action Adventure', 'Racing', 'Miscellaneous', 'Action Adventure', 'Action', 'Action', 'Action Adventure', 'Racing', 'Action', 'Adventure', 'Sports', 'Action', 'Action Adventure', 'Action Adventure', 'Role-Playing', 'Action', 'Role-Playing', 'Sports', 'Action Adventure', 'Action', 'Role-Playing', 'Sports', 'Sports', 'Sports', 'Adventure', 'Sports', 'Action', 'Action Adventure', 'Action', 'Action Adventure', 'Strategy', 'Role-Playing', 'Action', 'Action Adventure', 'Driving', 'Action Adventure', 'Strategy', \"Beat-'Em-Up\", 'Action', 'Miscellaneous', 'Role-Playing', 'Action', 'Sports', 'Role-Playing', 'Role-Playing', 'Action', 'Racing', 'Action', 'Role-Playing', 'Role-Playing', 'Action', 'Racing', 'Action', 'Role-Playing', 'Role-Playing', 'Action', 'Racing', 'Action', 'Role-Playing', 'Role-Playing', 'Action', 'Racing', 'Action', 'Role-Playing', 'Sports', 'Strategy', 'Action RPG', 'Role-Playing', 'Action RPG', 'Action', 'Action Adventure', 'Action', 'Action', 'Action RPG', 'Action', 'Role-Playing', 'General', 'Driving', 'Action', 'Sports', 'Sports', 'Action', 'Action Adventure', 'Driving', 'Sports', 'Simulation', 'Simulation', 'Role-Playing', 'Role-Playing', 'Role-Playing', 'Action', 'Sports', 'Action', 'Action', 'Action RPG', 'Action', 'Action', 'Action Adventure', 'Action', 'Sports', 'Miscellaneous', 'Role-Playing', 'Action', 'Action', 'Sports', 'Action', 'Action', 'Action', 'Role-Playing', 'Driving', 'Action Adventure', 'Sports', 'Role-Playing', 'Strategy', 'Action', 'Sports', 'Action', 'Sports', 'Sports', 'Strategy', 'Role-Playing', 'Action Adventure', 'Action', 'Sports', 'Action', 'Puzzle', 'Action Adventure', 'Adventure', 'Sports', 'Sports', 'Miscellaneous', 'Sports', 'Strategy', 'Platformer', 'Sports', 'Role-Playing', 'Action', 'Simulation', 'Action Adventure', 'Role-Playing', 'Simulation', 'Role-Playing', 'Role-Playing', 'Role-Playing', 'Action', 'Sports', 'Action', 'Platformer', 'Role-Playing', 'Action', 'Sports', 'Action', 'Platformer', 'Role-Playing', 'Action', 'Sports', 'Action', 'Platformer', 'Role-Playing', 'Action', 'Sports', 'Action', 'Platformer', 'Action', 'Adventure', 'Sports', 'Sports', 'Strategy', 'Sports', 'Action', 'Action', 'Adventure', 'Simulation', 'Action Adventure', 'Action Adventure', 'Action Adventure', 'Role-Playing', 'Action', 'Action Adventure', 'Action', 'Strategy', 'Fantasy', 'Sports', 'Sports', 'Role-Playing', 'Action', 'Strategy', 'Action', 'Driving', 'Simulation', 'Adventure', 'Action', 'Strategy', 'Action', 'Role-Playing', 'Simulation', 'Action', 'Action Adventure', 'Action', 'General', 'Sports', 'Action', 'General', 'Driving', 'Adventure', 'Miscellaneous', 'Role-Playing', 'Miscellaneous', 'Action', 'Sports', 'Sports', 'Role-Playing', 'Sports', 'Driving', 'Sports', 'Sports', 'Strategy', 'Adventure', 'Action', 'Driving', 'Action Adventure', 'Action Adventure', 'Sports', 'Action Adventure', 'Strategy', 'Strategy', 'Miscellaneous', 'Action', 'Role-Playing', 'Adventure', 'Role-Playing', 'Action Adventure', 'Miscellaneous', 'Adventure', 'Action', 'Sports', 'Sports', 'Action', 'Sports', 'Role-Playing', 'Driving', 'Strategy', 'Role-Playing', 'Action', 'Fantasy', 'Action', 'Compilation', 'Sports', 'Action', 'Fantasy', 'Action', 'Compilation', 'Sports', 'Action', 'Fantasy', 'Action', 'Compilation', 'Sports', 'Action', 'Fantasy', 'Action', 'Compilation', 'Sports', 'Strategy', 'Strategy', 'Sports', 'Strategy', 'Miscellaneous', 'Driving', 'Action', 'Role-Playing', 'Strategy', 'Action', 'Action', 'Role-Playing', 'Action', 'Sports', 'Role-Playing', 'PC-style RPG', 'Role-Playing', 'Action', 'Strategy', 'Racing', 'Action Adventure', 'Role-Playing', 'Action', 'Action', 'Sports', 'Role-Playing', 'Role-Playing', 'Action', 'Action Adventure', 'Action', 'Sports', 'Sports', 'Action', 'Adventure', 'Action', 'Strategy', 'Action', 'Action', 'Action', 'Action', 'Racing', 'Role-Playing', 'Action', 'Role-Playing', 'Sports', 'Sports', 'Sports', 'Driving', 'Role-Playing', 'Action Adventure', 'Action', 'Driving', 'Driving', 'Role-Playing', 'Action', 'Role-Playing', 'Sports', 'Driving', 'Action Adventure', \"Beat-'Em-Up\", 'Action Adventure', 'Sports', 'Sports', 'Strategy', 'Sports', 'Strategy', 'Action', 'Puzzle', 'Action', 'Action Adventure', 'Action', 'Role-Playing', 'Miscellaneous', 'Role-Playing', 'Miscellaneous', 'Action', 'Sports', 'Role-Playing', 'Action', 'Simulation', 'Role-Playing', 'Action', 'Role-Playing', 'Action', 'Sports', 'Role-Playing', 'Action', 'Role-Playing', 'Action', 'Sports', 'Role-Playing', 'Action', 'Role-Playing', 'Action', 'Sports', 'Role-Playing', 'Action', 'Role-Playing', 'Action', 'Sports', 'Action', 'Driving', 'Action', 'Action Adventure', 'Action Adventure', 'Sports', 'Action Adventure', 'Role-Playing', 'Action', 'General', 'Action', 'Action', 'Action Adventure', 'Sports', 'Action Adventure', 'Strategy', 'Role-Playing', 'Strategy', 'Action Adventure', 'Action', 'Role-Playing', 'Driving', 'Sports', 'Driving', 'Action', 'Action Adventure', 'Adventure', 'Adventure', 'Action', 'Role-Playing', 'Miscellaneous', 'Action', 'Action', 'Action', 'Action', 'Miscellaneous', 'Action', 'Action', 'Action', 'Miscellaneous', 'Sports', 'Action', 'Driving', 'General', 'Adventure', 'Action', 'Strategy', 'Driving', 'Action Adventure', 'Adventure', 'Miscellaneous', 'First-Person', 'Action', 'Miscellaneous', 'Action Adventure', 'Sports', 'Action', 'Action Adventure', 'Action', 'Action Adventure', 'Action', 'Miscellaneous', 'Adventure', 'Action', 'Sports', 'Role-Playing', 'Miscellaneous', 'Action', 'Sports', 'Role-Playing', 'Role-Playing', 'Sports', 'Action', 'Action Adventure', 'Role-Playing', 'General', 'Action Adventure', 'Action Adventure', 'Adventure', 'Sports', 'Action', 'Sports', 'Simulation', 'Sports', 'Strategy', 'Action', 'Sports', 'Simulation', 'Sports', 'Strategy', 'Action', 'Sports', 'Simulation', 'Sports', 'Strategy', 'Action', 'Sports', 'Simulation', 'Sports', 'Strategy', 'Action Adventure', 'Sports', 'Driving', 'Driving', 'Action', 'Action', 'Sports', 'Action Adventure', 'Action', 'Action', 'General', 'Action', 'Action Adventure', 'Action Adventure', 'Sports', 'Puzzle', 'Action Adventure', 'Action', 'Strategy', 'Action Adventure', 'Driving', 'Action Adventure', 'Action', 'Action', 'Action', 'Driving', 'Action', 'Adventure', 'Driving', 'Action', 'Sports', 'Role-Playing', 'Action', 'Action', 'Action', 'Action', 'Horror', 'Action', 'Sports', 'Sim', 'Sports', 'Action', 'Sci-Fi', 'Action', 'Driving', 'Action', 'Sports', 'Action', 'Action Adventure', 'Action', 'Role-Playing', 'Miscellaneous', 'Adventure', 'Action Adventure', 'Sports', 'Action Adventure', 'Role-Playing', 'Sports', 'Action Adventure', 'Action', 'Strategy', 'Action', 'Action', 'Sports', 'Sports', 'Strategy', 'Sports', 'Strategy', 'Strategy', 'Action Adventure', 'Action', 'Action Adventure', 'Role-Playing', 'Action', 'Action', 'Sports', 'Action', 'Action', 'Action', 'Sports', 'Sports', 'Adventure', 'Action', 'Action', 'Action', 'Sports', 'Adventure', 'Action', 'Action', 'Action', 'Sports', 'Adventure', 'Action', 'Action', 'Action', 'Sports', 'Adventure', 'Action', 'Action', 'Action', 'Role-Playing', 'Action Adventure', 'Action', 'Sci-Fi', 'Sports', 'Sports', 'Sports', 'Sports', 'Action', 'Sports', 'Action', 'Action', 'Action', 'Strategy', 'Action Adventure', 'Strategy', 'Action', 'Strategy', 'Sports', 'Action', 'Role-Playing', 'Miscellaneous', 'Action', 'Action Adventure', 'Action', 'Role-Playing', 'Action', 'Action', 'Action', 'Action', 'Action', 'Sports', 'Sports', 'Sports', 'Action', 'Adventure', 'Action Adventure', 'Action RPG', 'Card Battle', 'Strategy', 'Action Adventure', 'Role-Playing', 'Action', 'Miscellaneous', 'Strategy', 'Action', 'Action', 'Action', 'Action Adventure', 'Action', 'Sports', 'Sports', 'Sports', 'Driving', 'Action', 'Action', 'Strategy', 'Action', 'Action', 'Miscellaneous', 'Role-Playing', 'Sports', 'Action', 'Action', 'Strategy', 'Strategy', 'Strategy', 'General', 'Sci-Fi', 'Role-Playing', 'Racing', 'Action', 'Action Adventure', 'Role-Playing', 'Sports', 'Role-Playing', 'Action Adventure', 'Strategy', 'Strategy', 'Action', 'Sports', 'Adventure', 'Driving', 'Action', 'Simulation', 'Sports', 'Adventure', 'Driving', 'Action', 'Simulation', 'Sports', 'Adventure', 'Driving', 'Action', 'Simulation', 'Sports', 'Adventure', 'Driving', 'Action', 'Simulation', 'Driving', 'Driving', 'Action', 'Role-Playing', 'Role-Playing', 'Action', 'Fantasy', 'Adventure', 'Action', 'Sports', 'Fantasy', 'Action', 'Driving', 'Action', 'Driving', 'Racing', 'Racing', 'Sports', 'Action', 'Role-Playing', 'Simulation', 'Role-Playing', 'Action', 'Adventure', 'Action Adventure', 'Miscellaneous', 'Sports', 'Role-Playing', 'Sports', 'Sports', 'Action', 'Strategy', 'Action', 'Driving', 'Action', 'Action', 'Action Adventure', 'Action Adventure', 'Strategy', 'Driving', 'Role-Playing', 'Action Adventure', 'Action', 'Fantasy', 'Shooter', 'Adventure', 'Sports', 'Role-Playing', 'Role-Playing', 'Action Adventure', 'Strategy', 'Action', 'Action', 'Action Adventure', 'Action', 'Miscellaneous', 'Sci-Fi', 'Action', 'Driving', 'Adventure', 'Strategy', 'Action', 'Action', 'Action', 'Miscellaneous', 'Strategy', 'Driving', 'Japanese-Style', 'Role-Playing', 'Adventure', 'Action Adventure', 'Role-Playing', 'Role-Playing', 'Role-Playing', 'Sci-Fi', 'Action Adventure', 'Role-Playing', 'Strategy', 'Sports', 'Driving', 'Driving', 'Racing', 'Fantasy', 'Driving', 'Miscellaneous', 'Driving', 'Racing', 'Fantasy', 'Driving', 'Miscellaneous', 'Driving', 'Racing', 'Fantasy', 'Driving', 'Miscellaneous', 'Driving', 'Racing', 'Fantasy', 'Driving', 'Miscellaneous', 'Action', 'Action', 'Action', 'Action', 'Strategy', 'Role-Playing', 'Strategy', 'Role-Playing', 'Miscellaneous', 'Action', 'Action', 'Action', 'Adventure', 'Japanese-Style', 'Miscellaneous', 'Simulation', 'Action Adventure', 'Strategy', 'Action Adventure', 'Role-Playing', 'Adventure', 'Adventure', 'Action', 'Miscellaneous', 'Action Adventure', 'Action', 'Role-Playing', 'Driving', 'Action', 'Action', 'Role-Playing', 'Action', 'Action', 'Action Adventure', 'Role-Playing', 'Action', 'Action', 'Action Adventure', 'Strategy', 'Sports', 'Action Adventure', 'Action Adventure', 'Miscellaneous', 'General', 'Action', 'Action', 'Strategy', 'Driving', 'Strategy', 'Sports', 'Action Adventure', 'Action', 'Action Adventure', 'Action Adventure', 'Role-Playing', 'Action', 'Action', 'Action Adventure', 'Role-Playing', 'Action', 'Action', 'Role-Playing', 'Action Adventure', 'Action', 'Driving', 'Action', 'Action', 'Action', 'Action', 'Action', 'Sports', 'Action Adventure', 'Driving', 'Sports', 'Action', 'Role-Playing', 'Driving', 'Action', 'Action Adventure', 'Action', 'Sports', 'Action', 'Action', 'Simulation', 'Sports', 'Sports', 'Action', 'Action', 'Simulation', 'Sports', 'Sports', 'Action', 'Action', 'Simulation', 'Sports', 'Sports', 'Action', 'Action', 'Simulation', 'Sports', 'Strategy', 'Action Adventure', 'Sports', 'Miscellaneous', 'Action', 'Action', 'Sports', 'Strategy', 'Miscellaneous', 'Strategy', 'Action Adventure', 'Action', 'Driving', 'Action', 'Strategy', 'Role-Playing', 'Action', 'Sports', 'Role-Playing', 'Action Adventure', 'Action RPG', 'Action', 'Strategy', 'Sports', 'Sports', 'Action', 'Action', 'Miscellaneous', 'Driving', 'Action Adventure', 'Sports', 'Strategy', 'Action', 'Driving', 'Sports', 'Action', 'Sports', 'Role-Playing', 'Role-Playing', 'Action Adventure', 'Miscellaneous', 'Action', 'Action', 'Action', 'Action', 'Role-Playing', 'Action', 'Driving', 'Puzzle', 'Action', 'Action RPG', 'Adventure', 'Action Adventure', 'Strategy', 'Driving', 'Action Adventure', 'Action Adventure', 'Action', 'Action', 'Action Adventure', 'Action', 'Driving', 'Action', 'Action', 'Action', 'Racing', 'Sports', 'Miscellaneous', 'Action', 'Role-Playing', 'Action', 'Role-Playing', 'Action', 'Adventure', 'Role-Playing', 'Racing', 'Action', 'Action', 'Role-Playing', 'Action', 'Strategy', 'Sports', 'Sports', 'Strategy', 'Driving', 'Strategy', 'Sports', 'Sports', 'Strategy', 'Driving', 'Driving', 'Strategy', 'Sports', 'Sports', 'Strategy', 'Driving', 'Strategy', 'Sports', 'Sports', 'Strategy', 'Driving', 'Role-Playing', 'Action', 'Sports', 'Role-Playing', 'Action', 'Adventure', 'Miscellaneous', 'Racing', 'Miscellaneous', 'Role-Playing', 'Action', 'Action Adventure', 'Action', 'Strategy', 'Role-Playing', 'Driving', 'Role-Playing', 'Action Adventure', 'Action', 'Role-Playing', 'Action', 'General', 'Sports', 'Action', 'Action', 'Sports', 'Driving', 'Action', 'Action', 'Action', 'Strategy', 'Action Adventure', 'Action Adventure', 'Role-Playing', 'Strategy', 'Racing', 'Adventure', 'Action', 'Action', 'Action', 'Role-Playing', 'Action', 'Adventure', 'Sci-Fi', 'Strategy', 'Adventure', 'Action', 'Adventure', 'Miscellaneous', 'Action', 'Miscellaneous', 'Role-Playing', 'Sports', 'Miscellaneous', 'Strategy', 'Racing', 'Adventure', 'Strategy', 'Strategy', 'Sports', 'Simulation', 'Action Adventure', 'Role-Playing', 'Action', 'Action', 'Driving', 'Massively Multiplayer Online', 'Sports', 'Sports', 'Sports', 'Adventure', 'Racing', 'Role-Playing', 'Strategy', 'Action', 'Action', 'Action', 'Racing', 'Action', 'Action', 'Role-Playing', 'Miscellaneous', 'Adventure', 'Role-Playing', 'Action Adventure', 'Role-Playing', 'Miscellaneous', 'Adventure', 'Role-Playing', 'Action Adventure', 'Role-Playing', 'Miscellaneous', 'Adventure', 'Role-Playing', 'Action Adventure', 'Role-Playing', 'Miscellaneous', 'Adventure', 'Role-Playing', 'Action Adventure', 'Sim', 'Puzzle', 'Strategy', 'Role-Playing', 'Sports', 'Racing', 'Role-Playing', 'Action', 'Action', 'Action', 'Action Adventure', 'Action Adventure', 'Driving', 'Action Adventure', 'Fantasy', 'Role-Playing', 'Role-Playing', 'Action Adventure', 'Miscellaneous', 'Action', 'Role-Playing', 'Role-Playing', 'Simulation', 'Driving', 'Strategy', 'Role-Playing', 'Driving', 'Strategy', 'Role-Playing', 'Sports', 'Action', 'Strategy', 'Role-Playing', 'Action', 'Role-Playing', 'Action', 'Simulation', 'Action', 'Role-Playing', 'Action', 'Action', 'Adventure', 'Shooter', 'Action Adventure', 'Puzzle', 'Action Adventure', 'Horror', 'Action', 'Shooter', 'Action', 'Action', 'Sports', 'Sports', 'Role-Playing', 'Role-Playing', 'Action Adventure', 'Action', 'Action Adventure', 'Role-Playing', 'Action', 'Action', 'Action', 'Action', 'Action Adventure', 'Action Adventure', 'Driving', 'Strategy', 'Adventure', 'Role-Playing', 'Sports', 'Sports', 'Role-Playing', 'Action', 'Strategy', 'Action Adventure', 'Adventure', 'Miscellaneous', 'Role-Playing', 'Action', 'Action', 'Action', 'Action Adventure', 'Action', 'Sports', 'Sports', 'Action', 'Action Adventure', 'Action', 'Sports', 'Sports', 'Action', 'Action Adventure', 'Action', 'Sports', 'Sports', 'Action', 'Action Adventure', 'Action', 'Sports', 'Sports', 'Action', 'Role-Playing', 'Adventure', 'Adventure', 'Action', 'Action', 'Miscellaneous', 'Action', 'Role-Playing', 'Strategy', 'Miscellaneous', 'Action', 'Simulation', 'Action Adventure', 'Miscellaneous', 'Role-Playing', 'Action', 'Role-Playing', 'Action', 'Action Adventure', 'Action', 'Driving', 'Action', 'Action', 'Action', 'Action', 'Miscellaneous', 'Action Adventure', 'Action', 'Role-Playing', 'Sports', 'Action', 'Strategy', 'Action', 'Simulation', 'Action', 'Sports', 'Racing', 'Miscellaneous', 'Role-Playing', 'Driving', 'Fantasy', 'Action Adventure', 'Action', 'Action Adventure', 'Driving', 'Role-Playing', 'Sports', 'Sports', 'Driving', 'Action', 'Driving', 'Driving', 'Action', 'Strategy', 'Driving', 'Sports', 'Role-Playing', 'Adventure', 'Action', 'Role-Playing', 'Action Adventure', 'Strategy', 'Action', 'Puzzle', 'Modern', 'Strategy', 'Role-Playing', 'Sports', 'Role-Playing', 'Action', 'Action', 'Strategy', 'Action', 'Sports', 'Role-Playing', 'Action Adventure', 'Sports', 'Fantasy', 'Action', 'Strategy', 'Strategy', 'Adventure', 'Action', 'Sci-Fi', 'Strategy', 'Strategy', 'Adventure', 'Action', 'Sci-Fi', 'Strategy', 'Strategy', 'Adventure', 'Action', 'Sci-Fi', 'Strategy', 'Strategy', 'Adventure', 'Action', 'Sci-Fi', 'Adventure', 'Simulation', 'Sci-Fi', 'Action', 'Role-Playing', 'Action', 'Action', 'Massively Multiplayer Online', 'Action', 'Action Adventure', 'Dancing', 'Action', 'Fantasy', 'Action', 'Action Adventure', 'Action', 'Action', 'Action', 'Action', 'Action Adventure', 'Action', 'Role-Playing', 'Role-Playing', 'Driving', 'Role-Playing', 'Action Adventure', 'Role-Playing', 'Action', 'Action', 'Racing', 'Adventure', 'Action', 'Strategy', 'Action', 'Action RPG', 'Action', 'Action', 'Action', 'Sports', 'Action', 'Action Adventure', 'Racing', 'Adventure', 'Action', 'Sports', 'Action', 'Strategy', 'Action', 'Sports', 'Miscellaneous', 'Action', 'Action', 'Action', 'Adventure', 'Role-Playing', 'Action Adventure', 'Action RPG', 'Sports', 'Role-Playing', 'Strategy', 'Racing', 'Action', 'Sports', 'Action Adventure', 'Racing', 'Strategy', 'Role-Playing', 'Action', 'Role-Playing', 'Action', 'Miscellaneous', 'Sports', 'Simulation', 'Action', 'Role-Playing', 'Role-Playing', 'Action', 'Action', 'Action', 'Action', 'Action Adventure', 'Driving', 'Sports', 'General', 'Role-Playing', 'Action Adventure', 'Driving', 'Sports', 'General', 'Role-Playing', 'Action Adventure', 'Driving', 'Sports', 'General', 'Role-Playing', 'Action Adventure', 'Driving', 'Sports', 'General', 'Role-Playing', 'Action', 'Action Adventure', 'Action', 'Action', 'Action Adventure', 'Action', 'Strategy', 'Sports', 'Sports', 'Action Adventure', 'Simulation', 'Action', 'Action', 'Role-Playing', 'General', 'Sports', 'Role-Playing', 'Sports', 'Action', 'Sports', 'Action Adventure', 'Action', 'Strategy', 'Role-Playing', 'Adventure', 'Action', 'PC-style RPG', 'Adventure', 'Strategy', 'Open-World', 'Action Adventure', 'Sports', 'Action', 'Role-Playing', 'Role-Playing', 'Adventure', 'Action', 'Action', 'Action', 'Action', 'Role-Playing', 'Action RPG', 'Action', 'Role-Playing', 'Action', 'Action', 'Action', 'Action', 'Driving', 'Sports', 'Driving', 'Role-Playing', 'Driving', 'Role-Playing', 'Street', 'Action Adventure', 'Role-Playing', 'Console-style RPG', 'Action', 'Sci-Fi', 'Strategy', 'Action', 'Strategy', 'Action', 'Adventure', 'Sports', 'Action', 'Action', 'Action Adventure', 'Action', 'Action Adventure', 'Role-Playing', 'Action Adventure', 'Strategy', 'Strategy', 'Sports', 'General', 'Action Adventure', 'Action', 'Action', 'Action', 'Strategy', 'Action', 'Driving', 'Racing', 'Action', 'Strategy', 'Action', 'Driving', 'Racing', 'Action', 'Strategy', 'Action', 'Driving', 'Racing', 'Action', 'Strategy', 'Action', 'Driving', 'Racing', 'Action', 'Driving', 'Driving', 'Action', 'Action', 'Role-Playing', 'Action', 'Role-Playing', 'Action Adventure', 'Action', 'Action', 'Action Adventure', 'Action', 'Action Adventure', 'Driving', 'Role-Playing', 'Driving', 'Action', 'Fantasy', 'Miscellaneous', 'Driving', 'Role-Playing', 'Role-Playing', 'Action', 'Action Adventure', 'Sports', 'Action', 'Sports', 'Action', 'Sports', 'Sports', 'Sports', 'Role-Playing', 'Action', 'Adventure', 'Action', 'Action Adventure', 'Strategy', 'General', 'Role-Playing', 'Action', 'Sports', 'Role-Playing', 'Strategy', 'Fighting', 'Strategy', 'Action', 'Sports', 'Strategy', 'Action', 'Strategy', 'Action Adventure', 'Role-Playing', 'Action', 'Sports', 'Action', 'Platformer', 'Role-Playing', 'Action', 'Action Adventure', 'Miscellaneous', 'Miscellaneous', 'Action', 'Sports', 'Action', 'Sports', 'Sports', 'Strategy', 'Sports', 'Adventure', 'Action Adventure', 'Adventure', 'Action', 'Driving', 'Role-Playing', 'Adventure', 'Role-Playing', 'Strategy', 'Role-Playing', 'Racing', 'Action', 'Miscellaneous', 'Simulation', 'Sports', 'Simulation', 'Action', 'Miscellaneous', 'Simulation', 'Sports', 'Simulation', 'Action', 'Miscellaneous', 'Simulation', 'Sports', 'Simulation', 'Action', 'Miscellaneous', 'Simulation', 'Sports', 'Simulation', 'Action', 'Miscellaneous', 'Role-Playing', 'Miscellaneous', 'Action', 'Adventure', 'Racing', 'Miscellaneous', 'Action Adventure', 'Action', 'Action Adventure', 'Sports', 'Action', 'Action', 'Role-Playing', 'Sports', 'Action Adventure', 'Action', 'Action Adventure', 'Action', 'Driving', 'Action Adventure', 'Action', 'Adventure', 'Sports', 'Sports', 'Role-Playing', 'Adventure', 'Action Adventure', 'General', 'Action', 'Modern', 'Action', 'Strategy', 'Strategy', 'Role-Playing', 'Action Adventure', 'Action', 'Traditional', 'Driving', 'Miscellaneous', 'Driving', 'Sports', 'Driving', 'Role-Playing', 'Miscellaneous', 'Sports', 'Sports', 'Action', 'Role-Playing', 'Action', 'Role-Playing', 'Action Adventure', 'Role-Playing', 'Action', 'Action', 'Action Adventure', 'Action Adventure', 'Role-Playing', 'Action', 'Role-Playing', 'Miscellaneous', 'Action', 'General', 'Action Adventure', 'Action', 'Action Adventure', 'Adventure', 'Action', 'Sports', 'Action Adventure', 'Strategy', 'Action Adventure', 'Action Adventure', 'Role-Playing', 'Action', 'Miscellaneous', 'Driving', 'Sports', 'Sports', 'Action', 'Action Adventure', 'Action', 'Action', 'Action', 'Action', 'Action Adventure', 'Action', 'Action', 'Action', 'Action', 'Action Adventure', 'Action', 'Action', 'Action', 'Action', 'Action Adventure', 'Action', 'Action', 'Action', 'Role-Playing', 'Action', 'Action', 'Action', 'Strategy', 'Adventure', 'Action', 'Role-Playing', 'Action', 'Action', 'Miscellaneous', 'Role-Playing', 'Action', 'Role-Playing', 'Driving', 'Action', 'Simulation', 'Action Adventure', 'Action', 'Action', 'Action Adventure', 'Action', 'Action', 'Puzzle', 'Action', 'Driving', 'Action Adventure', 'Action Adventure', 'Action', 'Strategy', 'Sports', 'Action', 'Miscellaneous', 'Action', 'Strategy', 'Action Adventure', 'Action', 'Action Adventure', 'Action', 'Racing', 'Modern', 'Role-Playing', 'Strategy', 'Action', 'Sports', 'Strategy', 'Role-Playing', 'Action', 'Role-Playing', 'Sports', 'Sports', 'Action Adventure', 'Action Adventure', 'Action', 'Action Adventure', 'Strategy', 'Miscellaneous', 'Adventure', 'Sci-Fi', 'Racing', 'Action', 'Sports', 'Role-Playing', 'Sci-Fi', 'Sports', 'Action', 'Action', 'Action', 'Strategy', 'Action Adventure', 'Action', 'Adventure', 'Action', 'Sports', 'Sports', 'Role-Playing', 'Role-Playing', 'Driving', 'Sports', 'Sports', 'Role-Playing', 'Adventure', 'Action', 'Strategy', 'Racing', 'Role-Playing', 'Adventure', 'Action', 'Strategy', 'Racing', 'Role-Playing', 'Adventure', 'Action', 'Strategy', 'Racing', 'Role-Playing', 'Adventure', 'Action', 'Strategy', 'Racing', 'Racing', 'Action Adventure', 'Adventure', 'Miscellaneous', 'Strategy', 'Miscellaneous', 'Sports', 'Action Adventure', 'Strategy', 'Action', 'Action', 'Sports', 'Miscellaneous', 'Sports', 'Action Adventure', 'Strategy', 'Action', 'Action Adventure', 'Role-Playing', 'Action', 'Sports', 'Strategy', 'Strategy', 'Action', 'Action', 'Action', 'Fantasy', 'Fantasy', 'Miscellaneous', 'Simulation', 'Action', 'Role-Playing', 'Action', 'Action', 'Strategy', 'Role-Playing', 'Action Adventure', 'Role-Playing', 'Role-Playing', 'Miscellaneous', 'Simulation', 'Adventure', 'Action', 'Role-Playing', 'Action', 'Role-Playing', 'Strategy', 'Role-Playing', 'Strategy', 'Action', 'Action', 'Action', 'Action', 'Role-Playing', 'Action', 'Sports', 'Racing', 'Action Adventure', 'Driving', 'Sports', 'Action', 'Sports', 'Strategy', 'Adventure', 'Action', 'Driving', 'Driving', 'Action', 'Action', 'Adventure', 'General', 'Action', 'Action', 'Miscellaneous', 'Driving', 'Sports', 'Sports', 'Action Adventure', 'Miscellaneous', 'Action', 'Action', 'Puzzle', 'Adventure', 'Action Adventure', 'Action Adventure', 'Action', 'Puzzle', 'Adventure', 'Action Adventure', 'Action Adventure', 'Action', 'Puzzle', 'Adventure', 'Action Adventure', 'Action Adventure', 'Action', 'Puzzle', 'Adventure', 'Action Adventure', 'Action Adventure', 'Action', 'Action Adventure', 'Strategy', 'Sports', 'Strategy', 'Strategy', 'Action Adventure', 'Action', 'Miscellaneous', 'Action', 'Role-Playing', 'Sci-Fi', 'Role-Playing', 'Shooter', 'Driving', 'Strategy', 'Racing', 'Action', 'Sports', 'Driving', 'Sports', 'Adventure', 'Action Adventure', 'Sports', 'Role-Playing', 'Puzzle', 'Action', 'Action', 'Action', 'Action Adventure', 'Action', 'Role-Playing', 'Action', 'Racing', 'Puzzle', 'Action', 'Action Adventure', 'Role-Playing', 'Role-Playing', 'Sports', 'Role-Playing', 'Strategy', 'Miscellaneous', 'Action', 'Racing', 'Action', 'Open-World', 'Strategy', 'Adventure', 'Strategy', 'Strategy', 'Strategy', 'Sports', 'Driving', 'Role-Playing', 'Driving', 'Action Adventure', 'Driving', 'Driving', 'Adventure', 'Action', 'Strategy', 'Action', 'Adventure', 'Action', 'Action', 'Adventure', 'Miscellaneous', 'Role-Playing', 'Action', 'Role-Playing', 'Role-Playing', 'Adventure', 'Strategy', 'Adventure', 'Action Adventure', 'Action Adventure', 'Driving', 'Action', 'General', 'Action Adventure', 'Strategy', 'Strategy', 'Action', 'Role-Playing', 'Action Adventure', 'Strategy', 'Strategy', 'Action', 'Role-Playing', 'Action Adventure', 'Strategy', 'Strategy', 'Action', 'Role-Playing', 'Action Adventure', 'Strategy', 'Strategy', 'Action', 'Role-Playing', 'Sports', 'Action', 'Strategy', 'Action Adventure', 'Sports', 'Strategy', 'Sports', 'Action Adventure', 'Sports', 'Action', 'Action', 'Action', 'Action', 'Action', 'Miscellaneous', 'Action', 'Driving', 'Role-Playing', 'Action', 'Action', 'Simulation', 'Strategy', 'Action Adventure', 'Action Adventure', 'Action', 'Role-Playing', '2D', 'Sports', 'Role-Playing', 'Strategy', 'Sports', 'Action Adventure', 'Action', 'Action', 'Action', 'Miscellaneous', 'Action', 'Sports', 'Strategy', 'Strategy', 'Sports', 'Driving', 'Action', 'Action', 'Simulation', 'Driving', 'Driving', 'Action', 'Strategy', 'Action Adventure', 'Driving', 'Strategy', 'Action', 'Action Adventure', 'Action', 'Adventure', 'Puzzle', 'Action', 'Adventure', 'Role-Playing', 'Role-Playing', 'Action', 'Action', 'Role-Playing', 'Action', 'Role-Playing', 'Role-Playing', 'Action Adventure', 'Action', 'Action', 'Strategy', 'General', 'Sports', 'Driving', 'Miscellaneous', 'Simulation', 'Sports', 'Role-Playing', 'Role-Playing', 'Sports', 'Driving', 'Action Adventure', 'Driving', 'Adventure', 'Action', 'Driving', 'Action Adventure', 'Driving', 'Adventure', 'Action', 'Driving', 'Action Adventure', 'Driving', 'Adventure', 'Action', 'Driving', 'Action Adventure', 'Driving', 'Adventure', 'Action', 'Action', 'Action', 'Sports', 'Role-Playing', 'Miscellaneous', 'Role-Playing', 'Action', 'Action Adventure', 'Action Adventure', 'Role-Playing', 'Action Adventure', 'Simulation', 'General', 'Role-Playing', 'Action', 'Action Adventure', 'Action Adventure', 'Action', 'Adventure', 'Role-Playing', 'Role-Playing', 'Action', 'Sports', 'Adventure', 'Strategy', 'Adventure', 'Action Adventure', 'Action', 'Action', 'Action', 'Adventure', 'Strategy', 'Racing', 'Action', 'Action Adventure', 'Action Adventure', 'Action Adventure', 'Action', 'Role-Playing', 'Action', 'Strategy', 'Sports', 'Miscellaneous', 'Action', 'General', 'Action', 'Action Adventure', 'Role-Playing', 'Strategy', 'Action', 'Role-Playing', 'Strategy', 'Platformer', 'Action', 'Puzzle', 'Sports', 'Action Adventure', 'Action', 'Action', 'Action', 'Action', 'Role-Playing', 'Ice Hockey', 'Action', 'Sports', 'Action', 'Fighting', 'Sports', 'Action', 'Action Adventure', 'Action', 'Action', 'Action', 'Strategy', 'Role-Playing', 'Adventure', 'Adventure', 'Action Adventure', 'Racing', 'Role-Playing', 'Action Adventure', 'Strategy', 'Action', 'Sports', 'Action', 'Action Adventure', 'Strategy', 'Action', 'Sports', 'Action', 'Action Adventure', 'Strategy', 'Action', 'Sports', 'Action', 'Action Adventure', 'Strategy', 'Action', 'Sports', 'Action', 'Driving', 'Strategy', 'Adventure', 'Simulation', 'Strategy', 'Action Adventure', 'Action Adventure', 'Miscellaneous', 'Sports', 'Strategy', 'Action Adventure', 'Action', 'Sports', 'Action', 'Sports', 'Action', 'Driving', 'Miscellaneous', 'Action', 'Action', 'Action', 'Sports', 'Role-Playing', 'Action', 'Strategy', 'Puzzle', 'Action', 'Japanese-Style', 'Action', 'Driving', 'Miscellaneous', 'Action', 'Action Adventure', 'Role-Playing', 'Role-Playing', 'Action', 'Role-Playing', 'Puzzle', 'Miscellaneous', 'Strategy', 'Platformer', 'Sports', 'Action', 'Action', 'Action', 'Action', 'Action', 'Miscellaneous', 'Action Adventure', 'Driving', 'Action Adventure', 'Miscellaneous', 'Action Adventure', 'General', 'Action Adventure', 'Action', 'Miscellaneous', 'Role-Playing', 'Action', 'Action RPG', 'Simulation', 'Role-Playing', 'Simulation', 'Miscellaneous', 'Puzzle', 'Action', 'Action', 'Fantasy', 'Adventure', 'Strategy', 'Sports', 'Action RPG', 'Action', 'Adventure', 'Action', 'Adventure', 'Role-Playing', 'Action', 'Adventure', 'Sports', 'Action Adventure', 'Action', 'Adventure', 'Sports', 'Action Adventure', 'Action', 'Adventure', 'Sports', 'Action Adventure', 'Action', 'Action', 'Adventure', 'Sports', 'Action Adventure', 'Action', 'Action Adventure', 'Puzzle', 'Sports', 'Strategy', 'Miscellaneous', 'Role-Playing', 'Action Adventure', 'Action', 'Action Adventure', 'Action', 'Role-Playing', 'Action', 'Action', 'Adventure', 'Action', 'Fighting', 'Sports', 'Action Adventure', 'Adventure', 'Role-Playing', 'Strategy', 'Role-Playing', 'Action', 'Action', 'Strategy', 'Action', 'Miscellaneous', 'Sports', 'Miscellaneous', 'Action', '2D', 'Action', 'Role-Playing', 'Role-Playing', 'Role-Playing', 'Adventure', 'Action', 'Sports', 'Role-Playing', 'Action', 'Action Adventure', 'Action', 'Miscellaneous', 'Action Adventure', 'Strategy', 'Driving', 'Sports', 'Strategy', 'Strategy', 'Sports', 'Role-Playing', 'Strategy', 'Action Adventure', 'Role-Playing', 'Action', 'Action', 'Adventure', 'Driving', 'Racing', 'Racing', 'Strategy', 'Sports', 'Action Adventure', 'Adventure', 'Action', 'Action', 'Sports', 'Role-Playing', 'Driving', 'Action Adventure', 'Strategy', 'Action RPG', 'Action Adventure', 'Adventure', 'Action Adventure', 'Role-Playing', 'Action Adventure', 'Action', 'Role-Playing', 'Action Adventure', 'Sports', 'Sports', 'Horror', 'Action', 'Action', 'Sports', 'Sports', 'Horror', 'Action', 'Action', 'Sports', 'Sports', 'Horror', 'Action', 'Action', 'Sports', 'Sports', 'Horror', 'Action', 'Action', 'Adventure', 'Action', 'Puzzle', 'Action', 'Role-Playing', 'Sports', 'Action Adventure', 'Action', 'Action', 'Strategy', 'Role-Playing', 'General', 'Role-Playing', 'Action', 'Action Adventure', 'Role-Playing', 'Action', 'Action Adventure', 'Sports', 'Driving', 'Driving', 'Action', 'Action Adventure', 'Driving', 'Action', 'Strategy', 'Horror', 'Action', 'Arcade', 'Driving', 'Sports', 'Action', 'Strategy', 'Miscellaneous', 'Role-Playing', 'Action', 'Role-Playing', 'Sports', 'Racing', 'Adventure', 'Action', 'Action', 'Action', 'Action', 'Sports', 'Driving', 'Action', 'Strategy', 'Adventure', 'Role-Playing', 'Racing', 'Action', 'Miscellaneous', 'Action', 'Driving', 'Action', 'Sports', 'Sports', 'Role-Playing', 'Strategy', 'Role-Playing', 'Miscellaneous', 'Action Adventure', 'Role-Playing', 'Action', 'Miscellaneous', 'Action Adventure', 'Action', 'General', 'Role-Playing', 'Action', 'Action Adventure', 'Action', 'Adventure', 'Role-Playing', 'Action Adventure', 'Action', 'Action', 'Role-Playing', 'Sports', 'Role-Playing', 'Action', 'Action Adventure', 'Action', 'Action', 'Role-Playing', 'Action', 'Action Adventure', 'Action', 'Action', 'Role-Playing', 'Action', 'Action Adventure', 'Action', 'Action', 'Role-Playing', 'Action', 'Action Adventure', 'Action', 'Action', 'Strategy', 'Adventure', 'Action', 'Action Adventure', 'Sports', 'Sports', 'Role-Playing', 'Action Adventure', 'Miscellaneous', 'Miscellaneous', 'Action', 'Role-Playing', 'Driving', 'Action', 'Driving', 'Simulation', 'Action', 'Action', 'Action', 'General', 'Puzzle', 'Action', 'Modern', 'Miscellaneous', 'Action', 'Sports', 'Miscellaneous', 'Puzzle', 'Miscellaneous', 'Miscellaneous', 'Action', 'Puzzle', 'Role-Playing', 'Action', 'Action', 'Adventure', 'Action Adventure', 'Action', 'Sports', 'Action Adventure', 'Adventure', 'Role-Playing', 'Action', 'Adventure', 'Role-Playing', 'Simulation', 'Role-Playing', 'Action', 'Action Adventure', 'Sports', 'Action Adventure', 'Miscellaneous', 'Shooter', 'Miscellaneous', 'Action Adventure', 'Sports', 'Sports', 'Adventure', 'Adventure', 'Action Adventure', 'Racing', 'Action', 'Role-Playing', 'Action', 'Action Adventure', 'Action Adventure', 'Role-Playing', 'Action Adventure', 'Adventure', 'Role-Playing', 'Action', 'Role-Playing', 'Role-Playing', 'Action Adventure', 'Simulation', 'Action', 'Action Adventure', 'Modern', 'Driving', 'Role-Playing', 'Action', 'Driving', 'Sports', 'Action', 'Role-Playing', 'Action', 'Driving', 'Sports', 'Action', 'Role-Playing', 'Action', 'Driving', 'Sports', 'Action', 'Role-Playing', 'Action', 'Driving', 'Sports', 'Action', 'Role-Playing', 'Sports', 'Action', 'Action', 'Action', 'Miscellaneous', 'Action', 'Action', 'Sports', 'Simulation', 'Driving', 'Sports', 'Simulation', 'Miscellaneous', 'Sports', 'Action', 'Miscellaneous', 'Action', 'Simulation', 'Role-Playing', 'Driving', 'Role-Playing', 'Racing', 'Sports', 'Driving', 'Adventure', 'Action', 'Strategy', 'Action Adventure', 'Action', 'Role-Playing', 'Sports', 'Miscellaneous', 'Sports', 'Action', 'Role-Playing', 'Role-Playing', 'Action Adventure', 'Action', 'Action', 'Adventure', 'Adventure', 'Action', 'Modern', 'Strategy', 'Role-Playing', 'Action Adventure', 'Action Adventure', 'Action Adventure', 'Action', 'Miscellaneous', 'Action', 'Miscellaneous', 'Strategy', 'Role-Playing', 'Role-Playing', 'Role-Playing', 'Role-Playing', 'Strategy', 'Role-Playing', 'Action Adventure', 'Action', 'Action', 'Simulation', 'Role-Playing', 'Adventure', 'Action Adventure', 'Miscellaneous', 'Action', 'Strategy', 'Role-Playing', 'Driving', 'Action', 'Miscellaneous', 'Sports', 'Driving', 'Driving', 'Puzzle', 'Action Adventure', 'Action', 'Adventure', 'Action', 'Strategy', 'Action', 'Strategy', 'Action', 'Action', 'Strategy', 'Action', 'Strategy', 'Action', 'Action', 'Strategy', 'Action', 'Strategy', 'Action', 'Action', 'Strategy', 'Action', 'Strategy', 'Action', 'Driving', 'Role-Playing', 'Action', 'Action Adventure', 'Action', 'Action Adventure', 'Action', 'Role-Playing', 'Strategy', 'Action', 'Platformer', 'Strategy', 'Role-Playing', 'Action', 'Action', 'Action Adventure', 'Action', 'Action', 'Sports', 'Action', 'Driving', 'Simulation', 'Adventure', 'Strategy', 'Simulation', 'Adventure', 'Miscellaneous', 'Strategy', 'Sports', 'Strategy', 'Historic', 'Simulation', 'General', 'Role-Playing', 'Adventure', 'Action', 'Action', 'Action', 'Role-Playing', 'Strategy', 'Sports', 'Action', 'Strategy', 'Driving', 'Action Adventure', 'Action Adventure', 'Modern', 'Action', 'Action', 'Action Adventure', 'Action Adventure', 'Sports', 'Miscellaneous', 'Puzzle', 'Action', 'Action', 'Action', 'Action', 'Sports', 'Miscellaneous', 'Strategy', 'Action', 'Action Adventure', 'Strategy', 'Action Adventure', 'Role-Playing', 'Action Adventure', 'Platformer', 'Role-Playing', 'Action Adventure', 'Adventure', 'Strategy', 'Action Adventure', 'Adventure', 'Strategy', 'Role-Playing', 'Adventure', 'Action', 'Simulation', 'Racing', 'Miscellaneous', 'Driving', 'Strategy', 'Action Adventure', 'Role-Playing', 'Miscellaneous', 'Driving', 'Strategy', 'Action Adventure', 'Role-Playing', 'Miscellaneous', 'Driving', 'Strategy', 'Action Adventure', 'Role-Playing', 'Miscellaneous', 'Driving', 'Strategy', 'Action Adventure', 'Role-Playing', 'Strategy', 'Miscellaneous', 'Miscellaneous', 'Action', 'Action', 'Action Adventure', 'Action', 'Action', 'Role-Playing', 'Action Adventure', 'Action', 'Miscellaneous', 'Action', 'Adventure', 'Role-Playing', 'Adventure', 'Action Adventure', 'Sports', 'Action', 'Action', 'Action', 'Action', 'Miscellaneous', 'Role-Playing', 'Action', 'Strategy', 'Action Adventure', 'Miscellaneous', 'Role-Playing', 'Driving', 'Action', 'Sports', 'Driving', 'Strategy', 'Driving', 'Driving', 'Driving', 'Role-Playing', 'Action', 'General', 'Miscellaneous', 'Action', 'Racing', 'Role-Playing', 'Strategy', 'Strategy', 'Action', 'Action Adventure', 'Sports', 'Survival', 'Action', 'Action Adventure', 'Action', 'Action Adventure', 'Adventure', 'Sports', 'Action', 'Adventure', 'Role-Playing', 'Action', 'Role-Playing', 'Racing', 'Strategy', 'Action', 'Action', 'Action Adventure', 'Action Adventure', 'Adventure', 'Fantasy', 'Sports', 'Action', 'Sports', 'Racing', 'Sports', 'Action Adventure', 'Action Adventure', 'Sports', 'Action Adventure', 'Action Adventure', 'Miscellaneous', 'Role-Playing', 'Simulation', 'Action Adventure', 'Miscellaneous', 'Action Adventure', 'Role-Playing', 'Simulation', 'Action Adventure', 'Miscellaneous', 'Action Adventure', 'Role-Playing', 'Simulation', 'Action Adventure', 'Miscellaneous', 'Action Adventure', 'Role-Playing', 'Simulation', 'Action Adventure', 'Miscellaneous', 'Action Adventure', 'First-Person', 'Driving', 'General', 'Sports', 'Strategy', 'Sports', 'General', 'Action', 'Action', 'Action', 'Action', 'Racing', 'Action', 'Action', 'Action', 'Sports', 'Adventure', 'Action', 'Action', 'Action', 'Miscellaneous', 'Miscellaneous', 'Driving', 'Action', 'Action Adventure', 'Simulation', 'Role-Playing', 'Racing', 'Simulation', 'Adventure', 'Action', 'Sports', 'Action', 'Strategy', 'Action', 'Role-Playing', 'Sports', 'Action Adventure', 'Role-Playing', 'Platformer', 'Miscellaneous', 'Simulation', 'Driving', 'Action', 'Action', 'Miscellaneous', 'Action', 'Action Adventure', 'Action Adventure', 'Role-Playing', 'Miscellaneous', 'Action', 'First-Person', 'Miscellaneous', 'Action Adventure', 'Action', 'Role-Playing', 'Strategy', 'Platformer', 'Adventure', 'Adventure', 'Strategy', 'Action', 'Action', 'Action', 'Driving', 'Miscellaneous', 'Adventure', 'Driving', 'Role-Playing', 'Strategy', 'Sports', 'Role-Playing', 'Action', 'Strategy', 'Action', 'Role-Playing', 'Role-Playing', 'Role-Playing', 'Strategy', 'Role-Playing', 'Adventure', 'Role-Playing', 'Strategy', 'Role-Playing', 'Role-Playing', 'Adventure', 'Role-Playing', 'Strategy', 'Role-Playing', 'Role-Playing', 'Role-Playing', 'Adventure', 'Role-Playing', 'Strategy', 'Role-Playing', 'Role-Playing', 'Adventure', 'Role-Playing', 'Strategy', 'Role-Playing', 'Action Adventure', 'Action', 'General', 'General', 'Driving', 'Action Adventure', 'Adventure', 'Adventure', 'Miscellaneous', 'Driving', 'Sports', 'Role-Playing', 'Driving', 'Strategy', 'Adventure', 'Strategy', 'Driving', 'Action', 'Action', 'Action', 'Strategy', 'Strategy', 'Action Adventure', 'Action', 'Sports', 'Action', 'General', 'Role-Playing', 'Action', 'Action Adventure', 'Adventure', 'Action Adventure', 'Role-Playing', 'Strategy', 'Miscellaneous', 'Action Adventure', 'Driving', 'Action', 'Miscellaneous', 'Driving', 'Adventure', 'Adventure', 'Action', 'Simulation', 'Role-Playing', 'Adventure', 'Action', 'Action', 'Simulation', 'Action', 'Miscellaneous', 'Action', 'Platformer', 'Role-Playing', 'General', 'Sports', 'Role-Playing', 'Role-Playing', 'Strategy', 'Action Adventure', 'Action Adventure', 'Sports', 'Action Adventure', 'Action', 'Action Adventure', 'Action', 'Action', 'Sports', 'Action Adventure', 'Miscellaneous', 'Strategy', 'Action Adventure', 'Strategy', 'Miscellaneous', 'Role-Playing', 'Action', 'Strategy', 'Action', 'Action', 'Action', 'Action', 'Action Adventure', 'Action', 'Action Adventure', 'Action', 'Action', 'Action Adventure', 'Action', 'Action Adventure', 'Action', 'Action', 'Action Adventure', 'Action', 'Action Adventure', 'Action', 'Action', 'Action Adventure', 'Action', 'Action Adventure', 'Action', 'Action Adventure', 'Role-Playing', 'Action Adventure', 'Action', 'Adventure', 'General', 'Action', 'Role-Playing', 'General', 'Action', 'Action Adventure', 'Sports', 'Action', 'Strategy', 'Role-Playing', 'Sports', 'Action', 'Action Adventure', 'Puzzle', 'Fantasy', 'Action', 'Action Adventure', 'Action', 'Action Adventure', 'Action', 'Action Adventure', 'Action Adventure', 'Simulation', 'Sports', 'Sports', 'Action Adventure', 'Role-Playing', 'Action', 'Strategy', 'Sports', 'Action', 'Action', 'Sports', 'Driving', 'Strategy', 'Action', 'Driving', 'Role-Playing', 'Strategy', 'Action', 'Modern', 'Miscellaneous', 'Driving', 'Action Adventure', 'General', 'Adventure', 'Action', 'Miscellaneous', 'Sports', 'Role-Playing', 'Racing', 'Role-Playing', 'Miscellaneous', 'Action', 'Simulation', 'Sports', 'Miscellaneous', 'Action Adventure', 'Action', 'Action Adventure', 'Action Adventure', 'Sports', 'Action Adventure', 'Role-Playing', 'Action Adventure', 'Action', 'Strategy', 'Sports', 'Action', 'Action Adventure', 'Action', 'Action', 'Action Adventure', 'Simulation', 'Action', 'Action', 'Action', 'Action Adventure', 'Driving', 'General', 'Action', 'Action', 'Action Adventure', 'Driving', 'General', 'Action', 'Action', 'Action Adventure', 'Driving', 'General', 'Action', 'Action', 'Action Adventure', 'Driving', 'General', 'Action', 'Role-Playing', 'Action RPG', 'Miscellaneous', 'Strategy', 'Action Adventure', 'Role-Playing', 'Racing', 'Miscellaneous', 'Puzzle', 'Sports', 'Sports', 'Strategy', 'Driving', 'Driving', 'Strategy', 'Strategy', 'Role-Playing', 'Adventure', 'Adventure', 'Action Adventure', 'Action', 'Action', 'Action', 'Action Adventure', 'Sports', 'Action', 'Action', 'Action', 'Adventure', 'Adventure', 'Miscellaneous', 'Role-Playing', 'Fantasy', 'Sports', 'Racing', 'Driving', 'Adventure', 'Sports', 'Role-Playing', 'Fantasy', 'Role-Playing', 'Action', 'Action', 'Adventure', 'Racing', 'Sports', 'Simulation', 'Strategy', 'Strategy', 'Strategy', 'Driving', 'Racing', 'General', 'Action', 'Action', 'Sports', 'Action', 'Puzzle', 'Role-Playing', 'Role-Playing', 'Driving', 'Action', 'Miscellaneous', 'Role-Playing', 'Role-Playing', 'Simulation', 'Action', 'Action Adventure', 'Action', 'Role-Playing', 'Sports', 'Action', 'Role-Playing', 'Role-Playing', 'Action Adventure', 'Fantasy', 'Strategy', 'Miscellaneous', 'Adventure', 'Simulation', 'Sports', 'Sports', 'Driving', 'Role-Playing', 'Simulation', 'Sports', 'Sports', 'Driving', 'Role-Playing', 'Simulation', 'Sports', 'Sports', 'Driving', 'Role-Playing', 'Simulation', 'Sports', 'Sports', 'Driving', 'Role-Playing', 'Sports', 'Role-Playing', 'Simulation', 'Racing', 'Role-Playing', 'Adventure', 'Action', 'Role-Playing', 'Action', 'Puzzle', 'Action', 'Horror', 'Action', 'Fantasy', 'Action Adventure', 'Action', 'Action', 'Miscellaneous', 'Action Adventure', 'Miscellaneous', 'Strategy', 'Strategy', 'General', 'Action', 'Adventure', 'Role-Playing', 'Driving', 'Driving', 'General', 'Sports', 'Role-Playing', 'Miscellaneous', 'Sports', 'Role-Playing', 'Action', 'Action Adventure', 'Fantasy', 'Role-Playing', 'Role-Playing', 'Action', 'Adventure', 'Miscellaneous', 'Action', 'Strategy', 'Driving', 'Simulation', 'Role-Playing', 'Role-Playing', 'Action', 'Action Adventure', 'Action', 'Action', 'Action', 'Action', 'Action', 'Sports', 'Action', 'Miscellaneous', 'Action', 'Action', 'Puzzle', 'Role-Playing', 'Role-Playing', 'Sports', 'Adventure', 'Driving', 'Action Adventure', 'Action Adventure', 'Adventure', 'Role-Playing', 'General', 'Action Adventure', 'Puzzle', 'Sports', 'Action', 'Action Adventure', 'Sports', 'Sports', 'Sports', 'Action', 'Adventure', 'Action Adventure', 'Role-Playing', 'Action', 'Adventure', 'Adventure', 'Action Adventure', 'Role-Playing', 'Action', 'Adventure', 'Adventure', 'Action Adventure', 'Role-Playing', 'Action', 'Adventure', 'Adventure', 'Action Adventure', 'Role-Playing', 'Action', 'Adventure', 'Miscellaneous', 'General', 'Miscellaneous', 'Sports', 'Sci-Fi', 'General', 'Role-Playing', 'Strategy', 'Sports', 'Action', 'Driving', 'Miscellaneous', 'Sports', 'Action', 'Simulation', 'Strategy', 'Adventure', 'Driving', 'Action Adventure', 'Role-Playing', 'Driving', 'Action', 'Sports', 'Sports', 'Puzzle', 'Action', 'Adventure', 'Action', 'Role-Playing', 'Action Adventure', 'Action Adventure', 'Role-Playing', 'Action', 'Fantasy', 'Miscellaneous', 'Action Adventure', 'Sports', 'Action Adventure', 'Adventure', 'Action', 'General', 'Role-Playing', 'Action', 'Sports', 'Miscellaneous', 'Action Adventure', 'General', 'Puzzle', 'Sports', 'Adventure', 'Action', 'Miscellaneous', 'Puzzle', 'Sports', 'Action', 'Role-Playing', 'Sports', 'Role-Playing', 'Sports', 'Sports', 'Action', 'Action Adventure', 'Simulation', 'Role-Playing', 'Simulation', 'Fantasy', 'Simulation', 'General', 'Action', 'Strategy', 'Miscellaneous', 'General', 'Sports', 'Role-Playing', 'Role-Playing', 'Action', 'Action', 'Miscellaneous', 'Role-Playing', 'Strategy', 'Action Adventure', 'Action Adventure', 'Role-Playing', 'Miscellaneous', 'Miscellaneous', 'Action Adventure', 'Action Adventure', 'Role-Playing', 'Miscellaneous', 'Miscellaneous', 'Action Adventure', 'Action Adventure', 'Role-Playing', 'Miscellaneous', 'Miscellaneous', 'Action Adventure', 'Action Adventure', 'Role-Playing', 'Miscellaneous', 'Miscellaneous', 'Fantasy', 'Strategy', 'Action', 'Adventure', 'Action', 'Action', 'Action Adventure', 'Sci-Fi', 'General', 'Action', 'Role-Playing', 'Sports', 'Action', 'Racing', 'Action', 'Strategy', 'Action Adventure', 'Action', 'Role-Playing', 'Role-Playing', 'Simulation', 'Miscellaneous', 'Strategy', 'Simulation', 'Action', 'Action', 'Role-Playing', 'Sports', 'Action Adventure', 'Action', 'Action Adventure', 'Action Adventure', 'General', 'Role-Playing', 'Sports', 'Adventure', 'Action', 'Role-Playing', 'Miscellaneous', 'Miscellaneous', 'Action', 'Action', 'Sports', 'Simulation', 'Sports', 'Action', 'Action', 'Strategy', 'Adventure', 'Action Adventure', 'Sports', 'Adventure', 'Action Adventure', 'Action', 'Action Adventure', 'Role-Playing', 'Action', 'Action', 'Miscellaneous', 'Action', 'Action Adventure', 'Action', 'Role-Playing', 'Action', 'Action', 'Miscellaneous', 'Adventure', 'Action', 'Action', 'Racing', 'Adventure', 'Action', 'Action', 'Action', 'Sci-Fi', 'Adventure', 'Adventure', 'Role-Playing', 'Adventure', 'Action', 'Role-Playing', 'Sports', 'Role-Playing', 'Miscellaneous', 'Driving', 'Role-Playing', 'Sports', 'Role-Playing', 'Miscellaneous', 'Driving', 'Role-Playing', 'Sports', 'Role-Playing', 'Miscellaneous', 'Driving', 'Role-Playing', 'Sports', 'Role-Playing', 'Miscellaneous', 'Driving', 'Sports', 'Action', 'Driving', 'Action', 'Action', 'Role-Playing', 'Role-Playing', 'Action', 'Strategy', 'Sports', 'Strategy', 'Action', 'Sports', 'Driving', 'Miscellaneous', 'Action Adventure', 'Action', 'Strategy', 'Simulation', 'Action', 'Role-Playing', 'Puzzle', 'Strategy', 'Adventure', 'Action Adventure', 'Action', 'Action Adventure', 'Action Adventure', 'Miscellaneous', 'Strategy', 'Role-Playing', 'Adventure', 'Role-Playing', 'Adventure', 'Action Adventure', 'Action', 'Action', 'Action', 'Action', 'Miscellaneous', 'Action', 'Simulation', 'Puzzle', 'Action', 'Sports', 'Sports', 'Strategy', 'Adventure', 'Action Adventure', 'Adventure', 'Sports', 'Role-Playing', 'Miscellaneous', 'Action', 'Strategy', 'Action Adventure', 'Role-Playing', 'Action', 'Strategy', 'Driving', 'Action Adventure', 'Miscellaneous', 'Driving', 'Action Adventure', 'Strategy', 'Shooter', 'Action', 'Miscellaneous', 'Strategy', 'Miscellaneous', 'Role-Playing', 'Role-Playing', 'Driving', 'General', 'Strategy', 'Role-Playing', 'Adventure', 'General', 'Action', 'Action', 'Strategy', 'Action Adventure', 'Role-Playing', 'Action Adventure', 'Action', 'Strategy', 'Action Adventure', 'Role-Playing', 'Action Adventure', 'Action', 'Strategy', 'Action Adventure', 'Role-Playing', 'Action Adventure', 'Action', 'Strategy', 'Action Adventure', 'Role-Playing', 'Action Adventure', 'Action', 'Action', 'Sports', 'Action', 'General', 'Action', 'Action', 'Action Adventure', 'Sports', 'Action', 'Strategy', 'Action Adventure', 'Sports', 'Miscellaneous', 'Action', 'Action', 'General', 'Action', 'Role-Playing', 'Adventure', 'Action', 'Miscellaneous', 'Action', 'Role-Playing', 'Sci-Fi', 'Adventure', 'Sports', 'Simulation', 'Role-Playing', 'General', 'Action', 'Action Adventure', 'Puzzle', 'Strategy', 'Action', 'Action', 'Puzzle', 'Action', 'Role-Playing', 'Miscellaneous', 'Sports', 'Sports', 'Role-Playing', 'Action', 'Sports', 'Sports', 'Strategy', 'Miscellaneous', 'Driving', 'Driving', 'Strategy', 'Action', 'Action', 'Action', 'Action Adventure', 'Action', 'Adventure', 'Adventure', 'Driving', 'Miscellaneous', 'Racing', 'Action', 'Action', 'Action', 'Action', 'Action', 'Role-Playing', 'Simulation', 'Action Adventure', 'Role-Playing', 'Action', 'Sports', 'Role-Playing', 'Action Adventure', 'Sports', 'Action', 'Action', 'Simulation', 'Sports', 'Action', 'Role-Playing', 'Action', 'Simulation', 'Role-Playing', 'Action', 'Sports', 'Miscellaneous', 'Simulation', 'Role-Playing', 'Action', 'Sports', 'Miscellaneous', 'Simulation', 'Role-Playing', 'Strategy', 'Action', 'Action', 'Action Adventure', 'Adventure', 'Action', 'Action', 'Simulation', 'Action', 'Role-Playing', 'Adventure', 'Sports', 'Role-Playing', 'Action', 'Strategy', 'Strategy', 'Sports', 'Sports', 'Miscellaneous', 'Strategy', 'Strategy', 'Strategy', 'Miscellaneous', 'Strategy', 'Puzzle', 'Action', 'Role-Playing', 'Action', 'Sports', 'Sports', 'Miscellaneous', 'Action', 'Action', 'Action', 'Action Adventure', 'Strategy', 'Action', 'Platformer', 'Driving', 'Sports', 'General', 'Adventure', 'Miscellaneous', 'Action Adventure', 'Action', 'Action', 'Action', 'Adventure', 'Action', 'Sports', 'Role-Playing', 'Action', 'Action', 'Strategy', 'Role-Playing', 'Strategy', 'Action', 'Simulation', 'PC-style RPG', 'Role-Playing', 'Strategy', 'Action Adventure', 'Role-Playing', 'Adventure', 'Sports', 'Action', 'Miscellaneous', 'Adventure', 'Action', 'Action', 'Miscellaneous', 'Strategy', 'Action', 'Action', 'Sports', 'Adventure', 'Role-Playing', 'General', 'Action', 'Adventure', 'Miscellaneous', 'Strategy', 'Sports', 'Sports', 'Action', 'Miscellaneous', 'Strategy', 'Sports', 'Sports', 'Action', 'Miscellaneous', 'Strategy', 'Sports', 'Sports', 'Action', 'Miscellaneous', 'Strategy', 'Sports', 'Sports', 'Action', 'Action', 'Puzzle', 'Simulation', 'Action', 'Action', 'Adventure', 'Strategy', 'Action', 'Adventure', 'Role-Playing', 'Driving', 'Action Adventure', 'Simulation', 'Sports', 'Miscellaneous', 'Sports', 'Adventure', 'Sports', 'Strategy', 'Sports', 'Action', 'Driving', 'Action', 'Strategy', 'Role-Playing', 'Platformer', 'Racing', 'Action', 'Adventure', 'Action', 'Action', 'Miscellaneous', 'Strategy', 'Action', 'Miscellaneous', 'Action', 'Role-Playing', 'Sports', 'Strategy', 'Action', 'Driving', 'Action', 'General', 'Role-Playing', 'Action', 'Action Adventure', 'Action', 'Action', 'Adventure', 'Action', 'Role-Playing', 'Action', 'Action Adventure', 'Action', 'Action', 'Miscellaneous', 'Adventure', 'Role-Playing', 'Sports', 'Strategy', 'Action', 'Action', 'Role-Playing', 'Action', 'Action', 'Sports', 'Action', 'Sports', 'Action', 'Action', 'Strategy', 'Strategy', 'Action', 'Adventure', 'Action', 'Action', 'Action Adventure', 'Action Adventure', 'Action Adventure', 'Role-Playing', 'Simulation', 'Action', 'Action', 'Sports', 'Role-Playing', 'Simulation', 'Action', 'Action', 'Sports', 'Role-Playing', 'Simulation', 'Action', 'Action', 'Sports', 'Role-Playing', 'Simulation', 'Action', 'Action', 'Sports', 'Role-Playing', 'Adventure', 'Action Adventure', 'Adventure', 'Driving', 'Role-Playing', 'Role-Playing', 'Action Adventure', 'General', 'Action', 'Sports', 'Driving', 'Strategy', 'Sports', 'Sports', 'Strategy', 'Action Adventure', 'Action', 'Strategy', 'Racing', 'Action', 'Miscellaneous', 'Role-Playing', 'Action', 'Action', 'Action', 'Action', 'Miscellaneous', 'Strategy', 'Action Adventure', 'Action', 'General', 'Adventure', 'Miscellaneous', 'Role-Playing', 'Role-Playing', 'Action', 'Strategy', 'Puzzle', 'Adventure', 'Action', 'Adventure', 'General', 'Puzzle', 'Strategy', 'Strategy', 'Miscellaneous', 'Role-Playing', 'Driving', 'Action Adventure', 'Action Adventure', 'Action', 'Role-Playing', 'Action', 'General', 'Action Adventure', 'Miscellaneous', 'Action', 'Racing', 'Miscellaneous', 'Action', 'Miscellaneous', 'Miscellaneous', 'Strategy', 'Action', 'Puzzle', 'Sports', 'Strategy', 'Action', 'Strategy', 'Scrolling', 'Action Adventure', 'Role-Playing', 'Action', 'Action', 'Puzzle', 'Open-World', 'Action', 'Action', 'Strategy', 'Action Adventure', 'Action', 'Action Adventure', 'Action', 'Role-Playing', 'Action', 'Action', 'Action Adventure', 'Action', 'Role-Playing', 'Action', 'Action', 'Action Adventure', 'Action', 'Role-Playing', 'Action', 'Action', 'Action Adventure', 'Action', 'Role-Playing', 'Action', 'Sports', 'Role-Playing', 'Strategy', 'Role-Playing', 'Strategy', 'Sports', 'Miscellaneous', 'Action', 'Action', 'Strategy', 'Role-Playing', 'Miscellaneous', 'Action', 'Sports', 'Action Adventure', 'Sports', 'Adventure', 'Adventure', 'Adventure', 'Role-Playing', 'Action', 'Fantasy', 'Action', 'Role-Playing', 'Strategy', 'Strategy', 'Action', 'Action Adventure', 'Strategy', 'Strategy', 'Miscellaneous', 'Role-Playing', 'Action Adventure', 'Role-Playing', 'Miscellaneous', 'Modern', 'Strategy', 'Action', 'Action Adventure', 'Action', 'Racing', 'Racing', 'Miscellaneous', 'Modern', 'Action Adventure', 'Action Adventure', 'Adventure', 'Action Adventure', 'Action Adventure', 'Action Adventure', 'Strategy', 'Role-Playing', 'Adventure', 'Role-Playing', 'Action', 'Action Adventure', 'Action', 'Action', 'Simulation', 'Adventure', 'Action', 'Action Adventure', 'Driving', 'Adventure', 'Action Adventure', 'Sports', 'Action', 'Action', 'Strategy', 'Adventure', 'Action', 'Role-Playing', 'Strategy', 'Role-Playing', 'Action', 'Action', 'Sports', 'Action', 'Action', 'Role-Playing', 'Arcade', 'Action', 'Driving', 'Action Adventure', 'Action', 'Arcade', 'Action', 'Driving', 'Action Adventure', 'Action', 'Arcade', 'Action', 'Driving', 'Action Adventure', 'Action', 'Arcade', 'Action', 'Driving', 'Action Adventure', 'Action', 'Sports', 'Miscellaneous', 'Action Adventure', 'Puzzle', 'Role-Playing', 'Action Adventure', 'Action', 'Adventure', 'Strategy', 'Miscellaneous', 'Action', 'Action', 'Action', 'Strategy', 'Action', 'Sports', 'Action Adventure', 'Sports', 'Sports', 'Sports', 'Action Adventure', 'Miscellaneous', 'Action Adventure', 'Role-Playing', 'Miscellaneous', 'Action Adventure', 'Miscellaneous', 'Action', 'Action Adventure', 'Role-Playing', 'Role-Playing', 'Action', 'Action Adventure', 'Adventure', 'Sports', 'Adventure', 'Action', 'Action Adventure', 'Miscellaneous', 'Simulation', 'Action', 'Adventure', 'Strategy', 'Action', 'Action Adventure', 'Action Adventure', 'Action', 'Action', 'Action Adventure', 'Action Adventure', 'General', 'Action', 'Driving', 'General', 'Adventure', 'Action', 'Action', 'Action', 'Action', 'Action Adventure', 'Action', 'Action', 'Strategy', 'Action', 'Action Adventure', 'Action', 'Action', 'Strategy', 'Puzzle', 'Action', 'Action', 'Miscellaneous', 'Role-Playing', 'Action', 'Sports', 'Role-Playing', 'Role-Playing', 'Role-Playing', 'Action', 'Action', 'Action', 'Action', 'Strategy', 'General', 'Strategy', 'Action', 'Action', 'Strategy', 'General', 'Strategy', 'Action', 'Action', 'Strategy', 'General', 'Strategy', 'Action', 'Action', 'Strategy', 'General', 'Strategy', 'Miscellaneous', 'Action', 'Action Adventure', 'Action', 'Sports', 'Role-Playing', 'Strategy', 'Miscellaneous', 'Action', 'Action', 'Strategy', 'Action', 'Sports', 'Role-Playing', 'Strategy', 'Role-Playing', 'Sports', 'Action', 'Action', 'Sports', 'Sports', 'Driving', 'Action', 'Strategy', 'Role-Playing', 'Role-Playing', 'Action', 'General', 'Role-Playing', 'Role-Playing', 'Driving', 'Sports', 'Role-Playing', 'Action', 'Sports', 'Action', 'Adventure', 'Sci-Fi', 'Driving', 'Role-Playing', 'Simulation', 'Racing', 'Action Adventure', 'Sports', 'Action Adventure', 'Role-Playing', 'Action Adventure', 'Action', 'Adventure', 'General', 'Action', 'Miscellaneous', 'Adventure', 'Action', 'Adventure', 'Adventure', 'Action', 'Miscellaneous', 'Action', 'Action', 'Action Adventure', 'Miscellaneous', 'Sports', 'Strategy', 'Strategy', 'General', 'Action', 'Action Adventure', 'Miscellaneous', 'Action', 'Action', 'Real-Time', 'Sports', 'Role-Playing', 'Adventure', 'Strategy', 'Action', 'Role-Playing', 'Miscellaneous', 'Action Adventure', 'Action Adventure', 'Action Adventure', 'Action', 'Action', 'Action', 'Action Adventure', 'Action Adventure', 'Action', 'Action', 'Action', 'Action Adventure', 'Action Adventure', 'Action', 'Action', 'Action', 'Action Adventure', 'Action Adventure', 'Action', 'Action', 'Action', 'Action Adventure', 'Action', 'Action', 'Role-Playing', 'Action Adventure', 'Strategy', 'Action', 'Action', 'Role-Playing', 'Action', 'Racing', 'Sports', 'Role-Playing', 'Strategy', 'Action', 'Miscellaneous', 'Action Adventure', 'Puzzle', 'Action', 'Role-Playing', 'Action', 'Miscellaneous', 'Action', 'Miscellaneous', 'Action Adventure', 'Role-Playing', 'Modern', 'Miscellaneous', 'Driving', 'Sports', 'Miscellaneous', 'Simulation', 'Traditional', 'Role-Playing', 'Action Adventure', 'Action', 'Sports', 'Strategy', 'General', 'Action', 'Action', 'Action', 'Miscellaneous', 'Strategy', 'Driving', 'Role-Playing', 'General', 'Adventure', 'Action Adventure', 'Action Adventure', 'Adventure', 'Action', 'Sports', 'Adventure', 'Role-Playing', 'Adventure', 'Action', 'Action', 'Adventure', 'Puzzle', 'Strategy', 'Role-Playing', 'Action Adventure', 'Miscellaneous', 'Action', 'Strategy', 'Miscellaneous', 'Action', 'Action', 'Simulation', 'Role-Playing', 'Action', 'General', 'Action', 'General', 'Simulation', 'Action', 'Sports', 'Action', 'Action', 'Action', 'Miscellaneous', 'Action', 'Miscellaneous', 'Action', 'Action', 'Miscellaneous', 'Action', 'Miscellaneous', 'Action', 'Action', 'Miscellaneous', 'Action', 'Miscellaneous', 'Action', 'Action', 'Miscellaneous', 'Action', 'Miscellaneous', 'Strategy', 'Strategy', 'Role-Playing', 'Role-Playing', 'Puzzle', 'Miscellaneous', 'Role-Playing', 'Role-Playing', 'Action', 'Action', 'Action', 'Action', 'Action Adventure', 'Sports', 'Action', 'Action', 'Role-Playing', 'Action', 'Action Adventure', 'Miscellaneous', 'Strategy', 'Sports', 'Action', 'Sports', 'Action', 'Action', 'First-Person', 'Role-Playing', 'Action', 'Puzzle', 'Adventure', 'Action', 'Action', 'Driving', 'Sports', 'Sports', 'Action', 'Action Adventure', 'Simulation', 'Driving', 'Strategy', 'Action', 'Miscellaneous', 'Sports', 'Role-Playing', 'Action', 'Action Adventure', 'Adventure', 'Action', 'Action', 'Adventure', 'Action', 'Sports', 'Action', 'Sports', 'Action', 'Action', 'Action', 'Strategy', 'Strategy', 'Miscellaneous', 'Action Adventure', 'Action', 'Sports', 'Role-Playing', 'Action Adventure', 'Adventure', 'Role-Playing', 'Miscellaneous', 'Strategy', 'Sports', 'Action', 'General', 'Action', 'Role-Playing', 'Miscellaneous', 'Strategy', 'Sports', 'Sports', 'Strategy', 'Adventure', 'Adventure', 'Sports', 'Driving', 'Driving', 'Adventure', 'Adventure', 'Sports', 'Driving', 'Driving', 'Adventure', 'Adventure', 'Sports', 'Driving', 'Driving', 'Adventure', 'Adventure', 'Sports', 'Driving', 'Driving', 'Sports', 'Action', 'Action', 'Action Adventure', 'Sports', 'Role-Playing', 'Action', 'Action', 'Role-Playing', 'Role-Playing', 'Sports', 'Action', 'Action Adventure', 'Puzzle', 'Adventure', 'Simulation', 'Role-Playing', 'Strategy', 'Sports', 'Action RPG', 'Action Adventure', 'Strategy', 'Role-Playing', 'Action', 'Driving', 'Role-Playing', 'Role-Playing', 'Simulation', 'Strategy', 'Action', 'Action', 'Puzzle', 'Action', 'Action', 'Action RPG', 'Action Adventure', 'Action', 'General', 'Adventure', 'Action', 'Simulation', 'Action', 'Action', 'Action', 'Role-Playing', 'Action', 'Action', 'Action', 'General', 'Action', 'Action', 'PC-style RPG', 'Action', 'Action', 'Action', 'Action Adventure', 'Action Adventure', 'Action Adventure', 'Role-Playing', 'Role-Playing', 'Sports', 'General', 'Miscellaneous', 'Action', 'Action', 'Strategy', 'Miscellaneous', 'Action', 'Action Adventure', 'Strategy', 'Action', 'Action', 'Sports', 'Console-style RPG', 'Action Adventure', 'Sports', 'Sci-Fi', 'Action', 'Shooter', 'Adventure', 'Action', 'Action', 'Strategy', 'Sports', 'Role-Playing', 'Action', 'Action', 'Strategy', 'Sports', 'Role-Playing', 'Action', 'Action', 'Strategy', 'Sports', 'Role-Playing', 'Action', 'Action', 'Strategy', 'Sports', 'Role-Playing', 'Strategy', 'Adventure', 'Action', 'Miscellaneous', 'Sports', 'Miscellaneous', 'Role-Playing', 'Role-Playing', 'Role-Playing', 'Action Adventure', 'Action', 'Action', 'Sports', 'Action', 'Action Adventure', 'Role-Playing', 'Racing', 'Adventure', 'Action Adventure', 'Sports', 'Strategy', 'Action Adventure', 'Strategy', 'Sports', 'Driving', 'Action Adventure', 'Miscellaneous', 'Action', 'Sports', 'Sports', 'Shooter', 'Action', 'Puzzle', 'Action', 'Action', 'Action', 'Action', 'Role-Playing', 'Action', 'Action Adventure', 'Action', 'Action', 'Sports', 'Action', 'Driving', 'Action', 'Sports', 'Action', 'Action', 'Adventure', 'Action', 'Miscellaneous', 'Strategy', 'Strategy', 'Action', 'Adventure', 'Strategy', 'Action', 'Action', 'Miscellaneous', 'Strategy', 'Simulation', 'Action Adventure', 'Action', 'Adventure', 'Action', 'Driving', 'Sports', 'Strategy', 'Sports', 'Action', 'Action', 'Strategy', 'Role-Playing', 'Strategy', 'Driving', 'Action', 'Adventure', 'Action', 'Shooter', 'Action Adventure', 'Action', 'Sports', 'Action', 'Action Adventure', 'Action Adventure', 'Action', 'Sports', 'Action', 'Action Adventure', 'Action Adventure', 'Action', 'Sports', 'Action', 'Action Adventure', 'Action Adventure', 'Action', 'Sports', 'Action', 'Action Adventure', 'Action Adventure', 'Racing', 'Action', 'Adventure', 'Action Adventure', 'Action', 'Strategy', 'Miscellaneous', 'Adventure', 'Strategy', 'Action', 'Action', 'Role-Playing', 'Strategy', 'Adventure', 'Action Adventure', 'Simulation', 'Action', 'Action', 'Strategy', 'Action', 'Action', 'Miscellaneous', 'Action', 'Action', 'Action', 'Sports', 'Action Adventure', 'Driving', 'Action Adventure', 'Strategy', 'Adventure', 'Strategy', 'Strategy', 'Role-Playing', 'Sports', 'Action Adventure', 'Adventure', 'Adventure', 'Action Adventure', 'Adventure', 'Japanese-Style', 'Strategy', 'Action', 'Action', 'Action Adventure', 'Action', 'Simulation', 'Strategy', 'Adventure', 'Role-Playing', 'Strategy', 'Action Adventure', 'Sports', 'Driving', 'Driving', 'Role-Playing', 'Strategy', 'Driving', 'GT / Street', 'Action', 'Action Adventure', 'Action', 'Action', 'Strategy', 'Action', 'Action Adventure', 'General', 'Action', 'Role-Playing', 'Action', 'Sci-Fi', 'Action Adventure', 'Driving', 'Action Adventure', 'Adventure', 'Adventure', 'Adventure', 'Miscellaneous', 'Action Adventure', 'Action Adventure', 'Role-Playing', 'Racing', 'Action', 'Strategy', 'Action Adventure', 'Role-Playing', 'Racing', 'Action', 'Strategy', 'Action Adventure', 'Role-Playing', 'Racing', 'Action', 'Strategy', 'Action Adventure', 'Role-Playing', 'Racing', 'Action', 'Strategy', 'Miscellaneous', 'Strategy', 'Miscellaneous', 'Action', 'Action', 'Driving', 'Driving', 'Simulation', 'Strategy', 'Miscellaneous', 'Action', 'Action', 'Action', 'Action', 'Adventure', 'Action Adventure', 'Adventure', 'Role-Playing', 'Puzzle', 'Adventure', 'Action', 'Action', 'Horror', 'Strategy', 'Sports', 'Action', 'Action Adventure', 'Miscellaneous', 'Strategy', 'Action Adventure', 'Racing', 'Action Adventure', 'Action', 'Miscellaneous', 'Strategy', 'Sports', 'Miscellaneous', 'Action', 'Action', 'Action Adventure', 'Action', 'Action', 'Simulation', 'Action', 'Adventure', 'Adventure', 'Action', 'Racing', 'Strategy', 'Adventure', 'Role-Playing', 'Action', 'Action Adventure', 'Driving', 'Action', 'Action', 'Strategy', 'General', 'Action Adventure', 'Action', 'Action Adventure', 'Sports', 'Strategy', 'Adventure', 'Miscellaneous', 'Simulation', 'Driving', 'Miscellaneous', 'Role-Playing', 'Action Adventure', 'Action', 'Miscellaneous', 'Sports', 'Action', 'Role-Playing', 'Sports', 'Sports', 'Strategy', 'Action', 'Strategy', 'Miscellaneous', 'Action', 'Action', 'Action', 'Role-Playing', 'Miscellaneous', 'Action', 'Action', 'Action', 'Role-Playing', 'Miscellaneous', 'Action', 'Action', 'Action', 'Role-Playing', 'Miscellaneous', 'Action', 'Action', 'Action', 'Role-Playing', 'Sports', 'Strategy', 'General', 'Action', 'Role-Playing', 'Action Adventure', 'Action', 'Adventure', 'Role-Playing', 'Action', 'Driving', 'Action Adventure', 'Strategy', 'Action', 'Action', 'Action Adventure', 'Action', 'Role-Playing', 'Sports', 'Strategy', 'Action', 'Action Adventure', 'Strategy', 'Adventure', 'Action', 'Adventure', 'Role-Playing', 'Puzzle', 'Action', 'Strategy', 'Miscellaneous', 'Adventure', 'Action Adventure', 'Strategy', 'Action', 'Action', 'Action', 'General', 'Action', 'Action', 'Adventure', 'Driving', 'Strategy', 'Action', 'Strategy', 'Puzzle', 'Adventure', 'Action', 'Role-Playing', 'Strategy', 'Sports', 'Miscellaneous', 'Simulation', 'Miscellaneous', 'Adventure', 'Miscellaneous', 'Sports', 'Action', 'Miscellaneous', 'Sports', 'Action', 'Action Adventure', 'Role-Playing', 'Sports', 'Adventure', 'Miscellaneous', 'General', 'Sports', 'Action', 'Arcade', 'Adventure', 'Action', 'Platformer', 'Action', 'Sports', 'Action', 'Action Adventure', 'Action Adventure', 'Action Adventure', 'Driving', 'Action', 'Miscellaneous', 'Action', 'Action', 'Role-Playing', 'Action', 'Miscellaneous', 'Action', 'Action', 'Role-Playing', 'Action', 'Miscellaneous', 'Action', 'Action', 'Role-Playing', 'Action', 'Miscellaneous', 'Action', 'Action', 'Role-Playing', 'Adventure', 'Action', 'Sports', 'Action', 'Action', 'Action RPG', 'Strategy', 'Miscellaneous', 'Strategy', 'Action Adventure', 'Action', 'Action', 'Strategy', 'Action Adventure', 'Driving', 'Action Adventure', 'Action', 'Simulation', 'Miscellaneous', 'Sports', 'Action', 'Role-Playing', 'Role-Playing', 'Sports', 'Action', 'Role-Playing', 'Action Adventure', 'Action', 'Simulation', 'Action', 'Action Adventure', 'Role-Playing', 'Adventure', 'Role-Playing', 'Action', 'Miscellaneous', 'Action', 'Action', 'Strategy', 'General', 'Sports', 'Action', 'Action Adventure', 'General', 'Action', 'Action', 'Action', 'Action Adventure', 'Strategy', 'Driving', 'Action', 'Action', 'Action', 'Role-Playing', 'Action Adventure', 'Miscellaneous', 'Role-Playing', 'Action', 'Strategy', 'Action', 'Miscellaneous', 'Action', 'Action', 'Driving', 'Role-Playing', 'Miscellaneous', 'Miscellaneous', 'Action', 'Driving', 'Action', 'Action', 'Adventure', 'Action Adventure', 'Role-Playing', 'Action', 'Action Adventure', 'Adventure', 'Action', 'Action Adventure', 'Adventure', 'Action', 'Role-Playing', 'Action', 'Role-Playing', 'Adventure', 'Action', 'Role-Playing', 'Action', 'Role-Playing', 'Adventure', 'Action', 'Role-Playing', 'Action', 'Role-Playing', 'Adventure', 'Action', 'Role-Playing', 'Action', 'Role-Playing', 'Adventure', 'Adventure', 'Action Adventure', 'Action', 'Strategy', 'Action Adventure', 'Action', 'Sports', 'Adventure', 'Sports', 'Miscellaneous', 'Miscellaneous', 'Strategy', 'Action', 'Action', 'Driving', 'Simulation', 'Miscellaneous', 'Strategy', 'Sports', 'Action Adventure', 'Sports', 'Action', 'Shooter', 'Action Adventure', 'Action', 'Adventure', 'Action', 'Action', 'Action', 'Action', 'Action', 'Driving', 'Action', 'Adventure', 'Action', 'Sports', 'Action', 'Action Adventure', 'Sports', 'Sports', 'Action', 'Action', 'Strategy', 'Miscellaneous', 'Adventure', 'Action', 'Strategy', 'Adventure', 'Role-Playing', 'Miscellaneous', 'Sports', 'Action', 'Strategy', '2D', 'Driving', 'Role-Playing', 'Role-Playing', 'Role-Playing', 'Miscellaneous', 'Adventure', 'Adventure', 'Action Adventure', 'Miscellaneous', 'Action', 'Adventure', 'Role-Playing', 'Sports', 'Sports', 'Action', 'Action', 'Action', 'Action', 'Action', 'Adventure', 'Role-Playing', 'Action', 'Adventure', 'Driving', 'Action', 'Role-Playing', 'Action Adventure', 'Action Adventure', 'Strategy', 'General', 'Action', 'Action Adventure', 'Action Adventure', 'Strategy', 'General', 'Action', 'Action Adventure', 'Action Adventure', 'Strategy', 'General', 'Action', 'Action Adventure', 'Action Adventure', 'Strategy', 'General', 'Action', 'Action', 'Miscellaneous', 'Sports', 'Action', 'Role-Playing', 'Sports', 'Role-Playing', 'Action', 'Sports', 'Adventure', 'Action Adventure', 'Role-Playing', 'Strategy', 'Sports', 'Action Adventure', 'Role-Playing', 'Action', 'Miscellaneous', 'Role-Playing', 'Action Adventure', 'Role-Playing', 'Racing', 'Action Adventure', 'Strategy', 'Action', 'Racing', 'Role-Playing', 'Action', 'Adventure', 'Action', 'Action', 'Action Adventure', 'Action Adventure', 'Racing', 'Adventure', 'Role-Playing', 'Action Adventure', 'Action Adventure', 'Role-Playing', 'Sports', 'Action', 'Role-Playing', 'Action Adventure', 'Action Adventure', 'Miscellaneous', 'Role-Playing', 'Action Adventure', 'Role-Playing', 'Action', 'Simulation', 'Sports', 'Simulation', 'Sports', 'Strategy', 'Action Adventure', 'Action', 'Action', 'Action', 'Japanese-Style', 'Simulation', 'Action Adventure', 'Role-Playing', 'Puzzle', 'Action', 'Driving', 'Adventure', 'Racing', 'Action Adventure', 'Simulation', 'Action', 'Driving', 'Racing', 'Action Adventure', 'Sci-Fi', 'Action', 'Strategy', 'Adventure', 'Action', 'Action', 'Puzzle', 'Strategy', 'Action', 'Sports', 'Role-Playing', 'Strategy', 'Strategy', 'Action', 'Sports', 'Role-Playing', 'Strategy', 'Strategy', 'Action', 'Sports', 'Role-Playing', 'Strategy', 'Strategy', 'Action', 'Sports', 'Role-Playing', 'Strategy', 'Action Adventure', 'Action Adventure', 'Miscellaneous', 'Adventure', 'Adventure', 'Action', 'Puzzle', 'General', 'Miscellaneous', 'Sports', 'Strategy', 'Sports', 'Sports', 'Action', 'Adventure', 'General', 'Action', 'Action Adventure', 'Action', 'Sports', 'Action', 'Action', 'Adventure', 'Action Adventure', 'Simulation', 'Action', 'General', 'Adventure', 'Miscellaneous', 'Action', 'Action', 'Action', 'Puzzle', 'Action', 'Action', 'Adventure', 'Sports', 'Action', 'Adventure', 'Action', 'Action', 'Action', 'Role-Playing', 'Sports', 'Action', 'Action Adventure', 'Adventure', 'Miscellaneous', 'Action', 'Adventure', 'Adventure', 'Role-Playing', 'Sports', 'Driving', 'Action', 'Racing', 'Strategy', 'Strategy', 'Action', 'General', 'Action', 'Action Adventure', 'Racing', 'Sports', 'Sports', 'Action', 'Puzzle', 'Action Adventure', 'Role-Playing', 'Miscellaneous', 'Action Adventure', 'Driving', 'Role-Playing', 'Sports', 'Role-Playing', 'Simulation', 'Miscellaneous', 'Action', 'Action', 'Simulation', 'Strategy', 'Adventure', 'Action', 'Role-Playing', 'Racing', 'Strategy', 'Adventure', 'Action', 'Role-Playing', 'Racing', 'Strategy', 'Adventure', 'Action', 'Role-Playing', 'Racing', 'Strategy', 'Adventure', 'Action', 'Role-Playing', 'Racing', 'Action', 'Action', 'Puzzle', 'Role-Playing', 'Driving', 'Simulation', 'Action Adventure', 'Action', 'Adventure', 'Action', 'Role-Playing', 'Action', 'Sports', 'Driving', 'Action Adventure', 'Role-Playing', 'Action', 'Adventure', 'Strategy', 'Action', 'Role-Playing', 'Action', 'Action Adventure', 'Action', 'Action', 'Simulation', 'Adventure', 'Role-Playing', 'Action', 'Action Adventure', 'Simulation', 'Racing', 'Role-Playing', 'Action', 'Adventure', 'Action', 'Role-Playing', 'Action', 'Action', 'Strategy', 'Role-Playing', 'Miscellaneous', 'Action', 'Sports', 'Miscellaneous', 'Sports', 'Adventure', 'Sports', 'Action', 'Role-Playing', 'Sports', 'Strategy', 'Driving', 'Action Adventure', 'Strategy', 'Sports', 'Action', 'Driving', 'Role-Playing', 'Simulation', 'Action Adventure', 'Action', 'Miscellaneous', 'Platformer', 'Action', 'Driving', 'Action', 'General', 'Action', 'Miscellaneous', 'Action Adventure', 'Adventure', 'Strategy', 'Adventure', 'Role-Playing', 'Action', 'Sports', 'Action', 'Strategy', 'Action', 'Role-Playing', 'Adventure', 'Role-Playing', 'Miscellaneous', 'Action Adventure', 'Role-Playing', 'Adventure', 'Role-Playing', 'Miscellaneous', 'Action Adventure', 'Role-Playing', 'Adventure', 'Role-Playing', 'Miscellaneous', 'Action Adventure', 'Role-Playing', 'Adventure', 'Role-Playing', 'Miscellaneous', 'Action Adventure', 'Sports', 'Adventure', 'Adventure', 'Miscellaneous', 'Role-Playing', 'Strategy', 'Action', 'Action Adventure', 'Action Adventure', 'Action', 'Role-Playing', 'Sports', 'Simulation', 'Action', 'Simulation', 'Sports', 'Role-Playing', 'Driving', 'Sports', 'Action', 'Driving', 'Action', 'Adventure', 'Driving', 'Sports', 'Strategy', 'Action Adventure', 'Action', 'Action Adventure', 'Action Adventure', 'Sports', 'Sports', 'Action Adventure', 'Action Adventure', 'Simulation', 'Action', 'Role-Playing', 'Action', 'Action', 'Action', 'Action', 'Adventure', 'Action Adventure', 'Action', 'Adventure', 'Action', 'Role-Playing', 'Role-Playing', 'Action', 'Role-Playing', 'Action', 'Action', 'Sports', 'Sports', 'Action Adventure', 'Strategy', 'Action', 'Action', 'Action', 'General', 'Miscellaneous', 'Action', 'Miscellaneous', 'Action', 'Action', 'Action Adventure', 'Action', 'Action', 'Adventure', 'Sports', 'Adventure', 'Action', 'Action Adventure', 'Adventure', 'Adventure', 'Action', 'Puzzle', 'Miscellaneous', 'Action', 'Adventure', 'Sports', 'Role-Playing', 'Sports', 'Action', 'Miscellaneous', 'Sports', 'Role-Playing', 'Sports', 'Action', 'Miscellaneous', 'Sports', 'Role-Playing', 'Sports', 'Action', 'Miscellaneous', 'Sports', 'Role-Playing', 'Sports', 'Action', 'Miscellaneous', 'Action', 'Role-Playing', 'Action Adventure', 'Action', 'Role-Playing', 'Strategy', 'Role-Playing', 'Action Adventure', 'Action', 'Simulation', 'Action', 'Action', 'Strategy', 'Action Adventure', 'Action Adventure', 'Miscellaneous', 'Action', 'Action Adventure', 'General', 'Miscellaneous', 'Action', 'Sports', 'Adventure', 'Role-Playing', 'Action', 'Adventure', 'Adventure', 'Action', 'Driving', 'Miscellaneous', 'Role-Playing', 'Action', 'Action', 'Action Adventure', 'Strategy', 'Action Adventure', 'Action', 'Action', 'Adventure', 'Sports', 'Adventure', 'Action Adventure', 'Role-Playing', 'Action Adventure', 'Action', 'Strategy', 'Adventure', 'Strategy', 'Action', 'Action', 'Sports', 'Action Adventure', 'Driving', 'Sports', 'Action', 'Driving', 'Action', 'Action Adventure', 'Strategy', 'Driving', 'Simulation', 'Sports', 'Driving', 'Sports', 'Adventure', 'Role-Playing', 'Open-World', 'Role-Playing', 'Miscellaneous', 'Action', 'Action', 'Action', 'Miscellaneous', 'Adventure', 'Role-Playing', 'Simulation', 'Action', 'Action', 'Action', 'Role-Playing', 'Adventure', 'Action', 'Action Adventure', 'Action', 'Role-Playing', 'Adventure', 'Action', 'Action Adventure', 'Action', 'Role-Playing', 'Adventure', 'Action', 'Action Adventure', 'Action', 'Role-Playing', 'Adventure', 'Action', 'Action Adventure', 'Action', 'Role-Playing', 'Adventure', 'Action Adventure', 'Adventure', 'Action', 'Action', 'Strategy', 'Action', 'Action', 'Driving', 'Adventure', 'Action', 'Action', 'Action', 'Action', 'Action', 'Racing', 'Miscellaneous', 'Action', 'Adventure', 'Miscellaneous', 'Role-Playing', 'Sports', 'Action Adventure', 'Action', 'Miscellaneous', 'Action', 'Action', 'Sports', 'Sports', 'Strategy', 'Miscellaneous', 'Strategy', 'Action', 'Role-Playing', 'Action', 'Action', 'Action Adventure', 'Action Adventure', 'Action', 'Role-Playing', 'Adventure', 'Action', 'Strategy', 'Puzzle', 'Action', 'Action', 'Action', 'Action', 'Strategy', 'Action', 'Miscellaneous', 'Sports', 'Action', 'Adventure', 'Miscellaneous', 'Sports', 'Action', 'Action', 'Role-Playing', 'Action', 'Action Adventure', 'Action', 'Action Adventure', 'Action', 'Strategy', 'Miscellaneous', 'Sports', 'Role-Playing', 'Puzzle', 'Role-Playing', 'Action', 'Adventure', 'Role-Playing', 'Action', 'General', 'Action Adventure', 'Simulation', 'Adventure', 'Action', 'Action', 'Puzzle', 'Action', 'Sports', 'Action Adventure', 'Action', 'Puzzle', 'Action', 'Sports', 'Action Adventure', 'Action', 'Puzzle', 'Action', 'Sports', 'Action Adventure', 'Action', 'Puzzle', 'Action', 'Sports', 'Action Adventure', 'Action', 'Simulation', 'Action Adventure', 'Miscellaneous', 'Action Adventure', 'Sports', 'Miscellaneous', 'Role-Playing', 'Miscellaneous', 'Sports', 'Driving', 'Driving', 'Action', 'Strategy', 'Action Adventure', 'Action', 'Sports', 'Miscellaneous', 'Action', 'Sports', 'Action', 'Miscellaneous', 'Action', 'Role-Playing', 'Action', 'Action', 'Role-Playing', 'Sports', 'Action', 'Simulation', 'Action', 'Miscellaneous', 'Action', 'Action', 'Strategy', 'Action Adventure', 'Sports', 'Action', 'Action', 'Adventure', 'Miscellaneous', 'Action', 'Action', 'Racing', 'Action', 'Action', 'Adventure', 'Miscellaneous', 'Role-Playing', 'Role-Playing', 'Adventure', 'Action', 'Sports', 'Action', 'Action', 'Action Adventure', 'Role-Playing', 'Driving', 'Action Adventure', 'Action', 'Sports', 'Role-Playing', 'Strategy', 'Action', 'Strategy', 'Sports', 'Simulation', 'Driving', 'Simulation', 'Sports', 'Sports', 'Action', 'Role-Playing', 'Action', 'Sports', 'Role-Playing', 'Action Adventure', 'Action', 'Strategy', 'Miscellaneous', 'Action', 'Action Adventure', 'Strategy', 'Role-Playing', 'Adventure', 'Strategy', 'Action Adventure', 'Strategy', 'Role-Playing', 'Adventure', 'Strategy', 'Action Adventure', 'Strategy', 'Role-Playing', 'Adventure', 'Strategy', 'Action Adventure', 'Strategy', 'Role-Playing', 'Adventure', 'Strategy', 'Turn-Based', 'Action Adventure', 'Miscellaneous', 'Role-Playing', 'Adventure', 'Action', 'Miscellaneous', 'Driving', 'Simulation', 'Racing', 'Strategy', 'Role-Playing', 'Sports', 'Sports', 'Role-Playing', 'Strategy', 'Role-Playing', 'PC-style RPG', 'Action Adventure', 'Strategy', 'Action', 'Driving', 'Action', 'Role-Playing', 'Action', 'Action Adventure', 'Sports', 'Action', 'Action Adventure', 'Action', 'Simulation', 'Action', 'Action', 'Adventure', 'Action', 'Strategy', 'Action', 'Strategy', 'Action', 'Driving', 'Sports', 'Strategy', 'Sports', 'Action', 'Strategy', 'Simulation', 'Action', 'Strategy', 'Driving', 'Action', 'Action', 'Driving', 'Action Adventure', 'Sports', 'Role-Playing', 'Action Adventure', 'Action Adventure', 'Action', 'Role-Playing', 'Action', 'Action Adventure', 'Puzzle', 'Action', 'Action Adventure', 'Strategy', 'Role-Playing', 'Action Adventure', 'Action', 'General', 'Action', 'Historic', 'Role-Playing', 'Miscellaneous', 'Strategy', 'Strategy', 'Action', 'Strategy', 'Role-Playing', 'Simulation', 'Action Adventure', 'General', 'Action', 'Miscellaneous', 'Action', 'Adventure', 'General', 'Action', 'Miscellaneous', 'Action', 'Adventure', 'General', 'Action', 'Miscellaneous', 'Action', 'Adventure', 'General', 'Action', 'Miscellaneous', 'Action', 'Adventure', 'Action Adventure', 'Action', 'Role-Playing', 'Action', 'Action Adventure', 'Action', 'Sports', 'Miscellaneous', 'Action', 'Driving', 'Strategy', 'Role-Playing', 'Action', 'Strategy', 'Strategy', 'Action', 'Action', 'Puzzle', 'Adventure', 'Sports', 'Strategy', 'Role-Playing', 'Sports', 'Driving', 'Role-Playing', 'Simulation', 'Sports', 'Driving', 'Action Adventure', 'General', 'Strategy', 'Action Adventure', 'Sports', 'Action', 'Miscellaneous', 'Role-Playing', 'Sports', 'Miscellaneous', 'Puzzle', 'Action Adventure', 'Simulation', 'Strategy', 'Driving', 'Driving', 'Strategy', 'Action', 'Puzzle', 'General', 'Action', 'Action', 'Action Adventure', 'Role-Playing', 'Racing', 'Action', 'Action', 'Action', 'Action', 'Role-Playing', 'Role-Playing', 'Action Adventure', 'Sports', 'General', 'Adventure', 'Role-Playing', 'Adventure', 'Sports', 'Action Adventure', 'Action Adventure', 'Action', 'Action', 'Miscellaneous', 'Adventure', 'Sports', 'Miscellaneous', 'Action', 'Action', 'Action Adventure', 'Puzzle', 'Miscellaneous', 'Action', 'Action', 'Role-Playing', 'Sports', 'Driving', 'Action', 'Action', 'Role-Playing', 'Sports', 'Driving', 'Action', 'Action', 'Role-Playing', 'Sports', 'Driving', 'Action', 'Action', 'Role-Playing', 'Sports', 'Driving', 'Action', 'Sports', 'Strategy', 'Simulation', 'Driving', 'Action Adventure', 'Strategy', 'Action', 'Simulation', 'Driving', 'Strategy', 'Action', 'Action Adventure', 'Action', 'Adventure', 'Action', 'Action Adventure', 'Action', 'Adventure', 'Driving', 'Sports', 'Miscellaneous', 'Fantasy', 'Adventure', 'Puzzle', 'Action', 'Action', 'Action Adventure', 'Strategy', 'Action Adventure', 'Sports', 'Adventure', 'Action', 'Role-Playing', 'Simulation', 'Simulation', 'Puzzle', 'Adventure', 'Miscellaneous', 'Miscellaneous', 'Adventure', 'Action', 'Simulation', 'Action Adventure', 'Action Adventure', 'Sports', 'Horror', 'Driving', 'Action', 'Action', 'Role-Playing', 'Action', 'Role-Playing', 'Action', 'Strategy', 'Action', 'Racing', 'Real-Time', 'Action', 'Simulation', 'Miscellaneous', 'Action', 'Sports', 'Sports', 'Action', 'Action', 'Racing', 'Action', 'Strategy', 'Strategy', 'Action', 'Role-Playing', 'Adventure', 'Strategy', 'Adventure', 'Action', 'Action', 'Action', 'Puzzle', 'Strategy', 'Strategy', 'Miscellaneous', 'Sports', 'Action', 'Sports', 'Sports', 'Miscellaneous', 'Sports', 'Action', 'Sports', 'Sports', 'Miscellaneous', 'Sports', 'Action', 'Sports', 'Sports', 'Miscellaneous', 'Sports', 'Action', 'Sports', 'Sports', 'Sports', 'Sports', 'Action', 'Role-Playing', 'Action', 'Action', 'Action', 'Strategy', 'Action Adventure', 'Driving', 'Action', 'Action', 'Action', 'Strategy', 'Role-Playing', 'Action', 'Sports', 'Action', 'Sports', 'Action Adventure', 'Action Adventure', 'Miscellaneous', 'Action', 'Action', 'Sports', 'Sports', 'Strategy', 'Action', 'Miscellaneous', 'Action', 'Simulation', 'Miscellaneous', 'Racing', 'Action', 'Action', 'Action Adventure', 'Miscellaneous', 'Action', 'Strategy', 'Simulation', 'Miscellaneous', 'Action Adventure', 'Miscellaneous', 'Action', 'Action', 'Simulation', 'Action', 'Driving', 'Action Adventure', 'Action', 'Role-Playing', 'Miscellaneous', 'Driving', 'Action', 'Action', 'Strategy', 'Role-Playing', 'Adventure', 'Puzzle', 'Puzzle', 'Miscellaneous', 'Sports', 'Action', 'Action', 'Driving', 'Strategy', 'Sports', 'Driving', 'Strategy', 'Simulation', 'Sports', 'Action Adventure', 'Adventure', 'Adventure', 'Action Adventure', 'Strategy', 'Simulation', 'Driving', 'Racing', 'Sports', 'Action', 'Action', 'Action', 'Action', 'Strategy', 'Action', 'Action', 'Action', 'Action', 'Strategy', 'Action', 'Action', 'Action', 'Action', 'Strategy', 'Action', 'Action', 'Action', 'Action', 'Strategy', 'Miscellaneous', 'Strategy', 'Action', 'Action', 'Action Adventure', 'Action', 'Action', 'Action Adventure', 'Action', 'Action', 'Action', 'Puzzle', 'Adventure', 'Action', 'Action Adventure', 'Driving', 'Sports', 'Strategy', 'Action', 'Adventure', 'Sports', 'Action', 'Sports', 'Role-Playing', 'Strategy', 'Role-Playing', 'Action', 'Miscellaneous', 'Action Adventure', 'Role-Playing', 'Strategy', 'Action Adventure', 'Action', 'Action', 'Strategy', 'Action', 'Miscellaneous', 'Action', 'Miscellaneous', 'Action Adventure', 'Action', 'Sports', 'Action', 'Action', 'Action Adventure', 'Action', 'Sports', 'Strategy', 'Sports', 'Action Adventure', 'Action Adventure', 'Action', 'Action', 'Action', 'Strategy', 'Adventure', 'General', 'Sports', 'Sports', 'Role-Playing', 'Adventure', 'Action', 'Action', 'Miscellaneous', 'Role-Playing', 'Sports', 'Strategy', 'Action Adventure', 'Role-Playing', 'Action Adventure', 'Role-Playing', 'Adventure', 'Role-Playing', 'Action', 'Adventure', 'Action', 'Action', 'Action', 'Action Adventure', '2D', 'Role-Playing', 'Miscellaneous', 'Adventure', 'Role-Playing', 'Simulation', 'Role-Playing', 'Miscellaneous', 'Adventure', 'Role-Playing', 'Simulation', 'Role-Playing', 'Miscellaneous', 'Adventure', 'Role-Playing', 'Simulation', 'Role-Playing', 'Miscellaneous', 'Adventure', 'Role-Playing', 'Simulation', 'Strategy', 'Action', 'Strategy', 'Driving', 'Sports', 'Role-Playing', 'Action', 'Action Adventure', 'Compilation', 'Action', 'Racing', 'Action', 'Strategy', 'Puzzle', 'Strategy', 'Role-Playing', 'Adventure', 'Action', 'Action', 'Action Adventure', 'Action', 'Action', 'Action', 'Action', 'Strategy', 'Action Adventure', 'Sports', 'Adventure', 'Driving', 'Action Adventure', 'Platformer', 'Sports', 'Strategy', 'Action', 'Adventure', 'Simulation', 'Strategy', 'Action', 'Action', 'Sports', 'Action Adventure', 'Strategy', 'Action Adventure', 'Sports', 'Miscellaneous', 'Miscellaneous', 'Action', 'Role-Playing', 'Action', 'Action', 'Adventure', 'Action', 'Action', 'Action', 'Adventure', 'Racing', 'Action', 'Role-Playing', 'Action', 'Action', 'Action', 'Role-Playing', 'Role-Playing', 'General', 'Role-Playing', 'Action', 'Action', 'Action', 'Action', 'Strategy', 'Racing', 'Role-Playing', 'Role-Playing', 'Action Adventure', 'Strategy', 'Adventure', 'Adventure', 'Action', 'Driving', 'Action', 'Adventure', 'Action', 'Action', 'Shooter', 'Miscellaneous', 'Adventure', 'Action', 'Action', 'Shooter', 'Miscellaneous', 'Adventure', 'Action', 'Action', 'Shooter', 'Miscellaneous', 'Adventure', 'Action', 'Action', 'Shooter', 'Miscellaneous', 'Adventure', 'Action Adventure', 'Action', 'Action', 'Action', 'Adventure', 'Driving', 'Sports', 'Action', 'Action Adventure', 'Adventure', 'Adventure', 'Sci-Fi', 'Action', 'Action', 'Action Adventure', 'Action Adventure', 'Action', 'Action', 'Action', 'Action Adventure', 'Miscellaneous', 'Action', 'Action', 'Action Adventure', 'General', 'Sports', 'Sports', 'Strategy', 'Role-Playing', 'Action', 'Strategy', 'Miscellaneous', 'Miscellaneous', 'Driving', 'Action', 'Adventure', 'Action Adventure', 'Role-Playing', 'Action Adventure', 'Role-Playing', 'Adventure', 'Action Adventure', 'Sports', 'Action', 'Action', 'Strategy', 'General', 'Action', 'Action Adventure', 'Driving', 'Action Adventure', 'Role-Playing', 'Action', 'Adventure', 'Strategy', 'Role-Playing', 'Action Adventure', 'Adventure', 'Action', 'Action', 'Action', 'Action', 'Strategy', 'Adventure', 'Adventure', 'Action', 'Action Adventure', 'Action Adventure', 'Action', 'Console-style RPG', 'Puzzle', 'Action', 'Action', 'Action', 'Miscellaneous', 'Action', 'Miscellaneous', 'Action', 'Action Adventure', 'Action', 'Action', 'Action', 'Action', 'Action', 'Action', 'Action', 'Action', 'Action', 'Action', 'Action', 'Action', 'Action', 'Action', 'Action', 'Action', 'Action', 'Action', 'Action', 'Action', 'Action', 'Action', 'Action', 'Strategy', 'Role-Playing', 'Role-Playing', 'Action', 'Action', 'Action', 'Action', 'Action', 'Action', 'Sports', 'Role-Playing', 'Action', 'Adventure', 'Action', 'Action Adventure', 'Action', 'Strategy', 'Action Adventure', 'Miscellaneous', 'Miscellaneous', 'Action', 'Adventure', 'Action', 'Adventure', 'Role-Playing', 'Miscellaneous', 'Adventure', 'Racing', 'Action Adventure', 'Action', 'Action', 'Sports', 'Adventure', 'Action Adventure', 'Sci-Fi', 'Action', 'Simulation', 'Role-Playing', 'Action', 'Role-Playing', 'Sports', 'Strategy', 'Sports', 'Role-Playing', 'Music', 'Strategy', 'Role-Playing', 'Strategy', 'Action Adventure', 'Strategy', 'Driving', 'Strategy', 'Action', 'Role-Playing', 'Action Adventure', 'Strategy', 'Strategy', 'Strategy', 'Adventure', 'Action Adventure', 'Action', 'Role-Playing', 'Puzzle', 'Miscellaneous', 'Action', 'Action', 'Action', 'Role-Playing', 'Simulation', 'Action', 'Action', 'Action', 'Adventure', 'Adventure', 'Sports', 'Action', 'Driving', 'Action', 'Action', 'Adventure', 'Sports', 'Action', 'Action', 'Action', 'Adventure', 'Sports', 'Action', 'Action', 'Action', 'Adventure', 'Sports', 'Action', 'Action', 'Action', 'Adventure', 'Sports', 'Action', 'Action Adventure', 'Miscellaneous', 'Action', 'Adventure', 'Action', 'Action', 'Sports', 'Role-Playing', 'Driving', 'Sports', 'Action Adventure', 'Sports', 'Action Adventure', 'Sports', 'Strategy', 'Action Adventure', 'Driving', 'Strategy', 'Driving', 'Sports', 'Action', 'Racing', 'Driving', 'Miscellaneous', 'Sports', 'Racing', 'Action Adventure', 'Action', 'Action', 'Action', 'Action', 'Sports', 'Sports', 'Role-Playing', 'Sports', 'Strategy', 'Sports', 'Action', 'Action Adventure', 'Fantasy', 'Role-Playing', 'Action', 'Role-Playing', 'Miscellaneous', 'Action', 'Role-Playing', 'Action', 'Historic', 'Simulation', 'Role-Playing', 'Simulation', 'Action', 'Role-Playing', 'Action', 'Action Adventure', 'Action', 'Action', 'Role-Playing', 'Role-Playing', 'Strategy', 'Action Adventure', 'Strategy', 'Action', 'Action', 'Action', 'Sports', 'Role-Playing', 'Sports', 'Adventure', 'Miscellaneous', 'Action', 'Action Adventure', 'Strategy', 'Miscellaneous', 'Driving', 'General', 'Strategy', 'Action Adventure', 'Adventure', 'Racing', 'Adventure', 'Sports', 'Action Adventure', 'Racing', 'Action Adventure', 'Adventure', 'Sports', 'Action Adventure', 'Racing', 'Action Adventure', 'Adventure', 'Sports', 'Action Adventure', 'Racing', 'Action Adventure', 'Adventure', 'Sports', 'Action Adventure', 'Racing', 'Action Adventure', 'Action', 'General', 'Miscellaneous', 'Simulation', 'Action Adventure', 'Racing', 'Role-Playing', 'Role-Playing', 'Role-Playing', 'Strategy', 'Miscellaneous', 'Adventure', 'Role-Playing', 'Role-Playing', 'Adventure', 'Action', 'Action', 'Action', 'Role-Playing', 'Strategy', 'Sports', 'Action', 'Action', 'Action', 'Adventure', 'Action Adventure', 'Strategy', 'Strategy', 'Adventure', 'Sci-Fi', 'Adventure', 'Action', 'Action', 'Role-Playing', 'Action', 'Action Adventure', 'Simulation', 'Action Adventure', 'Role-Playing', 'Action Adventure', 'General', 'Action', 'General', 'Adventure', 'Action', 'Sports', 'Strategy', 'Sports', 'Puzzle', 'Action Adventure', 'Action Adventure', 'Role-Playing', 'Action', 'Action Adventure', 'Action', 'PC-style RPG', 'Racing', 'Simulation', 'Action', 'Action', 'Action', 'Action Adventure', 'Action', 'Action Adventure', 'Strategy', 'Action', 'Action', 'Action', 'Action', 'Action', 'Action Adventure', 'Role-Playing', 'Action', 'Strategy', 'Action', 'Action Adventure', 'Action', 'Action Adventure', 'Role-Playing', 'Miscellaneous', 'Adventure', 'Adventure', 'Action', 'Adventure', 'Role-Playing', 'Adventure', 'Adventure', 'Action', 'Adventure', 'Role-Playing', 'Adventure', 'Adventure', 'Action', 'Adventure', 'Role-Playing', 'Adventure', 'Adventure', 'Action', 'Adventure', 'Role-Playing', 'Action', 'Action', 'Role-Playing', 'Sports', 'Action', 'Racing', 'Action', 'Miscellaneous', 'Adventure', 'Action', 'Strategy', 'Action Adventure', 'Action', 'Strategy', 'Action', 'Miscellaneous', 'Racing', 'Adventure', 'Action', 'Miscellaneous', 'Action Adventure', 'Sports', 'Action', 'Role-Playing', 'Role-Playing', 'Role-Playing', 'Adventure', 'Action', 'Role-Playing', 'Simulation', 'Action Adventure', 'Adventure', 'Adventure', 'Action', 'Action', 'Action', 'Puzzle', 'Strategy', 'Sports', 'Sports', 'Miscellaneous', 'Driving', 'Role-Playing', 'Miscellaneous', 'Sports', 'Miscellaneous', 'Sports', 'Action', 'Adventure', 'Strategy', 'Miscellaneous', 'Racing', 'Sports', 'Tycoon', 'Role-Playing', 'Strategy', 'Action', 'Action', 'Action', 'Miscellaneous', 'Action', 'Sports', 'Strategy', 'Strategy', '6 Online', 'Strategy', 'Role-Playing', 'Action', 'Action', 'Adventure', 'Action Adventure', 'Action', 'Miscellaneous', 'Action RPG', 'Action', 'Shooter', 'Action', 'Sports', 'Sports', 'Action', 'Action', 'Action', 'Racing', 'Adventure', 'Simulation', 'Action', 'Action', 'Racing', 'Adventure', 'Simulation', 'Action', 'Action', 'Racing', 'Adventure', 'Simulation', 'Action', 'Action', 'Racing', 'Adventure', 'Simulation', 'Action', 'Action Adventure', 'Simulation', 'Strategy', 'Sports', 'Action', 'Sports', 'Sports', 'Strategy', 'Driving', 'Sports', 'Miscellaneous', 'Adventure', 'Action', 'Action', 'Action', 'Action', 'Action', 'Action', 'Action', 'Racing', 'Strategy', 'Role-Playing', 'Adventure', 'Action', 'Action', 'Action Adventure', 'Action', 'Driving', 'Miscellaneous', 'Puzzle', 'Sports', 'Action', 'Miscellaneous', 'Adventure', 'Adventure', 'Action Adventure', 'Role-Playing', 'Action Adventure', 'Miscellaneous', 'Sports', 'Party / Minigame', 'Action', 'Action', 'General', 'Driving', 'Action', 'Miscellaneous', 'Action', 'Action', 'Adventure', 'Puzzle', 'Console-style RPG', 'Strategy', 'Action Adventure', 'Action Adventure', 'Action', 'Strategy', 'Strategy', 'Sports', 'Miscellaneous', 'Strategy', 'Miscellaneous', 'General', 'Sports', 'Role-Playing', 'Action', 'Action', 'Simulation', 'Adventure', 'Role-Playing', 'Strategy', 'Sports', 'Action', 'Strategy', 'Action', 'Action', 'Miscellaneous', 'Action', 'Strategy', 'Sci-Fi', 'Action', 'Simulation', 'Action', 'General', 'Sci-Fi', 'Action', 'Simulation', 'Action', 'General', 'Sci-Fi', 'Action', 'Simulation', 'Action', 'General', 'Sci-Fi', 'Action', 'Simulation', 'Action', 'General', 'Action Adventure', 'Miscellaneous', 'Adventure', 'Action', 'Miscellaneous', 'Strategy', 'Miscellaneous', 'Simulation', 'Action Adventure', 'General', 'Action Adventure', 'Action Adventure', 'Puzzle', 'Action Adventure', 'Action', 'Role-Playing', 'Puzzle', 'Arcade', 'Adventure', 'Action', 'Role-Playing', 'Adventure', 'Simulation', 'Action', 'Action Adventure', 'Action', 'Action', 'Action Adventure', 'Action', 'Action', 'Action Adventure', 'Action', 'Action Adventure', 'Miscellaneous', 'Action', 'Action Adventure', 'Action Adventure', 'Action Adventure', 'Sports', 'Action', 'Miscellaneous', 'Action', 'Strategy', 'Simulation', 'Action', 'Strategy', 'Action', 'Strategy', 'Puzzle', 'Role-Playing', 'Sports', 'Fantasy', 'Strategy', 'Role-Playing', 'Action', 'Adventure', 'Action', 'Action', 'Action', 'Fantasy', 'General', 'Action', 'Racing', 'Action', 'Strategy', 'Role-Playing', 'Role-Playing', 'Action', 'Action', 'Adventure', 'Action', 'Sports', 'Role-Playing', 'Role-Playing', 'Miscellaneous', 'Sports', 'Adventure', 'Strategy', 'Action', 'Action Adventure', 'Action', 'Strategy', 'Action', 'Adventure', 'Adventure', 'Action', 'Strategy', 'Action', 'Adventure', 'Adventure', 'Action', 'Strategy', 'Action', 'Adventure', 'Adventure', 'Action', 'Strategy', 'Action', 'Adventure', 'Adventure', 'Action', 'Action', 'Action', 'Action Adventure', 'Racing', 'Strategy', 'Action', 'Simulation', 'Simulation', 'Sports', 'Sports', 'Strategy', 'Sports', 'Sports', 'Adventure', 'Action Adventure', 'Role-Playing', 'Console-style RPG', 'Action', 'Action', 'Action Adventure', 'Action', 'General', 'Action', 'Action', 'Role-Playing', 'Role-Playing', 'Action', 'Action', 'Adventure', 'Puzzle', 'Action Adventure', 'Action', 'Action', 'Sports', 'Strategy', 'Action', 'Action Adventure', 'Action Adventure', 'Action Adventure', 'Action', 'Role-Playing', 'Action Adventure', 'Action', 'Action', 'Adventure', 'Action', 'Driving', 'Action Adventure', 'Miscellaneous', 'Strategy', 'Adventure', 'Action', 'Action Adventure', 'Simulation', 'Action', 'Puzzle', 'Adventure', 'Action Adventure', 'Role-Playing', 'Role-Playing', 'Action', 'Miscellaneous', 'Role-Playing', 'Racing', 'Strategy', 'Action', 'Adventure', 'Adventure', 'Puzzle', 'Simulation', 'Action', 'Action', 'Action', 'Miscellaneous', 'Racing', 'Action', 'Action', 'Action Adventure', 'Action', 'Sports', 'Driving', 'Action', 'Simulation', 'Action', 'Sports', 'Driving', 'Action', 'Simulation', 'Action', 'Sports', 'Driving', 'Action', 'Simulation', 'Action', 'Sports', 'Driving', 'Action', 'Simulation', 'Action', 'Historic', 'Simulation', 'Sports', 'Japanese-Style', 'Sports', 'Miscellaneous', 'Role-Playing', 'Role-Playing', 'Adventure', 'Action', 'Action Adventure', 'Puzzle', 'Miscellaneous', 'Miscellaneous', 'Sports', 'Action', 'Sports', 'Sports', 'Role-Playing', 'Action', 'Strategy', 'Action Adventure', 'Action Adventure', 'Strategy', 'Miscellaneous', 'Action', 'Action', 'Sports', 'Role-Playing', 'Action', 'Role-Playing', 'Action', 'Action', 'Action', 'Action', 'Role-Playing', 'Adventure', 'Action', 'Action', 'Action', 'Action', 'Action', 'Sports', 'Action', 'Action', 'Action', 'Action Adventure', 'Action', 'Action', 'Adventure', 'Miscellaneous', 'Role-Playing', 'Role-Playing', 'Action', 'Role-Playing', 'Role-Playing', 'Role-Playing', 'Role-Playing', 'Sports', 'Sports', 'Action Adventure', 'Sports', 'Role-Playing', 'Action Adventure', 'Sports', 'Puzzle', 'Action Adventure', 'Puzzle', 'Action', 'Role-Playing', 'Driving', 'Role-Playing', 'Adventure', 'Sports', 'Simulation', 'Strategy', 'Action', 'Action', 'Strategy', 'Action', 'Action', 'Sports', 'Action', 'Racing', 'Action Adventure', 'Action', 'Sports', 'Action', 'Racing', 'Action Adventure', 'Action', 'Sports', 'Action', 'Racing', 'Action Adventure', 'Action', 'Sports', 'Action', 'Racing', 'Action Adventure', 'Action', 'General', 'Action', 'Role-Playing', 'Action', 'Third-Person', 'Action Adventure', 'Action Adventure', 'Action', 'Adventure', 'Action', 'Role-Playing', 'Miscellaneous', 'Action', 'Strategy', 'Action Adventure', 'Action', 'Action', 'Miscellaneous', 'Strategy', 'Action Adventure', 'Action', 'Action Adventure', 'Action', 'Adventure', 'Action Adventure', 'Adventure', 'Strategy', 'Miscellaneous', 'Role-Playing', 'Action', 'Action', 'Action', 'Driving', 'Miscellaneous', 'Adventure', 'Action', 'Action', 'Adventure', 'Action Adventure', 'Puzzle', 'Action', 'Strategy', 'Action', 'Action', 'Action', 'Action', 'Action', 'Action', 'Action', 'Action', 'Adventure', 'Role-Playing', 'Action', 'Action', 'Miscellaneous', 'Action Adventure', 'Adventure', 'Role-Playing', 'Action', 'General', 'Action', 'Fantasy', 'Driving', 'Miscellaneous', 'Action', 'Strategy', 'Adventure', 'Action', 'Simulation', 'Sports', 'Role-Playing', 'Action', 'Miscellaneous', 'Role-Playing', 'Role-Playing', 'Adventure', 'Action', 'Arcade', 'Adventure', 'Miscellaneous', 'Action', 'Role-Playing', 'Sports', 'Action', 'Miscellaneous', 'Action', 'Role-Playing', 'Sports', 'Action', 'Miscellaneous', 'Action', 'Role-Playing', 'Sports', 'Action', 'Miscellaneous', 'Action', 'Role-Playing', 'Sports', 'Action', 'Role-Playing', 'Action', 'Miscellaneous', 'Third-Person', 'Action Adventure', 'Action', 'Adventure', 'Miscellaneous', 'Action', 'Strategy', 'Driving', 'Action', 'Sports', 'Role-Playing', 'Action', 'Strategy', 'Role-Playing', 'Driving', 'Action Adventure', 'Strategy', 'Miscellaneous', 'Racing', 'Strategy', 'Action', 'Action Adventure', 'Role-Playing', 'Adventure', 'Breeding/Constructing', 'Simulation', 'Action Adventure', 'Action', 'Action', 'Sports', 'Action', 'Sci-Fi', 'Strategy', 'Action Adventure', 'Action', 'Action', 'Strategy', 'Role-Playing', 'Strategy', 'Action', 'Action Adventure', 'Role-Playing', 'Adventure', 'Adventure', 'Driving', 'Action Adventure', 'Driving', 'Action', 'Adventure', 'Action', 'Sports', 'Sports', 'Role-Playing', 'Adventure', 'Action Adventure', 'Role-Playing', 'Adventure', 'Action Adventure', 'Miscellaneous', 'Action', 'General', 'Role-Playing', 'Action', 'Driving', 'Action Adventure', 'Action', 'Miscellaneous', 'Action', 'General', 'Action', 'Strategy', 'Role-Playing', 'Adventure', 'Adventure', 'Action', 'Action Adventure', 'Action Adventure', 'Driving', 'Driving', 'Action Adventure', 'Role-Playing', 'Driving', 'Driving', 'Driving', 'Action Adventure', 'Role-Playing', 'Driving', 'Driving', 'Driving', 'Action Adventure', 'Role-Playing', 'Driving', 'Driving', 'Driving', 'Action Adventure', 'Role-Playing', 'Driving', 'Sports', 'Action Adventure', 'Miscellaneous', 'Strategy', 'Adventure', 'General', 'Miscellaneous', 'Sports', 'Role-Playing', 'Sports', 'Simulation', 'Miscellaneous', 'Action', 'Action', 'Puzzle', 'Action', 'Strategy', 'Miscellaneous', 'Strategy', 'Strategy', 'Strategy', 'Role-Playing', 'Miscellaneous', 'Fantasy', 'Action Adventure', 'Simulation', 'Miscellaneous', 'Action', 'Miscellaneous', 'Racing', 'Action', 'Role-Playing', 'Action Adventure', 'Action Adventure', 'Role-Playing', 'Action', 'Action', 'Action', 'Action', 'Miscellaneous', 'Role-Playing', 'Miscellaneous', 'Strategy', 'Role-Playing', 'Sports', 'Action', 'Action Adventure', 'Strategy', 'Simulation', 'Role-Playing', 'Action', 'Miscellaneous', 'Action', 'Action', 'Action', 'Driving', 'Action', 'Simulation', 'Adventure', 'Action Adventure', 'Puzzle', 'Action', 'Action Adventure', 'Action', 'Action', 'Miscellaneous', 'Miscellaneous', 'Racing', 'Action', 'Action Adventure', 'Sports', 'Action', 'Adventure', 'Action Adventure', 'Action', 'Miscellaneous', 'Role-Playing', 'Action', 'Driving', 'Simulation', 'Driving', 'Racing', 'Action Adventure', 'Miscellaneous', 'Action Adventure', 'Driving', 'Racing', 'Action Adventure', 'Miscellaneous', 'Action Adventure', 'Driving', 'Racing', 'Action Adventure', 'Miscellaneous', 'Action Adventure', 'Driving', 'Racing', 'Action Adventure', 'Miscellaneous', 'Action Adventure', 'Action', 'Action', 'Adventure', 'Action', 'Miscellaneous', 'Miscellaneous', 'Action', 'Miscellaneous', 'Simulation', 'Action', 'Action', 'Sports', 'Adventure', 'Strategy', 'Action', 'Role-Playing', 'Miscellaneous', 'Adventure', 'Action', 'Racing', 'Action', 'Sim', 'Role-Playing', 'Action', 'Action', 'Action', 'Strategy', 'Action', 'Action', 'Adventure', 'Platformer', 'Action Adventure', 'Action', 'Alternative', 'Action Adventure', 'Action Adventure', 'On GameFAQs', 'Simulation', 'Action', 'Action', 'Role-Playing', 'Adventure', 'Action', 'Fantasy', 'Sports', 'Action', 'Action', 'Sports', 'Strategy', 'Strategy', 'Strategy', 'Action', 'Sports', 'Miscellaneous', 'Action Adventure', 'Simulation', 'Sports', 'Racing', 'Action', 'Sports', 'Action Adventure', 'Action Adventure', 'Action', 'Strategy', 'Action Adventure', 'Role-Playing', 'Action', 'Sports', 'Action', 'Simulation', 'Simulation', 'Action', 'Action', 'Strategy', 'Role-Playing', 'Simulation', 'Miscellaneous', 'Action Adventure', 'Action', 'Puzzle', 'Adventure', 'Role-Playing', 'Action Adventure', 'Action Adventure', 'Sports', 'Adventure', 'Role-Playing', 'Action Adventure', 'Action Adventure', 'Sports', 'Adventure', 'Role-Playing', 'Action Adventure', 'Action Adventure', 'Sports', 'Adventure', 'Role-Playing', 'Action Adventure', 'Action Adventure', 'Sports', 'Action Adventure', 'Strategy', 'Adventure', 'Miscellaneous', 'Miscellaneous', 'Action', 'Sports', 'Action', 'Role-Playing', 'Sports', 'Action', 'Action Adventure', 'Action', 'Action Adventure', 'Adventure', 'Adventure', 'Role-Playing', 'Action', 'Driving', 'Action Adventure', 'Miscellaneous', 'Strategy', 'Action', 'Action Adventure', 'Action', 'Action Adventure', 'Role-Playing', 'Action', 'Sports', 'Action', 'Action', 'Action', 'Sports', 'Strategy', 'Action Adventure', 'Role-Playing', 'Sports', 'Action', 'Action', 'Strategy', 'Sports', 'Action', 'Action Adventure', 'Adventure', 'Driving', 'Miscellaneous', 'Sci-Fi', 'Sports', 'Action', 'Action Adventure', 'Adventure', 'Strategy', 'Sports', 'Action', 'General', 'Action', 'Role-Playing', 'Action Adventure', 'Action Adventure', 'Driving', 'Adventure', 'Adventure', 'Miscellaneous', 'Platformer', 'Action', 'Sports', 'Action Adventure', 'Action', 'Action Adventure', 'Strategy', 'Sports', 'Miscellaneous', 'Action', 'Role-Playing', 'Adventure', 'Action Adventure', 'Action Adventure', 'Action Adventure', 'Driving', 'Action Adventure', 'Action', 'Miscellaneous', 'Action', 'Adventure', 'Action', 'Action', 'Miscellaneous', 'Action', 'Adventure', 'Action', 'Action', 'Miscellaneous', 'Action', 'Adventure', 'Action', 'Action', 'Miscellaneous', 'Action', 'Adventure', 'Action', 'General', 'Role-Playing', 'Adventure', 'Action Adventure', 'Action Adventure', 'Driving', 'Action Adventure', 'Action', 'Simulation', 'Modern', 'Simulation', 'Sports', 'Sports', 'Action Adventure', 'Simulation', 'Action Adventure', 'Simulation', 'Action Adventure', 'Action Adventure', 'Role-Playing', 'Strategy', 'Action Adventure', 'Tycoon', 'Action Adventure', 'Action', 'Action', 'Role-Playing', 'Action', 'Role-Playing', 'Driving', 'Miscellaneous', 'Action', 'Driving', 'Action', 'Adventure', 'Action Adventure', 'Role-Playing', 'Simulation', 'Adventure', 'Role-Playing', 'Role-Playing', 'General', 'Action', 'Action Adventure', 'Role-Playing', 'Adventure', 'Action', 'Adventure', 'Action', 'Role-Playing', 'Action', 'Action', 'Strategy', 'Miscellaneous', 'Role-Playing', 'Adventure', 'Action', 'Action', 'Action Adventure', 'Adventure', 'Action', 'Strategy', 'Miscellaneous', 'Adventure', 'Driving', 'Action', 'Role-Playing', 'Miscellaneous', 'Driving', 'Action', 'Driving', 'Action', 'Action Adventure', 'General', 'Action Adventure', 'Action Adventure', 'Simulation', 'Role-Playing', 'Racing', 'Action', 'Action', 'Action', 'Role-Playing', 'Sports', 'Action', 'Action', 'Action', 'Role-Playing', 'Sports', 'Action', 'Action', 'Action', 'Role-Playing', 'Sports', 'Action', 'Action', 'Action', 'Role-Playing', 'Sports', 'Action', 'Strategy', 'Action Adventure', 'General', 'Action', 'Miscellaneous', 'Role-Playing', 'Action', 'Sports', 'Action', 'Action', 'Action Adventure', 'Action Adventure', 'Action', 'Role-Playing', 'Driving', 'Action Adventure', 'Role-Playing', 'First-Person', 'Strategy', 'Role-Playing', 'Role-Playing', 'Action', 'Puzzle', 'Simulation', 'Miscellaneous', 'Miscellaneous', 'Action', 'Racing', 'Adventure', 'Simulation', 'Strategy', 'Action', 'Miscellaneous', 'Action Adventure', 'Role-Playing', 'Action', 'Miscellaneous', 'Action', 'Action Adventure', 'Adventure', 'Action', 'Adventure', 'Strategy', 'Action', 'Adventure', 'Adventure', 'Racing', 'Strategy', 'Action Adventure', 'Adventure', 'Role-Playing', 'Racing', 'Adventure', 'Action', 'Adventure', 'Strategy', 'Adventure', 'Puzzle', 'Action Adventure', 'Action', 'Action', 'Action', 'Action', 'Driving', 'Action', 'Action', 'Action', 'Strategy', 'Simulation', 'Sports', 'Strategy', 'Miscellaneous', 'Action Adventure', 'Action', 'Simulation', 'Action', 'Strategy', 'Driving', 'Simulation', 'Sports', 'Action', 'Action', 'Strategy', 'Action', 'Action', 'Action', 'Action', 'Strategy', 'Action', 'Action', 'Action', 'Action', 'Strategy', 'Action', 'Action', 'Action', 'Action', 'Strategy', 'Action', 'Action', 'Action Adventure', 'Role-Playing', 'Sports', 'Action Adventure', 'Simulation', 'Miscellaneous', 'Action', 'Action', 'Action', 'Action', 'Action Adventure', 'Role-Playing', 'Strategy', 'Adventure', 'Sports', 'Action', 'Simulation', 'Role-Playing', 'Action', 'Action Adventure', 'Action Adventure', 'Action', 'Sports', 'Miscellaneous', 'Strategy', 'Strategy', 'Miscellaneous', 'Action', 'Action', 'Sports', 'Action Adventure', 'Action Adventure', 'Adventure', 'Shooter', 'Sports', 'Action', 'Action', 'Action', 'Action', 'Action', 'Miscellaneous', 'Action Adventure', 'Role-Playing', 'Strategy', 'Role-Playing', 'Action', 'Action Adventure', 'Action', 'Simulation', 'Adventure', 'Action Adventure', 'Action', 'Role-Playing', 'Strategy', 'Strategy', 'Simulation', 'Driving', 'Action', 'Action Adventure', 'Miscellaneous', 'Role-Playing', 'Strategy', 'Strategy', 'Strategy', 'Adventure', 'Strategy', 'Sports', 'Action', 'Action', 'Action', 'Action', 'Action', 'Horror', 'Action', 'Action', 'Action', 'Role-Playing', 'Action Adventure', 'Action', 'Strategy', 'Role-Playing', 'Driving', 'Miscellaneous', 'Action', 'Sports', 'Role-Playing', 'Driving', 'Miscellaneous', 'Action', 'Sports', 'Role-Playing', 'Driving', 'Miscellaneous', 'Action', 'Sports', 'Role-Playing', 'Driving', 'Miscellaneous', 'Action', 'Sports', 'Miscellaneous', 'Action', 'Action', 'Strategy', 'Miscellaneous', 'Action', 'Strategy', 'Action', 'Miscellaneous', 'Action', 'Modern', 'Strategy', 'Adventure', 'Action', 'Miscellaneous', 'Miscellaneous', 'Action', 'Action', 'Action', 'Role-Playing', 'Action Adventure', 'Adventure', 'Action Adventure', 'Action', 'Adventure', 'Action', 'Action', 'Miscellaneous', 'Racing', 'Driving', 'Action Adventure', 'Miscellaneous', 'Action', 'Action Adventure', 'Role-Playing', 'Strategy', 'Action', 'Fantasy', 'Role-Playing', 'Racing', 'Action', 'Action', 'Action', 'Sports', 'Action', 'Simulation', 'Action', 'Strategy', 'Action', 'Miscellaneous', 'Action', 'Action Adventure', 'Rally / Offroad', 'Action', 'Action Adventure', 'Action', 'Sports', 'Action', 'Action Adventure', 'Role-Playing', 'Action', 'Adventure', 'Racing', 'Miscellaneous', 'Adventure', 'Miscellaneous', 'Simulation', 'Horror', 'Action', 'Action', 'Role-Playing', 'Adventure', 'Sports', 'Strategy', 'Action', 'Strategy', 'Action', 'Adventure', 'Action', 'Racing', 'Fantasy', 'Adventure', 'Miscellaneous', 'Miscellaneous', 'Action', 'Fantasy', 'Adventure', 'Miscellaneous', 'Miscellaneous', 'Action', 'Fantasy', 'Adventure', 'Miscellaneous', 'Miscellaneous', 'Action', 'Fantasy', 'Adventure', 'Miscellaneous', 'Miscellaneous', 'Action', 'Role-Playing', 'Action Adventure', 'Role-Playing', 'Adventure', 'Action', 'Action Adventure', 'Miscellaneous', 'Miscellaneous', 'Action', 'Action', 'Action', 'Action', 'Miscellaneous', 'Action', 'Adventure', 'Adventure', 'Action', 'Action', 'Adventure', 'Role-Playing', 'Action', 'Action Adventure', 'Strategy', 'Puzzle', 'Puzzle', 'Strategy', 'Driving', 'Sports', 'Action Adventure', 'Action', 'Action', 'Adventure', 'Strategy', 'Adventure', 'Strategy', 'Action', 'Action', 'Action', 'Action', 'Action', 'Sports', 'Sports', 'Action', 'Action', 'Simulation', 'Action Adventure', 'Action', 'Miscellaneous', 'Action Adventure', 'Adventure', 'Adventure', 'Simulation', 'Action Adventure', 'Action', 'General', 'Strategy', 'Action', 'Strategy', 'Strategy', 'Action Adventure', 'Strategy', 'General', 'Action', 'Adventure', 'Action Adventure', 'Action', 'Miscellaneous', 'Action Adventure', 'Action', 'Action', 'Action', 'Action Adventure', 'Action', 'Adventure', 'Strategy', 'Role-Playing', 'Miscellaneous', 'Sci-Fi', 'Strategy', 'Action', 'Driving', 'Action', 'Adventure', 'Strategy', 'Strategy', 'Driving', 'Action', 'Adventure', 'Strategy', 'Strategy', 'Driving', 'Action', 'Adventure', 'Strategy', 'Strategy', 'Driving', 'Action', 'Adventure', 'Strategy', 'Strategy', 'Strategy', 'Sports', 'Role-Playing', 'Action Adventure', 'Action Adventure', 'Action', 'Action', 'Adventure', 'Action', 'Action', 'Adventure', 'Strategy', 'Adventure', 'Military', 'Action Adventure', 'Strategy', 'Adventure', 'Strategy', 'Horror', 'Action', 'Sports', 'Action', 'Strategy', 'Action', 'Adventure', 'Action Adventure', 'Strategy', 'Strategy', 'Action', 'Action', 'Action', 'Adventure', 'Role-Playing', 'Action', 'Sports', 'Strategy', 'Action', 'Action', 'Simulation', 'Action', 'Action', 'Miscellaneous', 'Sports', 'Action', 'Action', 'Action Adventure', 'Action Adventure', 'Action', 'Puzzle', 'Adventure', 'Role-Playing', 'Action', 'Action Adventure', 'Miscellaneous', 'Adventure', 'Action', 'Action Adventure', 'Action', 'Action', 'Action Adventure', 'Adventure', 'Action', 'Adventure', 'Role-Playing', 'Miscellaneous', 'Role-Playing', 'Simulation', 'Role-Playing', 'Action Adventure', 'Role-Playing', 'Action', 'Action Adventure', 'Action', 'Action Adventure', 'Action Adventure', 'Action', 'Action', 'Role-Playing', 'Action', 'Action', 'Action', 'Action', 'Puzzle', 'Role-Playing', 'Action', 'Action', 'Action', 'Puzzle', 'Role-Playing', 'Action', 'Action', 'Action', 'Puzzle', 'Role-Playing', 'Action', 'Action', 'Action', 'Puzzle', 'Role-Playing', 'Action', 'Strategy', 'Action', 'Action', 'Miscellaneous', 'Action', 'Sports', 'Action Adventure', 'Action', 'Sports', 'Action', 'Driving', 'Adventure', 'Action', 'Role-Playing', 'Action', 'Action', 'Puzzle', 'Action Adventure', 'Racing', 'Action', 'Miscellaneous', 'Adventure', 'Adventure', 'Action', 'Strategy', 'Role-Playing', 'Action', 'Action', 'Action', 'Action', 'Action', 'Sports', 'Action', 'Miscellaneous', 'Racing', 'Action', 'Adventure', 'Action', 'Role-Playing', 'Strategy', 'Action', 'Action', 'Strategy', 'Action', 'Action', 'Action', 'No Online Multiplayer', 'Action', 'Miscellaneous', 'Miscellaneous', 'Action', 'Strategy', 'Action', 'Action', 'Action', 'Miscellaneous', 'Role-Playing', 'Action Adventure', 'Simulation', 'Action Adventure', 'Role-Playing', 'Strategy', 'Action', 'Action', 'Role-Playing', 'Action Adventure', 'Adventure', 'Adventure', 'Role-Playing', 'Puzzle', 'Driving', 'Sports', 'Action', 'Role-Playing', 'Action', 'Action', 'Miscellaneous', 'Sci-Fi', 'Action', 'Sports', 'Action Adventure', 'Action Adventure', 'Modern', 'Miscellaneous', 'Role-Playing', 'Action Adventure', 'Action Adventure', 'Modern', 'Miscellaneous', 'Role-Playing', 'Action Adventure', 'Action Adventure', 'Modern', 'Miscellaneous', 'Role-Playing', 'Action Adventure', 'Action Adventure', 'Modern', 'Miscellaneous', 'Role-Playing', 'Strategy', 'Strategy', 'Strategy', 'Shooter', 'Sports', 'Strategy', 'Action Adventure', 'Racing', 'Adventure', 'Action', 'Action', 'Racing', 'Role-Playing', 'Action', 'Driving', 'Action', 'Racing', 'Sports', 'Adventure', 'Adventure', 'Role-Playing', 'Action', 'Racing', 'Strategy', 'Action', 'Miscellaneous', 'Action Adventure', 'Role-Playing', 'Role-Playing', 'Sports', 'Sports', 'Sports', 'Action', 'Adventure', 'Strategy', 'Action Adventure', 'Action', 'Action', 'Action', 'General', 'Action', 'Strategy', 'Sports', 'Action', 'Action', 'Miscellaneous', 'Driving', 'Action Adventure', 'Adventure', 'Adventure', 'Strategy', 'Action', 'Action', 'Action', 'Role-Playing', 'Adventure', 'Action Adventure', 'Action', 'Strategy', 'Role-Playing', 'Strategy', 'Action Adventure', 'Racing', 'Miscellaneous', 'Action Adventure', 'Role-Playing', 'Action', 'Strategy', 'Action', 'Sports', 'Miscellaneous', 'Driving', 'Action', 'Action', 'Action', 'Historic', 'Miscellaneous', 'Miscellaneous', 'Role-Playing', 'Action', 'Role-Playing', 'Action', 'Simulation', 'Strategy', 'Strategy', 'Role-Playing', 'Action', 'Simulation', 'Strategy', 'Strategy', 'Role-Playing', 'Action', 'Simulation', 'Strategy', 'Strategy', 'Role-Playing', 'Action', 'Simulation', 'Strategy', 'Strategy', 'Action', 'Action Adventure', 'Simulation', 'Role-Playing', 'Action Adventure', 'Role-Playing', 'Simulation', 'Strategy', 'Action Adventure', 'Role-Playing', 'Action', 'Action', 'Action', 'Action Adventure', 'Racing', 'Action Adventure', 'Driving', 'Role-Playing', 'Simulation', 'Action', 'Strategy', 'Strategy', 'Strategy', 'Miscellaneous', 'Strategy', 'Action', 'Adventure', 'Strategy', 'Simulation', 'Racing', 'Action', 'Sports', 'Role-Playing', 'Action Adventure', 'Strategy', 'Strategy', 'Action', 'Role-Playing', 'Action', 'Driving', 'Action Adventure', 'Action Adventure', 'Adventure', 'Action', 'Action', 'Driving', 'Action', 'Action', 'Action', 'Action', 'Racing', 'Action Adventure', 'Action', 'Action Adventure', 'Adventure', 'Racing', 'Action', 'Sports', 'Action', 'Adventure', 'Action', 'Action', 'Strategy', 'Role-Playing', 'Role-Playing', 'Action', 'Sports', 'Puzzle', 'General', 'Action Adventure', 'Action', 'Adventure', 'General', 'Action Adventure', 'Role-Playing', 'Miscellaneous', 'Driving', 'Action', 'Adventure', 'Miscellaneous', 'Role-Playing', 'Miscellaneous', 'Strategy', 'Adventure', 'Action', 'Role-Playing', 'Miscellaneous', 'Strategy', 'Adventure', 'Action', 'Role-Playing', 'Miscellaneous', 'Strategy', 'Adventure', 'Action', 'Role-Playing', 'Miscellaneous', 'Strategy', 'Adventure', 'Action', 'Strategy', 'Adventure', 'Action Adventure', 'Action', 'Action', 'Action', 'Miscellaneous', 'Action Adventure', 'Action', 'Puzzle', 'Miscellaneous', 'Action', 'Action', 'Action', 'Action', 'Strategy', 'Adventure', 'Action', 'Action', 'Action', 'Action', 'Action', 'Action', 'Action', 'Role-Playing', 'Action', 'Strategy', 'Action Adventure', 'Strategy', 'Horror', 'Role-Playing', 'Action', 'Role-Playing', 'Action', 'Action Adventure', 'Action', 'Modern', 'Adventure', 'Action Adventure', 'Role-Playing', 'Action', 'Action Adventure', 'Strategy', 'Role-Playing', 'Role-Playing', 'Action', 'Miscellaneous', 'Role-Playing', 'Action', 'Action', 'Action', 'Action Adventure', 'Action Adventure', 'Strategy', 'Role-Playing', 'Miscellaneous', 'Action', 'Action Adventure', 'Racing', 'Action', 'Racing', 'General', 'Action', 'Action', 'Action Adventure', 'Modern', 'Action Adventure', 'Action', 'Action', 'Action', 'Role-Playing', 'Miscellaneous', 'Action', 'Role-Playing', 'Action', 'Role-Playing', 'Role-Playing', 'Role-Playing', 'Action', 'Action', 'Driving', 'Simulation', 'Action Adventure', 'Action Adventure', 'Driving', 'Driving', 'Simulation', 'Action Adventure', 'Action Adventure', 'Driving', 'Driving', 'Simulation', 'Action Adventure', 'Action Adventure', 'Driving', 'Driving', 'Simulation', 'Action Adventure', 'Action Adventure', 'Driving', 'Simulation', 'Driving', 'Role-Playing', 'Action', 'Action', 'Platformer', 'Action', 'Role-Playing', 'Racing', 'Miscellaneous', 'Action', 'Driving', 'Role-Playing', 'General', 'Sports', 'Racing', 'Action', 'Action Adventure', 'Role-Playing', 'Action', 'Role-Playing', 'Action', 'Action', 'Strategy', 'Sports', 'Action', 'Racing', 'Sports', 'Strategy', 'Action', 'Strategy', 'Adventure', 'Miscellaneous', 'Action', 'Adventure', 'Action', 'Action', 'Action', 'Sports', 'Sports', 'Action Adventure', 'Action', 'Sports', 'Action Adventure', 'Action', 'Action', 'Strategy', 'Action', 'Adventure', 'Action', 'Action', 'Action', 'Action', 'Sports', 'Driving', 'Action Adventure', 'Racing', 'Action', 'Action', 'Action Adventure', 'Role-Playing', 'Sports', 'Action', 'Miscellaneous', 'Adventure', 'Adventure', 'Action Adventure', 'Miscellaneous', 'Role-Playing', 'Action', 'Action Adventure', 'Strategy', 'Adventure', 'Adventure', 'Adventure', 'Action', 'Role-Playing', 'Horror', 'Action', 'Simulation', 'Driving', 'Role-Playing', 'Miscellaneous', 'Adventure', 'Strategy', 'Driving', 'Role-Playing', 'Miscellaneous', 'Adventure', 'Strategy', 'Driving', 'Role-Playing', 'Miscellaneous', 'Adventure', 'Strategy', 'Driving', 'Role-Playing', 'Miscellaneous', 'Adventure', 'Strategy', 'Strategy', 'Horror', 'Action', 'Action', 'Action Adventure', 'Sports', 'Sports', 'Strategy', 'Action', 'Adventure', 'Sports', 'Japanese-Style', 'Strategy', 'Strategy', 'Action', 'Miscellaneous', 'Role-Playing', 'Action', 'Strategy', 'Adventure', 'Action Adventure', 'Action', 'Action', 'Action', 'Action', 'Role-Playing', 'Adventure', 'Role-Playing', 'Driving', 'Action', 'Action', 'Action Adventure', 'Action Adventure', 'Action Adventure', 'Strategy', 'Action', 'Adventure', 'Miscellaneous', 'Action', 'Action', 'Action Adventure', 'Action', 'Action Adventure', 'Action', 'Sports', 'Action Adventure', 'Action', 'Action', 'Strategy', 'Action', 'Action', 'Strategy', 'Action', 'Adventure', 'Sports', 'Action', 'Action', 'Role-Playing', 'Action Adventure', 'Action', 'Sports', 'Miscellaneous', 'Sports', 'Role-Playing', 'Action', 'Action Adventure', 'Miscellaneous', 'Role-Playing', 'Miscellaneous', 'Adventure', 'Action', 'Racing', 'Racing', 'Shooter', 'Strategy', 'Role-Playing', 'Racing', 'Simulation', 'Strategy', 'Strategy', 'Action Adventure', 'Racing', 'Strategy', 'Action', 'Miscellaneous', 'Action Adventure', 'Racing', 'Strategy', 'Action', 'Miscellaneous', 'Action Adventure', 'Racing', 'Strategy', 'Action', 'Miscellaneous', 'Action Adventure', 'Racing', 'Strategy', 'Action', 'Miscellaneous', 'Action Adventure', 'Adventure', 'Action Adventure', 'Sports', 'Action', 'Strategy', 'Role-Playing', 'Action Adventure', 'Strategy', 'Action', 'Simulation', 'Role-Playing', 'Action Adventure', 'Miscellaneous', 'Adventure', 'Role-Playing', 'Strategy', 'Adventure', 'Action', 'Role-Playing', 'Role-Playing', 'Action', 'Role-Playing', 'Sports', 'Sports', 'Sports', 'Sports', 'Simulation', 'Action', 'Strategy', 'Miscellaneous', 'Action', 'Action', 'Action', 'Miscellaneous', 'Strategy', 'Role-Playing', 'Role-Playing', 'Action', 'Action', 'Action', 'Action Adventure', 'Simulation', 'Role-Playing', 'Role-Playing', 'Action', 'Adventure', 'Strategy', 'Miscellaneous', 'Role-Playing', 'Sports', 'Action', 'Adventure', 'Sports', 'Action Adventure', 'Action', 'Sports', 'Driving', 'Action', 'Action Adventure', 'Action', 'Action Adventure', 'Action Adventure', 'Adventure', 'Strategy', 'Adventure', 'Action', 'Sports', 'Action', 'Sports', 'Action Adventure', 'Sports', 'Action', 'Action', 'Sports', 'Action', 'Shooter', 'Platformer', 'Action', 'Action', 'Miscellaneous', 'Role-Playing', 'Driving', 'Role-Playing', 'Miscellaneous', 'Miscellaneous', 'Role-Playing', 'Driving', 'Role-Playing', 'Miscellaneous', 'Miscellaneous', 'Role-Playing', 'Driving', 'Role-Playing', 'Miscellaneous', 'Miscellaneous', 'Role-Playing', 'Driving', 'Role-Playing', 'Miscellaneous', 'Adventure', 'Action', 'Action Adventure', 'Action', 'Action', 'Simulation', 'Action Adventure', 'Action Adventure', 'Simulation', 'Action', 'Action Adventure', 'Miscellaneous', 'Miscellaneous', 'Sports', 'Role-Playing', 'Driving', 'Action', 'Miscellaneous', 'Action', 'Role-Playing', 'Driving', 'Action', 'Sports', 'Racing', 'Role-Playing', 'Role-Playing', 'Adventure', 'Action Adventure', 'Action', 'Action', 'Action', 'Action', 'Music', 'Action', 'Sports', 'Miscellaneous', 'Simulation', 'General', 'Action Adventure', 'Action Adventure', 'Strategy', 'Action', 'Action', 'Strategy', 'Action', 'Role-Playing', 'Action Adventure', 'Action', 'Action', 'Strategy', 'Action', 'Action', 'Role-Playing', 'Puzzle', 'Miscellaneous', 'Action', 'Action', 'Action', 'Role-Playing', 'Action', 'Action', 'Action', 'Driving', 'Driving', 'Driving', 'Driving', 'Action', 'Sports', 'Action', 'Action Adventure', 'Action Adventure', 'Action', 'Miscellaneous', 'Action', 'Miscellaneous', 'Action', 'Driving', 'Action Adventure', 'Miscellaneous', 'Miscellaneous', 'Action', 'On GameFAQs', 'Action', 'Simulation', 'Action', 'Action', 'On GameFAQs', 'Action', 'Simulation', 'Action', 'Action', 'On GameFAQs', 'Action', 'Simulation', 'Action', 'Action', 'On GameFAQs', 'Action', 'Simulation', 'Action', 'Strategy', 'Miscellaneous', 'Strategy', 'Action', 'Action', 'Action Adventure', 'Role-Playing', 'Action Adventure', 'Action', 'Role-Playing', 'Action', 'Action', 'Miscellaneous', 'Strategy', 'Action', 'Action', 'Action', 'Action', 'Sports', 'Role-Playing', 'Sports', 'Action', 'Simulation', 'Racing', 'Action', 'Role-Playing', 'Role-Playing', 'Action Adventure', 'Adventure', 'Action', 'Miscellaneous', 'Action', 'Action', 'Action', 'Action', 'Miscellaneous', 'Miscellaneous', 'Miscellaneous', 'Action', 'Strategy', 'Simulation', 'Driving', 'Action', 'Action Adventure', 'Action', 'Role-Playing', 'Action', 'Action', 'Miscellaneous', 'Role-Playing', 'General', 'Miscellaneous', 'Role-Playing', 'Action', 'Action', 'Driving', 'Miscellaneous', 'Sports', 'Strategy', 'Sports', 'Action', 'Sports', 'Action', 'Racing', 'Action Adventure', 'Action Adventure', 'Strategy', 'Action', 'Miscellaneous', 'Adventure', 'Action Adventure', 'Adventure', 'Sports', 'Action', 'Action Adventure', 'Simulation', 'Action Adventure', 'Strategy', 'Action Adventure', 'Miscellaneous', 'Driving', 'Role-Playing', 'Action', 'Role-Playing', 'Action', 'Driving', 'Role-Playing', 'Action', 'Role-Playing', 'Action', 'Driving', 'Role-Playing', 'Action', 'Role-Playing', 'Action', 'Driving', 'Role-Playing', 'Action', 'Role-Playing', 'Action', 'Action Adventure', 'Action Adventure', 'Action Adventure', 'Role-Playing', 'Action', 'Racing', 'Adventure', 'Action', 'Strategy', 'Simulation', 'Miscellaneous', 'Role-Playing', 'Action', 'Puzzle', 'Simulation', 'Adventure', 'Action', 'Role-Playing', 'Strategy', 'Action', 'Simulation', 'General', 'Miscellaneous', 'Action', 'Action', 'Action Adventure', 'Action', 'Action', 'Strategy', 'Action', 'Sports', 'Strategy', 'Miscellaneous', 'Sci-Fi', 'Action Adventure', 'Action Adventure', 'Action Adventure', 'Adventure', 'Action', 'Simulation', 'Action Adventure', 'Adventure', 'Sports', 'Action', 'Action', 'Miscellaneous', 'Racing', 'Strategy', 'Role-Playing', 'Strategy', 'Miscellaneous', 'Strategy', 'Role-Playing', 'Action', 'Action Adventure', 'Role-Playing', 'Strategy', 'Action Adventure', 'Driving', 'Role-Playing', 'Strategy', 'Miscellaneous', 'Action', 'Role-Playing', 'Role-Playing', 'Action', 'Role-Playing', 'Action Adventure', 'Role-Playing', 'Adventure', 'Action Adventure', 'Role-Playing', 'Strategy', 'Role-Playing', 'Adventure', 'Action', 'Simulation', 'Action Adventure', 'Sports', 'Action', 'General', 'Action Adventure', 'Action Adventure', 'Action', 'Action', 'General', 'Action Adventure', 'Action Adventure', 'Action', 'Action', 'General', 'Action Adventure', 'Action Adventure', 'Action', 'Action', 'General', 'Action Adventure', 'Action Adventure', 'Action', 'Action', 'Action', 'Action Adventure', 'Action Adventure', 'Role-Playing', 'On GameFAQs', 'Action', 'Action Adventure', 'Action', 'Action', 'Sports', 'Adventure', 'Miscellaneous', 'Action', 'Action', 'Driving', 'Miscellaneous', 'Miscellaneous', 'Action Adventure', 'Action Adventure', 'Action', 'Role-Playing', 'Miscellaneous', 'Action', 'Action', 'Sports', 'Action', 'Action', 'Role-Playing', 'Action', 'Action', 'Role-Playing', 'Role-Playing', 'Racing', 'Adventure', 'Action', 'Adventure', 'Strategy', 'Action Adventure', 'Action Adventure', 'Action', 'Strategy', 'Sports', 'General', 'Sports', 'Strategy', 'Action', 'Sports', 'Role-Playing', 'Role-Playing', 'Role-Playing', 'Action', 'Miscellaneous', 'Role-Playing', 'Action', 'Sports', 'Action', 'Adventure', 'Action', 'Miscellaneous', 'Miscellaneous', 'Action Adventure', 'Action', 'Driving', 'Sports', 'Action', 'Action', 'Sports', 'Driving', 'Sports', 'General', 'Action Adventure', 'Adventure', 'Action', 'Action', 'Action Adventure', 'Action', 'Miscellaneous', 'Strategy', 'Puzzle', 'Role-Playing', 'Simulation', 'Action', 'Role-Playing', 'Miscellaneous', 'Strategy', 'Simulation', 'Action', 'Role-Playing', 'Miscellaneous', 'Strategy', 'Simulation', 'Action', 'Role-Playing', 'Miscellaneous', 'Strategy', 'Simulation', 'Action', 'Role-Playing', 'Miscellaneous', 'Strategy', 'Adventure', 'General', 'Action Adventure', 'Sports', 'Role-Playing', 'Action', 'Strategy', 'Action', 'Strategy', 'Action', 'Adventure', 'Modern', 'Action', 'Action Adventure', 'Role-Playing', 'Miscellaneous', 'Adventure', 'Puzzle', 'Simulation', 'Strategy', 'Strategy', 'Strategy', 'Action', 'Sports', 'Simulation', 'Driving', 'Simulation', 'Action', 'Adventure', 'Action', 'Simulation', 'Strategy', 'Strategy', 'Action', 'Action Adventure', 'Sports', 'Simulation', 'Action', 'Action', 'Strategy', 'Role-Playing', 'Action', 'Action', 'Action', 'Role-Playing', 'Action', 'Sports', 'Action Adventure', 'Simulation', 'Adventure', 'Strategy', 'Action', 'Action', 'Racing', 'Simulation', 'Action', 'Action', 'Driving', 'Action', 'Action', 'Action', 'Racing', 'Adventure', 'Adventure', 'Action', 'Strategy', 'Action', 'General', 'Sports', 'Adventure', 'Action', 'Action', 'Driving', 'Role-Playing', 'Action Adventure', 'Simulation', 'Racing', 'Action', 'Adventure', 'Role-Playing', 'Strategy', 'Action', 'Driving', 'Sports', 'Action Adventure', 'Strategy', 'Action', 'Driving', 'Sports', 'Action Adventure', 'Strategy', 'Action', 'Driving', 'Sports', 'Action Adventure', 'Strategy', 'Action', 'Driving', 'Sports', 'Action Adventure', 'Miscellaneous', 'Sports', 'Simulation', 'Strategy', 'Strategy', 'Action', 'Action', 'Role-Playing', 'Action', 'Action', 'Action Adventure', 'Role-Playing', 'Action', 'Miscellaneous', 'Action', 'Fantasy', 'Role-Playing', 'Action', 'Strategy', 'Action', 'Horror', 'Action Adventure', 'Adventure', 'Action', 'Role-Playing', 'Puzzle', 'Miscellaneous', 'Sports', 'Action', 'Modern', 'General', 'Role-Playing', 'Action', 'Action Adventure', 'Action Adventure', 'Strategy', 'Action', 'Role-Playing', 'Action', 'Action Adventure', 'Action', 'Action Adventure', 'Action Adventure', 'Action', 'Driving', 'Adventure', 'Action', 'Miscellaneous', 'Action Adventure', 'Role-Playing', 'Sports', 'Strategy', 'Action', 'Adventure', 'Strategy', 'Miscellaneous', 'Strategy', 'Role-Playing', 'Simulation', 'Action', 'Sports', 'Sports', 'Action', 'Miscellaneous', 'Action', 'Adventure', 'Action Adventure', 'Role-Playing', 'Role-Playing', 'Action Adventure', 'Sports', 'Action', 'Strategy', 'Action Adventure', 'Strategy', 'Role-Playing', 'Action Adventure', 'Action', 'Driving', 'Sports', 'Adventure', 'Strategy', 'Action', 'General', 'Sports', 'Adventure', 'Strategy', 'Action', 'General', 'Sports', 'Adventure', 'Strategy', 'Action', 'General', 'Sports', 'Adventure', 'Strategy', 'Action', 'General', 'Sports', 'Adventure', 'Action', 'Adventure', 'Action', 'Role-Playing', 'Role-Playing', 'Sports', 'Driving', 'Simulation', 'Action', 'Miscellaneous', 'Action Adventure', 'Miscellaneous', 'Strategy', 'Action Adventure', 'Puzzle', 'Sports', 'Action', 'Adventure', 'Action', 'Miscellaneous', 'Simulation', 'Action', 'Action', 'Strategy', 'Action', 'Action', 'Action', 'Action', 'Action', 'Strategy', 'Action', 'Action Adventure', 'Action', 'Strategy', 'Action', 'Simulation', 'Role-Playing', 'General', 'Role-Playing', 'Sports', 'Modern', 'Action', 'Action Adventure', 'Adventure', 'Action', 'Action Adventure', 'Simulation', 'Action Adventure', 'Role-Playing', 'Adventure', 'Action Adventure', 'Action', 'Action', 'Puzzle', 'Role-Playing', 'Action', 'Role-Playing', 'Miscellaneous', 'Action', 'Puzzle', 'Miscellaneous', 'Action', 'Action Adventure', 'Action', 'Action Adventure', 'Action', 'Action Adventure', 'General', 'Action', 'Driving', 'Role-Playing', 'Role-Playing', 'Action', 'Strategy', 'Action Adventure', 'Sports', 'Action', 'Driving', 'Sports', 'Action', 'Strategy', 'Sports', 'Adventure', 'Driving', 'Action', 'Strategy', 'Sports', 'Adventure', 'Driving', 'Action', 'Strategy', 'Sports', 'Adventure', 'Driving', 'Action', 'Strategy', 'Sports', 'Adventure', 'Driving', 'Strategy', 'Action', 'Miscellaneous', 'Miscellaneous', 'Action Adventure', 'Action', 'Miscellaneous', 'Action Adventure', 'Action', 'Action', 'Simulation', 'Simulation', 'Action', 'Action', 'Sports', 'Action', 'Action', 'Action Adventure', 'Action', 'Adventure', 'Sports', 'Action Adventure', 'Action Adventure', 'Sports', 'Action', 'Action', 'Sports', 'Miscellaneous', 'Action', 'Action', 'Role-Playing', 'Action Adventure', 'Action Adventure', 'Strategy', 'Action', 'Sports', 'Strategy', 'Adventure', 'Sports', 'Adventure', 'Role-Playing', 'Role-Playing', 'Action Adventure', 'General', 'General', 'Action', 'Driving', 'Miscellaneous', 'Action Adventure', 'Action Adventure', 'Action', 'Action', 'Action', 'Strategy', 'Sports', 'Action', 'Strategy', 'Action', 'Strategy', 'Role-Playing', 'Strategy', 'Action', 'Puzzle', 'Action Adventure', 'Adventure', 'Action', 'Action', 'Action', 'Action', 'Action Adventure', 'Role-Playing', 'Action', 'Role-Playing', 'Action', 'Action', 'Action', 'Adventure', 'Action Adventure', 'Strategy', 'Action', 'Racing', 'Strategy', 'Modern', 'Strategy', 'Action', 'Racing', 'Strategy', 'Modern', 'Strategy', 'Action', 'Racing', 'Strategy', 'Modern', 'Strategy', 'Action', 'Racing', 'Strategy', 'Modern', 'Strategy', 'Action', 'Miscellaneous', 'Shooter', 'Driving', 'Action Adventure', 'Role-Playing', 'Action', 'Strategy', 'Strategy', 'Action Adventure', 'Action', 'Action Adventure', 'Miscellaneous', 'Puzzle', 'Action', 'Action', 'Miscellaneous', 'Driving', 'Action', 'Strategy', 'Action Adventure', 'Action Adventure', 'Strategy', 'Action Adventure', 'Action', 'Sports', 'Action', 'Action', 'Racing', 'Simulation', 'Miscellaneous', 'Strategy', 'Driving', 'Role-Playing', 'Adventure', 'Action', 'Adventure', 'Action', 'Miscellaneous', 'Role-Playing', 'Strategy', 'Sports', 'Driving', 'Action', 'Action Adventure', 'Action Adventure', 'Strategy', 'Action', 'Role-Playing', 'Adventure', 'Racing', 'General', 'Miscellaneous', 'Adventure', 'Action', 'Racing', 'Action', 'Action RPG', 'Adventure', 'Action', 'Strategy', 'Action', 'Action', 'Action', 'Action', 'Action Adventure', 'Action', 'Role-Playing', 'Adventure', 'Driving', 'Sports', 'Racing', 'Action', 'Role-Playing', 'Action', 'Adventure', 'Puzzle', 'Action', 'Action Adventure', 'Puzzle', 'Action', 'Simulation', 'General', 'Action', 'Adventure', 'Driving', 'Simulation', 'General', 'Action', 'Adventure', 'Driving', 'Simulation', 'General', 'Action', 'Adventure', 'Driving', 'Simulation', 'General', 'Action', 'Adventure', 'Driving', 'Role-Playing', 'Strategy', 'Strategy', 'Sports', 'Sports', 'Action', 'Driving', 'Adventure', 'Role-Playing', 'Action Adventure', 'Action', 'Action', 'Role-Playing', 'Sports', 'Role-Playing', 'Sports', 'Action Adventure', 'Action', 'Action', 'Adventure', 'Action', 'Action Adventure', 'Action', 'Sports', 'Adventure', 'Action Adventure', 'Action', 'Strategy', 'Adventure', 'Platformer', 'Action Adventure', 'General', 'Role-Playing', 'Action', 'Action', 'Role-Playing', 'Strategy', 'Adventure', 'Puzzle', 'Strategy', 'Action Adventure', 'Action Adventure', 'Strategy', 'Action', 'Miscellaneous', 'Miscellaneous', 'Action', 'Simulation', 'Driving', 'Sports', 'Action', 'Miscellaneous', 'Action', 'Miscellaneous', 'Simulation', 'Role-Playing', 'Action', 'Sports', 'Action', 'Action Adventure', 'Sports', 'Action', 'Action', 'Role-Playing', 'Driving', 'Action Adventure', 'Action Adventure', 'Role-Playing', 'Action Adventure', 'Role-Playing', 'Action', 'Action', 'Action', 'Simulation', 'Action', 'Action', 'Simulation', 'Strategy', 'Action Adventure', 'Sports', 'Miscellaneous', 'Action', 'Role-Playing', 'Strategy', 'Strategy', 'Miscellaneous', 'Action', 'Role-Playing', 'Strategy', 'Strategy', 'Miscellaneous', 'Action', 'Role-Playing', 'Strategy', 'Strategy', 'Miscellaneous', 'Action', 'Role-Playing', 'Strategy', 'Strategy', 'Miscellaneous', 'Miscellaneous', 'Miscellaneous', 'Action', 'Role-Playing', 'Action', 'Role-Playing', 'Fantasy', 'Action', 'Adventure', 'Action', 'Role-Playing', 'Action', 'Action', 'Role-Playing', 'Driving', 'Action', 'Action', 'Sports', 'Action', 'Action', 'Simulation', 'Action', 'Role-Playing', 'Adventure', 'Sports', 'Action', 'Adventure', 'Action', 'Historic', 'Action', 'Action', 'General', 'Action', 'Action Adventure', 'Action', 'Action', 'Action Adventure', 'Role-Playing', 'Action Adventure', 'Action', 'Action Adventure', 'Strategy', 'Strategy', 'Action', 'Miscellaneous', 'Strategy', 'Simulation', 'Action', 'Racing', 'Sports', 'Miscellaneous', 'Sports', 'Role-Playing', 'Adventure', 'Action', 'Racing', 'Action', 'Action Adventure', 'Action', 'Adventure', 'Action Adventure', 'Sports', 'Action Adventure', 'Action Adventure', 'Action Adventure', 'Action Adventure', 'Adventure', 'Action', 'Adventure', 'Action', 'Action Adventure', 'Sports', 'Strategy', 'Driving', 'Miscellaneous', 'Action', 'Driving', 'Action', 'Miscellaneous', 'Sci-Fi', 'Action', 'Role-Playing', 'Action', 'Action', 'Sci-Fi', 'Action', 'Role-Playing', 'Action', 'Action', 'Sci-Fi', 'Action', 'Role-Playing', 'Action', 'Action', 'Sci-Fi', 'Action', 'Role-Playing', 'Action', 'Action', 'Action Adventure', 'Action Adventure', 'Action', 'Action', 'Action', 'Action', 'Adventure', 'Action Adventure', 'Adventure', 'Action', 'Action', 'Action', 'Miscellaneous', 'Miscellaneous', 'Action Adventure', 'Action', 'Action', 'Action', 'Miscellaneous', 'Strategy', 'Action', 'Simulation', 'Action Adventure', 'Role-Playing', 'Action', 'Role-Playing', 'Driving', 'Racing', 'Action', 'Action', 'Action', 'Action', 'Sports', 'Strategy', 'Miscellaneous', 'Racing', 'Action', 'Adventure', 'Miscellaneous', 'Action', 'Sports', 'Simulation', 'Action', 'Action', 'Adventure', 'Role-Playing', 'Simulation', 'Puzzle', 'Action', 'Action', 'Sports', 'Action', 'Action', 'Action Adventure', 'Shooter', 'Miscellaneous', 'Action', 'Action Adventure', 'Action', 'Action', 'Action Adventure', 'Sports', 'Strategy', 'Role-Playing', 'Action Adventure', 'Sports', 'Action Adventure', 'Action', 'Puzzle', 'Sports', 'Miscellaneous', 'Action', 'Strategy', 'Simulation', 'Action', 'Strategy', 'Sports', 'Action Adventure', 'Action Adventure', 'Sports', 'Action Adventure', 'Action', 'Driving', 'Miscellaneous', 'Strategy', 'Action Adventure', 'Action', 'Driving', 'Miscellaneous', 'Strategy', 'Action Adventure', 'Action', 'Driving', 'Miscellaneous', 'Strategy', 'Action Adventure', 'Action', 'Driving', 'Miscellaneous', 'Strategy', 'Action', 'Driving', 'Action', 'Role-Playing', 'Strategy', 'Role-Playing', 'Action Adventure', 'Action', 'Action', 'Role-Playing', 'Adventure', 'Action', 'Action', 'Action', 'Action Adventure', 'Action Adventure', 'Sports', 'Action', 'Miscellaneous', 'Action Adventure', 'Action', 'Action', 'Action', 'Action', 'Role-Playing', 'General', 'Role-Playing', 'Action', 'Action Adventure', 'Action', 'Action Adventure', 'Action', 'Strategy', 'Action', 'Adventure', 'Action', 'Action', 'Adventure', 'Action Adventure', 'Action', 'Driving', 'Miscellaneous', 'Role-Playing', 'Action', 'Adventure', 'Action', 'Miscellaneous', 'Action', 'Action', 'General', 'Role-Playing', 'Action', 'Role-Playing', 'Role-Playing', 'Role-Playing', 'Action', 'Role-Playing', 'Sports', 'Strategy', 'Miscellaneous', 'Action', 'Role-Playing', 'Action', 'Adventure', 'Action', 'Sci-Fi', 'Strategy', 'Action Adventure', 'Role-Playing', 'Action Adventure', 'Action', 'Racing', 'Puzzle', 'Miscellaneous', 'Action Adventure', 'Driving', 'Action Adventure', 'Action', 'Action Adventure', 'Sports', 'Miscellaneous', 'Action', 'Action', 'Sports', 'Action', 'Miscellaneous', 'Action', 'Action', 'Sports', 'Action', 'Miscellaneous', 'Action', 'Action', 'Sports', 'Action', 'Miscellaneous', 'Action', 'Action', 'Sports', 'Action', 'Sports', 'Miscellaneous', 'Miscellaneous', 'Miscellaneous', 'Role-Playing', 'Role-Playing', 'Miscellaneous', 'Action', 'Role-Playing', 'Racing', 'Role-Playing', 'Action', 'Action', 'Role-Playing', 'Action Adventure', 'Action Adventure', 'Simulation', 'Action', 'Action Adventure', 'Action', 'Adventure', 'Fantasy', 'Action Adventure', 'Strategy', 'Simulation', 'Action', 'Action', 'Action', 'Action Adventure', 'Miscellaneous', 'Adventure', 'Role-Playing', 'Action Adventure', 'Action', 'Miscellaneous', 'Miscellaneous', 'Strategy', 'Adventure', 'Action', 'Action', 'Action', 'Strategy', 'Action', 'Action', 'Action', 'Role-Playing', 'Action Adventure', 'Action', 'Sports', 'Action', 'Action', 'Action', 'Action Adventure', 'Action', 'Action', 'Action', 'Action', 'Action', 'Action Adventure', 'Action', 'Action', 'Action Adventure', 'Action', 'Miscellaneous', 'Action Adventure', 'Action', 'Action Adventure', 'Action Adventure', 'Action Adventure', 'Sports', 'Role-Playing', 'Adventure', 'Puzzle', 'Action', 'Adventure', 'Action', 'Sports', 'Role-Playing', 'Action Adventure', 'Sports', 'Action Adventure', 'Strategy', 'Action', 'Strategy', 'Action Adventure', 'Action Adventure', 'Strategy', 'Action', 'Strategy', 'Action Adventure', 'Action Adventure', 'Strategy', 'Action', 'Strategy', 'Action Adventure', 'Action Adventure', 'Strategy', 'Action', 'Strategy', 'Action Adventure', 'Driving', 'Sports', 'Simulation', 'Action', 'Action', 'Sports', 'Simulation', 'Role-Playing', 'Action Adventure', 'Action', 'Miscellaneous', 'Modern', 'Action', 'Action', 'Action', 'GT / Street', 'Miscellaneous', 'Action', 'Role-Playing', 'Role-Playing', 'Strategy', 'Action', 'Sci-Fi', 'Action Adventure', 'Driving', 'Role-Playing', 'Action', 'Action Adventure', 'Action Adventure', 'Action', 'Strategy', 'Action', 'Miscellaneous', 'Strategy', 'Action', 'Action', 'Action Adventure', 'General', 'Miscellaneous', 'Action', 'Action', 'Action', 'Action', 'Miscellaneous', 'Role-Playing', 'Adventure', 'Action', 'Miscellaneous', 'Action', 'Role-Playing', 'Action', 'Adventure', 'Adventure', 'Action Adventure', 'Role-Playing', 'Adventure', 'Action Adventure', 'Action', 'Role-Playing', 'Action Adventure', 'Miscellaneous', 'Sports', 'Action', 'Action', 'Action Adventure', 'Action', 'Strategy', 'Driving', 'Action Adventure', 'Driving', 'Action', 'Simulation', 'Role-Playing', 'Adventure', 'Action Adventure', 'Simulation', 'Action Adventure', 'Role-Playing', 'Action', 'Action Adventure', 'Action Adventure', 'Action Adventure', 'Action', 'Action Adventure', 'Action Adventure', 'Action Adventure', 'Action Adventure', 'Action', 'Action Adventure', 'Action Adventure', 'Action Adventure', 'Action Adventure', 'Action', 'Action Adventure', 'Action Adventure', 'Action Adventure', 'Action Adventure', 'Action', 'Action Adventure', 'Sci-Fi', 'Adventure', 'Action', 'Miscellaneous', 'Racing', 'Action', 'Action Adventure', 'Adventure', 'Puzzle', 'Action', 'Miscellaneous', 'Sports', 'Action', 'Action Adventure', 'Action', 'Role-Playing', 'Sports', 'Racing', 'Sports', 'Action', 'Simulation', 'Racing', 'Action', 'Action Adventure', 'Strategy', 'Adventure', 'Action', 'Role-Playing', 'Strategy', 'Role-Playing', 'Adventure', 'Action Adventure', 'Adventure', 'Puzzle', 'Action Adventure', 'Strategy', 'Miscellaneous', 'Driving', 'Simulation', 'Sports', 'Simulation', 'Strategy', 'Action Adventure', 'Miscellaneous', 'Action', 'Action Adventure', 'Role-Playing', 'Action Adventure', 'Adventure', 'Adventure', 'Miscellaneous', 'Miscellaneous', 'Miscellaneous', 'Action', 'Action Adventure', 'Action', 'Simulation', 'Action', 'Strategy', 'Action Adventure', 'Strategy', 'Adventure', 'Adventure', 'Action', 'Action', 'Action', 'Shooter', 'Role-Playing', 'Strategy', 'Strategy', 'Action Adventure', 'Action', 'Action', 'Adventure', 'Adventure', 'Action', 'Puzzle', 'Adventure', 'Action', 'Action', 'Simulation', 'Adventure', 'Action Adventure', 'Action', 'Action Adventure', 'Simulation', 'Adventure', 'Action Adventure', 'Action', 'Action Adventure', 'Simulation', 'Adventure', 'Action Adventure', 'Action', 'Action Adventure', 'Simulation', 'Adventure', 'Action Adventure', 'Action', 'Action Adventure', 'Strategy', 'Action', 'Miscellaneous', 'Simulation', 'Action', 'Adventure', 'Action', 'Action', 'Strategy', 'Action Adventure', 'Driving', 'Action', 'Action', 'Strategy', 'Action', 'Action Adventure', 'Miscellaneous', 'Action', 'Action Adventure', 'Action', 'Action', 'Role-Playing', 'Action Adventure', 'Role-Playing', 'Sports', 'Action Adventure', 'Action', 'Sports', 'Adventure', 'Role-Playing', 'Driving', 'Simulation', 'Action Adventure', 'Action', 'Action', 'Strategy', 'Adventure', 'Action Adventure', 'Action', 'Action', 'Action', 'Role-Playing', 'Action Adventure', 'Action Adventure', 'Adventure', 'Action', 'Action', 'Action Adventure', 'Adventure', 'Simulation', 'Adventure', 'Action', 'Action', 'Role-Playing', 'Action Adventure', 'Simulation', 'Adventure', 'Action', 'Role-Playing', 'Action Adventure', 'Driving', 'Action Adventure', 'Action', 'Action RPG', 'General', 'Action', 'Strategy', 'Action', 'Adventure', 'Racing', 'Action', 'Adventure', 'Strategy', 'Strategy', 'Action Adventure', 'Strategy', 'Sports', 'Action', 'Strategy', 'Sports', 'Action', 'Action', 'First-Person', 'Strategy', 'Action Adventure', 'Action', 'Action', 'First-Person', 'Strategy', 'Action Adventure', 'Action', 'Action', 'First-Person', 'Strategy', 'Action Adventure', 'Action', 'Action', 'First-Person', 'Strategy', 'Action Adventure', 'Driving', 'Adventure', 'Action', 'Adventure', 'Miscellaneous', 'Strategy', 'Driving', 'Action Adventure', 'Sports', 'Driving', 'Miscellaneous', 'Action', 'Action', 'Action', 'Action', 'Sports', 'Racing', 'Modern', 'Action', 'General', 'Action', 'Puzzle', 'Action', 'Action', 'Action', 'Action', 'Action', 'Strategy', 'Action', 'Action', 'Adventure', 'Action', 'Action', 'Adventure', 'Action', 'Puzzle', 'Strategy', 'Action Adventure', 'Strategy', 'Simulation', 'Role-Playing', 'Action Adventure', 'Action Adventure', 'Adventure', 'Adventure', 'Adventure', 'Action', 'Puzzle', 'Simulation', 'Adventure', 'Adventure', 'Action', 'Action', 'Action', 'Action', 'Sports', 'Action Adventure', 'Miscellaneous', 'Action', 'Driving', 'Miscellaneous', 'Strategy', 'Sports', 'Sports', 'Action', 'Role-Playing', 'Action', 'Action', 'Sports', 'Action', 'Sports', 'Strategy', 'Driving', 'Sports', 'Strategy', 'Driving', 'Modern', 'Action', 'Action', 'Action', 'Driving', 'Strategy', 'Adventure', 'Action', 'Action Adventure', 'Driving', 'Strategy', 'Adventure', 'Action', 'Action Adventure', 'Driving', 'Strategy', 'Adventure', 'Action', 'Action Adventure', 'Driving', 'Strategy', 'Adventure', 'Action', 'Action Adventure', 'Action Adventure', 'Puzzle', 'Role-Playing', 'Action Adventure', 'Role-Playing', 'Role-Playing', 'Miscellaneous', 'Action', 'Action Adventure', 'Action', 'Action Adventure', 'Action', 'Miscellaneous', 'Miscellaneous', 'Action Adventure', 'Sports', 'Action', 'Action Adventure', 'Action', 'Strategy', 'Role-Playing', 'Action', 'Role-Playing', 'Action', 'Action', 'Action', 'Simulation', 'Action', 'Action Adventure', 'Action', 'Action', 'Action Adventure', 'Role-Playing', 'Adventure', 'Miscellaneous', 'Action', 'Action', 'Sports', 'Action', 'Action Adventure', 'Sports', 'Action Adventure', 'Action', 'Driving', 'Action', 'Action', 'Miscellaneous', 'Strategy', 'Miscellaneous', 'Miscellaneous', 'Action', 'Racing', 'Strategy', 'Miscellaneous', 'Action', 'Action', 'Action', 'Sports', 'Action', 'Adventure', 'Simulation', 'Action Adventure', 'Action Adventure', 'Action', 'Action Adventure', 'Action Adventure', 'Driving', 'Strategy', 'Strategy', 'Simulation', 'Action Adventure', 'Adventure', 'Adventure', 'Action Adventure', 'Adventure', 'Action', 'Action', 'Action', 'Action', 'Strategy', 'Action', 'Role-Playing', 'Action', 'Action', 'Action', 'Action', 'Role-Playing', 'Action', 'Action', 'Action', 'Action', 'Role-Playing', 'Action', 'Action', 'Action', 'Action', 'Role-Playing', 'Action', 'Action', 'Action', 'Action Adventure', 'Adventure', 'Miscellaneous', 'Miscellaneous', 'Adventure', 'Action Adventure', 'General', 'Role-Playing', 'Sports', 'Strategy', 'Action', 'Action Adventure', 'Miscellaneous', 'Action', 'Action', 'Action Adventure', 'Miscellaneous', 'Action', 'Action', 'Role-Playing', 'Action', 'Role-Playing', 'Sports', 'Action', 'Action', 'Sports', 'Strategy', 'Puzzle', 'Miscellaneous', 'Action', 'Action', 'Driving', 'Action', 'Action', 'Action', 'Miscellaneous', 'Miscellaneous', 'Action Adventure', 'General', 'Strategy', 'Action Adventure', 'Action', 'Action Adventure', 'Driving', 'Miscellaneous', 'Strategy', 'Action', 'Sports', 'Miscellaneous', 'Driving', 'Role-Playing', 'Role-Playing', 'Adventure', 'Action Adventure', 'Role-Playing', 'Action', 'Scrolling', 'Action', 'Simulation', 'Adventure', 'Adventure', 'Action Adventure', 'Strategy', 'Fantasy', 'Miscellaneous', 'Action', 'Action Adventure', 'Adventure', 'Role-Playing', 'Simulation', 'Action Adventure', 'Miscellaneous', 'Action Adventure', 'Simulation', 'Adventure', 'Action', 'Strategy', 'Simulation', 'Action', 'Role-Playing', 'Adventure', 'Miscellaneous', 'Horror', 'Action Adventure', 'Action', 'Adventure', 'Miscellaneous', 'Horror', 'Action Adventure', 'Action', 'Adventure', 'Miscellaneous', 'Horror', 'Action Adventure', 'Action', 'Adventure', 'Miscellaneous', 'Horror', 'Action Adventure', 'Action', 'Action Adventure', 'Action', 'Action', 'Action Adventure', 'Role-Playing', 'Action Adventure', 'Strategy', 'Adventure', 'Action', 'Puzzle', 'Sports', 'Strategy', 'Action', 'Action Adventure', 'Action Adventure', 'Miscellaneous', 'Action', 'Action Adventure', 'Action', 'Simulation', 'Action', 'Action Adventure', 'Action', 'Action', 'Action', 'Miscellaneous', 'Miscellaneous', 'Adventure', 'Action Adventure', 'Action', 'Driving', 'Driving', 'Strategy', 'Simulation', 'Driving', 'Sports', 'Action', 'Action Adventure', 'Action', 'Role-Playing', 'Puzzle', 'Role-Playing', 'Action', 'Sports', 'Action Adventure', 'Action Adventure', 'Strategy', 'Puzzle', 'Simulation', 'Action', 'Strategy', 'Shooter', 'Sports', 'Action Adventure', 'Strategy', 'Action', 'Action', 'Action', 'Sports', 'Action', 'Role-Playing', 'Sports', 'Simulation', 'Action Adventure', 'Adventure', 'Action', 'Role-Playing', 'Adventure', 'Adventure', 'Adventure', 'Fighting', 'Strategy', 'Driving', 'Strategy', 'Action', 'Action Adventure', 'Adventure', 'Action', 'Sports', 'Action Adventure', 'Action', 'Role-Playing', 'Action', 'Action Adventure', 'Driving', 'Action', 'Role-Playing', 'Action', 'Action Adventure', 'Driving', 'Action', 'Role-Playing', 'Action', 'Action Adventure', 'Driving', 'Action', 'Role-Playing', 'Action', 'Action Adventure', 'Driving', 'Role-Playing', 'Driving', 'Action', 'Action', 'Action', 'Simulation', 'Strategy', 'Sports', 'Sports', 'Role-Playing', 'Strategy', 'Action Adventure', 'Action Adventure', 'Role-Playing', 'Sports', 'Role-Playing', 'Adventure', 'Action Adventure', 'Action', 'Miscellaneous', 'Action Adventure', 'Action', 'Adventure', 'Strategy', 'Action', 'Strategy', 'Adventure', 'Strategy', 'Action', 'General', 'Role-Playing', 'Action Adventure', 'Sports', 'Action', 'Action Adventure', 'Platformer', 'Action', 'Action', 'Simulation', 'Action', 'Action Adventure', 'Strategy', 'Miscellaneous', 'Action Adventure', 'Adventure', 'Action Adventure', 'Action Adventure', 'Adventure', 'Action Adventure', 'Action', 'Action Adventure', 'Action', 'Driving', 'Action', 'Action', 'Role-Playing', 'Action', 'Role-Playing', 'Action Adventure', 'Miscellaneous', 'Action', 'Driving', 'Role-Playing', 'Sports', 'Action', 'Strategy', 'Sports', 'Action Adventure', 'Racing', 'Third-Person', 'Action', 'Action', 'Action', 'Action', 'Action', 'Strategy', 'Strategy', 'Miscellaneous', 'Miscellaneous', 'Action', 'Role-Playing', 'Action', 'Racing', 'Action', 'Action Adventure', 'Role-Playing', 'Action', 'Racing', 'Action', 'Action Adventure', 'Role-Playing', 'Action', 'Racing', 'Action', 'Action Adventure', 'Role-Playing', 'Action', 'Racing', 'Action', 'Action Adventure', 'Racing', 'Action Adventure', 'Simulation', 'Action Adventure', 'Action', 'Sci-Fi', 'Simulation', 'Sports', 'Miscellaneous', 'Strategy', 'Action', 'General', 'Simulation', 'Action', 'Action Adventure', 'Action', 'Action', 'Action', 'Role-Playing', 'Action', 'Role-Playing', 'Simulation', 'Miscellaneous', 'Action Adventure', 'Action', 'Action Adventure', 'Strategy', 'Action', 'Sports', 'Action Adventure', 'Strategy', 'Strategy', 'Sports', 'Role-Playing', 'Action', 'Sports', 'Action', 'Driving', 'Action', 'Action', 'Sci-Fi', 'Action Adventure', 'Action', 'General', 'Action', 'Action', 'Sports', 'Adventure', 'Racing', 'Adventure', 'Adventure', 'Simulation', 'Action Adventure', 'Simulation', 'Role-Playing', 'Role-Playing', 'Action', 'Sports', 'Action', 'Role-Playing', 'Action', 'Racing', 'General', 'Racing', 'Action', 'Action', 'Action Adventure', 'Action Adventure', 'Action Adventure', 'Role-Playing', 'Action', 'Action', 'Driving', 'Action', 'Sports', 'Action Adventure', 'Miscellaneous', 'Adventure', 'Action', 'Strategy', 'Racing', 'Role-Playing', 'Miscellaneous', 'Driving', 'Role-Playing', 'Racing', 'Role-Playing', 'Miscellaneous', 'Driving', 'Role-Playing', 'Racing', 'Role-Playing', 'Miscellaneous', 'Driving', 'Role-Playing', 'Racing', 'Role-Playing', 'Miscellaneous', 'Driving', 'Role-Playing', 'Driving', 'Strategy', 'Miscellaneous', 'Strategy', 'Simulation', 'Action', 'Action Adventure', 'Action', 'Action', 'Action', 'Action Adventure', 'Action Adventure', 'Role-Playing', 'Action Adventure', 'Action', 'Action', 'Action', 'Action Adventure', 'Action', 'Role-Playing', 'Action Adventure', 'Adventure', 'Action Adventure', 'Driving', 'Sports', 'Strategy', 'Action', 'Racing', 'Adventure', 'Action', 'Action', 'Action', 'Action Adventure', 'Action', 'Action Adventure', 'Simulation', 'Action', 'Action', 'Strategy', 'Action', 'Driving', 'Simulation', 'Miscellaneous', 'Driving', 'Action', 'Racing', 'Action', 'Adventure', 'Role-Playing', 'Action Adventure', 'Sports', 'Action', 'Action Adventure', 'Strategy', 'Strategy', 'Action', 'Simulation', 'Role-Playing', 'Action', 'Strategy', 'Traditional', 'Action Adventure', 'Sports', 'Strategy', 'Driving', 'Action', 'Simulation', 'Sports', 'Action', 'Action Adventure', 'Action', 'Action', 'Action', 'Action', 'Action', 'Action Adventure', 'Action', 'Miscellaneous', 'Driving', 'Action', 'Racing', 'Action Adventure', 'Miscellaneous', 'Miscellaneous', 'Racing', 'Racing', 'Action Adventure', 'Miscellaneous', 'Miscellaneous', 'Racing', 'Racing', 'Action Adventure', 'Miscellaneous', 'Miscellaneous', 'Racing', 'Racing', 'Action Adventure', 'Miscellaneous', 'Miscellaneous', 'Racing', 'Sports', 'Action', 'Action', 'Action', 'Miscellaneous', 'Adventure', 'Action', 'Action Adventure', 'Miscellaneous', 'Action', 'Adventure', 'Racing', 'Action', 'Adventure', 'Miscellaneous', 'Role-Playing', 'Miscellaneous', 'Puzzle', 'Sports', 'Strategy', 'General', 'Strategy', 'Puzzle', 'Action', 'Action', 'Miscellaneous', 'Sports', 'Action', 'Action Adventure', 'Action', 'Action', 'Action', 'Driving', 'Driving', 'Sports', 'Strategy', 'Action', 'Action Adventure', 'Action', 'Role-Playing', 'Driving', 'Action Adventure', 'Miscellaneous', 'Role-Playing', 'General', 'Action', 'Sports', 'Action Adventure', 'Miscellaneous', 'Strategy', 'Puzzle', 'Strategy', 'Action Adventure', 'Sports', 'Action', 'Strategy', 'Action', 'Action Adventure', 'Miscellaneous', 'Action', 'Action Adventure', 'Adventure', 'Fantasy', 'Simulation', 'Action', 'Action', 'Action', 'Action', 'Action', 'Action', 'Action', 'Miscellaneous', 'Action', 'Role-Playing', 'Action', 'Strategy', 'Action', 'Role-Playing', 'Action', 'Miscellaneous', 'Action', 'Adventure', 'Action Adventure', 'Action', 'Miscellaneous', 'Action', 'Adventure', 'Action Adventure', 'Action', 'Miscellaneous', 'Action', 'Adventure', 'Action Adventure', 'Action', 'Miscellaneous', 'Action', 'Adventure', 'Action Adventure', 'Action', 'Miscellaneous', 'Adventure', 'Sports', 'Action Adventure', 'Strategy', 'Role-Playing', 'Strategy', 'Action', 'Action', 'Simulation', 'General', 'Strategy', 'Action', 'Adventure', 'Strategy', 'Miscellaneous', 'Action', 'Action', 'Miscellaneous', 'Action Adventure', 'Strategy', 'Simulation', 'Adventure', 'Action', 'Action', 'Action', 'Action Adventure', 'Strategy', 'Miscellaneous', 'Driving', 'Action Adventure', 'Racing', 'Action Adventure', 'Miscellaneous', 'Adventure', 'Action', 'Simulation', 'Simulation', 'Sports', 'Action Adventure', 'Miscellaneous', 'Action Adventure', 'Action', 'Adventure', 'Action', 'Action', 'Role-Playing', 'Action', 'Action', 'Role-Playing', 'Action', 'Action Adventure', 'Adventure', 'Action', 'Action', 'Adventure', 'Action', 'Action Adventure', 'Action Adventure', 'Role-Playing', 'Miscellaneous', 'Action', 'Role-Playing', 'Action', 'Strategy', 'Action', 'Action Adventure', 'Action', 'Sports', 'Driving', 'Miscellaneous', 'Action Adventure', 'Action', 'Action Adventure', 'Action', 'Action', 'Sports', 'Strategy', 'Role-Playing', 'Miscellaneous', 'Role-Playing', 'Action', 'Action Adventure', 'Strategy', 'Action', 'Role-Playing', 'Action', 'Action Adventure', 'Strategy', 'Action', 'Role-Playing', 'Action', 'Action Adventure', 'Strategy', 'Action', 'Role-Playing', 'Action', 'Action Adventure', 'Strategy', 'Action', 'Action', 'Driving', 'Action', 'Adventure', 'Sports', 'General', 'Action', 'Adventure', 'Racing', 'Action', 'Action Adventure', 'Action', 'Sports', 'Action', 'Action Adventure', 'Action Adventure', 'Sports', 'Role-Playing', 'Action', 'Adventure', 'Action Adventure', 'Action', 'Action', 'Action', 'Sports', 'Action', 'Action', 'Action', 'Strategy', 'Role-Playing', 'Strategy', 'Fantasy', 'Action Adventure', 'Strategy', 'Miscellaneous', 'Adventure', 'Strategy', 'Strategy', 'Role-Playing', 'Action', 'Sports', 'Action', 'Role-Playing', 'Sports', 'Simulation', 'Role-Playing', 'Action', 'Role-Playing', 'Action', 'Strategy', 'Puzzle', 'Action', 'Virtual Life', 'Action Adventure', 'Role-Playing', 'Miscellaneous', 'Strategy', 'Action', 'Action', 'Role-Playing', 'Action', 'Action', 'Action', 'Action', 'Action Adventure', 'Strategy', 'Adventure', 'Miscellaneous', 'Sports', 'Role-Playing', 'Action Adventure', 'Action Adventure', 'Action', 'Action', 'Action Adventure', 'Action', 'Adventure', 'Adventure', 'Action', 'Sports', 'Miscellaneous', 'Action', 'Action Adventure', 'Role-Playing', 'Role-Playing', 'Miscellaneous', 'Action', 'Action Adventure', 'Role-Playing', 'Role-Playing', 'Miscellaneous', 'Action', 'Action Adventure', 'Role-Playing', 'Role-Playing', 'Miscellaneous', 'Action', 'Action Adventure', 'Role-Playing', 'Role-Playing', 'Miscellaneous', 'Action Adventure', 'Action', 'Strategy', 'Sports', 'Action', 'Miscellaneous', 'Action', 'Driving', 'Sports', 'Action', 'Action', 'Action Adventure', 'Action', 'Miscellaneous', 'Simulation', 'Adventure', 'Action', 'Action Adventure', 'Action Adventure', 'Action', 'Action Adventure', 'Action', 'Action', 'Role-Playing', 'Action', 'Action', 'Action', 'Strategy', 'Role-Playing', 'Action', 'Action', 'Action', 'Strategy', 'Miscellaneous', 'Sports', 'Strategy', 'Miscellaneous', 'Driving', 'Action', 'Action Adventure', 'Action Adventure', 'Simulation', 'Role-Playing', 'Miscellaneous', 'Sports', 'Strategy', 'Racing', 'Miscellaneous', 'Miscellaneous', 'Miscellaneous', 'Simulation', 'General', 'Action', 'General', 'Action Adventure', 'Action', 'Miscellaneous', 'Action', 'Role-Playing', 'Action Adventure', 'Adventure', 'Action Adventure', 'Sports', 'Role-Playing', 'Action', 'Simulation', 'Action Adventure', 'Action Adventure', 'Adventure', 'Action', 'Miscellaneous', 'Strategy', 'Action', 'General', 'Action', 'Sports', 'Action', 'Strategy', 'Driving', 'Action Adventure', 'Adventure', 'Strategy', 'Strategy', 'Role-Playing', 'Action Adventure', 'Adventure', 'Strategy', 'Strategy', 'Role-Playing', 'Action Adventure', 'Adventure', 'Strategy', 'Strategy', 'Role-Playing', 'Action Adventure', 'Adventure', 'Strategy', 'Strategy', 'Role-Playing', 'Adventure', 'Role-Playing', 'Miscellaneous', 'Action', 'Action', 'Adventure', 'Adventure', 'Action', 'Role-Playing', 'Action Adventure', 'Role-Playing', 'Strategy', 'Modern', 'Miscellaneous', 'Driving', 'Sports', 'Role-Playing', 'Sports', 'Action Adventure', 'Simulation', 'Action', 'Action Adventure', 'Action', 'Action', 'Action', 'Adventure', 'Action Adventure', 'Driving', 'Sports', 'Action RPG', 'Action Adventure', 'Action', 'Action', 'Action Adventure', 'Strategy', 'Action', 'Action', 'Action', 'Driving', 'Strategy', 'Action Adventure', 'Driving', 'Miscellaneous', 'Action', 'Action', 'Racing', 'Historic', 'Adventure', 'Action Adventure', 'Strategy', 'Adventure', 'Role-Playing', 'Role-Playing', 'Action', 'Strategy', 'Strategy', 'Action', 'Simulation', 'Simulation', 'Action', 'Strategy', 'Sports', 'Fantasy', 'Action Adventure', 'Role-Playing', 'Action', 'Action Adventure', 'Strategy', 'Role-Playing', 'Role-Playing', 'Action', 'Sci-Fi', 'Miscellaneous', 'Sports', 'Strategy', 'Action Adventure', 'Strategy', 'Driving', 'Driving', 'Action', 'Sports', 'Strategy', 'Driving', 'Strategy', 'Strategy', 'Sports', 'Strategy', 'Driving', 'Strategy', 'Strategy', 'Sports', 'Strategy', 'Driving', 'Strategy', 'Strategy', 'Sports', 'Strategy', 'Driving', 'Strategy', 'Strategy', 'Action', 'Simulation', 'Sports', 'Action Adventure', 'Action', 'Action', 'Action', 'Racing', 'Adventure', 'Action', 'Adventure', 'Strategy', 'Action', 'Puzzle', 'Action', 'General', 'Strategy', 'Action Adventure', 'Miscellaneous', 'Historic', 'Action Adventure', 'Action', 'Action', 'Action Adventure', 'General', 'Miscellaneous', 'Action', 'Sports', 'Strategy', 'Action', 'Role-Playing', 'Strategy', 'Action', 'Adventure', 'Strategy', 'Action Adventure', 'Action Adventure', 'Role-Playing', 'Fantasy', 'Simulation', 'Role-Playing', 'Action Adventure', 'Action', 'Action Adventure', 'Strategy', 'Action', 'Action', 'Role-Playing', 'Miscellaneous', 'Action', 'Action', 'Role-Playing', 'Strategy', 'Strategy', 'Action Adventure', 'Action', 'Action', 'Driving', 'Driving', 'Action', 'Driving', 'Driving', 'Action Adventure', 'Action', 'Role-Playing', 'Strategy', 'Shooter', 'Role-Playing', 'Action', 'Driving', 'Strategy', 'Driving', 'Action', 'Action', 'Role-Playing', 'Action', 'Sci-Fi', 'Role-Playing', 'Sports', 'Adventure', 'Action Adventure', 'Sports', 'Adventure', 'Role-Playing', 'Role-Playing', 'Action Adventure', 'Sports', 'Adventure', 'Role-Playing', 'Role-Playing', 'Action Adventure', 'Sports', 'Adventure', 'Role-Playing', 'Role-Playing', 'Action Adventure', 'Sports', 'Adventure', 'Role-Playing', 'Role-Playing', 'Action', 'Action', 'Action', 'Sports', 'Sports', 'Action', 'Sports', 'Action Adventure', 'Action', 'Sports', 'Action', 'Action', 'Action', 'Sports', 'Action', 'Action', 'Strategy', 'Simulation', 'Role-Playing', 'Role-Playing', 'Miscellaneous', 'Driving', 'Action', 'Action', 'Role-Playing', 'Sports', 'Sports', 'Miscellaneous', 'Sports', 'Action', 'Modern', 'Action Adventure', 'Miscellaneous', 'Action', 'Adventure', 'Action', 'Sports', 'Action Adventure', 'Action', 'Sports', 'Action', 'Sci-Fi', 'Action', 'Action', 'Action', 'Role-Playing', 'Miscellaneous', 'Action', 'Action Adventure', 'Role-Playing', 'Action', 'Sports', 'Strategy', 'Sports', 'Action', 'Action Adventure', 'Miscellaneous', 'Action', 'Adventure', 'Action', 'Action Adventure', 'Simulation', 'Action Adventure', 'Adventure', 'Adventure', 'Adventure', 'Action', 'Miscellaneous', 'Action', 'Adventure', 'Action', 'Miscellaneous', 'Driving', 'Action', 'General', 'Driving', 'Action', 'Strategy', 'Action', 'Action', 'Role-Playing', 'Action', 'Action Adventure', 'Action Adventure', 'Strategy', 'Role-Playing', 'Action', 'Action Adventure', 'Action Adventure', 'Strategy', 'Role-Playing', 'Action', 'Action Adventure', 'Action Adventure', 'Strategy', 'Role-Playing', 'Action', 'Action Adventure', 'Action Adventure', 'Strategy', 'Action', 'Action', 'Action', 'Action Adventure', 'Sports', 'Action', 'Role-Playing', 'Role-Playing', 'Japanese-Style', 'Sim', 'Driving', 'Action', 'Sports', 'Action', 'Role-Playing', 'Action Adventure', 'Role-Playing', 'Adventure', 'Action Adventure', 'Miscellaneous', 'Action', 'Role-Playing', 'Historic', 'Adventure', 'Action', 'Driving', 'Action', 'Simulation', 'Simulation', 'Action', 'Action', 'Role-Playing', 'Action Adventure', 'Action', 'Action', 'Miscellaneous', 'Adventure', 'Action', 'Sports', 'Puzzle', 'Miscellaneous', 'Sports', 'Action', 'Adventure', 'Action', 'Shooter', 'Sports', 'Simulation', 'Adventure', 'Action', 'Sports', 'Strategy', 'Action', 'Miscellaneous', 'Action Adventure', 'Strategy', 'Action', 'Action', 'Sports', 'Strategy', 'Racing', 'Action', 'Action', 'Miscellaneous', 'Racing', 'Miscellaneous', 'Action', 'Driving', 'Strategy', 'Action', 'Action', 'Action', 'Action', 'General', 'Action Adventure', 'Strategy', 'Action', 'Miscellaneous', 'Strategy', 'Action Adventure', 'Action Adventure', 'Action', 'Role-Playing', 'Action', 'Action', 'Action Adventure', 'Action', 'Role-Playing', 'Action', 'Action', 'Action Adventure', 'Action', 'Role-Playing', 'Action', 'Action', 'Action Adventure', 'Action', 'Role-Playing', 'Action', 'Action', 'Miscellaneous', 'Action', 'Sports', 'Action', 'Driving', 'Action', 'Action', 'Adventure', 'Role-Playing', 'Action', 'Simulation', 'Sports', 'Strategy', 'Action', 'Action Adventure', 'Racing', 'Action', 'Simulation', 'Action Adventure', 'Action Adventure', 'Action', 'Action', 'Action Adventure', 'Role-Playing', 'Adventure', 'Sports', 'Action', 'Action', 'Simulation', 'Strategy', 'Adventure', 'Strategy', 'Action', 'Sports', 'Strategy', 'Action', 'Miscellaneous', 'Action', 'Sports', 'Sports', 'Action', 'Sports', 'Action Adventure', 'Edutainment', 'Miscellaneous', 'Action Adventure', 'Adventure', 'Action Adventure', 'Action', 'Action', 'Strategy', 'Action Adventure', 'Action', 'Action Adventure', 'Action', 'Action', 'Action', 'Role-Playing', 'Action', 'Action', 'Action', 'Role-Playing', 'Action', 'Modern', 'Action', 'Action', 'Action Adventure', 'Action', 'Action', 'Driving', 'Action Adventure', 'Role-Playing', 'Action', 'Action Adventure', 'Action', 'Miscellaneous', 'Action Adventure', 'Role-Playing', 'Historic', 'Action', 'Adventure', 'Action Adventure', 'Action', 'Action Adventure', 'Action Adventure', 'Adventure', 'Action Adventure', 'Action', 'Action Adventure', 'Action Adventure', 'Adventure', 'Action Adventure', 'Action', 'Action Adventure', 'Action Adventure', 'Adventure', 'Action Adventure', 'Action', 'Action Adventure', 'Action Adventure', 'Action Adventure', 'Racing', 'Role-Playing', 'Sports', 'Racing', 'Action', 'Miscellaneous', 'Role-Playing', 'Action', 'Driving', 'Racing', 'Strategy', 'Miscellaneous', 'Sports', 'Sports', 'Action Adventure', 'Action Adventure', 'Action', 'Role-Playing', 'Role-Playing', 'Action', 'Action', 'Action', 'Miscellaneous', 'Driving', 'Action', 'Strategy', 'Strategy', 'Driving', 'Miscellaneous', 'Sports', 'Role-Playing', 'Strategy', 'Action', 'Card Battle', 'Miscellaneous', 'Strategy', 'Action Adventure', 'Simulation', 'Racing', 'Simulation', 'Strategy', 'Action Adventure', 'Action', 'Strategy', 'Action', 'Action', 'Action', 'Action', 'Adventure', 'Sports', 'Adventure', 'General', 'Action Adventure', 'Strategy', 'Racing', 'Miscellaneous', 'General', 'Action', 'Action Adventure', 'Action', 'Adventure', 'Action', 'Action', 'Action', 'Action', 'Action Adventure', 'Miscellaneous', 'Adventure', 'Action', 'Simulation', 'Role-Playing', 'Strategy', 'Sports', 'Adventure', 'Action', 'Adventure', 'General', 'Adventure', 'Racing', 'Strategy', 'Action', 'Action Adventure', 'Action Adventure', 'Role-Playing', 'Strategy', 'Action', 'Action Adventure', 'Action Adventure', 'Role-Playing', 'Strategy', 'Action', 'Action Adventure', 'Action Adventure', 'Role-Playing', 'Strategy', 'Action', 'Action Adventure', 'Action Adventure', 'Role-Playing', 'Simulation', 'Action', 'Strategy', 'Strategy', 'Action', 'Action', 'Action Adventure', 'Sports', 'Miscellaneous', 'Role-Playing', 'Action', 'Action Adventure', 'Adventure', 'Action', 'Sports', 'Strategy', 'Action', 'Action', 'Strategy', 'Role-Playing', 'Sports', 'Miscellaneous', 'Strategy', 'Action', 'Role-Playing', 'General', 'Action', 'Action', 'Role-Playing', 'Simulation', 'Simulation', 'Puzzle', 'Action', 'Action', 'Adventure', 'Role-Playing', 'General', 'Adventure', 'Strategy', 'Action', 'Action', 'Action', 'Role-Playing', 'Action', 'Adventure', 'Action Adventure', 'Action', 'Miscellaneous', 'Miscellaneous', 'Action', 'Strategy', 'Action', 'Driving', 'Strategy', 'Adventure', 'Sports', 'Action Adventure', 'Action', 'Action', 'Strategy', 'Action', 'Miscellaneous', 'Strategy', 'Action Adventure', 'Action', 'Racing', 'Miscellaneous', 'Strategy', 'Sports', 'Massively Multiplayer Online', 'Action Adventure', 'Adventure', 'Adventure', 'Action', 'Action', 'Adventure', 'Puzzle', 'Action', 'Driving', 'Action Adventure', 'General', 'Role-Playing', 'Action', 'Action', 'Action', 'General', 'Role-Playing', 'Action', 'Action', 'Action', 'General', 'Role-Playing', 'Action', 'Action', 'Action', 'General', 'Role-Playing', 'Action', 'Action', 'Action', 'Role-Playing', 'Action', 'Action', 'Action', 'Miscellaneous', 'Action', 'Strategy', 'Action Adventure', 'Driving', 'Sports', 'Adventure', 'Shooter', 'Strategy', 'Action', 'Action', 'Miscellaneous', 'Action Adventure', 'Adventure', 'Action', 'Role-Playing', 'Role-Playing', 'Puzzle', 'Action', 'Action Adventure', 'Action Adventure', 'Action', 'Role-Playing', 'Action Adventure', 'Action', 'Strategy', 'Sports', 'Driving', 'Adventure', 'Miscellaneous', 'Role-Playing', 'Role-Playing', 'Action', 'Role-Playing', 'Adventure', 'Action', 'Action', 'Action Adventure', 'Action', 'Action', 'Action', 'Adventure', 'Sports', 'Action', 'Action Adventure', 'Action Adventure', 'Action', 'Action', 'Action Adventure', 'Action', 'Racing', 'Sci-Fi', 'Adventure', 'Action', 'Adventure', 'Driving', 'Action', 'Action', 'Role-Playing', 'Action Adventure', 'Action Adventure', 'Action', 'Miscellaneous', 'Driving', 'Action', 'Sports', 'Sports', 'Action', 'Miscellaneous', 'Action Adventure', 'Adventure', 'Action Adventure', 'Action', 'Action', 'Action', 'Miscellaneous', 'Action', 'Action', 'Role-Playing', 'Adventure', 'Action', 'Action', 'Action', 'Role-Playing', 'Adventure', 'Action', 'Action', 'Action', 'Role-Playing', 'Adventure', 'Action', 'Action', 'Action', 'Role-Playing', 'Adventure', 'Action', 'Adventure', 'Action Adventure', 'Role-Playing', 'Action', 'Role-Playing', 'Action Adventure', 'Action', 'Strategy', 'Sports', 'Action', 'Action', 'Action', 'Action Adventure', 'Action', 'MOBA', 'Action', 'Miscellaneous', 'Miscellaneous', 'Action Adventure', 'Driving', 'Driving', 'Action', 'Action', 'Action Adventure', 'Racing', 'Simulation', 'Strategy', 'Action', 'Driving', 'Action Adventure', 'Miscellaneous', 'Action Adventure', 'Action', 'Action Adventure', 'Adventure', 'Action Adventure', 'Strategy', 'Strategy', 'Sports', 'Driving', 'Action', 'Action', 'Action', 'Miscellaneous', 'Role-Playing', 'Action', 'Strategy', 'Action', 'Role-Playing', 'Miscellaneous', 'Action', 'Action', 'Historic', 'Strategy', 'Strategy', 'Strategy', 'Sports', 'Role-Playing', 'Role-Playing', 'Action', 'Adventure', 'Action', 'Action', 'Role-Playing', 'Adventure', 'Racing', 'Role-Playing', 'Action', 'Driving', 'Sports', 'Action', 'Adventure', 'Role-Playing', 'General', 'Action', 'Driving', 'Strategy', 'Driving', 'Action Adventure', 'Miscellaneous', 'Racing', 'Adventure', 'Adventure', 'Action', 'Puzzle', 'Racing', 'Adventure', 'Adventure', 'Action', 'Puzzle', 'Racing', 'Adventure', 'Adventure', 'Action', 'Puzzle', 'Racing', 'Adventure', 'Adventure', 'Action', 'Puzzle', 'Action', 'Role-Playing', 'Action', 'Action Adventure', 'Horror', 'Sports', 'Miscellaneous', 'Action Adventure', 'Action', 'Miscellaneous', 'Miscellaneous', 'Action', 'Miscellaneous', 'Action', 'Miscellaneous', 'Adventure', 'Sports', 'Driving', 'Strategy', 'Action', 'Action', 'Simulation', 'Action Adventure', 'Role-Playing', 'Action Adventure', 'Action', 'Action', 'Action', 'Role-Playing', 'Strategy', 'Adventure', 'Simulation', 'Miscellaneous', 'Sports', 'Role-Playing', 'Sports', 'Adventure', 'Racing', 'Action', 'Strategy', 'Racing', 'Action', 'Role-Playing', 'Adventure', 'Strategy', 'Action', 'Action Adventure', 'Action Adventure', 'Alternative', 'Action', 'Strategy', 'Miscellaneous', 'Action Adventure', 'Action', 'Action', 'Driving', 'Action Adventure', 'Role-Playing', 'Sports', 'Action', 'Strategy', 'Action', 'Action', 'Driving', 'Miscellaneous', 'Action Adventure', 'Racing', 'Sports', 'Sports', 'Role-Playing', 'Racing', 'Adventure', 'Action', 'Miscellaneous', 'Action Adventure', 'Action', 'Miscellaneous', 'Action', 'Action', 'Strategy', 'Simulation', 'Action', 'Role-Playing', 'Miscellaneous', 'Adventure', 'Simulation', 'Action', 'Role-Playing', 'Miscellaneous', 'Adventure', 'Simulation', 'Action', 'Role-Playing', 'Miscellaneous', 'Adventure', 'Simulation', 'Action', 'Role-Playing', 'Miscellaneous', 'Adventure', 'Strategy', 'Racing', 'Role-Playing', 'Adventure', 'Action Adventure', 'Action Adventure', 'Action', 'Role-Playing', 'Action Adventure', 'Miscellaneous', 'Sports', 'Action Adventure', 'Action', 'Horror', 'Action Adventure', 'Action Adventure', 'Action', 'Action', 'Action', 'Adventure', 'Action Adventure', 'Action', 'Action Adventure', 'Sports', 'Sports', 'Action', 'Driving', 'Action Adventure', 'Action', 'Action', 'Action', 'Driving', 'Role-Playing', 'Adventure', 'Role-Playing', 'Adventure', 'Miscellaneous', 'Adventure', 'Strategy', 'Puzzle', 'Adventure', 'Role-Playing', 'Action', 'Adventure', 'Strategy', 'Role-Playing', 'Sports', 'Action', 'Adventure', 'Action', 'Miscellaneous', 'Adventure', 'Action', 'Puzzle', 'Action', 'Strategy', 'Action Adventure', 'Miscellaneous', 'Action Adventure', 'Action Adventure', 'Action', 'Action', 'Action', 'Arcade', 'Simulation', 'Role-Playing', 'Action', 'Adventure', 'Role-Playing', 'Strategy', 'Miscellaneous', 'Sports', 'Miscellaneous', 'Miscellaneous', 'Driving', 'Action', 'Strategy', 'Action', 'Role-Playing', 'Action', 'Driving', 'Role-Playing', 'Action Adventure', 'Driving', 'Action', 'Driving', 'Role-Playing', 'Action Adventure', 'Driving', 'Action', 'Driving', 'Role-Playing', 'Action Adventure', 'Driving', 'Action', 'Driving', 'Role-Playing', 'Action Adventure', 'Driving', 'Action', 'Miscellaneous', 'Action', 'Sports', 'Action', 'Role-Playing', 'Action', 'Miscellaneous', 'Action', 'Action', 'Role-Playing', 'Action', 'Sports', 'Role-Playing', 'Action', 'Adventure', 'Role-Playing', 'Strategy', 'Action Adventure', 'Action Adventure', 'Action', 'Action Adventure', 'Role-Playing', 'Miscellaneous', 'Adventure', 'Action Adventure', 'Miscellaneous', 'Simulation', 'Miscellaneous', 'Action', 'Miscellaneous', 'Action Adventure', 'Action', 'Miscellaneous', 'Action Adventure', 'Strategy', 'Action', 'Role-Playing', 'Strategy', 'Action', 'Action', 'Strategy', 'Action Adventure', 'Simulation', 'Role-Playing', 'Racing', 'Adventure', 'Action Adventure', 'Action', 'Action Adventure', 'Action', 'Action', 'Role-Playing', 'Strategy', 'Action Adventure', 'Role-Playing', 'Miscellaneous', 'Strategy', 'Action', 'Strategy', 'Action', 'Action Adventure', 'Driving', 'Puzzle', 'Role-Playing', 'Puzzle', 'Action', 'Driving', 'Action', 'Action', 'Action', 'Action', 'Action Adventure', 'Action', 'Action', 'Action RPG', 'Strategy', 'Strategy', 'Strategy', 'Action', 'Role-Playing', 'Adventure', 'Role-Playing', 'Simulation', 'Puzzle', 'Strategy', 'Adventure', 'Role-Playing', 'Simulation', 'Puzzle', 'Strategy', 'Adventure', 'Role-Playing', 'Simulation', 'Puzzle', 'Strategy', 'Adventure', 'Role-Playing', 'Simulation', 'Puzzle', 'Strategy', 'Puzzle', 'Strategy', 'Action Adventure', 'Role-Playing', 'Action', 'Miscellaneous', 'Role-Playing', 'Miscellaneous', 'Driving', 'Action Adventure', 'Action', 'Action', 'Simulation', 'Action Adventure', 'Driving', 'Action', 'Action', 'Action', 'Action Adventure', 'Action', 'Action', 'Strategy', 'Action', 'Adventure', 'Role-Playing', 'Adventure', 'Sports', 'Strategy', 'Role-Playing', 'Action Adventure', 'Miscellaneous', 'Action', 'Action', '1-4', 'Action', 'Action Adventure', 'Role-Playing', 'Action', 'Action', 'Adventure', 'Action', 'Action', 'Action Adventure', 'Strategy', 'Sports', 'Action', 'Action', 'Strategy', 'Action Adventure', 'Driving', 'Simulation', 'Strategy', 'Action Adventure', 'Adventure', 'Simulation', 'Action', 'Action', 'Strategy', 'Sports', 'Action', 'Sports', 'Action', 'Action', 'Role-Playing', 'Adventure', 'Shooter', 'Role-Playing', 'Puzzle', 'Action Adventure', 'General', 'Action', 'Miscellaneous', 'Action Adventure', 'Role-Playing', 'Action Adventure', 'Strategy', 'Action', 'Miscellaneous', 'Sports', 'Miscellaneous', 'Simulation', 'Action', 'Action', 'Adventure', 'Action', 'Simulation', 'Action', 'Action', 'Adventure', 'Action', 'Simulation', 'Action', 'Action', 'Adventure', 'Action', 'Simulation', 'Action', 'Action', 'Adventure', 'Action', 'Action', 'Role-Playing', 'Action', 'Strategy', 'Action', 'Simulation', 'Action', 'Role-Playing', 'Adventure', 'Action', 'Role-Playing', 'Action', 'Action Adventure', 'Role-Playing', 'Action', 'Role-Playing', 'Action Adventure', 'Action Adventure', 'Simulation', 'Action', 'Action Adventure', 'Adventure', 'Action', 'Miscellaneous', 'Action', 'Action', 'Action', 'Action Adventure', 'Action', 'Simulation', 'Action', 'Role-Playing', 'Action Adventure', 'Action', 'Action', 'Driving', 'Turn-Based', 'Action Adventure', 'Role-Playing', 'Action Adventure', 'Miscellaneous', 'Role-Playing', 'Strategy', 'Adventure', 'Adventure', 'Action', 'Action', 'Simulation', 'Action', 'Action', 'Driving', 'Fantasy', 'Action', 'Strategy', 'Role-Playing', 'Action', 'Role-Playing', 'Action', 'Action', 'Action', 'Action', 'Action', 'Adventure', 'Action', 'Strategy', 'Sports', 'Role-Playing', 'Sports', 'Action', 'Strategy', 'Action', 'Driving', 'Action', 'Sports', 'Action Adventure', 'Action', 'Role-Playing', 'Action', 'Driving', 'Strategy', 'Strategy', 'Adventure', 'Role-Playing', 'Adventure', 'Action', 'Strategy', 'Adventure', 'Role-Playing', 'Adventure', 'Action', 'Strategy', 'Adventure', 'Role-Playing', 'Adventure', 'Action', 'Strategy', 'Adventure', 'Role-Playing', 'Adventure', 'Action', 'Adventure', 'Action', 'Action', 'Action', 'Adventure', 'Adventure', 'Action', 'Shooter', 'Role-Playing', 'Adventure', 'Action', 'Racing', 'Puzzle', 'Action', 'Action Adventure', 'Adventure', 'Strategy', 'Action Adventure', 'Sports', 'Miscellaneous', 'Action', 'Action', 'Sports', 'Action', 'Strategy', 'Simulation', 'Action Adventure', 'Miscellaneous', 'Strategy', 'Action', 'GT / Street', 'Simulation', 'Action', 'Action', 'Action', 'Adventure', 'Action Adventure', 'Fantasy', 'Action', 'Miscellaneous', 'Action', 'Strategy', 'Action Adventure', 'Adventure', 'Role-Playing', 'Sports', 'Role-Playing', 'Action Adventure', 'Driving', 'Sports', 'Action', 'Arcade', 'Role-Playing', 'Racing', 'Action', 'Action', 'Role-Playing', 'Action', 'Strategy', 'Strategy', 'Adventure', 'Action', 'Adventure', 'Role-Playing', 'Simulation', 'Simulation', 'Sports', '3D', 'Action Adventure', 'Role-Playing', 'Action Adventure', 'Action', 'Role-Playing', 'Action', 'Action Adventure', 'Action', 'Action', 'Action', 'Action', 'Role-Playing', 'Action', 'Role-Playing', 'Action Adventure', 'Action', 'Miscellaneous', 'Action', 'Role-Playing', 'Action Adventure', 'Action', 'Miscellaneous', 'Action', 'Role-Playing', 'Action Adventure', 'Action', 'Miscellaneous', 'Action', 'Role-Playing', 'Action Adventure', 'Action', 'Miscellaneous', 'Role-Playing', 'Miscellaneous', 'Role-Playing', 'Strategy', 'Sports', 'Simulation', 'Role-Playing', 'Adventure', 'Strategy', 'Action Adventure', 'Adventure', 'Action', 'Role-Playing', 'Simulation', 'Action', 'Driving', 'Miscellaneous', 'Action Adventure', 'Strategy', 'Sports', 'Action', 'Sports', 'Action', 'Strategy', 'Sports', 'Action', 'Role-Playing', 'Action', 'Simulation', 'Action Adventure', 'Adventure', 'Miscellaneous', 'Adventure', 'Driving', 'Sports', 'Driving', 'Sports', 'Strategy', 'Miscellaneous', 'Strategy', 'Miscellaneous', 'Action', 'Driving', 'Strategy', 'Adventure', 'Fantasy', 'Miscellaneous', 'Action Adventure', 'Action', 'Strategy', 'Sports', 'Strategy', 'Sports', 'Role-Playing', 'Racing', 'Action', 'Action', 'Action Adventure', 'Adventure', 'Driving', 'Fantasy', 'Adventure', 'Miscellaneous', 'Action Adventure', 'Strategy', 'Action', 'Action', 'Role-Playing', 'Action Adventure', 'Strategy', 'Action Adventure', 'Action', 'Action', 'Action', 'Role-Playing', 'Miscellaneous', 'Action', 'Sports', 'Action Adventure', 'Action', 'Role-Playing', 'Sports', 'Action', 'Action', 'Role-Playing', 'Role-Playing', 'Sports', 'Action', 'Action', 'Role-Playing', 'Role-Playing', 'Sports', 'Action', 'Action', 'Role-Playing', 'Role-Playing', 'Sports', 'Action', 'Action', 'Role-Playing', 'Racing', 'Strategy', 'Action', 'Action Adventure', 'Driving', 'Strategy', 'Action', 'Racing', 'Action Adventure', 'Action Adventure', 'Role-Playing', 'Action', 'Driving', 'Action', 'Action Adventure', 'Action', 'Adventure', 'Driving', 'Action', 'Action Adventure', 'Action', 'Action Adventure', 'Action', 'Sports', 'Adventure', 'Action Adventure', 'Adventure', 'Action Adventure', 'Puzzle', 'Action', 'Action', 'Action', 'Driving', 'Action Adventure', 'Strategy', 'Action', 'Action Adventure', 'Action', 'Simulation', 'Action Adventure', 'Simulation', 'Action', 'Action', 'Adventure', 'Action', 'Adventure', 'Action Adventure', 'Racing', 'Miscellaneous', 'Miscellaneous', 'Action', 'Role-Playing', 'Simulation', 'Strategy', 'Action Adventure', 'Miscellaneous', 'Action', 'Action', 'Adventure', 'Driving', 'Miscellaneous', 'Strategy', 'Action Adventure', 'Action Adventure', 'Role-Playing', 'Action Adventure', 'Action Adventure', 'Strategy', 'Adventure', 'Role-Playing', 'Adventure', 'Sports', 'Action', 'Sports', 'Action Adventure', 'Miscellaneous', 'Role-Playing', 'Action', 'Action', 'Simulation', 'Role-Playing', 'Action Adventure', 'Miscellaneous', 'Sports', 'Action', 'Role-Playing', 'Action Adventure', 'Miscellaneous', 'Sports', 'Action', 'Role-Playing', 'Action Adventure', 'Miscellaneous', 'Sports', 'Action', 'Role-Playing', 'Action Adventure', 'Miscellaneous', 'Sports', 'Action', 'Action Adventure', 'Action', 'Role-Playing', 'Adventure', 'Miscellaneous', 'Sports', 'Miscellaneous', 'Action', 'Action', 'Action', 'Adventure', 'Role-Playing', 'Sports', 'Sports', 'Action', 'Action', 'Action Adventure', 'Strategy', 'Action Adventure', 'Strategy', 'Action', 'Adventure', 'Racing', 'Action', 'Strategy', 'Action Adventure', 'Action', 'Action', 'Racing', 'Action', 'Action Adventure', 'Role-Playing', 'Sports', 'Action', 'Racing', 'Action', 'Sports', 'Action', 'Action', 'Simulation', 'Sports', 'Simulation', 'Sports', 'Action', 'Driving', 'Role-Playing', 'Miscellaneous', 'Sports', 'Action', 'Adventure', 'Adventure', 'Miscellaneous', 'Action', 'Sports', 'Action', 'Strategy', 'Action', 'Action', 'Sports', 'Modern', 'Sports', 'Action', 'Action', 'Adventure', 'Strategy', 'Action', 'Role-Playing', 'Role-Playing', 'Simulation', 'Action', 'Action Adventure', 'Adventure', 'Role-Playing', 'Action', 'Simulation', 'Action', 'Sports', 'Action Adventure', 'Action', 'Simulation', 'Action', 'Role-Playing', 'Action', 'Action', 'Action Adventure', 'Action', 'Role-Playing', 'Action', 'Action', 'Action Adventure', 'Action', 'Role-Playing', 'Action', 'Action', 'Action Adventure', 'Action', 'Role-Playing', 'Action', 'Action', 'Action Adventure', 'Action Adventure', 'Action Adventure', 'Action Adventure', 'Driving', 'Action', 'Action', 'Action Adventure', 'Adventure', 'Action', 'Sports', 'Action Adventure', 'Adventure', 'Action Adventure', 'Role-Playing', 'Action Adventure', 'Simulation', 'Miscellaneous', 'Action', 'Action Adventure', 'Strategy', 'Role-Playing', 'Action', 'Action', 'Racing', 'Driving', 'Racing', 'Action Adventure', 'Role-Playing', 'Action', 'Action', 'Sports', 'Sports', 'Strategy', 'Adventure', 'Action Adventure', 'Driving', 'Miscellaneous', 'Sports', 'Simulation', 'Action', 'Action', 'Role-Playing', 'Driving', 'Action', 'Action', 'Role-Playing', 'Role-Playing', 'Adventure', 'Action Adventure', 'Action', 'Strategy', 'Action Adventure', 'Adventure', 'Simulation', 'Adventure', 'Puzzle', 'Miscellaneous', 'Action', 'Action Adventure', 'Action Adventure', 'Sports', 'Action', 'Action', 'Action', 'Action', 'Strategy', 'Driving', 'Miscellaneous', 'Action', 'Action Adventure', 'Miscellaneous', 'Action', 'Strategy', 'Action', 'Miscellaneous', 'Action', 'Role-Playing', 'Action Adventure', 'Action', 'Action', 'Miscellaneous', 'Action', 'Modern', 'Adventure', 'Action', 'Miscellaneous', 'Action', 'Modern', 'Adventure', 'Action', 'Miscellaneous', 'Action', 'Modern', 'Adventure', 'Action', 'Miscellaneous', 'Action', 'Modern', 'Adventure', 'Action', 'Racing', 'Simulation', 'Action Adventure', 'Action', 'Miscellaneous', 'Racing', 'Sports', 'Action', 'Role-Playing', 'Action Adventure', 'Adventure', 'Racing', 'Simulation', 'Miscellaneous', 'Role-Playing', 'Action', 'Action', 'Racing', 'Sports', 'Adventure', 'Action', 'Action Adventure', 'Action', 'Role-Playing', 'Adventure', 'Adventure', 'Role-Playing', 'Action', 'Action', 'Action', 'Sports', 'Action', 'Role-Playing', 'Action', 'General', 'Miscellaneous', 'Driving', 'Driving', 'Driving', 'Action', 'Action Adventure', 'Action', 'Role-Playing', 'Role-Playing', 'Strategy', 'Miscellaneous', 'Miscellaneous', 'Action Adventure', 'Action', 'Role-Playing', 'Adventure', 'Adventure', 'Action', 'Racing', 'Sports', 'Miscellaneous', 'Role-Playing', 'Action', 'Action', 'Miscellaneous', 'Simulation', 'Action Adventure', 'Role-Playing', 'Simulation', 'Sports', 'Action Adventure', 'Role-Playing', 'Adventure', 'Role-Playing', 'Adventure', 'Action Adventure', 'Role-Playing', 'Role-Playing', 'Action Adventure', 'Role-Playing', 'Sports', 'Puzzle', 'Action', 'Action', 'Miscellaneous', 'Simulation', 'Driving', 'Action Adventure', 'Action Adventure', 'Adventure', 'Simulation', 'Driving', 'Action Adventure', 'Action Adventure', 'Adventure', 'Simulation', 'Driving', 'Action Adventure', 'Action Adventure', 'Adventure', 'Simulation', 'Driving', 'Action Adventure', 'Action Adventure', 'Adventure', 'Action', 'Miscellaneous', 'Sports', 'General', 'Racing', 'Racing', 'Role-Playing', 'Action', 'Traditional', 'Simulation', 'Action', 'Action Adventure', 'Role-Playing', 'Action Adventure', 'Sports', 'Adventure', 'Miscellaneous', 'Action Adventure', 'Strategy', 'Action', 'Driving', 'Action Adventure', 'Adventure', 'Miscellaneous', 'Action', 'Racing', 'Racing', 'Action', 'Role-Playing', 'Strategy', 'Action Adventure', 'Role-Playing', 'Action Adventure', 'Action', 'Action', 'Action', 'Miscellaneous', 'Action', 'Simulation', 'Strategy', 'Action', 'Sports', 'Driving', 'Action', 'Role-Playing', 'Adventure', 'Sports', 'Simulation', 'Action Adventure', 'Action', 'Role-Playing', 'Action Adventure', 'Action', 'Role-Playing', 'Action', 'Sports', 'Miscellaneous', 'Party', 'Simulation', 'Sci-Fi', 'Sports', 'Sports', 'Action', 'Action Adventure', 'Role-Playing', 'Sports', 'Simulation', 'Sports', 'General', 'Strategy', 'Action', 'Miscellaneous', 'Sports', 'Simulation', 'Action', 'Role-Playing', 'Sports', 'Sports', 'Action', 'Action', 'Role-Playing', 'Racing', 'General', 'Action', 'Miscellaneous', 'Role-Playing', 'Racing', 'General', 'Action', 'Miscellaneous', 'Role-Playing', 'Racing', 'General', 'Action', 'Miscellaneous', 'Role-Playing', 'Racing', 'General', 'Action', 'Miscellaneous', 'Driving', 'Role-Playing', 'Action', 'Action Adventure', 'Sports', 'Role-Playing', 'Action', 'Adventure', 'Action', 'Role-Playing', 'Action', 'Adventure', 'Strategy', 'General', 'Action', 'Sports', 'Puzzle', 'Action', 'Action', 'Miscellaneous', 'Action', 'Action', 'Action', 'Action', 'Action', 'Driving', 'Sports', '3D', 'Role-Playing', 'Action', 'Action', 'Action Adventure', 'Sports', 'Miscellaneous', 'Strategy', 'Action', 'Action', 'Sports', 'Action', 'Adventure', 'Action', 'Miscellaneous', 'Action', 'Adventure', 'Sports', 'Role-Playing', 'Action', 'Action Adventure', 'Sports', 'Action Adventure', 'Miscellaneous', 'Action Adventure', 'Driving', 'Action', 'Adventure', 'Strategy', 'Action', 'Adventure', 'Action', 'Action', 'Action', 'Adventure', 'Scrolling', 'Action', 'Sci-Fi', 'Sports', 'Adventure', 'Adventure', 'Adventure', 'Action', 'Sports', 'Action Adventure', 'Action', 'Action', 'Action Adventure', 'Miscellaneous', 'Adventure', 'Action', 'Action', 'Miscellaneous', 'Action', 'Action Adventure', 'Miscellaneous', 'Action', 'Miscellaneous', 'Action', 'Action Adventure', 'Miscellaneous', 'Action', 'Miscellaneous', 'Action', 'Action Adventure', 'Miscellaneous', 'Action', 'Miscellaneous', 'Action', 'Action Adventure', 'Miscellaneous', 'Action', 'Role-Playing', 'Action', 'Action', 'Action', 'Action Adventure', 'Action', 'Action', 'Racing', 'Action', 'Driving', 'Action', 'Role-Playing', 'Miscellaneous', 'Action', 'Driving', 'Simulation', 'Strategy', 'Action', 'Action', 'Action', 'Role-Playing', 'Simulation', 'Action', 'Adventure', 'Role-Playing', 'Action', 'Adventure', 'Strategy', 'Strategy', 'Action', 'Action', 'Simulation', 'Driving', 'Strategy', 'Action Adventure', 'Action Adventure', 'Sports', 'Strategy', 'Action', 'Strategy', 'Strategy', 'Action', 'Sports', 'Sports', 'Action Adventure', 'Sports', 'Action', 'Action Adventure', 'Role-Playing', 'Driving', 'Historic', 'Action', 'Simulation', 'Action Adventure', 'Action', 'Strategy', 'Action Adventure', 'Action', 'Action', 'Driving', 'Miscellaneous', 'Simulation', 'Role-Playing', 'Strategy', 'Role-Playing', 'Action Adventure', 'Role-Playing', 'Adventure', 'Strategy', 'Action', 'Adventure', 'Action', 'Sports', 'Strategy', 'General', 'Strategy', 'Role-Playing', 'Adventure', 'Sports', 'Action Adventure', 'Action', 'Action', 'Miscellaneous', 'Action Adventure', 'Action Adventure', 'Action', 'Action', 'Miscellaneous', 'Action Adventure', 'Action Adventure', 'Action', 'Action', 'Miscellaneous', 'Action Adventure', 'Action Adventure', 'Action', 'Action', 'Miscellaneous', 'Action Adventure', 'Simulation', 'Adventure', 'Action Adventure', 'Simulation', 'Action', 'Action Adventure', 'Action', 'Action', 'Action', 'Action', 'Fantasy', 'Action', 'Puzzle', 'Role-Playing', 'Driving', 'Strategy', 'Role-Playing', 'Strategy', 'Driving', 'Action', 'Action', 'Simulation', 'Adventure', 'Action', 'Role-Playing', 'Action', 'Action Adventure', 'Driving', 'Action', 'Action Adventure', 'Action', 'Strategy', 'Driving', 'Driving', 'Strategy', 'Adventure', 'Action', 'Action Adventure', 'Racing', 'Action Adventure', 'Role-Playing', 'Miscellaneous', 'Role-Playing', 'Action Adventure', 'Action Adventure', 'Action', 'Action', 'Simulation', 'Adventure', 'Action Adventure', 'Strategy', 'Role-Playing', 'Strategy', 'Role-Playing', 'Strategy', 'Strategy', 'Adventure', 'Sports', \"Beat-'Em-Up\", 'Sports', 'Adventure', 'Action', 'Role-Playing', 'Action', 'Action', 'Action', 'Action', 'Role-Playing', 'Action', 'Action Adventure', 'Sports', 'Action', 'Action', 'Sports', 'Miscellaneous', 'Simulation', 'Action', 'Action Adventure', 'Simulation', 'Miscellaneous', 'Action', 'Strategy', 'Adventure', 'Miscellaneous', 'Action', 'Action', 'Strategy', 'Adventure', 'Miscellaneous', 'Action', 'Action', 'Strategy', 'Adventure', 'Miscellaneous', 'Action', 'Action', 'Strategy', 'Adventure', 'Miscellaneous', 'Action', 'Action', 'Action', 'Action', 'Action', 'Role-Playing', 'Action', 'Sports', 'Driving', 'Adventure', 'Action', 'Action', 'Miscellaneous', 'Action', 'Role-Playing', 'Adventure', 'Racing', 'Action Adventure', 'Action', 'Sports', 'Action', 'Action', 'Action', 'Action Adventure', 'Action', 'Adventure', 'Action', 'Action', 'Action', 'Sports', 'Action', 'Action', 'Strategy', 'Driving', 'Miscellaneous', 'Action', 'Sports', 'Miscellaneous', 'Action', 'Strategy', 'General', 'Strategy', 'Action', 'Action', 'Strategy', 'Action Adventure', 'Sports', 'Action', 'Action', 'Action Adventure', 'Action', 'Miscellaneous', 'Action', 'Action', 'Strategy', 'Adventure', 'Adventure', 'Action Adventure', 'Simulation', 'Action', 'Action Adventure', 'Action', 'Action', 'Action', 'Action', 'Racing', 'Action Adventure', 'Strategy', 'Adventure', 'Action', 'Action', 'Action', 'Action', 'Action', 'Driving', 'Strategy', 'Simulation', 'Action Adventure', 'Action', 'Role-Playing', 'Action', 'Adventure', 'Action Adventure', 'Action', 'Action Adventure', 'Miscellaneous', 'Adventure', 'Action Adventure', 'Action', 'Action Adventure', 'Miscellaneous', 'Adventure', 'Action Adventure', 'Action', 'Action Adventure', 'Miscellaneous', 'Adventure', 'Action Adventure', 'Action', 'Action Adventure', 'Miscellaneous', 'Miscellaneous', 'Sports', 'Miscellaneous', 'Action Adventure', 'Miscellaneous', 'Sports', 'Action', 'Adventure', 'Miscellaneous', 'Strategy', 'Action', 'Sports', 'Action', 'Action', 'Action', 'Action', 'Action', 'Action', 'Action', 'Action', 'Adventure', 'Sports', 'Miscellaneous', 'Action', 'Miscellaneous', 'Role-Playing', 'Action', 'Action', 'Miscellaneous', 'Adventure', 'Adventure', 'Racing', 'Role-Playing', 'Action', 'Action', 'Action', 'Miscellaneous', 'Simulation', 'Action Adventure', 'Driving', 'Role-Playing', 'Role-Playing', 'Action', 'Action', 'Alternative', 'Strategy', 'Action', 'Action', 'Action', 'Action', 'Simulation', 'Adventure', 'Real-Time', 'Action', 'Strategy', 'Action', 'Racing', 'Action Adventure', 'Action Adventure', 'Action', 'Action', 'Action', 'Sports', 'Action', 'Action Adventure', 'Action Adventure', 'Driving', 'Driving', 'Driving', 'Role-Playing', 'Action', 'Action', 'Action', 'Action', 'Arcade', 'Driving', 'Action', 'Role-Playing', 'Action', 'Driving', 'Action', 'Real-Time', 'Action', 'Action', 'Action', 'Action', 'Real-Time', 'Action', 'Action', 'Action', 'Action', 'Real-Time', 'Action', 'Action', 'Action', 'Action', 'Real-Time', 'Action', 'Action', 'Action', 'Miscellaneous', 'Action', 'Adventure', 'Role-Playing', 'Role-Playing', 'Adventure', 'Simulation', 'Action', 'Simulation', 'Action', 'Strategy', 'Miscellaneous', 'Action', 'Sports', 'Miscellaneous', 'Action', 'Action', 'Action', 'Role-Playing', 'Role-Playing', 'Action', 'Role-Playing', 'Strategy', 'Strategy', 'Miscellaneous', 'Driving', 'Action', 'Action', 'Role-Playing', 'Action', 'Action', 'Action', 'Role-Playing', 'Role-Playing', 'Miscellaneous', 'Miscellaneous', 'Action', 'Action', 'Action', 'Action', 'General', 'Action', 'Action', 'Military', 'Simulation', 'Action', 'Action', 'Adventure', 'Strategy', 'Action', 'Action', 'Simulation', 'Action Adventure', 'Action', 'Miscellaneous', 'Action', 'Adventure', 'Action Adventure', 'Action', 'Simulation', 'Action', 'Action', 'Strategy', 'Action', 'Simulation', 'Strategy', 'Sports', 'Action', 'Driving', 'Role-Playing', 'Action', 'Action', 'Role-Playing', 'Role-Playing', 'Action', 'Miscellaneous', 'Driving', 'Driving', 'Action', 'Simulation', 'Adventure', 'Action', 'Sports', 'Miscellaneous', 'Action Adventure', 'Adventure', 'Action', 'Sports', 'Miscellaneous', 'Action Adventure', 'Adventure', 'Action', 'Sports', 'Miscellaneous', 'Action Adventure', 'Adventure', 'Action', 'Sports', 'Miscellaneous', 'Action Adventure', 'Simulation', 'Racing', 'Strategy', 'Action', 'Action Adventure', 'Action', 'Action', 'Action Adventure', 'Strategy', 'Miscellaneous', 'Action Adventure', 'Sports', 'Action', 'Miscellaneous', 'Action', 'Action', 'Action', 'Action', 'Role-Playing', 'Action', 'Racing', 'Miscellaneous', 'Simulation', 'Miscellaneous', 'Miscellaneous', 'Adventure', 'Action', 'Strategy', 'Sports', 'Action', 'Strategy', 'Miscellaneous', 'Action', 'Action', 'Action', 'Miscellaneous', 'Action', 'Miscellaneous', 'Action', 'Role-Playing', 'Strategy', 'Action Adventure', 'Strategy', 'Strategy', 'Role-Playing', 'Simulation', 'Miscellaneous', 'Sports', 'Action', 'Role-Playing', 'Action Adventure', 'Strategy', 'Sports', 'Action', 'Role-Playing', 'Strategy', 'Action Adventure', 'Action', 'Strategy', 'Sci-Fi', 'Strategy', 'Action', 'Action', 'Racing', 'Action Adventure', 'Role-Playing', 'Action Adventure', 'Miscellaneous', 'Action', 'General', 'Action', 'Role-Playing', 'Simulation', 'Role-Playing', 'Racing', 'Action Adventure', 'Action', 'Adventure', 'Strategy', 'Role-Playing', 'Action Adventure', 'Action Adventure', 'Adventure', 'Action Adventure', 'Action Adventure', 'Action Adventure', 'Action Adventure', 'Adventure', 'Action Adventure', 'Action Adventure', 'Action Adventure', 'Action Adventure', 'Adventure', 'Action Adventure', 'Action Adventure', 'Action Adventure', 'Action Adventure', 'Adventure', 'Action Adventure', 'Action Adventure', 'Simulation', 'Miscellaneous', 'Action', 'Action', 'Action', 'Action Adventure', 'Action', 'Puzzle', 'Simulation', 'Simulation', 'Simulation', 'Sports', 'Driving', 'Action', 'Miscellaneous', 'Action Adventure', 'Action', 'Miscellaneous', 'Simulation', 'Driving', 'Driving', 'Role-Playing', 'Puzzle', 'Traditional', 'Action', 'Adventure', 'Role-Playing', 'Action Adventure', 'Action', 'Adventure', 'Simulation', 'Action', 'Olympic Sports', 'Adventure', 'Action', 'Racing', 'Adventure', 'Strategy', 'Miscellaneous', 'Sports', 'Strategy', 'Strategy', 'Adventure', 'Action', 'Action', 'Miscellaneous', 'Strategy', 'Sports', 'Action Adventure', 'Sports', 'Sports', 'Role-Playing', 'Miscellaneous', 'Action Adventure', 'Sports', 'Shooter', 'Action', 'Action', 'Action', 'Sports', 'Miscellaneous', 'Role-Playing', 'Role-Playing', 'Role-Playing', 'Driving', 'Role-Playing', 'Action', 'Action', 'Miscellaneous', 'Action Adventure', 'Role-Playing', 'Puzzle', 'Action', 'Action Adventure', 'Action Adventure', 'Rally / Offroad', 'Action', 'Role-Playing', 'Action', 'Action', 'Sports', 'Action Adventure', 'Action Adventure', 'Sports', 'Action', 'Sports', 'Action Adventure', 'Action Adventure', 'Sports', 'Action', 'Sports', 'Action Adventure', 'Action Adventure', 'Sports', 'Action', 'Sports', 'Action Adventure', 'Action Adventure', 'Sports', 'Action', 'Action', 'Action Adventure', 'Action Adventure', 'Action', 'Action', 'Role-Playing', 'Action Adventure', 'Sports', 'Action', 'Action Adventure', 'Action', 'Action', 'Adventure', 'Simulation', 'Action', 'Puzzle', 'Adventure', 'Miscellaneous', 'Action Adventure', 'Miscellaneous', 'Action', 'Action', 'Miscellaneous', 'Adventure', 'Action', 'Action', 'Action Adventure', 'Driving', 'Action', 'Action Adventure', 'Sports', 'Miscellaneous', 'Action Adventure', 'Sports', 'Sports', 'Simulation', 'Action', 'Driving', 'Action Adventure', 'Puzzle', 'Action', 'Action Adventure', 'Role-Playing', 'Adventure', 'Action', 'Strategy', 'Action', 'Sports', 'Action Adventure', 'Miscellaneous', 'Action', 'Action', 'Action', 'Action', 'Action Adventure', 'Action', 'Role-Playing', 'Action Adventure', 'Action', 'Role-Playing', 'Action', 'Action Adventure', 'Simulation', 'Driving', 'Driving', 'Strategy', 'Action Adventure', 'Action Adventure', 'Racing', 'Simulation', 'Action', 'Action', 'Action', 'Miscellaneous', 'Miscellaneous', 'Strategy', 'Miscellaneous', 'Action', 'Massively Multiplayer', 'Racing', 'Adventure', 'Role-Playing', 'Racing', 'Action', 'Action Adventure', 'Action', 'Role-Playing', 'Racing', 'Action', 'Action Adventure', 'Action', 'Role-Playing', 'Racing', 'Action', 'Action Adventure', 'Action', 'Role-Playing', 'Racing', 'Action', 'Action Adventure', 'Action', 'Action', 'Miscellaneous', 'Sports', 'Action Adventure', 'Driving', 'Driving', 'Action', 'Action', 'Strategy', 'Miscellaneous', 'Adventure', 'Action Adventure', 'Action', 'Action', 'Action', 'Role-Playing', 'Strategy', 'Role-Playing', 'Role-Playing', 'Miscellaneous', 'Strategy', 'Action', 'Miscellaneous', 'Role-Playing', 'Action', 'Simulation', 'Sports', 'Adventure', 'Strategy', 'Driving', 'Action', 'Fantasy', 'Strategy', 'Action Adventure', 'Action Adventure', 'Strategy', 'Role-Playing', 'Action', 'Miscellaneous', 'Miscellaneous', 'Action', 'Driving', 'Simulation', 'Action Adventure', 'Action', 'Action Adventure', 'Strategy', 'Adventure', 'Action', 'Action', 'Action', 'Driving', 'Action', 'Role-Playing', 'Action', 'Action', 'Action Adventure', 'Driving', 'Action Adventure', 'Sports', 'Action', 'Action', 'Adventure', 'Action', 'Action', 'Adventure', 'Action', 'Strategy', 'Role-Playing', 'Driving', 'Driving', 'General', 'Action', 'Role-Playing', 'Simulation', 'Action', 'Action', 'Action', 'Role-Playing', 'Driving', 'Strategy', 'Action', 'Action', 'Action Adventure', 'Action', 'Strategy', 'Action', 'Action', 'Action Adventure', 'Action', 'Strategy', 'Action', 'Action', 'Action Adventure', 'Action', 'Strategy', 'Action', 'Action', 'Action Adventure', 'Action', 'Strategy', 'Role-Playing', '2D', 'Action', 'Action', 'Sports', 'Action', 'Strategy', 'Action', 'Action', 'Racing', 'Action Adventure', 'Role-Playing', 'Action Adventure', 'Miscellaneous', 'Strategy', 'Role-Playing', 'Role-Playing', 'Action', 'Adventure', 'Miscellaneous', 'Action', 'Role-Playing', 'Driving', 'Action Adventure', 'Role-Playing', 'Action', 'Action', 'Strategy', 'Adventure', 'Action', 'Role-Playing', 'Role-Playing', 'Puzzle', 'Action', 'Miscellaneous', 'Strategy', 'Action Adventure', 'Action Adventure', 'Action', 'Strategy', 'Driving', 'Driving', 'Action Adventure', 'Action', 'Driving', 'Action', 'Driving', 'Adventure', 'Action Adventure', 'Action', 'Adventure', 'Miscellaneous', 'Role-Playing', 'Action', 'Action', 'Role-Playing', 'Strategy', 'Action Adventure', 'Simulation', 'Action', 'Sports', 'Role-Playing', 'Puzzle', 'Action', 'Action', 'Strategy', 'Shooter', 'Miscellaneous', 'Action Adventure', 'Action', 'Action', 'Puzzle', 'Action Adventure', 'Action', 'Sports', 'Role-Playing', 'Action Adventure', 'Simulation', 'Role-Playing', 'Sports', 'Action Adventure', 'Action', 'Adventure', 'Sports', 'Sports', 'Action Adventure', 'Action', 'Adventure', 'Sports', 'Sports', 'Action Adventure', 'Action', 'Adventure', 'Sports', 'Sports', 'Action Adventure', 'Action', 'Adventure', 'Sports', 'Action', 'Action', 'Shooter', 'Action Adventure', 'Role-Playing', 'Action', 'Sports', 'Action Adventure', 'Action', 'Action', 'Action Adventure', 'Action', 'Miscellaneous', 'Action Adventure', 'Simulation', 'Sports', 'Adventure', 'Action', 'Role-Playing', 'Role-Playing', 'Action Adventure', 'Action Adventure', 'Sci-Fi', 'Adventure', 'Action', 'Miscellaneous', 'Action Adventure', 'Action', 'Action', 'Miscellaneous', 'Action', 'Miscellaneous', 'Strategy', 'Action', 'Action', 'Sports', 'Adventure', 'Miscellaneous', 'Racing', 'Action', 'Action', 'Simulation', 'Sports', 'Action', 'Strategy', 'Action', 'Miscellaneous', 'Simulation', 'Action', 'Action', 'Action', 'Action Adventure', 'Driving', 'Strategy', 'Strategy', 'Action', 'Action', 'Strategy', 'Puzzle', 'Action', 'Action', 'Strategy', 'Action', 'Action Adventure', 'Miscellaneous', 'Action', 'Sports', 'Driving', 'Action', 'Action', 'Sports', 'Action Adventure', 'Sports', 'Action', 'Sports', 'Action', 'Driving', 'Driving', 'Role-Playing', 'Action', 'Action', 'Action Adventure', 'Action', 'Sports', 'Racing', 'Action', 'Action Adventure', 'Action', 'Sports', 'Racing', 'Action', 'Action Adventure', 'Action', 'Sports', 'Racing', 'Action', 'Action Adventure', 'Action', 'Sports', 'Racing', 'Action', 'Role-Playing', 'Action', 'Role-Playing', 'Action Adventure', 'Action', 'Action', 'Action', 'Action', 'Action Adventure', 'Action', 'Adventure', 'Driving', 'Role-Playing', 'Action', 'Role-Playing', 'Action Adventure', 'Action', 'Miscellaneous', 'Action', 'Action', 'Action', 'Action', 'Strategy', 'Driving', 'Action', 'Strategy', 'Simulation', 'Strategy', 'Action', 'Racing', 'Action', 'Adventure', 'Action', 'Action', 'Racing', 'Action Adventure', 'Action', 'Adventure', 'Action', 'Adventure', 'Action Adventure', 'Driving', 'Action Adventure', 'Action', 'Role-Playing', 'Action', 'Role-Playing', 'Role-Playing', 'Action Adventure', 'Adventure', 'Action', 'Adventure', 'Strategy', 'Role-Playing', 'Action', 'Strategy', 'Action', 'Strategy', 'Adventure', 'Action', 'Sports', 'Role-Playing', 'Miscellaneous', 'Driving', 'Action', 'Simulation', 'Miscellaneous', 'Action Adventure', 'Miscellaneous', 'Strategy', 'Sports', 'Sports', 'Fantasy', 'Action', 'Strategy', 'Action', 'Action', 'Miscellaneous', 'Miscellaneous', 'Action Adventure', 'Action', 'Driving', 'Driving', 'Action', 'Action Adventure', 'Action', 'Driving', 'Driving', 'Action', 'Action Adventure', 'Action', 'Driving', 'Driving', 'Action', 'Action Adventure', 'Action', 'Driving', 'Driving', 'Action', 'Adventure', 'Driving', 'Strategy', 'Action', 'Role-Playing', 'Role-Playing', 'Adventure', 'Strategy', 'Miscellaneous', 'Role-Playing', 'Adventure', 'Action', 'Driving', 'Action', 'Action Adventure', 'Action', 'Miscellaneous', 'Strategy', 'Racing', 'Action', 'Driving', 'Role-Playing', 'Driving', 'Action', 'Sci-Fi', 'Action Adventure', 'Action', 'Miscellaneous', 'Action', 'Action Adventure', 'Action', 'Driving', 'Action', 'Role-Playing', 'Action', 'Driving', 'Action', 'Action', 'Action Adventure', 'Strategy', 'Driving', 'Action', 'Simulation', 'Strategy', 'Action', 'Action', 'Action Adventure', 'Strategy', 'Strategy', 'Action', 'Miscellaneous', 'Adventure', 'Action', 'Miscellaneous', 'Action', 'Driving', 'Action', 'Action', 'Action Adventure', 'Role-Playing', 'Sports', 'Action', 'Miscellaneous', 'Sports', 'Role-Playing', 'Action', 'Driving', 'Action', 'Role-Playing', 'Action', 'Racing', 'Sports', 'Adventure', 'Racing', 'Sports', 'Strategy', 'Sports', 'Action', 'Action', 'Driving', 'Adventure', 'Driving', 'Racing', 'Historic', 'Action', 'Adventure', 'Driving', 'Racing', 'Historic', 'Action', 'Adventure', 'Driving', 'Racing', 'Historic', 'Action', 'Adventure', 'Driving', 'Racing', 'Historic', 'Action', 'Action', 'Action', 'Strategy', 'Miscellaneous', 'Action', 'Action', 'Sports', 'Miscellaneous', 'Role-Playing', 'Racing', 'Adventure', 'Action', 'Miscellaneous', 'Miscellaneous', 'Action', 'Simulation', 'Action', 'Role-Playing', 'Strategy', 'Sports', 'Action', 'Action Adventure', 'Adventure', 'Action Adventure', 'Adventure', 'Role-Playing', 'Action', 'Action', 'Adventure', 'Sports', 'Action', 'Miscellaneous', 'Action', 'Role-Playing', 'Adventure', 'Action', 'Strategy', 'Role-Playing', 'Action Adventure', 'Action', 'Adventure', 'Strategy', 'Strategy', 'Puzzle', 'Strategy', 'Role-Playing', 'Action', 'Role-Playing', 'Strategy', 'Adventure', 'Miscellaneous', 'Role-Playing', 'Action', 'Driving', 'Role-Playing', 'Action', 'Adventure', 'Role-Playing', 'Driving', 'Action', 'Action', 'Driving', 'Action Adventure', 'Sci-Fi', 'Role-Playing', 'Action', 'Role-Playing', 'Action', 'Strategy', 'Strategy', 'Simulation', 'Sports', 'Action', 'Action', 'Adventure', 'Adventure', 'Sports', 'Sports', 'Role-Playing', 'Driving', 'Miscellaneous', 'Role-Playing', 'Strategy', 'Action', 'Driving', 'Miscellaneous', 'Role-Playing', 'Strategy', 'Action', 'Driving', 'Miscellaneous', 'Role-Playing', 'Strategy', 'Action', 'Driving', 'Miscellaneous', 'Role-Playing', 'Strategy', 'Action', 'Strategy', 'Action', 'Action', 'Racing', 'Action Adventure', 'Role-Playing', 'Action', 'Action', 'Miscellaneous', 'Miscellaneous', 'Action', 'Simulation', 'Action', 'Racing', 'Miscellaneous', 'Action Adventure', 'Driving', 'Action', 'Racing', 'Action Adventure', 'Modern', 'Sports', 'Simulation', 'Driving', 'Sports', 'Action', 'Puzzle', 'Role-Playing', 'Driving', 'Action', 'Action', 'Action', 'Role-Playing', 'Action Adventure', 'Action', 'Action', 'Simulation', 'Driving', 'Strategy', 'Action Adventure', 'Action', 'Action', 'Action', 'Action', 'Action', 'Action', 'Driving', 'Miscellaneous', 'Strategy', 'General', 'Government', 'Action', 'Role-Playing', 'Simulation', 'Action Adventure', 'Action Adventure', 'Action Adventure', 'Simulation', 'Strategy', 'Action', 'Action', 'Action Adventure', 'Miscellaneous', 'Miscellaneous', 'Miscellaneous', 'Action', 'Action Adventure', 'Role-Playing', 'Action', 'Action', 'Adventure', 'Adventure', 'Role-Playing', 'Action', 'Action', 'Racing', 'Action', 'Simulation', 'Action', 'Action', 'Action Adventure', 'Miscellaneous', 'Role-Playing', 'Simulation', 'Role-Playing', 'Action Adventure', 'Miscellaneous', 'Role-Playing', 'Simulation', 'Role-Playing', 'Action Adventure', 'Miscellaneous', 'Role-Playing', 'Simulation', 'Role-Playing', 'Action Adventure', 'Miscellaneous', 'Role-Playing', 'Simulation', 'Role-Playing', 'Adventure', 'Action', 'Miscellaneous', 'Role-Playing', 'Action', 'Adventure', 'Racing', 'Action', 'Action', 'Action', 'Sports', 'Action', 'Action Adventure', 'Sports', 'Action Adventure', 'Action Adventure', 'Action Adventure', 'Action', 'Action', 'Action', 'Action', 'Strategy', 'Adventure', 'Action', 'Sports', 'Sports', 'Action', 'Role-Playing', 'Miscellaneous', 'Action Adventure', 'Action Adventure', 'Miscellaneous', 'Action Adventure', 'Action', 'Action', 'Simulation', 'Role-Playing', 'Sci-Fi', 'Action Adventure', 'General', 'Action', 'Action', 'Action', 'Action Adventure', 'Action', 'Fantasy', 'Action', 'Action', 'Action', 'Action', 'Role-Playing', 'Simulation', 'Miscellaneous', 'Role-Playing', 'Puzzle', 'Role-Playing', 'Action', 'Adventure', 'Puzzle', 'Action Adventure', 'Action Adventure', 'Action', 'Driving', 'Action', 'Action', 'Action', 'Action', 'Miscellaneous', 'Action', 'Action', 'Miscellaneous', 'Strategy', 'Action', 'Action', 'Driving', 'Sports', 'Strategy', 'Sports', 'Role-Playing', 'Action Adventure', 'Strategy', 'Simulation', 'Action Adventure', 'Strategy', 'Miscellaneous', 'Strategy', 'Simulation', 'Action Adventure', 'Strategy', 'Miscellaneous', 'Strategy', 'Simulation', 'Action Adventure', 'Strategy', 'Miscellaneous', 'Strategy', 'Simulation', 'Action Adventure', 'Strategy', 'Miscellaneous', 'Racing', 'Action', 'Role-Playing', 'Strategy', 'Miscellaneous', 'Action Adventure', 'Strategy', 'Strategy', 'Role-Playing', 'Action', 'Action', 'Miscellaneous', 'Role-Playing', 'Action', 'Adventure', 'Miscellaneous', 'Miscellaneous', 'Miscellaneous', 'Action', 'Action', 'General', 'Simulation', 'Miscellaneous', 'Action', 'Puzzle', 'Action Adventure', 'Action', 'Driving', 'Miscellaneous', 'Adventure', 'Action', 'Action', 'Action', 'Action', 'Action', 'Simulation', 'Action Adventure', 'Role-Playing', 'Action', 'Action Adventure', 'Adventure', 'Role-Playing', 'Action', 'Role-Playing', 'Simulation', 'Racing', 'Action', 'Action', 'Role-Playing', 'Driving', 'Miscellaneous', 'Strategy', 'Driving', 'Action Adventure', 'Strategy', 'Action', 'Strategy', 'Driving', 'Sports', 'Strategy', 'Action', 'Role-Playing', 'Action', 'Action Adventure', 'Role-Playing', 'Driving', 'Action', 'Role-Playing', 'Driving', 'Action Adventure', 'Action', 'Adventure', 'Strategy', 'Strategy', 'Puzzle', 'Strategy', 'Action', 'Action', 'Driving', 'Action', 'Action', 'Role-Playing', 'General', 'Action', 'Action', 'Action', 'Role-Playing', 'General', 'Action', 'Action', 'Action', 'Role-Playing', 'General', 'Action', 'Action', 'Action', 'Role-Playing', 'General', 'Action', 'Action', 'Formula One', 'Driving', 'Action', 'Driving', 'Strategy', 'Action', 'Action', 'Adventure', 'Action', 'Sports', 'Action', 'Action', 'Miscellaneous', 'Sports', 'Action', 'Action', 'Action', 'Sports', 'Sports', 'Action Adventure', 'Simulation', 'Strategy', 'Miscellaneous', 'Miscellaneous', 'Strategy', 'Role-Playing', 'Role-Playing', 'Fighting', 'Action Adventure', 'Action', 'Action', 'Driving', 'Role-Playing', 'Role-Playing', 'Driving', 'Simulation', 'Action', 'Action', 'Strategy', 'Action', 'Modern', 'Action', 'Action', 'Action', 'Simulation', 'Simulation', 'Action Adventure', 'Adventure', 'Action', 'Adventure', 'Role-Playing', 'Miscellaneous', 'Role-Playing', 'Strategy', 'Role-Playing', 'Action Adventure', 'Puzzle', 'Strategy', 'Action', 'Role-Playing', 'Action', 'Action', 'Adventure', 'Action Adventure', 'Action', 'Action', 'Racing', 'Action Adventure', 'Sports', 'Action', 'Action', 'Traditional', 'Action', 'Action', 'Action', 'Role-Playing', 'Action Adventure', 'Action', 'Action Adventure', 'Miscellaneous', 'Sports', 'Action', 'Strategy', 'Action', 'Action Adventure', 'Sports', 'Action', 'Strategy', 'Action', 'Action Adventure', 'Sports', 'Action', 'Strategy', 'Action', 'Action Adventure', 'Sports', 'Action', 'Strategy', 'Action', 'Action Adventure', 'Sci-Fi', 'Action', 'Action', 'Action Adventure', 'Action', 'Sports', 'Action Adventure', 'Action', 'Driving', 'Miscellaneous', 'Action', 'Strategy', 'Action', 'Action', 'Action', 'Action', 'Miscellaneous', 'Role-Playing', 'Action Adventure', 'Driving', 'Action', 'Horror', 'Adventure', 'Action', 'Driving', 'Sports', 'Action Adventure', 'Role-Playing', 'Role-Playing', 'Action Adventure', 'Action', 'Strategy', 'Action Adventure', 'Role-Playing', 'Action Adventure', 'Action', 'Miscellaneous', 'Driving', 'Action', 'Adventure', 'Action', 'Action', 'Action Adventure', 'Adventure', 'Action Adventure', 'General', 'Action', 'Miscellaneous', 'Action', 'General', 'Role-Playing', 'Role-Playing', 'Role-Playing', 'Action', 'Action', 'Shooter', 'Action', 'Sports', 'Action', 'Strategy', 'Action', 'Adventure', 'Action Adventure', 'Action', 'Role-Playing', 'Action', 'Driving', 'Sports', 'Adventure', 'Action Adventure', 'Action', 'Sports', 'Driving', 'Action', 'Adventure', 'Strategy', 'Simulation', 'Sports', 'Action', 'Role-Playing', 'Action', 'Action Adventure', 'Action Adventure', 'Action', 'Action', 'Action', 'Action Adventure', 'Action Adventure', 'Action', 'Action', 'Action', 'Action Adventure', 'Action Adventure', 'Action', 'Action', 'Action', 'Action Adventure', 'Action Adventure', 'Action', 'Action', 'Action', 'Action', 'Action', 'Action Adventure', 'Role-Playing', 'Role-Playing', 'Simulation', 'Action', 'Strategy', 'Racing', 'Sports', 'Adventure', 'Strategy', 'Action', 'Sports', 'Driving', 'Action', 'Action Adventure', 'Simulation', 'Action Adventure', 'Action', 'Action', 'Driving', 'Action', 'Action', 'Role-Playing', 'Action', 'Role-Playing', 'Action', 'Driving', 'Racing', 'GT / Street', 'Role-Playing', 'Role-Playing', 'Action', 'Action', 'Action', 'Simulation', 'Simulation', 'Miscellaneous', 'Role-Playing', 'Action', 'Action', 'Action', 'Action', 'Action', 'Adventure', 'Action', 'Action', 'Miscellaneous', 'Strategy', 'Adventure', 'Action Adventure', 'Modern', 'Action', 'Miscellaneous', 'Adventure', 'Strategy', 'Sports', 'Sports', 'Action Adventure', 'Strategy', 'Role-Playing', 'Action Adventure', 'Action', 'Role-Playing', 'Role-Playing', 'Role-Playing', 'Action', 'Strategy', 'Miscellaneous', 'Action Adventure', 'Action', 'Miscellaneous', 'Action', 'Adventure', 'Strategy', 'Role-Playing', 'Action', 'Adventure', 'Action', 'Action Adventure', 'Action', 'Action', 'Action', 'Action', 'Action Adventure', 'Action', 'Action', 'Action', 'Action', 'Action Adventure', 'Action', 'Action', 'Action', 'Action', 'Action Adventure', 'Action', 'Action', 'Action', 'Sports', 'Action', 'Fighting', 'Action', 'Action', 'Simulation', 'Driving', 'Role-Playing', 'Action', 'Action', 'Action', 'Action Adventure', 'Adventure', 'Action', 'Action', 'Sports', 'Action Adventure', 'Action', 'Action Adventure', 'Driving', 'Role-Playing', 'Strategy', 'Action', 'Action Adventure', 'Action', 'Miscellaneous', 'Action', 'Action Adventure', 'Adventure', 'Action Adventure', 'Strategy', 'Driving', 'Action', 'Sports', 'Action', 'Strategy', 'Puzzle', 'Driving', 'Simulation', 'Role-Playing', 'Action', 'Action Adventure', 'Action', 'Action Adventure', 'Sports', 'Driving', 'Action', 'Racing', 'Action', 'Miscellaneous', 'Action', 'Action', 'Simulation', 'Action', 'Action Adventure', 'Role-Playing', 'Action', 'Action', 'Strategy', 'Action', 'Action', 'Action', '1-2', 'Driving', 'General', 'Action', 'Strategy', 'Action', 'Action', 'Sports', 'Strategy', 'Action', 'Driving', 'Strategy', 'Sports', 'Role-Playing', 'Driving', 'Miscellaneous', 'Action', 'Miscellaneous', 'Action RPG', 'Action', 'Action', 'Action', 'Simulation', 'Action RPG', 'Action', 'Action', 'Action', 'Simulation', 'Action RPG', 'Action', 'Action', 'Action', 'Simulation', 'Action RPG', 'Action', 'Action', 'Action', 'Simulation', 'Miscellaneous', 'Action', 'Action Adventure', 'Action Adventure', 'Action', 'Action', 'Action', 'Action', 'Action', 'Miscellaneous', 'Strategy', 'Miscellaneous', 'Action', 'Action', 'Action', 'Action', 'Adventure', 'Action Adventure', 'Action', 'Driving', 'Action', 'Action', 'Driving', 'Miscellaneous', 'Action Adventure', 'Action Adventure', 'Action Adventure', 'Adventure', 'Action', 'Adventure', 'Strategy', 'Action', 'General', 'Action RPG', 'Strategy', 'Action', 'Miscellaneous', 'Role-Playing', 'Miscellaneous', 'Simulation', 'Simulation', 'Action', 'Simulation', 'Role-Playing', 'Action', 'Action Adventure', 'Miscellaneous', 'Action Adventure', 'Action', 'Adventure', 'Strategy', 'Action', 'Action', 'Miscellaneous', 'Sports', 'Role-Playing', 'Role-Playing', 'Miscellaneous', 'Sports', 'Driving', 'Driving', 'Action', 'Role-Playing', 'Action', 'Action Adventure', 'Miscellaneous', 'Miscellaneous', 'Simulation', 'Action', 'Strategy', 'Action', 'Simulation', 'Fantasy', 'Role-Playing', 'Action', 'Role-Playing', 'Driving', 'Action', 'Traditional', 'Strategy', 'Adventure', 'Role-Playing', 'Action', 'Strategy', 'Strategy', 'Adventure', 'Role-Playing', 'Action', 'Strategy', 'Strategy', 'Adventure', 'Role-Playing', 'Action', 'Strategy', 'Strategy', 'Adventure', 'Role-Playing', 'Action', 'Strategy', 'Strategy', 'Action', 'Action', 'Strategy', 'Action Adventure', 'Action Adventure', 'Action', 'Action', 'Role-Playing', 'Action Adventure', 'Adventure', 'Miscellaneous', 'Action Adventure', 'Action Adventure', 'Role-Playing', 'Action Adventure', 'Action', 'Miscellaneous', 'Action', 'Miscellaneous', 'Adventure', 'Miscellaneous', 'Action', 'Action', 'Action', 'Adventure', 'Futuristic', 'Role-Playing', 'Action Adventure', 'Sports', 'Miscellaneous', 'Action', 'Action Adventure', 'Action RPG', 'Sports', 'Sports', 'Action', 'Action Adventure', 'Miscellaneous', 'Strategy', 'Action Adventure', 'Role-Playing', 'Action', 'Action', 'Action Adventure', 'Role-Playing', 'Action', 'Adventure', 'Strategy', 'Miscellaneous', 'Miscellaneous', 'Strategy', 'Action', 'Strategy', 'Role-Playing', 'Simulation', 'Action', 'Action', 'Shooter', 'Action', 'Action', 'Adventure', 'Simulation', 'Action Adventure', 'Strategy', 'Action', 'Action', 'Action Adventure', 'Action', 'Sports', 'Action', 'Action', 'Sports', 'Action Adventure', 'Simulation', 'Action Adventure', 'Role-Playing', 'Racing', 'Action', 'Racing', 'Miscellaneous', 'Action Adventure', 'Sports', 'Action', 'Miscellaneous', 'Miscellaneous', 'Action Adventure', 'Sports', 'Action', 'Miscellaneous', 'Miscellaneous', 'Action Adventure', 'Sports', 'Action', 'Miscellaneous', 'Miscellaneous', 'Action Adventure', 'Sports', 'Action', 'Miscellaneous', 'Miscellaneous', 'Action', 'Action', 'Miscellaneous', 'Action', 'Action', 'Action', 'Action', 'Driving', 'Action', 'Action', 'Adventure', 'Sports', 'Adventure', 'Sports', 'Action', 'Adventure', 'Action', 'Action', 'Driving', 'Action', 'Action', 'Action', 'Role-Playing', 'Action', 'Action', 'Action', 'Strategy', 'Miscellaneous', 'Action', 'Action', 'Miscellaneous', 'Miscellaneous', 'Action', 'Strategy', 'Role-Playing', 'Adventure', 'Sports', 'Action Adventure', 'Action', 'Action', 'General', 'Action', 'Action Adventure', 'Action', 'Miscellaneous', 'Simulation', 'Miscellaneous', 'Action', 'Action', 'Adventure', 'Action Adventure', 'Action', 'Action RPG', 'Action', 'Miscellaneous', 'Action Adventure', 'Adventure', 'Action Adventure', 'Strategy', 'Action Adventure', 'Driving', 'Sports', 'Action Adventure', 'Simulation', 'Action', 'Miscellaneous', 'Action', 'Action Adventure', 'Action', 'Action', 'Action Adventure', 'Role-Playing', 'Action', 'Action', 'Role-Playing', 'Driving', 'Strategy', 'Role-Playing', 'Role-Playing', 'Action', 'Action', 'Miscellaneous', 'Driving', 'Action', 'Action', 'Action', 'Miscellaneous', 'Driving', 'Action', 'Action', 'Action', 'Miscellaneous', 'Driving', 'Action', 'Action', 'Action', 'Miscellaneous', 'Driving', 'Action', 'Action', 'Action', 'Role-Playing', 'Driving', 'Simulation', 'Role-Playing', 'Action Adventure', 'Action Adventure', 'Action', 'Action', 'Driving', 'Action', 'Action Adventure', 'Action', 'Action Adventure', 'Action', 'Action', 'Action', 'Action', 'Strategy', 'Action', 'Action', 'Action', 'Sports', 'Role-Playing', 'Action', 'Driving', 'Action', 'Action', 'Adventure', 'Action', 'General', 'Sports', 'Driving', 'Action Adventure', 'Action Adventure', 'Simulation', 'Simulation', 'Role-Playing', 'Simulation', 'Puzzle', 'Action', 'Adventure', 'Action Adventure', 'Action Adventure', 'Miscellaneous', 'Action Adventure', 'Action', 'Role-Playing', 'Action', 'Action Adventure', 'Strategy', 'Miscellaneous', 'Action', 'Action Adventure', 'Driving', 'Action Adventure', 'Adventure', 'Action Adventure', 'Action Adventure', 'Adventure', 'Action', 'Action Adventure', 'Action', 'Action', 'Action', 'Action', 'Action Adventure', 'Role-Playing', 'Action', 'Action', 'Strategy', 'Miscellaneous', 'Action', 'Driving', 'Action Adventure', 'Role-Playing', 'Miscellaneous', 'Miscellaneous', 'Action', 'Action Adventure', 'Action', 'Simulation', 'Sports', 'Action', 'Strategy', 'Action', 'Simulation', 'Sports', 'Action', 'Strategy', 'Action', 'Simulation', 'Sports', 'Action', 'Strategy', 'Action', 'Simulation', 'Sports', 'Action', 'Strategy', 'Action Adventure', 'Action Adventure', 'Simulation', 'Strategy', 'Action Adventure', 'Action', 'Action', 'Action Adventure', 'Action', 'Strategy', 'No Online Multiplayer', 'Action Adventure', 'Sports', 'Racing', 'Sports', 'Action', 'Action', 'Sports', 'Role-Playing', 'Sports', 'Action Adventure', 'Action', 'Racing', 'Action', 'Miscellaneous', 'Role-Playing', 'Action Adventure', 'Driving', 'Action', 'Simulation', 'Action', 'Miscellaneous', 'Action', 'Action', 'Action', 'Driving', 'Action', 'Sports', 'Strategy', 'Strategy', 'Platformer', 'Role-Playing', 'Strategy', 'Action', 'Driving', 'Adventure', 'Action Adventure', 'Action Adventure', 'Action Adventure', 'Action', 'Action', 'Role-Playing', 'Role-Playing', 'Adventure', 'Action', 'Role-Playing', 'Sports', 'Action', 'Action', 'Adventure', 'Adventure', 'Sports', 'Simulation', 'Action', 'General', 'Role-Playing', 'Action', 'Action', 'Strategy', 'Action Adventure', 'Action', 'Driving', 'Driving', 'Sports', 'Action Adventure', 'Strategy', 'Strategy', 'Strategy', 'Sports', 'Adventure', 'Action Adventure', 'Action', 'Miscellaneous', 'Simulation', 'Adventure', 'Action Adventure', 'Action', 'Miscellaneous', 'Simulation', 'Adventure', 'Action Adventure', 'Action', 'Miscellaneous', 'Simulation', 'Adventure', 'Action Adventure', 'Action', 'Miscellaneous', 'Simulation', 'Adventure', 'Action Adventure', 'Action', 'Simulation', 'Action', 'Action', 'Adventure', 'Action Adventure', 'General', 'Sports', 'Sci-Fi', 'Role-Playing', 'Action', 'Role-Playing', 'Strategy', 'Action', 'Action', 'Adventure', 'Action Adventure', 'Driving', 'Action', 'Action', 'Simulation', 'Action Adventure', 'Action', 'Action', 'Strategy', 'Simulation', 'Driving', 'Action Adventure', 'Driving', 'Action', 'Driving', 'Action', 'Role-Playing', 'Sports', 'Action', 'Action Adventure', 'Strategy', 'Adventure', 'Action', 'Role-Playing', 'Miscellaneous', 'Action', 'Action', 'Driving', 'Driving', 'Sports', 'Action', 'Action', 'Sports', 'Action Adventure', 'Action Adventure', 'Driving', 'Action', 'Action Adventure', 'Adventure', 'Role-Playing', 'Puzzle', 'Action', 'Adventure', 'Action', 'Adventure', 'Adventure', 'Action', 'Action', 'Strategy', 'Racing', 'Miscellaneous', 'Sports', 'Action Adventure', 'Action', 'Action', 'Action', 'Action', 'Strategy', 'Action', 'Action', 'Action Adventure', 'Adventure', 'Action', 'Action', 'Simulation', 'Role-Playing', 'Action', 'Fantasy', 'Action', 'Simulation', 'Role-Playing', 'Action', 'Fantasy', 'Action', 'Simulation', 'Role-Playing', 'Action', 'Fantasy', 'Action', 'Simulation', 'Role-Playing', 'Action', 'Fantasy', 'Action', 'Sports', 'Sports', 'Miscellaneous', 'Action', 'Miscellaneous', 'Action', 'Role-Playing', 'Miscellaneous', 'Action Adventure', 'Action', 'Action', 'Strategy', 'Strategy', 'Sports', 'Action', 'Simulation', 'Action', 'Adventure', 'Simulation', 'Role-Playing', 'Racing', 'Action Adventure', 'Sports', 'Action', 'Action', 'Driving', 'Racing', 'Action', 'Miscellaneous', 'Action Adventure', 'Action Adventure', 'Action', 'Strategy', 'Action', 'Action', 'Role-Playing', 'Strategy', 'Adventure', 'Action', 'Sports', 'Strategy', 'Driving', 'Driving', 'Strategy', 'Strategy', 'Miscellaneous', 'Adventure', 'Action', 'Racing', 'Action', 'Action', 'Action Adventure', 'Action', 'Driving', 'Action', 'Sports', 'Strategy', 'Role-Playing', 'Strategy', 'Driving', 'Role-Playing', 'Action Adventure', 'Adventure', 'Strategy', 'Action', 'Role-Playing', 'Miscellaneous', 'Action', 'Action', 'Action Adventure', 'Miscellaneous', 'Adventure', 'Action', 'Action', 'Adventure', 'Action', 'Miscellaneous', 'Sports', 'Action Adventure', 'Strategy', 'Action', 'Miscellaneous', 'Sports', 'Action Adventure', 'Strategy', 'Action', 'Miscellaneous', 'Sports', 'Action Adventure', 'Strategy', 'Action', 'Miscellaneous', 'Sports', 'Action Adventure', 'Strategy', 'Sports', 'Strategy', 'Action Adventure', 'Adventure', 'Sports', 'Action Adventure', 'Action', 'Action', 'Action', 'Simulation', 'Action', 'General', 'Role-Playing', 'Action', 'Simulation', 'Action', 'Action Adventure', 'Adventure', 'Action', 'Sports', 'Driving', 'Action Adventure', 'Miscellaneous', 'Driving', 'Sports', 'Action', 'Action', 'Strategy', 'Action Adventure', 'Sports', 'Strategy', 'Sports', 'Action', 'Action', 'General', 'Simulation', 'Sports', 'Role-Playing', 'Driving', 'Action', 'Puzzle', 'Action', 'Miscellaneous', 'Simulation', 'Action', 'Action Adventure', 'Driving', 'Adventure', 'Action Adventure', 'Sports', 'Simulation', 'Sports', 'Adventure', 'Action', 'Action Adventure', 'Sports', 'Action', 'Action Adventure', 'Action Adventure', 'Driving', 'Action', 'Strategy', 'Action Adventure', 'Role-Playing', 'Action', 'Action', 'Action', 'Racing', 'Adventure', 'Strategy', 'Action Adventure', 'Action', 'Action Adventure', 'Action', 'Role-Playing', 'Action', 'Simulation', 'Racing', 'Fantasy', 'Action', 'Action Adventure', 'Role-Playing', 'Adventure', 'Action', 'Action', 'Action Adventure', 'Role-Playing', 'Adventure', 'Action', 'Action', 'Action Adventure', 'Role-Playing', 'Adventure', 'Action', 'Action', 'Action Adventure', 'Role-Playing', 'Adventure', 'Action', 'Action', 'Action', 'Miscellaneous', 'Action', 'Action', 'Action', 'Action Adventure', 'Action Adventure', 'Simulation', 'Action', 'Strategy', 'Driving', 'Driving', 'Strategy', 'Action Adventure', 'Driving', 'Strategy', 'Sports', 'Action', 'Sports', 'Action', 'Adventure', 'Driving', 'Action Adventure', 'Action', 'Action', 'Action', 'Action Adventure', 'Action', 'Simulation', 'Action', 'Driving', 'Role-Playing', 'Racing', 'Action Adventure', 'Strategy', 'Action', 'Action', 'Action Adventure', 'Sci-Fi', 'Action', 'Sports', 'Action', 'Strategy', 'Role-Playing', 'Action', 'Action', 'Action Adventure', 'Driving', 'Action', 'Sports', 'Strategy', 'Action', 'Action Adventure', 'Sports', 'Action Adventure', 'Action', 'Role-Playing', 'Action', 'Action Adventure', 'Role-Playing', 'Action', 'Role-Playing', 'Action', 'Action', 'Role-Playing', 'Strategy', 'Role-Playing', 'Action', 'Action', 'Role-Playing', 'Strategy', 'Role-Playing', 'Action', 'Action', 'Role-Playing', 'Strategy', 'Role-Playing', 'Action', 'Action', 'Role-Playing', 'Strategy', 'Action', 'Action', 'Role-Playing', 'Role-Playing', 'Strategy', 'Action', 'Action Adventure', 'Action', 'Action', 'Miscellaneous', 'Adventure', 'Action Adventure', 'Driving', 'Action', 'Action', 'Role-Playing', 'Adventure', 'Action', 'Simulation', 'Role-Playing', 'Miscellaneous', 'Sports', 'Action', 'Strategy', 'Role-Playing', 'Action', 'Action', 'Action', 'Miscellaneous', 'Role-Playing', 'Console-style RPG', 'Action', 'Adventure', 'Miscellaneous', 'Action', 'Adventure', 'Action Adventure', 'Action', 'Action Adventure', 'Action', 'Action', 'Miscellaneous', 'Action', 'Adventure', 'Action', 'Driving', 'Action', 'Adventure', 'Action', 'Driving', 'Action', 'Adventure', 'Action', 'Driving', 'Action', 'Adventure', 'Action', 'Action', 'Driving', 'Role-Playing', 'Action', 'Racing', 'Action', 'Action', 'Action', 'Role-Playing', 'Action Adventure', 'Strategy', 'Driving', 'Sports', 'Action Adventure', 'Sports', 'Action', 'Action', 'Action', 'Action', 'Action', 'Action', 'Action', 'Action', 'Action', 'Role-Playing', 'Action Adventure', 'Action', 'Action', 'Strategy', 'Action', 'Action Adventure', 'Action', 'Sports', 'Role-Playing', 'Strategy', 'Action', 'Action', 'Adventure', 'Role-Playing', 'Action', 'Action Adventure', 'Role-Playing', 'Action Adventure', 'Role-Playing', 'Action Adventure', 'Role-Playing', 'Action Adventure', 'Role-Playing', 'Strategy', 'Action Adventure', 'Action', 'Action', 'Action', 'Action', 'Sports', 'Action', 'Miscellaneous', 'Sports', 'Miscellaneous', 'Sports', 'Miscellaneous', 'Sports', 'Miscellaneous', 'Sports', 'Miscellaneous', 'Strategy', 'Action Adventure', 'Action', 'Action Adventure', 'Sports', 'Action Adventure', 'Action', 'Action', 'Sports', 'Simulation', 'Simulation', 'Simulation', 'Simulation', 'Action', 'Action', 'Action', 'Action', 'Role-Playing', 'Miscellaneous', 'Miscellaneous', 'Action', 'Action', 'Action Adventure', 'Action Adventure', 'Action', 'Action', 'Miscellaneous', 'Action Adventure', 'Action', 'Strategy', 'Driving', 'Action', 'Action', 'Role-Playing', 'Adventure', 'Strategy', 'Action Adventure', 'Tactical', 'Adventure', 'Action', 'Action', 'Sports', 'Sports', 'Action', 'Strategy', 'Action', 'Strategy', 'Miscellaneous', 'Action', 'Strategy', 'General', 'Miscellaneous', 'Action', 'Strategy', 'General', 'Miscellaneous', 'Action', 'Action', 'Strategy', 'General', 'Driving', 'Action Adventure', 'Action', 'Action', 'Driving', 'Miscellaneous', 'Role-Playing', 'Action Adventure', 'Miscellaneous', 'Puzzle', 'Strategy', 'Adventure', 'Action', 'Role-Playing', 'Action', 'Action', 'Action', 'Action', 'Action', 'Action', 'Action', 'Action', 'Sports', 'Action', 'Miscellaneous', 'Action', 'Action', 'Action', 'Action Adventure', 'Simulation', 'Sports', 'Action Adventure', 'Action', 'Action', 'Strategy', 'Adventure', 'Strategy', 'Platformer', 'Role-Playing', 'Action', 'Role-Playing', 'Platformer', 'Role-Playing', 'Action', 'Role-Playing', 'Sports', 'Platformer', 'Role-Playing', 'Action', 'Role-Playing', 'Sports', 'Platformer', 'Role-Playing', 'Action', 'Racing', 'Action', 'Action Adventure', 'Action', 'Action', 'Action', 'Role-Playing', 'Action', 'Action', 'Driving', 'Role-Playing', 'Action', 'Action', 'Action', 'Sports', 'Action Adventure', 'Action Adventure', 'Action', 'Role-Playing', 'Strategy', 'Action', 'Miscellaneous', 'Action', 'Role-Playing', 'Role-Playing', 'Strategy', 'Action Adventure', 'Sports', 'Driving', 'Sports', 'Role-Playing', 'Sports', 'Action Adventure', 'Action', 'Action Adventure', 'Action Adventure', 'Strategy', 'Action', 'Action', 'Strategy', 'Action Adventure', 'Action Adventure', 'Action Adventure', 'Driving', 'Driving', 'Action', 'Driving', 'Action', 'Action', 'Adventure', 'Action', 'Action Adventure', 'Action Adventure', 'Action', 'Action', 'Action', 'Action Adventure', 'Role-Playing', 'Action', 'Action Adventure', 'Action', 'Driving', 'Action', 'Action Adventure', 'Adventure', 'Sports', 'Role-Playing', 'Role-Playing', 'Action', 'Action', 'Action', 'Role-Playing', 'Role-Playing', 'Adventure', 'Role-Playing', 'Action', 'Miscellaneous', 'Role-Playing', 'Sports', 'Action Adventure', 'Simulation', 'Sci-Fi', 'Role-Playing', 'Sports', 'Action Adventure', 'Simulation', 'Sci-Fi', 'Role-Playing', 'Sports', 'Action Adventure', 'Simulation', 'Sci-Fi', 'Role-Playing', 'Sports', 'Action Adventure', 'Simulation', 'Sci-Fi', 'Strategy', 'Role-Playing', 'Action Adventure', 'Action Adventure', 'Driving', 'Strategy', 'Adventure', 'Miscellaneous', 'Action', 'Role-Playing', 'Miscellaneous', 'Action Adventure', 'Strategy', 'Action', 'Adventure', 'Adventure', 'Action', 'Strategy', 'Sports', 'Sports', 'Driving', 'Action Adventure', 'Action', 'Driving', 'Miscellaneous', 'Action', 'On GameFAQs', 'Action', 'Adventure', 'Flight', 'Miscellaneous', 'Action', 'Role-Playing', 'Action', 'Action', 'Action', 'Role-Playing', 'Role-Playing', 'Role-Playing', 'Action Adventure', 'Action', 'Strategy', 'Action Adventure', 'Action Adventure', 'Sports', 'Strategy', 'Action', 'Adventure', 'Action', 'Role-Playing', 'Action Adventure', 'Miscellaneous', 'Role-Playing', 'Racing', 'Action', 'Simulation', 'Driving', 'Action', 'Action', 'Role-Playing', 'Action', 'Adventure', 'Action', 'Action', 'Action', 'Action', 'Sports', 'Driving', 'Sports', 'Action Adventure', 'Miscellaneous', 'Role-Playing', 'Action', 'Action', 'Miscellaneous', 'Adventure', 'Action', 'Simulation', 'Sports', 'Action', 'Action Adventure', 'Action Adventure', 'Simulation', 'Sports', 'Action', 'Action Adventure', 'Action Adventure', 'Simulation', 'Sports', 'Action', 'Action Adventure', 'Action Adventure', 'Simulation', 'Sports', 'Action', 'Action Adventure', 'Action Adventure', 'Adventure', 'Action Adventure', 'Action', 'Action', 'Driving', 'Miscellaneous', 'Simulation', 'Action', 'Action Adventure', 'Action', 'Action', 'Miscellaneous', 'Action', 'Strategy', 'Role-Playing', 'Action Adventure', 'Action', 'Miscellaneous', 'Sports', 'Action', 'Miscellaneous', 'Action', 'Miscellaneous', 'Adventure', 'Action Adventure', 'Action', 'Action Adventure', 'Sports', 'Racing', 'Fantasy', 'Miscellaneous', 'Action', 'Action Adventure', 'Action', 'Driving', 'Action', 'Action', 'Action', 'Miscellaneous', 'Role-Playing', 'Action Adventure', 'Sports', 'Action', 'Action', 'Action', 'Adventure', 'General', 'Action', 'Simulation', 'Action', 'Action', 'Sports', 'Sports', 'Driving', 'Action', 'Action', 'Action Adventure', 'Simulation', 'Action Adventure', 'Adventure', 'Action', 'Action', 'Action', 'Action', 'Action', 'Action', 'Action Adventure', 'Role-Playing', 'Action', 'Action', 'Driving', 'Action', 'Action', 'Action', 'Role-Playing', 'Strategy', 'Racing', 'Action', 'Strategy', 'Strategy', 'Miscellaneous', 'Action', 'Action', 'Action', 'Role-Playing', 'Miscellaneous', 'Action', 'Action', 'Action', 'Role-Playing', 'Miscellaneous', 'Action', 'Action', 'Action', 'Role-Playing', 'Miscellaneous', 'Action', 'Action', 'Action', 'Role-Playing', 'Miscellaneous', 'Adventure', 'Adventure', 'Shooter', 'Action', 'Action Adventure', 'Simulation', 'Role-Playing', 'Miscellaneous', 'Sports', 'Role-Playing', 'Action Adventure', 'Action Adventure', 'Tactical', 'Action', 'Action Adventure', 'Role-Playing', 'Action Adventure', 'Miscellaneous', 'Action Adventure', 'Action Adventure', 'Strategy', 'Sports', 'Miscellaneous', 'Action', 'Simulation', 'Strategy', 'Role-Playing', 'Miscellaneous', 'Strategy', 'Driving', 'Action', 'Action Adventure', 'Miscellaneous', 'Miscellaneous', '6 Online', 'Driving', 'Action Adventure', 'Miscellaneous', 'Strategy', 'Action', 'Sports', 'Action', 'Action', 'Action', 'Action', 'Action', 'Adventure', 'Action', 'Action', 'Action', 'Action', 'Action Adventure', 'Action Adventure', 'Role-Playing', 'Simulation', 'Miscellaneous', 'Action', 'Adventure', 'Action', 'Action', 'Miscellaneous', 'Miscellaneous', 'Action', 'Adventure', 'Action', 'Sports', 'Action', 'Miscellaneous', 'Sports', 'Role-Playing', 'Simulation', 'Action', 'Action Adventure', 'Driving', 'Action', 'Simulation', 'Action', 'Sports', 'Miscellaneous', 'Action', 'Action Adventure', 'Action', 'Role-Playing', 'Strategy', 'Action', 'Action Adventure', 'Action', 'Role-Playing', 'Strategy', 'Action', 'Action Adventure', 'Action', 'Role-Playing', 'Strategy', 'Action', 'Action Adventure', 'Action', 'Role-Playing', 'Strategy', 'Miscellaneous', 'Action', 'Action Adventure', 'Action Adventure', 'Action Adventure', 'Role-Playing', 'Role-Playing', 'Strategy', 'Sports', 'Action', 'Adventure', 'Strategy', 'Miscellaneous', 'Sports', 'Action Adventure', 'Miscellaneous', 'Action', 'Action', 'Driving', 'Action', 'Role-Playing', 'Sports', 'Adventure', 'Action', 'Action Adventure', 'Strategy', 'Strategy', 'Miscellaneous', 'Action', 'Role-Playing', 'Action', 'Action', 'Action Adventure', 'Action', 'Action', 'Strategy', 'Action', 'Action', 'Action', 'Action', 'Action Adventure', 'Role-Playing', 'Action', 'Action', 'Adventure', 'Miscellaneous', 'Action', 'Miscellaneous', 'Role-Playing', 'Racing', 'Miscellaneous', 'Action Adventure', 'Action Adventure', 'Action', 'Simulation', 'Action Adventure', 'Action Adventure', 'Role-Playing', 'Action', 'Adventure', 'Sports', 'Miscellaneous', 'Action', 'Action', 'Role-Playing', 'Driving', 'Action', 'Strategy', 'Action', 'Action', 'Adventure', 'Action', 'Action', 'Role-Playing', 'Action Adventure', 'Miscellaneous', 'Strategy', 'Sports', 'Role-Playing', 'Adventure', 'Adventure', 'Strategy', 'Miscellaneous', 'Action', 'Action Adventure', 'Adventure', 'Strategy', 'Miscellaneous', 'Action', 'Action Adventure', 'Adventure', 'Strategy', 'Miscellaneous', 'Action', 'Action Adventure', 'Adventure', 'Strategy', 'Miscellaneous', 'Action', 'Action Adventure', 'Action Adventure', 'Action', 'Role-Playing', 'Miscellaneous', 'Adventure', 'Action Adventure', 'Adventure', 'Action Adventure', 'Driving', 'Action', 'Action', 'Action Adventure', 'Action', 'Action Adventure', 'Driving', 'Action Adventure', 'Action', 'Driving', 'Action', 'Action', 'Action Adventure', 'Sports', 'Role-Playing', 'Action Adventure', 'Action', 'Action', 'Strategy', 'Action', 'Strategy', 'Action Adventure', 'Action Adventure', 'Driving', 'Action Adventure', 'General', 'Action', 'Shooter', 'Driving', 'Strategy', 'Adventure', 'Adventure', 'Action', 'Action', 'Action Adventure', 'Role-Playing', 'Simulation', 'Action', 'Action', 'Action Adventure', 'Strategy', 'Action', 'Action Adventure', 'Action', 'Role-Playing', 'Driving', 'Action', 'Action', 'Action', 'Driving', 'Action', 'Action Adventure', 'Miscellaneous', 'On GameFAQs', 'Action', 'Action Adventure', 'Shooter', 'Platformer', 'Sports', 'Action Adventure', 'Action', 'Action Adventure', 'Sports', 'Action', 'Action', 'Action', 'Action', 'Action', 'Miscellaneous', 'Sports', 'Strategy', 'Driving', 'Simulation', 'Action', 'Miscellaneous', 'Action Adventure', 'Action', 'Simulation', 'Action', 'Miscellaneous', 'Action Adventure', 'Action', 'Simulation', 'Action', 'Miscellaneous', 'Action Adventure', 'Action', 'Simulation', 'Action', 'Miscellaneous', 'Action Adventure', 'Action', 'Action', 'Action', 'Action', 'Strategy', 'Driving', 'Action', 'Action Adventure', 'Action', 'Miscellaneous', 'Strategy', 'Strategy', 'Shooter', 'Miscellaneous', 'Action Adventure', 'Action', 'Action Adventure', 'Sports', 'Sports', 'Action Adventure', 'Sports', 'Action', 'Action Adventure', 'Adventure', 'Adventure', 'Action Adventure', 'Action', 'Action', 'Role-Playing', 'Role-Playing', 'Action', 'Action', 'Action RPG', 'Action', 'Action', 'Action', 'Action', 'Action', 'Role-Playing', 'Sports', 'Sci-Fi', 'Action Adventure', 'Sports', 'Modern', 'Strategy', 'Role-Playing', 'Action Adventure', 'Action', 'Action', 'Sports', 'Simulation', 'Action', 'Action', 'Driving', 'Sports', 'Driving', 'Driving', 'Action', 'Strategy', 'Action Adventure', 'Adventure', 'Driving', 'Action Adventure', 'Action', 'Action Adventure', 'Action', 'Driving', 'Miscellaneous', 'Driving', 'Driving', 'Action', 'Sports', 'Sports', 'Action', 'Role-Playing', 'Action', 'Action', 'Strategy', 'Strategy', 'Action', 'Action', 'Action', 'Adventure', 'Adventure', 'Action', 'Action Adventure', 'Action', 'Adventure', 'Adventure', 'Action', 'Action Adventure', 'Action', 'Adventure', 'Adventure', 'Action', 'Action Adventure', 'Action', 'Adventure', 'Adventure', 'Action', 'Action Adventure', 'Action Adventure', 'Action', 'Role-Playing', 'Adventure', 'Action Adventure', 'Miscellaneous', 'Action', 'Action', 'Action', 'Simulation', 'Action', 'Adventure', 'Action', 'Strategy', 'Miscellaneous', 'Action', 'Action', 'Miscellaneous', 'Action', 'Action', 'Miscellaneous', 'Action', 'Action', 'Action', 'Driving', 'Sports', 'Sports', 'Puzzle', 'Strategy', 'Simulation', 'Action', 'Sports', 'Action', 'Racing', 'Action Adventure', 'Action', 'Action Adventure', 'Action Adventure', 'Driving', 'Action', 'Action Adventure', 'Action Adventure', 'Sports', 'Action Adventure', 'Action Adventure', 'Simulation', 'Simulation', 'Action', 'Strategy', 'Action Adventure', 'Action Adventure', 'Action Adventure', 'Action Adventure', 'Puzzle', 'Action', 'Miscellaneous', 'Driving', 'Action Adventure', 'Action', 'Action', 'Role-Playing', 'Action', 'Horror', 'Driving', 'Role-Playing', 'Action Adventure', 'Simulation', 'Action Adventure', 'Sports', 'Simulation', 'Action', 'Action', 'Simulation', 'Action Adventure', 'Action', 'General', 'Action', 'Action', 'Simulation', 'Action Adventure', 'Sports', 'Action Adventure', 'Driving', 'Action Adventure', 'Action', 'Sports', 'Action Adventure', 'Driving', 'Action Adventure', 'Action', 'Sports', 'Action Adventure', 'Driving', 'Action Adventure', 'Action', 'Sports', 'Action Adventure', 'Driving', 'Action Adventure', 'Action', 'Action', 'Action', 'Action', 'Action', 'Action', 'Action', 'Adventure', 'Action Adventure', 'Action Adventure', 'Action Adventure', 'Role-Playing', 'Sports', 'Role-Playing', 'Action', 'Action', 'Role-Playing', 'Role-Playing', 'Role-Playing', 'Miscellaneous', 'Simulation', 'Action', 'Adventure', 'Action', 'Role-Playing', 'Action', 'Action Adventure', 'Action', 'Miscellaneous', 'Simulation', 'Miscellaneous', 'Role-Playing', 'Action', 'Strategy', 'Adventure', 'Role-Playing', 'Action Adventure', 'Action', 'Horror', 'Action', 'Driving', 'Action', 'Driving', 'Action', 'Action', 'Action Adventure', 'Strategy', 'Action Adventure', 'Action', 'Adventure', 'Adventure', 'Action', 'Action', 'Miscellaneous', 'Strategy', 'Driving', 'Action', 'Action', 'Action', 'Action', 'Role-Playing', 'Action', 'Action', 'Action', 'Action Adventure', 'Sports', 'Action', 'Action', 'Strategy', 'Role-Playing', 'Action', 'Strategy', 'Action Adventure', 'Action Adventure', 'Miscellaneous', 'Miscellaneous', 'Strategy', 'Action', 'Adventure', 'Action', 'Action', 'Role-Playing', 'Action', 'Strategy', 'Action', 'Driving', 'Role-Playing', 'Action', 'Strategy', 'Action', 'Driving', 'Role-Playing', 'Action', 'Strategy', 'Action', 'Driving', 'Role-Playing', 'Action', 'Strategy', 'Action', 'Driving', 'Action', 'Role-Playing', 'Action', 'Driving', 'Action', 'Action', 'Sports', 'Action', 'Action', 'Action', 'Action', 'Action Adventure', 'Role-Playing', 'Action', 'Action', 'Action', 'Sports', 'Action Adventure', 'Simulation', 'Role-Playing', 'Role-Playing', 'Sports', 'Action', 'Adventure', 'Sports', 'Action Adventure', 'Action', 'Action', 'Action', 'Role-Playing', 'Adventure', 'Role-Playing', 'Sports', 'Action', 'Action Adventure', 'Action', 'Role-Playing', 'Miscellaneous', 'Driving', 'Miscellaneous', 'Action', 'Driving', 'Sports', 'Sports', 'Action Adventure', 'Action', 'Adventure', 'Action Adventure', 'Miscellaneous', 'Action Adventure', 'Strategy', 'Strategy', 'Action', 'Action Adventure', 'Action', 'Simulation', 'Action', 'Action Adventure', 'Action', 'Action', 'Action', 'Action', 'Strategy', 'Action', 'Miscellaneous', 'Action Adventure', 'Action', 'Action', 'Action', 'Action', 'Simulation', 'Role-Playing', 'Action', 'Simulation', 'Driving', 'Action', 'Action', 'Driving', 'Miscellaneous', 'Action', 'Role-Playing', 'Action', 'Action', 'Sports', 'Action', 'Role-Playing', 'Action', 'Action', 'Sports', 'Action', 'Role-Playing', 'Action', 'Action', 'Sports', 'Action', 'Role-Playing', 'Action', 'Action', 'Sports', 'Action', 'Sports', 'Action', 'Miscellaneous', 'Action', 'Adventure', 'Miscellaneous', 'Action', 'Adventure', 'Action Adventure', 'Action', 'Action', 'Miscellaneous', 'Action', 'Action', 'Action Adventure', 'Driving', 'Action Adventure', 'Action Adventure', 'Action', 'Driving', 'Action', 'Action', 'Action', 'Sports', 'Role-Playing', 'Strategy', 'Sports', 'First-Person', 'Role-Playing', 'Action', 'Miscellaneous', 'Action', 'Action', 'Action Adventure', 'Action Adventure', 'Action', 'Action', 'Strategy', 'Role-Playing', 'Strategy', 'Action Adventure', 'Action', 'Miscellaneous', 'Action', 'Miscellaneous', 'Sports', 'Simulation', 'Action', 'Miscellaneous', 'Action Adventure', 'Action', 'Strategy', 'Action', 'Racing', 'Action', 'Action', 'Action', 'Miscellaneous', 'WWII', 'Miscellaneous', 'Action', 'Miscellaneous', 'Puzzle', 'Action Adventure', 'Racing', '1 Player', 'Miscellaneous', 'Miscellaneous', 'Role-Playing', 'Action', 'Action Adventure', 'Adventure', 'Modern', 'Simulation', 'Action Adventure', 'Role-Playing', 'Platformer', 'Action', 'Role-Playing', 'Action', 'Driving', 'Action', 'Role-Playing', 'Action', 'Sports', 'Driving', 'Action', 'Role-Playing', 'Action', 'Sports', 'Driving', 'Action', 'Role-Playing', 'Action', 'Sports', 'Driving', 'Action', 'Role-Playing', 'Action', 'Sports', 'Sports', 'Action', 'Adventure', 'Action', 'Action', 'Action', 'Action', 'Strategy', 'Action', 'Role-Playing', 'Strategy', 'Action', 'Sports', 'Role-Playing', 'Action', 'Simulation', 'Action Adventure', 'Action Adventure', 'Action', 'Driving', 'Miscellaneous', 'Sports', 'Role-Playing', 'Action', 'Action', 'Action', 'Role-Playing', 'Action', 'Sci-Fi', 'Action Adventure', 'Horror', 'Action', 'Action', 'Strategy', 'Driving', 'Action', 'Driving', 'Role-Playing', 'Action', 'Puzzle', 'Action', 'Action Adventure', 'Action', 'Adventure', 'Strategy', 'Sports', 'Sports', 'Miscellaneous', 'Action', 'Driving', 'Action', 'Action', 'Action', 'Sports', 'Action', 'Adventure', 'Action Adventure', 'Sports', 'Action', 'Miscellaneous', 'Strategy', 'Strategy', 'Sports', 'Sports', 'Simulation', 'Role-Playing', 'Driving', 'Action', 'Strategy', 'Adventure', 'Action Adventure', 'Action', 'Action', 'Sports', 'Action', 'Sports', 'Action', 'Driving', 'Action', 'Action', 'Action', 'Action Adventure', 'Action', 'Action Adventure', 'Miscellaneous', 'Action', 'Action Adventure', 'Action', 'Action Adventure', 'Miscellaneous', 'Action', 'Action Adventure', 'Action', 'Action Adventure', 'Miscellaneous', 'Action', 'Action Adventure', 'Action', 'Action Adventure', 'Miscellaneous', 'Driving', 'Miscellaneous', 'Action', 'Sports', 'Driving', 'Simulation', 'Adventure', 'Sports', 'Fantasy', 'Role-Playing', 'Strategy', 'Action', 'Action', 'Action', 'Role-Playing', 'Role-Playing', 'Action', 'Driving', 'Action Adventure', 'Strategy', 'Role-Playing', 'Action', 'Action', 'Action', 'Action Adventure', 'Action', 'Simulation', 'Racing', 'Adventure', 'Miscellaneous', 'Action Adventure', 'Action', 'Action', 'Driving', 'Action Adventure', 'Third-Person', 'Simulation', 'Action', 'Sports', 'Action Adventure', 'Action', 'Action', 'Action Adventure', 'Simulation', 'Adventure', 'Sports', 'Action', 'Strategy', 'Role-Playing', 'Simulation', 'General', 'Action Adventure', 'Role-Playing', 'Action Adventure', 'Adventure', 'Action', 'Puzzle', 'Action', 'Action Adventure', 'Action', 'Strategy', 'Action', 'Miscellaneous', 'Simulation', 'Action', 'Action', 'Action', 'Action', 'Miscellaneous', 'Action', 'Action Adventure', 'Action', 'Sports', 'Action Adventure', 'Role-Playing', 'Action', 'Miscellaneous', 'Action Adventure', 'Driving', 'Strategy', 'Racing', 'Role-Playing', 'Driving', 'Action', 'Action', 'Racing', 'Role-Playing', 'Driving', 'Action', 'Action', 'Racing', 'Role-Playing', 'Driving', 'Action', 'Action', 'Racing', 'Role-Playing', 'Driving', 'Action', 'Action', 'Strategy', 'Sports', 'Simulation', 'Racing', 'Action Adventure', 'Action', 'Driving', 'Miscellaneous', 'Simulation', 'Action', 'Action', 'Action', 'Action Adventure', 'Action', 'Action', 'Role-Playing', 'Action Adventure', 'Action', 'Action Adventure', 'Action', 'Action', 'Action', 'Action', 'Action', 'Sports', 'Action', 'Miscellaneous', 'Action', 'Simulation', 'Action Adventure', 'Role-Playing', 'Action Adventure', 'Role-Playing', 'Role-Playing', 'Action', 'Strategy', 'Driving', 'Sports', 'Strategy', 'Adventure', 'Miscellaneous', 'Action', 'Action Adventure', 'Role-Playing', 'Action Adventure', 'Sports', 'Sports', 'Driving', 'Action', 'Action', 'Role-Playing', 'Strategy', 'Action', 'Strategy', 'Action', 'Miscellaneous', 'Action', 'Simulation', 'Role-Playing', 'Action Adventure', 'Action', 'Adventure', 'Action', 'Strategy', 'Action', 'Role-Playing', 'Driving', 'Action', 'General', 'Sports', 'Action', 'Sports', 'Sports', 'Action Adventure', 'Action', 'Action Adventure', 'Driving', 'Action Adventure', 'Action', 'Action', 'Action', 'Action', 'Driving', 'Action', 'Adventure', 'Action', 'Action', 'Driving', 'Action', 'Adventure', 'Action', 'Action', 'Driving', 'Action', 'Adventure', 'Action', 'Action', 'Driving', 'Action', 'Adventure', 'Role-Playing', 'Sports', 'Sports', 'Action', 'Action', 'Sports', 'Sports', 'Action', 'Strategy', 'Action', 'Action', 'Sports', 'Miscellaneous', 'Action', 'Sports', 'Action', 'Action', 'Action', 'Driving', 'Action', 'Action Adventure', 'Role-Playing', 'Action', 'Action Adventure', 'Miscellaneous', 'Action', 'Driving', 'Action Adventure', 'Simulation', 'Miscellaneous', 'Role-Playing', 'Action', 'Action', 'Miscellaneous', 'Strategy', 'Action Adventure', 'Action', 'Action', 'Action', 'Action', 'Action', 'Action', 'Driving', 'Action', 'Action', 'Adventure', 'Action Adventure', 'Strategy', 'Strategy', 'Action', 'Action', 'Action Adventure', 'Action', 'Sports', 'Action', 'Driving', 'Action', 'Role-Playing', 'Puzzle', 'Action Adventure', 'Action Adventure', 'Action', 'Action', 'Action Adventure', 'Action', 'Driving', 'Miscellaneous', 'Action', 'Action', 'Action', 'Action Adventure', 'Action', 'Sports', 'Driving', 'Action', 'Sports', 'Adventure', 'Action Adventure', 'Miscellaneous', 'Sports', 'Simulation', 'Action', 'Action', 'Strategy', 'Action', 'Simulation', 'Action', 'Action', 'Strategy', 'Action', 'Simulation', 'Action', 'Action', 'Strategy', 'Action', 'Simulation', 'Action', 'Action', 'Strategy', 'Action', 'Action', 'Role-Playing', 'Action', 'Strategy', 'Sports', 'Sports', 'Action', 'Action', 'Action Adventure', 'Action', 'Action', 'Action', 'Role-Playing', 'Driving', 'Action', 'Strategy', 'Action Adventure', 'Action', 'Action', 'Action', 'Sports', 'Action', 'Strategy', 'Sports', 'Sports', 'Action Adventure', 'Action', 'Role-Playing', 'Action', 'Sports', 'Action', 'Role-Playing', 'Action', 'Role-Playing', 'Shooter', 'Action', 'Action', 'Action Adventure', 'Action', 'Miscellaneous', 'Action Adventure', 'Action', 'Role-Playing', 'Role-Playing', 'Action', 'Driving', 'Action Adventure', 'Action', 'Action', 'Strategy', 'Action', 'On GameFAQs', 'Strategy', 'Sports', 'Action', 'Strategy', 'Modern', 'Action', 'General', 'Action', 'Sports', 'Miscellaneous', 'Miscellaneous', 'Action', 'Action', 'Action Adventure', 'Miscellaneous', 'Action', 'Action', 'Action', 'Simulation', 'Sports', 'Action', 'Action Adventure', 'Horror', 'Action', 'Action', 'Action Adventure', 'Adventure', 'Sports', 'Action', 'Action', 'Miscellaneous', 'Driving', 'Action Adventure', 'Action', 'Action', 'Miscellaneous', 'Driving', 'Action Adventure', 'Action', 'Action', 'Miscellaneous', 'Driving', 'Action Adventure', 'Action', 'Action', 'Miscellaneous', 'Driving', 'Action Adventure', 'Action', 'Tycoon', 'Action', 'Driving', 'Action', 'Arcade', 'Action', 'Action', 'Action', 'Action', 'Action', 'Miscellaneous', 'Action', 'Action Adventure', 'Sports', 'Action', 'Adventure', 'Role-Playing', 'Driving', 'Role-Playing', 'Role-Playing', 'Strategy', 'Action', 'Action Adventure', 'Strategy', 'Action Adventure', 'Action', 'Action', 'Strategy', 'Adventure', 'Action Adventure', 'Action', 'Action', 'Role-Playing', 'Miscellaneous', 'Role-Playing', 'Role-Playing', 'Miscellaneous', 'Action', 'Simulation', 'Role-Playing', 'Action', 'Racing', 'Adventure', 'Action', 'Action Adventure', 'Action', 'Action', 'Sports', 'Action', 'Miscellaneous', 'Action Adventure', 'Role-Playing', 'Action Adventure', 'Action', 'Strategy', 'Strategy', 'Action', 'Racing', 'Adventure', 'Sports', 'Adventure', 'Driving', 'Driving', 'Action', 'PC-style RPG', 'Action', 'Sports', 'Action', 'Action Adventure', 'Simulation', 'Action', 'Sports', 'Sports', 'Sports', 'Adventure', 'Action', 'Action', 'General', 'Driving', 'Action', 'Sports', 'Action', 'Action Adventure', 'Action', 'Action', 'Sports', 'Action', 'Action Adventure', 'Action', 'Action', 'Sports', 'Action', 'Action Adventure', 'Action', 'Action', 'Sports', 'Action', 'Action Adventure', 'Action', 'Action', 'Miscellaneous', 'Sports', 'Action Adventure', '1 Player', 'Sports', 'Strategy', 'Action', 'Driving', 'Sports', 'Action', 'Miscellaneous', 'Sports', 'Action', 'Strategy', 'Action', 'Action Adventure', 'Action Adventure', 'Action', 'Action', 'Adventure', 'Simulation', 'Role-Playing', 'Racing', 'General', 'Adventure', 'Simulation', 'Action', 'Action', 'Historic', 'Action', 'Action Adventure', 'Action Adventure', 'Action Adventure', 'Simulation', 'Action', 'Action', 'Action', 'Driving', 'Action', 'Driving', 'Action', 'Action Adventure', 'Role-Playing', 'Action Adventure', 'Driving', 'Action', 'Action', 'Action', 'Sports', 'Action Adventure', 'Action', 'Action Adventure', 'Action', 'Action', 'Simulation', 'Action Adventure', 'Action', 'Action', 'Miscellaneous', 'Sports', 'Action', 'Simulation', 'Adventure', 'Sports', 'Action', 'Action', 'Action', 'Action Adventure', 'Action', 'Sports', 'Action', 'Action', 'Action Adventure', 'Action', 'Action', 'Action Adventure', 'Action Adventure', 'Strategy', 'Action Adventure', 'Action Adventure', 'Action', 'Action Adventure', 'Action', 'Adventure', 'Action Adventure', 'Action', 'Action Adventure', 'Action', 'Adventure', 'Action Adventure', 'Action', 'Action Adventure', 'Action', 'Adventure', 'Action Adventure', 'Action', 'Action Adventure', 'Action', 'Adventure', 'Miscellaneous', 'Action Adventure', 'Action', 'Action', 'Action', 'Action', 'Adventure', 'Action', 'Sports', 'Action Adventure', 'Driving', 'Adventure', 'Action', 'Miscellaneous', 'Action Adventure', 'Action Adventure', 'Adventure', 'Sports', 'Action', 'Action', 'Action Adventure', 'Action', 'Action', 'Action', 'Driving', 'Driving', 'Action', 'Action', 'Action', 'Action', 'Action', 'Action', 'Action', 'Strategy', 'Driving', 'Driving', 'Action Adventure', 'Action Adventure', 'Action', 'Action', 'Action', 'Action Adventure', 'Action', 'Action', 'Sports', 'Strategy', 'Action', 'Sports', 'Action', 'Action', 'Action', 'Action', 'Action Adventure', 'Action Adventure', 'Action', 'Adventure', 'Action', 'Action', 'Action Adventure', 'Action', 'Strategy', 'Action Adventure', 'Sports', 'Action Adventure', 'Action', 'Simulation', 'Action', 'Action', 'Action', 'Sports', 'Action', 'Action', 'Action Adventure', 'Action', 'Action', 'Action Adventure', 'Action', 'Sports', 'Sports', 'Driving', 'Miscellaneous', 'Role-Playing', 'Miscellaneous', 'Sports', 'Sports', 'Miscellaneous', 'Role-Playing', 'Miscellaneous', 'Sports', 'Sports', 'Miscellaneous', 'Role-Playing', 'Miscellaneous', 'Sports', 'Sports', 'Miscellaneous', 'Role-Playing', 'Miscellaneous', 'Sports', 'Sports', 'Role-Playing', 'Adventure', 'Action', 'Action Adventure', 'Miscellaneous', 'Action', 'Action', 'Action', 'Action Adventure', 'Action', 'Miscellaneous', 'Strategy', 'Action', 'Action', 'Sports', 'Action', 'Action', 'Action', 'Action', 'Arcade', 'Racing', 'Action', 'Action', 'Action', 'Action', 'Action', 'Miscellaneous', 'Action', 'Simulation', 'Action', 'Sports', 'Action', 'Action Adventure', 'Simulation', 'Action', 'Action', 'Action', 'Action Adventure', 'Driving', 'Action', 'Action', 'Role-Playing', 'Action', 'Role-Playing', 'Action', 'Role-Playing', 'Action', 'Action', 'Action', 'Action', 'Action', 'Action', 'Action Adventure', 'Action Adventure', 'Action', 'Miscellaneous', 'Action', 'Driving', 'Action', 'Action Adventure', 'Action', 'Sports', 'Sports', 'Action', 'Action Adventure', 'Adventure', 'Action', 'Action', 'Action Adventure', 'Action', 'Role-Playing', 'Adventure', 'Action', 'Action', 'Sports', 'Strategy', 'Action', 'Driving', 'Action', 'Action', 'Action', 'Action', 'Action Adventure', 'Action Adventure', 'Action', 'Action', 'Action', 'Action Adventure', 'Action Adventure', 'Action', 'Action', 'Action', 'Action Adventure', 'Action Adventure', 'Action', 'Action', 'Action', 'Action Adventure', 'Action Adventure', 'Action', 'Action', 'Miscellaneous', 'Action Adventure', 'Action', 'Action', 'Action', 'Sports', 'Simulation', 'Simulation', 'Action Adventure', 'Action', 'Action Adventure', 'Strategy', 'Action', 'Shooter', 'Role-Playing', 'Action', 'Simulation', 'Action', 'Action', 'Action', 'Action', 'Action', 'Action', 'Sports', 'Action', 'Adventure', 'Action', 'Action Adventure', 'General', 'Action', 'Action', 'Miscellaneous', 'Action', 'Action', 'Action', 'Miscellaneous', 'Action', 'Driving', 'Strategy', 'Action', 'Sports', 'Action', 'Action', 'Action', 'Sports', 'Strategy', 'Action', 'Action', 'Adventure', 'Sports', 'Miscellaneous', 'Action', 'Driving', 'Strategy', 'Sports', 'Action', 'Action Adventure', 'Action', 'Action', 'Action Adventure', 'Action', 'Action', 'Miscellaneous', 'Action Adventure', 'Action', 'Action', 'Action', 'Action', 'Adventure', 'Action Adventure', 'Action', 'Racing', 'Miscellaneous', 'Action', 'Action', 'Action Adventure', 'Action', 'Online Multiplayer', 'Simulation']\n",
            "Total Indices to Drop:  512\n"
          ]
        }
      ]
    },
    {
      "cell_type": "code",
      "source": [
        "# Drop Empty Genre Data\n",
        "df = df.drop(indices_to_drop).reset_index(drop=True)"
      ],
      "metadata": {
        "id": "WMv8rybmDBwt"
      },
      "execution_count": 14,
      "outputs": []
    },
    {
      "cell_type": "code",
      "source": [
        "# Create a Column Named Primary Genre\n",
        "df[\"Primary Genre\"] = primary_genre_list"
      ],
      "metadata": {
        "id": "rprBqJj2DDAD"
      },
      "execution_count": 15,
      "outputs": []
    },
    {
      "cell_type": "code",
      "source": [
        "# Individual Primary Genre Values Count\n",
        "print(\"Primary Genre Value Count: \")\n",
        "df[\"Primary Genre\"].value_counts()"
      ],
      "metadata": {
        "colab": {
          "base_uri": "https://localhost:8080/"
        },
        "id": "vrxGMa21DERe",
        "outputId": "a6ef1518-ec2e-40e8-985e-23c7e0908488"
      },
      "execution_count": 16,
      "outputs": [
        {
          "output_type": "stream",
          "name": "stdout",
          "text": [
            "Primary Genre Value Count: \n"
          ]
        },
        {
          "output_type": "execute_result",
          "data": {
            "text/plain": [
              "Action                6436\n",
              "Action Adventure      2579\n",
              "Role-Playing          2081\n",
              "Sports                1620\n",
              "Strategy              1608\n",
              "                      ... \n",
              "Party / Minigame         1\n",
              "Survival                 1\n",
              "Street                   1\n",
              "Dancing                  1\n",
              "Online Multiplayer       1\n",
              "Name: Primary Genre, Length: 70, dtype: int64"
            ]
          },
          "metadata": {},
          "execution_count": 16
        }
      ]
    },
    {
      "cell_type": "code",
      "source": [
        "# After Inserting Primary Genre\n",
        "df.head()"
      ],
      "metadata": {
        "colab": {
          "base_uri": "https://localhost:8080/",
          "height": 0
        },
        "id": "8WwV4hNUDFuU",
        "outputId": "1ef1f99d-5bed-4e38-b879-1fadd39c5141"
      },
      "execution_count": 17,
      "outputs": [
        {
          "output_type": "execute_result",
          "data": {
            "text/plain": [
              "                                   Name  \\\n",
              "0  The Legend of Zelda: Ocarina of Time   \n",
              "1              Tony Hawk's Pro Skater 2   \n",
              "2                   Grand Theft Auto IV   \n",
              "3                           SoulCalibur   \n",
              "4                   Grand Theft Auto IV   \n",
              "\n",
              "                                                                                                                                                                                                                                                                                                                                                                                                                                                                                                                                                                                                                   Summary  \\\n",
              "0                                                                                                                                                                                                 As a young boy, Link is tricked by Ganondorf, the King of the Gerudo Thieves. The evil human uses Link to gain access to the Sacred Realm, where he places his tainted hands on Triforce and transforms the beautiful Hyrulean landscape into a barren wasteland. Link is determined to fix the problems he helped to create, so with the help of Rauru he travels through time gathering the powers of the Seven Sages.   \n",
              "1                                                                                                                                                                                                                                                                                                                                                                                                                As most major publishers' development efforts shift to any number of next-generation platforms, Tony Hawk 2 will likely stand as one of the last truly fantastic games to be released on the PlayStation.   \n",
              "2  [Metacritic's 2008 PS3 Game of the Year; Also known as \"GTA IV\"] What does the American Dream mean today? For Niko Belic, fresh off the boat from Europe. It's the hope he can escape his past. For his cousin, Roman, it is the vision that together they can find fortune in Liberty City, gateway to the land of opportunity. As they slip into debt and are dragged into a criminal underworld by a series of shysters, thieves and sociopaths, they discover that the reality is very different from the dream in a city that worships money and status, and is heaven for those who have them an a living nigh...   \n",
              "3                                                                                                                                                                                                                                                                                                                     This is a tale of souls and swords, transcending the world and all its history, told for all eternity... The greatest weapons-based fighter returns, this time on Sega Dreamcast. Soul Calibur unleashes incredible graphics, fantastic fighters, and combos so amazing they'll make your head spin!   \n",
              "4  [Metacritic's 2008 Xbox 360 Game of the Year; Also known as \"GTA IV\"] What does the American Dream mean today? For Niko Belic, fresh off the boat from Europe. It's the hope he can escape his past. For his cousin, Roman, it is the vision that together they can find fortune in Liberty City, gateway to the land of opportunity. As they slip into debt and are dragged into a criminal underworld by a series of shysters, thieves and sociopaths, they discover that the reality is very different from the dream in a city that worships money and status, and is heaven for those who have them an a living...   \n",
              "\n",
              "                                                   Genres     Primary Genre  \n",
              "0                         ['Action Adventure', 'Fantasy']  Action Adventure  \n",
              "1              ['Sports', 'Alternative', 'Skateboarding']            Sports  \n",
              "2  ['Action Adventure', 'Modern', 'Modern', 'Open-World']  Action Adventure  \n",
              "3                            ['Action', 'Fighting', '3D']            Action  \n",
              "4  ['Action Adventure', 'Modern', 'Modern', 'Open-World']  Action Adventure  "
            ],
            "text/html": [
              "\n",
              "\n",
              "  <div id=\"df-e49af5fa-3447-4518-b92a-4f5b0893a2e3\">\n",
              "    <div class=\"colab-df-container\">\n",
              "      <div>\n",
              "<style scoped>\n",
              "    .dataframe tbody tr th:only-of-type {\n",
              "        vertical-align: middle;\n",
              "    }\n",
              "\n",
              "    .dataframe tbody tr th {\n",
              "        vertical-align: top;\n",
              "    }\n",
              "\n",
              "    .dataframe thead th {\n",
              "        text-align: right;\n",
              "    }\n",
              "</style>\n",
              "<table border=\"1\" class=\"dataframe\">\n",
              "  <thead>\n",
              "    <tr style=\"text-align: right;\">\n",
              "      <th></th>\n",
              "      <th>Name</th>\n",
              "      <th>Summary</th>\n",
              "      <th>Genres</th>\n",
              "      <th>Primary Genre</th>\n",
              "    </tr>\n",
              "  </thead>\n",
              "  <tbody>\n",
              "    <tr>\n",
              "      <th>0</th>\n",
              "      <td>The Legend of Zelda: Ocarina of Time</td>\n",
              "      <td>As a young boy, Link is tricked by Ganondorf, the King of the Gerudo Thieves. The evil human uses Link to gain access to the Sacred Realm, where he places his tainted hands on Triforce and transforms the beautiful Hyrulean landscape into a barren wasteland. Link is determined to fix the problems he helped to create, so with the help of Rauru he travels through time gathering the powers of the Seven Sages.</td>\n",
              "      <td>['Action Adventure', 'Fantasy']</td>\n",
              "      <td>Action Adventure</td>\n",
              "    </tr>\n",
              "    <tr>\n",
              "      <th>1</th>\n",
              "      <td>Tony Hawk's Pro Skater 2</td>\n",
              "      <td>As most major publishers' development efforts shift to any number of next-generation platforms, Tony Hawk 2 will likely stand as one of the last truly fantastic games to be released on the PlayStation.</td>\n",
              "      <td>['Sports', 'Alternative', 'Skateboarding']</td>\n",
              "      <td>Sports</td>\n",
              "    </tr>\n",
              "    <tr>\n",
              "      <th>2</th>\n",
              "      <td>Grand Theft Auto IV</td>\n",
              "      <td>[Metacritic's 2008 PS3 Game of the Year; Also known as \"GTA IV\"] What does the American Dream mean today? For Niko Belic, fresh off the boat from Europe. It's the hope he can escape his past. For his cousin, Roman, it is the vision that together they can find fortune in Liberty City, gateway to the land of opportunity. As they slip into debt and are dragged into a criminal underworld by a series of shysters, thieves and sociopaths, they discover that the reality is very different from the dream in a city that worships money and status, and is heaven for those who have them an a living nigh...</td>\n",
              "      <td>['Action Adventure', 'Modern', 'Modern', 'Open-World']</td>\n",
              "      <td>Action Adventure</td>\n",
              "    </tr>\n",
              "    <tr>\n",
              "      <th>3</th>\n",
              "      <td>SoulCalibur</td>\n",
              "      <td>This is a tale of souls and swords, transcending the world and all its history, told for all eternity... The greatest weapons-based fighter returns, this time on Sega Dreamcast. Soul Calibur unleashes incredible graphics, fantastic fighters, and combos so amazing they'll make your head spin!</td>\n",
              "      <td>['Action', 'Fighting', '3D']</td>\n",
              "      <td>Action</td>\n",
              "    </tr>\n",
              "    <tr>\n",
              "      <th>4</th>\n",
              "      <td>Grand Theft Auto IV</td>\n",
              "      <td>[Metacritic's 2008 Xbox 360 Game of the Year; Also known as \"GTA IV\"] What does the American Dream mean today? For Niko Belic, fresh off the boat from Europe. It's the hope he can escape his past. For his cousin, Roman, it is the vision that together they can find fortune in Liberty City, gateway to the land of opportunity. As they slip into debt and are dragged into a criminal underworld by a series of shysters, thieves and sociopaths, they discover that the reality is very different from the dream in a city that worships money and status, and is heaven for those who have them an a living...</td>\n",
              "      <td>['Action Adventure', 'Modern', 'Modern', 'Open-World']</td>\n",
              "      <td>Action Adventure</td>\n",
              "    </tr>\n",
              "  </tbody>\n",
              "</table>\n",
              "</div>\n",
              "      <button class=\"colab-df-convert\" onclick=\"convertToInteractive('df-e49af5fa-3447-4518-b92a-4f5b0893a2e3')\"\n",
              "              title=\"Convert this dataframe to an interactive table.\"\n",
              "              style=\"display:none;\">\n",
              "\n",
              "  <svg xmlns=\"http://www.w3.org/2000/svg\" height=\"24px\"viewBox=\"0 0 24 24\"\n",
              "       width=\"24px\">\n",
              "    <path d=\"M0 0h24v24H0V0z\" fill=\"none\"/>\n",
              "    <path d=\"M18.56 5.44l.94 2.06.94-2.06 2.06-.94-2.06-.94-.94-2.06-.94 2.06-2.06.94zm-11 1L8.5 8.5l.94-2.06 2.06-.94-2.06-.94L8.5 2.5l-.94 2.06-2.06.94zm10 10l.94 2.06.94-2.06 2.06-.94-2.06-.94-.94-2.06-.94 2.06-2.06.94z\"/><path d=\"M17.41 7.96l-1.37-1.37c-.4-.4-.92-.59-1.43-.59-.52 0-1.04.2-1.43.59L10.3 9.45l-7.72 7.72c-.78.78-.78 2.05 0 2.83L4 21.41c.39.39.9.59 1.41.59.51 0 1.02-.2 1.41-.59l7.78-7.78 2.81-2.81c.8-.78.8-2.07 0-2.86zM5.41 20L4 18.59l7.72-7.72 1.47 1.35L5.41 20z\"/>\n",
              "  </svg>\n",
              "      </button>\n",
              "\n",
              "\n",
              "\n",
              "    <div id=\"df-168fe599-cf02-405c-af14-d3a0f2551e8f\">\n",
              "      <button class=\"colab-df-quickchart\" onclick=\"quickchart('df-168fe599-cf02-405c-af14-d3a0f2551e8f')\"\n",
              "              title=\"Suggest charts.\"\n",
              "              style=\"display:none;\">\n",
              "\n",
              "<svg xmlns=\"http://www.w3.org/2000/svg\" height=\"24px\"viewBox=\"0 0 24 24\"\n",
              "     width=\"24px\">\n",
              "    <g>\n",
              "        <path d=\"M19 3H5c-1.1 0-2 .9-2 2v14c0 1.1.9 2 2 2h14c1.1 0 2-.9 2-2V5c0-1.1-.9-2-2-2zM9 17H7v-7h2v7zm4 0h-2V7h2v10zm4 0h-2v-4h2v4z\"/>\n",
              "    </g>\n",
              "</svg>\n",
              "      </button>\n",
              "    </div>\n",
              "\n",
              "<style>\n",
              "  .colab-df-quickchart {\n",
              "    background-color: #E8F0FE;\n",
              "    border: none;\n",
              "    border-radius: 50%;\n",
              "    cursor: pointer;\n",
              "    display: none;\n",
              "    fill: #1967D2;\n",
              "    height: 32px;\n",
              "    padding: 0 0 0 0;\n",
              "    width: 32px;\n",
              "  }\n",
              "\n",
              "  .colab-df-quickchart:hover {\n",
              "    background-color: #E2EBFA;\n",
              "    box-shadow: 0px 1px 2px rgba(60, 64, 67, 0.3), 0px 1px 3px 1px rgba(60, 64, 67, 0.15);\n",
              "    fill: #174EA6;\n",
              "  }\n",
              "\n",
              "  [theme=dark] .colab-df-quickchart {\n",
              "    background-color: #3B4455;\n",
              "    fill: #D2E3FC;\n",
              "  }\n",
              "\n",
              "  [theme=dark] .colab-df-quickchart:hover {\n",
              "    background-color: #434B5C;\n",
              "    box-shadow: 0px 1px 3px 1px rgba(0, 0, 0, 0.15);\n",
              "    filter: drop-shadow(0px 1px 2px rgba(0, 0, 0, 0.3));\n",
              "    fill: #FFFFFF;\n",
              "  }\n",
              "</style>\n",
              "\n",
              "    <script>\n",
              "      async function quickchart(key) {\n",
              "        const containerElement = document.querySelector('#' + key);\n",
              "        const charts = await google.colab.kernel.invokeFunction(\n",
              "            'suggestCharts', [key], {});\n",
              "      }\n",
              "    </script>\n",
              "\n",
              "\n",
              "      <script>\n",
              "\n",
              "function displayQuickchartButton(domScope) {\n",
              "  let quickchartButtonEl =\n",
              "    domScope.querySelector('#df-168fe599-cf02-405c-af14-d3a0f2551e8f button.colab-df-quickchart');\n",
              "  quickchartButtonEl.style.display =\n",
              "    google.colab.kernel.accessAllowed ? 'block' : 'none';\n",
              "}\n",
              "\n",
              "        displayQuickchartButton(document);\n",
              "      </script>\n",
              "      <style>\n",
              "    .colab-df-container {\n",
              "      display:flex;\n",
              "      flex-wrap:wrap;\n",
              "      gap: 12px;\n",
              "    }\n",
              "\n",
              "    .colab-df-convert {\n",
              "      background-color: #E8F0FE;\n",
              "      border: none;\n",
              "      border-radius: 50%;\n",
              "      cursor: pointer;\n",
              "      display: none;\n",
              "      fill: #1967D2;\n",
              "      height: 32px;\n",
              "      padding: 0 0 0 0;\n",
              "      width: 32px;\n",
              "    }\n",
              "\n",
              "    .colab-df-convert:hover {\n",
              "      background-color: #E2EBFA;\n",
              "      box-shadow: 0px 1px 2px rgba(60, 64, 67, 0.3), 0px 1px 3px 1px rgba(60, 64, 67, 0.15);\n",
              "      fill: #174EA6;\n",
              "    }\n",
              "\n",
              "    [theme=dark] .colab-df-convert {\n",
              "      background-color: #3B4455;\n",
              "      fill: #D2E3FC;\n",
              "    }\n",
              "\n",
              "    [theme=dark] .colab-df-convert:hover {\n",
              "      background-color: #434B5C;\n",
              "      box-shadow: 0px 1px 3px 1px rgba(0, 0, 0, 0.15);\n",
              "      filter: drop-shadow(0px 1px 2px rgba(0, 0, 0, 0.3));\n",
              "      fill: #FFFFFF;\n",
              "    }\n",
              "  </style>\n",
              "\n",
              "      <script>\n",
              "        const buttonEl =\n",
              "          document.querySelector('#df-e49af5fa-3447-4518-b92a-4f5b0893a2e3 button.colab-df-convert');\n",
              "        buttonEl.style.display =\n",
              "          google.colab.kernel.accessAllowed ? 'block' : 'none';\n",
              "\n",
              "        async function convertToInteractive(key) {\n",
              "          const element = document.querySelector('#df-e49af5fa-3447-4518-b92a-4f5b0893a2e3');\n",
              "          const dataTable =\n",
              "            await google.colab.kernel.invokeFunction('convertToInteractive',\n",
              "                                                     [key], {});\n",
              "          if (!dataTable) return;\n",
              "\n",
              "          const docLinkHtml = 'Like what you see? Visit the ' +\n",
              "            '<a target=\"_blank\" href=https://colab.research.google.com/notebooks/data_table.ipynb>data table notebook</a>'\n",
              "            + ' to learn more about interactive tables.';\n",
              "          element.innerHTML = '';\n",
              "          dataTable['output_type'] = 'display_data';\n",
              "          await google.colab.output.renderOutput(dataTable, element);\n",
              "          const docLink = document.createElement('div');\n",
              "          docLink.innerHTML = docLinkHtml;\n",
              "          element.appendChild(docLink);\n",
              "        }\n",
              "      </script>\n",
              "    </div>\n",
              "  </div>\n"
            ]
          },
          "metadata": {},
          "execution_count": 17
        }
      ]
    },
    {
      "cell_type": "markdown",
      "source": [
        "### Removing Rare Genres"
      ],
      "metadata": {
        "id": "2M-pxR8RDHSa"
      }
    },
    {
      "cell_type": "code",
      "source": [
        "genre_count = df[\"Primary Genre\"].value_counts()\n",
        "threshold = int(len(df) * 0.004)\n",
        "\n",
        "rare_genres = [item for item, count in genre_count.items() if count < threshold]\n",
        "\n",
        "print(\"Total Rare Genres: \", len(rare_genres))"
      ],
      "metadata": {
        "colab": {
          "base_uri": "https://localhost:8080/"
        },
        "id": "VOuJlzIrDIyw",
        "outputId": "e1ca6e7b-b37a-4010-9ecd-3bcc4834c3d5"
      },
      "execution_count": 18,
      "outputs": [
        {
          "output_type": "stream",
          "name": "stdout",
          "text": [
            "Total Rare Genres:  58\n"
          ]
        }
      ]
    },
    {
      "cell_type": "code",
      "source": [
        "# Rare indices to drop\n",
        "rare_indices_to_drop = [index for index, row in df.iterrows() if row[\"Primary Genre\"] in rare_genres]\n",
        "\n",
        "print(\"Total Rare Indices to Drop: \", len(rare_indices_to_drop))"
      ],
      "metadata": {
        "colab": {
          "base_uri": "https://localhost:8080/"
        },
        "id": "W04Bec0LDKNl",
        "outputId": "1fe1dcee-111a-4878-c931-4965c1711e39"
      },
      "execution_count": 19,
      "outputs": [
        {
          "output_type": "stream",
          "name": "stdout",
          "text": [
            "Total Rare Indices to Drop:  493\n"
          ]
        }
      ]
    },
    {
      "cell_type": "code",
      "source": [
        "# Drop Rare Genres\n",
        "df = df.drop(rare_indices_to_drop).reset_index(drop=True)"
      ],
      "metadata": {
        "id": "NtU7YB9cDLdL"
      },
      "execution_count": 20,
      "outputs": []
    },
    {
      "cell_type": "code",
      "source": [
        "# Shape After Dropping Rare Genres\n",
        "df.shape"
      ],
      "metadata": {
        "colab": {
          "base_uri": "https://localhost:8080/"
        },
        "id": "NwnVLNHiDMqg",
        "outputId": "51feb56f-5b5e-4c7a-a32c-fe774bfb86a4"
      },
      "execution_count": 21,
      "outputs": [
        {
          "output_type": "execute_result",
          "data": {
            "text/plain": [
              "(19401, 4)"
            ]
          },
          "metadata": {},
          "execution_count": 21
        }
      ]
    },
    {
      "cell_type": "code",
      "source": [
        "# Show Remaining Primary Genres\n",
        "print(\"Total Remaining Genres Count: \", len(df[\"Primary Genre\"].value_counts()))\n",
        "\n",
        "print(\"Individual Genres Count: \")\n",
        "df[\"Primary Genre\"].value_counts()"
      ],
      "metadata": {
        "colab": {
          "base_uri": "https://localhost:8080/"
        },
        "id": "6Dl-9FDdDN3V",
        "outputId": "78c0e7a6-9957-4973-afc2-94f0afd27012"
      },
      "execution_count": 22,
      "outputs": [
        {
          "output_type": "stream",
          "name": "stdout",
          "text": [
            "Total Remaining Genres Count:  12\n",
            "Individual Genres Count: \n"
          ]
        },
        {
          "output_type": "execute_result",
          "data": {
            "text/plain": [
              "Action              6436\n",
              "Action Adventure    2579\n",
              "Role-Playing        2081\n",
              "Sports              1620\n",
              "Strategy            1608\n",
              "Miscellaneous       1366\n",
              "Adventure           1346\n",
              "Driving              921\n",
              "Simulation           640\n",
              "Racing               355\n",
              "General              249\n",
              "Puzzle               200\n",
              "Name: Primary Genre, dtype: int64"
            ]
          },
          "metadata": {},
          "execution_count": 22
        }
      ]
    },
    {
      "cell_type": "code",
      "source": [
        "# Drop Genres Column\n",
        "df.drop([\"Genres\"], axis = 1, inplace = True)"
      ],
      "metadata": {
        "id": "4ZeDJacMDPSZ"
      },
      "execution_count": 23,
      "outputs": []
    },
    {
      "cell_type": "code",
      "source": [
        "# Drop Duplicate Summary from the DataFrame\n",
        "df = df.drop_duplicates(subset = \"Summary\", keep='first')"
      ],
      "metadata": {
        "id": "IBTtlKWnDSJ9"
      },
      "execution_count": 24,
      "outputs": []
    },
    {
      "cell_type": "code",
      "source": [
        "# Get Labels\n",
        "labels = list(set(df[\"Primary Genre\"].to_list()))\n",
        "label_count = len(labels)\n",
        "\n",
        "print(\"Total Label Count: \", label_count)\n",
        "print(\"Labels: \", labels)"
      ],
      "metadata": {
        "colab": {
          "base_uri": "https://localhost:8080/"
        },
        "id": "w9swjE5EDTd7",
        "outputId": "e65c7630-0029-4115-8283-3e63d9ae35cc"
      },
      "execution_count": 25,
      "outputs": [
        {
          "output_type": "stream",
          "name": "stdout",
          "text": [
            "Total Label Count:  12\n",
            "Labels:  ['General', 'Sports', 'Driving', 'Strategy', 'Adventure', 'Racing', 'Action', 'Action Adventure', 'Miscellaneous', 'Role-Playing', 'Puzzle', 'Simulation']\n"
          ]
        }
      ]
    },
    {
      "cell_type": "code",
      "source": [
        "# Total Null Values in the Columns\n",
        "df.isna().sum()"
      ],
      "metadata": {
        "colab": {
          "base_uri": "https://localhost:8080/"
        },
        "id": "5cNztQe5DUpo",
        "outputId": "e9ad9234-d3a3-4233-9dbb-9f173a565291"
      },
      "execution_count": 26,
      "outputs": [
        {
          "output_type": "execute_result",
          "data": {
            "text/plain": [
              "Name             0\n",
              "Summary          1\n",
              "Primary Genre    0\n",
              "dtype: int64"
            ]
          },
          "metadata": {},
          "execution_count": 26
        }
      ]
    },
    {
      "cell_type": "code",
      "source": [
        "# Drop Null Values\n",
        "df = df.dropna()"
      ],
      "metadata": {
        "id": "Up7AB1hfDVxj"
      },
      "execution_count": 27,
      "outputs": []
    },
    {
      "cell_type": "code",
      "source": [
        "# Description of The DataFrame\n",
        "df.describe(include=\"object\")"
      ],
      "metadata": {
        "colab": {
          "base_uri": "https://localhost:8080/",
          "height": 0
        },
        "id": "L35umXuRDXgk",
        "outputId": "9a8a5149-ec8d-428b-c7b5-46a7e686b73f"
      },
      "execution_count": 28,
      "outputs": [
        {
          "output_type": "execute_result",
          "data": {
            "text/plain": [
              "                      Name  \\\n",
              "count                15037   \n",
              "unique               12411   \n",
              "top     MX vs. ATV Untamed   \n",
              "freq                     6   \n",
              "\n",
              "                                                                                                                                                                                                                                                                                                                                                                                                                         Summary  \\\n",
              "count                                                                                                                                                                                                                                                                                                                                                                                                                      15037   \n",
              "unique                                                                                                                                                                                                                                                                                                                                                                                                                     15037   \n",
              "top     As a young boy, Link is tricked by Ganondorf, the King of the Gerudo Thieves. The evil human uses Link to gain access to the Sacred Realm, where he places his tainted hands on Triforce and transforms the beautiful Hyrulean landscape into a barren wasteland. Link is determined to fix the problems he helped to create, so with the help of Rauru he travels through time gathering the powers of the Seven Sages.   \n",
              "freq                                                                                                                                                                                                                                                                                                                                                                                                                           1   \n",
              "\n",
              "       Primary Genre  \n",
              "count          15037  \n",
              "unique            12  \n",
              "top           Action  \n",
              "freq            4915  "
            ],
            "text/html": [
              "\n",
              "\n",
              "  <div id=\"df-0cefdc2a-1362-4f8b-987c-fdda96bba738\">\n",
              "    <div class=\"colab-df-container\">\n",
              "      <div>\n",
              "<style scoped>\n",
              "    .dataframe tbody tr th:only-of-type {\n",
              "        vertical-align: middle;\n",
              "    }\n",
              "\n",
              "    .dataframe tbody tr th {\n",
              "        vertical-align: top;\n",
              "    }\n",
              "\n",
              "    .dataframe thead th {\n",
              "        text-align: right;\n",
              "    }\n",
              "</style>\n",
              "<table border=\"1\" class=\"dataframe\">\n",
              "  <thead>\n",
              "    <tr style=\"text-align: right;\">\n",
              "      <th></th>\n",
              "      <th>Name</th>\n",
              "      <th>Summary</th>\n",
              "      <th>Primary Genre</th>\n",
              "    </tr>\n",
              "  </thead>\n",
              "  <tbody>\n",
              "    <tr>\n",
              "      <th>count</th>\n",
              "      <td>15037</td>\n",
              "      <td>15037</td>\n",
              "      <td>15037</td>\n",
              "    </tr>\n",
              "    <tr>\n",
              "      <th>unique</th>\n",
              "      <td>12411</td>\n",
              "      <td>15037</td>\n",
              "      <td>12</td>\n",
              "    </tr>\n",
              "    <tr>\n",
              "      <th>top</th>\n",
              "      <td>MX vs. ATV Untamed</td>\n",
              "      <td>As a young boy, Link is tricked by Ganondorf, the King of the Gerudo Thieves. The evil human uses Link to gain access to the Sacred Realm, where he places his tainted hands on Triforce and transforms the beautiful Hyrulean landscape into a barren wasteland. Link is determined to fix the problems he helped to create, so with the help of Rauru he travels through time gathering the powers of the Seven Sages.</td>\n",
              "      <td>Action</td>\n",
              "    </tr>\n",
              "    <tr>\n",
              "      <th>freq</th>\n",
              "      <td>6</td>\n",
              "      <td>1</td>\n",
              "      <td>4915</td>\n",
              "    </tr>\n",
              "  </tbody>\n",
              "</table>\n",
              "</div>\n",
              "      <button class=\"colab-df-convert\" onclick=\"convertToInteractive('df-0cefdc2a-1362-4f8b-987c-fdda96bba738')\"\n",
              "              title=\"Convert this dataframe to an interactive table.\"\n",
              "              style=\"display:none;\">\n",
              "\n",
              "  <svg xmlns=\"http://www.w3.org/2000/svg\" height=\"24px\"viewBox=\"0 0 24 24\"\n",
              "       width=\"24px\">\n",
              "    <path d=\"M0 0h24v24H0V0z\" fill=\"none\"/>\n",
              "    <path d=\"M18.56 5.44l.94 2.06.94-2.06 2.06-.94-2.06-.94-.94-2.06-.94 2.06-2.06.94zm-11 1L8.5 8.5l.94-2.06 2.06-.94-2.06-.94L8.5 2.5l-.94 2.06-2.06.94zm10 10l.94 2.06.94-2.06 2.06-.94-2.06-.94-.94-2.06-.94 2.06-2.06.94z\"/><path d=\"M17.41 7.96l-1.37-1.37c-.4-.4-.92-.59-1.43-.59-.52 0-1.04.2-1.43.59L10.3 9.45l-7.72 7.72c-.78.78-.78 2.05 0 2.83L4 21.41c.39.39.9.59 1.41.59.51 0 1.02-.2 1.41-.59l7.78-7.78 2.81-2.81c.8-.78.8-2.07 0-2.86zM5.41 20L4 18.59l7.72-7.72 1.47 1.35L5.41 20z\"/>\n",
              "  </svg>\n",
              "      </button>\n",
              "\n",
              "\n",
              "\n",
              "    <div id=\"df-2a56b1ba-4a87-45d1-b28c-e3639e363c72\">\n",
              "      <button class=\"colab-df-quickchart\" onclick=\"quickchart('df-2a56b1ba-4a87-45d1-b28c-e3639e363c72')\"\n",
              "              title=\"Suggest charts.\"\n",
              "              style=\"display:none;\">\n",
              "\n",
              "<svg xmlns=\"http://www.w3.org/2000/svg\" height=\"24px\"viewBox=\"0 0 24 24\"\n",
              "     width=\"24px\">\n",
              "    <g>\n",
              "        <path d=\"M19 3H5c-1.1 0-2 .9-2 2v14c0 1.1.9 2 2 2h14c1.1 0 2-.9 2-2V5c0-1.1-.9-2-2-2zM9 17H7v-7h2v7zm4 0h-2V7h2v10zm4 0h-2v-4h2v4z\"/>\n",
              "    </g>\n",
              "</svg>\n",
              "      </button>\n",
              "    </div>\n",
              "\n",
              "<style>\n",
              "  .colab-df-quickchart {\n",
              "    background-color: #E8F0FE;\n",
              "    border: none;\n",
              "    border-radius: 50%;\n",
              "    cursor: pointer;\n",
              "    display: none;\n",
              "    fill: #1967D2;\n",
              "    height: 32px;\n",
              "    padding: 0 0 0 0;\n",
              "    width: 32px;\n",
              "  }\n",
              "\n",
              "  .colab-df-quickchart:hover {\n",
              "    background-color: #E2EBFA;\n",
              "    box-shadow: 0px 1px 2px rgba(60, 64, 67, 0.3), 0px 1px 3px 1px rgba(60, 64, 67, 0.15);\n",
              "    fill: #174EA6;\n",
              "  }\n",
              "\n",
              "  [theme=dark] .colab-df-quickchart {\n",
              "    background-color: #3B4455;\n",
              "    fill: #D2E3FC;\n",
              "  }\n",
              "\n",
              "  [theme=dark] .colab-df-quickchart:hover {\n",
              "    background-color: #434B5C;\n",
              "    box-shadow: 0px 1px 3px 1px rgba(0, 0, 0, 0.15);\n",
              "    filter: drop-shadow(0px 1px 2px rgba(0, 0, 0, 0.3));\n",
              "    fill: #FFFFFF;\n",
              "  }\n",
              "</style>\n",
              "\n",
              "    <script>\n",
              "      async function quickchart(key) {\n",
              "        const containerElement = document.querySelector('#' + key);\n",
              "        const charts = await google.colab.kernel.invokeFunction(\n",
              "            'suggestCharts', [key], {});\n",
              "      }\n",
              "    </script>\n",
              "\n",
              "\n",
              "      <script>\n",
              "\n",
              "function displayQuickchartButton(domScope) {\n",
              "  let quickchartButtonEl =\n",
              "    domScope.querySelector('#df-2a56b1ba-4a87-45d1-b28c-e3639e363c72 button.colab-df-quickchart');\n",
              "  quickchartButtonEl.style.display =\n",
              "    google.colab.kernel.accessAllowed ? 'block' : 'none';\n",
              "}\n",
              "\n",
              "        displayQuickchartButton(document);\n",
              "      </script>\n",
              "      <style>\n",
              "    .colab-df-container {\n",
              "      display:flex;\n",
              "      flex-wrap:wrap;\n",
              "      gap: 12px;\n",
              "    }\n",
              "\n",
              "    .colab-df-convert {\n",
              "      background-color: #E8F0FE;\n",
              "      border: none;\n",
              "      border-radius: 50%;\n",
              "      cursor: pointer;\n",
              "      display: none;\n",
              "      fill: #1967D2;\n",
              "      height: 32px;\n",
              "      padding: 0 0 0 0;\n",
              "      width: 32px;\n",
              "    }\n",
              "\n",
              "    .colab-df-convert:hover {\n",
              "      background-color: #E2EBFA;\n",
              "      box-shadow: 0px 1px 2px rgba(60, 64, 67, 0.3), 0px 1px 3px 1px rgba(60, 64, 67, 0.15);\n",
              "      fill: #174EA6;\n",
              "    }\n",
              "\n",
              "    [theme=dark] .colab-df-convert {\n",
              "      background-color: #3B4455;\n",
              "      fill: #D2E3FC;\n",
              "    }\n",
              "\n",
              "    [theme=dark] .colab-df-convert:hover {\n",
              "      background-color: #434B5C;\n",
              "      box-shadow: 0px 1px 3px 1px rgba(0, 0, 0, 0.15);\n",
              "      filter: drop-shadow(0px 1px 2px rgba(0, 0, 0, 0.3));\n",
              "      fill: #FFFFFF;\n",
              "    }\n",
              "  </style>\n",
              "\n",
              "      <script>\n",
              "        const buttonEl =\n",
              "          document.querySelector('#df-0cefdc2a-1362-4f8b-987c-fdda96bba738 button.colab-df-convert');\n",
              "        buttonEl.style.display =\n",
              "          google.colab.kernel.accessAllowed ? 'block' : 'none';\n",
              "\n",
              "        async function convertToInteractive(key) {\n",
              "          const element = document.querySelector('#df-0cefdc2a-1362-4f8b-987c-fdda96bba738');\n",
              "          const dataTable =\n",
              "            await google.colab.kernel.invokeFunction('convertToInteractive',\n",
              "                                                     [key], {});\n",
              "          if (!dataTable) return;\n",
              "\n",
              "          const docLinkHtml = 'Like what you see? Visit the ' +\n",
              "            '<a target=\"_blank\" href=https://colab.research.google.com/notebooks/data_table.ipynb>data table notebook</a>'\n",
              "            + ' to learn more about interactive tables.';\n",
              "          element.innerHTML = '';\n",
              "          dataTable['output_type'] = 'display_data';\n",
              "          await google.colab.output.renderOutput(dataTable, element);\n",
              "          const docLink = document.createElement('div');\n",
              "          docLink.innerHTML = docLinkHtml;\n",
              "          element.appendChild(docLink);\n",
              "        }\n",
              "      </script>\n",
              "    </div>\n",
              "  </div>\n"
            ]
          },
          "metadata": {},
          "execution_count": 28
        }
      ]
    },
    {
      "cell_type": "markdown",
      "source": [
        "## Data-Loaders and Model Setup"
      ],
      "metadata": {
        "id": "M7qcdGRkDZv5"
      }
    },
    {
      "cell_type": "code",
      "source": [
        "model_cls = AutoModelForSequenceClassification\n",
        "\n",
        "model_name = \"distilroberta-base\"\n",
        "\n",
        "config = AutoConfig.from_pretrained(model_name)\n",
        "config.num_labels = label_count\n",
        "\n",
        "hf_arch, hf_config, hf_tokenizer, hf_model = get_hf_objects(model_name, model_cls=model_cls, config=config)"
      ],
      "metadata": {
        "colab": {
          "base_uri": "https://localhost:8080/",
          "height": 177,
          "referenced_widgets": [
            "b7258d8d790942269580e73ce713e83b",
            "4c27732da8bd42f19f6a59676a2330f9",
            "ebb61ad8eee3465b9dbc2d3bd8d8b9dd",
            "c4ab6b563aa84294bacc73b9ddbaef18",
            "37f757cda0e94427ab5fc23f86cdc0e8",
            "f87f033a534242d79783010c575a3980",
            "8ab5cb91ea814d4cadea3a41a11febae",
            "5417e3fe6eb84e57ad77b6c27c58bf97",
            "b816acc2a0b44282adddb17f6881f7a9",
            "0ba226b0c40d48bdacf5ab1dd3c19a33",
            "1f473de2c2af4b1e8d9a2664f8cdda99",
            "ec44e732f7274b3aa6d60c8ae6109ba5",
            "67afc5276e484a6b80b1d4c27d5870da",
            "7d3eaf9d039d4bfbb25212a092324a5b",
            "be0ae0e23afc486f986c20d97ff76b51",
            "d91bde8715f54f14b1fbbc73ddb15cfa",
            "9605b731093b4cffbbcc68cde8efdcaa",
            "33c3a73363b744b9a59328ebaa773573",
            "77eab871589245d9aea34719fab5d845",
            "d3683079c7c24d3482a3a0f748767c02",
            "a0431cb022054a40973a74f03aa4df73",
            "8bcbe051a61a4e71932fedb9aaf64d20",
            "53e7a4c1e1294bffb1004790adeaef09",
            "ca5cf437f17a4c47a831aaa19570ebc7",
            "c8b369bb6ff849e0af0183f31db61b80",
            "793eeb203a9548cb83ba21c15ce96dc4",
            "2a39359ede72483c92691cda1adb731f",
            "7fa79442782144b7a15e716b9cf43a70",
            "0dd5c144f0784b608136365f9d4f60e6",
            "93efc628c677413994ca30c0ce2e7d0c",
            "c049b8cedcc34af69aa97a691b5c14b5",
            "31d7015090a947eeadbcfbb635460940",
            "30fc87cb5f4b4acf87adeb1a9c562288",
            "ff9ae43ec87d4f319c93dbba8297f4a7",
            "cf86bdca9a974da982a4e7c0a4530b54",
            "aad5a92da48f427282d22e7d67607191",
            "fa50f568bae649489b93ddec13ee1836",
            "0ec508b85c2c431db136ab45679f3401",
            "dd93246fba6b42649a36ccecd4896cb1",
            "ecb0b048a4fe40e8a735f46ff59aae48",
            "8f946c8c6a334ea6bd6fcfa64189cc1d",
            "6b4849a9f7764644b399d95581265ec1",
            "8e147af1588a413b86dea71e2346bf3c",
            "2ca878a46efb4ef69435b7e1058bc47e",
            "9c5c5a2351224cba8345be6ec21179d0",
            "6fb5880f08d64681be7c9d9ea9fb5d82",
            "a40cc0ad95e94d898b30ca9ca08bb991",
            "d546e1d165cd43bc84d965cbc48b8334",
            "047330227d754a0d8340ff25913feaa9",
            "6d13fd19d51c4d2689c51d6836ffdceb",
            "9c874e95b3d84649b41ef0bccca3482a",
            "179b6aeebf0d4c22bcc7d6662579a817",
            "6f5a0857bf714915912ec5281ea4e91a",
            "f3d67ae1c4554b008c19152fe6dddff1",
            "87476e67ead34a84add937ed3ff75900"
          ]
        },
        "id": "6fPx2f67Dcch",
        "outputId": "5d87b288-1f8a-4a29-8975-ba3c421ee96f"
      },
      "execution_count": 29,
      "outputs": [
        {
          "output_type": "display_data",
          "data": {
            "text/plain": [
              "Downloading (…)lve/main/config.json:   0%|          | 0.00/480 [00:00<?, ?B/s]"
            ],
            "application/vnd.jupyter.widget-view+json": {
              "version_major": 2,
              "version_minor": 0,
              "model_id": "b7258d8d790942269580e73ce713e83b"
            }
          },
          "metadata": {}
        },
        {
          "output_type": "display_data",
          "data": {
            "text/plain": [
              "Downloading (…)olve/main/vocab.json:   0%|          | 0.00/899k [00:00<?, ?B/s]"
            ],
            "application/vnd.jupyter.widget-view+json": {
              "version_major": 2,
              "version_minor": 0,
              "model_id": "ec44e732f7274b3aa6d60c8ae6109ba5"
            }
          },
          "metadata": {}
        },
        {
          "output_type": "display_data",
          "data": {
            "text/plain": [
              "Downloading (…)olve/main/merges.txt:   0%|          | 0.00/456k [00:00<?, ?B/s]"
            ],
            "application/vnd.jupyter.widget-view+json": {
              "version_major": 2,
              "version_minor": 0,
              "model_id": "53e7a4c1e1294bffb1004790adeaef09"
            }
          },
          "metadata": {}
        },
        {
          "output_type": "display_data",
          "data": {
            "text/plain": [
              "Downloading (…)/main/tokenizer.json:   0%|          | 0.00/1.36M [00:00<?, ?B/s]"
            ],
            "application/vnd.jupyter.widget-view+json": {
              "version_major": 2,
              "version_minor": 0,
              "model_id": "ff9ae43ec87d4f319c93dbba8297f4a7"
            }
          },
          "metadata": {}
        },
        {
          "output_type": "display_data",
          "data": {
            "text/plain": [
              "Downloading model.safetensors:   0%|          | 0.00/331M [00:00<?, ?B/s]"
            ],
            "application/vnd.jupyter.widget-view+json": {
              "version_major": 2,
              "version_minor": 0,
              "model_id": "9c5c5a2351224cba8345be6ec21179d0"
            }
          },
          "metadata": {}
        }
      ]
    },
    {
      "cell_type": "code",
      "source": [
        "blocks = (TextBlock(hf_arch, hf_config, hf_tokenizer, hf_model), CategoryBlock)\n",
        "dblock = DataBlock(blocks=blocks, get_x=ColReader(\"Summary\"), get_y=ColReader(\"Primary Genre\"), splitter=RandomSplitter(valid_pct=0.1, seed=42))"
      ],
      "metadata": {
        "id": "gqXgiWfrD5AV"
      },
      "execution_count": 30,
      "outputs": []
    },
    {
      "cell_type": "code",
      "source": [
        "dls = dblock.dataloaders(df, bs=32)\n",
        "torch.save(dls, \"dataloaders/dls-game-classifier.pkl\")"
      ],
      "metadata": {
        "id": "ENiS7AMkEEt2"
      },
      "execution_count": 31,
      "outputs": []
    },
    {
      "cell_type": "code",
      "source": [
        "# dls = torch.load(\"dataloaders/dls-game-classifier.pkl\")"
      ],
      "metadata": {
        "id": "WwxoSVbkESdQ"
      },
      "execution_count": 32,
      "outputs": []
    },
    {
      "cell_type": "code",
      "source": [
        "dls.show_batch(dataloaders=dls, max_n=3, trunc_at=500)"
      ],
      "metadata": {
        "colab": {
          "base_uri": "https://localhost:8080/",
          "height": 247
        },
        "id": "sAVFnce0EXDx",
        "outputId": "d4303078-d148-4992-e57c-2c2e5f35549c"
      },
      "execution_count": 33,
      "outputs": [
        {
          "output_type": "display_data",
          "data": {
            "text/plain": [
              "<IPython.core.display.HTML object>"
            ],
            "text/html": [
              "<table border=\"1\" class=\"dataframe\">\n",
              "  <thead>\n",
              "    <tr style=\"text-align: right;\">\n",
              "      <th></th>\n",
              "      <th>text</th>\n",
              "      <th>target</th>\n",
              "    </tr>\n",
              "  </thead>\n",
              "  <tbody>\n",
              "    <tr>\n",
              "      <th>0</th>\n",
              "      <td>In The Eternal Cylinder, players control a herd of adorable creatures called Trebhums and must explore a strange alien world filled with exotic lifeforms, surreal environments, and the constant threat of the Cylinder, a gargantuan rolling structure of ancient origin which crushes everything in its path. This unique ecosystem is a massive, procedurally generated land with unique animal AI, real-time world destruction, and organic exploration and puzzle design to create emergent gameplay that ens</td>\n",
              "      <td>Action Adventure</td>\n",
              "    </tr>\n",
              "    <tr>\n",
              "      <th>1</th>\n",
              "      <td>You are an exile, outcast and downtrodden, sentenced to walk in a barbaric wasteland where the weak are crushed and only the strong can live. Here you must fight to survive, build, and dominate the world alone on your own server, or with enemies and allies in online multiplayer. Journey through a vast, seamless world filled with the ruins of ancient civilizations and uncover its dark history and buried secrets as you seek to conquer and dominate the exiled lands yourself. Start with nothing but</td>\n",
              "      <td>Action</td>\n",
              "    </tr>\n",
              "    <tr>\n",
              "      <th>2</th>\n",
              "      <td>Diablo® Immortal is a mobile Massively Multiplayer Online Action RPG (MMOARPG) developed by Blizzard Entertainment in partnership with NetEase, coming exclusively to Android, iPhone and iPad. Experience the world of Sanctuary in a persistent, always-online adventure anywhere, anytime. Join a worldwide community as you battle side by side to vanquish ancient evils, explore perilous dungeons, and of course, get legendary loot. * The Story: An Untold Chapter of the Diablo Saga The Worldstone lies</td>\n",
              "      <td>Strategy</td>\n",
              "    </tr>\n",
              "  </tbody>\n",
              "</table>"
            ]
          },
          "metadata": {}
        }
      ]
    },
    {
      "cell_type": "code",
      "source": [
        "model = BaseModelWrapper(hf_model)\n",
        "\n",
        "learner = Learner(\n",
        "                dls,\n",
        "                model,\n",
        "                opt_func=partial(OptimWrapper, opt=torch.optim.AdamW),\n",
        "                loss_func=PreCalculatedCrossEntropyLoss(),                # CrossEntropyLossFlat(),\n",
        "                metrics=[accuracy],\n",
        "                cbs=[BaseModelCallback],\n",
        "                splitter=blurr_splitter,\n",
        "            ).to_fp16()"
      ],
      "metadata": {
        "id": "MrMq8H47Ehh0"
      },
      "execution_count": 34,
      "outputs": []
    },
    {
      "cell_type": "code",
      "source": [
        "learner.model"
      ],
      "metadata": {
        "colab": {
          "base_uri": "https://localhost:8080/"
        },
        "id": "3IoKaZYMEn1d",
        "outputId": "d70f4800-76f9-4ca6-a17a-ab78ce003215"
      },
      "execution_count": 35,
      "outputs": [
        {
          "output_type": "execute_result",
          "data": {
            "text/plain": [
              "BaseModelWrapper(\n",
              "  (hf_model): RobertaForSequenceClassification(\n",
              "    (roberta): RobertaModel(\n",
              "      (embeddings): RobertaEmbeddings(\n",
              "        (word_embeddings): Embedding(50265, 768, padding_idx=1)\n",
              "        (position_embeddings): Embedding(514, 768, padding_idx=1)\n",
              "        (token_type_embeddings): Embedding(1, 768)\n",
              "        (LayerNorm): LayerNorm((768,), eps=1e-05, elementwise_affine=True)\n",
              "        (dropout): Dropout(p=0.1, inplace=False)\n",
              "      )\n",
              "      (encoder): RobertaEncoder(\n",
              "        (layer): ModuleList(\n",
              "          (0): RobertaLayer(\n",
              "            (attention): RobertaAttention(\n",
              "              (self): RobertaSelfAttention(\n",
              "                (query): Linear(in_features=768, out_features=768, bias=True)\n",
              "                (key): Linear(in_features=768, out_features=768, bias=True)\n",
              "                (value): Linear(in_features=768, out_features=768, bias=True)\n",
              "                (dropout): Dropout(p=0.1, inplace=False)\n",
              "              )\n",
              "              (output): RobertaSelfOutput(\n",
              "                (dense): Linear(in_features=768, out_features=768, bias=True)\n",
              "                (LayerNorm): LayerNorm((768,), eps=1e-05, elementwise_affine=True)\n",
              "                (dropout): Dropout(p=0.1, inplace=False)\n",
              "              )\n",
              "            )\n",
              "            (intermediate): RobertaIntermediate(\n",
              "              (dense): Linear(in_features=768, out_features=3072, bias=True)\n",
              "              (intermediate_act_fn): GELUActivation()\n",
              "            )\n",
              "            (output): RobertaOutput(\n",
              "              (dense): Linear(in_features=3072, out_features=768, bias=True)\n",
              "              (LayerNorm): LayerNorm((768,), eps=1e-05, elementwise_affine=True)\n",
              "              (dropout): Dropout(p=0.1, inplace=False)\n",
              "            )\n",
              "          )\n",
              "          (1): RobertaLayer(\n",
              "            (attention): RobertaAttention(\n",
              "              (self): RobertaSelfAttention(\n",
              "                (query): Linear(in_features=768, out_features=768, bias=True)\n",
              "                (key): Linear(in_features=768, out_features=768, bias=True)\n",
              "                (value): Linear(in_features=768, out_features=768, bias=True)\n",
              "                (dropout): Dropout(p=0.1, inplace=False)\n",
              "              )\n",
              "              (output): RobertaSelfOutput(\n",
              "                (dense): Linear(in_features=768, out_features=768, bias=True)\n",
              "                (LayerNorm): LayerNorm((768,), eps=1e-05, elementwise_affine=True)\n",
              "                (dropout): Dropout(p=0.1, inplace=False)\n",
              "              )\n",
              "            )\n",
              "            (intermediate): RobertaIntermediate(\n",
              "              (dense): Linear(in_features=768, out_features=3072, bias=True)\n",
              "              (intermediate_act_fn): GELUActivation()\n",
              "            )\n",
              "            (output): RobertaOutput(\n",
              "              (dense): Linear(in_features=3072, out_features=768, bias=True)\n",
              "              (LayerNorm): LayerNorm((768,), eps=1e-05, elementwise_affine=True)\n",
              "              (dropout): Dropout(p=0.1, inplace=False)\n",
              "            )\n",
              "          )\n",
              "          (2): RobertaLayer(\n",
              "            (attention): RobertaAttention(\n",
              "              (self): RobertaSelfAttention(\n",
              "                (query): Linear(in_features=768, out_features=768, bias=True)\n",
              "                (key): Linear(in_features=768, out_features=768, bias=True)\n",
              "                (value): Linear(in_features=768, out_features=768, bias=True)\n",
              "                (dropout): Dropout(p=0.1, inplace=False)\n",
              "              )\n",
              "              (output): RobertaSelfOutput(\n",
              "                (dense): Linear(in_features=768, out_features=768, bias=True)\n",
              "                (LayerNorm): LayerNorm((768,), eps=1e-05, elementwise_affine=True)\n",
              "                (dropout): Dropout(p=0.1, inplace=False)\n",
              "              )\n",
              "            )\n",
              "            (intermediate): RobertaIntermediate(\n",
              "              (dense): Linear(in_features=768, out_features=3072, bias=True)\n",
              "              (intermediate_act_fn): GELUActivation()\n",
              "            )\n",
              "            (output): RobertaOutput(\n",
              "              (dense): Linear(in_features=3072, out_features=768, bias=True)\n",
              "              (LayerNorm): LayerNorm((768,), eps=1e-05, elementwise_affine=True)\n",
              "              (dropout): Dropout(p=0.1, inplace=False)\n",
              "            )\n",
              "          )\n",
              "          (3): RobertaLayer(\n",
              "            (attention): RobertaAttention(\n",
              "              (self): RobertaSelfAttention(\n",
              "                (query): Linear(in_features=768, out_features=768, bias=True)\n",
              "                (key): Linear(in_features=768, out_features=768, bias=True)\n",
              "                (value): Linear(in_features=768, out_features=768, bias=True)\n",
              "                (dropout): Dropout(p=0.1, inplace=False)\n",
              "              )\n",
              "              (output): RobertaSelfOutput(\n",
              "                (dense): Linear(in_features=768, out_features=768, bias=True)\n",
              "                (LayerNorm): LayerNorm((768,), eps=1e-05, elementwise_affine=True)\n",
              "                (dropout): Dropout(p=0.1, inplace=False)\n",
              "              )\n",
              "            )\n",
              "            (intermediate): RobertaIntermediate(\n",
              "              (dense): Linear(in_features=768, out_features=3072, bias=True)\n",
              "              (intermediate_act_fn): GELUActivation()\n",
              "            )\n",
              "            (output): RobertaOutput(\n",
              "              (dense): Linear(in_features=3072, out_features=768, bias=True)\n",
              "              (LayerNorm): LayerNorm((768,), eps=1e-05, elementwise_affine=True)\n",
              "              (dropout): Dropout(p=0.1, inplace=False)\n",
              "            )\n",
              "          )\n",
              "          (4): RobertaLayer(\n",
              "            (attention): RobertaAttention(\n",
              "              (self): RobertaSelfAttention(\n",
              "                (query): Linear(in_features=768, out_features=768, bias=True)\n",
              "                (key): Linear(in_features=768, out_features=768, bias=True)\n",
              "                (value): Linear(in_features=768, out_features=768, bias=True)\n",
              "                (dropout): Dropout(p=0.1, inplace=False)\n",
              "              )\n",
              "              (output): RobertaSelfOutput(\n",
              "                (dense): Linear(in_features=768, out_features=768, bias=True)\n",
              "                (LayerNorm): LayerNorm((768,), eps=1e-05, elementwise_affine=True)\n",
              "                (dropout): Dropout(p=0.1, inplace=False)\n",
              "              )\n",
              "            )\n",
              "            (intermediate): RobertaIntermediate(\n",
              "              (dense): Linear(in_features=768, out_features=3072, bias=True)\n",
              "              (intermediate_act_fn): GELUActivation()\n",
              "            )\n",
              "            (output): RobertaOutput(\n",
              "              (dense): Linear(in_features=3072, out_features=768, bias=True)\n",
              "              (LayerNorm): LayerNorm((768,), eps=1e-05, elementwise_affine=True)\n",
              "              (dropout): Dropout(p=0.1, inplace=False)\n",
              "            )\n",
              "          )\n",
              "          (5): RobertaLayer(\n",
              "            (attention): RobertaAttention(\n",
              "              (self): RobertaSelfAttention(\n",
              "                (query): Linear(in_features=768, out_features=768, bias=True)\n",
              "                (key): Linear(in_features=768, out_features=768, bias=True)\n",
              "                (value): Linear(in_features=768, out_features=768, bias=True)\n",
              "                (dropout): Dropout(p=0.1, inplace=False)\n",
              "              )\n",
              "              (output): RobertaSelfOutput(\n",
              "                (dense): Linear(in_features=768, out_features=768, bias=True)\n",
              "                (LayerNorm): LayerNorm((768,), eps=1e-05, elementwise_affine=True)\n",
              "                (dropout): Dropout(p=0.1, inplace=False)\n",
              "              )\n",
              "            )\n",
              "            (intermediate): RobertaIntermediate(\n",
              "              (dense): Linear(in_features=768, out_features=3072, bias=True)\n",
              "              (intermediate_act_fn): GELUActivation()\n",
              "            )\n",
              "            (output): RobertaOutput(\n",
              "              (dense): Linear(in_features=3072, out_features=768, bias=True)\n",
              "              (LayerNorm): LayerNorm((768,), eps=1e-05, elementwise_affine=True)\n",
              "              (dropout): Dropout(p=0.1, inplace=False)\n",
              "            )\n",
              "          )\n",
              "        )\n",
              "      )\n",
              "    )\n",
              "    (classifier): RobertaClassificationHead(\n",
              "      (dense): Linear(in_features=768, out_features=768, bias=True)\n",
              "      (dropout): Dropout(p=0.1, inplace=False)\n",
              "      (out_proj): Linear(in_features=768, out_features=12, bias=True)\n",
              "    )\n",
              "  )\n",
              ")"
            ]
          },
          "metadata": {},
          "execution_count": 35
        }
      ]
    },
    {
      "cell_type": "markdown",
      "source": [
        "### Stage: 0"
      ],
      "metadata": {
        "id": "QBfOrj9gE4B6"
      }
    },
    {
      "cell_type": "code",
      "source": [
        "learner.freeze()"
      ],
      "metadata": {
        "id": "xjTEqm-zE4YG"
      },
      "execution_count": 36,
      "outputs": []
    },
    {
      "cell_type": "code",
      "source": [
        "learner.lr_find(suggest_funcs=[minimum, steep])"
      ],
      "metadata": {
        "colab": {
          "base_uri": "https://localhost:8080/",
          "height": 471
        },
        "id": "WR_6n3ObFGfw",
        "outputId": "e6420bd3-7e5b-49e4-f5d8-cc1f92e4ddb3"
      },
      "execution_count": 37,
      "outputs": [
        {
          "output_type": "display_data",
          "data": {
            "text/plain": [
              "<IPython.core.display.HTML object>"
            ],
            "text/html": [
              "\n",
              "<style>\n",
              "    /* Turns off some styling */\n",
              "    progress {\n",
              "        /* gets rid of default border in Firefox and Opera. */\n",
              "        border: none;\n",
              "        /* Needs to be in here for Safari polyfill so background images work as expected. */\n",
              "        background-size: auto;\n",
              "    }\n",
              "    progress:not([value]), progress:not([value])::-webkit-progress-bar {\n",
              "        background: repeating-linear-gradient(45deg, #7e7e7e, #7e7e7e 10px, #5c5c5c 10px, #5c5c5c 20px);\n",
              "    }\n",
              "    .progress-bar-interrupted, .progress-bar-interrupted::-webkit-progress-bar {\n",
              "        background: #F44336;\n",
              "    }\n",
              "</style>\n"
            ]
          },
          "metadata": {}
        },
        {
          "output_type": "display_data",
          "data": {
            "text/plain": [
              "<IPython.core.display.HTML object>"
            ],
            "text/html": []
          },
          "metadata": {}
        },
        {
          "output_type": "execute_result",
          "data": {
            "text/plain": [
              "SuggestedLRs(minimum=0.0006309573538601399, steep=0.0010000000474974513)"
            ]
          },
          "metadata": {},
          "execution_count": 37
        },
        {
          "output_type": "display_data",
          "data": {
            "text/plain": [
              "<Figure size 640x480 with 1 Axes>"
            ],
            "image/png": "[encoded data removed]"
          },
          "metadata": {}
        }
      ]
    },
    {
      "cell_type": "code",
      "source": [
        "learner.fit_one_cycle(2, 8.25e-4)"
      ],
      "metadata": {
        "colab": {
          "base_uri": "https://localhost:8080/",
          "height": 112
        },
        "id": "hIJswWikGeCI",
        "outputId": "d22d1808-0618-4b1f-9a25-029c460e690c"
      },
      "execution_count": 38,
      "outputs": [
        {
          "output_type": "display_data",
          "data": {
            "text/plain": [
              "<IPython.core.display.HTML object>"
            ],
            "text/html": [
              "\n",
              "<style>\n",
              "    /* Turns off some styling */\n",
              "    progress {\n",
              "        /* gets rid of default border in Firefox and Opera. */\n",
              "        border: none;\n",
              "        /* Needs to be in here for Safari polyfill so background images work as expected. */\n",
              "        background-size: auto;\n",
              "    }\n",
              "    progress:not([value]), progress:not([value])::-webkit-progress-bar {\n",
              "        background: repeating-linear-gradient(45deg, #7e7e7e, #7e7e7e 10px, #5c5c5c 10px, #5c5c5c 20px);\n",
              "    }\n",
              "    .progress-bar-interrupted, .progress-bar-interrupted::-webkit-progress-bar {\n",
              "        background: #F44336;\n",
              "    }\n",
              "</style>\n"
            ]
          },
          "metadata": {}
        },
        {
          "output_type": "display_data",
          "data": {
            "text/plain": [
              "<IPython.core.display.HTML object>"
            ],
            "text/html": [
              "<table border=\"1\" class=\"dataframe\">\n",
              "  <thead>\n",
              "    <tr style=\"text-align: left;\">\n",
              "      <th>epoch</th>\n",
              "      <th>train_loss</th>\n",
              "      <th>valid_loss</th>\n",
              "      <th>accuracy</th>\n",
              "      <th>time</th>\n",
              "    </tr>\n",
              "  </thead>\n",
              "  <tbody>\n",
              "    <tr>\n",
              "      <td>0</td>\n",
              "      <td>2.104715</td>\n",
              "      <td>2.120392</td>\n",
              "      <td>0.329341</td>\n",
              "      <td>00:54</td>\n",
              "    </tr>\n",
              "    <tr>\n",
              "      <td>1</td>\n",
              "      <td>2.090070</td>\n",
              "      <td>2.097643</td>\n",
              "      <td>0.329341</td>\n",
              "      <td>00:54</td>\n",
              "    </tr>\n",
              "  </tbody>\n",
              "</table>"
            ]
          },
          "metadata": {}
        }
      ]
    },
    {
      "cell_type": "code",
      "source": [
        "learner.save(\"game-classifier-stage-0\")"
      ],
      "metadata": {
        "colab": {
          "base_uri": "https://localhost:8080/"
        },
        "id": "E6UEGCMdGhjG",
        "outputId": "a759910a-cbec-491f-d2f8-156fc5ad7857"
      },
      "execution_count": 39,
      "outputs": [
        {
          "output_type": "execute_result",
          "data": {
            "text/plain": [
              "Path('models/game-classifier-stage-0.pth')"
            ]
          },
          "metadata": {},
          "execution_count": 39
        }
      ]
    },
    {
      "cell_type": "code",
      "source": [
        "learner.export(\"models/game-classifier-stage-0.pkl\")"
      ],
      "metadata": {
        "id": "QW8CGHEpGjZO"
      },
      "execution_count": 40,
      "outputs": []
    },
    {
      "cell_type": "markdown",
      "source": [
        "### Stage: 1"
      ],
      "metadata": {
        "id": "cvk1V4fHGmD7"
      }
    },
    {
      "cell_type": "code",
      "source": [
        "# learner.load(\"game-classifier-stage-0\")"
      ],
      "metadata": {
        "id": "HskrYNkVGmi5"
      },
      "execution_count": 41,
      "outputs": []
    },
    {
      "cell_type": "code",
      "source": [
        "learner.unfreeze()"
      ],
      "metadata": {
        "id": "WqeI7ft0GthW"
      },
      "execution_count": 42,
      "outputs": []
    },
    {
      "cell_type": "code",
      "source": [
        "learner.lr_find(suggest_funcs=[slide, valley])"
      ],
      "metadata": {
        "colab": {
          "base_uri": "https://localhost:8080/",
          "height": 471
        },
        "id": "3-nseBm8Gu2X",
        "outputId": "75e56520-19dd-4b12-bbdc-f0971dae7914"
      },
      "execution_count": 43,
      "outputs": [
        {
          "output_type": "display_data",
          "data": {
            "text/plain": [
              "<IPython.core.display.HTML object>"
            ],
            "text/html": [
              "\n",
              "<style>\n",
              "    /* Turns off some styling */\n",
              "    progress {\n",
              "        /* gets rid of default border in Firefox and Opera. */\n",
              "        border: none;\n",
              "        /* Needs to be in here for Safari polyfill so background images work as expected. */\n",
              "        background-size: auto;\n",
              "    }\n",
              "    progress:not([value]), progress:not([value])::-webkit-progress-bar {\n",
              "        background: repeating-linear-gradient(45deg, #7e7e7e, #7e7e7e 10px, #5c5c5c 10px, #5c5c5c 20px);\n",
              "    }\n",
              "    .progress-bar-interrupted, .progress-bar-interrupted::-webkit-progress-bar {\n",
              "        background: #F44336;\n",
              "    }\n",
              "</style>\n"
            ]
          },
          "metadata": {}
        },
        {
          "output_type": "display_data",
          "data": {
            "text/plain": [
              "<IPython.core.display.HTML object>"
            ],
            "text/html": []
          },
          "metadata": {}
        },
        {
          "output_type": "execute_result",
          "data": {
            "text/plain": [
              "SuggestedLRs(slide=0.0004786300996784121, valley=1.2022644114040304e-05)"
            ]
          },
          "metadata": {},
          "execution_count": 43
        },
        {
          "output_type": "display_data",
          "data": {
            "text/plain": [
              "<Figure size 640x480 with 1 Axes>"
            ],
            "image/png": "[encoded data removed]"
          },
          "metadata": {}
        }
      ]
    },
    {
      "cell_type": "code",
      "source": [
        "learner.fit_one_cycle(5, slice(4.25e-4, 1e-5))"
      ],
      "metadata": {
        "colab": {
          "base_uri": "https://localhost:8080/",
          "height": 206
        },
        "id": "3URdTBW7GwNQ",
        "outputId": "3b2ae46d-7dd3-453b-aec2-0c9352e66a82"
      },
      "execution_count": 44,
      "outputs": [
        {
          "output_type": "display_data",
          "data": {
            "text/plain": [
              "<IPython.core.display.HTML object>"
            ],
            "text/html": [
              "\n",
              "<style>\n",
              "    /* Turns off some styling */\n",
              "    progress {\n",
              "        /* gets rid of default border in Firefox and Opera. */\n",
              "        border: none;\n",
              "        /* Needs to be in here for Safari polyfill so background images work as expected. */\n",
              "        background-size: auto;\n",
              "    }\n",
              "    progress:not([value]), progress:not([value])::-webkit-progress-bar {\n",
              "        background: repeating-linear-gradient(45deg, #7e7e7e, #7e7e7e 10px, #5c5c5c 10px, #5c5c5c 20px);\n",
              "    }\n",
              "    .progress-bar-interrupted, .progress-bar-interrupted::-webkit-progress-bar {\n",
              "        background: #F44336;\n",
              "    }\n",
              "</style>\n"
            ]
          },
          "metadata": {}
        },
        {
          "output_type": "display_data",
          "data": {
            "text/plain": [
              "<IPython.core.display.HTML object>"
            ],
            "text/html": [
              "<table border=\"1\" class=\"dataframe\">\n",
              "  <thead>\n",
              "    <tr style=\"text-align: left;\">\n",
              "      <th>epoch</th>\n",
              "      <th>train_loss</th>\n",
              "      <th>valid_loss</th>\n",
              "      <th>accuracy</th>\n",
              "      <th>time</th>\n",
              "    </tr>\n",
              "  </thead>\n",
              "  <tbody>\n",
              "    <tr>\n",
              "      <td>0</td>\n",
              "      <td>2.113930</td>\n",
              "      <td>2.101285</td>\n",
              "      <td>0.329341</td>\n",
              "      <td>01:17</td>\n",
              "    </tr>\n",
              "    <tr>\n",
              "      <td>1</td>\n",
              "      <td>2.112108</td>\n",
              "      <td>2.104288</td>\n",
              "      <td>0.329341</td>\n",
              "      <td>01:14</td>\n",
              "    </tr>\n",
              "    <tr>\n",
              "      <td>2</td>\n",
              "      <td>2.127075</td>\n",
              "      <td>2.100630</td>\n",
              "      <td>0.329341</td>\n",
              "      <td>01:14</td>\n",
              "    </tr>\n",
              "    <tr>\n",
              "      <td>3</td>\n",
              "      <td>2.105670</td>\n",
              "      <td>2.098200</td>\n",
              "      <td>0.329341</td>\n",
              "      <td>01:16</td>\n",
              "    </tr>\n",
              "    <tr>\n",
              "      <td>4</td>\n",
              "      <td>2.098139</td>\n",
              "      <td>2.097273</td>\n",
              "      <td>0.329341</td>\n",
              "      <td>01:17</td>\n",
              "    </tr>\n",
              "  </tbody>\n",
              "</table>"
            ]
          },
          "metadata": {}
        }
      ]
    },
    {
      "cell_type": "code",
      "source": [
        "learner.save(\"game-classifier-stage-1\")"
      ],
      "metadata": {
        "colab": {
          "base_uri": "https://localhost:8080/"
        },
        "id": "jrMzAE5BGxt-",
        "outputId": "5beb563e-18ff-4c13-c90e-8ddb644deb0d"
      },
      "execution_count": 45,
      "outputs": [
        {
          "output_type": "execute_result",
          "data": {
            "text/plain": [
              "Path('models/game-classifier-stage-1.pth')"
            ]
          },
          "metadata": {},
          "execution_count": 45
        }
      ]
    },
    {
      "cell_type": "code",
      "source": [
        "learner.export(\"models/game-classifier-stage-1.pkl\")"
      ],
      "metadata": {
        "id": "WeLghmExGzDk"
      },
      "execution_count": 46,
      "outputs": []
    }
  ]
}