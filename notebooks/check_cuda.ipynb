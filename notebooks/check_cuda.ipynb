{
 "cells": [
  {
   "cell_type": "markdown",
   "metadata": {},
   "source": [
    "# CUDA\n",
    "## Whether using CPU or CUDA from the GPU"
   ]
  },
  {
   "cell_type": "code",
   "execution_count": 1,
   "metadata": {},
   "outputs": [
    {
     "name": "stdout",
     "output_type": "stream",
     "text": [
      "Using cuda device.\n"
     ]
    }
   ],
   "source": [
    "import torch\n",
    "\n",
    "\n",
    "if torch.cuda.is_available():\n",
    "    device = torch.device(\"cuda\")\n",
    "else:\n",
    "    device = torch.device(\"cpu\")\n",
    "\n",
    "print(f\"Using {device} device.\")"
   ]
  },
  {
   "cell_type": "markdown",
   "metadata": {},
   "source": [
    "## Comparison Between CPU and GPU (CUDA)"
   ]
  },
  {
   "cell_type": "code",
   "execution_count": 2,
   "metadata": {},
   "outputs": [
    {
     "name": "stdout",
     "output_type": "stream",
     "text": [
      "******************* CPU SPEED *******************\n",
      "Verify device: cpu\n",
      "Time taken:  39.494303703308105 \n",
      "\n",
      "******************* GPU SPEED *******************\n",
      "Verify device: cuda:0\n",
      "Time taken:  3.4436912536621094\n",
      "******************* GPU SPEED *******************\n",
      "Verify device: cuda:0\n",
      "Time taken:  2.224074363708496\n",
      "******************* GPU SPEED *******************\n",
      "Verify device: cuda:0\n",
      "Time taken:  2.21335768699646\n"
     ]
    }
   ],
   "source": [
    "import time\n",
    "\n",
    "\n",
    "matrix_size = 32*512\n",
    "x = torch.randn(matrix_size, matrix_size)\n",
    "y = torch.randn(matrix_size, matrix_size)\n",
    "\n",
    "# CPU Speed\n",
    "print(\"******************* CPU SPEED *******************\")\n",
    "\n",
    "start_time = time.time()\n",
    "result = torch.matmul(x, y)\n",
    "end_time = time.time()\n",
    "\n",
    "print(\"Verify device:\", result.device)\n",
    "print(\"Time taken: \", end_time - start_time, \"\\n\")\n",
    "\n",
    "# GPU Speed\n",
    "x_gpu = x.to(device)\n",
    "y_gpu = y.to(device)\n",
    "torch.cuda.synchronize()\n",
    "\n",
    "for i in range(3):\n",
    "    print(\"******************* GPU SPEED *******************\")\n",
    "\n",
    "    start_time = time.time()\n",
    "    result_gpu = torch.matmul(x_gpu, y_gpu)\n",
    "    torch.cuda.synchronize()\n",
    "    end_time = time.time()\n",
    "\n",
    "    print(\"Verify device:\", result_gpu.device)\n",
    "    print(\"Time taken: \", end_time - start_time)"
   ]
  }
 ],
 "metadata": {
  "kernelspec": {
   "display_name": "Python 3",
   "language": "python",
   "name": "python3"
  },
  "language_info": {
   "codemirror_mode": {
    "name": "ipython",
    "version": 3
   },
   "file_extension": ".py",
   "mimetype": "text/x-python",
   "name": "python",
   "nbconvert_exporter": "python",
   "pygments_lexer": "ipython3",
   "version": "3.11.0"
  },
  "orig_nbformat": 4
 },
 "nbformat": 4,
 "nbformat_minor": 2
}
