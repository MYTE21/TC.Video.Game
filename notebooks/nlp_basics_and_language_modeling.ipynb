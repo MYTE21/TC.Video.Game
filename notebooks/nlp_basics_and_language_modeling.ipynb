{
  "cells": [
    {
      "cell_type": "markdown",
      "metadata": {
        "id": "GHtWGNuYDmoY"
      },
      "source": [
        "# NLP Basics and Language Modeling"
      ]
    },
    {
      "cell_type": "markdown",
      "metadata": {
        "id": "HJSPWTSTDoi2"
      },
      "source": [
        "## Setting Up Necessary Things"
      ]
    },
    {
      "cell_type": "code",
      "execution_count": 1,
      "metadata": {
        "id": "U9o4rAZo7zvS"
      },
      "outputs": [],
      "source": [
        "# Jupyter Notebook Magic Command - Auto Reloading\n",
        "%reload_ext autoreload\n",
        "%autoreload 2\n",
        "\n",
        "# Jupyter Notebook Magic Command - Inline Plotting\n",
        "%matplotlib inline"
      ]
    },
    {
      "cell_type": "code",
      "execution_count": 2,
      "metadata": {
        "id": "CPOpZC6TDtPl"
      },
      "outputs": [],
      "source": [
        "# Ignore All Warnings\n",
        "import warnings\n",
        "warnings.filterwarnings(\"ignore\")"
      ]
    },
    {
      "cell_type": "code",
      "execution_count": 3,
      "metadata": {
        "colab": {
          "base_uri": "https://localhost:8080/"
        },
        "id": "cvqqeINtDw-0",
        "outputId": "3b88ae15-e17a-43e6-bee0-a24e587c7493"
      },
      "outputs": [
        {
          "name": "stdout",
          "output_type": "stream",
          "text": [
            "Wed Aug 16 17:00:58 2023       \n",
            "+-----------------------------------------------------------------------------+\n",
            "| NVIDIA-SMI 525.105.17   Driver Version: 525.105.17   CUDA Version: 12.0     |\n",
            "|-------------------------------+----------------------+----------------------+\n",
            "| GPU  Name        Persistence-M| Bus-Id        Disp.A | Volatile Uncorr. ECC |\n",
            "| Fan  Temp  Perf  Pwr:Usage/Cap|         Memory-Usage | GPU-Util  Compute M. |\n",
            "|                               |                      |               MIG M. |\n",
            "|===============================+======================+======================|\n",
            "|   0  Tesla T4            Off  | 00000000:00:04.0 Off |                    0 |\n",
            "| N/A   48C    P8     9W /  70W |      0MiB / 15360MiB |      0%      Default |\n",
            "|                               |                      |                  N/A |\n",
            "+-------------------------------+----------------------+----------------------+\n",
            "                                                                               \n",
            "+-----------------------------------------------------------------------------+\n",
            "| Processes:                                                                  |\n",
            "|  GPU   GI   CI        PID   Type   Process name                  GPU Memory |\n",
            "|        ID   ID                                                   Usage      |\n",
            "|=============================================================================|\n",
            "|  No running processes found                                                 |\n",
            "+-----------------------------------------------------------------------------+\n"
          ]
        }
      ],
      "source": [
        "# NVIDIA Status\n",
        "! nvidia-smi"
      ]
    },
    {
      "cell_type": "code",
      "execution_count": 4,
      "metadata": {
        "colab": {
          "base_uri": "https://localhost:8080/"
        },
        "id": "UePRUh8sEB39",
        "outputId": "10fcdaf0-0718-4c30-cd39-441387605e36"
      },
      "outputs": [
        {
          "name": "stdout",
          "output_type": "stream",
          "text": [
            "Mounted at /content/drive\n"
          ]
        }
      ],
      "source": [
        "from google.colab import drive\n",
        "drive.mount('/content/drive')"
      ]
    },
    {
      "cell_type": "code",
      "execution_count": 5,
      "metadata": {
        "colab": {
          "base_uri": "https://localhost:8080/"
        },
        "id": "ILoit9u8EE5W",
        "outputId": "b7cbce34-f439-4450-cbaf-f01e21c48c7c"
      },
      "outputs": [
        {
          "name": "stdout",
          "output_type": "stream",
          "text": [
            "/content/drive/MyDrive/Colab Notebooks/TC.Video.Game\n"
          ]
        }
      ],
      "source": [
        "%cd /content/drive/MyDrive/Colab Notebooks/TC.Video.Game"
      ]
    },
    {
      "cell_type": "markdown",
      "metadata": {
        "id": "4ziyhD8LDza1"
      },
      "source": [
        "## Necessary Imports"
      ]
    },
    {
      "cell_type": "code",
      "execution_count": 6,
      "metadata": {
        "colab": {
          "base_uri": "https://localhost:8080/"
        },
        "id": "sjKS63LLyys4",
        "outputId": "40667fcd-1b59-4113-f4a6-7a43d50f24ab"
      },
      "outputs": [
        {
          "name": "stdout",
          "output_type": "stream",
          "text": [
            "\u001b[2K     \u001b[90m━━━━━━━━━━━━━━━━━━━━━━━━━━━━━━━━━━━━━━━━\u001b[0m \u001b[32m64.8/64.8 kB\u001b[0m \u001b[31m1.2 MB/s\u001b[0m eta \u001b[36m0:00:00\u001b[0m\n",
            "\u001b[2K     \u001b[90m━━━━━━━━━━━━━━━━━━━━━━━━━━━━━━━━━━━━━━\u001b[0m \u001b[32m719.8/719.8 kB\u001b[0m \u001b[31m12.4 MB/s\u001b[0m eta \u001b[36m0:00:00\u001b[0m\n",
            "\u001b[2K     \u001b[90m━━━━━━━━━━━━━━━━━━━━━━━━━━━━━━━━━━━━━━━━\u001b[0m \u001b[32m58.7/58.7 kB\u001b[0m \u001b[31m7.0 MB/s\u001b[0m eta \u001b[36m0:00:00\u001b[0m\n",
            "\u001b[2K     \u001b[90m━━━━━━━━━━━━━━━━━━━━━━━━━━━━━━━━━━━━━━━━\u001b[0m \u001b[32m82.1/82.1 kB\u001b[0m \u001b[31m10.1 MB/s\u001b[0m eta \u001b[36m0:00:00\u001b[0m\n",
            "\u001b[2K     \u001b[90m━━━━━━━━━━━━━━━━━━━━━━━━━━━━━━━━━━━━━━━━\u001b[0m \u001b[32m7.4/7.4 MB\u001b[0m \u001b[31m46.9 MB/s\u001b[0m eta \u001b[36m0:00:00\u001b[0m\n",
            "\u001b[2K     \u001b[90m━━━━━━━━━━━━━━━━━━━━━━━━━━━━━━━━━━━━━━\u001b[0m \u001b[32m519.3/519.3 kB\u001b[0m \u001b[31m36.9 MB/s\u001b[0m eta \u001b[36m0:00:00\u001b[0m\n",
            "\u001b[2K     \u001b[90m━━━━━━━━━━━━━━━━━━━━━━━━━━━━━━━━━━━━━━━━\u001b[0m \u001b[32m1.3/1.3 MB\u001b[0m \u001b[31m54.6 MB/s\u001b[0m eta \u001b[36m0:00:00\u001b[0m\n",
            "\u001b[2K     \u001b[90m━━━━━━━━━━━━━━━━━━━━━━━━━━━━━━━━━━━━━━\u001b[0m \u001b[32m115.3/115.3 kB\u001b[0m \u001b[31m11.9 MB/s\u001b[0m eta \u001b[36m0:00:00\u001b[0m\n",
            "\u001b[2K     \u001b[90m━━━━━━━━━━━━━━━━━━━━━━━━━━━━━━━━━━━━━━\u001b[0m \u001b[32m194.1/194.1 kB\u001b[0m \u001b[31m18.9 MB/s\u001b[0m eta \u001b[36m0:00:00\u001b[0m\n",
            "\u001b[2K     \u001b[90m━━━━━━━━━━━━━━━━━━━━━━━━━━━━━━━━━━━━━━\u001b[0m \u001b[32m134.8/134.8 kB\u001b[0m \u001b[31m13.8 MB/s\u001b[0m eta \u001b[36m0:00:00\u001b[0m\n",
            "\u001b[2K     \u001b[90m━━━━━━━━━━━━━━━━━━━━━━━━━━━━━━━━━━━━━━\u001b[0m \u001b[32m268.8/268.8 kB\u001b[0m \u001b[31m25.3 MB/s\u001b[0m eta \u001b[36m0:00:00\u001b[0m\n",
            "\u001b[2K     \u001b[90m━━━━━━━━━━━━━━━━━━━━━━━━━━━━━━━━━━━━━━━━\u001b[0m \u001b[32m7.8/7.8 MB\u001b[0m \u001b[31m87.3 MB/s\u001b[0m eta \u001b[36m0:00:00\u001b[0m\n",
            "\u001b[2K     \u001b[90m━━━━━━━━━━━━━━━━━━━━━━━━━━━━━━━━━━━━━━━━\u001b[0m \u001b[32m1.3/1.3 MB\u001b[0m \u001b[31m68.2 MB/s\u001b[0m eta \u001b[36m0:00:00\u001b[0m\n",
            "\u001b[2K     \u001b[90m━━━━━━━━━━━━━━━━━━━━━━━━━━━━━━━━━━━━━━━━\u001b[0m \u001b[32m1.6/1.6 MB\u001b[0m \u001b[31m73.2 MB/s\u001b[0m eta \u001b[36m0:00:00\u001b[0m\n",
            "\u001b[?25h"
          ]
        }
      ],
      "source": [
        "! pip install -Uqq fastai nbdev fastbook"
      ]
    },
    {
      "cell_type": "code",
      "execution_count": 7,
      "metadata": {
        "id": "pajJSFNTDzGd"
      },
      "outputs": [],
      "source": [
        "from fastai.text.all import *"
      ]
    },
    {
      "cell_type": "markdown",
      "metadata": {
        "id": "D_MMWiSXD1x3"
      },
      "source": [
        "## Data Collection"
      ]
    },
    {
      "cell_type": "code",
      "execution_count": 8,
      "metadata": {
        "colab": {
          "base_uri": "https://localhost:8080/",
          "height": 423
        },
        "id": "vxxnGL81D30H",
        "outputId": "87c48c85-5fa0-40cf-a167-ecdb14cdf978"
      },
      "outputs": [
        {
          "data": {
            "text/html": [
              "\n",
              "\n",
              "  <div id=\"df-84f9a829-45e7-40f8-83ce-53747be4eb77\">\n",
              "    <div class=\"colab-df-container\">\n",
              "      <div>\n",
              "<style scoped>\n",
              "    .dataframe tbody tr th:only-of-type {\n",
              "        vertical-align: middle;\n",
              "    }\n",
              "\n",
              "    .dataframe tbody tr th {\n",
              "        vertical-align: top;\n",
              "    }\n",
              "\n",
              "    .dataframe thead th {\n",
              "        text-align: right;\n",
              "    }\n",
              "</style>\n",
              "<table border=\"1\" class=\"dataframe\">\n",
              "  <thead>\n",
              "    <tr style=\"text-align: right;\">\n",
              "      <th></th>\n",
              "      <th>Name</th>\n",
              "      <th>Summary</th>\n",
              "      <th>Genres</th>\n",
              "    </tr>\n",
              "  </thead>\n",
              "  <tbody>\n",
              "    <tr>\n",
              "      <th>0</th>\n",
              "      <td>The Legend of Zelda: Ocarina of Time</td>\n",
              "      <td>As a young boy, Link is tricked by Ganondorf, the King of the Gerudo Thieves. The evil human uses Link to gain access to the Sacred Realm, where he places his tainted hands on Triforce and transforms the beautiful Hyrulean landscape into a barren wasteland. Link is determined to fix the problems he helped to create, so with the help of Rauru he travels through time gathering the powers of the Seven Sages.</td>\n",
              "      <td>['Action Adventure', 'Fantasy']</td>\n",
              "    </tr>\n",
              "    <tr>\n",
              "      <th>1</th>\n",
              "      <td>Tony Hawk's Pro Skater 2</td>\n",
              "      <td>As most major publishers' development efforts shift to any number of next-generation platforms, Tony Hawk 2 will likely stand as one of the last truly fantastic games to be released on the PlayStation.</td>\n",
              "      <td>['Sports', 'Alternative', 'Skateboarding']</td>\n",
              "    </tr>\n",
              "    <tr>\n",
              "      <th>2</th>\n",
              "      <td>Grand Theft Auto IV</td>\n",
              "      <td>[Metacritic's 2008 PS3 Game of the Year; Also known as \"GTA IV\"] What does the American Dream mean today? For Niko Belic, fresh off the boat from Europe. It's the hope he can escape his past. For his cousin, Roman, it is the vision that together they can find fortune in Liberty City, gateway to the land of opportunity. As they slip into debt and are dragged into a criminal underworld by a series of shysters, thieves and sociopaths, they discover that the reality is very different from the dream in a city that worships money and status, and is heaven for those who have them an a living nigh...</td>\n",
              "      <td>['Action Adventure', 'Modern', 'Modern', 'Open-World']</td>\n",
              "    </tr>\n",
              "    <tr>\n",
              "      <th>3</th>\n",
              "      <td>SoulCalibur</td>\n",
              "      <td>This is a tale of souls and swords, transcending the world and all its history, told for all eternity... The greatest weapons-based fighter returns, this time on Sega Dreamcast. Soul Calibur unleashes incredible graphics, fantastic fighters, and combos so amazing they'll make your head spin!</td>\n",
              "      <td>['Action', 'Fighting', '3D']</td>\n",
              "    </tr>\n",
              "    <tr>\n",
              "      <th>4</th>\n",
              "      <td>Grand Theft Auto IV</td>\n",
              "      <td>[Metacritic's 2008 Xbox 360 Game of the Year; Also known as \"GTA IV\"] What does the American Dream mean today? For Niko Belic, fresh off the boat from Europe. It's the hope he can escape his past. For his cousin, Roman, it is the vision that together they can find fortune in Liberty City, gateway to the land of opportunity. As they slip into debt and are dragged into a criminal underworld by a series of shysters, thieves and sociopaths, they discover that the reality is very different from the dream in a city that worships money and status, and is heaven for those who have them an a living...</td>\n",
              "      <td>['Action Adventure', 'Modern', 'Modern', 'Open-World']</td>\n",
              "    </tr>\n",
              "  </tbody>\n",
              "</table>\n",
              "</div>\n",
              "      <button class=\"colab-df-convert\" onclick=\"convertToInteractive('df-84f9a829-45e7-40f8-83ce-53747be4eb77')\"\n",
              "              title=\"Convert this dataframe to an interactive table.\"\n",
              "              style=\"display:none;\">\n",
              "\n",
              "  <svg xmlns=\"http://www.w3.org/2000/svg\" height=\"24px\"viewBox=\"0 0 24 24\"\n",
              "       width=\"24px\">\n",
              "    <path d=\"M0 0h24v24H0V0z\" fill=\"none\"/>\n",
              "    <path d=\"M18.56 5.44l.94 2.06.94-2.06 2.06-.94-2.06-.94-.94-2.06-.94 2.06-2.06.94zm-11 1L8.5 8.5l.94-2.06 2.06-.94-2.06-.94L8.5 2.5l-.94 2.06-2.06.94zm10 10l.94 2.06.94-2.06 2.06-.94-2.06-.94-.94-2.06-.94 2.06-2.06.94z\"/><path d=\"M17.41 7.96l-1.37-1.37c-.4-.4-.92-.59-1.43-.59-.52 0-1.04.2-1.43.59L10.3 9.45l-7.72 7.72c-.78.78-.78 2.05 0 2.83L4 21.41c.39.39.9.59 1.41.59.51 0 1.02-.2 1.41-.59l7.78-7.78 2.81-2.81c.8-.78.8-2.07 0-2.86zM5.41 20L4 18.59l7.72-7.72 1.47 1.35L5.41 20z\"/>\n",
              "  </svg>\n",
              "      </button>\n",
              "\n",
              "\n",
              "\n",
              "    <div id=\"df-1e68bcb2-bfb5-4ff3-bfbd-e96f77fd5767\">\n",
              "      <button class=\"colab-df-quickchart\" onclick=\"quickchart('df-1e68bcb2-bfb5-4ff3-bfbd-e96f77fd5767')\"\n",
              "              title=\"Suggest charts.\"\n",
              "              style=\"display:none;\">\n",
              "\n",
              "<svg xmlns=\"http://www.w3.org/2000/svg\" height=\"24px\"viewBox=\"0 0 24 24\"\n",
              "     width=\"24px\">\n",
              "    <g>\n",
              "        <path d=\"M19 3H5c-1.1 0-2 .9-2 2v14c0 1.1.9 2 2 2h14c1.1 0 2-.9 2-2V5c0-1.1-.9-2-2-2zM9 17H7v-7h2v7zm4 0h-2V7h2v10zm4 0h-2v-4h2v4z\"/>\n",
              "    </g>\n",
              "</svg>\n",
              "      </button>\n",
              "    </div>\n",
              "\n",
              "<style>\n",
              "  .colab-df-quickchart {\n",
              "    background-color: #E8F0FE;\n",
              "    border: none;\n",
              "    border-radius: 50%;\n",
              "    cursor: pointer;\n",
              "    display: none;\n",
              "    fill: #1967D2;\n",
              "    height: 32px;\n",
              "    padding: 0 0 0 0;\n",
              "    width: 32px;\n",
              "  }\n",
              "\n",
              "  .colab-df-quickchart:hover {\n",
              "    background-color: #E2EBFA;\n",
              "    box-shadow: 0px 1px 2px rgba(60, 64, 67, 0.3), 0px 1px 3px 1px rgba(60, 64, 67, 0.15);\n",
              "    fill: #174EA6;\n",
              "  }\n",
              "\n",
              "  [theme=dark] .colab-df-quickchart {\n",
              "    background-color: #3B4455;\n",
              "    fill: #D2E3FC;\n",
              "  }\n",
              "\n",
              "  [theme=dark] .colab-df-quickchart:hover {\n",
              "    background-color: #434B5C;\n",
              "    box-shadow: 0px 1px 3px 1px rgba(0, 0, 0, 0.15);\n",
              "    filter: drop-shadow(0px 1px 2px rgba(0, 0, 0, 0.3));\n",
              "    fill: #FFFFFF;\n",
              "  }\n",
              "</style>\n",
              "\n",
              "    <script>\n",
              "      async function quickchart(key) {\n",
              "        const containerElement = document.querySelector('#' + key);\n",
              "        const charts = await google.colab.kernel.invokeFunction(\n",
              "            'suggestCharts', [key], {});\n",
              "      }\n",
              "    </script>\n",
              "\n",
              "\n",
              "      <script>\n",
              "\n",
              "function displayQuickchartButton(domScope) {\n",
              "  let quickchartButtonEl =\n",
              "    domScope.querySelector('#df-1e68bcb2-bfb5-4ff3-bfbd-e96f77fd5767 button.colab-df-quickchart');\n",
              "  quickchartButtonEl.style.display =\n",
              "    google.colab.kernel.accessAllowed ? 'block' : 'none';\n",
              "}\n",
              "\n",
              "        displayQuickchartButton(document);\n",
              "      </script>\n",
              "      <style>\n",
              "    .colab-df-container {\n",
              "      display:flex;\n",
              "      flex-wrap:wrap;\n",
              "      gap: 12px;\n",
              "    }\n",
              "\n",
              "    .colab-df-convert {\n",
              "      background-color: #E8F0FE;\n",
              "      border: none;\n",
              "      border-radius: 50%;\n",
              "      cursor: pointer;\n",
              "      display: none;\n",
              "      fill: #1967D2;\n",
              "      height: 32px;\n",
              "      padding: 0 0 0 0;\n",
              "      width: 32px;\n",
              "    }\n",
              "\n",
              "    .colab-df-convert:hover {\n",
              "      background-color: #E2EBFA;\n",
              "      box-shadow: 0px 1px 2px rgba(60, 64, 67, 0.3), 0px 1px 3px 1px rgba(60, 64, 67, 0.15);\n",
              "      fill: #174EA6;\n",
              "    }\n",
              "\n",
              "    [theme=dark] .colab-df-convert {\n",
              "      background-color: #3B4455;\n",
              "      fill: #D2E3FC;\n",
              "    }\n",
              "\n",
              "    [theme=dark] .colab-df-convert:hover {\n",
              "      background-color: #434B5C;\n",
              "      box-shadow: 0px 1px 3px 1px rgba(0, 0, 0, 0.15);\n",
              "      filter: drop-shadow(0px 1px 2px rgba(0, 0, 0, 0.3));\n",
              "      fill: #FFFFFF;\n",
              "    }\n",
              "  </style>\n",
              "\n",
              "      <script>\n",
              "        const buttonEl =\n",
              "          document.querySelector('#df-84f9a829-45e7-40f8-83ce-53747be4eb77 button.colab-df-convert');\n",
              "        buttonEl.style.display =\n",
              "          google.colab.kernel.accessAllowed ? 'block' : 'none';\n",
              "\n",
              "        async function convertToInteractive(key) {\n",
              "          const element = document.querySelector('#df-84f9a829-45e7-40f8-83ce-53747be4eb77');\n",
              "          const dataTable =\n",
              "            await google.colab.kernel.invokeFunction('convertToInteractive',\n",
              "                                                     [key], {});\n",
              "          if (!dataTable) return;\n",
              "\n",
              "          const docLinkHtml = 'Like what you see? Visit the ' +\n",
              "            '<a target=\"_blank\" href=https://colab.research.google.com/notebooks/data_table.ipynb>data table notebook</a>'\n",
              "            + ' to learn more about interactive tables.';\n",
              "          element.innerHTML = '';\n",
              "          dataTable['output_type'] = 'display_data';\n",
              "          await google.colab.output.renderOutput(dataTable, element);\n",
              "          const docLink = document.createElement('div');\n",
              "          docLink.innerHTML = docLinkHtml;\n",
              "          element.appendChild(docLink);\n",
              "        }\n",
              "      </script>\n",
              "    </div>\n",
              "  </div>\n"
            ],
            "text/plain": [
              "                                   Name  \\\n",
              "0  The Legend of Zelda: Ocarina of Time   \n",
              "1              Tony Hawk's Pro Skater 2   \n",
              "2                   Grand Theft Auto IV   \n",
              "3                           SoulCalibur   \n",
              "4                   Grand Theft Auto IV   \n",
              "\n",
              "                                                                                                                                                                                                                                                                                                                                                                                                                                                                                                                                                                                                                   Summary  \\\n",
              "0                                                                                                                                                                                                 As a young boy, Link is tricked by Ganondorf, the King of the Gerudo Thieves. The evil human uses Link to gain access to the Sacred Realm, where he places his tainted hands on Triforce and transforms the beautiful Hyrulean landscape into a barren wasteland. Link is determined to fix the problems he helped to create, so with the help of Rauru he travels through time gathering the powers of the Seven Sages.   \n",
              "1                                                                                                                                                                                                                                                                                                                                                                                                                As most major publishers' development efforts shift to any number of next-generation platforms, Tony Hawk 2 will likely stand as one of the last truly fantastic games to be released on the PlayStation.   \n",
              "2  [Metacritic's 2008 PS3 Game of the Year; Also known as \"GTA IV\"] What does the American Dream mean today? For Niko Belic, fresh off the boat from Europe. It's the hope he can escape his past. For his cousin, Roman, it is the vision that together they can find fortune in Liberty City, gateway to the land of opportunity. As they slip into debt and are dragged into a criminal underworld by a series of shysters, thieves and sociopaths, they discover that the reality is very different from the dream in a city that worships money and status, and is heaven for those who have them an a living nigh...   \n",
              "3                                                                                                                                                                                                                                                                                                                     This is a tale of souls and swords, transcending the world and all its history, told for all eternity... The greatest weapons-based fighter returns, this time on Sega Dreamcast. Soul Calibur unleashes incredible graphics, fantastic fighters, and combos so amazing they'll make your head spin!   \n",
              "4  [Metacritic's 2008 Xbox 360 Game of the Year; Also known as \"GTA IV\"] What does the American Dream mean today? For Niko Belic, fresh off the boat from Europe. It's the hope he can escape his past. For his cousin, Roman, it is the vision that together they can find fortune in Liberty City, gateway to the land of opportunity. As they slip into debt and are dragged into a criminal underworld by a series of shysters, thieves and sociopaths, they discover that the reality is very different from the dream in a city that worships money and status, and is heaven for those who have them an a living...   \n",
              "\n",
              "                                                   Genres  \n",
              "0                         ['Action Adventure', 'Fantasy']  \n",
              "1              ['Sports', 'Alternative', 'Skateboarding']  \n",
              "2  ['Action Adventure', 'Modern', 'Modern', 'Open-World']  \n",
              "3                            ['Action', 'Fighting', '3D']  \n",
              "4  ['Action Adventure', 'Modern', 'Modern', 'Open-World']  "
            ]
          },
          "execution_count": 8,
          "metadata": {},
          "output_type": "execute_result"
        }
      ],
      "source": [
        "# Load Data Into DataFrame\n",
        "df = pd.read_csv(\"data/raw_data/game_details.csv\")\n",
        "df.head()"
      ]
    },
    {
      "cell_type": "code",
      "execution_count": 9,
      "metadata": {
        "colab": {
          "base_uri": "https://localhost:8080/"
        },
        "id": "fv1oZy3hG2m5",
        "outputId": "892b6d77-7cad-4832-c5a8-7ddc9fecda2c"
      },
      "outputs": [
        {
          "data": {
            "text/plain": [
              "(20406, 3)"
            ]
          },
          "execution_count": 9,
          "metadata": {},
          "output_type": "execute_result"
        }
      ],
      "source": [
        "# Shape of the DataFrame\n",
        "df.shape"
      ]
    },
    {
      "cell_type": "markdown",
      "metadata": {
        "id": "ZFMiRS7zOoPj"
      },
      "source": [
        "### Total Number of Genres"
      ]
    },
    {
      "cell_type": "code",
      "execution_count": 10,
      "metadata": {
        "id": "OxC9nu6dHHTe"
      },
      "outputs": [],
      "source": [
        "genres_list = df[\"Genres\"].to_list()    # list of all the genres\n",
        "genres_count = {}                       # count of all the genres\n",
        "\n",
        "for genres in genres_list:\n",
        "    genre_list = eval(genres)\n",
        "\n",
        "    for genre in genre_list:\n",
        "        if genre in genres_count.keys():\n",
        "            genres_count[genre] += 1\n",
        "        else:\n",
        "            genres_count[genre] = 1"
      ]
    },
    {
      "cell_type": "code",
      "execution_count": 11,
      "metadata": {
        "colab": {
          "base_uri": "https://localhost:8080/"
        },
        "id": "fAKQ6t3zOqF6",
        "outputId": "4418d776-863a-4553-9e7f-e6c276b409a4"
      },
      "outputs": [
        {
          "name": "stdout",
          "output_type": "stream",
          "text": [
            "Total Number of Genres:  178\n",
            "Individual Genres Count: \n",
            " {'Action': 7097, 'General': 7035, 'Shooter': 3549, 'Action Adventure': 3424, 'Platformer': 2371, 'Arcade': 2355, 'Role-Playing': 2341, '3D': 2127, 'Adventure': 1995, '2D': 1979, 'Miscellaneous': 1927, 'Strategy': 1905, 'First-Person': 1875, 'Sci-Fi': 1779, 'Fantasy': 1729, 'Sports': 1727, 'Modern': 1569, 'Puzzle': 1376, 'Action RPG': 1300, 'Racing': 1239, 'Sim': 1162, 'Simulation': 1160, 'Third-Person': 1040, 'Traditional': 1015, 'Driving': 971, 'Historic': 915, 'Fighting': 838, 'Automobile': 782, 'Real-Time': 772, 'Turn-Based': 740, 'Open-World': 736, \"Beat-'Em-Up\": 713, 'Team': 619, 'Compilation': 546, 'Survival': 544, 'Individual': 450, \"Shoot-'Em-Up\": 433, 'Point-and-Click': 430, 'Horror': 419, 'Japanese-Style': 415, 'Music': 411, 'Tactical': 405, 'Tactics': 392, 'Combat': 382, 'Linear': 353, 'Console-style RPG': 346, 'Rhythm': 340, 'Management': 334, 'GT / Street': 283, 'Western-Style': 279, 'Soccer': 276, 'Scrolling': 264, 'Virtual Life': 249, 'Virtual': 237, 'Basketball': 222, 'Alternative': 216, 'Football': 213, 'Top-Down': 210, 'Flight': 204, 'Metroidvania': 174, 'Rally / Offroad': 172, 'Massively Multiplayer': 166, 'Vertical': 165, 'Business / Tycoon': 156, 'Wrestling': 156, 'Party / Minigame': 156, 'Visual Novel': 149, 'Other': 146, 'Baseball': 145, 'Matching': 144, 'Party': 140, 'Massively Multiplayer Online': 134, 'Golf': 130, 'Card Battle': 128, 'Vehicle': 128, 'Ice Hockey': 124, 'Tycoon': 124, 'PC-style RPG': 123, 'Mission-based': 112, 'Board / Card Game': 109, '': 106, 'Board Games': 103, 'Command': 102, 'Government': 101, 'Static': 101, 'Skateboarding': 99, 'Tennis': 99, 'Motorcycle': 99, 'Futuristic': 98, 'Career': 95, 'Dancing': 92, 'Civilian': 90, 'Horizontal': 89, 'Formula One': 87, 'WWII': 86, 'Parlor': 86, 'Logic': 85, 'Car Combat': 84, 'Street': 84, 'Kart': 83, 'Sandbox': 82, 'Defense': 81, 'Light Gun': 79, 'Space': 75, 'Breeding/Constructing': 71, 'Pinball': 67, 'Military': 67, 'Roguelike': 65, 'Boxing': 64, '4X': 61, 'Snowboarding': 60, 'Trainer': 60, 'Gambling': 60, 'Skate / Skateboard': 59, 'Rail': 56, 'Small Spaceship': 55, 'Mech': 55, 'Edutainment': 55, 'Olympic Sports': 54, 'Motocross': 52, 'Modern Jet': 48, 'Trivia / Game Show': 47, 'Stock Car': 45, 'MOBA': 44, 'Billiards': 40, 'Biking': 39, 'Athletics': 36, 'Wargame': 35, 'Stacking': 34, 'Music Maker': 34, 'Nature': 33, 'Fishing': 33, 'Boxing / Martial Arts': 31, 'Artillery': 28, 'Application': 27, 'Helicopter': 27, 'Ski / Snowboard': 27, 'Exercise / Fitness': 24, 'City Building': 23, 'Demolition Derby': 23, 'Large Spaceship': 21, 'Snow / Water': 20, 'Surfing': 20, 'Hidden Object': 19, 'Marine': 16, 'Ship': 16, 'Pet': 15, 'Rugby': 13, 'On-foot': 13, 'Truck': 12, 'Submarine': 11, 'Skating': 11, 'Train': 11, 'Hunting': 10, 'Text': 9, 'Civilian Plane': 9, 'On GameFAQs': 9, 'Bowling': 9, 'Surf / Wakeboard': 9, 'Volleyball': 6, 'Futuristic Sub': 6, 'Skiing': 6, 'Wakeboarding': 5, 'Futuristic Jet': 4, 'Cricket': 4, 'Horse Racing': 4, 'Interactive Movie': 4, 'Tank': 3, '6 Online': 2, 'No Online Multiplayer': 2, 'Videos': 2, 'Drag': 2, '1 Player': 2, '1-4': 1, 'Old Jet': 1, 'WWI': 1, '1-2': 1, 'Online Multiplayer': 1}\n"
          ]
        }
      ],
      "source": [
        "print(\"Total Number of Genres: \", len(genres_count))\n",
        "\n",
        "sorted_genres_count = dict(sorted(genres_count.items(), key=lambda item: item[1], reverse=True))\n",
        "print(\"Individual Genres Count: \\n\", sorted_genres_count)"
      ]
    },
    {
      "cell_type": "markdown",
      "metadata": {
        "id": "_gWCBWKdOtO2"
      },
      "source": [
        "### Using Only 1st Category of the Genres: Single-Label Classification"
      ]
    },
    {
      "cell_type": "code",
      "execution_count": 12,
      "metadata": {
        "id": "ur8t-A86Orch"
      },
      "outputs": [],
      "source": [
        "primary_genre_list = []    # only first genre\n",
        "indices_to_drop = []       # empty genre indices drop\n",
        "\n",
        "for idx, genres in enumerate(df[\"Genres\"].to_list()):\n",
        "    genres_list = eval(genres)\n",
        "\n",
        "    if len(genres_list) != 0:\n",
        "        primary_genre_list.append(genres_list[0])\n",
        "    else:\n",
        "        indices_to_drop.append(idx)"
      ]
    },
    {
      "cell_type": "code",
      "execution_count": 13,
      "metadata": {
        "colab": {
          "base_uri": "https://localhost:8080/"
        },
        "id": "7uUUIsyxxfyT",
        "outputId": "82a4d800-f401-462e-942d-901c96075822"
      },
      "outputs": [
        {
          "name": "stdout",
          "output_type": "stream",
          "text": [
            "Total Primary Genres:  19894\n",
            "['Action Adventure', 'Sports', 'Action Adventure', 'Action', 'Action Adventure', 'Action Adventure', 'Sports', 'Action Adventure', 'Action', 'Action Adventure', 'Action Adventure', 'Sports', 'Action Adventure', 'Action', 'Action Adventure', 'Action Adventure', 'Sports', 'Action Adventure', 'Action', 'Action Adventure', 'Action', 'Action', 'Action Adventure', 'Action Adventure', 'Modern', 'Role-Playing', 'Modern', 'Sports', 'Action Adventure', 'Role-Playing', 'Sports', 'Action', 'Action Adventure', 'Action Adventure', 'Action', 'Action Adventure', 'Action', 'Action', 'Sports', 'Action', 'Modern', 'Fantasy', 'Action', 'Action', 'Action Adventure', 'Action Adventure', 'Action', 'Action', 'Action Adventure', 'Action', 'Role-Playing', 'Role-Playing', 'Adventure', 'Action Adventure', 'Role-Playing', 'Action', 'Role-Playing', 'Action Adventure', 'Action Adventure', 'Driving', 'Action Adventure', 'Action', 'Action Adventure', 'Miscellaneous', 'Miscellaneous', 'Role-Playing', 'Action Adventure', 'Action Adventure', 'Action', 'Action Adventure', 'Action', 'Driving', 'Action', 'Role-Playing', 'Action Adventure', 'Action Adventure', 'Modern', 'Action Adventure', 'Sports', 'Sports', 'Role-Playing', 'Action Adventure', 'Action', 'Action', 'Action', 'Modern', 'Action', 'Puzzle', 'Miscellaneous', 'Role-Playing', 'Action', 'Role-Playing', 'Action', 'Action Adventure', 'Sports', 'Action Adventure', 'Action', 'Sports', 'Action Adventure', 'Action', 'Action', 'Action', 'Action', 'Action', 'Action Adventure', 'Role-Playing', 'Action', 'Action', 'Action', 'Action Adventure', 'Role-Playing', 'Action', 'Action', 'Action', 'Action Adventure', 'Role-Playing', 'Action', 'Action', 'Action', 'Action Adventure', 'Role-Playing', 'Role-Playing', 'Action', 'Action', 'Action', 'Action Adventure', 'Adventure', 'Action Adventure', 'Action Adventure', 'Driving', 'Role-Playing', 'Role-Playing', 'Action Adventure', 'Open-World', 'Action', 'Action Adventure', 'Sports', 'Role-Playing', 'Action Adventure', 'Role-Playing', 'Strategy', 'Sports', 'Action', 'Action', 'Action RPG', 'Driving', 'Action', 'Strategy', 'Driving', 'General', 'Role-Playing', 'Action Adventure', 'Action Adventure', 'Adventure', 'Action', 'Role-Playing', 'Turn-Based', 'Sports', 'Action', 'Role-Playing', 'Action RPG', 'Action', 'Action', 'Action', 'Action', 'Action Adventure', 'Platformer', 'Strategy', 'Sports', 'Action', 'Action Adventure', 'Adventure', 'Role-Playing', 'Role-Playing', 'Role-Playing', 'Role-Playing', 'Action Adventure', 'Sports', 'Action Adventure', 'Action Adventure', 'Action', 'Strategy', 'Action Adventure', 'Role-Playing', 'Role-Playing', 'Action', 'Action Adventure', 'Action', 'Sports', 'Sports', 'Role-Playing', 'Modern', 'Role-Playing', 'Fantasy', 'Puzzle', 'Driving', 'Action', 'Action', 'Action', 'Driving', 'Sports', 'Role-Playing', 'Miscellaneous', 'Sports', 'Sports', 'Action', 'Role-Playing', 'Miscellaneous', 'Sports', 'Sports', 'Action', 'Role-Playing', 'Miscellaneous', 'Sports', 'Sports', 'Action', 'Role-Playing', 'Miscellaneous', 'Sports', 'Sports', 'Action', 'Role-Playing', 'Action Adventure', 'Action', 'Racing', 'Action Adventure', 'Role-Playing', 'Sports', 'Sports', 'Sports', 'Action', 'Action Adventure', 'Action Adventure', 'Action', 'Action', 'Fantasy', 'Action Adventure', 'Strategy', 'Sports', 'Simulation', 'Action', 'Strategy', 'Action', 'Action', 'Driving', 'Sports', 'Action', 'Racing', 'Action', 'Sports', 'Strategy', 'Role-Playing', 'Adventure', 'Action', 'Action Adventure', 'Action Adventure', 'Role-Playing', 'Role-Playing', 'Sports', 'Action RPG', 'Action', 'Sports', 'Action', 'Role-Playing', 'Sports', 'Sports', 'Strategy', 'Driving', 'Role-Playing', 'Action Adventure', 'Role-Playing', 'Action Adventure', 'Action', 'Sports', 'Action', 'Sports', 'Action Adventure', 'Strategy', 'Action', 'Strategy', 'Action', 'Role-Playing', 'Action Adventure', 'Miscellaneous', 'Action', 'Strategy', 'Driving', 'Role-Playing', 'Strategy', 'Action', 'Miscellaneous', 'Role-Playing', 'Action', 'Role-Playing', 'Action Adventure', 'Role-Playing', 'Action', 'Role-Playing', 'Action', 'Action', 'Miscellaneous', 'Action', 'Action', 'Action RPG', 'Action Adventure', 'Sports', 'Action', 'Action', 'Action RPG', 'Action Adventure', 'Sports', 'Action', 'Action', 'Action RPG', 'Action Adventure', 'Sports', 'Action', 'Action', 'Action RPG', 'Action Adventure', 'Sports', 'Action', 'Strategy', 'Action', 'Action', 'Simulation', 'Miscellaneous', 'Role-Playing', 'Role-Playing', 'Action', 'Action', 'Strategy', 'General', 'Driving', 'Sports', 'Sports', 'Role-Playing', 'Action Adventure', 'Role-Playing', 'Action RPG', 'Action', 'Action', 'Simulation', 'Sports', 'Simulation', 'Simulation', 'Action Adventure', 'Action', 'Action Adventure', 'Sports', 'Action Adventure', 'Action Adventure', 'Role-Playing', 'Driving', 'Action', 'Action Adventure', 'Action', 'Action Adventure', 'Action Adventure', 'Action Adventure', 'Racing', 'Miscellaneous', 'Action Adventure', 'Action', 'Action', 'Action Adventure', 'Racing', 'Action', 'Adventure', 'Sports', 'Action', 'Action Adventure', 'Action Adventure', 'Role-Playing', 'Action', 'Role-Playing', 'Sports', 'Action Adventure', 'Action', 'Role-Playing', 'Sports', 'Sports', 'Sports', 'Adventure', 'Sports', 'Action', 'Action Adventure', 'Action', 'Action Adventure', 'Strategy', 'Role-Playing', 'Action', 'Action Adventure', 'Driving', 'Action Adventure', 'Strategy', \"Beat-'Em-Up\", 'Action', 'Miscellaneous', 'Role-Playing', 'Action', 'Sports', 'Role-Playing', 'Role-Playing', 'Action', 'Racing', 'Action', 'Role-Playing', 'Role-Playing', 'Action', 'Racing', 'Action', 'Role-Playing', 'Role-Playing', 'Action', 'Racing', 'Action', 'Role-Playing', 'Role-Playing', 'Action', 'Racing', 'Action', 'Role-Playing', 'Sports', 'Strategy', 'Action RPG', 'Role-Playing', 'Action RPG', 'Action', 'Action Adventure', 'Action', 'Action', 'Action RPG', 'Action', 'Role-Playing', 'General', 'Driving', 'Action', 'Sports', 'Sports', 'Action', 'Action Adventure', 'Driving', 'Sports', 'Simulation', 'Simulation', 'Role-Playing', 'Role-Playing', 'Role-Playing', 'Action', 'Sports', 'Action', 'Action', 'Action RPG', 'Action', 'Action', 'Action Adventure', 'Action', 'Sports', 'Miscellaneous', 'Role-Playing', 'Action', 'Action', 'Sports', 'Action', 'Action', 'Action', 'Role-Playing', 'Driving', 'Action Adventure', 'Sports', 'Role-Playing', 'Strategy', 'Action', 'Sports', 'Action', 'Sports', 'Sports', 'Strategy', 'Role-Playing', 'Action Adventure', 'Action', 'Sports', 'Action', 'Puzzle', 'Action Adventure', 'Adventure', 'Sports', 'Sports', 'Miscellaneous', 'Sports', 'Strategy', 'Platformer', 'Sports', 'Role-Playing', 'Action', 'Simulation', 'Action Adventure', 'Role-Playing', 'Simulation', 'Role-Playing', 'Role-Playing', 'Role-Playing', 'Action', 'Sports', 'Action', 'Platformer', 'Role-Playing', 'Action', 'Sports', 'Action', 'Platformer', 'Role-Playing', 'Action', 'Sports', 'Action', 'Platformer', 'Role-Playing', 'Action', 'Sports', 'Action', 'Platformer', 'Action', 'Adventure', 'Sports', 'Sports', 'Strategy', 'Sports', 'Action', 'Action', 'Adventure', 'Simulation', 'Action Adventure', 'Action Adventure', 'Action Adventure', 'Role-Playing', 'Action', 'Action Adventure', 'Action', 'Strategy', 'Fantasy', 'Sports', 'Sports', 'Role-Playing', 'Action', 'Strategy', 'Action', 'Driving', 'Simulation', 'Adventure', 'Action', 'Strategy', 'Action', 'Role-Playing', 'Simulation', 'Action', 'Action Adventure', 'Action', 'General', 'Sports', 'Action', 'General', 'Driving', 'Adventure', 'Miscellaneous', 'Role-Playing', 'Miscellaneous', 'Action', 'Sports', 'Sports', 'Role-Playing', 'Sports', 'Driving', 'Sports', 'Sports', 'Strategy', 'Adventure', 'Action', 'Driving', 'Action Adventure', 'Action Adventure', 'Sports', 'Action Adventure', 'Strategy', 'Strategy', 'Miscellaneous', 'Action', 'Role-Playing', 'Adventure', 'Role-Playing', 'Action Adventure', 'Miscellaneous', 'Adventure', 'Action', 'Sports', 'Sports', 'Action', 'Sports', 'Role-Playing', 'Driving', 'Strategy', 'Role-Playing', 'Action', 'Fantasy', 'Action', 'Compilation', 'Sports', 'Action', 'Fantasy', 'Action', 'Compilation', 'Sports', 'Action', 'Fantasy', 'Action', 'Compilation', 'Sports', 'Action', 'Fantasy', 'Action', 'Compilation', 'Sports', 'Strategy', 'Strategy', 'Sports', 'Strategy', 'Miscellaneous', 'Driving', 'Action', 'Role-Playing', 'Strategy', 'Action', 'Action', 'Role-Playing', 'Action', 'Sports', 'Role-Playing', 'PC-style RPG', 'Role-Playing', 'Action', 'Strategy', 'Racing', 'Action Adventure', 'Role-Playing', 'Action', 'Action', 'Sports', 'Role-Playing', 'Role-Playing', 'Action', 'Action Adventure', 'Action', 'Sports', 'Sports', 'Action', 'Adventure', 'Action', 'Strategy', 'Action', 'Action', 'Action', 'Action', 'Racing', 'Role-Playing', 'Action', 'Role-Playing', 'Sports', 'Sports', 'Sports', 'Driving', 'Role-Playing', 'Action Adventure', 'Action', 'Driving', 'Driving', 'Role-Playing', 'Action', 'Role-Playing', 'Sports', 'Driving', 'Action Adventure', \"Beat-'Em-Up\", 'Action Adventure', 'Sports', 'Sports', 'Strategy', 'Sports', 'Strategy', 'Action', 'Puzzle', 'Action', 'Action Adventure', 'Action', 'Role-Playing', 'Miscellaneous', 'Role-Playing', 'Miscellaneous', 'Action', 'Sports', 'Role-Playing', 'Action', 'Simulation', 'Role-Playing', 'Action', 'Role-Playing', 'Action', 'Sports', 'Role-Playing', 'Action', 'Role-Playing', 'Action', 'Sports', 'Role-Playing', 'Action', 'Role-Playing', 'Action', 'Sports', 'Role-Playing', 'Action', 'Role-Playing', 'Action', 'Sports', 'Action', 'Driving', 'Action', 'Action Adventure', 'Action Adventure', 'Sports', 'Action Adventure', 'Role-Playing', 'Action', 'General', 'Action', 'Action', 'Action Adventure', 'Sports', 'Action Adventure', 'Strategy', 'Role-Playing', 'Strategy', 'Action Adventure', 'Action', 'Role-Playing', 'Driving', 'Sports', 'Driving', 'Action', 'Action Adventure', 'Adventure', 'Adventure', 'Action', 'Role-Playing', 'Miscellaneous', 'Action', 'Action', 'Action', 'Action', 'Miscellaneous', 'Action', 'Action', 'Action', 'Miscellaneous', 'Sports', 'Action', 'Driving', 'General', 'Adventure', 'Action', 'Strategy', 'Driving', 'Action Adventure', 'Adventure', 'Miscellaneous', 'First-Person', 'Action', 'Miscellaneous', 'Action Adventure', 'Sports', 'Action', 'Action Adventure', 'Action', 'Action Adventure', 'Action', 'Miscellaneous', 'Adventure', 'Action', 'Sports', 'Role-Playing', 'Miscellaneous', 'Action', 'Sports', 'Role-Playing', 'Role-Playing', 'Sports', 'Action', 'Action Adventure', 'Role-Playing', 'General', 'Action Adventure', 'Action Adventure', 'Adventure', 'Sports', 'Action', 'Sports', 'Simulation', 'Sports', 'Strategy', 'Action', 'Sports', 'Simulation', 'Sports', 'Strategy', 'Action', 'Sports', 'Simulation', 'Sports', 'Strategy', 'Action', 'Sports', 'Simulation', 'Sports', 'Strategy', 'Action Adventure', 'Sports', 'Driving', 'Driving', 'Action', 'Action', 'Sports', 'Action Adventure', 'Action', 'Action', 'General', 'Action', 'Action Adventure', 'Action Adventure', 'Sports', 'Puzzle', 'Action Adventure', 'Action', 'Strategy', 'Action Adventure', 'Driving', 'Action Adventure', 'Action', 'Action', 'Action', 'Driving', 'Action', 'Adventure', 'Driving', 'Action', 'Sports', 'Role-Playing', 'Action', 'Action', 'Action', 'Action', 'Horror', 'Action', 'Sports', 'Sim', 'Sports', 'Action', 'Sci-Fi', 'Action', 'Driving', 'Action', 'Sports', 'Action', 'Action Adventure', 'Action', 'Role-Playing', 'Miscellaneous', 'Adventure', 'Action Adventure', 'Sports', 'Action Adventure', 'Role-Playing', 'Sports', 'Action Adventure', 'Action', 'Strategy', 'Action', 'Action', 'Sports', 'Sports', 'Strategy', 'Sports', 'Strategy', 'Strategy', 'Action Adventure', 'Action', 'Action Adventure', 'Role-Playing', 'Action', 'Action', 'Sports', 'Action', 'Action', 'Action', 'Sports', 'Sports', 'Adventure', 'Action', 'Action', 'Action', 'Sports', 'Adventure', 'Action', 'Action', 'Action', 'Sports', 'Adventure', 'Action', 'Action', 'Action', 'Sports', 'Adventure', 'Action', 'Action', 'Action', 'Role-Playing', 'Action Adventure', 'Action', 'Sci-Fi', 'Sports', 'Sports', 'Sports', 'Sports', 'Action', 'Sports', 'Action', 'Action', 'Action', 'Strategy', 'Action Adventure', 'Strategy', 'Action', 'Strategy', 'Sports', 'Action', 'Role-Playing', 'Miscellaneous', 'Action', 'Action Adventure', 'Action', 'Role-Playing', 'Action', 'Action', 'Action', 'Action', 'Action', 'Sports', 'Sports', 'Sports', 'Action', 'Adventure', 'Action Adventure', 'Action RPG', 'Card Battle', 'Strategy', 'Action Adventure', 'Role-Playing', 'Action', 'Miscellaneous', 'Strategy', 'Action', 'Action', 'Action', 'Action Adventure', 'Action', 'Sports', 'Sports', 'Sports', 'Driving', 'Action', 'Action', 'Strategy', 'Action', 'Action', 'Miscellaneous', 'Role-Playing', 'Sports', 'Action', 'Action', 'Strategy', 'Strategy', 'Strategy', 'General', 'Sci-Fi', 'Role-Playing', 'Racing', 'Action', 'Action Adventure', 'Role-Playing', 'Sports', 'Role-Playing', 'Action Adventure', 'Strategy', 'Strategy', 'Action', 'Sports', 'Adventure', 'Driving', 'Action', 'Simulation', 'Sports', 'Adventure', 'Driving', 'Action', 'Simulation', 'Sports', 'Adventure', 'Driving', 'Action', 'Simulation', 'Sports', 'Adventure', 'Driving', 'Action', 'Simulation', 'Driving', 'Driving', 'Action', 'Role-Playing', 'Role-Playing', 'Action', 'Fantasy', 'Adventure', 'Action', 'Sports', 'Fantasy', 'Action', 'Driving', 'Action', 'Driving', 'Racing', 'Racing', 'Sports', 'Action', 'Role-Playing', 'Simulation', 'Role-Playing', 'Action', 'Adventure', 'Action Adventure', 'Miscellaneous', 'Sports', 'Role-Playing', 'Sports', 'Sports', 'Action', 'Strategy', 'Action', 'Driving', 'Action', 'Action', 'Action Adventure', 'Action Adventure', 'Strategy', 'Driving', 'Role-Playing', 'Action Adventure', 'Action', 'Fantasy', 'Shooter', 'Adventure', 'Sports', 'Role-Playing', 'Role-Playing', 'Action Adventure', 'Strategy', 'Action', 'Action', 'Action Adventure', 'Action', 'Miscellaneous', 'Sci-Fi', 'Action', 'Driving', 'Adventure', 'Strategy', 'Action', 'Action', 'Action', 'Miscellaneous', 'Strategy', 'Driving', 'Japanese-Style', 'Role-Playing', 'Adventure', 'Action Adventure', 'Role-Playing', 'Role-Playing', 'Role-Playing', 'Sci-Fi', 'Action Adventure', 'Role-Playing', 'Strategy', 'Sports', 'Driving', 'Driving', 'Racing', 'Fantasy', 'Driving', 'Miscellaneous', 'Driving', 'Racing', 'Fantasy', 'Driving', 'Miscellaneous', 'Driving', 'Racing', 'Fantasy', 'Driving', 'Miscellaneous', 'Driving', 'Racing', 'Fantasy', 'Driving', 'Miscellaneous', 'Action', 'Action', 'Action', 'Action', 'Strategy', 'Role-Playing', 'Strategy', 'Role-Playing', 'Miscellaneous', 'Action', 'Action', 'Action', 'Adventure', 'Japanese-Style', 'Miscellaneous', 'Simulation', 'Action Adventure', 'Strategy', 'Action Adventure', 'Role-Playing', 'Adventure', 'Adventure', 'Action', 'Miscellaneous', 'Action Adventure', 'Action', 'Role-Playing', 'Driving', 'Action', 'Action', 'Role-Playing', 'Action', 'Action', 'Action Adventure', 'Role-Playing', 'Action', 'Action', 'Action Adventure', 'Strategy', 'Sports', 'Action Adventure', 'Action Adventure', 'Miscellaneous', 'General', 'Action', 'Action', 'Strategy', 'Driving', 'Strategy', 'Sports', 'Action Adventure', 'Action', 'Action Adventure', 'Action Adventure', 'Role-Playing', 'Action', 'Action', 'Action Adventure', 'Role-Playing', 'Action', 'Action', 'Role-Playing', 'Action Adventure', 'Action', 'Driving', 'Action', 'Action', 'Action', 'Action', 'Action', 'Sports', 'Action Adventure', 'Driving', 'Sports', 'Action', 'Role-Playing', 'Driving', 'Action', 'Action Adventure', 'Action', 'Sports', 'Action', 'Action', 'Simulation', 'Sports', 'Sports', 'Action', 'Action', 'Simulation', 'Sports', 'Sports', 'Action', 'Action', 'Simulation', 'Sports', 'Sports', 'Action', 'Action', 'Simulation', 'Sports', 'Strategy', 'Action Adventure', 'Sports', 'Miscellaneous', 'Action', 'Action', 'Sports', 'Strategy', 'Miscellaneous', 'Strategy', 'Action Adventure', 'Action', 'Driving', 'Action', 'Strategy', 'Role-Playing', 'Action', 'Sports', 'Role-Playing', 'Action Adventure', 'Action RPG', 'Action', 'Strategy', 'Sports', 'Sports', 'Action', 'Action', 'Miscellaneous', 'Driving', 'Action Adventure', 'Sports', 'Strategy', 'Action', 'Driving', 'Sports', 'Action', 'Sports', 'Role-Playing', 'Role-Playing', 'Action Adventure', 'Miscellaneous', 'Action', 'Action', 'Action', 'Action', 'Role-Playing', 'Action', 'Driving', 'Puzzle', 'Action', 'Action RPG', 'Adventure', 'Action Adventure', 'Strategy', 'Driving', 'Action Adventure', 'Action Adventure', 'Action', 'Action', 'Action Adventure', 'Action', 'Driving', 'Action', 'Action', 'Action', 'Racing', 'Sports', 'Miscellaneous', 'Action', 'Role-Playing', 'Action', 'Role-Playing', 'Action', 'Adventure', 'Role-Playing', 'Racing', 'Action', 'Action', 'Role-Playing', 'Action', 'Strategy', 'Sports', 'Sports', 'Strategy', 'Driving', 'Strategy', 'Sports', 'Sports', 'Strategy', 'Driving', 'Driving', 'Strategy', 'Sports', 'Sports', 'Strategy', 'Driving', 'Strategy', 'Sports', 'Sports', 'Strategy', 'Driving', 'Role-Playing', 'Action', 'Sports', 'Role-Playing', 'Action', 'Adventure', 'Miscellaneous', 'Racing', 'Miscellaneous', 'Role-Playing', 'Action', 'Action Adventure', 'Action', 'Strategy', 'Role-Playing', 'Driving', 'Role-Playing', 'Action Adventure', 'Action', 'Role-Playing', 'Action', 'General', 'Sports', 'Action', 'Action', 'Sports', 'Driving', 'Action', 'Action', 'Action', 'Strategy', 'Action Adventure', 'Action Adventure', 'Role-Playing', 'Strategy', 'Racing', 'Adventure', 'Action', 'Action', 'Action', 'Role-Playing', 'Action', 'Adventure', 'Sci-Fi', 'Strategy', 'Adventure', 'Action', 'Adventure', 'Miscellaneous', 'Action', 'Miscellaneous', 'Role-Playing', 'Sports', 'Miscellaneous', 'Strategy', 'Racing', 'Adventure', 'Strategy', 'Strategy', 'Sports', 'Simulation', 'Action Adventure', 'Role-Playing', 'Action', 'Action', 'Driving', 'Massively Multiplayer Online', 'Sports', 'Sports', 'Sports', 'Adventure', 'Racing', 'Role-Playing', 'Strategy', 'Action', 'Action', 'Action', 'Racing', 'Action', 'Action', 'Role-Playing', 'Miscellaneous', 'Adventure', 'Role-Playing', 'Action Adventure', 'Role-Playing', 'Miscellaneous', 'Adventure', 'Role-Playing', 'Action Adventure', 'Role-Playing', 'Miscellaneous', 'Adventure', 'Role-Playing', 'Action Adventure', 'Role-Playing', 'Miscellaneous', 'Adventure', 'Role-Playing', 'Action Adventure', 'Sim', 'Puzzle', 'Strategy', 'Role-Playing', 'Sports', 'Racing', 'Role-Playing', 'Action', 'Action', 'Action', 'Action Adventure', 'Action Adventure', 'Driving', 'Action Adventure', 'Fantasy', 'Role-Playing', 'Role-Playing', 'Action Adventure', 'Miscellaneous', 'Action', 'Role-Playing', 'Role-Playing', 'Simulation', 'Driving', 'Strategy', 'Role-Playing', 'Driving', 'Strategy', 'Role-Playing', 'Sports', 'Action', 'Strategy', 'Role-Playing', 'Action', 'Role-Playing', 'Action', 'Simulation', 'Action', 'Role-Playing', 'Action', 'Action', 'Adventure', 'Shooter', 'Action Adventure', 'Puzzle', 'Action Adventure', 'Horror', 'Action', 'Shooter', 'Action', 'Action', 'Sports', 'Sports', 'Role-Playing', 'Role-Playing', 'Action Adventure', 'Action', 'Action Adventure', 'Role-Playing', 'Action', 'Action', 'Action', 'Action', 'Action Adventure', 'Action Adventure', 'Driving', 'Strategy', 'Adventure', 'Role-Playing', 'Sports', 'Sports', 'Role-Playing', 'Action', 'Strategy', 'Action Adventure', 'Adventure', 'Miscellaneous', 'Role-Playing', 'Action', 'Action', 'Action', 'Action Adventure', 'Action', 'Sports', 'Sports', 'Action', 'Action Adventure', 'Action', 'Sports', 'Sports', 'Action', 'Action Adventure', 'Action', 'Sports', 'Sports', 'Action', 'Action Adventure', 'Action', 'Sports', 'Sports', 'Action', 'Role-Playing', 'Adventure', 'Adventure', 'Action', 'Action', 'Miscellaneous', 'Action', 'Role-Playing', 'Strategy', 'Miscellaneous', 'Action', 'Simulation', 'Action Adventure', 'Miscellaneous', 'Role-Playing', 'Action', 'Role-Playing', 'Action', 'Action Adventure', 'Action', 'Driving', 'Action', 'Action', 'Action', 'Action', 'Miscellaneous', 'Action Adventure', 'Action', 'Role-Playing', 'Sports', 'Action', 'Strategy', 'Action', 'Simulation', 'Action', 'Sports', 'Racing', 'Miscellaneous', 'Role-Playing', 'Driving', 'Fantasy', 'Action Adventure', 'Action', 'Action Adventure', 'Driving', 'Role-Playing', 'Sports', 'Sports', 'Driving', 'Action', 'Driving', 'Driving', 'Action', 'Strategy', 'Driving', 'Sports', 'Role-Playing', 'Adventure', 'Action', 'Role-Playing', 'Action Adventure', 'Strategy', 'Action', 'Puzzle', 'Modern', 'Strategy', 'Role-Playing', 'Sports', 'Role-Playing', 'Action', 'Action', 'Strategy', 'Action', 'Sports', 'Role-Playing', 'Action Adventure', 'Sports', 'Fantasy', 'Action', 'Strategy', 'Strategy', 'Adventure', 'Action', 'Sci-Fi', 'Strategy', 'Strategy', 'Adventure', 'Action', 'Sci-Fi', 'Strategy', 'Strategy', 'Adventure', 'Action', 'Sci-Fi', 'Strategy', 'Strategy', 'Adventure', 'Action', 'Sci-Fi', 'Adventure', 'Simulation', 'Sci-Fi', 'Action', 'Role-Playing', 'Action', 'Action', 'Massively Multiplayer Online', 'Action', 'Action Adventure', 'Dancing', 'Action', 'Fantasy', 'Action', 'Action Adventure', 'Action', 'Action', 'Action', 'Action', 'Action Adventure', 'Action', 'Role-Playing', 'Role-Playing', 'Driving', 'Role-Playing', 'Action Adventure', 'Role-Playing', 'Action', 'Action', 'Racing', 'Adventure', 'Action', 'Strategy', 'Action', 'Action RPG', 'Action', 'Action', 'Action', 'Sports', 'Action', 'Action Adventure', 'Racing', 'Adventure', 'Action', 'Sports', 'Action', 'Strategy', 'Action', 'Sports', 'Miscellaneous', 'Action', 'Action', 'Action', 'Adventure', 'Role-Playing', 'Action Adventure', 'Action RPG', 'Sports', 'Role-Playing', 'Strategy', 'Racing', 'Action', 'Sports', 'Action Adventure', 'Racing', 'Strategy', 'Role-Playing', 'Action', 'Role-Playing', 'Action', 'Miscellaneous', 'Sports', 'Simulation', 'Action', 'Role-Playing', 'Role-Playing', 'Action', 'Action', 'Action', 'Action', 'Action Adventure', 'Driving', 'Sports', 'General', 'Role-Playing', 'Action Adventure', 'Driving', 'Sports', 'General', 'Role-Playing', 'Action Adventure', 'Driving', 'Sports', 'General', 'Role-Playing', 'Action Adventure', 'Driving', 'Sports', 'General', 'Role-Playing', 'Action', 'Action Adventure', 'Action', 'Action', 'Action Adventure', 'Action', 'Strategy', 'Sports', 'Sports', 'Action Adventure', 'Simulation', 'Action', 'Action', 'Role-Playing', 'General', 'Sports', 'Role-Playing', 'Sports', 'Action', 'Sports', 'Action Adventure', 'Action', 'Strategy', 'Role-Playing', 'Adventure', 'Action', 'PC-style RPG', 'Adventure', 'Strategy', 'Open-World', 'Action Adventure', 'Sports', 'Action', 'Role-Playing', 'Role-Playing', 'Adventure', 'Action', 'Action', 'Action', 'Action', 'Role-Playing', 'Action RPG', 'Action', 'Role-Playing', 'Action', 'Action', 'Action', 'Action', 'Driving', 'Sports', 'Driving', 'Role-Playing', 'Driving', 'Role-Playing', 'Street', 'Action Adventure', 'Role-Playing', 'Console-style RPG', 'Action', 'Sci-Fi', 'Strategy', 'Action', 'Strategy', 'Action', 'Adventure', 'Sports', 'Action', 'Action', 'Action Adventure', 'Action', 'Action Adventure', 'Role-Playing', 'Action Adventure', 'Strategy', 'Strategy', 'Sports', 'General', 'Action Adventure', 'Action', 'Action', 'Action', 'Strategy', 'Action', 'Driving', 'Racing', 'Action', 'Strategy', 'Action', 'Driving', 'Racing', 'Action', 'Strategy', 'Action', 'Driving', 'Racing', 'Action', 'Strategy', 'Action', 'Driving', 'Racing', 'Action', 'Driving', 'Driving', 'Action', 'Action', 'Role-Playing', 'Action', 'Role-Playing', 'Action Adventure', 'Action', 'Action', 'Action Adventure', 'Action', 'Action Adventure', 'Driving', 'Role-Playing', 'Driving', 'Action', 'Fantasy', 'Miscellaneous', 'Driving', 'Role-Playing', 'Role-Playing', 'Action', 'Action Adventure', 'Sports', 'Action', 'Sports', 'Action', 'Sports', 'Sports', 'Sports', 'Role-Playing', 'Action', 'Adventure', 'Action', 'Action Adventure', 'Strategy', 'General', 'Role-Playing', 'Action', 'Sports', 'Role-Playing', 'Strategy', 'Fighting', 'Strategy', 'Action', 'Sports', 'Strategy', 'Action', 'Strategy', 'Action Adventure', 'Role-Playing', 'Action', 'Sports', 'Action', 'Platformer', 'Role-Playing', 'Action', 'Action Adventure', 'Miscellaneous', 'Miscellaneous', 'Action', 'Sports', 'Action', 'Sports', 'Sports', 'Strategy', 'Sports', 'Adventure', 'Action Adventure', 'Adventure', 'Action', 'Driving', 'Role-Playing', 'Adventure', 'Role-Playing', 'Strategy', 'Role-Playing', 'Racing', 'Action', 'Miscellaneous', 'Simulation', 'Sports', 'Simulation', 'Action', 'Miscellaneous', 'Simulation', 'Sports', 'Simulation', 'Action', 'Miscellaneous', 'Simulation', 'Sports', 'Simulation', 'Action', 'Miscellaneous', 'Simulation', 'Sports', 'Simulation', 'Action', 'Miscellaneous', 'Role-Playing', 'Miscellaneous', 'Action', 'Adventure', 'Racing', 'Miscellaneous', 'Action Adventure', 'Action', 'Action Adventure', 'Sports', 'Action', 'Action', 'Role-Playing', 'Sports', 'Action Adventure', 'Action', 'Action Adventure', 'Action', 'Driving', 'Action Adventure', 'Action', 'Adventure', 'Sports', 'Sports', 'Role-Playing', 'Adventure', 'Action Adventure', 'General', 'Action', 'Modern', 'Action', 'Strategy', 'Strategy', 'Role-Playing', 'Action Adventure', 'Action', 'Traditional', 'Driving', 'Miscellaneous', 'Driving', 'Sports', 'Driving', 'Role-Playing', 'Miscellaneous', 'Sports', 'Sports', 'Action', 'Role-Playing', 'Action', 'Role-Playing', 'Action Adventure', 'Role-Playing', 'Action', 'Action', 'Action Adventure', 'Action Adventure', 'Role-Playing', 'Action', 'Role-Playing', 'Miscellaneous', 'Action', 'General', 'Action Adventure', 'Action', 'Action Adventure', 'Adventure', 'Action', 'Sports', 'Action Adventure', 'Strategy', 'Action Adventure', 'Action Adventure', 'Role-Playing', 'Action', 'Miscellaneous', 'Driving', 'Sports', 'Sports', 'Action', 'Action Adventure', 'Action', 'Action', 'Action', 'Action', 'Action Adventure', 'Action', 'Action', 'Action', 'Action', 'Action Adventure', 'Action', 'Action', 'Action', 'Action', 'Action Adventure', 'Action', 'Action', 'Action', 'Role-Playing', 'Action', 'Action', 'Action', 'Strategy', 'Adventure', 'Action', 'Role-Playing', 'Action', 'Action', 'Miscellaneous', 'Role-Playing', 'Action', 'Role-Playing', 'Driving', 'Action', 'Simulation', 'Action Adventure', 'Action', 'Action', 'Action Adventure', 'Action', 'Action', 'Puzzle', 'Action', 'Driving', 'Action Adventure', 'Action Adventure', 'Action', 'Strategy', 'Sports', 'Action', 'Miscellaneous', 'Action', 'Strategy', 'Action Adventure', 'Action', 'Action Adventure', 'Action', 'Racing', 'Modern', 'Role-Playing', 'Strategy', 'Action', 'Sports', 'Strategy', 'Role-Playing', 'Action', 'Role-Playing', 'Sports', 'Sports', 'Action Adventure', 'Action Adventure', 'Action', 'Action Adventure', 'Strategy', 'Miscellaneous', 'Adventure', 'Sci-Fi', 'Racing', 'Action', 'Sports', 'Role-Playing', 'Sci-Fi', 'Sports', 'Action', 'Action', 'Action', 'Strategy', 'Action Adventure', 'Action', 'Adventure', 'Action', 'Sports', 'Sports', 'Role-Playing', 'Role-Playing', 'Driving', 'Sports', 'Sports', 'Role-Playing', 'Adventure', 'Action', 'Strategy', 'Racing', 'Role-Playing', 'Adventure', 'Action', 'Strategy', 'Racing', 'Role-Playing', 'Adventure', 'Action', 'Strategy', 'Racing', 'Role-Playing', 'Adventure', 'Action', 'Strategy', 'Racing', 'Racing', 'Action Adventure', 'Adventure', 'Miscellaneous', 'Strategy', 'Miscellaneous', 'Sports', 'Action Adventure', 'Strategy', 'Action', 'Action', 'Sports', 'Miscellaneous', 'Sports', 'Action Adventure', 'Strategy', 'Action', 'Action Adventure', 'Role-Playing', 'Action', 'Sports', 'Strategy', 'Strategy', 'Action', 'Action', 'Action', 'Fantasy', 'Fantasy', 'Miscellaneous', 'Simulation', 'Action', 'Role-Playing', 'Action', 'Action', 'Strategy', 'Role-Playing', 'Action Adventure', 'Role-Playing', 'Role-Playing', 'Miscellaneous', 'Simulation', 'Adventure', 'Action', 'Role-Playing', 'Action', 'Role-Playing', 'Strategy', 'Role-Playing', 'Strategy', 'Action', 'Action', 'Action', 'Action', 'Role-Playing', 'Action', 'Sports', 'Racing', 'Action Adventure', 'Driving', 'Sports', 'Action', 'Sports', 'Strategy', 'Adventure', 'Action', 'Driving', 'Driving', 'Action', 'Action', 'Adventure', 'General', 'Action', 'Action', 'Miscellaneous', 'Driving', 'Sports', 'Sports', 'Action Adventure', 'Miscellaneous', 'Action', 'Action', 'Puzzle', 'Adventure', 'Action Adventure', 'Action Adventure', 'Action', 'Puzzle', 'Adventure', 'Action Adventure', 'Action Adventure', 'Action', 'Puzzle', 'Adventure', 'Action Adventure', 'Action Adventure', 'Action', 'Puzzle', 'Adventure', 'Action Adventure', 'Action Adventure', 'Action', 'Action Adventure', 'Strategy', 'Sports', 'Strategy', 'Strategy', 'Action Adventure', 'Action', 'Miscellaneous', 'Action', 'Role-Playing', 'Sci-Fi', 'Role-Playing', 'Shooter', 'Driving', 'Strategy', 'Racing', 'Action', 'Sports', 'Driving', 'Sports', 'Adventure', 'Action Adventure', 'Sports', 'Role-Playing', 'Puzzle', 'Action', 'Action', 'Action', 'Action Adventure', 'Action', 'Role-Playing', 'Action', 'Racing', 'Puzzle', 'Action', 'Action Adventure', 'Role-Playing', 'Role-Playing', 'Sports', 'Role-Playing', 'Strategy', 'Miscellaneous', 'Action', 'Racing', 'Action', 'Open-World', 'Strategy', 'Adventure', 'Strategy', 'Strategy', 'Strategy', 'Sports', 'Driving', 'Role-Playing', 'Driving', 'Action Adventure', 'Driving', 'Driving', 'Adventure', 'Action', 'Strategy', 'Action', 'Adventure', 'Action', 'Action', 'Adventure', 'Miscellaneous', 'Role-Playing', 'Action', 'Role-Playing', 'Role-Playing', 'Adventure', 'Strategy', 'Adventure', 'Action Adventure', 'Action Adventure', 'Driving', 'Action', 'General', 'Action Adventure', 'Strategy', 'Strategy', 'Action', 'Role-Playing', 'Action Adventure', 'Strategy', 'Strategy', 'Action', 'Role-Playing', 'Action Adventure', 'Strategy', 'Strategy', 'Action', 'Role-Playing', 'Action Adventure', 'Strategy', 'Strategy', 'Action', 'Role-Playing', 'Sports', 'Action', 'Strategy', 'Action Adventure', 'Sports', 'Strategy', 'Sports', 'Action Adventure', 'Sports', 'Action', 'Action', 'Action', 'Action', 'Action', 'Miscellaneous', 'Action', 'Driving', 'Role-Playing', 'Action', 'Action', 'Simulation', 'Strategy', 'Action Adventure', 'Action Adventure', 'Action', 'Role-Playing', '2D', 'Sports', 'Role-Playing', 'Strategy', 'Sports', 'Action Adventure', 'Action', 'Action', 'Action', 'Miscellaneous', 'Action', 'Sports', 'Strategy', 'Strategy', 'Sports', 'Driving', 'Action', 'Action', 'Simulation', 'Driving', 'Driving', 'Action', 'Strategy', 'Action Adventure', 'Driving', 'Strategy', 'Action', 'Action Adventure', 'Action', 'Adventure', 'Puzzle', 'Action', 'Adventure', 'Role-Playing', 'Role-Playing', 'Action', 'Action', 'Role-Playing', 'Action', 'Role-Playing', 'Role-Playing', 'Action Adventure', 'Action', 'Action', 'Strategy', 'General', 'Sports', 'Driving', 'Miscellaneous', 'Simulation', 'Sports', 'Role-Playing', 'Role-Playing', 'Sports', 'Driving', 'Action Adventure', 'Driving', 'Adventure', 'Action', 'Driving', 'Action Adventure', 'Driving', 'Adventure', 'Action', 'Driving', 'Action Adventure', 'Driving', 'Adventure', 'Action', 'Driving', 'Action Adventure', 'Driving', 'Adventure', 'Action', 'Action', 'Action', 'Sports', 'Role-Playing', 'Miscellaneous', 'Role-Playing', 'Action', 'Action Adventure', 'Action Adventure', 'Role-Playing', 'Action Adventure', 'Simulation', 'General', 'Role-Playing', 'Action', 'Action Adventure', 'Action Adventure', 'Action', 'Adventure', 'Role-Playing', 'Role-Playing', 'Action', 'Sports', 'Adventure', 'Strategy', 'Adventure', 'Action Adventure', 'Action', 'Action', 'Action', 'Adventure', 'Strategy', 'Racing', 'Action', 'Action Adventure', 'Action Adventure', 'Action Adventure', 'Action', 'Role-Playing', 'Action', 'Strategy', 'Sports', 'Miscellaneous', 'Action', 'General', 'Action', 'Action Adventure', 'Role-Playing', 'Strategy', 'Action', 'Role-Playing', 'Strategy', 'Platformer', 'Action', 'Puzzle', 'Sports', 'Action Adventure', 'Action', 'Action', 'Action', 'Action', 'Role-Playing', 'Ice Hockey', 'Action', 'Sports', 'Action', 'Fighting', 'Sports', 'Action', 'Action Adventure', 'Action', 'Action', 'Action', 'Strategy', 'Role-Playing', 'Adventure', 'Adventure', 'Action Adventure', 'Racing', 'Role-Playing', 'Action Adventure', 'Strategy', 'Action', 'Sports', 'Action', 'Action Adventure', 'Strategy', 'Action', 'Sports', 'Action', 'Action Adventure', 'Strategy', 'Action', 'Sports', 'Action', 'Action Adventure', 'Strategy', 'Action', 'Sports', 'Action', 'Driving', 'Strategy', 'Adventure', 'Simulation', 'Strategy', 'Action Adventure', 'Action Adventure', 'Miscellaneous', 'Sports', 'Strategy', 'Action Adventure', 'Action', 'Sports', 'Action', 'Sports', 'Action', 'Driving', 'Miscellaneous', 'Action', 'Action', 'Action', 'Sports', 'Role-Playing', 'Action', 'Strategy', 'Puzzle', 'Action', 'Japanese-Style', 'Action', 'Driving', 'Miscellaneous', 'Action', 'Action Adventure', 'Role-Playing', 'Role-Playing', 'Action', 'Role-Playing', 'Puzzle', 'Miscellaneous', 'Strategy', 'Platformer', 'Sports', 'Action', 'Action', 'Action', 'Action', 'Action', 'Miscellaneous', 'Action Adventure', 'Driving', 'Action Adventure', 'Miscellaneous', 'Action Adventure', 'General', 'Action Adventure', 'Action', 'Miscellaneous', 'Role-Playing', 'Action', 'Action RPG', 'Simulation', 'Role-Playing', 'Simulation', 'Miscellaneous', 'Puzzle', 'Action', 'Action', 'Fantasy', 'Adventure', 'Strategy', 'Sports', 'Action RPG', 'Action', 'Adventure', 'Action', 'Adventure', 'Role-Playing', 'Action', 'Adventure', 'Sports', 'Action Adventure', 'Action', 'Adventure', 'Sports', 'Action Adventure', 'Action', 'Adventure', 'Sports', 'Action Adventure', 'Action', 'Action', 'Adventure', 'Sports', 'Action Adventure', 'Action', 'Action Adventure', 'Puzzle', 'Sports', 'Strategy', 'Miscellaneous', 'Role-Playing', 'Action Adventure', 'Action', 'Action Adventure', 'Action', 'Role-Playing', 'Action', 'Action', 'Adventure', 'Action', 'Fighting', 'Sports', 'Action Adventure', 'Adventure', 'Role-Playing', 'Strategy', 'Role-Playing', 'Action', 'Action', 'Strategy', 'Action', 'Miscellaneous', 'Sports', 'Miscellaneous', 'Action', '2D', 'Action', 'Role-Playing', 'Role-Playing', 'Role-Playing', 'Adventure', 'Action', 'Sports', 'Role-Playing', 'Action', 'Action Adventure', 'Action', 'Miscellaneous', 'Action Adventure', 'Strategy', 'Driving', 'Sports', 'Strategy', 'Strategy', 'Sports', 'Role-Playing', 'Strategy', 'Action Adventure', 'Role-Playing', 'Action', 'Action', 'Adventure', 'Driving', 'Racing', 'Racing', 'Strategy', 'Sports', 'Action Adventure', 'Adventure', 'Action', 'Action', 'Sports', 'Role-Playing', 'Driving', 'Action Adventure', 'Strategy', 'Action RPG', 'Action Adventure', 'Adventure', 'Action Adventure', 'Role-Playing', 'Action Adventure', 'Action', 'Role-Playing', 'Action Adventure', 'Sports', 'Sports', 'Horror', 'Action', 'Action', 'Sports', 'Sports', 'Horror', 'Action', 'Action', 'Sports', 'Sports', 'Horror', 'Action', 'Action', 'Sports', 'Sports', 'Horror', 'Action', 'Action', 'Adventure', 'Action', 'Puzzle', 'Action', 'Role-Playing', 'Sports', 'Action Adventure', 'Action', 'Action', 'Strategy', 'Role-Playing', 'General', 'Role-Playing', 'Action', 'Action Adventure', 'Role-Playing', 'Action', 'Action Adventure', 'Sports', 'Driving', 'Driving', 'Action', 'Action Adventure', 'Driving', 'Action', 'Strategy', 'Horror', 'Action', 'Arcade', 'Driving', 'Sports', 'Action', 'Strategy', 'Miscellaneous', 'Role-Playing', 'Action', 'Role-Playing', 'Sports', 'Racing', 'Adventure', 'Action', 'Action', 'Action', 'Action', 'Sports', 'Driving', 'Action', 'Strategy', 'Adventure', 'Role-Playing', 'Racing', 'Action', 'Miscellaneous', 'Action', 'Driving', 'Action', 'Sports', 'Sports', 'Role-Playing', 'Strategy', 'Role-Playing', 'Miscellaneous', 'Action Adventure', 'Role-Playing', 'Action', 'Miscellaneous', 'Action Adventure', 'Action', 'General', 'Role-Playing', 'Action', 'Action Adventure', 'Action', 'Adventure', 'Role-Playing', 'Action Adventure', 'Action', 'Action', 'Role-Playing', 'Sports', 'Role-Playing', 'Action', 'Action Adventure', 'Action', 'Action', 'Role-Playing', 'Action', 'Action Adventure', 'Action', 'Action', 'Role-Playing', 'Action', 'Action Adventure', 'Action', 'Action', 'Role-Playing', 'Action', 'Action Adventure', 'Action', 'Action', 'Strategy', 'Adventure', 'Action', 'Action Adventure', 'Sports', 'Sports', 'Role-Playing', 'Action Adventure', 'Miscellaneous', 'Miscellaneous', 'Action', 'Role-Playing', 'Driving', 'Action', 'Driving', 'Simulation', 'Action', 'Action', 'Action', 'General', 'Puzzle', 'Action', 'Modern', 'Miscellaneous', 'Action', 'Sports', 'Miscellaneous', 'Puzzle', 'Miscellaneous', 'Miscellaneous', 'Action', 'Puzzle', 'Role-Playing', 'Action', 'Action', 'Adventure', 'Action Adventure', 'Action', 'Sports', 'Action Adventure', 'Adventure', 'Role-Playing', 'Action', 'Adventure', 'Role-Playing', 'Simulation', 'Role-Playing', 'Action', 'Action Adventure', 'Sports', 'Action Adventure', 'Miscellaneous', 'Shooter', 'Miscellaneous', 'Action Adventure', 'Sports', 'Sports', 'Adventure', 'Adventure', 'Action Adventure', 'Racing', 'Action', 'Role-Playing', 'Action', 'Action Adventure', 'Action Adventure', 'Role-Playing', 'Action Adventure', 'Adventure', 'Role-Playing', 'Action', 'Role-Playing', 'Role-Playing', 'Action Adventure', 'Simulation', 'Action', 'Action Adventure', 'Modern', 'Driving', 'Role-Playing', 'Action', 'Driving', 'Sports', 'Action', 'Role-Playing', 'Action', 'Driving', 'Sports', 'Action', 'Role-Playing', 'Action', 'Driving', 'Sports', 'Action', 'Role-Playing', 'Action', 'Driving', 'Sports', 'Action', 'Role-Playing', 'Sports', 'Action', 'Action', 'Action', 'Miscellaneous', 'Action', 'Action', 'Sports', 'Simulation', 'Driving', 'Sports', 'Simulation', 'Miscellaneous', 'Sports', 'Action', 'Miscellaneous', 'Action', 'Simulation', 'Role-Playing', 'Driving', 'Role-Playing', 'Racing', 'Sports', 'Driving', 'Adventure', 'Action', 'Strategy', 'Action Adventure', 'Action', 'Role-Playing', 'Sports', 'Miscellaneous', 'Sports', 'Action', 'Role-Playing', 'Role-Playing', 'Action Adventure', 'Action', 'Action', 'Adventure', 'Adventure', 'Action', 'Modern', 'Strategy', 'Role-Playing', 'Action Adventure', 'Action Adventure', 'Action Adventure', 'Action', 'Miscellaneous', 'Action', 'Miscellaneous', 'Strategy', 'Role-Playing', 'Role-Playing', 'Role-Playing', 'Role-Playing', 'Strategy', 'Role-Playing', 'Action Adventure', 'Action', 'Action', 'Simulation', 'Role-Playing', 'Adventure', 'Action Adventure', 'Miscellaneous', 'Action', 'Strategy', 'Role-Playing', 'Driving', 'Action', 'Miscellaneous', 'Sports', 'Driving', 'Driving', 'Puzzle', 'Action Adventure', 'Action', 'Adventure', 'Action', 'Strategy', 'Action', 'Strategy', 'Action', 'Action', 'Strategy', 'Action', 'Strategy', 'Action', 'Action', 'Strategy', 'Action', 'Strategy', 'Action', 'Action', 'Strategy', 'Action', 'Strategy', 'Action', 'Driving', 'Role-Playing', 'Action', 'Action Adventure', 'Action', 'Action Adventure', 'Action', 'Role-Playing', 'Strategy', 'Action', 'Platformer', 'Strategy', 'Role-Playing', 'Action', 'Action', 'Action Adventure', 'Action', 'Action', 'Sports', 'Action', 'Driving', 'Simulation', 'Adventure', 'Strategy', 'Simulation', 'Adventure', 'Miscellaneous', 'Strategy', 'Sports', 'Strategy', 'Historic', 'Simulation', 'General', 'Role-Playing', 'Adventure', 'Action', 'Action', 'Action', 'Role-Playing', 'Strategy', 'Sports', 'Action', 'Strategy', 'Driving', 'Action Adventure', 'Action Adventure', 'Modern', 'Action', 'Action', 'Action Adventure', 'Action Adventure', 'Sports', 'Miscellaneous', 'Puzzle', 'Action', 'Action', 'Action', 'Action', 'Sports', 'Miscellaneous', 'Strategy', 'Action', 'Action Adventure', 'Strategy', 'Action Adventure', 'Role-Playing', 'Action Adventure', 'Platformer', 'Role-Playing', 'Action Adventure', 'Adventure', 'Strategy', 'Action Adventure', 'Adventure', 'Strategy', 'Role-Playing', 'Adventure', 'Action', 'Simulation', 'Racing', 'Miscellaneous', 'Driving', 'Strategy', 'Action Adventure', 'Role-Playing', 'Miscellaneous', 'Driving', 'Strategy', 'Action Adventure', 'Role-Playing', 'Miscellaneous', 'Driving', 'Strategy', 'Action Adventure', 'Role-Playing', 'Miscellaneous', 'Driving', 'Strategy', 'Action Adventure', 'Role-Playing', 'Strategy', 'Miscellaneous', 'Miscellaneous', 'Action', 'Action', 'Action Adventure', 'Action', 'Action', 'Role-Playing', 'Action Adventure', 'Action', 'Miscellaneous', 'Action', 'Adventure', 'Role-Playing', 'Adventure', 'Action Adventure', 'Sports', 'Action', 'Action', 'Action', 'Action', 'Miscellaneous', 'Role-Playing', 'Action', 'Strategy', 'Action Adventure', 'Miscellaneous', 'Role-Playing', 'Driving', 'Action', 'Sports', 'Driving', 'Strategy', 'Driving', 'Driving', 'Driving', 'Role-Playing', 'Action', 'General', 'Miscellaneous', 'Action', 'Racing', 'Role-Playing', 'Strategy', 'Strategy', 'Action', 'Action Adventure', 'Sports', 'Survival', 'Action', 'Action Adventure', 'Action', 'Action Adventure', 'Adventure', 'Sports', 'Action', 'Adventure', 'Role-Playing', 'Action', 'Role-Playing', 'Racing', 'Strategy', 'Action', 'Action', 'Action Adventure', 'Action Adventure', 'Adventure', 'Fantasy', 'Sports', 'Action', 'Sports', 'Racing', 'Sports', 'Action Adventure', 'Action Adventure', 'Sports', 'Action Adventure', 'Action Adventure', 'Miscellaneous', 'Role-Playing', 'Simulation', 'Action Adventure', 'Miscellaneous', 'Action Adventure', 'Role-Playing', 'Simulation', 'Action Adventure', 'Miscellaneous', 'Action Adventure', 'Role-Playing', 'Simulation', 'Action Adventure', 'Miscellaneous', 'Action Adventure', 'Role-Playing', 'Simulation', 'Action Adventure', 'Miscellaneous', 'Action Adventure', 'First-Person', 'Driving', 'General', 'Sports', 'Strategy', 'Sports', 'General', 'Action', 'Action', 'Action', 'Action', 'Racing', 'Action', 'Action', 'Action', 'Sports', 'Adventure', 'Action', 'Action', 'Action', 'Miscellaneous', 'Miscellaneous', 'Driving', 'Action', 'Action Adventure', 'Simulation', 'Role-Playing', 'Racing', 'Simulation', 'Adventure', 'Action', 'Sports', 'Action', 'Strategy', 'Action', 'Role-Playing', 'Sports', 'Action Adventure', 'Role-Playing', 'Platformer', 'Miscellaneous', 'Simulation', 'Driving', 'Action', 'Action', 'Miscellaneous', 'Action', 'Action Adventure', 'Action Adventure', 'Role-Playing', 'Miscellaneous', 'Action', 'First-Person', 'Miscellaneous', 'Action Adventure', 'Action', 'Role-Playing', 'Strategy', 'Platformer', 'Adventure', 'Adventure', 'Strategy', 'Action', 'Action', 'Action', 'Driving', 'Miscellaneous', 'Adventure', 'Driving', 'Role-Playing', 'Strategy', 'Sports', 'Role-Playing', 'Action', 'Strategy', 'Action', 'Role-Playing', 'Role-Playing', 'Role-Playing', 'Strategy', 'Role-Playing', 'Adventure', 'Role-Playing', 'Strategy', 'Role-Playing', 'Role-Playing', 'Adventure', 'Role-Playing', 'Strategy', 'Role-Playing', 'Role-Playing', 'Role-Playing', 'Adventure', 'Role-Playing', 'Strategy', 'Role-Playing', 'Role-Playing', 'Adventure', 'Role-Playing', 'Strategy', 'Role-Playing', 'Action Adventure', 'Action', 'General', 'General', 'Driving', 'Action Adventure', 'Adventure', 'Adventure', 'Miscellaneous', 'Driving', 'Sports', 'Role-Playing', 'Driving', 'Strategy', 'Adventure', 'Strategy', 'Driving', 'Action', 'Action', 'Action', 'Strategy', 'Strategy', 'Action Adventure', 'Action', 'Sports', 'Action', 'General', 'Role-Playing', 'Action', 'Action Adventure', 'Adventure', 'Action Adventure', 'Role-Playing', 'Strategy', 'Miscellaneous', 'Action Adventure', 'Driving', 'Action', 'Miscellaneous', 'Driving', 'Adventure', 'Adventure', 'Action', 'Simulation', 'Role-Playing', 'Adventure', 'Action', 'Action', 'Simulation', 'Action', 'Miscellaneous', 'Action', 'Platformer', 'Role-Playing', 'General', 'Sports', 'Role-Playing', 'Role-Playing', 'Strategy', 'Action Adventure', 'Action Adventure', 'Sports', 'Action Adventure', 'Action', 'Action Adventure', 'Action', 'Action', 'Sports', 'Action Adventure', 'Miscellaneous', 'Strategy', 'Action Adventure', 'Strategy', 'Miscellaneous', 'Role-Playing', 'Action', 'Strategy', 'Action', 'Action', 'Action', 'Action', 'Action Adventure', 'Action', 'Action Adventure', 'Action', 'Action', 'Action Adventure', 'Action', 'Action Adventure', 'Action', 'Action', 'Action Adventure', 'Action', 'Action Adventure', 'Action', 'Action', 'Action Adventure', 'Action', 'Action Adventure', 'Action', 'Action Adventure', 'Role-Playing', 'Action Adventure', 'Action', 'Adventure', 'General', 'Action', 'Role-Playing', 'General', 'Action', 'Action Adventure', 'Sports', 'Action', 'Strategy', 'Role-Playing', 'Sports', 'Action', 'Action Adventure', 'Puzzle', 'Fantasy', 'Action', 'Action Adventure', 'Action', 'Action Adventure', 'Action', 'Action Adventure', 'Action Adventure', 'Simulation', 'Sports', 'Sports', 'Action Adventure', 'Role-Playing', 'Action', 'Strategy', 'Sports', 'Action', 'Action', 'Sports', 'Driving', 'Strategy', 'Action', 'Driving', 'Role-Playing', 'Strategy', 'Action', 'Modern', 'Miscellaneous', 'Driving', 'Action Adventure', 'General', 'Adventure', 'Action', 'Miscellaneous', 'Sports', 'Role-Playing', 'Racing', 'Role-Playing', 'Miscellaneous', 'Action', 'Simulation', 'Sports', 'Miscellaneous', 'Action Adventure', 'Action', 'Action Adventure', 'Action Adventure', 'Sports', 'Action Adventure', 'Role-Playing', 'Action Adventure', 'Action', 'Strategy', 'Sports', 'Action', 'Action Adventure', 'Action', 'Action', 'Action Adventure', 'Simulation', 'Action', 'Action', 'Action', 'Action Adventure', 'Driving', 'General', 'Action', 'Action', 'Action Adventure', 'Driving', 'General', 'Action', 'Action', 'Action Adventure', 'Driving', 'General', 'Action', 'Action', 'Action Adventure', 'Driving', 'General', 'Action', 'Role-Playing', 'Action RPG', 'Miscellaneous', 'Strategy', 'Action Adventure', 'Role-Playing', 'Racing', 'Miscellaneous', 'Puzzle', 'Sports', 'Sports', 'Strategy', 'Driving', 'Driving', 'Strategy', 'Strategy', 'Role-Playing', 'Adventure', 'Adventure', 'Action Adventure', 'Action', 'Action', 'Action', 'Action Adventure', 'Sports', 'Action', 'Action', 'Action', 'Adventure', 'Adventure', 'Miscellaneous', 'Role-Playing', 'Fantasy', 'Sports', 'Racing', 'Driving', 'Adventure', 'Sports', 'Role-Playing', 'Fantasy', 'Role-Playing', 'Action', 'Action', 'Adventure', 'Racing', 'Sports', 'Simulation', 'Strategy', 'Strategy', 'Strategy', 'Driving', 'Racing', 'General', 'Action', 'Action', 'Sports', 'Action', 'Puzzle', 'Role-Playing', 'Role-Playing', 'Driving', 'Action', 'Miscellaneous', 'Role-Playing', 'Role-Playing', 'Simulation', 'Action', 'Action Adventure', 'Action', 'Role-Playing', 'Sports', 'Action', 'Role-Playing', 'Role-Playing', 'Action Adventure', 'Fantasy', 'Strategy', 'Miscellaneous', 'Adventure', 'Simulation', 'Sports', 'Sports', 'Driving', 'Role-Playing', 'Simulation', 'Sports', 'Sports', 'Driving', 'Role-Playing', 'Simulation', 'Sports', 'Sports', 'Driving', 'Role-Playing', 'Simulation', 'Sports', 'Sports', 'Driving', 'Role-Playing', 'Sports', 'Role-Playing', 'Simulation', 'Racing', 'Role-Playing', 'Adventure', 'Action', 'Role-Playing', 'Action', 'Puzzle', 'Action', 'Horror', 'Action', 'Fantasy', 'Action Adventure', 'Action', 'Action', 'Miscellaneous', 'Action Adventure', 'Miscellaneous', 'Strategy', 'Strategy', 'General', 'Action', 'Adventure', 'Role-Playing', 'Driving', 'Driving', 'General', 'Sports', 'Role-Playing', 'Miscellaneous', 'Sports', 'Role-Playing', 'Action', 'Action Adventure', 'Fantasy', 'Role-Playing', 'Role-Playing', 'Action', 'Adventure', 'Miscellaneous', 'Action', 'Strategy', 'Driving', 'Simulation', 'Role-Playing', 'Role-Playing', 'Action', 'Action Adventure', 'Action', 'Action', 'Action', 'Action', 'Action', 'Sports', 'Action', 'Miscellaneous', 'Action', 'Action', 'Puzzle', 'Role-Playing', 'Role-Playing', 'Sports', 'Adventure', 'Driving', 'Action Adventure', 'Action Adventure', 'Adventure', 'Role-Playing', 'General', 'Action Adventure', 'Puzzle', 'Sports', 'Action', 'Action Adventure', 'Sports', 'Sports', 'Sports', 'Action', 'Adventure', 'Action Adventure', 'Role-Playing', 'Action', 'Adventure', 'Adventure', 'Action Adventure', 'Role-Playing', 'Action', 'Adventure', 'Adventure', 'Action Adventure', 'Role-Playing', 'Action', 'Adventure', 'Adventure', 'Action Adventure', 'Role-Playing', 'Action', 'Adventure', 'Miscellaneous', 'General', 'Miscellaneous', 'Sports', 'Sci-Fi', 'General', 'Role-Playing', 'Strategy', 'Sports', 'Action', 'Driving', 'Miscellaneous', 'Sports', 'Action', 'Simulation', 'Strategy', 'Adventure', 'Driving', 'Action Adventure', 'Role-Playing', 'Driving', 'Action', 'Sports', 'Sports', 'Puzzle', 'Action', 'Adventure', 'Action', 'Role-Playing', 'Action Adventure', 'Action Adventure', 'Role-Playing', 'Action', 'Fantasy', 'Miscellaneous', 'Action Adventure', 'Sports', 'Action Adventure', 'Adventure', 'Action', 'General', 'Role-Playing', 'Action', 'Sports', 'Miscellaneous', 'Action Adventure', 'General', 'Puzzle', 'Sports', 'Adventure', 'Action', 'Miscellaneous', 'Puzzle', 'Sports', 'Action', 'Role-Playing', 'Sports', 'Role-Playing', 'Sports', 'Sports', 'Action', 'Action Adventure', 'Simulation', 'Role-Playing', 'Simulation', 'Fantasy', 'Simulation', 'General', 'Action', 'Strategy', 'Miscellaneous', 'General', 'Sports', 'Role-Playing', 'Role-Playing', 'Action', 'Action', 'Miscellaneous', 'Role-Playing', 'Strategy', 'Action Adventure', 'Action Adventure', 'Role-Playing', 'Miscellaneous', 'Miscellaneous', 'Action Adventure', 'Action Adventure', 'Role-Playing', 'Miscellaneous', 'Miscellaneous', 'Action Adventure', 'Action Adventure', 'Role-Playing', 'Miscellaneous', 'Miscellaneous', 'Action Adventure', 'Action Adventure', 'Role-Playing', 'Miscellaneous', 'Miscellaneous', 'Fantasy', 'Strategy', 'Action', 'Adventure', 'Action', 'Action', 'Action Adventure', 'Sci-Fi', 'General', 'Action', 'Role-Playing', 'Sports', 'Action', 'Racing', 'Action', 'Strategy', 'Action Adventure', 'Action', 'Role-Playing', 'Role-Playing', 'Simulation', 'Miscellaneous', 'Strategy', 'Simulation', 'Action', 'Action', 'Role-Playing', 'Sports', 'Action Adventure', 'Action', 'Action Adventure', 'Action Adventure', 'General', 'Role-Playing', 'Sports', 'Adventure', 'Action', 'Role-Playing', 'Miscellaneous', 'Miscellaneous', 'Action', 'Action', 'Sports', 'Simulation', 'Sports', 'Action', 'Action', 'Strategy', 'Adventure', 'Action Adventure', 'Sports', 'Adventure', 'Action Adventure', 'Action', 'Action Adventure', 'Role-Playing', 'Action', 'Action', 'Miscellaneous', 'Action', 'Action Adventure', 'Action', 'Role-Playing', 'Action', 'Action', 'Miscellaneous', 'Adventure', 'Action', 'Action', 'Racing', 'Adventure', 'Action', 'Action', 'Action', 'Sci-Fi', 'Adventure', 'Adventure', 'Role-Playing', 'Adventure', 'Action', 'Role-Playing', 'Sports', 'Role-Playing', 'Miscellaneous', 'Driving', 'Role-Playing', 'Sports', 'Role-Playing', 'Miscellaneous', 'Driving', 'Role-Playing', 'Sports', 'Role-Playing', 'Miscellaneous', 'Driving', 'Role-Playing', 'Sports', 'Role-Playing', 'Miscellaneous', 'Driving', 'Sports', 'Action', 'Driving', 'Action', 'Action', 'Role-Playing', 'Role-Playing', 'Action', 'Strategy', 'Sports', 'Strategy', 'Action', 'Sports', 'Driving', 'Miscellaneous', 'Action Adventure', 'Action', 'Strategy', 'Simulation', 'Action', 'Role-Playing', 'Puzzle', 'Strategy', 'Adventure', 'Action Adventure', 'Action', 'Action Adventure', 'Action Adventure', 'Miscellaneous', 'Strategy', 'Role-Playing', 'Adventure', 'Role-Playing', 'Adventure', 'Action Adventure', 'Action', 'Action', 'Action', 'Action', 'Miscellaneous', 'Action', 'Simulation', 'Puzzle', 'Action', 'Sports', 'Sports', 'Strategy', 'Adventure', 'Action Adventure', 'Adventure', 'Sports', 'Role-Playing', 'Miscellaneous', 'Action', 'Strategy', 'Action Adventure', 'Role-Playing', 'Action', 'Strategy', 'Driving', 'Action Adventure', 'Miscellaneous', 'Driving', 'Action Adventure', 'Strategy', 'Shooter', 'Action', 'Miscellaneous', 'Strategy', 'Miscellaneous', 'Role-Playing', 'Role-Playing', 'Driving', 'General', 'Strategy', 'Role-Playing', 'Adventure', 'General', 'Action', 'Action', 'Strategy', 'Action Adventure', 'Role-Playing', 'Action Adventure', 'Action', 'Strategy', 'Action Adventure', 'Role-Playing', 'Action Adventure', 'Action', 'Strategy', 'Action Adventure', 'Role-Playing', 'Action Adventure', 'Action', 'Strategy', 'Action Adventure', 'Role-Playing', 'Action Adventure', 'Action', 'Action', 'Sports', 'Action', 'General', 'Action', 'Action', 'Action Adventure', 'Sports', 'Action', 'Strategy', 'Action Adventure', 'Sports', 'Miscellaneous', 'Action', 'Action', 'General', 'Action', 'Role-Playing', 'Adventure', 'Action', 'Miscellaneous', 'Action', 'Role-Playing', 'Sci-Fi', 'Adventure', 'Sports', 'Simulation', 'Role-Playing', 'General', 'Action', 'Action Adventure', 'Puzzle', 'Strategy', 'Action', 'Action', 'Puzzle', 'Action', 'Role-Playing', 'Miscellaneous', 'Sports', 'Sports', 'Role-Playing', 'Action', 'Sports', 'Sports', 'Strategy', 'Miscellaneous', 'Driving', 'Driving', 'Strategy', 'Action', 'Action', 'Action', 'Action Adventure', 'Action', 'Adventure', 'Adventure', 'Driving', 'Miscellaneous', 'Racing', 'Action', 'Action', 'Action', 'Action', 'Action', 'Role-Playing', 'Simulation', 'Action Adventure', 'Role-Playing', 'Action', 'Sports', 'Role-Playing', 'Action Adventure', 'Sports', 'Action', 'Action', 'Simulation', 'Sports', 'Action', 'Role-Playing', 'Action', 'Simulation', 'Role-Playing', 'Action', 'Sports', 'Miscellaneous', 'Simulation', 'Role-Playing', 'Action', 'Sports', 'Miscellaneous', 'Simulation', 'Role-Playing', 'Strategy', 'Action', 'Action', 'Action Adventure', 'Adventure', 'Action', 'Action', 'Simulation', 'Action', 'Role-Playing', 'Adventure', 'Sports', 'Role-Playing', 'Action', 'Strategy', 'Strategy', 'Sports', 'Sports', 'Miscellaneous', 'Strategy', 'Strategy', 'Strategy', 'Miscellaneous', 'Strategy', 'Puzzle', 'Action', 'Role-Playing', 'Action', 'Sports', 'Sports', 'Miscellaneous', 'Action', 'Action', 'Action', 'Action Adventure', 'Strategy', 'Action', 'Platformer', 'Driving', 'Sports', 'General', 'Adventure', 'Miscellaneous', 'Action Adventure', 'Action', 'Action', 'Action', 'Adventure', 'Action', 'Sports', 'Role-Playing', 'Action', 'Action', 'Strategy', 'Role-Playing', 'Strategy', 'Action', 'Simulation', 'PC-style RPG', 'Role-Playing', 'Strategy', 'Action Adventure', 'Role-Playing', 'Adventure', 'Sports', 'Action', 'Miscellaneous', 'Adventure', 'Action', 'Action', 'Miscellaneous', 'Strategy', 'Action', 'Action', 'Sports', 'Adventure', 'Role-Playing', 'General', 'Action', 'Adventure', 'Miscellaneous', 'Strategy', 'Sports', 'Sports', 'Action', 'Miscellaneous', 'Strategy', 'Sports', 'Sports', 'Action', 'Miscellaneous', 'Strategy', 'Sports', 'Sports', 'Action', 'Miscellaneous', 'Strategy', 'Sports', 'Sports', 'Action', 'Action', 'Puzzle', 'Simulation', 'Action', 'Action', 'Adventure', 'Strategy', 'Action', 'Adventure', 'Role-Playing', 'Driving', 'Action Adventure', 'Simulation', 'Sports', 'Miscellaneous', 'Sports', 'Adventure', 'Sports', 'Strategy', 'Sports', 'Action', 'Driving', 'Action', 'Strategy', 'Role-Playing', 'Platformer', 'Racing', 'Action', 'Adventure', 'Action', 'Action', 'Miscellaneous', 'Strategy', 'Action', 'Miscellaneous', 'Action', 'Role-Playing', 'Sports', 'Strategy', 'Action', 'Driving', 'Action', 'General', 'Role-Playing', 'Action', 'Action Adventure', 'Action', 'Action', 'Adventure', 'Action', 'Role-Playing', 'Action', 'Action Adventure', 'Action', 'Action', 'Miscellaneous', 'Adventure', 'Role-Playing', 'Sports', 'Strategy', 'Action', 'Action', 'Role-Playing', 'Action', 'Action', 'Sports', 'Action', 'Sports', 'Action', 'Action', 'Strategy', 'Strategy', 'Action', 'Adventure', 'Action', 'Action', 'Action Adventure', 'Action Adventure', 'Action Adventure', 'Role-Playing', 'Simulation', 'Action', 'Action', 'Sports', 'Role-Playing', 'Simulation', 'Action', 'Action', 'Sports', 'Role-Playing', 'Simulation', 'Action', 'Action', 'Sports', 'Role-Playing', 'Simulation', 'Action', 'Action', 'Sports', 'Role-Playing', 'Adventure', 'Action Adventure', 'Adventure', 'Driving', 'Role-Playing', 'Role-Playing', 'Action Adventure', 'General', 'Action', 'Sports', 'Driving', 'Strategy', 'Sports', 'Sports', 'Strategy', 'Action Adventure', 'Action', 'Strategy', 'Racing', 'Action', 'Miscellaneous', 'Role-Playing', 'Action', 'Action', 'Action', 'Action', 'Miscellaneous', 'Strategy', 'Action Adventure', 'Action', 'General', 'Adventure', 'Miscellaneous', 'Role-Playing', 'Role-Playing', 'Action', 'Strategy', 'Puzzle', 'Adventure', 'Action', 'Adventure', 'General', 'Puzzle', 'Strategy', 'Strategy', 'Miscellaneous', 'Role-Playing', 'Driving', 'Action Adventure', 'Action Adventure', 'Action', 'Role-Playing', 'Action', 'General', 'Action Adventure', 'Miscellaneous', 'Action', 'Racing', 'Miscellaneous', 'Action', 'Miscellaneous', 'Miscellaneous', 'Strategy', 'Action', 'Puzzle', 'Sports', 'Strategy', 'Action', 'Strategy', 'Scrolling', 'Action Adventure', 'Role-Playing', 'Action', 'Action', 'Puzzle', 'Open-World', 'Action', 'Action', 'Strategy', 'Action Adventure', 'Action', 'Action Adventure', 'Action', 'Role-Playing', 'Action', 'Action', 'Action Adventure', 'Action', 'Role-Playing', 'Action', 'Action', 'Action Adventure', 'Action', 'Role-Playing', 'Action', 'Action', 'Action Adventure', 'Action', 'Role-Playing', 'Action', 'Sports', 'Role-Playing', 'Strategy', 'Role-Playing', 'Strategy', 'Sports', 'Miscellaneous', 'Action', 'Action', 'Strategy', 'Role-Playing', 'Miscellaneous', 'Action', 'Sports', 'Action Adventure', 'Sports', 'Adventure', 'Adventure', 'Adventure', 'Role-Playing', 'Action', 'Fantasy', 'Action', 'Role-Playing', 'Strategy', 'Strategy', 'Action', 'Action Adventure', 'Strategy', 'Strategy', 'Miscellaneous', 'Role-Playing', 'Action Adventure', 'Role-Playing', 'Miscellaneous', 'Modern', 'Strategy', 'Action', 'Action Adventure', 'Action', 'Racing', 'Racing', 'Miscellaneous', 'Modern', 'Action Adventure', 'Action Adventure', 'Adventure', 'Action Adventure', 'Action Adventure', 'Action Adventure', 'Strategy', 'Role-Playing', 'Adventure', 'Role-Playing', 'Action', 'Action Adventure', 'Action', 'Action', 'Simulation', 'Adventure', 'Action', 'Action Adventure', 'Driving', 'Adventure', 'Action Adventure', 'Sports', 'Action', 'Action', 'Strategy', 'Adventure', 'Action', 'Role-Playing', 'Strategy', 'Role-Playing', 'Action', 'Action', 'Sports', 'Action', 'Action', 'Role-Playing', 'Arcade', 'Action', 'Driving', 'Action Adventure', 'Action', 'Arcade', 'Action', 'Driving', 'Action Adventure', 'Action', 'Arcade', 'Action', 'Driving', 'Action Adventure', 'Action', 'Arcade', 'Action', 'Driving', 'Action Adventure', 'Action', 'Sports', 'Miscellaneous', 'Action Adventure', 'Puzzle', 'Role-Playing', 'Action Adventure', 'Action', 'Adventure', 'Strategy', 'Miscellaneous', 'Action', 'Action', 'Action', 'Strategy', 'Action', 'Sports', 'Action Adventure', 'Sports', 'Sports', 'Sports', 'Action Adventure', 'Miscellaneous', 'Action Adventure', 'Role-Playing', 'Miscellaneous', 'Action Adventure', 'Miscellaneous', 'Action', 'Action Adventure', 'Role-Playing', 'Role-Playing', 'Action', 'Action Adventure', 'Adventure', 'Sports', 'Adventure', 'Action', 'Action Adventure', 'Miscellaneous', 'Simulation', 'Action', 'Adventure', 'Strategy', 'Action', 'Action Adventure', 'Action Adventure', 'Action', 'Action', 'Action Adventure', 'Action Adventure', 'General', 'Action', 'Driving', 'General', 'Adventure', 'Action', 'Action', 'Action', 'Action', 'Action Adventure', 'Action', 'Action', 'Strategy', 'Action', 'Action Adventure', 'Action', 'Action', 'Strategy', 'Puzzle', 'Action', 'Action', 'Miscellaneous', 'Role-Playing', 'Action', 'Sports', 'Role-Playing', 'Role-Playing', 'Role-Playing', 'Action', 'Action', 'Action', 'Action', 'Strategy', 'General', 'Strategy', 'Action', 'Action', 'Strategy', 'General', 'Strategy', 'Action', 'Action', 'Strategy', 'General', 'Strategy', 'Action', 'Action', 'Strategy', 'General', 'Strategy', 'Miscellaneous', 'Action', 'Action Adventure', 'Action', 'Sports', 'Role-Playing', 'Strategy', 'Miscellaneous', 'Action', 'Action', 'Strategy', 'Action', 'Sports', 'Role-Playing', 'Strategy', 'Role-Playing', 'Sports', 'Action', 'Action', 'Sports', 'Sports', 'Driving', 'Action', 'Strategy', 'Role-Playing', 'Role-Playing', 'Action', 'General', 'Role-Playing', 'Role-Playing', 'Driving', 'Sports', 'Role-Playing', 'Action', 'Sports', 'Action', 'Adventure', 'Sci-Fi', 'Driving', 'Role-Playing', 'Simulation', 'Racing', 'Action Adventure', 'Sports', 'Action Adventure', 'Role-Playing', 'Action Adventure', 'Action', 'Adventure', 'General', 'Action', 'Miscellaneous', 'Adventure', 'Action', 'Adventure', 'Adventure', 'Action', 'Miscellaneous', 'Action', 'Action', 'Action Adventure', 'Miscellaneous', 'Sports', 'Strategy', 'Strategy', 'General', 'Action', 'Action Adventure', 'Miscellaneous', 'Action', 'Action', 'Real-Time', 'Sports', 'Role-Playing', 'Adventure', 'Strategy', 'Action', 'Role-Playing', 'Miscellaneous', 'Action Adventure', 'Action Adventure', 'Action Adventure', 'Action', 'Action', 'Action', 'Action Adventure', 'Action Adventure', 'Action', 'Action', 'Action', 'Action Adventure', 'Action Adventure', 'Action', 'Action', 'Action', 'Action Adventure', 'Action Adventure', 'Action', 'Action', 'Action', 'Action Adventure', 'Action', 'Action', 'Role-Playing', 'Action Adventure', 'Strategy', 'Action', 'Action', 'Role-Playing', 'Action', 'Racing', 'Sports', 'Role-Playing', 'Strategy', 'Action', 'Miscellaneous', 'Action Adventure', 'Puzzle', 'Action', 'Role-Playing', 'Action', 'Miscellaneous', 'Action', 'Miscellaneous', 'Action Adventure', 'Role-Playing', 'Modern', 'Miscellaneous', 'Driving', 'Sports', 'Miscellaneous', 'Simulation', 'Traditional', 'Role-Playing', 'Action Adventure', 'Action', 'Sports', 'Strategy', 'General', 'Action', 'Action', 'Action', 'Miscellaneous', 'Strategy', 'Driving', 'Role-Playing', 'General', 'Adventure', 'Action Adventure', 'Action Adventure', 'Adventure', 'Action', 'Sports', 'Adventure', 'Role-Playing', 'Adventure', 'Action', 'Action', 'Adventure', 'Puzzle', 'Strategy', 'Role-Playing', 'Action Adventure', 'Miscellaneous', 'Action', 'Strategy', 'Miscellaneous', 'Action', 'Action', 'Simulation', 'Role-Playing', 'Action', 'General', 'Action', 'General', 'Simulation', 'Action', 'Sports', 'Action', 'Action', 'Action', 'Miscellaneous', 'Action', 'Miscellaneous', 'Action', 'Action', 'Miscellaneous', 'Action', 'Miscellaneous', 'Action', 'Action', 'Miscellaneous', 'Action', 'Miscellaneous', 'Action', 'Action', 'Miscellaneous', 'Action', 'Miscellaneous', 'Strategy', 'Strategy', 'Role-Playing', 'Role-Playing', 'Puzzle', 'Miscellaneous', 'Role-Playing', 'Role-Playing', 'Action', 'Action', 'Action', 'Action', 'Action Adventure', 'Sports', 'Action', 'Action', 'Role-Playing', 'Action', 'Action Adventure', 'Miscellaneous', 'Strategy', 'Sports', 'Action', 'Sports', 'Action', 'Action', 'First-Person', 'Role-Playing', 'Action', 'Puzzle', 'Adventure', 'Action', 'Action', 'Driving', 'Sports', 'Sports', 'Action', 'Action Adventure', 'Simulation', 'Driving', 'Strategy', 'Action', 'Miscellaneous', 'Sports', 'Role-Playing', 'Action', 'Action Adventure', 'Adventure', 'Action', 'Action', 'Adventure', 'Action', 'Sports', 'Action', 'Sports', 'Action', 'Action', 'Action', 'Strategy', 'Strategy', 'Miscellaneous', 'Action Adventure', 'Action', 'Sports', 'Role-Playing', 'Action Adventure', 'Adventure', 'Role-Playing', 'Miscellaneous', 'Strategy', 'Sports', 'Action', 'General', 'Action', 'Role-Playing', 'Miscellaneous', 'Strategy', 'Sports', 'Sports', 'Strategy', 'Adventure', 'Adventure', 'Sports', 'Driving', 'Driving', 'Adventure', 'Adventure', 'Sports', 'Driving', 'Driving', 'Adventure', 'Adventure', 'Sports', 'Driving', 'Driving', 'Adventure', 'Adventure', 'Sports', 'Driving', 'Driving', 'Sports', 'Action', 'Action', 'Action Adventure', 'Sports', 'Role-Playing', 'Action', 'Action', 'Role-Playing', 'Role-Playing', 'Sports', 'Action', 'Action Adventure', 'Puzzle', 'Adventure', 'Simulation', 'Role-Playing', 'Strategy', 'Sports', 'Action RPG', 'Action Adventure', 'Strategy', 'Role-Playing', 'Action', 'Driving', 'Role-Playing', 'Role-Playing', 'Simulation', 'Strategy', 'Action', 'Action', 'Puzzle', 'Action', 'Action', 'Action RPG', 'Action Adventure', 'Action', 'General', 'Adventure', 'Action', 'Simulation', 'Action', 'Action', 'Action', 'Role-Playing', 'Action', 'Action', 'Action', 'General', 'Action', 'Action', 'PC-style RPG', 'Action', 'Action', 'Action', 'Action Adventure', 'Action Adventure', 'Action Adventure', 'Role-Playing', 'Role-Playing', 'Sports', 'General', 'Miscellaneous', 'Action', 'Action', 'Strategy', 'Miscellaneous', 'Action', 'Action Adventure', 'Strategy', 'Action', 'Action', 'Sports', 'Console-style RPG', 'Action Adventure', 'Sports', 'Sci-Fi', 'Action', 'Shooter', 'Adventure', 'Action', 'Action', 'Strategy', 'Sports', 'Role-Playing', 'Action', 'Action', 'Strategy', 'Sports', 'Role-Playing', 'Action', 'Action', 'Strategy', 'Sports', 'Role-Playing', 'Action', 'Action', 'Strategy', 'Sports', 'Role-Playing', 'Strategy', 'Adventure', 'Action', 'Miscellaneous', 'Sports', 'Miscellaneous', 'Role-Playing', 'Role-Playing', 'Role-Playing', 'Action Adventure', 'Action', 'Action', 'Sports', 'Action', 'Action Adventure', 'Role-Playing', 'Racing', 'Adventure', 'Action Adventure', 'Sports', 'Strategy', 'Action Adventure', 'Strategy', 'Sports', 'Driving', 'Action Adventure', 'Miscellaneous', 'Action', 'Sports', 'Sports', 'Shooter', 'Action', 'Puzzle', 'Action', 'Action', 'Action', 'Action', 'Role-Playing', 'Action', 'Action Adventure', 'Action', 'Action', 'Sports', 'Action', 'Driving', 'Action', 'Sports', 'Action', 'Action', 'Adventure', 'Action', 'Miscellaneous', 'Strategy', 'Strategy', 'Action', 'Adventure', 'Strategy', 'Action', 'Action', 'Miscellaneous', 'Strategy', 'Simulation', 'Action Adventure', 'Action', 'Adventure', 'Action', 'Driving', 'Sports', 'Strategy', 'Sports', 'Action', 'Action', 'Strategy', 'Role-Playing', 'Strategy', 'Driving', 'Action', 'Adventure', 'Action', 'Shooter', 'Action Adventure', 'Action', 'Sports', 'Action', 'Action Adventure', 'Action Adventure', 'Action', 'Sports', 'Action', 'Action Adventure', 'Action Adventure', 'Action', 'Sports', 'Action', 'Action Adventure', 'Action Adventure', 'Action', 'Sports', 'Action', 'Action Adventure', 'Action Adventure', 'Racing', 'Action', 'Adventure', 'Action Adventure', 'Action', 'Strategy', 'Miscellaneous', 'Adventure', 'Strategy', 'Action', 'Action', 'Role-Playing', 'Strategy', 'Adventure', 'Action Adventure', 'Simulation', 'Action', 'Action', 'Strategy', 'Action', 'Action', 'Miscellaneous', 'Action', 'Action', 'Action', 'Sports', 'Action Adventure', 'Driving', 'Action Adventure', 'Strategy', 'Adventure', 'Strategy', 'Strategy', 'Role-Playing', 'Sports', 'Action Adventure', 'Adventure', 'Adventure', 'Action Adventure', 'Adventure', 'Japanese-Style', 'Strategy', 'Action', 'Action', 'Action Adventure', 'Action', 'Simulation', 'Strategy', 'Adventure', 'Role-Playing', 'Strategy', 'Action Adventure', 'Sports', 'Driving', 'Driving', 'Role-Playing', 'Strategy', 'Driving', 'GT / Street', 'Action', 'Action Adventure', 'Action', 'Action', 'Strategy', 'Action', 'Action Adventure', 'General', 'Action', 'Role-Playing', 'Action', 'Sci-Fi', 'Action Adventure', 'Driving', 'Action Adventure', 'Adventure', 'Adventure', 'Adventure', 'Miscellaneous', 'Action Adventure', 'Action Adventure', 'Role-Playing', 'Racing', 'Action', 'Strategy', 'Action Adventure', 'Role-Playing', 'Racing', 'Action', 'Strategy', 'Action Adventure', 'Role-Playing', 'Racing', 'Action', 'Strategy', 'Action Adventure', 'Role-Playing', 'Racing', 'Action', 'Strategy', 'Miscellaneous', 'Strategy', 'Miscellaneous', 'Action', 'Action', 'Driving', 'Driving', 'Simulation', 'Strategy', 'Miscellaneous', 'Action', 'Action', 'Action', 'Action', 'Adventure', 'Action Adventure', 'Adventure', 'Role-Playing', 'Puzzle', 'Adventure', 'Action', 'Action', 'Horror', 'Strategy', 'Sports', 'Action', 'Action Adventure', 'Miscellaneous', 'Strategy', 'Action Adventure', 'Racing', 'Action Adventure', 'Action', 'Miscellaneous', 'Strategy', 'Sports', 'Miscellaneous', 'Action', 'Action', 'Action Adventure', 'Action', 'Action', 'Simulation', 'Action', 'Adventure', 'Adventure', 'Action', 'Racing', 'Strategy', 'Adventure', 'Role-Playing', 'Action', 'Action Adventure', 'Driving', 'Action', 'Action', 'Strategy', 'General', 'Action Adventure', 'Action', 'Action Adventure', 'Sports', 'Strategy', 'Adventure', 'Miscellaneous', 'Simulation', 'Driving', 'Miscellaneous', 'Role-Playing', 'Action Adventure', 'Action', 'Miscellaneous', 'Sports', 'Action', 'Role-Playing', 'Sports', 'Sports', 'Strategy', 'Action', 'Strategy', 'Miscellaneous', 'Action', 'Action', 'Action', 'Role-Playing', 'Miscellaneous', 'Action', 'Action', 'Action', 'Role-Playing', 'Miscellaneous', 'Action', 'Action', 'Action', 'Role-Playing', 'Miscellaneous', 'Action', 'Action', 'Action', 'Role-Playing', 'Sports', 'Strategy', 'General', 'Action', 'Role-Playing', 'Action Adventure', 'Action', 'Adventure', 'Role-Playing', 'Action', 'Driving', 'Action Adventure', 'Strategy', 'Action', 'Action', 'Action Adventure', 'Action', 'Role-Playing', 'Sports', 'Strategy', 'Action', 'Action Adventure', 'Strategy', 'Adventure', 'Action', 'Adventure', 'Role-Playing', 'Puzzle', 'Action', 'Strategy', 'Miscellaneous', 'Adventure', 'Action Adventure', 'Strategy', 'Action', 'Action', 'Action', 'General', 'Action', 'Action', 'Adventure', 'Driving', 'Strategy', 'Action', 'Strategy', 'Puzzle', 'Adventure', 'Action', 'Role-Playing', 'Strategy', 'Sports', 'Miscellaneous', 'Simulation', 'Miscellaneous', 'Adventure', 'Miscellaneous', 'Sports', 'Action', 'Miscellaneous', 'Sports', 'Action', 'Action Adventure', 'Role-Playing', 'Sports', 'Adventure', 'Miscellaneous', 'General', 'Sports', 'Action', 'Arcade', 'Adventure', 'Action', 'Platformer', 'Action', 'Sports', 'Action', 'Action Adventure', 'Action Adventure', 'Action Adventure', 'Driving', 'Action', 'Miscellaneous', 'Action', 'Action', 'Role-Playing', 'Action', 'Miscellaneous', 'Action', 'Action', 'Role-Playing', 'Action', 'Miscellaneous', 'Action', 'Action', 'Role-Playing', 'Action', 'Miscellaneous', 'Action', 'Action', 'Role-Playing', 'Adventure', 'Action', 'Sports', 'Action', 'Action', 'Action RPG', 'Strategy', 'Miscellaneous', 'Strategy', 'Action Adventure', 'Action', 'Action', 'Strategy', 'Action Adventure', 'Driving', 'Action Adventure', 'Action', 'Simulation', 'Miscellaneous', 'Sports', 'Action', 'Role-Playing', 'Role-Playing', 'Sports', 'Action', 'Role-Playing', 'Action Adventure', 'Action', 'Simulation', 'Action', 'Action Adventure', 'Role-Playing', 'Adventure', 'Role-Playing', 'Action', 'Miscellaneous', 'Action', 'Action', 'Strategy', 'General', 'Sports', 'Action', 'Action Adventure', 'General', 'Action', 'Action', 'Action', 'Action Adventure', 'Strategy', 'Driving', 'Action', 'Action', 'Action', 'Role-Playing', 'Action Adventure', 'Miscellaneous', 'Role-Playing', 'Action', 'Strategy', 'Action', 'Miscellaneous', 'Action', 'Action', 'Driving', 'Role-Playing', 'Miscellaneous', 'Miscellaneous', 'Action', 'Driving', 'Action', 'Action', 'Adventure', 'Action Adventure', 'Role-Playing', 'Action', 'Action Adventure', 'Adventure', 'Action', 'Action Adventure', 'Adventure', 'Action', 'Role-Playing', 'Action', 'Role-Playing', 'Adventure', 'Action', 'Role-Playing', 'Action', 'Role-Playing', 'Adventure', 'Action', 'Role-Playing', 'Action', 'Role-Playing', 'Adventure', 'Action', 'Role-Playing', 'Action', 'Role-Playing', 'Adventure', 'Adventure', 'Action Adventure', 'Action', 'Strategy', 'Action Adventure', 'Action', 'Sports', 'Adventure', 'Sports', 'Miscellaneous', 'Miscellaneous', 'Strategy', 'Action', 'Action', 'Driving', 'Simulation', 'Miscellaneous', 'Strategy', 'Sports', 'Action Adventure', 'Sports', 'Action', 'Shooter', 'Action Adventure', 'Action', 'Adventure', 'Action', 'Action', 'Action', 'Action', 'Action', 'Driving', 'Action', 'Adventure', 'Action', 'Sports', 'Action', 'Action Adventure', 'Sports', 'Sports', 'Action', 'Action', 'Strategy', 'Miscellaneous', 'Adventure', 'Action', 'Strategy', 'Adventure', 'Role-Playing', 'Miscellaneous', 'Sports', 'Action', 'Strategy', '2D', 'Driving', 'Role-Playing', 'Role-Playing', 'Role-Playing', 'Miscellaneous', 'Adventure', 'Adventure', 'Action Adventure', 'Miscellaneous', 'Action', 'Adventure', 'Role-Playing', 'Sports', 'Sports', 'Action', 'Action', 'Action', 'Action', 'Action', 'Adventure', 'Role-Playing', 'Action', 'Adventure', 'Driving', 'Action', 'Role-Playing', 'Action Adventure', 'Action Adventure', 'Strategy', 'General', 'Action', 'Action Adventure', 'Action Adventure', 'Strategy', 'General', 'Action', 'Action Adventure', 'Action Adventure', 'Strategy', 'General', 'Action', 'Action Adventure', 'Action Adventure', 'Strategy', 'General', 'Action', 'Action', 'Miscellaneous', 'Sports', 'Action', 'Role-Playing', 'Sports', 'Role-Playing', 'Action', 'Sports', 'Adventure', 'Action Adventure', 'Role-Playing', 'Strategy', 'Sports', 'Action Adventure', 'Role-Playing', 'Action', 'Miscellaneous', 'Role-Playing', 'Action Adventure', 'Role-Playing', 'Racing', 'Action Adventure', 'Strategy', 'Action', 'Racing', 'Role-Playing', 'Action', 'Adventure', 'Action', 'Action', 'Action Adventure', 'Action Adventure', 'Racing', 'Adventure', 'Role-Playing', 'Action Adventure', 'Action Adventure', 'Role-Playing', 'Sports', 'Action', 'Role-Playing', 'Action Adventure', 'Action Adventure', 'Miscellaneous', 'Role-Playing', 'Action Adventure', 'Role-Playing', 'Action', 'Simulation', 'Sports', 'Simulation', 'Sports', 'Strategy', 'Action Adventure', 'Action', 'Action', 'Action', 'Japanese-Style', 'Simulation', 'Action Adventure', 'Role-Playing', 'Puzzle', 'Action', 'Driving', 'Adventure', 'Racing', 'Action Adventure', 'Simulation', 'Action', 'Driving', 'Racing', 'Action Adventure', 'Sci-Fi', 'Action', 'Strategy', 'Adventure', 'Action', 'Action', 'Puzzle', 'Strategy', 'Action', 'Sports', 'Role-Playing', 'Strategy', 'Strategy', 'Action', 'Sports', 'Role-Playing', 'Strategy', 'Strategy', 'Action', 'Sports', 'Role-Playing', 'Strategy', 'Strategy', 'Action', 'Sports', 'Role-Playing', 'Strategy', 'Action Adventure', 'Action Adventure', 'Miscellaneous', 'Adventure', 'Adventure', 'Action', 'Puzzle', 'General', 'Miscellaneous', 'Sports', 'Strategy', 'Sports', 'Sports', 'Action', 'Adventure', 'General', 'Action', 'Action Adventure', 'Action', 'Sports', 'Action', 'Action', 'Adventure', 'Action Adventure', 'Simulation', 'Action', 'General', 'Adventure', 'Miscellaneous', 'Action', 'Action', 'Action', 'Puzzle', 'Action', 'Action', 'Adventure', 'Sports', 'Action', 'Adventure', 'Action', 'Action', 'Action', 'Role-Playing', 'Sports', 'Action', 'Action Adventure', 'Adventure', 'Miscellaneous', 'Action', 'Adventure', 'Adventure', 'Role-Playing', 'Sports', 'Driving', 'Action', 'Racing', 'Strategy', 'Strategy', 'Action', 'General', 'Action', 'Action Adventure', 'Racing', 'Sports', 'Sports', 'Action', 'Puzzle', 'Action Adventure', 'Role-Playing', 'Miscellaneous', 'Action Adventure', 'Driving', 'Role-Playing', 'Sports', 'Role-Playing', 'Simulation', 'Miscellaneous', 'Action', 'Action', 'Simulation', 'Strategy', 'Adventure', 'Action', 'Role-Playing', 'Racing', 'Strategy', 'Adventure', 'Action', 'Role-Playing', 'Racing', 'Strategy', 'Adventure', 'Action', 'Role-Playing', 'Racing', 'Strategy', 'Adventure', 'Action', 'Role-Playing', 'Racing', 'Action', 'Action', 'Puzzle', 'Role-Playing', 'Driving', 'Simulation', 'Action Adventure', 'Action', 'Adventure', 'Action', 'Role-Playing', 'Action', 'Sports', 'Driving', 'Action Adventure', 'Role-Playing', 'Action', 'Adventure', 'Strategy', 'Action', 'Role-Playing', 'Action', 'Action Adventure', 'Action', 'Action', 'Simulation', 'Adventure', 'Role-Playing', 'Action', 'Action Adventure', 'Simulation', 'Racing', 'Role-Playing', 'Action', 'Adventure', 'Action', 'Role-Playing', 'Action', 'Action', 'Strategy', 'Role-Playing', 'Miscellaneous', 'Action', 'Sports', 'Miscellaneous', 'Sports', 'Adventure', 'Sports', 'Action', 'Role-Playing', 'Sports', 'Strategy', 'Driving', 'Action Adventure', 'Strategy', 'Sports', 'Action', 'Driving', 'Role-Playing', 'Simulation', 'Action Adventure', 'Action', 'Miscellaneous', 'Platformer', 'Action', 'Driving', 'Action', 'General', 'Action', 'Miscellaneous', 'Action Adventure', 'Adventure', 'Strategy', 'Adventure', 'Role-Playing', 'Action', 'Sports', 'Action', 'Strategy', 'Action', 'Role-Playing', 'Adventure', 'Role-Playing', 'Miscellaneous', 'Action Adventure', 'Role-Playing', 'Adventure', 'Role-Playing', 'Miscellaneous', 'Action Adventure', 'Role-Playing', 'Adventure', 'Role-Playing', 'Miscellaneous', 'Action Adventure', 'Role-Playing', 'Adventure', 'Role-Playing', 'Miscellaneous', 'Action Adventure', 'Sports', 'Adventure', 'Adventure', 'Miscellaneous', 'Role-Playing', 'Strategy', 'Action', 'Action Adventure', 'Action Adventure', 'Action', 'Role-Playing', 'Sports', 'Simulation', 'Action', 'Simulation', 'Sports', 'Role-Playing', 'Driving', 'Sports', 'Action', 'Driving', 'Action', 'Adventure', 'Driving', 'Sports', 'Strategy', 'Action Adventure', 'Action', 'Action Adventure', 'Action Adventure', 'Sports', 'Sports', 'Action Adventure', 'Action Adventure', 'Simulation', 'Action', 'Role-Playing', 'Action', 'Action', 'Action', 'Action', 'Adventure', 'Action Adventure', 'Action', 'Adventure', 'Action', 'Role-Playing', 'Role-Playing', 'Action', 'Role-Playing', 'Action', 'Action', 'Sports', 'Sports', 'Action Adventure', 'Strategy', 'Action', 'Action', 'Action', 'General', 'Miscellaneous', 'Action', 'Miscellaneous', 'Action', 'Action', 'Action Adventure', 'Action', 'Action', 'Adventure', 'Sports', 'Adventure', 'Action', 'Action Adventure', 'Adventure', 'Adventure', 'Action', 'Puzzle', 'Miscellaneous', 'Action', 'Adventure', 'Sports', 'Role-Playing', 'Sports', 'Action', 'Miscellaneous', 'Sports', 'Role-Playing', 'Sports', 'Action', 'Miscellaneous', 'Sports', 'Role-Playing', 'Sports', 'Action', 'Miscellaneous', 'Sports', 'Role-Playing', 'Sports', 'Action', 'Miscellaneous', 'Action', 'Role-Playing', 'Action Adventure', 'Action', 'Role-Playing', 'Strategy', 'Role-Playing', 'Action Adventure', 'Action', 'Simulation', 'Action', 'Action', 'Strategy', 'Action Adventure', 'Action Adventure', 'Miscellaneous', 'Action', 'Action Adventure', 'General', 'Miscellaneous', 'Action', 'Sports', 'Adventure', 'Role-Playing', 'Action', 'Adventure', 'Adventure', 'Action', 'Driving', 'Miscellaneous', 'Role-Playing', 'Action', 'Action', 'Action Adventure', 'Strategy', 'Action Adventure', 'Action', 'Action', 'Adventure', 'Sports', 'Adventure', 'Action Adventure', 'Role-Playing', 'Action Adventure', 'Action', 'Strategy', 'Adventure', 'Strategy', 'Action', 'Action', 'Sports', 'Action Adventure', 'Driving', 'Sports', 'Action', 'Driving', 'Action', 'Action Adventure', 'Strategy', 'Driving', 'Simulation', 'Sports', 'Driving', 'Sports', 'Adventure', 'Role-Playing', 'Open-World', 'Role-Playing', 'Miscellaneous', 'Action', 'Action', 'Action', 'Miscellaneous', 'Adventure', 'Role-Playing', 'Simulation', 'Action', 'Action', 'Action', 'Role-Playing', 'Adventure', 'Action', 'Action Adventure', 'Action', 'Role-Playing', 'Adventure', 'Action', 'Action Adventure', 'Action', 'Role-Playing', 'Adventure', 'Action', 'Action Adventure', 'Action', 'Role-Playing', 'Adventure', 'Action', 'Action Adventure', 'Action', 'Role-Playing', 'Adventure', 'Action Adventure', 'Adventure', 'Action', 'Action', 'Strategy', 'Action', 'Action', 'Driving', 'Adventure', 'Action', 'Action', 'Action', 'Action', 'Action', 'Racing', 'Miscellaneous', 'Action', 'Adventure', 'Miscellaneous', 'Role-Playing', 'Sports', 'Action Adventure', 'Action', 'Miscellaneous', 'Action', 'Action', 'Sports', 'Sports', 'Strategy', 'Miscellaneous', 'Strategy', 'Action', 'Role-Playing', 'Action', 'Action', 'Action Adventure', 'Action Adventure', 'Action', 'Role-Playing', 'Adventure', 'Action', 'Strategy', 'Puzzle', 'Action', 'Action', 'Action', 'Action', 'Strategy', 'Action', 'Miscellaneous', 'Sports', 'Action', 'Adventure', 'Miscellaneous', 'Sports', 'Action', 'Action', 'Role-Playing', 'Action', 'Action Adventure', 'Action', 'Action Adventure', 'Action', 'Strategy', 'Miscellaneous', 'Sports', 'Role-Playing', 'Puzzle', 'Role-Playing', 'Action', 'Adventure', 'Role-Playing', 'Action', 'General', 'Action Adventure', 'Simulation', 'Adventure', 'Action', 'Action', 'Puzzle', 'Action', 'Sports', 'Action Adventure', 'Action', 'Puzzle', 'Action', 'Sports', 'Action Adventure', 'Action', 'Puzzle', 'Action', 'Sports', 'Action Adventure', 'Action', 'Puzzle', 'Action', 'Sports', 'Action Adventure', 'Action', 'Simulation', 'Action Adventure', 'Miscellaneous', 'Action Adventure', 'Sports', 'Miscellaneous', 'Role-Playing', 'Miscellaneous', 'Sports', 'Driving', 'Driving', 'Action', 'Strategy', 'Action Adventure', 'Action', 'Sports', 'Miscellaneous', 'Action', 'Sports', 'Action', 'Miscellaneous', 'Action', 'Role-Playing', 'Action', 'Action', 'Role-Playing', 'Sports', 'Action', 'Simulation', 'Action', 'Miscellaneous', 'Action', 'Action', 'Strategy', 'Action Adventure', 'Sports', 'Action', 'Action', 'Adventure', 'Miscellaneous', 'Action', 'Action', 'Racing', 'Action', 'Action', 'Adventure', 'Miscellaneous', 'Role-Playing', 'Role-Playing', 'Adventure', 'Action', 'Sports', 'Action', 'Action', 'Action Adventure', 'Role-Playing', 'Driving', 'Action Adventure', 'Action', 'Sports', 'Role-Playing', 'Strategy', 'Action', 'Strategy', 'Sports', 'Simulation', 'Driving', 'Simulation', 'Sports', 'Sports', 'Action', 'Role-Playing', 'Action', 'Sports', 'Role-Playing', 'Action Adventure', 'Action', 'Strategy', 'Miscellaneous', 'Action', 'Action Adventure', 'Strategy', 'Role-Playing', 'Adventure', 'Strategy', 'Action Adventure', 'Strategy', 'Role-Playing', 'Adventure', 'Strategy', 'Action Adventure', 'Strategy', 'Role-Playing', 'Adventure', 'Strategy', 'Action Adventure', 'Strategy', 'Role-Playing', 'Adventure', 'Strategy', 'Turn-Based', 'Action Adventure', 'Miscellaneous', 'Role-Playing', 'Adventure', 'Action', 'Miscellaneous', 'Driving', 'Simulation', 'Racing', 'Strategy', 'Role-Playing', 'Sports', 'Sports', 'Role-Playing', 'Strategy', 'Role-Playing', 'PC-style RPG', 'Action Adventure', 'Strategy', 'Action', 'Driving', 'Action', 'Role-Playing', 'Action', 'Action Adventure', 'Sports', 'Action', 'Action Adventure', 'Action', 'Simulation', 'Action', 'Action', 'Adventure', 'Action', 'Strategy', 'Action', 'Strategy', 'Action', 'Driving', 'Sports', 'Strategy', 'Sports', 'Action', 'Strategy', 'Simulation', 'Action', 'Strategy', 'Driving', 'Action', 'Action', 'Driving', 'Action Adventure', 'Sports', 'Role-Playing', 'Action Adventure', 'Action Adventure', 'Action', 'Role-Playing', 'Action', 'Action Adventure', 'Puzzle', 'Action', 'Action Adventure', 'Strategy', 'Role-Playing', 'Action Adventure', 'Action', 'General', 'Action', 'Historic', 'Role-Playing', 'Miscellaneous', 'Strategy', 'Strategy', 'Action', 'Strategy', 'Role-Playing', 'Simulation', 'Action Adventure', 'General', 'Action', 'Miscellaneous', 'Action', 'Adventure', 'General', 'Action', 'Miscellaneous', 'Action', 'Adventure', 'General', 'Action', 'Miscellaneous', 'Action', 'Adventure', 'General', 'Action', 'Miscellaneous', 'Action', 'Adventure', 'Action Adventure', 'Action', 'Role-Playing', 'Action', 'Action Adventure', 'Action', 'Sports', 'Miscellaneous', 'Action', 'Driving', 'Strategy', 'Role-Playing', 'Action', 'Strategy', 'Strategy', 'Action', 'Action', 'Puzzle', 'Adventure', 'Sports', 'Strategy', 'Role-Playing', 'Sports', 'Driving', 'Role-Playing', 'Simulation', 'Sports', 'Driving', 'Action Adventure', 'General', 'Strategy', 'Action Adventure', 'Sports', 'Action', 'Miscellaneous', 'Role-Playing', 'Sports', 'Miscellaneous', 'Puzzle', 'Action Adventure', 'Simulation', 'Strategy', 'Driving', 'Driving', 'Strategy', 'Action', 'Puzzle', 'General', 'Action', 'Action', 'Action Adventure', 'Role-Playing', 'Racing', 'Action', 'Action', 'Action', 'Action', 'Role-Playing', 'Role-Playing', 'Action Adventure', 'Sports', 'General', 'Adventure', 'Role-Playing', 'Adventure', 'Sports', 'Action Adventure', 'Action Adventure', 'Action', 'Action', 'Miscellaneous', 'Adventure', 'Sports', 'Miscellaneous', 'Action', 'Action', 'Action Adventure', 'Puzzle', 'Miscellaneous', 'Action', 'Action', 'Role-Playing', 'Sports', 'Driving', 'Action', 'Action', 'Role-Playing', 'Sports', 'Driving', 'Action', 'Action', 'Role-Playing', 'Sports', 'Driving', 'Action', 'Action', 'Role-Playing', 'Sports', 'Driving', 'Action', 'Sports', 'Strategy', 'Simulation', 'Driving', 'Action Adventure', 'Strategy', 'Action', 'Simulation', 'Driving', 'Strategy', 'Action', 'Action Adventure', 'Action', 'Adventure', 'Action', 'Action Adventure', 'Action', 'Adventure', 'Driving', 'Sports', 'Miscellaneous', 'Fantasy', 'Adventure', 'Puzzle', 'Action', 'Action', 'Action Adventure', 'Strategy', 'Action Adventure', 'Sports', 'Adventure', 'Action', 'Role-Playing', 'Simulation', 'Simulation', 'Puzzle', 'Adventure', 'Miscellaneous', 'Miscellaneous', 'Adventure', 'Action', 'Simulation', 'Action Adventure', 'Action Adventure', 'Sports', 'Horror', 'Driving', 'Action', 'Action', 'Role-Playing', 'Action', 'Role-Playing', 'Action', 'Strategy', 'Action', 'Racing', 'Real-Time', 'Action', 'Simulation', 'Miscellaneous', 'Action', 'Sports', 'Sports', 'Action', 'Action', 'Racing', 'Action', 'Strategy', 'Strategy', 'Action', 'Role-Playing', 'Adventure', 'Strategy', 'Adventure', 'Action', 'Action', 'Action', 'Puzzle', 'Strategy', 'Strategy', 'Miscellaneous', 'Sports', 'Action', 'Sports', 'Sports', 'Miscellaneous', 'Sports', 'Action', 'Sports', 'Sports', 'Miscellaneous', 'Sports', 'Action', 'Sports', 'Sports', 'Miscellaneous', 'Sports', 'Action', 'Sports', 'Sports', 'Sports', 'Sports', 'Action', 'Role-Playing', 'Action', 'Action', 'Action', 'Strategy', 'Action Adventure', 'Driving', 'Action', 'Action', 'Action', 'Strategy', 'Role-Playing', 'Action', 'Sports', 'Action', 'Sports', 'Action Adventure', 'Action Adventure', 'Miscellaneous', 'Action', 'Action', 'Sports', 'Sports', 'Strategy', 'Action', 'Miscellaneous', 'Action', 'Simulation', 'Miscellaneous', 'Racing', 'Action', 'Action', 'Action Adventure', 'Miscellaneous', 'Action', 'Strategy', 'Simulation', 'Miscellaneous', 'Action Adventure', 'Miscellaneous', 'Action', 'Action', 'Simulation', 'Action', 'Driving', 'Action Adventure', 'Action', 'Role-Playing', 'Miscellaneous', 'Driving', 'Action', 'Action', 'Strategy', 'Role-Playing', 'Adventure', 'Puzzle', 'Puzzle', 'Miscellaneous', 'Sports', 'Action', 'Action', 'Driving', 'Strategy', 'Sports', 'Driving', 'Strategy', 'Simulation', 'Sports', 'Action Adventure', 'Adventure', 'Adventure', 'Action Adventure', 'Strategy', 'Simulation', 'Driving', 'Racing', 'Sports', 'Action', 'Action', 'Action', 'Action', 'Strategy', 'Action', 'Action', 'Action', 'Action', 'Strategy', 'Action', 'Action', 'Action', 'Action', 'Strategy', 'Action', 'Action', 'Action', 'Action', 'Strategy', 'Miscellaneous', 'Strategy', 'Action', 'Action', 'Action Adventure', 'Action', 'Action', 'Action Adventure', 'Action', 'Action', 'Action', 'Puzzle', 'Adventure', 'Action', 'Action Adventure', 'Driving', 'Sports', 'Strategy', 'Action', 'Adventure', 'Sports', 'Action', 'Sports', 'Role-Playing', 'Strategy', 'Role-Playing', 'Action', 'Miscellaneous', 'Action Adventure', 'Role-Playing', 'Strategy', 'Action Adventure', 'Action', 'Action', 'Strategy', 'Action', 'Miscellaneous', 'Action', 'Miscellaneous', 'Action Adventure', 'Action', 'Sports', 'Action', 'Action', 'Action Adventure', 'Action', 'Sports', 'Strategy', 'Sports', 'Action Adventure', 'Action Adventure', 'Action', 'Action', 'Action', 'Strategy', 'Adventure', 'General', 'Sports', 'Sports', 'Role-Playing', 'Adventure', 'Action', 'Action', 'Miscellaneous', 'Role-Playing', 'Sports', 'Strategy', 'Action Adventure', 'Role-Playing', 'Action Adventure', 'Role-Playing', 'Adventure', 'Role-Playing', 'Action', 'Adventure', 'Action', 'Action', 'Action', 'Action Adventure', '2D', 'Role-Playing', 'Miscellaneous', 'Adventure', 'Role-Playing', 'Simulation', 'Role-Playing', 'Miscellaneous', 'Adventure', 'Role-Playing', 'Simulation', 'Role-Playing', 'Miscellaneous', 'Adventure', 'Role-Playing', 'Simulation', 'Role-Playing', 'Miscellaneous', 'Adventure', 'Role-Playing', 'Simulation', 'Strategy', 'Action', 'Strategy', 'Driving', 'Sports', 'Role-Playing', 'Action', 'Action Adventure', 'Compilation', 'Action', 'Racing', 'Action', 'Strategy', 'Puzzle', 'Strategy', 'Role-Playing', 'Adventure', 'Action', 'Action', 'Action Adventure', 'Action', 'Action', 'Action', 'Action', 'Strategy', 'Action Adventure', 'Sports', 'Adventure', 'Driving', 'Action Adventure', 'Platformer', 'Sports', 'Strategy', 'Action', 'Adventure', 'Simulation', 'Strategy', 'Action', 'Action', 'Sports', 'Action Adventure', 'Strategy', 'Action Adventure', 'Sports', 'Miscellaneous', 'Miscellaneous', 'Action', 'Role-Playing', 'Action', 'Action', 'Adventure', 'Action', 'Action', 'Action', 'Adventure', 'Racing', 'Action', 'Role-Playing', 'Action', 'Action', 'Action', 'Role-Playing', 'Role-Playing', 'General', 'Role-Playing', 'Action', 'Action', 'Action', 'Action', 'Strategy', 'Racing', 'Role-Playing', 'Role-Playing', 'Action Adventure', 'Strategy', 'Adventure', 'Adventure', 'Action', 'Driving', 'Action', 'Adventure', 'Action', 'Action', 'Shooter', 'Miscellaneous', 'Adventure', 'Action', 'Action', 'Shooter', 'Miscellaneous', 'Adventure', 'Action', 'Action', 'Shooter', 'Miscellaneous', 'Adventure', 'Action', 'Action', 'Shooter', 'Miscellaneous', 'Adventure', 'Action Adventure', 'Action', 'Action', 'Action', 'Adventure', 'Driving', 'Sports', 'Action', 'Action Adventure', 'Adventure', 'Adventure', 'Sci-Fi', 'Action', 'Action', 'Action Adventure', 'Action Adventure', 'Action', 'Action', 'Action', 'Action Adventure', 'Miscellaneous', 'Action', 'Action', 'Action Adventure', 'General', 'Sports', 'Sports', 'Strategy', 'Role-Playing', 'Action', 'Strategy', 'Miscellaneous', 'Miscellaneous', 'Driving', 'Action', 'Adventure', 'Action Adventure', 'Role-Playing', 'Action Adventure', 'Role-Playing', 'Adventure', 'Action Adventure', 'Sports', 'Action', 'Action', 'Strategy', 'General', 'Action', 'Action Adventure', 'Driving', 'Action Adventure', 'Role-Playing', 'Action', 'Adventure', 'Strategy', 'Role-Playing', 'Action Adventure', 'Adventure', 'Action', 'Action', 'Action', 'Action', 'Strategy', 'Adventure', 'Adventure', 'Action', 'Action Adventure', 'Action Adventure', 'Action', 'Console-style RPG', 'Puzzle', 'Action', 'Action', 'Action', 'Miscellaneous', 'Action', 'Miscellaneous', 'Action', 'Action Adventure', 'Action', 'Action', 'Action', 'Action', 'Action', 'Action', 'Action', 'Action', 'Action', 'Action', 'Action', 'Action', 'Action', 'Action', 'Action', 'Action', 'Action', 'Action', 'Action', 'Action', 'Action', 'Action', 'Action', 'Strategy', 'Role-Playing', 'Role-Playing', 'Action', 'Action', 'Action', 'Action', 'Action', 'Action', 'Sports', 'Role-Playing', 'Action', 'Adventure', 'Action', 'Action Adventure', 'Action', 'Strategy', 'Action Adventure', 'Miscellaneous', 'Miscellaneous', 'Action', 'Adventure', 'Action', 'Adventure', 'Role-Playing', 'Miscellaneous', 'Adventure', 'Racing', 'Action Adventure', 'Action', 'Action', 'Sports', 'Adventure', 'Action Adventure', 'Sci-Fi', 'Action', 'Simulation', 'Role-Playing', 'Action', 'Role-Playing', 'Sports', 'Strategy', 'Sports', 'Role-Playing', 'Music', 'Strategy', 'Role-Playing', 'Strategy', 'Action Adventure', 'Strategy', 'Driving', 'Strategy', 'Action', 'Role-Playing', 'Action Adventure', 'Strategy', 'Strategy', 'Strategy', 'Adventure', 'Action Adventure', 'Action', 'Role-Playing', 'Puzzle', 'Miscellaneous', 'Action', 'Action', 'Action', 'Role-Playing', 'Simulation', 'Action', 'Action', 'Action', 'Adventure', 'Adventure', 'Sports', 'Action', 'Driving', 'Action', 'Action', 'Adventure', 'Sports', 'Action', 'Action', 'Action', 'Adventure', 'Sports', 'Action', 'Action', 'Action', 'Adventure', 'Sports', 'Action', 'Action', 'Action', 'Adventure', 'Sports', 'Action', 'Action Adventure', 'Miscellaneous', 'Action', 'Adventure', 'Action', 'Action', 'Sports', 'Role-Playing', 'Driving', 'Sports', 'Action Adventure', 'Sports', 'Action Adventure', 'Sports', 'Strategy', 'Action Adventure', 'Driving', 'Strategy', 'Driving', 'Sports', 'Action', 'Racing', 'Driving', 'Miscellaneous', 'Sports', 'Racing', 'Action Adventure', 'Action', 'Action', 'Action', 'Action', 'Sports', 'Sports', 'Role-Playing', 'Sports', 'Strategy', 'Sports', 'Action', 'Action Adventure', 'Fantasy', 'Role-Playing', 'Action', 'Role-Playing', 'Miscellaneous', 'Action', 'Role-Playing', 'Action', 'Historic', 'Simulation', 'Role-Playing', 'Simulation', 'Action', 'Role-Playing', 'Action', 'Action Adventure', 'Action', 'Action', 'Role-Playing', 'Role-Playing', 'Strategy', 'Action Adventure', 'Strategy', 'Action', 'Action', 'Action', 'Sports', 'Role-Playing', 'Sports', 'Adventure', 'Miscellaneous', 'Action', 'Action Adventure', 'Strategy', 'Miscellaneous', 'Driving', 'General', 'Strategy', 'Action Adventure', 'Adventure', 'Racing', 'Adventure', 'Sports', 'Action Adventure', 'Racing', 'Action Adventure', 'Adventure', 'Sports', 'Action Adventure', 'Racing', 'Action Adventure', 'Adventure', 'Sports', 'Action Adventure', 'Racing', 'Action Adventure', 'Adventure', 'Sports', 'Action Adventure', 'Racing', 'Action Adventure', 'Action', 'General', 'Miscellaneous', 'Simulation', 'Action Adventure', 'Racing', 'Role-Playing', 'Role-Playing', 'Role-Playing', 'Strategy', 'Miscellaneous', 'Adventure', 'Role-Playing', 'Role-Playing', 'Adventure', 'Action', 'Action', 'Action', 'Role-Playing', 'Strategy', 'Sports', 'Action', 'Action', 'Action', 'Adventure', 'Action Adventure', 'Strategy', 'Strategy', 'Adventure', 'Sci-Fi', 'Adventure', 'Action', 'Action', 'Role-Playing', 'Action', 'Action Adventure', 'Simulation', 'Action Adventure', 'Role-Playing', 'Action Adventure', 'General', 'Action', 'General', 'Adventure', 'Action', 'Sports', 'Strategy', 'Sports', 'Puzzle', 'Action Adventure', 'Action Adventure', 'Role-Playing', 'Action', 'Action Adventure', 'Action', 'PC-style RPG', 'Racing', 'Simulation', 'Action', 'Action', 'Action', 'Action Adventure', 'Action', 'Action Adventure', 'Strategy', 'Action', 'Action', 'Action', 'Action', 'Action', 'Action Adventure', 'Role-Playing', 'Action', 'Strategy', 'Action', 'Action Adventure', 'Action', 'Action Adventure', 'Role-Playing', 'Miscellaneous', 'Adventure', 'Adventure', 'Action', 'Adventure', 'Role-Playing', 'Adventure', 'Adventure', 'Action', 'Adventure', 'Role-Playing', 'Adventure', 'Adventure', 'Action', 'Adventure', 'Role-Playing', 'Adventure', 'Adventure', 'Action', 'Adventure', 'Role-Playing', 'Action', 'Action', 'Role-Playing', 'Sports', 'Action', 'Racing', 'Action', 'Miscellaneous', 'Adventure', 'Action', 'Strategy', 'Action Adventure', 'Action', 'Strategy', 'Action', 'Miscellaneous', 'Racing', 'Adventure', 'Action', 'Miscellaneous', 'Action Adventure', 'Sports', 'Action', 'Role-Playing', 'Role-Playing', 'Role-Playing', 'Adventure', 'Action', 'Role-Playing', 'Simulation', 'Action Adventure', 'Adventure', 'Adventure', 'Action', 'Action', 'Action', 'Puzzle', 'Strategy', 'Sports', 'Sports', 'Miscellaneous', 'Driving', 'Role-Playing', 'Miscellaneous', 'Sports', 'Miscellaneous', 'Sports', 'Action', 'Adventure', 'Strategy', 'Miscellaneous', 'Racing', 'Sports', 'Tycoon', 'Role-Playing', 'Strategy', 'Action', 'Action', 'Action', 'Miscellaneous', 'Action', 'Sports', 'Strategy', 'Strategy', '6 Online', 'Strategy', 'Role-Playing', 'Action', 'Action', 'Adventure', 'Action Adventure', 'Action', 'Miscellaneous', 'Action RPG', 'Action', 'Shooter', 'Action', 'Sports', 'Sports', 'Action', 'Action', 'Action', 'Racing', 'Adventure', 'Simulation', 'Action', 'Action', 'Racing', 'Adventure', 'Simulation', 'Action', 'Action', 'Racing', 'Adventure', 'Simulation', 'Action', 'Action', 'Racing', 'Adventure', 'Simulation', 'Action', 'Action Adventure', 'Simulation', 'Strategy', 'Sports', 'Action', 'Sports', 'Sports', 'Strategy', 'Driving', 'Sports', 'Miscellaneous', 'Adventure', 'Action', 'Action', 'Action', 'Action', 'Action', 'Action', 'Action', 'Racing', 'Strategy', 'Role-Playing', 'Adventure', 'Action', 'Action', 'Action Adventure', 'Action', 'Driving', 'Miscellaneous', 'Puzzle', 'Sports', 'Action', 'Miscellaneous', 'Adventure', 'Adventure', 'Action Adventure', 'Role-Playing', 'Action Adventure', 'Miscellaneous', 'Sports', 'Party / Minigame', 'Action', 'Action', 'General', 'Driving', 'Action', 'Miscellaneous', 'Action', 'Action', 'Adventure', 'Puzzle', 'Console-style RPG', 'Strategy', 'Action Adventure', 'Action Adventure', 'Action', 'Strategy', 'Strategy', 'Sports', 'Miscellaneous', 'Strategy', 'Miscellaneous', 'General', 'Sports', 'Role-Playing', 'Action', 'Action', 'Simulation', 'Adventure', 'Role-Playing', 'Strategy', 'Sports', 'Action', 'Strategy', 'Action', 'Action', 'Miscellaneous', 'Action', 'Strategy', 'Sci-Fi', 'Action', 'Simulation', 'Action', 'General', 'Sci-Fi', 'Action', 'Simulation', 'Action', 'General', 'Sci-Fi', 'Action', 'Simulation', 'Action', 'General', 'Sci-Fi', 'Action', 'Simulation', 'Action', 'General', 'Action Adventure', 'Miscellaneous', 'Adventure', 'Action', 'Miscellaneous', 'Strategy', 'Miscellaneous', 'Simulation', 'Action Adventure', 'General', 'Action Adventure', 'Action Adventure', 'Puzzle', 'Action Adventure', 'Action', 'Role-Playing', 'Puzzle', 'Arcade', 'Adventure', 'Action', 'Role-Playing', 'Adventure', 'Simulation', 'Action', 'Action Adventure', 'Action', 'Action', 'Action Adventure', 'Action', 'Action', 'Action Adventure', 'Action', 'Action Adventure', 'Miscellaneous', 'Action', 'Action Adventure', 'Action Adventure', 'Action Adventure', 'Sports', 'Action', 'Miscellaneous', 'Action', 'Strategy', 'Simulation', 'Action', 'Strategy', 'Action', 'Strategy', 'Puzzle', 'Role-Playing', 'Sports', 'Fantasy', 'Strategy', 'Role-Playing', 'Action', 'Adventure', 'Action', 'Action', 'Action', 'Fantasy', 'General', 'Action', 'Racing', 'Action', 'Strategy', 'Role-Playing', 'Role-Playing', 'Action', 'Action', 'Adventure', 'Action', 'Sports', 'Role-Playing', 'Role-Playing', 'Miscellaneous', 'Sports', 'Adventure', 'Strategy', 'Action', 'Action Adventure', 'Action', 'Strategy', 'Action', 'Adventure', 'Adventure', 'Action', 'Strategy', 'Action', 'Adventure', 'Adventure', 'Action', 'Strategy', 'Action', 'Adventure', 'Adventure', 'Action', 'Strategy', 'Action', 'Adventure', 'Adventure', 'Action', 'Action', 'Action', 'Action Adventure', 'Racing', 'Strategy', 'Action', 'Simulation', 'Simulation', 'Sports', 'Sports', 'Strategy', 'Sports', 'Sports', 'Adventure', 'Action Adventure', 'Role-Playing', 'Console-style RPG', 'Action', 'Action', 'Action Adventure', 'Action', 'General', 'Action', 'Action', 'Role-Playing', 'Role-Playing', 'Action', 'Action', 'Adventure', 'Puzzle', 'Action Adventure', 'Action', 'Action', 'Sports', 'Strategy', 'Action', 'Action Adventure', 'Action Adventure', 'Action Adventure', 'Action', 'Role-Playing', 'Action Adventure', 'Action', 'Action', 'Adventure', 'Action', 'Driving', 'Action Adventure', 'Miscellaneous', 'Strategy', 'Adventure', 'Action', 'Action Adventure', 'Simulation', 'Action', 'Puzzle', 'Adventure', 'Action Adventure', 'Role-Playing', 'Role-Playing', 'Action', 'Miscellaneous', 'Role-Playing', 'Racing', 'Strategy', 'Action', 'Adventure', 'Adventure', 'Puzzle', 'Simulation', 'Action', 'Action', 'Action', 'Miscellaneous', 'Racing', 'Action', 'Action', 'Action Adventure', 'Action', 'Sports', 'Driving', 'Action', 'Simulation', 'Action', 'Sports', 'Driving', 'Action', 'Simulation', 'Action', 'Sports', 'Driving', 'Action', 'Simulation', 'Action', 'Sports', 'Driving', 'Action', 'Simulation', 'Action', 'Historic', 'Simulation', 'Sports', 'Japanese-Style', 'Sports', 'Miscellaneous', 'Role-Playing', 'Role-Playing', 'Adventure', 'Action', 'Action Adventure', 'Puzzle', 'Miscellaneous', 'Miscellaneous', 'Sports', 'Action', 'Sports', 'Sports', 'Role-Playing', 'Action', 'Strategy', 'Action Adventure', 'Action Adventure', 'Strategy', 'Miscellaneous', 'Action', 'Action', 'Sports', 'Role-Playing', 'Action', 'Role-Playing', 'Action', 'Action', 'Action', 'Action', 'Role-Playing', 'Adventure', 'Action', 'Action', 'Action', 'Action', 'Action', 'Sports', 'Action', 'Action', 'Action', 'Action Adventure', 'Action', 'Action', 'Adventure', 'Miscellaneous', 'Role-Playing', 'Role-Playing', 'Action', 'Role-Playing', 'Role-Playing', 'Role-Playing', 'Role-Playing', 'Sports', 'Sports', 'Action Adventure', 'Sports', 'Role-Playing', 'Action Adventure', 'Sports', 'Puzzle', 'Action Adventure', 'Puzzle', 'Action', 'Role-Playing', 'Driving', 'Role-Playing', 'Adventure', 'Sports', 'Simulation', 'Strategy', 'Action', 'Action', 'Strategy', 'Action', 'Action', 'Sports', 'Action', 'Racing', 'Action Adventure', 'Action', 'Sports', 'Action', 'Racing', 'Action Adventure', 'Action', 'Sports', 'Action', 'Racing', 'Action Adventure', 'Action', 'Sports', 'Action', 'Racing', 'Action Adventure', 'Action', 'General', 'Action', 'Role-Playing', 'Action', 'Third-Person', 'Action Adventure', 'Action Adventure', 'Action', 'Adventure', 'Action', 'Role-Playing', 'Miscellaneous', 'Action', 'Strategy', 'Action Adventure', 'Action', 'Action', 'Miscellaneous', 'Strategy', 'Action Adventure', 'Action', 'Action Adventure', 'Action', 'Adventure', 'Action Adventure', 'Adventure', 'Strategy', 'Miscellaneous', 'Role-Playing', 'Action', 'Action', 'Action', 'Driving', 'Miscellaneous', 'Adventure', 'Action', 'Action', 'Adventure', 'Action Adventure', 'Puzzle', 'Action', 'Strategy', 'Action', 'Action', 'Action', 'Action', 'Action', 'Action', 'Action', 'Action', 'Adventure', 'Role-Playing', 'Action', 'Action', 'Miscellaneous', 'Action Adventure', 'Adventure', 'Role-Playing', 'Action', 'General', 'Action', 'Fantasy', 'Driving', 'Miscellaneous', 'Action', 'Strategy', 'Adventure', 'Action', 'Simulation', 'Sports', 'Role-Playing', 'Action', 'Miscellaneous', 'Role-Playing', 'Role-Playing', 'Adventure', 'Action', 'Arcade', 'Adventure', 'Miscellaneous', 'Action', 'Role-Playing', 'Sports', 'Action', 'Miscellaneous', 'Action', 'Role-Playing', 'Sports', 'Action', 'Miscellaneous', 'Action', 'Role-Playing', 'Sports', 'Action', 'Miscellaneous', 'Action', 'Role-Playing', 'Sports', 'Action', 'Role-Playing', 'Action', 'Miscellaneous', 'Third-Person', 'Action Adventure', 'Action', 'Adventure', 'Miscellaneous', 'Action', 'Strategy', 'Driving', 'Action', 'Sports', 'Role-Playing', 'Action', 'Strategy', 'Role-Playing', 'Driving', 'Action Adventure', 'Strategy', 'Miscellaneous', 'Racing', 'Strategy', 'Action', 'Action Adventure', 'Role-Playing', 'Adventure', 'Breeding/Constructing', 'Simulation', 'Action Adventure', 'Action', 'Action', 'Sports', 'Action', 'Sci-Fi', 'Strategy', 'Action Adventure', 'Action', 'Action', 'Strategy', 'Role-Playing', 'Strategy', 'Action', 'Action Adventure', 'Role-Playing', 'Adventure', 'Adventure', 'Driving', 'Action Adventure', 'Driving', 'Action', 'Adventure', 'Action', 'Sports', 'Sports', 'Role-Playing', 'Adventure', 'Action Adventure', 'Role-Playing', 'Adventure', 'Action Adventure', 'Miscellaneous', 'Action', 'General', 'Role-Playing', 'Action', 'Driving', 'Action Adventure', 'Action', 'Miscellaneous', 'Action', 'General', 'Action', 'Strategy', 'Role-Playing', 'Adventure', 'Adventure', 'Action', 'Action Adventure', 'Action Adventure', 'Driving', 'Driving', 'Action Adventure', 'Role-Playing', 'Driving', 'Driving', 'Driving', 'Action Adventure', 'Role-Playing', 'Driving', 'Driving', 'Driving', 'Action Adventure', 'Role-Playing', 'Driving', 'Driving', 'Driving', 'Action Adventure', 'Role-Playing', 'Driving', 'Sports', 'Action Adventure', 'Miscellaneous', 'Strategy', 'Adventure', 'General', 'Miscellaneous', 'Sports', 'Role-Playing', 'Sports', 'Simulation', 'Miscellaneous', 'Action', 'Action', 'Puzzle', 'Action', 'Strategy', 'Miscellaneous', 'Strategy', 'Strategy', 'Strategy', 'Role-Playing', 'Miscellaneous', 'Fantasy', 'Action Adventure', 'Simulation', 'Miscellaneous', 'Action', 'Miscellaneous', 'Racing', 'Action', 'Role-Playing', 'Action Adventure', 'Action Adventure', 'Role-Playing', 'Action', 'Action', 'Action', 'Action', 'Miscellaneous', 'Role-Playing', 'Miscellaneous', 'Strategy', 'Role-Playing', 'Sports', 'Action', 'Action Adventure', 'Strategy', 'Simulation', 'Role-Playing', 'Action', 'Miscellaneous', 'Action', 'Action', 'Action', 'Driving', 'Action', 'Simulation', 'Adventure', 'Action Adventure', 'Puzzle', 'Action', 'Action Adventure', 'Action', 'Action', 'Miscellaneous', 'Miscellaneous', 'Racing', 'Action', 'Action Adventure', 'Sports', 'Action', 'Adventure', 'Action Adventure', 'Action', 'Miscellaneous', 'Role-Playing', 'Action', 'Driving', 'Simulation', 'Driving', 'Racing', 'Action Adventure', 'Miscellaneous', 'Action Adventure', 'Driving', 'Racing', 'Action Adventure', 'Miscellaneous', 'Action Adventure', 'Driving', 'Racing', 'Action Adventure', 'Miscellaneous', 'Action Adventure', 'Driving', 'Racing', 'Action Adventure', 'Miscellaneous', 'Action Adventure', 'Action', 'Action', 'Adventure', 'Action', 'Miscellaneous', 'Miscellaneous', 'Action', 'Miscellaneous', 'Simulation', 'Action', 'Action', 'Sports', 'Adventure', 'Strategy', 'Action', 'Role-Playing', 'Miscellaneous', 'Adventure', 'Action', 'Racing', 'Action', 'Sim', 'Role-Playing', 'Action', 'Action', 'Action', 'Strategy', 'Action', 'Action', 'Adventure', 'Platformer', 'Action Adventure', 'Action', 'Alternative', 'Action Adventure', 'Action Adventure', 'On GameFAQs', 'Simulation', 'Action', 'Action', 'Role-Playing', 'Adventure', 'Action', 'Fantasy', 'Sports', 'Action', 'Action', 'Sports', 'Strategy', 'Strategy', 'Strategy', 'Action', 'Sports', 'Miscellaneous', 'Action Adventure', 'Simulation', 'Sports', 'Racing', 'Action', 'Sports', 'Action Adventure', 'Action Adventure', 'Action', 'Strategy', 'Action Adventure', 'Role-Playing', 'Action', 'Sports', 'Action', 'Simulation', 'Simulation', 'Action', 'Action', 'Strategy', 'Role-Playing', 'Simulation', 'Miscellaneous', 'Action Adventure', 'Action', 'Puzzle', 'Adventure', 'Role-Playing', 'Action Adventure', 'Action Adventure', 'Sports', 'Adventure', 'Role-Playing', 'Action Adventure', 'Action Adventure', 'Sports', 'Adventure', 'Role-Playing', 'Action Adventure', 'Action Adventure', 'Sports', 'Adventure', 'Role-Playing', 'Action Adventure', 'Action Adventure', 'Sports', 'Action Adventure', 'Strategy', 'Adventure', 'Miscellaneous', 'Miscellaneous', 'Action', 'Sports', 'Action', 'Role-Playing', 'Sports', 'Action', 'Action Adventure', 'Action', 'Action Adventure', 'Adventure', 'Adventure', 'Role-Playing', 'Action', 'Driving', 'Action Adventure', 'Miscellaneous', 'Strategy', 'Action', 'Action Adventure', 'Action', 'Action Adventure', 'Role-Playing', 'Action', 'Sports', 'Action', 'Action', 'Action', 'Sports', 'Strategy', 'Action Adventure', 'Role-Playing', 'Sports', 'Action', 'Action', 'Strategy', 'Sports', 'Action', 'Action Adventure', 'Adventure', 'Driving', 'Miscellaneous', 'Sci-Fi', 'Sports', 'Action', 'Action Adventure', 'Adventure', 'Strategy', 'Sports', 'Action', 'General', 'Action', 'Role-Playing', 'Action Adventure', 'Action Adventure', 'Driving', 'Adventure', 'Adventure', 'Miscellaneous', 'Platformer', 'Action', 'Sports', 'Action Adventure', 'Action', 'Action Adventure', 'Strategy', 'Sports', 'Miscellaneous', 'Action', 'Role-Playing', 'Adventure', 'Action Adventure', 'Action Adventure', 'Action Adventure', 'Driving', 'Action Adventure', 'Action', 'Miscellaneous', 'Action', 'Adventure', 'Action', 'Action', 'Miscellaneous', 'Action', 'Adventure', 'Action', 'Action', 'Miscellaneous', 'Action', 'Adventure', 'Action', 'Action', 'Miscellaneous', 'Action', 'Adventure', 'Action', 'General', 'Role-Playing', 'Adventure', 'Action Adventure', 'Action Adventure', 'Driving', 'Action Adventure', 'Action', 'Simulation', 'Modern', 'Simulation', 'Sports', 'Sports', 'Action Adventure', 'Simulation', 'Action Adventure', 'Simulation', 'Action Adventure', 'Action Adventure', 'Role-Playing', 'Strategy', 'Action Adventure', 'Tycoon', 'Action Adventure', 'Action', 'Action', 'Role-Playing', 'Action', 'Role-Playing', 'Driving', 'Miscellaneous', 'Action', 'Driving', 'Action', 'Adventure', 'Action Adventure', 'Role-Playing', 'Simulation', 'Adventure', 'Role-Playing', 'Role-Playing', 'General', 'Action', 'Action Adventure', 'Role-Playing', 'Adventure', 'Action', 'Adventure', 'Action', 'Role-Playing', 'Action', 'Action', 'Strategy', 'Miscellaneous', 'Role-Playing', 'Adventure', 'Action', 'Action', 'Action Adventure', 'Adventure', 'Action', 'Strategy', 'Miscellaneous', 'Adventure', 'Driving', 'Action', 'Role-Playing', 'Miscellaneous', 'Driving', 'Action', 'Driving', 'Action', 'Action Adventure', 'General', 'Action Adventure', 'Action Adventure', 'Simulation', 'Role-Playing', 'Racing', 'Action', 'Action', 'Action', 'Role-Playing', 'Sports', 'Action', 'Action', 'Action', 'Role-Playing', 'Sports', 'Action', 'Action', 'Action', 'Role-Playing', 'Sports', 'Action', 'Action', 'Action', 'Role-Playing', 'Sports', 'Action', 'Strategy', 'Action Adventure', 'General', 'Action', 'Miscellaneous', 'Role-Playing', 'Action', 'Sports', 'Action', 'Action', 'Action Adventure', 'Action Adventure', 'Action', 'Role-Playing', 'Driving', 'Action Adventure', 'Role-Playing', 'First-Person', 'Strategy', 'Role-Playing', 'Role-Playing', 'Action', 'Puzzle', 'Simulation', 'Miscellaneous', 'Miscellaneous', 'Action', 'Racing', 'Adventure', 'Simulation', 'Strategy', 'Action', 'Miscellaneous', 'Action Adventure', 'Role-Playing', 'Action', 'Miscellaneous', 'Action', 'Action Adventure', 'Adventure', 'Action', 'Adventure', 'Strategy', 'Action', 'Adventure', 'Adventure', 'Racing', 'Strategy', 'Action Adventure', 'Adventure', 'Role-Playing', 'Racing', 'Adventure', 'Action', 'Adventure', 'Strategy', 'Adventure', 'Puzzle', 'Action Adventure', 'Action', 'Action', 'Action', 'Action', 'Driving', 'Action', 'Action', 'Action', 'Strategy', 'Simulation', 'Sports', 'Strategy', 'Miscellaneous', 'Action Adventure', 'Action', 'Simulation', 'Action', 'Strategy', 'Driving', 'Simulation', 'Sports', 'Action', 'Action', 'Strategy', 'Action', 'Action', 'Action', 'Action', 'Strategy', 'Action', 'Action', 'Action', 'Action', 'Strategy', 'Action', 'Action', 'Action', 'Action', 'Strategy', 'Action', 'Action', 'Action Adventure', 'Role-Playing', 'Sports', 'Action Adventure', 'Simulation', 'Miscellaneous', 'Action', 'Action', 'Action', 'Action', 'Action Adventure', 'Role-Playing', 'Strategy', 'Adventure', 'Sports', 'Action', 'Simulation', 'Role-Playing', 'Action', 'Action Adventure', 'Action Adventure', 'Action', 'Sports', 'Miscellaneous', 'Strategy', 'Strategy', 'Miscellaneous', 'Action', 'Action', 'Sports', 'Action Adventure', 'Action Adventure', 'Adventure', 'Shooter', 'Sports', 'Action', 'Action', 'Action', 'Action', 'Action', 'Miscellaneous', 'Action Adventure', 'Role-Playing', 'Strategy', 'Role-Playing', 'Action', 'Action Adventure', 'Action', 'Simulation', 'Adventure', 'Action Adventure', 'Action', 'Role-Playing', 'Strategy', 'Strategy', 'Simulation', 'Driving', 'Action', 'Action Adventure', 'Miscellaneous', 'Role-Playing', 'Strategy', 'Strategy', 'Strategy', 'Adventure', 'Strategy', 'Sports', 'Action', 'Action', 'Action', 'Action', 'Action', 'Horror', 'Action', 'Action', 'Action', 'Role-Playing', 'Action Adventure', 'Action', 'Strategy', 'Role-Playing', 'Driving', 'Miscellaneous', 'Action', 'Sports', 'Role-Playing', 'Driving', 'Miscellaneous', 'Action', 'Sports', 'Role-Playing', 'Driving', 'Miscellaneous', 'Action', 'Sports', 'Role-Playing', 'Driving', 'Miscellaneous', 'Action', 'Sports', 'Miscellaneous', 'Action', 'Action', 'Strategy', 'Miscellaneous', 'Action', 'Strategy', 'Action', 'Miscellaneous', 'Action', 'Modern', 'Strategy', 'Adventure', 'Action', 'Miscellaneous', 'Miscellaneous', 'Action', 'Action', 'Action', 'Role-Playing', 'Action Adventure', 'Adventure', 'Action Adventure', 'Action', 'Adventure', 'Action', 'Action', 'Miscellaneous', 'Racing', 'Driving', 'Action Adventure', 'Miscellaneous', 'Action', 'Action Adventure', 'Role-Playing', 'Strategy', 'Action', 'Fantasy', 'Role-Playing', 'Racing', 'Action', 'Action', 'Action', 'Sports', 'Action', 'Simulation', 'Action', 'Strategy', 'Action', 'Miscellaneous', 'Action', 'Action Adventure', 'Rally / Offroad', 'Action', 'Action Adventure', 'Action', 'Sports', 'Action', 'Action Adventure', 'Role-Playing', 'Action', 'Adventure', 'Racing', 'Miscellaneous', 'Adventure', 'Miscellaneous', 'Simulation', 'Horror', 'Action', 'Action', 'Role-Playing', 'Adventure', 'Sports', 'Strategy', 'Action', 'Strategy', 'Action', 'Adventure', 'Action', 'Racing', 'Fantasy', 'Adventure', 'Miscellaneous', 'Miscellaneous', 'Action', 'Fantasy', 'Adventure', 'Miscellaneous', 'Miscellaneous', 'Action', 'Fantasy', 'Adventure', 'Miscellaneous', 'Miscellaneous', 'Action', 'Fantasy', 'Adventure', 'Miscellaneous', 'Miscellaneous', 'Action', 'Role-Playing', 'Action Adventure', 'Role-Playing', 'Adventure', 'Action', 'Action Adventure', 'Miscellaneous', 'Miscellaneous', 'Action', 'Action', 'Action', 'Action', 'Miscellaneous', 'Action', 'Adventure', 'Adventure', 'Action', 'Action', 'Adventure', 'Role-Playing', 'Action', 'Action Adventure', 'Strategy', 'Puzzle', 'Puzzle', 'Strategy', 'Driving', 'Sports', 'Action Adventure', 'Action', 'Action', 'Adventure', 'Strategy', 'Adventure', 'Strategy', 'Action', 'Action', 'Action', 'Action', 'Action', 'Sports', 'Sports', 'Action', 'Action', 'Simulation', 'Action Adventure', 'Action', 'Miscellaneous', 'Action Adventure', 'Adventure', 'Adventure', 'Simulation', 'Action Adventure', 'Action', 'General', 'Strategy', 'Action', 'Strategy', 'Strategy', 'Action Adventure', 'Strategy', 'General', 'Action', 'Adventure', 'Action Adventure', 'Action', 'Miscellaneous', 'Action Adventure', 'Action', 'Action', 'Action', 'Action Adventure', 'Action', 'Adventure', 'Strategy', 'Role-Playing', 'Miscellaneous', 'Sci-Fi', 'Strategy', 'Action', 'Driving', 'Action', 'Adventure', 'Strategy', 'Strategy', 'Driving', 'Action', 'Adventure', 'Strategy', 'Strategy', 'Driving', 'Action', 'Adventure', 'Strategy', 'Strategy', 'Driving', 'Action', 'Adventure', 'Strategy', 'Strategy', 'Strategy', 'Sports', 'Role-Playing', 'Action Adventure', 'Action Adventure', 'Action', 'Action', 'Adventure', 'Action', 'Action', 'Adventure', 'Strategy', 'Adventure', 'Military', 'Action Adventure', 'Strategy', 'Adventure', 'Strategy', 'Horror', 'Action', 'Sports', 'Action', 'Strategy', 'Action', 'Adventure', 'Action Adventure', 'Strategy', 'Strategy', 'Action', 'Action', 'Action', 'Adventure', 'Role-Playing', 'Action', 'Sports', 'Strategy', 'Action', 'Action', 'Simulation', 'Action', 'Action', 'Miscellaneous', 'Sports', 'Action', 'Action', 'Action Adventure', 'Action Adventure', 'Action', 'Puzzle', 'Adventure', 'Role-Playing', 'Action', 'Action Adventure', 'Miscellaneous', 'Adventure', 'Action', 'Action Adventure', 'Action', 'Action', 'Action Adventure', 'Adventure', 'Action', 'Adventure', 'Role-Playing', 'Miscellaneous', 'Role-Playing', 'Simulation', 'Role-Playing', 'Action Adventure', 'Role-Playing', 'Action', 'Action Adventure', 'Action', 'Action Adventure', 'Action Adventure', 'Action', 'Action', 'Role-Playing', 'Action', 'Action', 'Action', 'Action', 'Puzzle', 'Role-Playing', 'Action', 'Action', 'Action', 'Puzzle', 'Role-Playing', 'Action', 'Action', 'Action', 'Puzzle', 'Role-Playing', 'Action', 'Action', 'Action', 'Puzzle', 'Role-Playing', 'Action', 'Strategy', 'Action', 'Action', 'Miscellaneous', 'Action', 'Sports', 'Action Adventure', 'Action', 'Sports', 'Action', 'Driving', 'Adventure', 'Action', 'Role-Playing', 'Action', 'Action', 'Puzzle', 'Action Adventure', 'Racing', 'Action', 'Miscellaneous', 'Adventure', 'Adventure', 'Action', 'Strategy', 'Role-Playing', 'Action', 'Action', 'Action', 'Action', 'Action', 'Sports', 'Action', 'Miscellaneous', 'Racing', 'Action', 'Adventure', 'Action', 'Role-Playing', 'Strategy', 'Action', 'Action', 'Strategy', 'Action', 'Action', 'Action', 'No Online Multiplayer', 'Action', 'Miscellaneous', 'Miscellaneous', 'Action', 'Strategy', 'Action', 'Action', 'Action', 'Miscellaneous', 'Role-Playing', 'Action Adventure', 'Simulation', 'Action Adventure', 'Role-Playing', 'Strategy', 'Action', 'Action', 'Role-Playing', 'Action Adventure', 'Adventure', 'Adventure', 'Role-Playing', 'Puzzle', 'Driving', 'Sports', 'Action', 'Role-Playing', 'Action', 'Action', 'Miscellaneous', 'Sci-Fi', 'Action', 'Sports', 'Action Adventure', 'Action Adventure', 'Modern', 'Miscellaneous', 'Role-Playing', 'Action Adventure', 'Action Adventure', 'Modern', 'Miscellaneous', 'Role-Playing', 'Action Adventure', 'Action Adventure', 'Modern', 'Miscellaneous', 'Role-Playing', 'Action Adventure', 'Action Adventure', 'Modern', 'Miscellaneous', 'Role-Playing', 'Strategy', 'Strategy', 'Strategy', 'Shooter', 'Sports', 'Strategy', 'Action Adventure', 'Racing', 'Adventure', 'Action', 'Action', 'Racing', 'Role-Playing', 'Action', 'Driving', 'Action', 'Racing', 'Sports', 'Adventure', 'Adventure', 'Role-Playing', 'Action', 'Racing', 'Strategy', 'Action', 'Miscellaneous', 'Action Adventure', 'Role-Playing', 'Role-Playing', 'Sports', 'Sports', 'Sports', 'Action', 'Adventure', 'Strategy', 'Action Adventure', 'Action', 'Action', 'Action', 'General', 'Action', 'Strategy', 'Sports', 'Action', 'Action', 'Miscellaneous', 'Driving', 'Action Adventure', 'Adventure', 'Adventure', 'Strategy', 'Action', 'Action', 'Action', 'Role-Playing', 'Adventure', 'Action Adventure', 'Action', 'Strategy', 'Role-Playing', 'Strategy', 'Action Adventure', 'Racing', 'Miscellaneous', 'Action Adventure', 'Role-Playing', 'Action', 'Strategy', 'Action', 'Sports', 'Miscellaneous', 'Driving', 'Action', 'Action', 'Action', 'Historic', 'Miscellaneous', 'Miscellaneous', 'Role-Playing', 'Action', 'Role-Playing', 'Action', 'Simulation', 'Strategy', 'Strategy', 'Role-Playing', 'Action', 'Simulation', 'Strategy', 'Strategy', 'Role-Playing', 'Action', 'Simulation', 'Strategy', 'Strategy', 'Role-Playing', 'Action', 'Simulation', 'Strategy', 'Strategy', 'Action', 'Action Adventure', 'Simulation', 'Role-Playing', 'Action Adventure', 'Role-Playing', 'Simulation', 'Strategy', 'Action Adventure', 'Role-Playing', 'Action', 'Action', 'Action', 'Action Adventure', 'Racing', 'Action Adventure', 'Driving', 'Role-Playing', 'Simulation', 'Action', 'Strategy', 'Strategy', 'Strategy', 'Miscellaneous', 'Strategy', 'Action', 'Adventure', 'Strategy', 'Simulation', 'Racing', 'Action', 'Sports', 'Role-Playing', 'Action Adventure', 'Strategy', 'Strategy', 'Action', 'Role-Playing', 'Action', 'Driving', 'Action Adventure', 'Action Adventure', 'Adventure', 'Action', 'Action', 'Driving', 'Action', 'Action', 'Action', 'Action', 'Racing', 'Action Adventure', 'Action', 'Action Adventure', 'Adventure', 'Racing', 'Action', 'Sports', 'Action', 'Adventure', 'Action', 'Action', 'Strategy', 'Role-Playing', 'Role-Playing', 'Action', 'Sports', 'Puzzle', 'General', 'Action Adventure', 'Action', 'Adventure', 'General', 'Action Adventure', 'Role-Playing', 'Miscellaneous', 'Driving', 'Action', 'Adventure', 'Miscellaneous', 'Role-Playing', 'Miscellaneous', 'Strategy', 'Adventure', 'Action', 'Role-Playing', 'Miscellaneous', 'Strategy', 'Adventure', 'Action', 'Role-Playing', 'Miscellaneous', 'Strategy', 'Adventure', 'Action', 'Role-Playing', 'Miscellaneous', 'Strategy', 'Adventure', 'Action', 'Strategy', 'Adventure', 'Action Adventure', 'Action', 'Action', 'Action', 'Miscellaneous', 'Action Adventure', 'Action', 'Puzzle', 'Miscellaneous', 'Action', 'Action', 'Action', 'Action', 'Strategy', 'Adventure', 'Action', 'Action', 'Action', 'Action', 'Action', 'Action', 'Action', 'Role-Playing', 'Action', 'Strategy', 'Action Adventure', 'Strategy', 'Horror', 'Role-Playing', 'Action', 'Role-Playing', 'Action', 'Action Adventure', 'Action', 'Modern', 'Adventure', 'Action Adventure', 'Role-Playing', 'Action', 'Action Adventure', 'Strategy', 'Role-Playing', 'Role-Playing', 'Action', 'Miscellaneous', 'Role-Playing', 'Action', 'Action', 'Action', 'Action Adventure', 'Action Adventure', 'Strategy', 'Role-Playing', 'Miscellaneous', 'Action', 'Action Adventure', 'Racing', 'Action', 'Racing', 'General', 'Action', 'Action', 'Action Adventure', 'Modern', 'Action Adventure', 'Action', 'Action', 'Action', 'Role-Playing', 'Miscellaneous', 'Action', 'Role-Playing', 'Action', 'Role-Playing', 'Role-Playing', 'Role-Playing', 'Action', 'Action', 'Driving', 'Simulation', 'Action Adventure', 'Action Adventure', 'Driving', 'Driving', 'Simulation', 'Action Adventure', 'Action Adventure', 'Driving', 'Driving', 'Simulation', 'Action Adventure', 'Action Adventure', 'Driving', 'Driving', 'Simulation', 'Action Adventure', 'Action Adventure', 'Driving', 'Simulation', 'Driving', 'Role-Playing', 'Action', 'Action', 'Platformer', 'Action', 'Role-Playing', 'Racing', 'Miscellaneous', 'Action', 'Driving', 'Role-Playing', 'General', 'Sports', 'Racing', 'Action', 'Action Adventure', 'Role-Playing', 'Action', 'Role-Playing', 'Action', 'Action', 'Strategy', 'Sports', 'Action', 'Racing', 'Sports', 'Strategy', 'Action', 'Strategy', 'Adventure', 'Miscellaneous', 'Action', 'Adventure', 'Action', 'Action', 'Action', 'Sports', 'Sports', 'Action Adventure', 'Action', 'Sports', 'Action Adventure', 'Action', 'Action', 'Strategy', 'Action', 'Adventure', 'Action', 'Action', 'Action', 'Action', 'Sports', 'Driving', 'Action Adventure', 'Racing', 'Action', 'Action', 'Action Adventure', 'Role-Playing', 'Sports', 'Action', 'Miscellaneous', 'Adventure', 'Adventure', 'Action Adventure', 'Miscellaneous', 'Role-Playing', 'Action', 'Action Adventure', 'Strategy', 'Adventure', 'Adventure', 'Adventure', 'Action', 'Role-Playing', 'Horror', 'Action', 'Simulation', 'Driving', 'Role-Playing', 'Miscellaneous', 'Adventure', 'Strategy', 'Driving', 'Role-Playing', 'Miscellaneous', 'Adventure', 'Strategy', 'Driving', 'Role-Playing', 'Miscellaneous', 'Adventure', 'Strategy', 'Driving', 'Role-Playing', 'Miscellaneous', 'Adventure', 'Strategy', 'Strategy', 'Horror', 'Action', 'Action', 'Action Adventure', 'Sports', 'Sports', 'Strategy', 'Action', 'Adventure', 'Sports', 'Japanese-Style', 'Strategy', 'Strategy', 'Action', 'Miscellaneous', 'Role-Playing', 'Action', 'Strategy', 'Adventure', 'Action Adventure', 'Action', 'Action', 'Action', 'Action', 'Role-Playing', 'Adventure', 'Role-Playing', 'Driving', 'Action', 'Action', 'Action Adventure', 'Action Adventure', 'Action Adventure', 'Strategy', 'Action', 'Adventure', 'Miscellaneous', 'Action', 'Action', 'Action Adventure', 'Action', 'Action Adventure', 'Action', 'Sports', 'Action Adventure', 'Action', 'Action', 'Strategy', 'Action', 'Action', 'Strategy', 'Action', 'Adventure', 'Sports', 'Action', 'Action', 'Role-Playing', 'Action Adventure', 'Action', 'Sports', 'Miscellaneous', 'Sports', 'Role-Playing', 'Action', 'Action Adventure', 'Miscellaneous', 'Role-Playing', 'Miscellaneous', 'Adventure', 'Action', 'Racing', 'Racing', 'Shooter', 'Strategy', 'Role-Playing', 'Racing', 'Simulation', 'Strategy', 'Strategy', 'Action Adventure', 'Racing', 'Strategy', 'Action', 'Miscellaneous', 'Action Adventure', 'Racing', 'Strategy', 'Action', 'Miscellaneous', 'Action Adventure', 'Racing', 'Strategy', 'Action', 'Miscellaneous', 'Action Adventure', 'Racing', 'Strategy', 'Action', 'Miscellaneous', 'Action Adventure', 'Adventure', 'Action Adventure', 'Sports', 'Action', 'Strategy', 'Role-Playing', 'Action Adventure', 'Strategy', 'Action', 'Simulation', 'Role-Playing', 'Action Adventure', 'Miscellaneous', 'Adventure', 'Role-Playing', 'Strategy', 'Adventure', 'Action', 'Role-Playing', 'Role-Playing', 'Action', 'Role-Playing', 'Sports', 'Sports', 'Sports', 'Sports', 'Simulation', 'Action', 'Strategy', 'Miscellaneous', 'Action', 'Action', 'Action', 'Miscellaneous', 'Strategy', 'Role-Playing', 'Role-Playing', 'Action', 'Action', 'Action', 'Action Adventure', 'Simulation', 'Role-Playing', 'Role-Playing', 'Action', 'Adventure', 'Strategy', 'Miscellaneous', 'Role-Playing', 'Sports', 'Action', 'Adventure', 'Sports', 'Action Adventure', 'Action', 'Sports', 'Driving', 'Action', 'Action Adventure', 'Action', 'Action Adventure', 'Action Adventure', 'Adventure', 'Strategy', 'Adventure', 'Action', 'Sports', 'Action', 'Sports', 'Action Adventure', 'Sports', 'Action', 'Action', 'Sports', 'Action', 'Shooter', 'Platformer', 'Action', 'Action', 'Miscellaneous', 'Role-Playing', 'Driving', 'Role-Playing', 'Miscellaneous', 'Miscellaneous', 'Role-Playing', 'Driving', 'Role-Playing', 'Miscellaneous', 'Miscellaneous', 'Role-Playing', 'Driving', 'Role-Playing', 'Miscellaneous', 'Miscellaneous', 'Role-Playing', 'Driving', 'Role-Playing', 'Miscellaneous', 'Adventure', 'Action', 'Action Adventure', 'Action', 'Action', 'Simulation', 'Action Adventure', 'Action Adventure', 'Simulation', 'Action', 'Action Adventure', 'Miscellaneous', 'Miscellaneous', 'Sports', 'Role-Playing', 'Driving', 'Action', 'Miscellaneous', 'Action', 'Role-Playing', 'Driving', 'Action', 'Sports', 'Racing', 'Role-Playing', 'Role-Playing', 'Adventure', 'Action Adventure', 'Action', 'Action', 'Action', 'Action', 'Music', 'Action', 'Sports', 'Miscellaneous', 'Simulation', 'General', 'Action Adventure', 'Action Adventure', 'Strategy', 'Action', 'Action', 'Strategy', 'Action', 'Role-Playing', 'Action Adventure', 'Action', 'Action', 'Strategy', 'Action', 'Action', 'Role-Playing', 'Puzzle', 'Miscellaneous', 'Action', 'Action', 'Action', 'Role-Playing', 'Action', 'Action', 'Action', 'Driving', 'Driving', 'Driving', 'Driving', 'Action', 'Sports', 'Action', 'Action Adventure', 'Action Adventure', 'Action', 'Miscellaneous', 'Action', 'Miscellaneous', 'Action', 'Driving', 'Action Adventure', 'Miscellaneous', 'Miscellaneous', 'Action', 'On GameFAQs', 'Action', 'Simulation', 'Action', 'Action', 'On GameFAQs', 'Action', 'Simulation', 'Action', 'Action', 'On GameFAQs', 'Action', 'Simulation', 'Action', 'Action', 'On GameFAQs', 'Action', 'Simulation', 'Action', 'Strategy', 'Miscellaneous', 'Strategy', 'Action', 'Action', 'Action Adventure', 'Role-Playing', 'Action Adventure', 'Action', 'Role-Playing', 'Action', 'Action', 'Miscellaneous', 'Strategy', 'Action', 'Action', 'Action', 'Action', 'Sports', 'Role-Playing', 'Sports', 'Action', 'Simulation', 'Racing', 'Action', 'Role-Playing', 'Role-Playing', 'Action Adventure', 'Adventure', 'Action', 'Miscellaneous', 'Action', 'Action', 'Action', 'Action', 'Miscellaneous', 'Miscellaneous', 'Miscellaneous', 'Action', 'Strategy', 'Simulation', 'Driving', 'Action', 'Action Adventure', 'Action', 'Role-Playing', 'Action', 'Action', 'Miscellaneous', 'Role-Playing', 'General', 'Miscellaneous', 'Role-Playing', 'Action', 'Action', 'Driving', 'Miscellaneous', 'Sports', 'Strategy', 'Sports', 'Action', 'Sports', 'Action', 'Racing', 'Action Adventure', 'Action Adventure', 'Strategy', 'Action', 'Miscellaneous', 'Adventure', 'Action Adventure', 'Adventure', 'Sports', 'Action', 'Action Adventure', 'Simulation', 'Action Adventure', 'Strategy', 'Action Adventure', 'Miscellaneous', 'Driving', 'Role-Playing', 'Action', 'Role-Playing', 'Action', 'Driving', 'Role-Playing', 'Action', 'Role-Playing', 'Action', 'Driving', 'Role-Playing', 'Action', 'Role-Playing', 'Action', 'Driving', 'Role-Playing', 'Action', 'Role-Playing', 'Action', 'Action Adventure', 'Action Adventure', 'Action Adventure', 'Role-Playing', 'Action', 'Racing', 'Adventure', 'Action', 'Strategy', 'Simulation', 'Miscellaneous', 'Role-Playing', 'Action', 'Puzzle', 'Simulation', 'Adventure', 'Action', 'Role-Playing', 'Strategy', 'Action', 'Simulation', 'General', 'Miscellaneous', 'Action', 'Action', 'Action Adventure', 'Action', 'Action', 'Strategy', 'Action', 'Sports', 'Strategy', 'Miscellaneous', 'Sci-Fi', 'Action Adventure', 'Action Adventure', 'Action Adventure', 'Adventure', 'Action', 'Simulation', 'Action Adventure', 'Adventure', 'Sports', 'Action', 'Action', 'Miscellaneous', 'Racing', 'Strategy', 'Role-Playing', 'Strategy', 'Miscellaneous', 'Strategy', 'Role-Playing', 'Action', 'Action Adventure', 'Role-Playing', 'Strategy', 'Action Adventure', 'Driving', 'Role-Playing', 'Strategy', 'Miscellaneous', 'Action', 'Role-Playing', 'Role-Playing', 'Action', 'Role-Playing', 'Action Adventure', 'Role-Playing', 'Adventure', 'Action Adventure', 'Role-Playing', 'Strategy', 'Role-Playing', 'Adventure', 'Action', 'Simulation', 'Action Adventure', 'Sports', 'Action', 'General', 'Action Adventure', 'Action Adventure', 'Action', 'Action', 'General', 'Action Adventure', 'Action Adventure', 'Action', 'Action', 'General', 'Action Adventure', 'Action Adventure', 'Action', 'Action', 'General', 'Action Adventure', 'Action Adventure', 'Action', 'Action', 'Action', 'Action Adventure', 'Action Adventure', 'Role-Playing', 'On GameFAQs', 'Action', 'Action Adventure', 'Action', 'Action', 'Sports', 'Adventure', 'Miscellaneous', 'Action', 'Action', 'Driving', 'Miscellaneous', 'Miscellaneous', 'Action Adventure', 'Action Adventure', 'Action', 'Role-Playing', 'Miscellaneous', 'Action', 'Action', 'Sports', 'Action', 'Action', 'Role-Playing', 'Action', 'Action', 'Role-Playing', 'Role-Playing', 'Racing', 'Adventure', 'Action', 'Adventure', 'Strategy', 'Action Adventure', 'Action Adventure', 'Action', 'Strategy', 'Sports', 'General', 'Sports', 'Strategy', 'Action', 'Sports', 'Role-Playing', 'Role-Playing', 'Role-Playing', 'Action', 'Miscellaneous', 'Role-Playing', 'Action', 'Sports', 'Action', 'Adventure', 'Action', 'Miscellaneous', 'Miscellaneous', 'Action Adventure', 'Action', 'Driving', 'Sports', 'Action', 'Action', 'Sports', 'Driving', 'Sports', 'General', 'Action Adventure', 'Adventure', 'Action', 'Action', 'Action Adventure', 'Action', 'Miscellaneous', 'Strategy', 'Puzzle', 'Role-Playing', 'Simulation', 'Action', 'Role-Playing', 'Miscellaneous', 'Strategy', 'Simulation', 'Action', 'Role-Playing', 'Miscellaneous', 'Strategy', 'Simulation', 'Action', 'Role-Playing', 'Miscellaneous', 'Strategy', 'Simulation', 'Action', 'Role-Playing', 'Miscellaneous', 'Strategy', 'Adventure', 'General', 'Action Adventure', 'Sports', 'Role-Playing', 'Action', 'Strategy', 'Action', 'Strategy', 'Action', 'Adventure', 'Modern', 'Action', 'Action Adventure', 'Role-Playing', 'Miscellaneous', 'Adventure', 'Puzzle', 'Simulation', 'Strategy', 'Strategy', 'Strategy', 'Action', 'Sports', 'Simulation', 'Driving', 'Simulation', 'Action', 'Adventure', 'Action', 'Simulation', 'Strategy', 'Strategy', 'Action', 'Action Adventure', 'Sports', 'Simulation', 'Action', 'Action', 'Strategy', 'Role-Playing', 'Action', 'Action', 'Action', 'Role-Playing', 'Action', 'Sports', 'Action Adventure', 'Simulation', 'Adventure', 'Strategy', 'Action', 'Action', 'Racing', 'Simulation', 'Action', 'Action', 'Driving', 'Action', 'Action', 'Action', 'Racing', 'Adventure', 'Adventure', 'Action', 'Strategy', 'Action', 'General', 'Sports', 'Adventure', 'Action', 'Action', 'Driving', 'Role-Playing', 'Action Adventure', 'Simulation', 'Racing', 'Action', 'Adventure', 'Role-Playing', 'Strategy', 'Action', 'Driving', 'Sports', 'Action Adventure', 'Strategy', 'Action', 'Driving', 'Sports', 'Action Adventure', 'Strategy', 'Action', 'Driving', 'Sports', 'Action Adventure', 'Strategy', 'Action', 'Driving', 'Sports', 'Action Adventure', 'Miscellaneous', 'Sports', 'Simulation', 'Strategy', 'Strategy', 'Action', 'Action', 'Role-Playing', 'Action', 'Action', 'Action Adventure', 'Role-Playing', 'Action', 'Miscellaneous', 'Action', 'Fantasy', 'Role-Playing', 'Action', 'Strategy', 'Action', 'Horror', 'Action Adventure', 'Adventure', 'Action', 'Role-Playing', 'Puzzle', 'Miscellaneous', 'Sports', 'Action', 'Modern', 'General', 'Role-Playing', 'Action', 'Action Adventure', 'Action Adventure', 'Strategy', 'Action', 'Role-Playing', 'Action', 'Action Adventure', 'Action', 'Action Adventure', 'Action Adventure', 'Action', 'Driving', 'Adventure', 'Action', 'Miscellaneous', 'Action Adventure', 'Role-Playing', 'Sports', 'Strategy', 'Action', 'Adventure', 'Strategy', 'Miscellaneous', 'Strategy', 'Role-Playing', 'Simulation', 'Action', 'Sports', 'Sports', 'Action', 'Miscellaneous', 'Action', 'Adventure', 'Action Adventure', 'Role-Playing', 'Role-Playing', 'Action Adventure', 'Sports', 'Action', 'Strategy', 'Action Adventure', 'Strategy', 'Role-Playing', 'Action Adventure', 'Action', 'Driving', 'Sports', 'Adventure', 'Strategy', 'Action', 'General', 'Sports', 'Adventure', 'Strategy', 'Action', 'General', 'Sports', 'Adventure', 'Strategy', 'Action', 'General', 'Sports', 'Adventure', 'Strategy', 'Action', 'General', 'Sports', 'Adventure', 'Action', 'Adventure', 'Action', 'Role-Playing', 'Role-Playing', 'Sports', 'Driving', 'Simulation', 'Action', 'Miscellaneous', 'Action Adventure', 'Miscellaneous', 'Strategy', 'Action Adventure', 'Puzzle', 'Sports', 'Action', 'Adventure', 'Action', 'Miscellaneous', 'Simulation', 'Action', 'Action', 'Strategy', 'Action', 'Action', 'Action', 'Action', 'Action', 'Strategy', 'Action', 'Action Adventure', 'Action', 'Strategy', 'Action', 'Simulation', 'Role-Playing', 'General', 'Role-Playing', 'Sports', 'Modern', 'Action', 'Action Adventure', 'Adventure', 'Action', 'Action Adventure', 'Simulation', 'Action Adventure', 'Role-Playing', 'Adventure', 'Action Adventure', 'Action', 'Action', 'Puzzle', 'Role-Playing', 'Action', 'Role-Playing', 'Miscellaneous', 'Action', 'Puzzle', 'Miscellaneous', 'Action', 'Action Adventure', 'Action', 'Action Adventure', 'Action', 'Action Adventure', 'General', 'Action', 'Driving', 'Role-Playing', 'Role-Playing', 'Action', 'Strategy', 'Action Adventure', 'Sports', 'Action', 'Driving', 'Sports', 'Action', 'Strategy', 'Sports', 'Adventure', 'Driving', 'Action', 'Strategy', 'Sports', 'Adventure', 'Driving', 'Action', 'Strategy', 'Sports', 'Adventure', 'Driving', 'Action', 'Strategy', 'Sports', 'Adventure', 'Driving', 'Strategy', 'Action', 'Miscellaneous', 'Miscellaneous', 'Action Adventure', 'Action', 'Miscellaneous', 'Action Adventure', 'Action', 'Action', 'Simulation', 'Simulation', 'Action', 'Action', 'Sports', 'Action', 'Action', 'Action Adventure', 'Action', 'Adventure', 'Sports', 'Action Adventure', 'Action Adventure', 'Sports', 'Action', 'Action', 'Sports', 'Miscellaneous', 'Action', 'Action', 'Role-Playing', 'Action Adventure', 'Action Adventure', 'Strategy', 'Action', 'Sports', 'Strategy', 'Adventure', 'Sports', 'Adventure', 'Role-Playing', 'Role-Playing', 'Action Adventure', 'General', 'General', 'Action', 'Driving', 'Miscellaneous', 'Action Adventure', 'Action Adventure', 'Action', 'Action', 'Action', 'Strategy', 'Sports', 'Action', 'Strategy', 'Action', 'Strategy', 'Role-Playing', 'Strategy', 'Action', 'Puzzle', 'Action Adventure', 'Adventure', 'Action', 'Action', 'Action', 'Action', 'Action Adventure', 'Role-Playing', 'Action', 'Role-Playing', 'Action', 'Action', 'Action', 'Adventure', 'Action Adventure', 'Strategy', 'Action', 'Racing', 'Strategy', 'Modern', 'Strategy', 'Action', 'Racing', 'Strategy', 'Modern', 'Strategy', 'Action', 'Racing', 'Strategy', 'Modern', 'Strategy', 'Action', 'Racing', 'Strategy', 'Modern', 'Strategy', 'Action', 'Miscellaneous', 'Shooter', 'Driving', 'Action Adventure', 'Role-Playing', 'Action', 'Strategy', 'Strategy', 'Action Adventure', 'Action', 'Action Adventure', 'Miscellaneous', 'Puzzle', 'Action', 'Action', 'Miscellaneous', 'Driving', 'Action', 'Strategy', 'Action Adventure', 'Action Adventure', 'Strategy', 'Action Adventure', 'Action', 'Sports', 'Action', 'Action', 'Racing', 'Simulation', 'Miscellaneous', 'Strategy', 'Driving', 'Role-Playing', 'Adventure', 'Action', 'Adventure', 'Action', 'Miscellaneous', 'Role-Playing', 'Strategy', 'Sports', 'Driving', 'Action', 'Action Adventure', 'Action Adventure', 'Strategy', 'Action', 'Role-Playing', 'Adventure', 'Racing', 'General', 'Miscellaneous', 'Adventure', 'Action', 'Racing', 'Action', 'Action RPG', 'Adventure', 'Action', 'Strategy', 'Action', 'Action', 'Action', 'Action', 'Action Adventure', 'Action', 'Role-Playing', 'Adventure', 'Driving', 'Sports', 'Racing', 'Action', 'Role-Playing', 'Action', 'Adventure', 'Puzzle', 'Action', 'Action Adventure', 'Puzzle', 'Action', 'Simulation', 'General', 'Action', 'Adventure', 'Driving', 'Simulation', 'General', 'Action', 'Adventure', 'Driving', 'Simulation', 'General', 'Action', 'Adventure', 'Driving', 'Simulation', 'General', 'Action', 'Adventure', 'Driving', 'Role-Playing', 'Strategy', 'Strategy', 'Sports', 'Sports', 'Action', 'Driving', 'Adventure', 'Role-Playing', 'Action Adventure', 'Action', 'Action', 'Role-Playing', 'Sports', 'Role-Playing', 'Sports', 'Action Adventure', 'Action', 'Action', 'Adventure', 'Action', 'Action Adventure', 'Action', 'Sports', 'Adventure', 'Action Adventure', 'Action', 'Strategy', 'Adventure', 'Platformer', 'Action Adventure', 'General', 'Role-Playing', 'Action', 'Action', 'Role-Playing', 'Strategy', 'Adventure', 'Puzzle', 'Strategy', 'Action Adventure', 'Action Adventure', 'Strategy', 'Action', 'Miscellaneous', 'Miscellaneous', 'Action', 'Simulation', 'Driving', 'Sports', 'Action', 'Miscellaneous', 'Action', 'Miscellaneous', 'Simulation', 'Role-Playing', 'Action', 'Sports', 'Action', 'Action Adventure', 'Sports', 'Action', 'Action', 'Role-Playing', 'Driving', 'Action Adventure', 'Action Adventure', 'Role-Playing', 'Action Adventure', 'Role-Playing', 'Action', 'Action', 'Action', 'Simulation', 'Action', 'Action', 'Simulation', 'Strategy', 'Action Adventure', 'Sports', 'Miscellaneous', 'Action', 'Role-Playing', 'Strategy', 'Strategy', 'Miscellaneous', 'Action', 'Role-Playing', 'Strategy', 'Strategy', 'Miscellaneous', 'Action', 'Role-Playing', 'Strategy', 'Strategy', 'Miscellaneous', 'Action', 'Role-Playing', 'Strategy', 'Strategy', 'Miscellaneous', 'Miscellaneous', 'Miscellaneous', 'Action', 'Role-Playing', 'Action', 'Role-Playing', 'Fantasy', 'Action', 'Adventure', 'Action', 'Role-Playing', 'Action', 'Action', 'Role-Playing', 'Driving', 'Action', 'Action', 'Sports', 'Action', 'Action', 'Simulation', 'Action', 'Role-Playing', 'Adventure', 'Sports', 'Action', 'Adventure', 'Action', 'Historic', 'Action', 'Action', 'General', 'Action', 'Action Adventure', 'Action', 'Action', 'Action Adventure', 'Role-Playing', 'Action Adventure', 'Action', 'Action Adventure', 'Strategy', 'Strategy', 'Action', 'Miscellaneous', 'Strategy', 'Simulation', 'Action', 'Racing', 'Sports', 'Miscellaneous', 'Sports', 'Role-Playing', 'Adventure', 'Action', 'Racing', 'Action', 'Action Adventure', 'Action', 'Adventure', 'Action Adventure', 'Sports', 'Action Adventure', 'Action Adventure', 'Action Adventure', 'Action Adventure', 'Adventure', 'Action', 'Adventure', 'Action', 'Action Adventure', 'Sports', 'Strategy', 'Driving', 'Miscellaneous', 'Action', 'Driving', 'Action', 'Miscellaneous', 'Sci-Fi', 'Action', 'Role-Playing', 'Action', 'Action', 'Sci-Fi', 'Action', 'Role-Playing', 'Action', 'Action', 'Sci-Fi', 'Action', 'Role-Playing', 'Action', 'Action', 'Sci-Fi', 'Action', 'Role-Playing', 'Action', 'Action', 'Action Adventure', 'Action Adventure', 'Action', 'Action', 'Action', 'Action', 'Adventure', 'Action Adventure', 'Adventure', 'Action', 'Action', 'Action', 'Miscellaneous', 'Miscellaneous', 'Action Adventure', 'Action', 'Action', 'Action', 'Miscellaneous', 'Strategy', 'Action', 'Simulation', 'Action Adventure', 'Role-Playing', 'Action', 'Role-Playing', 'Driving', 'Racing', 'Action', 'Action', 'Action', 'Action', 'Sports', 'Strategy', 'Miscellaneous', 'Racing', 'Action', 'Adventure', 'Miscellaneous', 'Action', 'Sports', 'Simulation', 'Action', 'Action', 'Adventure', 'Role-Playing', 'Simulation', 'Puzzle', 'Action', 'Action', 'Sports', 'Action', 'Action', 'Action Adventure', 'Shooter', 'Miscellaneous', 'Action', 'Action Adventure', 'Action', 'Action', 'Action Adventure', 'Sports', 'Strategy', 'Role-Playing', 'Action Adventure', 'Sports', 'Action Adventure', 'Action', 'Puzzle', 'Sports', 'Miscellaneous', 'Action', 'Strategy', 'Simulation', 'Action', 'Strategy', 'Sports', 'Action Adventure', 'Action Adventure', 'Sports', 'Action Adventure', 'Action', 'Driving', 'Miscellaneous', 'Strategy', 'Action Adventure', 'Action', 'Driving', 'Miscellaneous', 'Strategy', 'Action Adventure', 'Action', 'Driving', 'Miscellaneous', 'Strategy', 'Action Adventure', 'Action', 'Driving', 'Miscellaneous', 'Strategy', 'Action', 'Driving', 'Action', 'Role-Playing', 'Strategy', 'Role-Playing', 'Action Adventure', 'Action', 'Action', 'Role-Playing', 'Adventure', 'Action', 'Action', 'Action', 'Action Adventure', 'Action Adventure', 'Sports', 'Action', 'Miscellaneous', 'Action Adventure', 'Action', 'Action', 'Action', 'Action', 'Role-Playing', 'General', 'Role-Playing', 'Action', 'Action Adventure', 'Action', 'Action Adventure', 'Action', 'Strategy', 'Action', 'Adventure', 'Action', 'Action', 'Adventure', 'Action Adventure', 'Action', 'Driving', 'Miscellaneous', 'Role-Playing', 'Action', 'Adventure', 'Action', 'Miscellaneous', 'Action', 'Action', 'General', 'Role-Playing', 'Action', 'Role-Playing', 'Role-Playing', 'Role-Playing', 'Action', 'Role-Playing', 'Sports', 'Strategy', 'Miscellaneous', 'Action', 'Role-Playing', 'Action', 'Adventure', 'Action', 'Sci-Fi', 'Strategy', 'Action Adventure', 'Role-Playing', 'Action Adventure', 'Action', 'Racing', 'Puzzle', 'Miscellaneous', 'Action Adventure', 'Driving', 'Action Adventure', 'Action', 'Action Adventure', 'Sports', 'Miscellaneous', 'Action', 'Action', 'Sports', 'Action', 'Miscellaneous', 'Action', 'Action', 'Sports', 'Action', 'Miscellaneous', 'Action', 'Action', 'Sports', 'Action', 'Miscellaneous', 'Action', 'Action', 'Sports', 'Action', 'Sports', 'Miscellaneous', 'Miscellaneous', 'Miscellaneous', 'Role-Playing', 'Role-Playing', 'Miscellaneous', 'Action', 'Role-Playing', 'Racing', 'Role-Playing', 'Action', 'Action', 'Role-Playing', 'Action Adventure', 'Action Adventure', 'Simulation', 'Action', 'Action Adventure', 'Action', 'Adventure', 'Fantasy', 'Action Adventure', 'Strategy', 'Simulation', 'Action', 'Action', 'Action', 'Action Adventure', 'Miscellaneous', 'Adventure', 'Role-Playing', 'Action Adventure', 'Action', 'Miscellaneous', 'Miscellaneous', 'Strategy', 'Adventure', 'Action', 'Action', 'Action', 'Strategy', 'Action', 'Action', 'Action', 'Role-Playing', 'Action Adventure', 'Action', 'Sports', 'Action', 'Action', 'Action', 'Action Adventure', 'Action', 'Action', 'Action', 'Action', 'Action', 'Action Adventure', 'Action', 'Action', 'Action Adventure', 'Action', 'Miscellaneous', 'Action Adventure', 'Action', 'Action Adventure', 'Action Adventure', 'Action Adventure', 'Sports', 'Role-Playing', 'Adventure', 'Puzzle', 'Action', 'Adventure', 'Action', 'Sports', 'Role-Playing', 'Action Adventure', 'Sports', 'Action Adventure', 'Strategy', 'Action', 'Strategy', 'Action Adventure', 'Action Adventure', 'Strategy', 'Action', 'Strategy', 'Action Adventure', 'Action Adventure', 'Strategy', 'Action', 'Strategy', 'Action Adventure', 'Action Adventure', 'Strategy', 'Action', 'Strategy', 'Action Adventure', 'Driving', 'Sports', 'Simulation', 'Action', 'Action', 'Sports', 'Simulation', 'Role-Playing', 'Action Adventure', 'Action', 'Miscellaneous', 'Modern', 'Action', 'Action', 'Action', 'GT / Street', 'Miscellaneous', 'Action', 'Role-Playing', 'Role-Playing', 'Strategy', 'Action', 'Sci-Fi', 'Action Adventure', 'Driving', 'Role-Playing', 'Action', 'Action Adventure', 'Action Adventure', 'Action', 'Strategy', 'Action', 'Miscellaneous', 'Strategy', 'Action', 'Action', 'Action Adventure', 'General', 'Miscellaneous', 'Action', 'Action', 'Action', 'Action', 'Miscellaneous', 'Role-Playing', 'Adventure', 'Action', 'Miscellaneous', 'Action', 'Role-Playing', 'Action', 'Adventure', 'Adventure', 'Action Adventure', 'Role-Playing', 'Adventure', 'Action Adventure', 'Action', 'Role-Playing', 'Action Adventure', 'Miscellaneous', 'Sports', 'Action', 'Action', 'Action Adventure', 'Action', 'Strategy', 'Driving', 'Action Adventure', 'Driving', 'Action', 'Simulation', 'Role-Playing', 'Adventure', 'Action Adventure', 'Simulation', 'Action Adventure', 'Role-Playing', 'Action', 'Action Adventure', 'Action Adventure', 'Action Adventure', 'Action', 'Action Adventure', 'Action Adventure', 'Action Adventure', 'Action Adventure', 'Action', 'Action Adventure', 'Action Adventure', 'Action Adventure', 'Action Adventure', 'Action', 'Action Adventure', 'Action Adventure', 'Action Adventure', 'Action Adventure', 'Action', 'Action Adventure', 'Sci-Fi', 'Adventure', 'Action', 'Miscellaneous', 'Racing', 'Action', 'Action Adventure', 'Adventure', 'Puzzle', 'Action', 'Miscellaneous', 'Sports', 'Action', 'Action Adventure', 'Action', 'Role-Playing', 'Sports', 'Racing', 'Sports', 'Action', 'Simulation', 'Racing', 'Action', 'Action Adventure', 'Strategy', 'Adventure', 'Action', 'Role-Playing', 'Strategy', 'Role-Playing', 'Adventure', 'Action Adventure', 'Adventure', 'Puzzle', 'Action Adventure', 'Strategy', 'Miscellaneous', 'Driving', 'Simulation', 'Sports', 'Simulation', 'Strategy', 'Action Adventure', 'Miscellaneous', 'Action', 'Action Adventure', 'Role-Playing', 'Action Adventure', 'Adventure', 'Adventure', 'Miscellaneous', 'Miscellaneous', 'Miscellaneous', 'Action', 'Action Adventure', 'Action', 'Simulation', 'Action', 'Strategy', 'Action Adventure', 'Strategy', 'Adventure', 'Adventure', 'Action', 'Action', 'Action', 'Shooter', 'Role-Playing', 'Strategy', 'Strategy', 'Action Adventure', 'Action', 'Action', 'Adventure', 'Adventure', 'Action', 'Puzzle', 'Adventure', 'Action', 'Action', 'Simulation', 'Adventure', 'Action Adventure', 'Action', 'Action Adventure', 'Simulation', 'Adventure', 'Action Adventure', 'Action', 'Action Adventure', 'Simulation', 'Adventure', 'Action Adventure', 'Action', 'Action Adventure', 'Simulation', 'Adventure', 'Action Adventure', 'Action', 'Action Adventure', 'Strategy', 'Action', 'Miscellaneous', 'Simulation', 'Action', 'Adventure', 'Action', 'Action', 'Strategy', 'Action Adventure', 'Driving', 'Action', 'Action', 'Strategy', 'Action', 'Action Adventure', 'Miscellaneous', 'Action', 'Action Adventure', 'Action', 'Action', 'Role-Playing', 'Action Adventure', 'Role-Playing', 'Sports', 'Action Adventure', 'Action', 'Sports', 'Adventure', 'Role-Playing', 'Driving', 'Simulation', 'Action Adventure', 'Action', 'Action', 'Strategy', 'Adventure', 'Action Adventure', 'Action', 'Action', 'Action', 'Role-Playing', 'Action Adventure', 'Action Adventure', 'Adventure', 'Action', 'Action', 'Action Adventure', 'Adventure', 'Simulation', 'Adventure', 'Action', 'Action', 'Role-Playing', 'Action Adventure', 'Simulation', 'Adventure', 'Action', 'Role-Playing', 'Action Adventure', 'Driving', 'Action Adventure', 'Action', 'Action RPG', 'General', 'Action', 'Strategy', 'Action', 'Adventure', 'Racing', 'Action', 'Adventure', 'Strategy', 'Strategy', 'Action Adventure', 'Strategy', 'Sports', 'Action', 'Strategy', 'Sports', 'Action', 'Action', 'First-Person', 'Strategy', 'Action Adventure', 'Action', 'Action', 'First-Person', 'Strategy', 'Action Adventure', 'Action', 'Action', 'First-Person', 'Strategy', 'Action Adventure', 'Action', 'Action', 'First-Person', 'Strategy', 'Action Adventure', 'Driving', 'Adventure', 'Action', 'Adventure', 'Miscellaneous', 'Strategy', 'Driving', 'Action Adventure', 'Sports', 'Driving', 'Miscellaneous', 'Action', 'Action', 'Action', 'Action', 'Sports', 'Racing', 'Modern', 'Action', 'General', 'Action', 'Puzzle', 'Action', 'Action', 'Action', 'Action', 'Action', 'Strategy', 'Action', 'Action', 'Adventure', 'Action', 'Action', 'Adventure', 'Action', 'Puzzle', 'Strategy', 'Action Adventure', 'Strategy', 'Simulation', 'Role-Playing', 'Action Adventure', 'Action Adventure', 'Adventure', 'Adventure', 'Adventure', 'Action', 'Puzzle', 'Simulation', 'Adventure', 'Adventure', 'Action', 'Action', 'Action', 'Action', 'Sports', 'Action Adventure', 'Miscellaneous', 'Action', 'Driving', 'Miscellaneous', 'Strategy', 'Sports', 'Sports', 'Action', 'Role-Playing', 'Action', 'Action', 'Sports', 'Action', 'Sports', 'Strategy', 'Driving', 'Sports', 'Strategy', 'Driving', 'Modern', 'Action', 'Action', 'Action', 'Driving', 'Strategy', 'Adventure', 'Action', 'Action Adventure', 'Driving', 'Strategy', 'Adventure', 'Action', 'Action Adventure', 'Driving', 'Strategy', 'Adventure', 'Action', 'Action Adventure', 'Driving', 'Strategy', 'Adventure', 'Action', 'Action Adventure', 'Action Adventure', 'Puzzle', 'Role-Playing', 'Action Adventure', 'Role-Playing', 'Role-Playing', 'Miscellaneous', 'Action', 'Action Adventure', 'Action', 'Action Adventure', 'Action', 'Miscellaneous', 'Miscellaneous', 'Action Adventure', 'Sports', 'Action', 'Action Adventure', 'Action', 'Strategy', 'Role-Playing', 'Action', 'Role-Playing', 'Action', 'Action', 'Action', 'Simulation', 'Action', 'Action Adventure', 'Action', 'Action', 'Action Adventure', 'Role-Playing', 'Adventure', 'Miscellaneous', 'Action', 'Action', 'Sports', 'Action', 'Action Adventure', 'Sports', 'Action Adventure', 'Action', 'Driving', 'Action', 'Action', 'Miscellaneous', 'Strategy', 'Miscellaneous', 'Miscellaneous', 'Action', 'Racing', 'Strategy', 'Miscellaneous', 'Action', 'Action', 'Action', 'Sports', 'Action', 'Adventure', 'Simulation', 'Action Adventure', 'Action Adventure', 'Action', 'Action Adventure', 'Action Adventure', 'Driving', 'Strategy', 'Strategy', 'Simulation', 'Action Adventure', 'Adventure', 'Adventure', 'Action Adventure', 'Adventure', 'Action', 'Action', 'Action', 'Action', 'Strategy', 'Action', 'Role-Playing', 'Action', 'Action', 'Action', 'Action', 'Role-Playing', 'Action', 'Action', 'Action', 'Action', 'Role-Playing', 'Action', 'Action', 'Action', 'Action', 'Role-Playing', 'Action', 'Action', 'Action', 'Action Adventure', 'Adventure', 'Miscellaneous', 'Miscellaneous', 'Adventure', 'Action Adventure', 'General', 'Role-Playing', 'Sports', 'Strategy', 'Action', 'Action Adventure', 'Miscellaneous', 'Action', 'Action', 'Action Adventure', 'Miscellaneous', 'Action', 'Action', 'Role-Playing', 'Action', 'Role-Playing', 'Sports', 'Action', 'Action', 'Sports', 'Strategy', 'Puzzle', 'Miscellaneous', 'Action', 'Action', 'Driving', 'Action', 'Action', 'Action', 'Miscellaneous', 'Miscellaneous', 'Action Adventure', 'General', 'Strategy', 'Action Adventure', 'Action', 'Action Adventure', 'Driving', 'Miscellaneous', 'Strategy', 'Action', 'Sports', 'Miscellaneous', 'Driving', 'Role-Playing', 'Role-Playing', 'Adventure', 'Action Adventure', 'Role-Playing', 'Action', 'Scrolling', 'Action', 'Simulation', 'Adventure', 'Adventure', 'Action Adventure', 'Strategy', 'Fantasy', 'Miscellaneous', 'Action', 'Action Adventure', 'Adventure', 'Role-Playing', 'Simulation', 'Action Adventure', 'Miscellaneous', 'Action Adventure', 'Simulation', 'Adventure', 'Action', 'Strategy', 'Simulation', 'Action', 'Role-Playing', 'Adventure', 'Miscellaneous', 'Horror', 'Action Adventure', 'Action', 'Adventure', 'Miscellaneous', 'Horror', 'Action Adventure', 'Action', 'Adventure', 'Miscellaneous', 'Horror', 'Action Adventure', 'Action', 'Adventure', 'Miscellaneous', 'Horror', 'Action Adventure', 'Action', 'Action Adventure', 'Action', 'Action', 'Action Adventure', 'Role-Playing', 'Action Adventure', 'Strategy', 'Adventure', 'Action', 'Puzzle', 'Sports', 'Strategy', 'Action', 'Action Adventure', 'Action Adventure', 'Miscellaneous', 'Action', 'Action Adventure', 'Action', 'Simulation', 'Action', 'Action Adventure', 'Action', 'Action', 'Action', 'Miscellaneous', 'Miscellaneous', 'Adventure', 'Action Adventure', 'Action', 'Driving', 'Driving', 'Strategy', 'Simulation', 'Driving', 'Sports', 'Action', 'Action Adventure', 'Action', 'Role-Playing', 'Puzzle', 'Role-Playing', 'Action', 'Sports', 'Action Adventure', 'Action Adventure', 'Strategy', 'Puzzle', 'Simulation', 'Action', 'Strategy', 'Shooter', 'Sports', 'Action Adventure', 'Strategy', 'Action', 'Action', 'Action', 'Sports', 'Action', 'Role-Playing', 'Sports', 'Simulation', 'Action Adventure', 'Adventure', 'Action', 'Role-Playing', 'Adventure', 'Adventure', 'Adventure', 'Fighting', 'Strategy', 'Driving', 'Strategy', 'Action', 'Action Adventure', 'Adventure', 'Action', 'Sports', 'Action Adventure', 'Action', 'Role-Playing', 'Action', 'Action Adventure', 'Driving', 'Action', 'Role-Playing', 'Action', 'Action Adventure', 'Driving', 'Action', 'Role-Playing', 'Action', 'Action Adventure', 'Driving', 'Action', 'Role-Playing', 'Action', 'Action Adventure', 'Driving', 'Role-Playing', 'Driving', 'Action', 'Action', 'Action', 'Simulation', 'Strategy', 'Sports', 'Sports', 'Role-Playing', 'Strategy', 'Action Adventure', 'Action Adventure', 'Role-Playing', 'Sports', 'Role-Playing', 'Adventure', 'Action Adventure', 'Action', 'Miscellaneous', 'Action Adventure', 'Action', 'Adventure', 'Strategy', 'Action', 'Strategy', 'Adventure', 'Strategy', 'Action', 'General', 'Role-Playing', 'Action Adventure', 'Sports', 'Action', 'Action Adventure', 'Platformer', 'Action', 'Action', 'Simulation', 'Action', 'Action Adventure', 'Strategy', 'Miscellaneous', 'Action Adventure', 'Adventure', 'Action Adventure', 'Action Adventure', 'Adventure', 'Action Adventure', 'Action', 'Action Adventure', 'Action', 'Driving', 'Action', 'Action', 'Role-Playing', 'Action', 'Role-Playing', 'Action Adventure', 'Miscellaneous', 'Action', 'Driving', 'Role-Playing', 'Sports', 'Action', 'Strategy', 'Sports', 'Action Adventure', 'Racing', 'Third-Person', 'Action', 'Action', 'Action', 'Action', 'Action', 'Strategy', 'Strategy', 'Miscellaneous', 'Miscellaneous', 'Action', 'Role-Playing', 'Action', 'Racing', 'Action', 'Action Adventure', 'Role-Playing', 'Action', 'Racing', 'Action', 'Action Adventure', 'Role-Playing', 'Action', 'Racing', 'Action', 'Action Adventure', 'Role-Playing', 'Action', 'Racing', 'Action', 'Action Adventure', 'Racing', 'Action Adventure', 'Simulation', 'Action Adventure', 'Action', 'Sci-Fi', 'Simulation', 'Sports', 'Miscellaneous', 'Strategy', 'Action', 'General', 'Simulation', 'Action', 'Action Adventure', 'Action', 'Action', 'Action', 'Role-Playing', 'Action', 'Role-Playing', 'Simulation', 'Miscellaneous', 'Action Adventure', 'Action', 'Action Adventure', 'Strategy', 'Action', 'Sports', 'Action Adventure', 'Strategy', 'Strategy', 'Sports', 'Role-Playing', 'Action', 'Sports', 'Action', 'Driving', 'Action', 'Action', 'Sci-Fi', 'Action Adventure', 'Action', 'General', 'Action', 'Action', 'Sports', 'Adventure', 'Racing', 'Adventure', 'Adventure', 'Simulation', 'Action Adventure', 'Simulation', 'Role-Playing', 'Role-Playing', 'Action', 'Sports', 'Action', 'Role-Playing', 'Action', 'Racing', 'General', 'Racing', 'Action', 'Action', 'Action Adventure', 'Action Adventure', 'Action Adventure', 'Role-Playing', 'Action', 'Action', 'Driving', 'Action', 'Sports', 'Action Adventure', 'Miscellaneous', 'Adventure', 'Action', 'Strategy', 'Racing', 'Role-Playing', 'Miscellaneous', 'Driving', 'Role-Playing', 'Racing', 'Role-Playing', 'Miscellaneous', 'Driving', 'Role-Playing', 'Racing', 'Role-Playing', 'Miscellaneous', 'Driving', 'Role-Playing', 'Racing', 'Role-Playing', 'Miscellaneous', 'Driving', 'Role-Playing', 'Driving', 'Strategy', 'Miscellaneous', 'Strategy', 'Simulation', 'Action', 'Action Adventure', 'Action', 'Action', 'Action', 'Action Adventure', 'Action Adventure', 'Role-Playing', 'Action Adventure', 'Action', 'Action', 'Action', 'Action Adventure', 'Action', 'Role-Playing', 'Action Adventure', 'Adventure', 'Action Adventure', 'Driving', 'Sports', 'Strategy', 'Action', 'Racing', 'Adventure', 'Action', 'Action', 'Action', 'Action Adventure', 'Action', 'Action Adventure', 'Simulation', 'Action', 'Action', 'Strategy', 'Action', 'Driving', 'Simulation', 'Miscellaneous', 'Driving', 'Action', 'Racing', 'Action', 'Adventure', 'Role-Playing', 'Action Adventure', 'Sports', 'Action', 'Action Adventure', 'Strategy', 'Strategy', 'Action', 'Simulation', 'Role-Playing', 'Action', 'Strategy', 'Traditional', 'Action Adventure', 'Sports', 'Strategy', 'Driving', 'Action', 'Simulation', 'Sports', 'Action', 'Action Adventure', 'Action', 'Action', 'Action', 'Action', 'Action', 'Action Adventure', 'Action', 'Miscellaneous', 'Driving', 'Action', 'Racing', 'Action Adventure', 'Miscellaneous', 'Miscellaneous', 'Racing', 'Racing', 'Action Adventure', 'Miscellaneous', 'Miscellaneous', 'Racing', 'Racing', 'Action Adventure', 'Miscellaneous', 'Miscellaneous', 'Racing', 'Racing', 'Action Adventure', 'Miscellaneous', 'Miscellaneous', 'Racing', 'Sports', 'Action', 'Action', 'Action', 'Miscellaneous', 'Adventure', 'Action', 'Action Adventure', 'Miscellaneous', 'Action', 'Adventure', 'Racing', 'Action', 'Adventure', 'Miscellaneous', 'Role-Playing', 'Miscellaneous', 'Puzzle', 'Sports', 'Strategy', 'General', 'Strategy', 'Puzzle', 'Action', 'Action', 'Miscellaneous', 'Sports', 'Action', 'Action Adventure', 'Action', 'Action', 'Action', 'Driving', 'Driving', 'Sports', 'Strategy', 'Action', 'Action Adventure', 'Action', 'Role-Playing', 'Driving', 'Action Adventure', 'Miscellaneous', 'Role-Playing', 'General', 'Action', 'Sports', 'Action Adventure', 'Miscellaneous', 'Strategy', 'Puzzle', 'Strategy', 'Action Adventure', 'Sports', 'Action', 'Strategy', 'Action', 'Action Adventure', 'Miscellaneous', 'Action', 'Action Adventure', 'Adventure', 'Fantasy', 'Simulation', 'Action', 'Action', 'Action', 'Action', 'Action', 'Action', 'Action', 'Miscellaneous', 'Action', 'Role-Playing', 'Action', 'Strategy', 'Action', 'Role-Playing', 'Action', 'Miscellaneous', 'Action', 'Adventure', 'Action Adventure', 'Action', 'Miscellaneous', 'Action', 'Adventure', 'Action Adventure', 'Action', 'Miscellaneous', 'Action', 'Adventure', 'Action Adventure', 'Action', 'Miscellaneous', 'Action', 'Adventure', 'Action Adventure', 'Action', 'Miscellaneous', 'Adventure', 'Sports', 'Action Adventure', 'Strategy', 'Role-Playing', 'Strategy', 'Action', 'Action', 'Simulation', 'General', 'Strategy', 'Action', 'Adventure', 'Strategy', 'Miscellaneous', 'Action', 'Action', 'Miscellaneous', 'Action Adventure', 'Strategy', 'Simulation', 'Adventure', 'Action', 'Action', 'Action', 'Action Adventure', 'Strategy', 'Miscellaneous', 'Driving', 'Action Adventure', 'Racing', 'Action Adventure', 'Miscellaneous', 'Adventure', 'Action', 'Simulation', 'Simulation', 'Sports', 'Action Adventure', 'Miscellaneous', 'Action Adventure', 'Action', 'Adventure', 'Action', 'Action', 'Role-Playing', 'Action', 'Action', 'Role-Playing', 'Action', 'Action Adventure', 'Adventure', 'Action', 'Action', 'Adventure', 'Action', 'Action Adventure', 'Action Adventure', 'Role-Playing', 'Miscellaneous', 'Action', 'Role-Playing', 'Action', 'Strategy', 'Action', 'Action Adventure', 'Action', 'Sports', 'Driving', 'Miscellaneous', 'Action Adventure', 'Action', 'Action Adventure', 'Action', 'Action', 'Sports', 'Strategy', 'Role-Playing', 'Miscellaneous', 'Role-Playing', 'Action', 'Action Adventure', 'Strategy', 'Action', 'Role-Playing', 'Action', 'Action Adventure', 'Strategy', 'Action', 'Role-Playing', 'Action', 'Action Adventure', 'Strategy', 'Action', 'Role-Playing', 'Action', 'Action Adventure', 'Strategy', 'Action', 'Action', 'Driving', 'Action', 'Adventure', 'Sports', 'General', 'Action', 'Adventure', 'Racing', 'Action', 'Action Adventure', 'Action', 'Sports', 'Action', 'Action Adventure', 'Action Adventure', 'Sports', 'Role-Playing', 'Action', 'Adventure', 'Action Adventure', 'Action', 'Action', 'Action', 'Sports', 'Action', 'Action', 'Action', 'Strategy', 'Role-Playing', 'Strategy', 'Fantasy', 'Action Adventure', 'Strategy', 'Miscellaneous', 'Adventure', 'Strategy', 'Strategy', 'Role-Playing', 'Action', 'Sports', 'Action', 'Role-Playing', 'Sports', 'Simulation', 'Role-Playing', 'Action', 'Role-Playing', 'Action', 'Strategy', 'Puzzle', 'Action', 'Virtual Life', 'Action Adventure', 'Role-Playing', 'Miscellaneous', 'Strategy', 'Action', 'Action', 'Role-Playing', 'Action', 'Action', 'Action', 'Action', 'Action Adventure', 'Strategy', 'Adventure', 'Miscellaneous', 'Sports', 'Role-Playing', 'Action Adventure', 'Action Adventure', 'Action', 'Action', 'Action Adventure', 'Action', 'Adventure', 'Adventure', 'Action', 'Sports', 'Miscellaneous', 'Action', 'Action Adventure', 'Role-Playing', 'Role-Playing', 'Miscellaneous', 'Action', 'Action Adventure', 'Role-Playing', 'Role-Playing', 'Miscellaneous', 'Action', 'Action Adventure', 'Role-Playing', 'Role-Playing', 'Miscellaneous', 'Action', 'Action Adventure', 'Role-Playing', 'Role-Playing', 'Miscellaneous', 'Action Adventure', 'Action', 'Strategy', 'Sports', 'Action', 'Miscellaneous', 'Action', 'Driving', 'Sports', 'Action', 'Action', 'Action Adventure', 'Action', 'Miscellaneous', 'Simulation', 'Adventure', 'Action', 'Action Adventure', 'Action Adventure', 'Action', 'Action Adventure', 'Action', 'Action', 'Role-Playing', 'Action', 'Action', 'Action', 'Strategy', 'Role-Playing', 'Action', 'Action', 'Action', 'Strategy', 'Miscellaneous', 'Sports', 'Strategy', 'Miscellaneous', 'Driving', 'Action', 'Action Adventure', 'Action Adventure', 'Simulation', 'Role-Playing', 'Miscellaneous', 'Sports', 'Strategy', 'Racing', 'Miscellaneous', 'Miscellaneous', 'Miscellaneous', 'Simulation', 'General', 'Action', 'General', 'Action Adventure', 'Action', 'Miscellaneous', 'Action', 'Role-Playing', 'Action Adventure', 'Adventure', 'Action Adventure', 'Sports', 'Role-Playing', 'Action', 'Simulation', 'Action Adventure', 'Action Adventure', 'Adventure', 'Action', 'Miscellaneous', 'Strategy', 'Action', 'General', 'Action', 'Sports', 'Action', 'Strategy', 'Driving', 'Action Adventure', 'Adventure', 'Strategy', 'Strategy', 'Role-Playing', 'Action Adventure', 'Adventure', 'Strategy', 'Strategy', 'Role-Playing', 'Action Adventure', 'Adventure', 'Strategy', 'Strategy', 'Role-Playing', 'Action Adventure', 'Adventure', 'Strategy', 'Strategy', 'Role-Playing', 'Adventure', 'Role-Playing', 'Miscellaneous', 'Action', 'Action', 'Adventure', 'Adventure', 'Action', 'Role-Playing', 'Action Adventure', 'Role-Playing', 'Strategy', 'Modern', 'Miscellaneous', 'Driving', 'Sports', 'Role-Playing', 'Sports', 'Action Adventure', 'Simulation', 'Action', 'Action Adventure', 'Action', 'Action', 'Action', 'Adventure', 'Action Adventure', 'Driving', 'Sports', 'Action RPG', 'Action Adventure', 'Action', 'Action', 'Action Adventure', 'Strategy', 'Action', 'Action', 'Action', 'Driving', 'Strategy', 'Action Adventure', 'Driving', 'Miscellaneous', 'Action', 'Action', 'Racing', 'Historic', 'Adventure', 'Action Adventure', 'Strategy', 'Adventure', 'Role-Playing', 'Role-Playing', 'Action', 'Strategy', 'Strategy', 'Action', 'Simulation', 'Simulation', 'Action', 'Strategy', 'Sports', 'Fantasy', 'Action Adventure', 'Role-Playing', 'Action', 'Action Adventure', 'Strategy', 'Role-Playing', 'Role-Playing', 'Action', 'Sci-Fi', 'Miscellaneous', 'Sports', 'Strategy', 'Action Adventure', 'Strategy', 'Driving', 'Driving', 'Action', 'Sports', 'Strategy', 'Driving', 'Strategy', 'Strategy', 'Sports', 'Strategy', 'Driving', 'Strategy', 'Strategy', 'Sports', 'Strategy', 'Driving', 'Strategy', 'Strategy', 'Sports', 'Strategy', 'Driving', 'Strategy', 'Strategy', 'Action', 'Simulation', 'Sports', 'Action Adventure', 'Action', 'Action', 'Action', 'Racing', 'Adventure', 'Action', 'Adventure', 'Strategy', 'Action', 'Puzzle', 'Action', 'General', 'Strategy', 'Action Adventure', 'Miscellaneous', 'Historic', 'Action Adventure', 'Action', 'Action', 'Action Adventure', 'General', 'Miscellaneous', 'Action', 'Sports', 'Strategy', 'Action', 'Role-Playing', 'Strategy', 'Action', 'Adventure', 'Strategy', 'Action Adventure', 'Action Adventure', 'Role-Playing', 'Fantasy', 'Simulation', 'Role-Playing', 'Action Adventure', 'Action', 'Action Adventure', 'Strategy', 'Action', 'Action', 'Role-Playing', 'Miscellaneous', 'Action', 'Action', 'Role-Playing', 'Strategy', 'Strategy', 'Action Adventure', 'Action', 'Action', 'Driving', 'Driving', 'Action', 'Driving', 'Driving', 'Action Adventure', 'Action', 'Role-Playing', 'Strategy', 'Shooter', 'Role-Playing', 'Action', 'Driving', 'Strategy', 'Driving', 'Action', 'Action', 'Role-Playing', 'Action', 'Sci-Fi', 'Role-Playing', 'Sports', 'Adventure', 'Action Adventure', 'Sports', 'Adventure', 'Role-Playing', 'Role-Playing', 'Action Adventure', 'Sports', 'Adventure', 'Role-Playing', 'Role-Playing', 'Action Adventure', 'Sports', 'Adventure', 'Role-Playing', 'Role-Playing', 'Action Adventure', 'Sports', 'Adventure', 'Role-Playing', 'Role-Playing', 'Action', 'Action', 'Action', 'Sports', 'Sports', 'Action', 'Sports', 'Action Adventure', 'Action', 'Sports', 'Action', 'Action', 'Action', 'Sports', 'Action', 'Action', 'Strategy', 'Simulation', 'Role-Playing', 'Role-Playing', 'Miscellaneous', 'Driving', 'Action', 'Action', 'Role-Playing', 'Sports', 'Sports', 'Miscellaneous', 'Sports', 'Action', 'Modern', 'Action Adventure', 'Miscellaneous', 'Action', 'Adventure', 'Action', 'Sports', 'Action Adventure', 'Action', 'Sports', 'Action', 'Sci-Fi', 'Action', 'Action', 'Action', 'Role-Playing', 'Miscellaneous', 'Action', 'Action Adventure', 'Role-Playing', 'Action', 'Sports', 'Strategy', 'Sports', 'Action', 'Action Adventure', 'Miscellaneous', 'Action', 'Adventure', 'Action', 'Action Adventure', 'Simulation', 'Action Adventure', 'Adventure', 'Adventure', 'Adventure', 'Action', 'Miscellaneous', 'Action', 'Adventure', 'Action', 'Miscellaneous', 'Driving', 'Action', 'General', 'Driving', 'Action', 'Strategy', 'Action', 'Action', 'Role-Playing', 'Action', 'Action Adventure', 'Action Adventure', 'Strategy', 'Role-Playing', 'Action', 'Action Adventure', 'Action Adventure', 'Strategy', 'Role-Playing', 'Action', 'Action Adventure', 'Action Adventure', 'Strategy', 'Role-Playing', 'Action', 'Action Adventure', 'Action Adventure', 'Strategy', 'Action', 'Action', 'Action', 'Action Adventure', 'Sports', 'Action', 'Role-Playing', 'Role-Playing', 'Japanese-Style', 'Sim', 'Driving', 'Action', 'Sports', 'Action', 'Role-Playing', 'Action Adventure', 'Role-Playing', 'Adventure', 'Action Adventure', 'Miscellaneous', 'Action', 'Role-Playing', 'Historic', 'Adventure', 'Action', 'Driving', 'Action', 'Simulation', 'Simulation', 'Action', 'Action', 'Role-Playing', 'Action Adventure', 'Action', 'Action', 'Miscellaneous', 'Adventure', 'Action', 'Sports', 'Puzzle', 'Miscellaneous', 'Sports', 'Action', 'Adventure', 'Action', 'Shooter', 'Sports', 'Simulation', 'Adventure', 'Action', 'Sports', 'Strategy', 'Action', 'Miscellaneous', 'Action Adventure', 'Strategy', 'Action', 'Action', 'Sports', 'Strategy', 'Racing', 'Action', 'Action', 'Miscellaneous', 'Racing', 'Miscellaneous', 'Action', 'Driving', 'Strategy', 'Action', 'Action', 'Action', 'Action', 'General', 'Action Adventure', 'Strategy', 'Action', 'Miscellaneous', 'Strategy', 'Action Adventure', 'Action Adventure', 'Action', 'Role-Playing', 'Action', 'Action', 'Action Adventure', 'Action', 'Role-Playing', 'Action', 'Action', 'Action Adventure', 'Action', 'Role-Playing', 'Action', 'Action', 'Action Adventure', 'Action', 'Role-Playing', 'Action', 'Action', 'Miscellaneous', 'Action', 'Sports', 'Action', 'Driving', 'Action', 'Action', 'Adventure', 'Role-Playing', 'Action', 'Simulation', 'Sports', 'Strategy', 'Action', 'Action Adventure', 'Racing', 'Action', 'Simulation', 'Action Adventure', 'Action Adventure', 'Action', 'Action', 'Action Adventure', 'Role-Playing', 'Adventure', 'Sports', 'Action', 'Action', 'Simulation', 'Strategy', 'Adventure', 'Strategy', 'Action', 'Sports', 'Strategy', 'Action', 'Miscellaneous', 'Action', 'Sports', 'Sports', 'Action', 'Sports', 'Action Adventure', 'Edutainment', 'Miscellaneous', 'Action Adventure', 'Adventure', 'Action Adventure', 'Action', 'Action', 'Strategy', 'Action Adventure', 'Action', 'Action Adventure', 'Action', 'Action', 'Action', 'Role-Playing', 'Action', 'Action', 'Action', 'Role-Playing', 'Action', 'Modern', 'Action', 'Action', 'Action Adventure', 'Action', 'Action', 'Driving', 'Action Adventure', 'Role-Playing', 'Action', 'Action Adventure', 'Action', 'Miscellaneous', 'Action Adventure', 'Role-Playing', 'Historic', 'Action', 'Adventure', 'Action Adventure', 'Action', 'Action Adventure', 'Action Adventure', 'Adventure', 'Action Adventure', 'Action', 'Action Adventure', 'Action Adventure', 'Adventure', 'Action Adventure', 'Action', 'Action Adventure', 'Action Adventure', 'Adventure', 'Action Adventure', 'Action', 'Action Adventure', 'Action Adventure', 'Action Adventure', 'Racing', 'Role-Playing', 'Sports', 'Racing', 'Action', 'Miscellaneous', 'Role-Playing', 'Action', 'Driving', 'Racing', 'Strategy', 'Miscellaneous', 'Sports', 'Sports', 'Action Adventure', 'Action Adventure', 'Action', 'Role-Playing', 'Role-Playing', 'Action', 'Action', 'Action', 'Miscellaneous', 'Driving', 'Action', 'Strategy', 'Strategy', 'Driving', 'Miscellaneous', 'Sports', 'Role-Playing', 'Strategy', 'Action', 'Card Battle', 'Miscellaneous', 'Strategy', 'Action Adventure', 'Simulation', 'Racing', 'Simulation', 'Strategy', 'Action Adventure', 'Action', 'Strategy', 'Action', 'Action', 'Action', 'Action', 'Adventure', 'Sports', 'Adventure', 'General', 'Action Adventure', 'Strategy', 'Racing', 'Miscellaneous', 'General', 'Action', 'Action Adventure', 'Action', 'Adventure', 'Action', 'Action', 'Action', 'Action', 'Action Adventure', 'Miscellaneous', 'Adventure', 'Action', 'Simulation', 'Role-Playing', 'Strategy', 'Sports', 'Adventure', 'Action', 'Adventure', 'General', 'Adventure', 'Racing', 'Strategy', 'Action', 'Action Adventure', 'Action Adventure', 'Role-Playing', 'Strategy', 'Action', 'Action Adventure', 'Action Adventure', 'Role-Playing', 'Strategy', 'Action', 'Action Adventure', 'Action Adventure', 'Role-Playing', 'Strategy', 'Action', 'Action Adventure', 'Action Adventure', 'Role-Playing', 'Simulation', 'Action', 'Strategy', 'Strategy', 'Action', 'Action', 'Action Adventure', 'Sports', 'Miscellaneous', 'Role-Playing', 'Action', 'Action Adventure', 'Adventure', 'Action', 'Sports', 'Strategy', 'Action', 'Action', 'Strategy', 'Role-Playing', 'Sports', 'Miscellaneous', 'Strategy', 'Action', 'Role-Playing', 'General', 'Action', 'Action', 'Role-Playing', 'Simulation', 'Simulation', 'Puzzle', 'Action', 'Action', 'Adventure', 'Role-Playing', 'General', 'Adventure', 'Strategy', 'Action', 'Action', 'Action', 'Role-Playing', 'Action', 'Adventure', 'Action Adventure', 'Action', 'Miscellaneous', 'Miscellaneous', 'Action', 'Strategy', 'Action', 'Driving', 'Strategy', 'Adventure', 'Sports', 'Action Adventure', 'Action', 'Action', 'Strategy', 'Action', 'Miscellaneous', 'Strategy', 'Action Adventure', 'Action', 'Racing', 'Miscellaneous', 'Strategy', 'Sports', 'Massively Multiplayer Online', 'Action Adventure', 'Adventure', 'Adventure', 'Action', 'Action', 'Adventure', 'Puzzle', 'Action', 'Driving', 'Action Adventure', 'General', 'Role-Playing', 'Action', 'Action', 'Action', 'General', 'Role-Playing', 'Action', 'Action', 'Action', 'General', 'Role-Playing', 'Action', 'Action', 'Action', 'General', 'Role-Playing', 'Action', 'Action', 'Action', 'Role-Playing', 'Action', 'Action', 'Action', 'Miscellaneous', 'Action', 'Strategy', 'Action Adventure', 'Driving', 'Sports', 'Adventure', 'Shooter', 'Strategy', 'Action', 'Action', 'Miscellaneous', 'Action Adventure', 'Adventure', 'Action', 'Role-Playing', 'Role-Playing', 'Puzzle', 'Action', 'Action Adventure', 'Action Adventure', 'Action', 'Role-Playing', 'Action Adventure', 'Action', 'Strategy', 'Sports', 'Driving', 'Adventure', 'Miscellaneous', 'Role-Playing', 'Role-Playing', 'Action', 'Role-Playing', 'Adventure', 'Action', 'Action', 'Action Adventure', 'Action', 'Action', 'Action', 'Adventure', 'Sports', 'Action', 'Action Adventure', 'Action Adventure', 'Action', 'Action', 'Action Adventure', 'Action', 'Racing', 'Sci-Fi', 'Adventure', 'Action', 'Adventure', 'Driving', 'Action', 'Action', 'Role-Playing', 'Action Adventure', 'Action Adventure', 'Action', 'Miscellaneous', 'Driving', 'Action', 'Sports', 'Sports', 'Action', 'Miscellaneous', 'Action Adventure', 'Adventure', 'Action Adventure', 'Action', 'Action', 'Action', 'Miscellaneous', 'Action', 'Action', 'Role-Playing', 'Adventure', 'Action', 'Action', 'Action', 'Role-Playing', 'Adventure', 'Action', 'Action', 'Action', 'Role-Playing', 'Adventure', 'Action', 'Action', 'Action', 'Role-Playing', 'Adventure', 'Action', 'Adventure', 'Action Adventure', 'Role-Playing', 'Action', 'Role-Playing', 'Action Adventure', 'Action', 'Strategy', 'Sports', 'Action', 'Action', 'Action', 'Action Adventure', 'Action', 'MOBA', 'Action', 'Miscellaneous', 'Miscellaneous', 'Action Adventure', 'Driving', 'Driving', 'Action', 'Action', 'Action Adventure', 'Racing', 'Simulation', 'Strategy', 'Action', 'Driving', 'Action Adventure', 'Miscellaneous', 'Action Adventure', 'Action', 'Action Adventure', 'Adventure', 'Action Adventure', 'Strategy', 'Strategy', 'Sports', 'Driving', 'Action', 'Action', 'Action', 'Miscellaneous', 'Role-Playing', 'Action', 'Strategy', 'Action', 'Role-Playing', 'Miscellaneous', 'Action', 'Action', 'Historic', 'Strategy', 'Strategy', 'Strategy', 'Sports', 'Role-Playing', 'Role-Playing', 'Action', 'Adventure', 'Action', 'Action', 'Role-Playing', 'Adventure', 'Racing', 'Role-Playing', 'Action', 'Driving', 'Sports', 'Action', 'Adventure', 'Role-Playing', 'General', 'Action', 'Driving', 'Strategy', 'Driving', 'Action Adventure', 'Miscellaneous', 'Racing', 'Adventure', 'Adventure', 'Action', 'Puzzle', 'Racing', 'Adventure', 'Adventure', 'Action', 'Puzzle', 'Racing', 'Adventure', 'Adventure', 'Action', 'Puzzle', 'Racing', 'Adventure', 'Adventure', 'Action', 'Puzzle', 'Action', 'Role-Playing', 'Action', 'Action Adventure', 'Horror', 'Sports', 'Miscellaneous', 'Action Adventure', 'Action', 'Miscellaneous', 'Miscellaneous', 'Action', 'Miscellaneous', 'Action', 'Miscellaneous', 'Adventure', 'Sports', 'Driving', 'Strategy', 'Action', 'Action', 'Simulation', 'Action Adventure', 'Role-Playing', 'Action Adventure', 'Action', 'Action', 'Action', 'Role-Playing', 'Strategy', 'Adventure', 'Simulation', 'Miscellaneous', 'Sports', 'Role-Playing', 'Sports', 'Adventure', 'Racing', 'Action', 'Strategy', 'Racing', 'Action', 'Role-Playing', 'Adventure', 'Strategy', 'Action', 'Action Adventure', 'Action Adventure', 'Alternative', 'Action', 'Strategy', 'Miscellaneous', 'Action Adventure', 'Action', 'Action', 'Driving', 'Action Adventure', 'Role-Playing', 'Sports', 'Action', 'Strategy', 'Action', 'Action', 'Driving', 'Miscellaneous', 'Action Adventure', 'Racing', 'Sports', 'Sports', 'Role-Playing', 'Racing', 'Adventure', 'Action', 'Miscellaneous', 'Action Adventure', 'Action', 'Miscellaneous', 'Action', 'Action', 'Strategy', 'Simulation', 'Action', 'Role-Playing', 'Miscellaneous', 'Adventure', 'Simulation', 'Action', 'Role-Playing', 'Miscellaneous', 'Adventure', 'Simulation', 'Action', 'Role-Playing', 'Miscellaneous', 'Adventure', 'Simulation', 'Action', 'Role-Playing', 'Miscellaneous', 'Adventure', 'Strategy', 'Racing', 'Role-Playing', 'Adventure', 'Action Adventure', 'Action Adventure', 'Action', 'Role-Playing', 'Action Adventure', 'Miscellaneous', 'Sports', 'Action Adventure', 'Action', 'Horror', 'Action Adventure', 'Action Adventure', 'Action', 'Action', 'Action', 'Adventure', 'Action Adventure', 'Action', 'Action Adventure', 'Sports', 'Sports', 'Action', 'Driving', 'Action Adventure', 'Action', 'Action', 'Action', 'Driving', 'Role-Playing', 'Adventure', 'Role-Playing', 'Adventure', 'Miscellaneous', 'Adventure', 'Strategy', 'Puzzle', 'Adventure', 'Role-Playing', 'Action', 'Adventure', 'Strategy', 'Role-Playing', 'Sports', 'Action', 'Adventure', 'Action', 'Miscellaneous', 'Adventure', 'Action', 'Puzzle', 'Action', 'Strategy', 'Action Adventure', 'Miscellaneous', 'Action Adventure', 'Action Adventure', 'Action', 'Action', 'Action', 'Arcade', 'Simulation', 'Role-Playing', 'Action', 'Adventure', 'Role-Playing', 'Strategy', 'Miscellaneous', 'Sports', 'Miscellaneous', 'Miscellaneous', 'Driving', 'Action', 'Strategy', 'Action', 'Role-Playing', 'Action', 'Driving', 'Role-Playing', 'Action Adventure', 'Driving', 'Action', 'Driving', 'Role-Playing', 'Action Adventure', 'Driving', 'Action', 'Driving', 'Role-Playing', 'Action Adventure', 'Driving', 'Action', 'Driving', 'Role-Playing', 'Action Adventure', 'Driving', 'Action', 'Miscellaneous', 'Action', 'Sports', 'Action', 'Role-Playing', 'Action', 'Miscellaneous', 'Action', 'Action', 'Role-Playing', 'Action', 'Sports', 'Role-Playing', 'Action', 'Adventure', 'Role-Playing', 'Strategy', 'Action Adventure', 'Action Adventure', 'Action', 'Action Adventure', 'Role-Playing', 'Miscellaneous', 'Adventure', 'Action Adventure', 'Miscellaneous', 'Simulation', 'Miscellaneous', 'Action', 'Miscellaneous', 'Action Adventure', 'Action', 'Miscellaneous', 'Action Adventure', 'Strategy', 'Action', 'Role-Playing', 'Strategy', 'Action', 'Action', 'Strategy', 'Action Adventure', 'Simulation', 'Role-Playing', 'Racing', 'Adventure', 'Action Adventure', 'Action', 'Action Adventure', 'Action', 'Action', 'Role-Playing', 'Strategy', 'Action Adventure', 'Role-Playing', 'Miscellaneous', 'Strategy', 'Action', 'Strategy', 'Action', 'Action Adventure', 'Driving', 'Puzzle', 'Role-Playing', 'Puzzle', 'Action', 'Driving', 'Action', 'Action', 'Action', 'Action', 'Action Adventure', 'Action', 'Action', 'Action RPG', 'Strategy', 'Strategy', 'Strategy', 'Action', 'Role-Playing', 'Adventure', 'Role-Playing', 'Simulation', 'Puzzle', 'Strategy', 'Adventure', 'Role-Playing', 'Simulation', 'Puzzle', 'Strategy', 'Adventure', 'Role-Playing', 'Simulation', 'Puzzle', 'Strategy', 'Adventure', 'Role-Playing', 'Simulation', 'Puzzle', 'Strategy', 'Puzzle', 'Strategy', 'Action Adventure', 'Role-Playing', 'Action', 'Miscellaneous', 'Role-Playing', 'Miscellaneous', 'Driving', 'Action Adventure', 'Action', 'Action', 'Simulation', 'Action Adventure', 'Driving', 'Action', 'Action', 'Action', 'Action Adventure', 'Action', 'Action', 'Strategy', 'Action', 'Adventure', 'Role-Playing', 'Adventure', 'Sports', 'Strategy', 'Role-Playing', 'Action Adventure', 'Miscellaneous', 'Action', 'Action', '1-4', 'Action', 'Action Adventure', 'Role-Playing', 'Action', 'Action', 'Adventure', 'Action', 'Action', 'Action Adventure', 'Strategy', 'Sports', 'Action', 'Action', 'Strategy', 'Action Adventure', 'Driving', 'Simulation', 'Strategy', 'Action Adventure', 'Adventure', 'Simulation', 'Action', 'Action', 'Strategy', 'Sports', 'Action', 'Sports', 'Action', 'Action', 'Role-Playing', 'Adventure', 'Shooter', 'Role-Playing', 'Puzzle', 'Action Adventure', 'General', 'Action', 'Miscellaneous', 'Action Adventure', 'Role-Playing', 'Action Adventure', 'Strategy', 'Action', 'Miscellaneous', 'Sports', 'Miscellaneous', 'Simulation', 'Action', 'Action', 'Adventure', 'Action', 'Simulation', 'Action', 'Action', 'Adventure', 'Action', 'Simulation', 'Action', 'Action', 'Adventure', 'Action', 'Simulation', 'Action', 'Action', 'Adventure', 'Action', 'Action', 'Role-Playing', 'Action', 'Strategy', 'Action', 'Simulation', 'Action', 'Role-Playing', 'Adventure', 'Action', 'Role-Playing', 'Action', 'Action Adventure', 'Role-Playing', 'Action', 'Role-Playing', 'Action Adventure', 'Action Adventure', 'Simulation', 'Action', 'Action Adventure', 'Adventure', 'Action', 'Miscellaneous', 'Action', 'Action', 'Action', 'Action Adventure', 'Action', 'Simulation', 'Action', 'Role-Playing', 'Action Adventure', 'Action', 'Action', 'Driving', 'Turn-Based', 'Action Adventure', 'Role-Playing', 'Action Adventure', 'Miscellaneous', 'Role-Playing', 'Strategy', 'Adventure', 'Adventure', 'Action', 'Action', 'Simulation', 'Action', 'Action', 'Driving', 'Fantasy', 'Action', 'Strategy', 'Role-Playing', 'Action', 'Role-Playing', 'Action', 'Action', 'Action', 'Action', 'Action', 'Adventure', 'Action', 'Strategy', 'Sports', 'Role-Playing', 'Sports', 'Action', 'Strategy', 'Action', 'Driving', 'Action', 'Sports', 'Action Adventure', 'Action', 'Role-Playing', 'Action', 'Driving', 'Strategy', 'Strategy', 'Adventure', 'Role-Playing', 'Adventure', 'Action', 'Strategy', 'Adventure', 'Role-Playing', 'Adventure', 'Action', 'Strategy', 'Adventure', 'Role-Playing', 'Adventure', 'Action', 'Strategy', 'Adventure', 'Role-Playing', 'Adventure', 'Action', 'Adventure', 'Action', 'Action', 'Action', 'Adventure', 'Adventure', 'Action', 'Shooter', 'Role-Playing', 'Adventure', 'Action', 'Racing', 'Puzzle', 'Action', 'Action Adventure', 'Adventure', 'Strategy', 'Action Adventure', 'Sports', 'Miscellaneous', 'Action', 'Action', 'Sports', 'Action', 'Strategy', 'Simulation', 'Action Adventure', 'Miscellaneous', 'Strategy', 'Action', 'GT / Street', 'Simulation', 'Action', 'Action', 'Action', 'Adventure', 'Action Adventure', 'Fantasy', 'Action', 'Miscellaneous', 'Action', 'Strategy', 'Action Adventure', 'Adventure', 'Role-Playing', 'Sports', 'Role-Playing', 'Action Adventure', 'Driving', 'Sports', 'Action', 'Arcade', 'Role-Playing', 'Racing', 'Action', 'Action', 'Role-Playing', 'Action', 'Strategy', 'Strategy', 'Adventure', 'Action', 'Adventure', 'Role-Playing', 'Simulation', 'Simulation', 'Sports', '3D', 'Action Adventure', 'Role-Playing', 'Action Adventure', 'Action', 'Role-Playing', 'Action', 'Action Adventure', 'Action', 'Action', 'Action', 'Action', 'Role-Playing', 'Action', 'Role-Playing', 'Action Adventure', 'Action', 'Miscellaneous', 'Action', 'Role-Playing', 'Action Adventure', 'Action', 'Miscellaneous', 'Action', 'Role-Playing', 'Action Adventure', 'Action', 'Miscellaneous', 'Action', 'Role-Playing', 'Action Adventure', 'Action', 'Miscellaneous', 'Role-Playing', 'Miscellaneous', 'Role-Playing', 'Strategy', 'Sports', 'Simulation', 'Role-Playing', 'Adventure', 'Strategy', 'Action Adventure', 'Adventure', 'Action', 'Role-Playing', 'Simulation', 'Action', 'Driving', 'Miscellaneous', 'Action Adventure', 'Strategy', 'Sports', 'Action', 'Sports', 'Action', 'Strategy', 'Sports', 'Action', 'Role-Playing', 'Action', 'Simulation', 'Action Adventure', 'Adventure', 'Miscellaneous', 'Adventure', 'Driving', 'Sports', 'Driving', 'Sports', 'Strategy', 'Miscellaneous', 'Strategy', 'Miscellaneous', 'Action', 'Driving', 'Strategy', 'Adventure', 'Fantasy', 'Miscellaneous', 'Action Adventure', 'Action', 'Strategy', 'Sports', 'Strategy', 'Sports', 'Role-Playing', 'Racing', 'Action', 'Action', 'Action Adventure', 'Adventure', 'Driving', 'Fantasy', 'Adventure', 'Miscellaneous', 'Action Adventure', 'Strategy', 'Action', 'Action', 'Role-Playing', 'Action Adventure', 'Strategy', 'Action Adventure', 'Action', 'Action', 'Action', 'Role-Playing', 'Miscellaneous', 'Action', 'Sports', 'Action Adventure', 'Action', 'Role-Playing', 'Sports', 'Action', 'Action', 'Role-Playing', 'Role-Playing', 'Sports', 'Action', 'Action', 'Role-Playing', 'Role-Playing', 'Sports', 'Action', 'Action', 'Role-Playing', 'Role-Playing', 'Sports', 'Action', 'Action', 'Role-Playing', 'Racing', 'Strategy', 'Action', 'Action Adventure', 'Driving', 'Strategy', 'Action', 'Racing', 'Action Adventure', 'Action Adventure', 'Role-Playing', 'Action', 'Driving', 'Action', 'Action Adventure', 'Action', 'Adventure', 'Driving', 'Action', 'Action Adventure', 'Action', 'Action Adventure', 'Action', 'Sports', 'Adventure', 'Action Adventure', 'Adventure', 'Action Adventure', 'Puzzle', 'Action', 'Action', 'Action', 'Driving', 'Action Adventure', 'Strategy', 'Action', 'Action Adventure', 'Action', 'Simulation', 'Action Adventure', 'Simulation', 'Action', 'Action', 'Adventure', 'Action', 'Adventure', 'Action Adventure', 'Racing', 'Miscellaneous', 'Miscellaneous', 'Action', 'Role-Playing', 'Simulation', 'Strategy', 'Action Adventure', 'Miscellaneous', 'Action', 'Action', 'Adventure', 'Driving', 'Miscellaneous', 'Strategy', 'Action Adventure', 'Action Adventure', 'Role-Playing', 'Action Adventure', 'Action Adventure', 'Strategy', 'Adventure', 'Role-Playing', 'Adventure', 'Sports', 'Action', 'Sports', 'Action Adventure', 'Miscellaneous', 'Role-Playing', 'Action', 'Action', 'Simulation', 'Role-Playing', 'Action Adventure', 'Miscellaneous', 'Sports', 'Action', 'Role-Playing', 'Action Adventure', 'Miscellaneous', 'Sports', 'Action', 'Role-Playing', 'Action Adventure', 'Miscellaneous', 'Sports', 'Action', 'Role-Playing', 'Action Adventure', 'Miscellaneous', 'Sports', 'Action', 'Action Adventure', 'Action', 'Role-Playing', 'Adventure', 'Miscellaneous', 'Sports', 'Miscellaneous', 'Action', 'Action', 'Action', 'Adventure', 'Role-Playing', 'Sports', 'Sports', 'Action', 'Action', 'Action Adventure', 'Strategy', 'Action Adventure', 'Strategy', 'Action', 'Adventure', 'Racing', 'Action', 'Strategy', 'Action Adventure', 'Action', 'Action', 'Racing', 'Action', 'Action Adventure', 'Role-Playing', 'Sports', 'Action', 'Racing', 'Action', 'Sports', 'Action', 'Action', 'Simulation', 'Sports', 'Simulation', 'Sports', 'Action', 'Driving', 'Role-Playing', 'Miscellaneous', 'Sports', 'Action', 'Adventure', 'Adventure', 'Miscellaneous', 'Action', 'Sports', 'Action', 'Strategy', 'Action', 'Action', 'Sports', 'Modern', 'Sports', 'Action', 'Action', 'Adventure', 'Strategy', 'Action', 'Role-Playing', 'Role-Playing', 'Simulation', 'Action', 'Action Adventure', 'Adventure', 'Role-Playing', 'Action', 'Simulation', 'Action', 'Sports', 'Action Adventure', 'Action', 'Simulation', 'Action', 'Role-Playing', 'Action', 'Action', 'Action Adventure', 'Action', 'Role-Playing', 'Action', 'Action', 'Action Adventure', 'Action', 'Role-Playing', 'Action', 'Action', 'Action Adventure', 'Action', 'Role-Playing', 'Action', 'Action', 'Action Adventure', 'Action Adventure', 'Action Adventure', 'Action Adventure', 'Driving', 'Action', 'Action', 'Action Adventure', 'Adventure', 'Action', 'Sports', 'Action Adventure', 'Adventure', 'Action Adventure', 'Role-Playing', 'Action Adventure', 'Simulation', 'Miscellaneous', 'Action', 'Action Adventure', 'Strategy', 'Role-Playing', 'Action', 'Action', 'Racing', 'Driving', 'Racing', 'Action Adventure', 'Role-Playing', 'Action', 'Action', 'Sports', 'Sports', 'Strategy', 'Adventure', 'Action Adventure', 'Driving', 'Miscellaneous', 'Sports', 'Simulation', 'Action', 'Action', 'Role-Playing', 'Driving', 'Action', 'Action', 'Role-Playing', 'Role-Playing', 'Adventure', 'Action Adventure', 'Action', 'Strategy', 'Action Adventure', 'Adventure', 'Simulation', 'Adventure', 'Puzzle', 'Miscellaneous', 'Action', 'Action Adventure', 'Action Adventure', 'Sports', 'Action', 'Action', 'Action', 'Action', 'Strategy', 'Driving', 'Miscellaneous', 'Action', 'Action Adventure', 'Miscellaneous', 'Action', 'Strategy', 'Action', 'Miscellaneous', 'Action', 'Role-Playing', 'Action Adventure', 'Action', 'Action', 'Miscellaneous', 'Action', 'Modern', 'Adventure', 'Action', 'Miscellaneous', 'Action', 'Modern', 'Adventure', 'Action', 'Miscellaneous', 'Action', 'Modern', 'Adventure', 'Action', 'Miscellaneous', 'Action', 'Modern', 'Adventure', 'Action', 'Racing', 'Simulation', 'Action Adventure', 'Action', 'Miscellaneous', 'Racing', 'Sports', 'Action', 'Role-Playing', 'Action Adventure', 'Adventure', 'Racing', 'Simulation', 'Miscellaneous', 'Role-Playing', 'Action', 'Action', 'Racing', 'Sports', 'Adventure', 'Action', 'Action Adventure', 'Action', 'Role-Playing', 'Adventure', 'Adventure', 'Role-Playing', 'Action', 'Action', 'Action', 'Sports', 'Action', 'Role-Playing', 'Action', 'General', 'Miscellaneous', 'Driving', 'Driving', 'Driving', 'Action', 'Action Adventure', 'Action', 'Role-Playing', 'Role-Playing', 'Strategy', 'Miscellaneous', 'Miscellaneous', 'Action Adventure', 'Action', 'Role-Playing', 'Adventure', 'Adventure', 'Action', 'Racing', 'Sports', 'Miscellaneous', 'Role-Playing', 'Action', 'Action', 'Miscellaneous', 'Simulation', 'Action Adventure', 'Role-Playing', 'Simulation', 'Sports', 'Action Adventure', 'Role-Playing', 'Adventure', 'Role-Playing', 'Adventure', 'Action Adventure', 'Role-Playing', 'Role-Playing', 'Action Adventure', 'Role-Playing', 'Sports', 'Puzzle', 'Action', 'Action', 'Miscellaneous', 'Simulation', 'Driving', 'Action Adventure', 'Action Adventure', 'Adventure', 'Simulation', 'Driving', 'Action Adventure', 'Action Adventure', 'Adventure', 'Simulation', 'Driving', 'Action Adventure', 'Action Adventure', 'Adventure', 'Simulation', 'Driving', 'Action Adventure', 'Action Adventure', 'Adventure', 'Action', 'Miscellaneous', 'Sports', 'General', 'Racing', 'Racing', 'Role-Playing', 'Action', 'Traditional', 'Simulation', 'Action', 'Action Adventure', 'Role-Playing', 'Action Adventure', 'Sports', 'Adventure', 'Miscellaneous', 'Action Adventure', 'Strategy', 'Action', 'Driving', 'Action Adventure', 'Adventure', 'Miscellaneous', 'Action', 'Racing', 'Racing', 'Action', 'Role-Playing', 'Strategy', 'Action Adventure', 'Role-Playing', 'Action Adventure', 'Action', 'Action', 'Action', 'Miscellaneous', 'Action', 'Simulation', 'Strategy', 'Action', 'Sports', 'Driving', 'Action', 'Role-Playing', 'Adventure', 'Sports', 'Simulation', 'Action Adventure', 'Action', 'Role-Playing', 'Action Adventure', 'Action', 'Role-Playing', 'Action', 'Sports', 'Miscellaneous', 'Party', 'Simulation', 'Sci-Fi', 'Sports', 'Sports', 'Action', 'Action Adventure', 'Role-Playing', 'Sports', 'Simulation', 'Sports', 'General', 'Strategy', 'Action', 'Miscellaneous', 'Sports', 'Simulation', 'Action', 'Role-Playing', 'Sports', 'Sports', 'Action', 'Action', 'Role-Playing', 'Racing', 'General', 'Action', 'Miscellaneous', 'Role-Playing', 'Racing', 'General', 'Action', 'Miscellaneous', 'Role-Playing', 'Racing', 'General', 'Action', 'Miscellaneous', 'Role-Playing', 'Racing', 'General', 'Action', 'Miscellaneous', 'Driving', 'Role-Playing', 'Action', 'Action Adventure', 'Sports', 'Role-Playing', 'Action', 'Adventure', 'Action', 'Role-Playing', 'Action', 'Adventure', 'Strategy', 'General', 'Action', 'Sports', 'Puzzle', 'Action', 'Action', 'Miscellaneous', 'Action', 'Action', 'Action', 'Action', 'Action', 'Driving', 'Sports', '3D', 'Role-Playing', 'Action', 'Action', 'Action Adventure', 'Sports', 'Miscellaneous', 'Strategy', 'Action', 'Action', 'Sports', 'Action', 'Adventure', 'Action', 'Miscellaneous', 'Action', 'Adventure', 'Sports', 'Role-Playing', 'Action', 'Action Adventure', 'Sports', 'Action Adventure', 'Miscellaneous', 'Action Adventure', 'Driving', 'Action', 'Adventure', 'Strategy', 'Action', 'Adventure', 'Action', 'Action', 'Action', 'Adventure', 'Scrolling', 'Action', 'Sci-Fi', 'Sports', 'Adventure', 'Adventure', 'Adventure', 'Action', 'Sports', 'Action Adventure', 'Action', 'Action', 'Action Adventure', 'Miscellaneous', 'Adventure', 'Action', 'Action', 'Miscellaneous', 'Action', 'Action Adventure', 'Miscellaneous', 'Action', 'Miscellaneous', 'Action', 'Action Adventure', 'Miscellaneous', 'Action', 'Miscellaneous', 'Action', 'Action Adventure', 'Miscellaneous', 'Action', 'Miscellaneous', 'Action', 'Action Adventure', 'Miscellaneous', 'Action', 'Role-Playing', 'Action', 'Action', 'Action', 'Action Adventure', 'Action', 'Action', 'Racing', 'Action', 'Driving', 'Action', 'Role-Playing', 'Miscellaneous', 'Action', 'Driving', 'Simulation', 'Strategy', 'Action', 'Action', 'Action', 'Role-Playing', 'Simulation', 'Action', 'Adventure', 'Role-Playing', 'Action', 'Adventure', 'Strategy', 'Strategy', 'Action', 'Action', 'Simulation', 'Driving', 'Strategy', 'Action Adventure', 'Action Adventure', 'Sports', 'Strategy', 'Action', 'Strategy', 'Strategy', 'Action', 'Sports', 'Sports', 'Action Adventure', 'Sports', 'Action', 'Action Adventure', 'Role-Playing', 'Driving', 'Historic', 'Action', 'Simulation', 'Action Adventure', 'Action', 'Strategy', 'Action Adventure', 'Action', 'Action', 'Driving', 'Miscellaneous', 'Simulation', 'Role-Playing', 'Strategy', 'Role-Playing', 'Action Adventure', 'Role-Playing', 'Adventure', 'Strategy', 'Action', 'Adventure', 'Action', 'Sports', 'Strategy', 'General', 'Strategy', 'Role-Playing', 'Adventure', 'Sports', 'Action Adventure', 'Action', 'Action', 'Miscellaneous', 'Action Adventure', 'Action Adventure', 'Action', 'Action', 'Miscellaneous', 'Action Adventure', 'Action Adventure', 'Action', 'Action', 'Miscellaneous', 'Action Adventure', 'Action Adventure', 'Action', 'Action', 'Miscellaneous', 'Action Adventure', 'Simulation', 'Adventure', 'Action Adventure', 'Simulation', 'Action', 'Action Adventure', 'Action', 'Action', 'Action', 'Action', 'Fantasy', 'Action', 'Puzzle', 'Role-Playing', 'Driving', 'Strategy', 'Role-Playing', 'Strategy', 'Driving', 'Action', 'Action', 'Simulation', 'Adventure', 'Action', 'Role-Playing', 'Action', 'Action Adventure', 'Driving', 'Action', 'Action Adventure', 'Action', 'Strategy', 'Driving', 'Driving', 'Strategy', 'Adventure', 'Action', 'Action Adventure', 'Racing', 'Action Adventure', 'Role-Playing', 'Miscellaneous', 'Role-Playing', 'Action Adventure', 'Action Adventure', 'Action', 'Action', 'Simulation', 'Adventure', 'Action Adventure', 'Strategy', 'Role-Playing', 'Strategy', 'Role-Playing', 'Strategy', 'Strategy', 'Adventure', 'Sports', \"Beat-'Em-Up\", 'Sports', 'Adventure', 'Action', 'Role-Playing', 'Action', 'Action', 'Action', 'Action', 'Role-Playing', 'Action', 'Action Adventure', 'Sports', 'Action', 'Action', 'Sports', 'Miscellaneous', 'Simulation', 'Action', 'Action Adventure', 'Simulation', 'Miscellaneous', 'Action', 'Strategy', 'Adventure', 'Miscellaneous', 'Action', 'Action', 'Strategy', 'Adventure', 'Miscellaneous', 'Action', 'Action', 'Strategy', 'Adventure', 'Miscellaneous', 'Action', 'Action', 'Strategy', 'Adventure', 'Miscellaneous', 'Action', 'Action', 'Action', 'Action', 'Action', 'Role-Playing', 'Action', 'Sports', 'Driving', 'Adventure', 'Action', 'Action', 'Miscellaneous', 'Action', 'Role-Playing', 'Adventure', 'Racing', 'Action Adventure', 'Action', 'Sports', 'Action', 'Action', 'Action', 'Action Adventure', 'Action', 'Adventure', 'Action', 'Action', 'Action', 'Sports', 'Action', 'Action', 'Strategy', 'Driving', 'Miscellaneous', 'Action', 'Sports', 'Miscellaneous', 'Action', 'Strategy', 'General', 'Strategy', 'Action', 'Action', 'Strategy', 'Action Adventure', 'Sports', 'Action', 'Action', 'Action Adventure', 'Action', 'Miscellaneous', 'Action', 'Action', 'Strategy', 'Adventure', 'Adventure', 'Action Adventure', 'Simulation', 'Action', 'Action Adventure', 'Action', 'Action', 'Action', 'Action', 'Racing', 'Action Adventure', 'Strategy', 'Adventure', 'Action', 'Action', 'Action', 'Action', 'Action', 'Driving', 'Strategy', 'Simulation', 'Action Adventure', 'Action', 'Role-Playing', 'Action', 'Adventure', 'Action Adventure', 'Action', 'Action Adventure', 'Miscellaneous', 'Adventure', 'Action Adventure', 'Action', 'Action Adventure', 'Miscellaneous', 'Adventure', 'Action Adventure', 'Action', 'Action Adventure', 'Miscellaneous', 'Adventure', 'Action Adventure', 'Action', 'Action Adventure', 'Miscellaneous', 'Miscellaneous', 'Sports', 'Miscellaneous', 'Action Adventure', 'Miscellaneous', 'Sports', 'Action', 'Adventure', 'Miscellaneous', 'Strategy', 'Action', 'Sports', 'Action', 'Action', 'Action', 'Action', 'Action', 'Action', 'Action', 'Action', 'Adventure', 'Sports', 'Miscellaneous', 'Action', 'Miscellaneous', 'Role-Playing', 'Action', 'Action', 'Miscellaneous', 'Adventure', 'Adventure', 'Racing', 'Role-Playing', 'Action', 'Action', 'Action', 'Miscellaneous', 'Simulation', 'Action Adventure', 'Driving', 'Role-Playing', 'Role-Playing', 'Action', 'Action', 'Alternative', 'Strategy', 'Action', 'Action', 'Action', 'Action', 'Simulation', 'Adventure', 'Real-Time', 'Action', 'Strategy', 'Action', 'Racing', 'Action Adventure', 'Action Adventure', 'Action', 'Action', 'Action', 'Sports', 'Action', 'Action Adventure', 'Action Adventure', 'Driving', 'Driving', 'Driving', 'Role-Playing', 'Action', 'Action', 'Action', 'Action', 'Arcade', 'Driving', 'Action', 'Role-Playing', 'Action', 'Driving', 'Action', 'Real-Time', 'Action', 'Action', 'Action', 'Action', 'Real-Time', 'Action', 'Action', 'Action', 'Action', 'Real-Time', 'Action', 'Action', 'Action', 'Action', 'Real-Time', 'Action', 'Action', 'Action', 'Miscellaneous', 'Action', 'Adventure', 'Role-Playing', 'Role-Playing', 'Adventure', 'Simulation', 'Action', 'Simulation', 'Action', 'Strategy', 'Miscellaneous', 'Action', 'Sports', 'Miscellaneous', 'Action', 'Action', 'Action', 'Role-Playing', 'Role-Playing', 'Action', 'Role-Playing', 'Strategy', 'Strategy', 'Miscellaneous', 'Driving', 'Action', 'Action', 'Role-Playing', 'Action', 'Action', 'Action', 'Role-Playing', 'Role-Playing', 'Miscellaneous', 'Miscellaneous', 'Action', 'Action', 'Action', 'Action', 'General', 'Action', 'Action', 'Military', 'Simulation', 'Action', 'Action', 'Adventure', 'Strategy', 'Action', 'Action', 'Simulation', 'Action Adventure', 'Action', 'Miscellaneous', 'Action', 'Adventure', 'Action Adventure', 'Action', 'Simulation', 'Action', 'Action', 'Strategy', 'Action', 'Simulation', 'Strategy', 'Sports', 'Action', 'Driving', 'Role-Playing', 'Action', 'Action', 'Role-Playing', 'Role-Playing', 'Action', 'Miscellaneous', 'Driving', 'Driving', 'Action', 'Simulation', 'Adventure', 'Action', 'Sports', 'Miscellaneous', 'Action Adventure', 'Adventure', 'Action', 'Sports', 'Miscellaneous', 'Action Adventure', 'Adventure', 'Action', 'Sports', 'Miscellaneous', 'Action Adventure', 'Adventure', 'Action', 'Sports', 'Miscellaneous', 'Action Adventure', 'Simulation', 'Racing', 'Strategy', 'Action', 'Action Adventure', 'Action', 'Action', 'Action Adventure', 'Strategy', 'Miscellaneous', 'Action Adventure', 'Sports', 'Action', 'Miscellaneous', 'Action', 'Action', 'Action', 'Action', 'Role-Playing', 'Action', 'Racing', 'Miscellaneous', 'Simulation', 'Miscellaneous', 'Miscellaneous', 'Adventure', 'Action', 'Strategy', 'Sports', 'Action', 'Strategy', 'Miscellaneous', 'Action', 'Action', 'Action', 'Miscellaneous', 'Action', 'Miscellaneous', 'Action', 'Role-Playing', 'Strategy', 'Action Adventure', 'Strategy', 'Strategy', 'Role-Playing', 'Simulation', 'Miscellaneous', 'Sports', 'Action', 'Role-Playing', 'Action Adventure', 'Strategy', 'Sports', 'Action', 'Role-Playing', 'Strategy', 'Action Adventure', 'Action', 'Strategy', 'Sci-Fi', 'Strategy', 'Action', 'Action', 'Racing', 'Action Adventure', 'Role-Playing', 'Action Adventure', 'Miscellaneous', 'Action', 'General', 'Action', 'Role-Playing', 'Simulation', 'Role-Playing', 'Racing', 'Action Adventure', 'Action', 'Adventure', 'Strategy', 'Role-Playing', 'Action Adventure', 'Action Adventure', 'Adventure', 'Action Adventure', 'Action Adventure', 'Action Adventure', 'Action Adventure', 'Adventure', 'Action Adventure', 'Action Adventure', 'Action Adventure', 'Action Adventure', 'Adventure', 'Action Adventure', 'Action Adventure', 'Action Adventure', 'Action Adventure', 'Adventure', 'Action Adventure', 'Action Adventure', 'Simulation', 'Miscellaneous', 'Action', 'Action', 'Action', 'Action Adventure', 'Action', 'Puzzle', 'Simulation', 'Simulation', 'Simulation', 'Sports', 'Driving', 'Action', 'Miscellaneous', 'Action Adventure', 'Action', 'Miscellaneous', 'Simulation', 'Driving', 'Driving', 'Role-Playing', 'Puzzle', 'Traditional', 'Action', 'Adventure', 'Role-Playing', 'Action Adventure', 'Action', 'Adventure', 'Simulation', 'Action', 'Olympic Sports', 'Adventure', 'Action', 'Racing', 'Adventure', 'Strategy', 'Miscellaneous', 'Sports', 'Strategy', 'Strategy', 'Adventure', 'Action', 'Action', 'Miscellaneous', 'Strategy', 'Sports', 'Action Adventure', 'Sports', 'Sports', 'Role-Playing', 'Miscellaneous', 'Action Adventure', 'Sports', 'Shooter', 'Action', 'Action', 'Action', 'Sports', 'Miscellaneous', 'Role-Playing', 'Role-Playing', 'Role-Playing', 'Driving', 'Role-Playing', 'Action', 'Action', 'Miscellaneous', 'Action Adventure', 'Role-Playing', 'Puzzle', 'Action', 'Action Adventure', 'Action Adventure', 'Rally / Offroad', 'Action', 'Role-Playing', 'Action', 'Action', 'Sports', 'Action Adventure', 'Action Adventure', 'Sports', 'Action', 'Sports', 'Action Adventure', 'Action Adventure', 'Sports', 'Action', 'Sports', 'Action Adventure', 'Action Adventure', 'Sports', 'Action', 'Sports', 'Action Adventure', 'Action Adventure', 'Sports', 'Action', 'Action', 'Action Adventure', 'Action Adventure', 'Action', 'Action', 'Role-Playing', 'Action Adventure', 'Sports', 'Action', 'Action Adventure', 'Action', 'Action', 'Adventure', 'Simulation', 'Action', 'Puzzle', 'Adventure', 'Miscellaneous', 'Action Adventure', 'Miscellaneous', 'Action', 'Action', 'Miscellaneous', 'Adventure', 'Action', 'Action', 'Action Adventure', 'Driving', 'Action', 'Action Adventure', 'Sports', 'Miscellaneous', 'Action Adventure', 'Sports', 'Sports', 'Simulation', 'Action', 'Driving', 'Action Adventure', 'Puzzle', 'Action', 'Action Adventure', 'Role-Playing', 'Adventure', 'Action', 'Strategy', 'Action', 'Sports', 'Action Adventure', 'Miscellaneous', 'Action', 'Action', 'Action', 'Action', 'Action Adventure', 'Action', 'Role-Playing', 'Action Adventure', 'Action', 'Role-Playing', 'Action', 'Action Adventure', 'Simulation', 'Driving', 'Driving', 'Strategy', 'Action Adventure', 'Action Adventure', 'Racing', 'Simulation', 'Action', 'Action', 'Action', 'Miscellaneous', 'Miscellaneous', 'Strategy', 'Miscellaneous', 'Action', 'Massively Multiplayer', 'Racing', 'Adventure', 'Role-Playing', 'Racing', 'Action', 'Action Adventure', 'Action', 'Role-Playing', 'Racing', 'Action', 'Action Adventure', 'Action', 'Role-Playing', 'Racing', 'Action', 'Action Adventure', 'Action', 'Role-Playing', 'Racing', 'Action', 'Action Adventure', 'Action', 'Action', 'Miscellaneous', 'Sports', 'Action Adventure', 'Driving', 'Driving', 'Action', 'Action', 'Strategy', 'Miscellaneous', 'Adventure', 'Action Adventure', 'Action', 'Action', 'Action', 'Role-Playing', 'Strategy', 'Role-Playing', 'Role-Playing', 'Miscellaneous', 'Strategy', 'Action', 'Miscellaneous', 'Role-Playing', 'Action', 'Simulation', 'Sports', 'Adventure', 'Strategy', 'Driving', 'Action', 'Fantasy', 'Strategy', 'Action Adventure', 'Action Adventure', 'Strategy', 'Role-Playing', 'Action', 'Miscellaneous', 'Miscellaneous', 'Action', 'Driving', 'Simulation', 'Action Adventure', 'Action', 'Action Adventure', 'Strategy', 'Adventure', 'Action', 'Action', 'Action', 'Driving', 'Action', 'Role-Playing', 'Action', 'Action', 'Action Adventure', 'Driving', 'Action Adventure', 'Sports', 'Action', 'Action', 'Adventure', 'Action', 'Action', 'Adventure', 'Action', 'Strategy', 'Role-Playing', 'Driving', 'Driving', 'General', 'Action', 'Role-Playing', 'Simulation', 'Action', 'Action', 'Action', 'Role-Playing', 'Driving', 'Strategy', 'Action', 'Action', 'Action Adventure', 'Action', 'Strategy', 'Action', 'Action', 'Action Adventure', 'Action', 'Strategy', 'Action', 'Action', 'Action Adventure', 'Action', 'Strategy', 'Action', 'Action', 'Action Adventure', 'Action', 'Strategy', 'Role-Playing', '2D', 'Action', 'Action', 'Sports', 'Action', 'Strategy', 'Action', 'Action', 'Racing', 'Action Adventure', 'Role-Playing', 'Action Adventure', 'Miscellaneous', 'Strategy', 'Role-Playing', 'Role-Playing', 'Action', 'Adventure', 'Miscellaneous', 'Action', 'Role-Playing', 'Driving', 'Action Adventure', 'Role-Playing', 'Action', 'Action', 'Strategy', 'Adventure', 'Action', 'Role-Playing', 'Role-Playing', 'Puzzle', 'Action', 'Miscellaneous', 'Strategy', 'Action Adventure', 'Action Adventure', 'Action', 'Strategy', 'Driving', 'Driving', 'Action Adventure', 'Action', 'Driving', 'Action', 'Driving', 'Adventure', 'Action Adventure', 'Action', 'Adventure', 'Miscellaneous', 'Role-Playing', 'Action', 'Action', 'Role-Playing', 'Strategy', 'Action Adventure', 'Simulation', 'Action', 'Sports', 'Role-Playing', 'Puzzle', 'Action', 'Action', 'Strategy', 'Shooter', 'Miscellaneous', 'Action Adventure', 'Action', 'Action', 'Puzzle', 'Action Adventure', 'Action', 'Sports', 'Role-Playing', 'Action Adventure', 'Simulation', 'Role-Playing', 'Sports', 'Action Adventure', 'Action', 'Adventure', 'Sports', 'Sports', 'Action Adventure', 'Action', 'Adventure', 'Sports', 'Sports', 'Action Adventure', 'Action', 'Adventure', 'Sports', 'Sports', 'Action Adventure', 'Action', 'Adventure', 'Sports', 'Action', 'Action', 'Shooter', 'Action Adventure', 'Role-Playing', 'Action', 'Sports', 'Action Adventure', 'Action', 'Action', 'Action Adventure', 'Action', 'Miscellaneous', 'Action Adventure', 'Simulation', 'Sports', 'Adventure', 'Action', 'Role-Playing', 'Role-Playing', 'Action Adventure', 'Action Adventure', 'Sci-Fi', 'Adventure', 'Action', 'Miscellaneous', 'Action Adventure', 'Action', 'Action', 'Miscellaneous', 'Action', 'Miscellaneous', 'Strategy', 'Action', 'Action', 'Sports', 'Adventure', 'Miscellaneous', 'Racing', 'Action', 'Action', 'Simulation', 'Sports', 'Action', 'Strategy', 'Action', 'Miscellaneous', 'Simulation', 'Action', 'Action', 'Action', 'Action Adventure', 'Driving', 'Strategy', 'Strategy', 'Action', 'Action', 'Strategy', 'Puzzle', 'Action', 'Action', 'Strategy', 'Action', 'Action Adventure', 'Miscellaneous', 'Action', 'Sports', 'Driving', 'Action', 'Action', 'Sports', 'Action Adventure', 'Sports', 'Action', 'Sports', 'Action', 'Driving', 'Driving', 'Role-Playing', 'Action', 'Action', 'Action Adventure', 'Action', 'Sports', 'Racing', 'Action', 'Action Adventure', 'Action', 'Sports', 'Racing', 'Action', 'Action Adventure', 'Action', 'Sports', 'Racing', 'Action', 'Action Adventure', 'Action', 'Sports', 'Racing', 'Action', 'Role-Playing', 'Action', 'Role-Playing', 'Action Adventure', 'Action', 'Action', 'Action', 'Action', 'Action Adventure', 'Action', 'Adventure', 'Driving', 'Role-Playing', 'Action', 'Role-Playing', 'Action Adventure', 'Action', 'Miscellaneous', 'Action', 'Action', 'Action', 'Action', 'Strategy', 'Driving', 'Action', 'Strategy', 'Simulation', 'Strategy', 'Action', 'Racing', 'Action', 'Adventure', 'Action', 'Action', 'Racing', 'Action Adventure', 'Action', 'Adventure', 'Action', 'Adventure', 'Action Adventure', 'Driving', 'Action Adventure', 'Action', 'Role-Playing', 'Action', 'Role-Playing', 'Role-Playing', 'Action Adventure', 'Adventure', 'Action', 'Adventure', 'Strategy', 'Role-Playing', 'Action', 'Strategy', 'Action', 'Strategy', 'Adventure', 'Action', 'Sports', 'Role-Playing', 'Miscellaneous', 'Driving', 'Action', 'Simulation', 'Miscellaneous', 'Action Adventure', 'Miscellaneous', 'Strategy', 'Sports', 'Sports', 'Fantasy', 'Action', 'Strategy', 'Action', 'Action', 'Miscellaneous', 'Miscellaneous', 'Action Adventure', 'Action', 'Driving', 'Driving', 'Action', 'Action Adventure', 'Action', 'Driving', 'Driving', 'Action', 'Action Adventure', 'Action', 'Driving', 'Driving', 'Action', 'Action Adventure', 'Action', 'Driving', 'Driving', 'Action', 'Adventure', 'Driving', 'Strategy', 'Action', 'Role-Playing', 'Role-Playing', 'Adventure', 'Strategy', 'Miscellaneous', 'Role-Playing', 'Adventure', 'Action', 'Driving', 'Action', 'Action Adventure', 'Action', 'Miscellaneous', 'Strategy', 'Racing', 'Action', 'Driving', 'Role-Playing', 'Driving', 'Action', 'Sci-Fi', 'Action Adventure', 'Action', 'Miscellaneous', 'Action', 'Action Adventure', 'Action', 'Driving', 'Action', 'Role-Playing', 'Action', 'Driving', 'Action', 'Action', 'Action Adventure', 'Strategy', 'Driving', 'Action', 'Simulation', 'Strategy', 'Action', 'Action', 'Action Adventure', 'Strategy', 'Strategy', 'Action', 'Miscellaneous', 'Adventure', 'Action', 'Miscellaneous', 'Action', 'Driving', 'Action', 'Action', 'Action Adventure', 'Role-Playing', 'Sports', 'Action', 'Miscellaneous', 'Sports', 'Role-Playing', 'Action', 'Driving', 'Action', 'Role-Playing', 'Action', 'Racing', 'Sports', 'Adventure', 'Racing', 'Sports', 'Strategy', 'Sports', 'Action', 'Action', 'Driving', 'Adventure', 'Driving', 'Racing', 'Historic', 'Action', 'Adventure', 'Driving', 'Racing', 'Historic', 'Action', 'Adventure', 'Driving', 'Racing', 'Historic', 'Action', 'Adventure', 'Driving', 'Racing', 'Historic', 'Action', 'Action', 'Action', 'Strategy', 'Miscellaneous', 'Action', 'Action', 'Sports', 'Miscellaneous', 'Role-Playing', 'Racing', 'Adventure', 'Action', 'Miscellaneous', 'Miscellaneous', 'Action', 'Simulation', 'Action', 'Role-Playing', 'Strategy', 'Sports', 'Action', 'Action Adventure', 'Adventure', 'Action Adventure', 'Adventure', 'Role-Playing', 'Action', 'Action', 'Adventure', 'Sports', 'Action', 'Miscellaneous', 'Action', 'Role-Playing', 'Adventure', 'Action', 'Strategy', 'Role-Playing', 'Action Adventure', 'Action', 'Adventure', 'Strategy', 'Strategy', 'Puzzle', 'Strategy', 'Role-Playing', 'Action', 'Role-Playing', 'Strategy', 'Adventure', 'Miscellaneous', 'Role-Playing', 'Action', 'Driving', 'Role-Playing', 'Action', 'Adventure', 'Role-Playing', 'Driving', 'Action', 'Action', 'Driving', 'Action Adventure', 'Sci-Fi', 'Role-Playing', 'Action', 'Role-Playing', 'Action', 'Strategy', 'Strategy', 'Simulation', 'Sports', 'Action', 'Action', 'Adventure', 'Adventure', 'Sports', 'Sports', 'Role-Playing', 'Driving', 'Miscellaneous', 'Role-Playing', 'Strategy', 'Action', 'Driving', 'Miscellaneous', 'Role-Playing', 'Strategy', 'Action', 'Driving', 'Miscellaneous', 'Role-Playing', 'Strategy', 'Action', 'Driving', 'Miscellaneous', 'Role-Playing', 'Strategy', 'Action', 'Strategy', 'Action', 'Action', 'Racing', 'Action Adventure', 'Role-Playing', 'Action', 'Action', 'Miscellaneous', 'Miscellaneous', 'Action', 'Simulation', 'Action', 'Racing', 'Miscellaneous', 'Action Adventure', 'Driving', 'Action', 'Racing', 'Action Adventure', 'Modern', 'Sports', 'Simulation', 'Driving', 'Sports', 'Action', 'Puzzle', 'Role-Playing', 'Driving', 'Action', 'Action', 'Action', 'Role-Playing', 'Action Adventure', 'Action', 'Action', 'Simulation', 'Driving', 'Strategy', 'Action Adventure', 'Action', 'Action', 'Action', 'Action', 'Action', 'Action', 'Driving', 'Miscellaneous', 'Strategy', 'General', 'Government', 'Action', 'Role-Playing', 'Simulation', 'Action Adventure', 'Action Adventure', 'Action Adventure', 'Simulation', 'Strategy', 'Action', 'Action', 'Action Adventure', 'Miscellaneous', 'Miscellaneous', 'Miscellaneous', 'Action', 'Action Adventure', 'Role-Playing', 'Action', 'Action', 'Adventure', 'Adventure', 'Role-Playing', 'Action', 'Action', 'Racing', 'Action', 'Simulation', 'Action', 'Action', 'Action Adventure', 'Miscellaneous', 'Role-Playing', 'Simulation', 'Role-Playing', 'Action Adventure', 'Miscellaneous', 'Role-Playing', 'Simulation', 'Role-Playing', 'Action Adventure', 'Miscellaneous', 'Role-Playing', 'Simulation', 'Role-Playing', 'Action Adventure', 'Miscellaneous', 'Role-Playing', 'Simulation', 'Role-Playing', 'Adventure', 'Action', 'Miscellaneous', 'Role-Playing', 'Action', 'Adventure', 'Racing', 'Action', 'Action', 'Action', 'Sports', 'Action', 'Action Adventure', 'Sports', 'Action Adventure', 'Action Adventure', 'Action Adventure', 'Action', 'Action', 'Action', 'Action', 'Strategy', 'Adventure', 'Action', 'Sports', 'Sports', 'Action', 'Role-Playing', 'Miscellaneous', 'Action Adventure', 'Action Adventure', 'Miscellaneous', 'Action Adventure', 'Action', 'Action', 'Simulation', 'Role-Playing', 'Sci-Fi', 'Action Adventure', 'General', 'Action', 'Action', 'Action', 'Action Adventure', 'Action', 'Fantasy', 'Action', 'Action', 'Action', 'Action', 'Role-Playing', 'Simulation', 'Miscellaneous', 'Role-Playing', 'Puzzle', 'Role-Playing', 'Action', 'Adventure', 'Puzzle', 'Action Adventure', 'Action Adventure', 'Action', 'Driving', 'Action', 'Action', 'Action', 'Action', 'Miscellaneous', 'Action', 'Action', 'Miscellaneous', 'Strategy', 'Action', 'Action', 'Driving', 'Sports', 'Strategy', 'Sports', 'Role-Playing', 'Action Adventure', 'Strategy', 'Simulation', 'Action Adventure', 'Strategy', 'Miscellaneous', 'Strategy', 'Simulation', 'Action Adventure', 'Strategy', 'Miscellaneous', 'Strategy', 'Simulation', 'Action Adventure', 'Strategy', 'Miscellaneous', 'Strategy', 'Simulation', 'Action Adventure', 'Strategy', 'Miscellaneous', 'Racing', 'Action', 'Role-Playing', 'Strategy', 'Miscellaneous', 'Action Adventure', 'Strategy', 'Strategy', 'Role-Playing', 'Action', 'Action', 'Miscellaneous', 'Role-Playing', 'Action', 'Adventure', 'Miscellaneous', 'Miscellaneous', 'Miscellaneous', 'Action', 'Action', 'General', 'Simulation', 'Miscellaneous', 'Action', 'Puzzle', 'Action Adventure', 'Action', 'Driving', 'Miscellaneous', 'Adventure', 'Action', 'Action', 'Action', 'Action', 'Action', 'Simulation', 'Action Adventure', 'Role-Playing', 'Action', 'Action Adventure', 'Adventure', 'Role-Playing', 'Action', 'Role-Playing', 'Simulation', 'Racing', 'Action', 'Action', 'Role-Playing', 'Driving', 'Miscellaneous', 'Strategy', 'Driving', 'Action Adventure', 'Strategy', 'Action', 'Strategy', 'Driving', 'Sports', 'Strategy', 'Action', 'Role-Playing', 'Action', 'Action Adventure', 'Role-Playing', 'Driving', 'Action', 'Role-Playing', 'Driving', 'Action Adventure', 'Action', 'Adventure', 'Strategy', 'Strategy', 'Puzzle', 'Strategy', 'Action', 'Action', 'Driving', 'Action', 'Action', 'Role-Playing', 'General', 'Action', 'Action', 'Action', 'Role-Playing', 'General', 'Action', 'Action', 'Action', 'Role-Playing', 'General', 'Action', 'Action', 'Action', 'Role-Playing', 'General', 'Action', 'Action', 'Formula One', 'Driving', 'Action', 'Driving', 'Strategy', 'Action', 'Action', 'Adventure', 'Action', 'Sports', 'Action', 'Action', 'Miscellaneous', 'Sports', 'Action', 'Action', 'Action', 'Sports', 'Sports', 'Action Adventure', 'Simulation', 'Strategy', 'Miscellaneous', 'Miscellaneous', 'Strategy', 'Role-Playing', 'Role-Playing', 'Fighting', 'Action Adventure', 'Action', 'Action', 'Driving', 'Role-Playing', 'Role-Playing', 'Driving', 'Simulation', 'Action', 'Action', 'Strategy', 'Action', 'Modern', 'Action', 'Action', 'Action', 'Simulation', 'Simulation', 'Action Adventure', 'Adventure', 'Action', 'Adventure', 'Role-Playing', 'Miscellaneous', 'Role-Playing', 'Strategy', 'Role-Playing', 'Action Adventure', 'Puzzle', 'Strategy', 'Action', 'Role-Playing', 'Action', 'Action', 'Adventure', 'Action Adventure', 'Action', 'Action', 'Racing', 'Action Adventure', 'Sports', 'Action', 'Action', 'Traditional', 'Action', 'Action', 'Action', 'Role-Playing', 'Action Adventure', 'Action', 'Action Adventure', 'Miscellaneous', 'Sports', 'Action', 'Strategy', 'Action', 'Action Adventure', 'Sports', 'Action', 'Strategy', 'Action', 'Action Adventure', 'Sports', 'Action', 'Strategy', 'Action', 'Action Adventure', 'Sports', 'Action', 'Strategy', 'Action', 'Action Adventure', 'Sci-Fi', 'Action', 'Action', 'Action Adventure', 'Action', 'Sports', 'Action Adventure', 'Action', 'Driving', 'Miscellaneous', 'Action', 'Strategy', 'Action', 'Action', 'Action', 'Action', 'Miscellaneous', 'Role-Playing', 'Action Adventure', 'Driving', 'Action', 'Horror', 'Adventure', 'Action', 'Driving', 'Sports', 'Action Adventure', 'Role-Playing', 'Role-Playing', 'Action Adventure', 'Action', 'Strategy', 'Action Adventure', 'Role-Playing', 'Action Adventure', 'Action', 'Miscellaneous', 'Driving', 'Action', 'Adventure', 'Action', 'Action', 'Action Adventure', 'Adventure', 'Action Adventure', 'General', 'Action', 'Miscellaneous', 'Action', 'General', 'Role-Playing', 'Role-Playing', 'Role-Playing', 'Action', 'Action', 'Shooter', 'Action', 'Sports', 'Action', 'Strategy', 'Action', 'Adventure', 'Action Adventure', 'Action', 'Role-Playing', 'Action', 'Driving', 'Sports', 'Adventure', 'Action Adventure', 'Action', 'Sports', 'Driving', 'Action', 'Adventure', 'Strategy', 'Simulation', 'Sports', 'Action', 'Role-Playing', 'Action', 'Action Adventure', 'Action Adventure', 'Action', 'Action', 'Action', 'Action Adventure', 'Action Adventure', 'Action', 'Action', 'Action', 'Action Adventure', 'Action Adventure', 'Action', 'Action', 'Action', 'Action Adventure', 'Action Adventure', 'Action', 'Action', 'Action', 'Action', 'Action', 'Action Adventure', 'Role-Playing', 'Role-Playing', 'Simulation', 'Action', 'Strategy', 'Racing', 'Sports', 'Adventure', 'Strategy', 'Action', 'Sports', 'Driving', 'Action', 'Action Adventure', 'Simulation', 'Action Adventure', 'Action', 'Action', 'Driving', 'Action', 'Action', 'Role-Playing', 'Action', 'Role-Playing', 'Action', 'Driving', 'Racing', 'GT / Street', 'Role-Playing', 'Role-Playing', 'Action', 'Action', 'Action', 'Simulation', 'Simulation', 'Miscellaneous', 'Role-Playing', 'Action', 'Action', 'Action', 'Action', 'Action', 'Adventure', 'Action', 'Action', 'Miscellaneous', 'Strategy', 'Adventure', 'Action Adventure', 'Modern', 'Action', 'Miscellaneous', 'Adventure', 'Strategy', 'Sports', 'Sports', 'Action Adventure', 'Strategy', 'Role-Playing', 'Action Adventure', 'Action', 'Role-Playing', 'Role-Playing', 'Role-Playing', 'Action', 'Strategy', 'Miscellaneous', 'Action Adventure', 'Action', 'Miscellaneous', 'Action', 'Adventure', 'Strategy', 'Role-Playing', 'Action', 'Adventure', 'Action', 'Action Adventure', 'Action', 'Action', 'Action', 'Action', 'Action Adventure', 'Action', 'Action', 'Action', 'Action', 'Action Adventure', 'Action', 'Action', 'Action', 'Action', 'Action Adventure', 'Action', 'Action', 'Action', 'Sports', 'Action', 'Fighting', 'Action', 'Action', 'Simulation', 'Driving', 'Role-Playing', 'Action', 'Action', 'Action', 'Action Adventure', 'Adventure', 'Action', 'Action', 'Sports', 'Action Adventure', 'Action', 'Action Adventure', 'Driving', 'Role-Playing', 'Strategy', 'Action', 'Action Adventure', 'Action', 'Miscellaneous', 'Action', 'Action Adventure', 'Adventure', 'Action Adventure', 'Strategy', 'Driving', 'Action', 'Sports', 'Action', 'Strategy', 'Puzzle', 'Driving', 'Simulation', 'Role-Playing', 'Action', 'Action Adventure', 'Action', 'Action Adventure', 'Sports', 'Driving', 'Action', 'Racing', 'Action', 'Miscellaneous', 'Action', 'Action', 'Simulation', 'Action', 'Action Adventure', 'Role-Playing', 'Action', 'Action', 'Strategy', 'Action', 'Action', 'Action', '1-2', 'Driving', 'General', 'Action', 'Strategy', 'Action', 'Action', 'Sports', 'Strategy', 'Action', 'Driving', 'Strategy', 'Sports', 'Role-Playing', 'Driving', 'Miscellaneous', 'Action', 'Miscellaneous', 'Action RPG', 'Action', 'Action', 'Action', 'Simulation', 'Action RPG', 'Action', 'Action', 'Action', 'Simulation', 'Action RPG', 'Action', 'Action', 'Action', 'Simulation', 'Action RPG', 'Action', 'Action', 'Action', 'Simulation', 'Miscellaneous', 'Action', 'Action Adventure', 'Action Adventure', 'Action', 'Action', 'Action', 'Action', 'Action', 'Miscellaneous', 'Strategy', 'Miscellaneous', 'Action', 'Action', 'Action', 'Action', 'Adventure', 'Action Adventure', 'Action', 'Driving', 'Action', 'Action', 'Driving', 'Miscellaneous', 'Action Adventure', 'Action Adventure', 'Action Adventure', 'Adventure', 'Action', 'Adventure', 'Strategy', 'Action', 'General', 'Action RPG', 'Strategy', 'Action', 'Miscellaneous', 'Role-Playing', 'Miscellaneous', 'Simulation', 'Simulation', 'Action', 'Simulation', 'Role-Playing', 'Action', 'Action Adventure', 'Miscellaneous', 'Action Adventure', 'Action', 'Adventure', 'Strategy', 'Action', 'Action', 'Miscellaneous', 'Sports', 'Role-Playing', 'Role-Playing', 'Miscellaneous', 'Sports', 'Driving', 'Driving', 'Action', 'Role-Playing', 'Action', 'Action Adventure', 'Miscellaneous', 'Miscellaneous', 'Simulation', 'Action', 'Strategy', 'Action', 'Simulation', 'Fantasy', 'Role-Playing', 'Action', 'Role-Playing', 'Driving', 'Action', 'Traditional', 'Strategy', 'Adventure', 'Role-Playing', 'Action', 'Strategy', 'Strategy', 'Adventure', 'Role-Playing', 'Action', 'Strategy', 'Strategy', 'Adventure', 'Role-Playing', 'Action', 'Strategy', 'Strategy', 'Adventure', 'Role-Playing', 'Action', 'Strategy', 'Strategy', 'Action', 'Action', 'Strategy', 'Action Adventure', 'Action Adventure', 'Action', 'Action', 'Role-Playing', 'Action Adventure', 'Adventure', 'Miscellaneous', 'Action Adventure', 'Action Adventure', 'Role-Playing', 'Action Adventure', 'Action', 'Miscellaneous', 'Action', 'Miscellaneous', 'Adventure', 'Miscellaneous', 'Action', 'Action', 'Action', 'Adventure', 'Futuristic', 'Role-Playing', 'Action Adventure', 'Sports', 'Miscellaneous', 'Action', 'Action Adventure', 'Action RPG', 'Sports', 'Sports', 'Action', 'Action Adventure', 'Miscellaneous', 'Strategy', 'Action Adventure', 'Role-Playing', 'Action', 'Action', 'Action Adventure', 'Role-Playing', 'Action', 'Adventure', 'Strategy', 'Miscellaneous', 'Miscellaneous', 'Strategy', 'Action', 'Strategy', 'Role-Playing', 'Simulation', 'Action', 'Action', 'Shooter', 'Action', 'Action', 'Adventure', 'Simulation', 'Action Adventure', 'Strategy', 'Action', 'Action', 'Action Adventure', 'Action', 'Sports', 'Action', 'Action', 'Sports', 'Action Adventure', 'Simulation', 'Action Adventure', 'Role-Playing', 'Racing', 'Action', 'Racing', 'Miscellaneous', 'Action Adventure', 'Sports', 'Action', 'Miscellaneous', 'Miscellaneous', 'Action Adventure', 'Sports', 'Action', 'Miscellaneous', 'Miscellaneous', 'Action Adventure', 'Sports', 'Action', 'Miscellaneous', 'Miscellaneous', 'Action Adventure', 'Sports', 'Action', 'Miscellaneous', 'Miscellaneous', 'Action', 'Action', 'Miscellaneous', 'Action', 'Action', 'Action', 'Action', 'Driving', 'Action', 'Action', 'Adventure', 'Sports', 'Adventure', 'Sports', 'Action', 'Adventure', 'Action', 'Action', 'Driving', 'Action', 'Action', 'Action', 'Role-Playing', 'Action', 'Action', 'Action', 'Strategy', 'Miscellaneous', 'Action', 'Action', 'Miscellaneous', 'Miscellaneous', 'Action', 'Strategy', 'Role-Playing', 'Adventure', 'Sports', 'Action Adventure', 'Action', 'Action', 'General', 'Action', 'Action Adventure', 'Action', 'Miscellaneous', 'Simulation', 'Miscellaneous', 'Action', 'Action', 'Adventure', 'Action Adventure', 'Action', 'Action RPG', 'Action', 'Miscellaneous', 'Action Adventure', 'Adventure', 'Action Adventure', 'Strategy', 'Action Adventure', 'Driving', 'Sports', 'Action Adventure', 'Simulation', 'Action', 'Miscellaneous', 'Action', 'Action Adventure', 'Action', 'Action', 'Action Adventure', 'Role-Playing', 'Action', 'Action', 'Role-Playing', 'Driving', 'Strategy', 'Role-Playing', 'Role-Playing', 'Action', 'Action', 'Miscellaneous', 'Driving', 'Action', 'Action', 'Action', 'Miscellaneous', 'Driving', 'Action', 'Action', 'Action', 'Miscellaneous', 'Driving', 'Action', 'Action', 'Action', 'Miscellaneous', 'Driving', 'Action', 'Action', 'Action', 'Role-Playing', 'Driving', 'Simulation', 'Role-Playing', 'Action Adventure', 'Action Adventure', 'Action', 'Action', 'Driving', 'Action', 'Action Adventure', 'Action', 'Action Adventure', 'Action', 'Action', 'Action', 'Action', 'Strategy', 'Action', 'Action', 'Action', 'Sports', 'Role-Playing', 'Action', 'Driving', 'Action', 'Action', 'Adventure', 'Action', 'General', 'Sports', 'Driving', 'Action Adventure', 'Action Adventure', 'Simulation', 'Simulation', 'Role-Playing', 'Simulation', 'Puzzle', 'Action', 'Adventure', 'Action Adventure', 'Action Adventure', 'Miscellaneous', 'Action Adventure', 'Action', 'Role-Playing', 'Action', 'Action Adventure', 'Strategy', 'Miscellaneous', 'Action', 'Action Adventure', 'Driving', 'Action Adventure', 'Adventure', 'Action Adventure', 'Action Adventure', 'Adventure', 'Action', 'Action Adventure', 'Action', 'Action', 'Action', 'Action', 'Action Adventure', 'Role-Playing', 'Action', 'Action', 'Strategy', 'Miscellaneous', 'Action', 'Driving', 'Action Adventure', 'Role-Playing', 'Miscellaneous', 'Miscellaneous', 'Action', 'Action Adventure', 'Action', 'Simulation', 'Sports', 'Action', 'Strategy', 'Action', 'Simulation', 'Sports', 'Action', 'Strategy', 'Action', 'Simulation', 'Sports', 'Action', 'Strategy', 'Action', 'Simulation', 'Sports', 'Action', 'Strategy', 'Action Adventure', 'Action Adventure', 'Simulation', 'Strategy', 'Action Adventure', 'Action', 'Action', 'Action Adventure', 'Action', 'Strategy', 'No Online Multiplayer', 'Action Adventure', 'Sports', 'Racing', 'Sports', 'Action', 'Action', 'Sports', 'Role-Playing', 'Sports', 'Action Adventure', 'Action', 'Racing', 'Action', 'Miscellaneous', 'Role-Playing', 'Action Adventure', 'Driving', 'Action', 'Simulation', 'Action', 'Miscellaneous', 'Action', 'Action', 'Action', 'Driving', 'Action', 'Sports', 'Strategy', 'Strategy', 'Platformer', 'Role-Playing', 'Strategy', 'Action', 'Driving', 'Adventure', 'Action Adventure', 'Action Adventure', 'Action Adventure', 'Action', 'Action', 'Role-Playing', 'Role-Playing', 'Adventure', 'Action', 'Role-Playing', 'Sports', 'Action', 'Action', 'Adventure', 'Adventure', 'Sports', 'Simulation', 'Action', 'General', 'Role-Playing', 'Action', 'Action', 'Strategy', 'Action Adventure', 'Action', 'Driving', 'Driving', 'Sports', 'Action Adventure', 'Strategy', 'Strategy', 'Strategy', 'Sports', 'Adventure', 'Action Adventure', 'Action', 'Miscellaneous', 'Simulation', 'Adventure', 'Action Adventure', 'Action', 'Miscellaneous', 'Simulation', 'Adventure', 'Action Adventure', 'Action', 'Miscellaneous', 'Simulation', 'Adventure', 'Action Adventure', 'Action', 'Miscellaneous', 'Simulation', 'Adventure', 'Action Adventure', 'Action', 'Simulation', 'Action', 'Action', 'Adventure', 'Action Adventure', 'General', 'Sports', 'Sci-Fi', 'Role-Playing', 'Action', 'Role-Playing', 'Strategy', 'Action', 'Action', 'Adventure', 'Action Adventure', 'Driving', 'Action', 'Action', 'Simulation', 'Action Adventure', 'Action', 'Action', 'Strategy', 'Simulation', 'Driving', 'Action Adventure', 'Driving', 'Action', 'Driving', 'Action', 'Role-Playing', 'Sports', 'Action', 'Action Adventure', 'Strategy', 'Adventure', 'Action', 'Role-Playing', 'Miscellaneous', 'Action', 'Action', 'Driving', 'Driving', 'Sports', 'Action', 'Action', 'Sports', 'Action Adventure', 'Action Adventure', 'Driving', 'Action', 'Action Adventure', 'Adventure', 'Role-Playing', 'Puzzle', 'Action', 'Adventure', 'Action', 'Adventure', 'Adventure', 'Action', 'Action', 'Strategy', 'Racing', 'Miscellaneous', 'Sports', 'Action Adventure', 'Action', 'Action', 'Action', 'Action', 'Strategy', 'Action', 'Action', 'Action Adventure', 'Adventure', 'Action', 'Action', 'Simulation', 'Role-Playing', 'Action', 'Fantasy', 'Action', 'Simulation', 'Role-Playing', 'Action', 'Fantasy', 'Action', 'Simulation', 'Role-Playing', 'Action', 'Fantasy', 'Action', 'Simulation', 'Role-Playing', 'Action', 'Fantasy', 'Action', 'Sports', 'Sports', 'Miscellaneous', 'Action', 'Miscellaneous', 'Action', 'Role-Playing', 'Miscellaneous', 'Action Adventure', 'Action', 'Action', 'Strategy', 'Strategy', 'Sports', 'Action', 'Simulation', 'Action', 'Adventure', 'Simulation', 'Role-Playing', 'Racing', 'Action Adventure', 'Sports', 'Action', 'Action', 'Driving', 'Racing', 'Action', 'Miscellaneous', 'Action Adventure', 'Action Adventure', 'Action', 'Strategy', 'Action', 'Action', 'Role-Playing', 'Strategy', 'Adventure', 'Action', 'Sports', 'Strategy', 'Driving', 'Driving', 'Strategy', 'Strategy', 'Miscellaneous', 'Adventure', 'Action', 'Racing', 'Action', 'Action', 'Action Adventure', 'Action', 'Driving', 'Action', 'Sports', 'Strategy', 'Role-Playing', 'Strategy', 'Driving', 'Role-Playing', 'Action Adventure', 'Adventure', 'Strategy', 'Action', 'Role-Playing', 'Miscellaneous', 'Action', 'Action', 'Action Adventure', 'Miscellaneous', 'Adventure', 'Action', 'Action', 'Adventure', 'Action', 'Miscellaneous', 'Sports', 'Action Adventure', 'Strategy', 'Action', 'Miscellaneous', 'Sports', 'Action Adventure', 'Strategy', 'Action', 'Miscellaneous', 'Sports', 'Action Adventure', 'Strategy', 'Action', 'Miscellaneous', 'Sports', 'Action Adventure', 'Strategy', 'Sports', 'Strategy', 'Action Adventure', 'Adventure', 'Sports', 'Action Adventure', 'Action', 'Action', 'Action', 'Simulation', 'Action', 'General', 'Role-Playing', 'Action', 'Simulation', 'Action', 'Action Adventure', 'Adventure', 'Action', 'Sports', 'Driving', 'Action Adventure', 'Miscellaneous', 'Driving', 'Sports', 'Action', 'Action', 'Strategy', 'Action Adventure', 'Sports', 'Strategy', 'Sports', 'Action', 'Action', 'General', 'Simulation', 'Sports', 'Role-Playing', 'Driving', 'Action', 'Puzzle', 'Action', 'Miscellaneous', 'Simulation', 'Action', 'Action Adventure', 'Driving', 'Adventure', 'Action Adventure', 'Sports', 'Simulation', 'Sports', 'Adventure', 'Action', 'Action Adventure', 'Sports', 'Action', 'Action Adventure', 'Action Adventure', 'Driving', 'Action', 'Strategy', 'Action Adventure', 'Role-Playing', 'Action', 'Action', 'Action', 'Racing', 'Adventure', 'Strategy', 'Action Adventure', 'Action', 'Action Adventure', 'Action', 'Role-Playing', 'Action', 'Simulation', 'Racing', 'Fantasy', 'Action', 'Action Adventure', 'Role-Playing', 'Adventure', 'Action', 'Action', 'Action Adventure', 'Role-Playing', 'Adventure', 'Action', 'Action', 'Action Adventure', 'Role-Playing', 'Adventure', 'Action', 'Action', 'Action Adventure', 'Role-Playing', 'Adventure', 'Action', 'Action', 'Action', 'Miscellaneous', 'Action', 'Action', 'Action', 'Action Adventure', 'Action Adventure', 'Simulation', 'Action', 'Strategy', 'Driving', 'Driving', 'Strategy', 'Action Adventure', 'Driving', 'Strategy', 'Sports', 'Action', 'Sports', 'Action', 'Adventure', 'Driving', 'Action Adventure', 'Action', 'Action', 'Action', 'Action Adventure', 'Action', 'Simulation', 'Action', 'Driving', 'Role-Playing', 'Racing', 'Action Adventure', 'Strategy', 'Action', 'Action', 'Action Adventure', 'Sci-Fi', 'Action', 'Sports', 'Action', 'Strategy', 'Role-Playing', 'Action', 'Action', 'Action Adventure', 'Driving', 'Action', 'Sports', 'Strategy', 'Action', 'Action Adventure', 'Sports', 'Action Adventure', 'Action', 'Role-Playing', 'Action', 'Action Adventure', 'Role-Playing', 'Action', 'Role-Playing', 'Action', 'Action', 'Role-Playing', 'Strategy', 'Role-Playing', 'Action', 'Action', 'Role-Playing', 'Strategy', 'Role-Playing', 'Action', 'Action', 'Role-Playing', 'Strategy', 'Role-Playing', 'Action', 'Action', 'Role-Playing', 'Strategy', 'Action', 'Action', 'Role-Playing', 'Role-Playing', 'Strategy', 'Action', 'Action Adventure', 'Action', 'Action', 'Miscellaneous', 'Adventure', 'Action Adventure', 'Driving', 'Action', 'Action', 'Role-Playing', 'Adventure', 'Action', 'Simulation', 'Role-Playing', 'Miscellaneous', 'Sports', 'Action', 'Strategy', 'Role-Playing', 'Action', 'Action', 'Action', 'Miscellaneous', 'Role-Playing', 'Console-style RPG', 'Action', 'Adventure', 'Miscellaneous', 'Action', 'Adventure', 'Action Adventure', 'Action', 'Action Adventure', 'Action', 'Action', 'Miscellaneous', 'Action', 'Adventure', 'Action', 'Driving', 'Action', 'Adventure', 'Action', 'Driving', 'Action', 'Adventure', 'Action', 'Driving', 'Action', 'Adventure', 'Action', 'Action', 'Driving', 'Role-Playing', 'Action', 'Racing', 'Action', 'Action', 'Action', 'Role-Playing', 'Action Adventure', 'Strategy', 'Driving', 'Sports', 'Action Adventure', 'Sports', 'Action', 'Action', 'Action', 'Action', 'Action', 'Action', 'Action', 'Action', 'Action', 'Role-Playing', 'Action Adventure', 'Action', 'Action', 'Strategy', 'Action', 'Action Adventure', 'Action', 'Sports', 'Role-Playing', 'Strategy', 'Action', 'Action', 'Adventure', 'Role-Playing', 'Action', 'Action Adventure', 'Role-Playing', 'Action Adventure', 'Role-Playing', 'Action Adventure', 'Role-Playing', 'Action Adventure', 'Role-Playing', 'Strategy', 'Action Adventure', 'Action', 'Action', 'Action', 'Action', 'Sports', 'Action', 'Miscellaneous', 'Sports', 'Miscellaneous', 'Sports', 'Miscellaneous', 'Sports', 'Miscellaneous', 'Sports', 'Miscellaneous', 'Strategy', 'Action Adventure', 'Action', 'Action Adventure', 'Sports', 'Action Adventure', 'Action', 'Action', 'Sports', 'Simulation', 'Simulation', 'Simulation', 'Simulation', 'Action', 'Action', 'Action', 'Action', 'Role-Playing', 'Miscellaneous', 'Miscellaneous', 'Action', 'Action', 'Action Adventure', 'Action Adventure', 'Action', 'Action', 'Miscellaneous', 'Action Adventure', 'Action', 'Strategy', 'Driving', 'Action', 'Action', 'Role-Playing', 'Adventure', 'Strategy', 'Action Adventure', 'Tactical', 'Adventure', 'Action', 'Action', 'Sports', 'Sports', 'Action', 'Strategy', 'Action', 'Strategy', 'Miscellaneous', 'Action', 'Strategy', 'General', 'Miscellaneous', 'Action', 'Strategy', 'General', 'Miscellaneous', 'Action', 'Action', 'Strategy', 'General', 'Driving', 'Action Adventure', 'Action', 'Action', 'Driving', 'Miscellaneous', 'Role-Playing', 'Action Adventure', 'Miscellaneous', 'Puzzle', 'Strategy', 'Adventure', 'Action', 'Role-Playing', 'Action', 'Action', 'Action', 'Action', 'Action', 'Action', 'Action', 'Action', 'Sports', 'Action', 'Miscellaneous', 'Action', 'Action', 'Action', 'Action Adventure', 'Simulation', 'Sports', 'Action Adventure', 'Action', 'Action', 'Strategy', 'Adventure', 'Strategy', 'Platformer', 'Role-Playing', 'Action', 'Role-Playing', 'Platformer', 'Role-Playing', 'Action', 'Role-Playing', 'Sports', 'Platformer', 'Role-Playing', 'Action', 'Role-Playing', 'Sports', 'Platformer', 'Role-Playing', 'Action', 'Racing', 'Action', 'Action Adventure', 'Action', 'Action', 'Action', 'Role-Playing', 'Action', 'Action', 'Driving', 'Role-Playing', 'Action', 'Action', 'Action', 'Sports', 'Action Adventure', 'Action Adventure', 'Action', 'Role-Playing', 'Strategy', 'Action', 'Miscellaneous', 'Action', 'Role-Playing', 'Role-Playing', 'Strategy', 'Action Adventure', 'Sports', 'Driving', 'Sports', 'Role-Playing', 'Sports', 'Action Adventure', 'Action', 'Action Adventure', 'Action Adventure', 'Strategy', 'Action', 'Action', 'Strategy', 'Action Adventure', 'Action Adventure', 'Action Adventure', 'Driving', 'Driving', 'Action', 'Driving', 'Action', 'Action', 'Adventure', 'Action', 'Action Adventure', 'Action Adventure', 'Action', 'Action', 'Action', 'Action Adventure', 'Role-Playing', 'Action', 'Action Adventure', 'Action', 'Driving', 'Action', 'Action Adventure', 'Adventure', 'Sports', 'Role-Playing', 'Role-Playing', 'Action', 'Action', 'Action', 'Role-Playing', 'Role-Playing', 'Adventure', 'Role-Playing', 'Action', 'Miscellaneous', 'Role-Playing', 'Sports', 'Action Adventure', 'Simulation', 'Sci-Fi', 'Role-Playing', 'Sports', 'Action Adventure', 'Simulation', 'Sci-Fi', 'Role-Playing', 'Sports', 'Action Adventure', 'Simulation', 'Sci-Fi', 'Role-Playing', 'Sports', 'Action Adventure', 'Simulation', 'Sci-Fi', 'Strategy', 'Role-Playing', 'Action Adventure', 'Action Adventure', 'Driving', 'Strategy', 'Adventure', 'Miscellaneous', 'Action', 'Role-Playing', 'Miscellaneous', 'Action Adventure', 'Strategy', 'Action', 'Adventure', 'Adventure', 'Action', 'Strategy', 'Sports', 'Sports', 'Driving', 'Action Adventure', 'Action', 'Driving', 'Miscellaneous', 'Action', 'On GameFAQs', 'Action', 'Adventure', 'Flight', 'Miscellaneous', 'Action', 'Role-Playing', 'Action', 'Action', 'Action', 'Role-Playing', 'Role-Playing', 'Role-Playing', 'Action Adventure', 'Action', 'Strategy', 'Action Adventure', 'Action Adventure', 'Sports', 'Strategy', 'Action', 'Adventure', 'Action', 'Role-Playing', 'Action Adventure', 'Miscellaneous', 'Role-Playing', 'Racing', 'Action', 'Simulation', 'Driving', 'Action', 'Action', 'Role-Playing', 'Action', 'Adventure', 'Action', 'Action', 'Action', 'Action', 'Sports', 'Driving', 'Sports', 'Action Adventure', 'Miscellaneous', 'Role-Playing', 'Action', 'Action', 'Miscellaneous', 'Adventure', 'Action', 'Simulation', 'Sports', 'Action', 'Action Adventure', 'Action Adventure', 'Simulation', 'Sports', 'Action', 'Action Adventure', 'Action Adventure', 'Simulation', 'Sports', 'Action', 'Action Adventure', 'Action Adventure', 'Simulation', 'Sports', 'Action', 'Action Adventure', 'Action Adventure', 'Adventure', 'Action Adventure', 'Action', 'Action', 'Driving', 'Miscellaneous', 'Simulation', 'Action', 'Action Adventure', 'Action', 'Action', 'Miscellaneous', 'Action', 'Strategy', 'Role-Playing', 'Action Adventure', 'Action', 'Miscellaneous', 'Sports', 'Action', 'Miscellaneous', 'Action', 'Miscellaneous', 'Adventure', 'Action Adventure', 'Action', 'Action Adventure', 'Sports', 'Racing', 'Fantasy', 'Miscellaneous', 'Action', 'Action Adventure', 'Action', 'Driving', 'Action', 'Action', 'Action', 'Miscellaneous', 'Role-Playing', 'Action Adventure', 'Sports', 'Action', 'Action', 'Action', 'Adventure', 'General', 'Action', 'Simulation', 'Action', 'Action', 'Sports', 'Sports', 'Driving', 'Action', 'Action', 'Action Adventure', 'Simulation', 'Action Adventure', 'Adventure', 'Action', 'Action', 'Action', 'Action', 'Action', 'Action', 'Action Adventure', 'Role-Playing', 'Action', 'Action', 'Driving', 'Action', 'Action', 'Action', 'Role-Playing', 'Strategy', 'Racing', 'Action', 'Strategy', 'Strategy', 'Miscellaneous', 'Action', 'Action', 'Action', 'Role-Playing', 'Miscellaneous', 'Action', 'Action', 'Action', 'Role-Playing', 'Miscellaneous', 'Action', 'Action', 'Action', 'Role-Playing', 'Miscellaneous', 'Action', 'Action', 'Action', 'Role-Playing', 'Miscellaneous', 'Adventure', 'Adventure', 'Shooter', 'Action', 'Action Adventure', 'Simulation', 'Role-Playing', 'Miscellaneous', 'Sports', 'Role-Playing', 'Action Adventure', 'Action Adventure', 'Tactical', 'Action', 'Action Adventure', 'Role-Playing', 'Action Adventure', 'Miscellaneous', 'Action Adventure', 'Action Adventure', 'Strategy', 'Sports', 'Miscellaneous', 'Action', 'Simulation', 'Strategy', 'Role-Playing', 'Miscellaneous', 'Strategy', 'Driving', 'Action', 'Action Adventure', 'Miscellaneous', 'Miscellaneous', '6 Online', 'Driving', 'Action Adventure', 'Miscellaneous', 'Strategy', 'Action', 'Sports', 'Action', 'Action', 'Action', 'Action', 'Action', 'Adventure', 'Action', 'Action', 'Action', 'Action', 'Action Adventure', 'Action Adventure', 'Role-Playing', 'Simulation', 'Miscellaneous', 'Action', 'Adventure', 'Action', 'Action', 'Miscellaneous', 'Miscellaneous', 'Action', 'Adventure', 'Action', 'Sports', 'Action', 'Miscellaneous', 'Sports', 'Role-Playing', 'Simulation', 'Action', 'Action Adventure', 'Driving', 'Action', 'Simulation', 'Action', 'Sports', 'Miscellaneous', 'Action', 'Action Adventure', 'Action', 'Role-Playing', 'Strategy', 'Action', 'Action Adventure', 'Action', 'Role-Playing', 'Strategy', 'Action', 'Action Adventure', 'Action', 'Role-Playing', 'Strategy', 'Action', 'Action Adventure', 'Action', 'Role-Playing', 'Strategy', 'Miscellaneous', 'Action', 'Action Adventure', 'Action Adventure', 'Action Adventure', 'Role-Playing', 'Role-Playing', 'Strategy', 'Sports', 'Action', 'Adventure', 'Strategy', 'Miscellaneous', 'Sports', 'Action Adventure', 'Miscellaneous', 'Action', 'Action', 'Driving', 'Action', 'Role-Playing', 'Sports', 'Adventure', 'Action', 'Action Adventure', 'Strategy', 'Strategy', 'Miscellaneous', 'Action', 'Role-Playing', 'Action', 'Action', 'Action Adventure', 'Action', 'Action', 'Strategy', 'Action', 'Action', 'Action', 'Action', 'Action Adventure', 'Role-Playing', 'Action', 'Action', 'Adventure', 'Miscellaneous', 'Action', 'Miscellaneous', 'Role-Playing', 'Racing', 'Miscellaneous', 'Action Adventure', 'Action Adventure', 'Action', 'Simulation', 'Action Adventure', 'Action Adventure', 'Role-Playing', 'Action', 'Adventure', 'Sports', 'Miscellaneous', 'Action', 'Action', 'Role-Playing', 'Driving', 'Action', 'Strategy', 'Action', 'Action', 'Adventure', 'Action', 'Action', 'Role-Playing', 'Action Adventure', 'Miscellaneous', 'Strategy', 'Sports', 'Role-Playing', 'Adventure', 'Adventure', 'Strategy', 'Miscellaneous', 'Action', 'Action Adventure', 'Adventure', 'Strategy', 'Miscellaneous', 'Action', 'Action Adventure', 'Adventure', 'Strategy', 'Miscellaneous', 'Action', 'Action Adventure', 'Adventure', 'Strategy', 'Miscellaneous', 'Action', 'Action Adventure', 'Action Adventure', 'Action', 'Role-Playing', 'Miscellaneous', 'Adventure', 'Action Adventure', 'Adventure', 'Action Adventure', 'Driving', 'Action', 'Action', 'Action Adventure', 'Action', 'Action Adventure', 'Driving', 'Action Adventure', 'Action', 'Driving', 'Action', 'Action', 'Action Adventure', 'Sports', 'Role-Playing', 'Action Adventure', 'Action', 'Action', 'Strategy', 'Action', 'Strategy', 'Action Adventure', 'Action Adventure', 'Driving', 'Action Adventure', 'General', 'Action', 'Shooter', 'Driving', 'Strategy', 'Adventure', 'Adventure', 'Action', 'Action', 'Action Adventure', 'Role-Playing', 'Simulation', 'Action', 'Action', 'Action Adventure', 'Strategy', 'Action', 'Action Adventure', 'Action', 'Role-Playing', 'Driving', 'Action', 'Action', 'Action', 'Driving', 'Action', 'Action Adventure', 'Miscellaneous', 'On GameFAQs', 'Action', 'Action Adventure', 'Shooter', 'Platformer', 'Sports', 'Action Adventure', 'Action', 'Action Adventure', 'Sports', 'Action', 'Action', 'Action', 'Action', 'Action', 'Miscellaneous', 'Sports', 'Strategy', 'Driving', 'Simulation', 'Action', 'Miscellaneous', 'Action Adventure', 'Action', 'Simulation', 'Action', 'Miscellaneous', 'Action Adventure', 'Action', 'Simulation', 'Action', 'Miscellaneous', 'Action Adventure', 'Action', 'Simulation', 'Action', 'Miscellaneous', 'Action Adventure', 'Action', 'Action', 'Action', 'Action', 'Strategy', 'Driving', 'Action', 'Action Adventure', 'Action', 'Miscellaneous', 'Strategy', 'Strategy', 'Shooter', 'Miscellaneous', 'Action Adventure', 'Action', 'Action Adventure', 'Sports', 'Sports', 'Action Adventure', 'Sports', 'Action', 'Action Adventure', 'Adventure', 'Adventure', 'Action Adventure', 'Action', 'Action', 'Role-Playing', 'Role-Playing', 'Action', 'Action', 'Action RPG', 'Action', 'Action', 'Action', 'Action', 'Action', 'Role-Playing', 'Sports', 'Sci-Fi', 'Action Adventure', 'Sports', 'Modern', 'Strategy', 'Role-Playing', 'Action Adventure', 'Action', 'Action', 'Sports', 'Simulation', 'Action', 'Action', 'Driving', 'Sports', 'Driving', 'Driving', 'Action', 'Strategy', 'Action Adventure', 'Adventure', 'Driving', 'Action Adventure', 'Action', 'Action Adventure', 'Action', 'Driving', 'Miscellaneous', 'Driving', 'Driving', 'Action', 'Sports', 'Sports', 'Action', 'Role-Playing', 'Action', 'Action', 'Strategy', 'Strategy', 'Action', 'Action', 'Action', 'Adventure', 'Adventure', 'Action', 'Action Adventure', 'Action', 'Adventure', 'Adventure', 'Action', 'Action Adventure', 'Action', 'Adventure', 'Adventure', 'Action', 'Action Adventure', 'Action', 'Adventure', 'Adventure', 'Action', 'Action Adventure', 'Action Adventure', 'Action', 'Role-Playing', 'Adventure', 'Action Adventure', 'Miscellaneous', 'Action', 'Action', 'Action', 'Simulation', 'Action', 'Adventure', 'Action', 'Strategy', 'Miscellaneous', 'Action', 'Action', 'Miscellaneous', 'Action', 'Action', 'Miscellaneous', 'Action', 'Action', 'Action', 'Driving', 'Sports', 'Sports', 'Puzzle', 'Strategy', 'Simulation', 'Action', 'Sports', 'Action', 'Racing', 'Action Adventure', 'Action', 'Action Adventure', 'Action Adventure', 'Driving', 'Action', 'Action Adventure', 'Action Adventure', 'Sports', 'Action Adventure', 'Action Adventure', 'Simulation', 'Simulation', 'Action', 'Strategy', 'Action Adventure', 'Action Adventure', 'Action Adventure', 'Action Adventure', 'Puzzle', 'Action', 'Miscellaneous', 'Driving', 'Action Adventure', 'Action', 'Action', 'Role-Playing', 'Action', 'Horror', 'Driving', 'Role-Playing', 'Action Adventure', 'Simulation', 'Action Adventure', 'Sports', 'Simulation', 'Action', 'Action', 'Simulation', 'Action Adventure', 'Action', 'General', 'Action', 'Action', 'Simulation', 'Action Adventure', 'Sports', 'Action Adventure', 'Driving', 'Action Adventure', 'Action', 'Sports', 'Action Adventure', 'Driving', 'Action Adventure', 'Action', 'Sports', 'Action Adventure', 'Driving', 'Action Adventure', 'Action', 'Sports', 'Action Adventure', 'Driving', 'Action Adventure', 'Action', 'Action', 'Action', 'Action', 'Action', 'Action', 'Action', 'Adventure', 'Action Adventure', 'Action Adventure', 'Action Adventure', 'Role-Playing', 'Sports', 'Role-Playing', 'Action', 'Action', 'Role-Playing', 'Role-Playing', 'Role-Playing', 'Miscellaneous', 'Simulation', 'Action', 'Adventure', 'Action', 'Role-Playing', 'Action', 'Action Adventure', 'Action', 'Miscellaneous', 'Simulation', 'Miscellaneous', 'Role-Playing', 'Action', 'Strategy', 'Adventure', 'Role-Playing', 'Action Adventure', 'Action', 'Horror', 'Action', 'Driving', 'Action', 'Driving', 'Action', 'Action', 'Action Adventure', 'Strategy', 'Action Adventure', 'Action', 'Adventure', 'Adventure', 'Action', 'Action', 'Miscellaneous', 'Strategy', 'Driving', 'Action', 'Action', 'Action', 'Action', 'Role-Playing', 'Action', 'Action', 'Action', 'Action Adventure', 'Sports', 'Action', 'Action', 'Strategy', 'Role-Playing', 'Action', 'Strategy', 'Action Adventure', 'Action Adventure', 'Miscellaneous', 'Miscellaneous', 'Strategy', 'Action', 'Adventure', 'Action', 'Action', 'Role-Playing', 'Action', 'Strategy', 'Action', 'Driving', 'Role-Playing', 'Action', 'Strategy', 'Action', 'Driving', 'Role-Playing', 'Action', 'Strategy', 'Action', 'Driving', 'Role-Playing', 'Action', 'Strategy', 'Action', 'Driving', 'Action', 'Role-Playing', 'Action', 'Driving', 'Action', 'Action', 'Sports', 'Action', 'Action', 'Action', 'Action', 'Action Adventure', 'Role-Playing', 'Action', 'Action', 'Action', 'Sports', 'Action Adventure', 'Simulation', 'Role-Playing', 'Role-Playing', 'Sports', 'Action', 'Adventure', 'Sports', 'Action Adventure', 'Action', 'Action', 'Action', 'Role-Playing', 'Adventure', 'Role-Playing', 'Sports', 'Action', 'Action Adventure', 'Action', 'Role-Playing', 'Miscellaneous', 'Driving', 'Miscellaneous', 'Action', 'Driving', 'Sports', 'Sports', 'Action Adventure', 'Action', 'Adventure', 'Action Adventure', 'Miscellaneous', 'Action Adventure', 'Strategy', 'Strategy', 'Action', 'Action Adventure', 'Action', 'Simulation', 'Action', 'Action Adventure', 'Action', 'Action', 'Action', 'Action', 'Strategy', 'Action', 'Miscellaneous', 'Action Adventure', 'Action', 'Action', 'Action', 'Action', 'Simulation', 'Role-Playing', 'Action', 'Simulation', 'Driving', 'Action', 'Action', 'Driving', 'Miscellaneous', 'Action', 'Role-Playing', 'Action', 'Action', 'Sports', 'Action', 'Role-Playing', 'Action', 'Action', 'Sports', 'Action', 'Role-Playing', 'Action', 'Action', 'Sports', 'Action', 'Role-Playing', 'Action', 'Action', 'Sports', 'Action', 'Sports', 'Action', 'Miscellaneous', 'Action', 'Adventure', 'Miscellaneous', 'Action', 'Adventure', 'Action Adventure', 'Action', 'Action', 'Miscellaneous', 'Action', 'Action', 'Action Adventure', 'Driving', 'Action Adventure', 'Action Adventure', 'Action', 'Driving', 'Action', 'Action', 'Action', 'Sports', 'Role-Playing', 'Strategy', 'Sports', 'First-Person', 'Role-Playing', 'Action', 'Miscellaneous', 'Action', 'Action', 'Action Adventure', 'Action Adventure', 'Action', 'Action', 'Strategy', 'Role-Playing', 'Strategy', 'Action Adventure', 'Action', 'Miscellaneous', 'Action', 'Miscellaneous', 'Sports', 'Simulation', 'Action', 'Miscellaneous', 'Action Adventure', 'Action', 'Strategy', 'Action', 'Racing', 'Action', 'Action', 'Action', 'Miscellaneous', 'WWII', 'Miscellaneous', 'Action', 'Miscellaneous', 'Puzzle', 'Action Adventure', 'Racing', '1 Player', 'Miscellaneous', 'Miscellaneous', 'Role-Playing', 'Action', 'Action Adventure', 'Adventure', 'Modern', 'Simulation', 'Action Adventure', 'Role-Playing', 'Platformer', 'Action', 'Role-Playing', 'Action', 'Driving', 'Action', 'Role-Playing', 'Action', 'Sports', 'Driving', 'Action', 'Role-Playing', 'Action', 'Sports', 'Driving', 'Action', 'Role-Playing', 'Action', 'Sports', 'Driving', 'Action', 'Role-Playing', 'Action', 'Sports', 'Sports', 'Action', 'Adventure', 'Action', 'Action', 'Action', 'Action', 'Strategy', 'Action', 'Role-Playing', 'Strategy', 'Action', 'Sports', 'Role-Playing', 'Action', 'Simulation', 'Action Adventure', 'Action Adventure', 'Action', 'Driving', 'Miscellaneous', 'Sports', 'Role-Playing', 'Action', 'Action', 'Action', 'Role-Playing', 'Action', 'Sci-Fi', 'Action Adventure', 'Horror', 'Action', 'Action', 'Strategy', 'Driving', 'Action', 'Driving', 'Role-Playing', 'Action', 'Puzzle', 'Action', 'Action Adventure', 'Action', 'Adventure', 'Strategy', 'Sports', 'Sports', 'Miscellaneous', 'Action', 'Driving', 'Action', 'Action', 'Action', 'Sports', 'Action', 'Adventure', 'Action Adventure', 'Sports', 'Action', 'Miscellaneous', 'Strategy', 'Strategy', 'Sports', 'Sports', 'Simulation', 'Role-Playing', 'Driving', 'Action', 'Strategy', 'Adventure', 'Action Adventure', 'Action', 'Action', 'Sports', 'Action', 'Sports', 'Action', 'Driving', 'Action', 'Action', 'Action', 'Action Adventure', 'Action', 'Action Adventure', 'Miscellaneous', 'Action', 'Action Adventure', 'Action', 'Action Adventure', 'Miscellaneous', 'Action', 'Action Adventure', 'Action', 'Action Adventure', 'Miscellaneous', 'Action', 'Action Adventure', 'Action', 'Action Adventure', 'Miscellaneous', 'Driving', 'Miscellaneous', 'Action', 'Sports', 'Driving', 'Simulation', 'Adventure', 'Sports', 'Fantasy', 'Role-Playing', 'Strategy', 'Action', 'Action', 'Action', 'Role-Playing', 'Role-Playing', 'Action', 'Driving', 'Action Adventure', 'Strategy', 'Role-Playing', 'Action', 'Action', 'Action', 'Action Adventure', 'Action', 'Simulation', 'Racing', 'Adventure', 'Miscellaneous', 'Action Adventure', 'Action', 'Action', 'Driving', 'Action Adventure', 'Third-Person', 'Simulation', 'Action', 'Sports', 'Action Adventure', 'Action', 'Action', 'Action Adventure', 'Simulation', 'Adventure', 'Sports', 'Action', 'Strategy', 'Role-Playing', 'Simulation', 'General', 'Action Adventure', 'Role-Playing', 'Action Adventure', 'Adventure', 'Action', 'Puzzle', 'Action', 'Action Adventure', 'Action', 'Strategy', 'Action', 'Miscellaneous', 'Simulation', 'Action', 'Action', 'Action', 'Action', 'Miscellaneous', 'Action', 'Action Adventure', 'Action', 'Sports', 'Action Adventure', 'Role-Playing', 'Action', 'Miscellaneous', 'Action Adventure', 'Driving', 'Strategy', 'Racing', 'Role-Playing', 'Driving', 'Action', 'Action', 'Racing', 'Role-Playing', 'Driving', 'Action', 'Action', 'Racing', 'Role-Playing', 'Driving', 'Action', 'Action', 'Racing', 'Role-Playing', 'Driving', 'Action', 'Action', 'Strategy', 'Sports', 'Simulation', 'Racing', 'Action Adventure', 'Action', 'Driving', 'Miscellaneous', 'Simulation', 'Action', 'Action', 'Action', 'Action Adventure', 'Action', 'Action', 'Role-Playing', 'Action Adventure', 'Action', 'Action Adventure', 'Action', 'Action', 'Action', 'Action', 'Action', 'Sports', 'Action', 'Miscellaneous', 'Action', 'Simulation', 'Action Adventure', 'Role-Playing', 'Action Adventure', 'Role-Playing', 'Role-Playing', 'Action', 'Strategy', 'Driving', 'Sports', 'Strategy', 'Adventure', 'Miscellaneous', 'Action', 'Action Adventure', 'Role-Playing', 'Action Adventure', 'Sports', 'Sports', 'Driving', 'Action', 'Action', 'Role-Playing', 'Strategy', 'Action', 'Strategy', 'Action', 'Miscellaneous', 'Action', 'Simulation', 'Role-Playing', 'Action Adventure', 'Action', 'Adventure', 'Action', 'Strategy', 'Action', 'Role-Playing', 'Driving', 'Action', 'General', 'Sports', 'Action', 'Sports', 'Sports', 'Action Adventure', 'Action', 'Action Adventure', 'Driving', 'Action Adventure', 'Action', 'Action', 'Action', 'Action', 'Driving', 'Action', 'Adventure', 'Action', 'Action', 'Driving', 'Action', 'Adventure', 'Action', 'Action', 'Driving', 'Action', 'Adventure', 'Action', 'Action', 'Driving', 'Action', 'Adventure', 'Role-Playing', 'Sports', 'Sports', 'Action', 'Action', 'Sports', 'Sports', 'Action', 'Strategy', 'Action', 'Action', 'Sports', 'Miscellaneous', 'Action', 'Sports', 'Action', 'Action', 'Action', 'Driving', 'Action', 'Action Adventure', 'Role-Playing', 'Action', 'Action Adventure', 'Miscellaneous', 'Action', 'Driving', 'Action Adventure', 'Simulation', 'Miscellaneous', 'Role-Playing', 'Action', 'Action', 'Miscellaneous', 'Strategy', 'Action Adventure', 'Action', 'Action', 'Action', 'Action', 'Action', 'Action', 'Driving', 'Action', 'Action', 'Adventure', 'Action Adventure', 'Strategy', 'Strategy', 'Action', 'Action', 'Action Adventure', 'Action', 'Sports', 'Action', 'Driving', 'Action', 'Role-Playing', 'Puzzle', 'Action Adventure', 'Action Adventure', 'Action', 'Action', 'Action Adventure', 'Action', 'Driving', 'Miscellaneous', 'Action', 'Action', 'Action', 'Action Adventure', 'Action', 'Sports', 'Driving', 'Action', 'Sports', 'Adventure', 'Action Adventure', 'Miscellaneous', 'Sports', 'Simulation', 'Action', 'Action', 'Strategy', 'Action', 'Simulation', 'Action', 'Action', 'Strategy', 'Action', 'Simulation', 'Action', 'Action', 'Strategy', 'Action', 'Simulation', 'Action', 'Action', 'Strategy', 'Action', 'Action', 'Role-Playing', 'Action', 'Strategy', 'Sports', 'Sports', 'Action', 'Action', 'Action Adventure', 'Action', 'Action', 'Action', 'Role-Playing', 'Driving', 'Action', 'Strategy', 'Action Adventure', 'Action', 'Action', 'Action', 'Sports', 'Action', 'Strategy', 'Sports', 'Sports', 'Action Adventure', 'Action', 'Role-Playing', 'Action', 'Sports', 'Action', 'Role-Playing', 'Action', 'Role-Playing', 'Shooter', 'Action', 'Action', 'Action Adventure', 'Action', 'Miscellaneous', 'Action Adventure', 'Action', 'Role-Playing', 'Role-Playing', 'Action', 'Driving', 'Action Adventure', 'Action', 'Action', 'Strategy', 'Action', 'On GameFAQs', 'Strategy', 'Sports', 'Action', 'Strategy', 'Modern', 'Action', 'General', 'Action', 'Sports', 'Miscellaneous', 'Miscellaneous', 'Action', 'Action', 'Action Adventure', 'Miscellaneous', 'Action', 'Action', 'Action', 'Simulation', 'Sports', 'Action', 'Action Adventure', 'Horror', 'Action', 'Action', 'Action Adventure', 'Adventure', 'Sports', 'Action', 'Action', 'Miscellaneous', 'Driving', 'Action Adventure', 'Action', 'Action', 'Miscellaneous', 'Driving', 'Action Adventure', 'Action', 'Action', 'Miscellaneous', 'Driving', 'Action Adventure', 'Action', 'Action', 'Miscellaneous', 'Driving', 'Action Adventure', 'Action', 'Tycoon', 'Action', 'Driving', 'Action', 'Arcade', 'Action', 'Action', 'Action', 'Action', 'Action', 'Miscellaneous', 'Action', 'Action Adventure', 'Sports', 'Action', 'Adventure', 'Role-Playing', 'Driving', 'Role-Playing', 'Role-Playing', 'Strategy', 'Action', 'Action Adventure', 'Strategy', 'Action Adventure', 'Action', 'Action', 'Strategy', 'Adventure', 'Action Adventure', 'Action', 'Action', 'Role-Playing', 'Miscellaneous', 'Role-Playing', 'Role-Playing', 'Miscellaneous', 'Action', 'Simulation', 'Role-Playing', 'Action', 'Racing', 'Adventure', 'Action', 'Action Adventure', 'Action', 'Action', 'Sports', 'Action', 'Miscellaneous', 'Action Adventure', 'Role-Playing', 'Action Adventure', 'Action', 'Strategy', 'Strategy', 'Action', 'Racing', 'Adventure', 'Sports', 'Adventure', 'Driving', 'Driving', 'Action', 'PC-style RPG', 'Action', 'Sports', 'Action', 'Action Adventure', 'Simulation', 'Action', 'Sports', 'Sports', 'Sports', 'Adventure', 'Action', 'Action', 'General', 'Driving', 'Action', 'Sports', 'Action', 'Action Adventure', 'Action', 'Action', 'Sports', 'Action', 'Action Adventure', 'Action', 'Action', 'Sports', 'Action', 'Action Adventure', 'Action', 'Action', 'Sports', 'Action', 'Action Adventure', 'Action', 'Action', 'Miscellaneous', 'Sports', 'Action Adventure', '1 Player', 'Sports', 'Strategy', 'Action', 'Driving', 'Sports', 'Action', 'Miscellaneous', 'Sports', 'Action', 'Strategy', 'Action', 'Action Adventure', 'Action Adventure', 'Action', 'Action', 'Adventure', 'Simulation', 'Role-Playing', 'Racing', 'General', 'Adventure', 'Simulation', 'Action', 'Action', 'Historic', 'Action', 'Action Adventure', 'Action Adventure', 'Action Adventure', 'Simulation', 'Action', 'Action', 'Action', 'Driving', 'Action', 'Driving', 'Action', 'Action Adventure', 'Role-Playing', 'Action Adventure', 'Driving', 'Action', 'Action', 'Action', 'Sports', 'Action Adventure', 'Action', 'Action Adventure', 'Action', 'Action', 'Simulation', 'Action Adventure', 'Action', 'Action', 'Miscellaneous', 'Sports', 'Action', 'Simulation', 'Adventure', 'Sports', 'Action', 'Action', 'Action', 'Action Adventure', 'Action', 'Sports', 'Action', 'Action', 'Action Adventure', 'Action', 'Action', 'Action Adventure', 'Action Adventure', 'Strategy', 'Action Adventure', 'Action Adventure', 'Action', 'Action Adventure', 'Action', 'Adventure', 'Action Adventure', 'Action', 'Action Adventure', 'Action', 'Adventure', 'Action Adventure', 'Action', 'Action Adventure', 'Action', 'Adventure', 'Action Adventure', 'Action', 'Action Adventure', 'Action', 'Adventure', 'Miscellaneous', 'Action Adventure', 'Action', 'Action', 'Action', 'Action', 'Adventure', 'Action', 'Sports', 'Action Adventure', 'Driving', 'Adventure', 'Action', 'Miscellaneous', 'Action Adventure', 'Action Adventure', 'Adventure', 'Sports', 'Action', 'Action', 'Action Adventure', 'Action', 'Action', 'Action', 'Driving', 'Driving', 'Action', 'Action', 'Action', 'Action', 'Action', 'Action', 'Action', 'Strategy', 'Driving', 'Driving', 'Action Adventure', 'Action Adventure', 'Action', 'Action', 'Action', 'Action Adventure', 'Action', 'Action', 'Sports', 'Strategy', 'Action', 'Sports', 'Action', 'Action', 'Action', 'Action', 'Action Adventure', 'Action Adventure', 'Action', 'Adventure', 'Action', 'Action', 'Action Adventure', 'Action', 'Strategy', 'Action Adventure', 'Sports', 'Action Adventure', 'Action', 'Simulation', 'Action', 'Action', 'Action', 'Sports', 'Action', 'Action', 'Action Adventure', 'Action', 'Action', 'Action Adventure', 'Action', 'Sports', 'Sports', 'Driving', 'Miscellaneous', 'Role-Playing', 'Miscellaneous', 'Sports', 'Sports', 'Miscellaneous', 'Role-Playing', 'Miscellaneous', 'Sports', 'Sports', 'Miscellaneous', 'Role-Playing', 'Miscellaneous', 'Sports', 'Sports', 'Miscellaneous', 'Role-Playing', 'Miscellaneous', 'Sports', 'Sports', 'Role-Playing', 'Adventure', 'Action', 'Action Adventure', 'Miscellaneous', 'Action', 'Action', 'Action', 'Action Adventure', 'Action', 'Miscellaneous', 'Strategy', 'Action', 'Action', 'Sports', 'Action', 'Action', 'Action', 'Action', 'Arcade', 'Racing', 'Action', 'Action', 'Action', 'Action', 'Action', 'Miscellaneous', 'Action', 'Simulation', 'Action', 'Sports', 'Action', 'Action Adventure', 'Simulation', 'Action', 'Action', 'Action', 'Action Adventure', 'Driving', 'Action', 'Action', 'Role-Playing', 'Action', 'Role-Playing', 'Action', 'Role-Playing', 'Action', 'Action', 'Action', 'Action', 'Action', 'Action', 'Action Adventure', 'Action Adventure', 'Action', 'Miscellaneous', 'Action', 'Driving', 'Action', 'Action Adventure', 'Action', 'Sports', 'Sports', 'Action', 'Action Adventure', 'Adventure', 'Action', 'Action', 'Action Adventure', 'Action', 'Role-Playing', 'Adventure', 'Action', 'Action', 'Sports', 'Strategy', 'Action', 'Driving', 'Action', 'Action', 'Action', 'Action', 'Action Adventure', 'Action Adventure', 'Action', 'Action', 'Action', 'Action Adventure', 'Action Adventure', 'Action', 'Action', 'Action', 'Action Adventure', 'Action Adventure', 'Action', 'Action', 'Action', 'Action Adventure', 'Action Adventure', 'Action', 'Action', 'Miscellaneous', 'Action Adventure', 'Action', 'Action', 'Action', 'Sports', 'Simulation', 'Simulation', 'Action Adventure', 'Action', 'Action Adventure', 'Strategy', 'Action', 'Shooter', 'Role-Playing', 'Action', 'Simulation', 'Action', 'Action', 'Action', 'Action', 'Action', 'Action', 'Sports', 'Action', 'Adventure', 'Action', 'Action Adventure', 'General', 'Action', 'Action', 'Miscellaneous', 'Action', 'Action', 'Action', 'Miscellaneous', 'Action', 'Driving', 'Strategy', 'Action', 'Sports', 'Action', 'Action', 'Action', 'Sports', 'Strategy', 'Action', 'Action', 'Adventure', 'Sports', 'Miscellaneous', 'Action', 'Driving', 'Strategy', 'Sports', 'Action', 'Action Adventure', 'Action', 'Action', 'Action Adventure', 'Action', 'Action', 'Miscellaneous', 'Action Adventure', 'Action', 'Action', 'Action', 'Action', 'Adventure', 'Action Adventure', 'Action', 'Racing', 'Miscellaneous', 'Action', 'Action', 'Action Adventure', 'Action', 'Online Multiplayer', 'Simulation']\n",
            "Total Indices to Drop:  512\n"
          ]
        }
      ],
      "source": [
        "# Total Primary Genres\n",
        "print(\"Total Primary Genres: \", len(primary_genre_list))\n",
        "print(primary_genre_list)\n",
        "\n",
        "# Total Indices to Drop\n",
        "print(\"Total Indices to Drop: \", len(indices_to_drop))"
      ]
    },
    {
      "cell_type": "code",
      "execution_count": 14,
      "metadata": {
        "id": "kF4TRbR_xidt"
      },
      "outputs": [],
      "source": [
        "# Drop Empty Genre Data\n",
        "df = df.drop(indices_to_drop).reset_index(drop=True)"
      ]
    },
    {
      "cell_type": "code",
      "execution_count": 15,
      "metadata": {
        "id": "B0SMaxTdxkS7"
      },
      "outputs": [],
      "source": [
        "# Create a Column Named Primary Genre\n",
        "df[\"Primary Genre\"] = primary_genre_list"
      ]
    },
    {
      "cell_type": "code",
      "execution_count": 16,
      "metadata": {
        "colab": {
          "base_uri": "https://localhost:8080/"
        },
        "id": "Ush7WUBixlqT",
        "outputId": "dc067465-fb97-4f4c-a54b-d5e4d9515273"
      },
      "outputs": [
        {
          "name": "stdout",
          "output_type": "stream",
          "text": [
            "Primary Genre Value Count: \n"
          ]
        },
        {
          "data": {
            "text/plain": [
              "Action                6436\n",
              "Action Adventure      2579\n",
              "Role-Playing          2081\n",
              "Sports                1620\n",
              "Strategy              1608\n",
              "                      ... \n",
              "Party / Minigame         1\n",
              "Survival                 1\n",
              "Street                   1\n",
              "Dancing                  1\n",
              "Online Multiplayer       1\n",
              "Name: Primary Genre, Length: 70, dtype: int64"
            ]
          },
          "execution_count": 16,
          "metadata": {},
          "output_type": "execute_result"
        }
      ],
      "source": [
        "# Individual Primary Genre Values Count\n",
        "print(\"Primary Genre Value Count: \")\n",
        "df[\"Primary Genre\"].value_counts()"
      ]
    },
    {
      "cell_type": "code",
      "execution_count": 17,
      "metadata": {
        "colab": {
          "base_uri": "https://localhost:8080/",
          "height": 441
        },
        "id": "Z4rntxfHxmQC",
        "outputId": "d80bede5-73fd-4f82-8309-abc5663a5999"
      },
      "outputs": [
        {
          "data": {
            "text/html": [
              "\n",
              "\n",
              "  <div id=\"df-4cf228aa-875e-453f-821e-68c483dbb79e\">\n",
              "    <div class=\"colab-df-container\">\n",
              "      <div>\n",
              "<style scoped>\n",
              "    .dataframe tbody tr th:only-of-type {\n",
              "        vertical-align: middle;\n",
              "    }\n",
              "\n",
              "    .dataframe tbody tr th {\n",
              "        vertical-align: top;\n",
              "    }\n",
              "\n",
              "    .dataframe thead th {\n",
              "        text-align: right;\n",
              "    }\n",
              "</style>\n",
              "<table border=\"1\" class=\"dataframe\">\n",
              "  <thead>\n",
              "    <tr style=\"text-align: right;\">\n",
              "      <th></th>\n",
              "      <th>Name</th>\n",
              "      <th>Summary</th>\n",
              "      <th>Genres</th>\n",
              "      <th>Primary Genre</th>\n",
              "    </tr>\n",
              "  </thead>\n",
              "  <tbody>\n",
              "    <tr>\n",
              "      <th>0</th>\n",
              "      <td>The Legend of Zelda: Ocarina of Time</td>\n",
              "      <td>As a young boy, Link is tricked by Ganondorf, the King of the Gerudo Thieves. The evil human uses Link to gain access to the Sacred Realm, where he places his tainted hands on Triforce and transforms the beautiful Hyrulean landscape into a barren wasteland. Link is determined to fix the problems he helped to create, so with the help of Rauru he travels through time gathering the powers of the Seven Sages.</td>\n",
              "      <td>['Action Adventure', 'Fantasy']</td>\n",
              "      <td>Action Adventure</td>\n",
              "    </tr>\n",
              "    <tr>\n",
              "      <th>1</th>\n",
              "      <td>Tony Hawk's Pro Skater 2</td>\n",
              "      <td>As most major publishers' development efforts shift to any number of next-generation platforms, Tony Hawk 2 will likely stand as one of the last truly fantastic games to be released on the PlayStation.</td>\n",
              "      <td>['Sports', 'Alternative', 'Skateboarding']</td>\n",
              "      <td>Sports</td>\n",
              "    </tr>\n",
              "    <tr>\n",
              "      <th>2</th>\n",
              "      <td>Grand Theft Auto IV</td>\n",
              "      <td>[Metacritic's 2008 PS3 Game of the Year; Also known as \"GTA IV\"] What does the American Dream mean today? For Niko Belic, fresh off the boat from Europe. It's the hope he can escape his past. For his cousin, Roman, it is the vision that together they can find fortune in Liberty City, gateway to the land of opportunity. As they slip into debt and are dragged into a criminal underworld by a series of shysters, thieves and sociopaths, they discover that the reality is very different from the dream in a city that worships money and status, and is heaven for those who have them an a living nigh...</td>\n",
              "      <td>['Action Adventure', 'Modern', 'Modern', 'Open-World']</td>\n",
              "      <td>Action Adventure</td>\n",
              "    </tr>\n",
              "    <tr>\n",
              "      <th>3</th>\n",
              "      <td>SoulCalibur</td>\n",
              "      <td>This is a tale of souls and swords, transcending the world and all its history, told for all eternity... The greatest weapons-based fighter returns, this time on Sega Dreamcast. Soul Calibur unleashes incredible graphics, fantastic fighters, and combos so amazing they'll make your head spin!</td>\n",
              "      <td>['Action', 'Fighting', '3D']</td>\n",
              "      <td>Action</td>\n",
              "    </tr>\n",
              "    <tr>\n",
              "      <th>4</th>\n",
              "      <td>Grand Theft Auto IV</td>\n",
              "      <td>[Metacritic's 2008 Xbox 360 Game of the Year; Also known as \"GTA IV\"] What does the American Dream mean today? For Niko Belic, fresh off the boat from Europe. It's the hope he can escape his past. For his cousin, Roman, it is the vision that together they can find fortune in Liberty City, gateway to the land of opportunity. As they slip into debt and are dragged into a criminal underworld by a series of shysters, thieves and sociopaths, they discover that the reality is very different from the dream in a city that worships money and status, and is heaven for those who have them an a living...</td>\n",
              "      <td>['Action Adventure', 'Modern', 'Modern', 'Open-World']</td>\n",
              "      <td>Action Adventure</td>\n",
              "    </tr>\n",
              "  </tbody>\n",
              "</table>\n",
              "</div>\n",
              "      <button class=\"colab-df-convert\" onclick=\"convertToInteractive('df-4cf228aa-875e-453f-821e-68c483dbb79e')\"\n",
              "              title=\"Convert this dataframe to an interactive table.\"\n",
              "              style=\"display:none;\">\n",
              "\n",
              "  <svg xmlns=\"http://www.w3.org/2000/svg\" height=\"24px\"viewBox=\"0 0 24 24\"\n",
              "       width=\"24px\">\n",
              "    <path d=\"M0 0h24v24H0V0z\" fill=\"none\"/>\n",
              "    <path d=\"M18.56 5.44l.94 2.06.94-2.06 2.06-.94-2.06-.94-.94-2.06-.94 2.06-2.06.94zm-11 1L8.5 8.5l.94-2.06 2.06-.94-2.06-.94L8.5 2.5l-.94 2.06-2.06.94zm10 10l.94 2.06.94-2.06 2.06-.94-2.06-.94-.94-2.06-.94 2.06-2.06.94z\"/><path d=\"M17.41 7.96l-1.37-1.37c-.4-.4-.92-.59-1.43-.59-.52 0-1.04.2-1.43.59L10.3 9.45l-7.72 7.72c-.78.78-.78 2.05 0 2.83L4 21.41c.39.39.9.59 1.41.59.51 0 1.02-.2 1.41-.59l7.78-7.78 2.81-2.81c.8-.78.8-2.07 0-2.86zM5.41 20L4 18.59l7.72-7.72 1.47 1.35L5.41 20z\"/>\n",
              "  </svg>\n",
              "      </button>\n",
              "\n",
              "\n",
              "\n",
              "    <div id=\"df-79d6c255-93c5-4021-b8b0-dc9e677caf37\">\n",
              "      <button class=\"colab-df-quickchart\" onclick=\"quickchart('df-79d6c255-93c5-4021-b8b0-dc9e677caf37')\"\n",
              "              title=\"Suggest charts.\"\n",
              "              style=\"display:none;\">\n",
              "\n",
              "<svg xmlns=\"http://www.w3.org/2000/svg\" height=\"24px\"viewBox=\"0 0 24 24\"\n",
              "     width=\"24px\">\n",
              "    <g>\n",
              "        <path d=\"M19 3H5c-1.1 0-2 .9-2 2v14c0 1.1.9 2 2 2h14c1.1 0 2-.9 2-2V5c0-1.1-.9-2-2-2zM9 17H7v-7h2v7zm4 0h-2V7h2v10zm4 0h-2v-4h2v4z\"/>\n",
              "    </g>\n",
              "</svg>\n",
              "      </button>\n",
              "    </div>\n",
              "\n",
              "<style>\n",
              "  .colab-df-quickchart {\n",
              "    background-color: #E8F0FE;\n",
              "    border: none;\n",
              "    border-radius: 50%;\n",
              "    cursor: pointer;\n",
              "    display: none;\n",
              "    fill: #1967D2;\n",
              "    height: 32px;\n",
              "    padding: 0 0 0 0;\n",
              "    width: 32px;\n",
              "  }\n",
              "\n",
              "  .colab-df-quickchart:hover {\n",
              "    background-color: #E2EBFA;\n",
              "    box-shadow: 0px 1px 2px rgba(60, 64, 67, 0.3), 0px 1px 3px 1px rgba(60, 64, 67, 0.15);\n",
              "    fill: #174EA6;\n",
              "  }\n",
              "\n",
              "  [theme=dark] .colab-df-quickchart {\n",
              "    background-color: #3B4455;\n",
              "    fill: #D2E3FC;\n",
              "  }\n",
              "\n",
              "  [theme=dark] .colab-df-quickchart:hover {\n",
              "    background-color: #434B5C;\n",
              "    box-shadow: 0px 1px 3px 1px rgba(0, 0, 0, 0.15);\n",
              "    filter: drop-shadow(0px 1px 2px rgba(0, 0, 0, 0.3));\n",
              "    fill: #FFFFFF;\n",
              "  }\n",
              "</style>\n",
              "\n",
              "    <script>\n",
              "      async function quickchart(key) {\n",
              "        const containerElement = document.querySelector('#' + key);\n",
              "        const charts = await google.colab.kernel.invokeFunction(\n",
              "            'suggestCharts', [key], {});\n",
              "      }\n",
              "    </script>\n",
              "\n",
              "\n",
              "      <script>\n",
              "\n",
              "function displayQuickchartButton(domScope) {\n",
              "  let quickchartButtonEl =\n",
              "    domScope.querySelector('#df-79d6c255-93c5-4021-b8b0-dc9e677caf37 button.colab-df-quickchart');\n",
              "  quickchartButtonEl.style.display =\n",
              "    google.colab.kernel.accessAllowed ? 'block' : 'none';\n",
              "}\n",
              "\n",
              "        displayQuickchartButton(document);\n",
              "      </script>\n",
              "      <style>\n",
              "    .colab-df-container {\n",
              "      display:flex;\n",
              "      flex-wrap:wrap;\n",
              "      gap: 12px;\n",
              "    }\n",
              "\n",
              "    .colab-df-convert {\n",
              "      background-color: #E8F0FE;\n",
              "      border: none;\n",
              "      border-radius: 50%;\n",
              "      cursor: pointer;\n",
              "      display: none;\n",
              "      fill: #1967D2;\n",
              "      height: 32px;\n",
              "      padding: 0 0 0 0;\n",
              "      width: 32px;\n",
              "    }\n",
              "\n",
              "    .colab-df-convert:hover {\n",
              "      background-color: #E2EBFA;\n",
              "      box-shadow: 0px 1px 2px rgba(60, 64, 67, 0.3), 0px 1px 3px 1px rgba(60, 64, 67, 0.15);\n",
              "      fill: #174EA6;\n",
              "    }\n",
              "\n",
              "    [theme=dark] .colab-df-convert {\n",
              "      background-color: #3B4455;\n",
              "      fill: #D2E3FC;\n",
              "    }\n",
              "\n",
              "    [theme=dark] .colab-df-convert:hover {\n",
              "      background-color: #434B5C;\n",
              "      box-shadow: 0px 1px 3px 1px rgba(0, 0, 0, 0.15);\n",
              "      filter: drop-shadow(0px 1px 2px rgba(0, 0, 0, 0.3));\n",
              "      fill: #FFFFFF;\n",
              "    }\n",
              "  </style>\n",
              "\n",
              "      <script>\n",
              "        const buttonEl =\n",
              "          document.querySelector('#df-4cf228aa-875e-453f-821e-68c483dbb79e button.colab-df-convert');\n",
              "        buttonEl.style.display =\n",
              "          google.colab.kernel.accessAllowed ? 'block' : 'none';\n",
              "\n",
              "        async function convertToInteractive(key) {\n",
              "          const element = document.querySelector('#df-4cf228aa-875e-453f-821e-68c483dbb79e');\n",
              "          const dataTable =\n",
              "            await google.colab.kernel.invokeFunction('convertToInteractive',\n",
              "                                                     [key], {});\n",
              "          if (!dataTable) return;\n",
              "\n",
              "          const docLinkHtml = 'Like what you see? Visit the ' +\n",
              "            '<a target=\"_blank\" href=https://colab.research.google.com/notebooks/data_table.ipynb>data table notebook</a>'\n",
              "            + ' to learn more about interactive tables.';\n",
              "          element.innerHTML = '';\n",
              "          dataTable['output_type'] = 'display_data';\n",
              "          await google.colab.output.renderOutput(dataTable, element);\n",
              "          const docLink = document.createElement('div');\n",
              "          docLink.innerHTML = docLinkHtml;\n",
              "          element.appendChild(docLink);\n",
              "        }\n",
              "      </script>\n",
              "    </div>\n",
              "  </div>\n"
            ],
            "text/plain": [
              "                                   Name  \\\n",
              "0  The Legend of Zelda: Ocarina of Time   \n",
              "1              Tony Hawk's Pro Skater 2   \n",
              "2                   Grand Theft Auto IV   \n",
              "3                           SoulCalibur   \n",
              "4                   Grand Theft Auto IV   \n",
              "\n",
              "                                                                                                                                                                                                                                                                                                                                                                                                                                                                                                                                                                                                                   Summary  \\\n",
              "0                                                                                                                                                                                                 As a young boy, Link is tricked by Ganondorf, the King of the Gerudo Thieves. The evil human uses Link to gain access to the Sacred Realm, where he places his tainted hands on Triforce and transforms the beautiful Hyrulean landscape into a barren wasteland. Link is determined to fix the problems he helped to create, so with the help of Rauru he travels through time gathering the powers of the Seven Sages.   \n",
              "1                                                                                                                                                                                                                                                                                                                                                                                                                As most major publishers' development efforts shift to any number of next-generation platforms, Tony Hawk 2 will likely stand as one of the last truly fantastic games to be released on the PlayStation.   \n",
              "2  [Metacritic's 2008 PS3 Game of the Year; Also known as \"GTA IV\"] What does the American Dream mean today? For Niko Belic, fresh off the boat from Europe. It's the hope he can escape his past. For his cousin, Roman, it is the vision that together they can find fortune in Liberty City, gateway to the land of opportunity. As they slip into debt and are dragged into a criminal underworld by a series of shysters, thieves and sociopaths, they discover that the reality is very different from the dream in a city that worships money and status, and is heaven for those who have them an a living nigh...   \n",
              "3                                                                                                                                                                                                                                                                                                                     This is a tale of souls and swords, transcending the world and all its history, told for all eternity... The greatest weapons-based fighter returns, this time on Sega Dreamcast. Soul Calibur unleashes incredible graphics, fantastic fighters, and combos so amazing they'll make your head spin!   \n",
              "4  [Metacritic's 2008 Xbox 360 Game of the Year; Also known as \"GTA IV\"] What does the American Dream mean today? For Niko Belic, fresh off the boat from Europe. It's the hope he can escape his past. For his cousin, Roman, it is the vision that together they can find fortune in Liberty City, gateway to the land of opportunity. As they slip into debt and are dragged into a criminal underworld by a series of shysters, thieves and sociopaths, they discover that the reality is very different from the dream in a city that worships money and status, and is heaven for those who have them an a living...   \n",
              "\n",
              "                                                   Genres     Primary Genre  \n",
              "0                         ['Action Adventure', 'Fantasy']  Action Adventure  \n",
              "1              ['Sports', 'Alternative', 'Skateboarding']            Sports  \n",
              "2  ['Action Adventure', 'Modern', 'Modern', 'Open-World']  Action Adventure  \n",
              "3                            ['Action', 'Fighting', '3D']            Action  \n",
              "4  ['Action Adventure', 'Modern', 'Modern', 'Open-World']  Action Adventure  "
            ]
          },
          "execution_count": 17,
          "metadata": {},
          "output_type": "execute_result"
        }
      ],
      "source": [
        "# After Inserting Primary Genre\n",
        "df.head()"
      ]
    },
    {
      "cell_type": "markdown",
      "metadata": {
        "id": "b37lLPTvxpGL"
      },
      "source": [
        "### Removing Rare Genres"
      ]
    },
    {
      "cell_type": "code",
      "execution_count": 18,
      "metadata": {
        "colab": {
          "base_uri": "https://localhost:8080/"
        },
        "id": "JPKeoi2kxpdk",
        "outputId": "b8ded870-7d65-46dd-ed0f-6719fce03954"
      },
      "outputs": [
        {
          "name": "stdout",
          "output_type": "stream",
          "text": [
            "Total Rare Genres:  58\n"
          ]
        }
      ],
      "source": [
        "genre_count = df[\"Primary Genre\"].value_counts()\n",
        "threshold = int(len(df) * 0.004)\n",
        "\n",
        "rare_genres = [item for item, count in genre_count.items() if count < threshold]\n",
        "\n",
        "print(\"Total Rare Genres: \", len(rare_genres))"
      ]
    },
    {
      "cell_type": "code",
      "execution_count": 19,
      "metadata": {
        "colab": {
          "base_uri": "https://localhost:8080/"
        },
        "id": "fZGdq8mtxs00",
        "outputId": "62315d2b-b960-4935-ca0a-38e8f761b124"
      },
      "outputs": [
        {
          "name": "stdout",
          "output_type": "stream",
          "text": [
            "Total Rare Indices to Drop:  493\n"
          ]
        }
      ],
      "source": [
        "# Rare indices to drop\n",
        "rare_indices_to_drop = [index for index, row in df.iterrows() if row[\"Primary Genre\"] in rare_genres]\n",
        "\n",
        "print(\"Total Rare Indices to Drop: \", len(rare_indices_to_drop))"
      ]
    },
    {
      "cell_type": "code",
      "execution_count": 20,
      "metadata": {
        "id": "H8VddZB4xww6"
      },
      "outputs": [],
      "source": [
        "# Drop Rare Genres\n",
        "df = df.drop(rare_indices_to_drop).reset_index(drop=True)"
      ]
    },
    {
      "cell_type": "code",
      "execution_count": 21,
      "metadata": {
        "colab": {
          "base_uri": "https://localhost:8080/"
        },
        "id": "SOI6j4LKxyUI",
        "outputId": "912d3530-b870-49f6-ac11-c56ea7308350"
      },
      "outputs": [
        {
          "data": {
            "text/plain": [
              "(19401, 4)"
            ]
          },
          "execution_count": 21,
          "metadata": {},
          "output_type": "execute_result"
        }
      ],
      "source": [
        "# Shape After Dropping Rare Genres\n",
        "df.shape"
      ]
    },
    {
      "cell_type": "code",
      "execution_count": 22,
      "metadata": {
        "colab": {
          "base_uri": "https://localhost:8080/"
        },
        "id": "5n8s0kCCxzzG",
        "outputId": "098d66c7-2e19-4ffc-83f7-fa5359e7feb2"
      },
      "outputs": [
        {
          "name": "stdout",
          "output_type": "stream",
          "text": [
            "Total Remaining Genres Count:  12\n",
            "Individual Genres Count: \n"
          ]
        },
        {
          "data": {
            "text/plain": [
              "Action              6436\n",
              "Action Adventure    2579\n",
              "Role-Playing        2081\n",
              "Sports              1620\n",
              "Strategy            1608\n",
              "Miscellaneous       1366\n",
              "Adventure           1346\n",
              "Driving              921\n",
              "Simulation           640\n",
              "Racing               355\n",
              "General              249\n",
              "Puzzle               200\n",
              "Name: Primary Genre, dtype: int64"
            ]
          },
          "execution_count": 22,
          "metadata": {},
          "output_type": "execute_result"
        }
      ],
      "source": [
        "# Show Remaining Primary Genres\n",
        "print(\"Total Remaining Genres Count: \", len(df[\"Primary Genre\"].value_counts()))\n",
        "\n",
        "print(\"Individual Genres Count: \")\n",
        "df[\"Primary Genre\"].value_counts()"
      ]
    },
    {
      "cell_type": "code",
      "execution_count": 23,
      "metadata": {
        "id": "U0V2fQahx1-v"
      },
      "outputs": [],
      "source": [
        "# Drop Genres Column\n",
        "df.drop([\"Genres\"], axis = 1, inplace = True)"
      ]
    },
    {
      "cell_type": "code",
      "execution_count": 24,
      "metadata": {
        "id": "CCNXSwM2x3by"
      },
      "outputs": [],
      "source": [
        "# Drop Duplicate Summary from the DataFrame\n",
        "df = df.drop_duplicates(subset = \"Summary\", keep='first')"
      ]
    },
    {
      "cell_type": "code",
      "execution_count": 25,
      "metadata": {
        "colab": {
          "base_uri": "https://localhost:8080/",
          "height": 271
        },
        "id": "azQVl7mFx5I4",
        "outputId": "5bbb2d45-39a2-48f5-a247-7c54efbb16e3"
      },
      "outputs": [
        {
          "data": {
            "text/html": [
              "\n",
              "\n",
              "  <div id=\"df-9cb89362-601e-45e2-81df-cb6952b940d7\">\n",
              "    <div class=\"colab-df-container\">\n",
              "      <div>\n",
              "<style scoped>\n",
              "    .dataframe tbody tr th:only-of-type {\n",
              "        vertical-align: middle;\n",
              "    }\n",
              "\n",
              "    .dataframe tbody tr th {\n",
              "        vertical-align: top;\n",
              "    }\n",
              "\n",
              "    .dataframe thead th {\n",
              "        text-align: right;\n",
              "    }\n",
              "</style>\n",
              "<table border=\"1\" class=\"dataframe\">\n",
              "  <thead>\n",
              "    <tr style=\"text-align: right;\">\n",
              "      <th></th>\n",
              "      <th>Name</th>\n",
              "      <th>Summary</th>\n",
              "      <th>Primary Genre</th>\n",
              "    </tr>\n",
              "  </thead>\n",
              "  <tbody>\n",
              "    <tr>\n",
              "      <th>count</th>\n",
              "      <td>15038</td>\n",
              "      <td>15037</td>\n",
              "      <td>15038</td>\n",
              "    </tr>\n",
              "    <tr>\n",
              "      <th>unique</th>\n",
              "      <td>12412</td>\n",
              "      <td>15037</td>\n",
              "      <td>12</td>\n",
              "    </tr>\n",
              "    <tr>\n",
              "      <th>top</th>\n",
              "      <td>MX vs. ATV Untamed</td>\n",
              "      <td>As a young boy, Link is tricked by Ganondorf, the King of the Gerudo Thieves. The evil human uses Link to gain access to the Sacred Realm, where he places his tainted hands on Triforce and transforms the beautiful Hyrulean landscape into a barren wasteland. Link is determined to fix the problems he helped to create, so with the help of Rauru he travels through time gathering the powers of the Seven Sages.</td>\n",
              "      <td>Action</td>\n",
              "    </tr>\n",
              "    <tr>\n",
              "      <th>freq</th>\n",
              "      <td>6</td>\n",
              "      <td>1</td>\n",
              "      <td>4916</td>\n",
              "    </tr>\n",
              "  </tbody>\n",
              "</table>\n",
              "</div>\n",
              "      <button class=\"colab-df-convert\" onclick=\"convertToInteractive('df-9cb89362-601e-45e2-81df-cb6952b940d7')\"\n",
              "              title=\"Convert this dataframe to an interactive table.\"\n",
              "              style=\"display:none;\">\n",
              "\n",
              "  <svg xmlns=\"http://www.w3.org/2000/svg\" height=\"24px\"viewBox=\"0 0 24 24\"\n",
              "       width=\"24px\">\n",
              "    <path d=\"M0 0h24v24H0V0z\" fill=\"none\"/>\n",
              "    <path d=\"M18.56 5.44l.94 2.06.94-2.06 2.06-.94-2.06-.94-.94-2.06-.94 2.06-2.06.94zm-11 1L8.5 8.5l.94-2.06 2.06-.94-2.06-.94L8.5 2.5l-.94 2.06-2.06.94zm10 10l.94 2.06.94-2.06 2.06-.94-2.06-.94-.94-2.06-.94 2.06-2.06.94z\"/><path d=\"M17.41 7.96l-1.37-1.37c-.4-.4-.92-.59-1.43-.59-.52 0-1.04.2-1.43.59L10.3 9.45l-7.72 7.72c-.78.78-.78 2.05 0 2.83L4 21.41c.39.39.9.59 1.41.59.51 0 1.02-.2 1.41-.59l7.78-7.78 2.81-2.81c.8-.78.8-2.07 0-2.86zM5.41 20L4 18.59l7.72-7.72 1.47 1.35L5.41 20z\"/>\n",
              "  </svg>\n",
              "      </button>\n",
              "\n",
              "\n",
              "\n",
              "    <div id=\"df-c2b13365-3eea-4cd2-b589-15d8ec831313\">\n",
              "      <button class=\"colab-df-quickchart\" onclick=\"quickchart('df-c2b13365-3eea-4cd2-b589-15d8ec831313')\"\n",
              "              title=\"Suggest charts.\"\n",
              "              style=\"display:none;\">\n",
              "\n",
              "<svg xmlns=\"http://www.w3.org/2000/svg\" height=\"24px\"viewBox=\"0 0 24 24\"\n",
              "     width=\"24px\">\n",
              "    <g>\n",
              "        <path d=\"M19 3H5c-1.1 0-2 .9-2 2v14c0 1.1.9 2 2 2h14c1.1 0 2-.9 2-2V5c0-1.1-.9-2-2-2zM9 17H7v-7h2v7zm4 0h-2V7h2v10zm4 0h-2v-4h2v4z\"/>\n",
              "    </g>\n",
              "</svg>\n",
              "      </button>\n",
              "    </div>\n",
              "\n",
              "<style>\n",
              "  .colab-df-quickchart {\n",
              "    background-color: #E8F0FE;\n",
              "    border: none;\n",
              "    border-radius: 50%;\n",
              "    cursor: pointer;\n",
              "    display: none;\n",
              "    fill: #1967D2;\n",
              "    height: 32px;\n",
              "    padding: 0 0 0 0;\n",
              "    width: 32px;\n",
              "  }\n",
              "\n",
              "  .colab-df-quickchart:hover {\n",
              "    background-color: #E2EBFA;\n",
              "    box-shadow: 0px 1px 2px rgba(60, 64, 67, 0.3), 0px 1px 3px 1px rgba(60, 64, 67, 0.15);\n",
              "    fill: #174EA6;\n",
              "  }\n",
              "\n",
              "  [theme=dark] .colab-df-quickchart {\n",
              "    background-color: #3B4455;\n",
              "    fill: #D2E3FC;\n",
              "  }\n",
              "\n",
              "  [theme=dark] .colab-df-quickchart:hover {\n",
              "    background-color: #434B5C;\n",
              "    box-shadow: 0px 1px 3px 1px rgba(0, 0, 0, 0.15);\n",
              "    filter: drop-shadow(0px 1px 2px rgba(0, 0, 0, 0.3));\n",
              "    fill: #FFFFFF;\n",
              "  }\n",
              "</style>\n",
              "\n",
              "    <script>\n",
              "      async function quickchart(key) {\n",
              "        const containerElement = document.querySelector('#' + key);\n",
              "        const charts = await google.colab.kernel.invokeFunction(\n",
              "            'suggestCharts', [key], {});\n",
              "      }\n",
              "    </script>\n",
              "\n",
              "\n",
              "      <script>\n",
              "\n",
              "function displayQuickchartButton(domScope) {\n",
              "  let quickchartButtonEl =\n",
              "    domScope.querySelector('#df-c2b13365-3eea-4cd2-b589-15d8ec831313 button.colab-df-quickchart');\n",
              "  quickchartButtonEl.style.display =\n",
              "    google.colab.kernel.accessAllowed ? 'block' : 'none';\n",
              "}\n",
              "\n",
              "        displayQuickchartButton(document);\n",
              "      </script>\n",
              "      <style>\n",
              "    .colab-df-container {\n",
              "      display:flex;\n",
              "      flex-wrap:wrap;\n",
              "      gap: 12px;\n",
              "    }\n",
              "\n",
              "    .colab-df-convert {\n",
              "      background-color: #E8F0FE;\n",
              "      border: none;\n",
              "      border-radius: 50%;\n",
              "      cursor: pointer;\n",
              "      display: none;\n",
              "      fill: #1967D2;\n",
              "      height: 32px;\n",
              "      padding: 0 0 0 0;\n",
              "      width: 32px;\n",
              "    }\n",
              "\n",
              "    .colab-df-convert:hover {\n",
              "      background-color: #E2EBFA;\n",
              "      box-shadow: 0px 1px 2px rgba(60, 64, 67, 0.3), 0px 1px 3px 1px rgba(60, 64, 67, 0.15);\n",
              "      fill: #174EA6;\n",
              "    }\n",
              "\n",
              "    [theme=dark] .colab-df-convert {\n",
              "      background-color: #3B4455;\n",
              "      fill: #D2E3FC;\n",
              "    }\n",
              "\n",
              "    [theme=dark] .colab-df-convert:hover {\n",
              "      background-color: #434B5C;\n",
              "      box-shadow: 0px 1px 3px 1px rgba(0, 0, 0, 0.15);\n",
              "      filter: drop-shadow(0px 1px 2px rgba(0, 0, 0, 0.3));\n",
              "      fill: #FFFFFF;\n",
              "    }\n",
              "  </style>\n",
              "\n",
              "      <script>\n",
              "        const buttonEl =\n",
              "          document.querySelector('#df-9cb89362-601e-45e2-81df-cb6952b940d7 button.colab-df-convert');\n",
              "        buttonEl.style.display =\n",
              "          google.colab.kernel.accessAllowed ? 'block' : 'none';\n",
              "\n",
              "        async function convertToInteractive(key) {\n",
              "          const element = document.querySelector('#df-9cb89362-601e-45e2-81df-cb6952b940d7');\n",
              "          const dataTable =\n",
              "            await google.colab.kernel.invokeFunction('convertToInteractive',\n",
              "                                                     [key], {});\n",
              "          if (!dataTable) return;\n",
              "\n",
              "          const docLinkHtml = 'Like what you see? Visit the ' +\n",
              "            '<a target=\"_blank\" href=https://colab.research.google.com/notebooks/data_table.ipynb>data table notebook</a>'\n",
              "            + ' to learn more about interactive tables.';\n",
              "          element.innerHTML = '';\n",
              "          dataTable['output_type'] = 'display_data';\n",
              "          await google.colab.output.renderOutput(dataTable, element);\n",
              "          const docLink = document.createElement('div');\n",
              "          docLink.innerHTML = docLinkHtml;\n",
              "          element.appendChild(docLink);\n",
              "        }\n",
              "      </script>\n",
              "    </div>\n",
              "  </div>\n"
            ],
            "text/plain": [
              "                      Name  \\\n",
              "count                15038   \n",
              "unique               12412   \n",
              "top     MX vs. ATV Untamed   \n",
              "freq                     6   \n",
              "\n",
              "                                                                                                                                                                                                                                                                                                                                                                                                                         Summary  \\\n",
              "count                                                                                                                                                                                                                                                                                                                                                                                                                      15037   \n",
              "unique                                                                                                                                                                                                                                                                                                                                                                                                                     15037   \n",
              "top     As a young boy, Link is tricked by Ganondorf, the King of the Gerudo Thieves. The evil human uses Link to gain access to the Sacred Realm, where he places his tainted hands on Triforce and transforms the beautiful Hyrulean landscape into a barren wasteland. Link is determined to fix the problems he helped to create, so with the help of Rauru he travels through time gathering the powers of the Seven Sages.   \n",
              "freq                                                                                                                                                                                                                                                                                                                                                                                                                           1   \n",
              "\n",
              "       Primary Genre  \n",
              "count          15038  \n",
              "unique            12  \n",
              "top           Action  \n",
              "freq            4916  "
            ]
          },
          "execution_count": 25,
          "metadata": {},
          "output_type": "execute_result"
        }
      ],
      "source": [
        "# Description of The DataFrame\n",
        "df.describe(include=\"object\")"
      ]
    },
    {
      "cell_type": "markdown",
      "metadata": {
        "id": "St6FEOnLx7BB"
      },
      "source": [
        "## Data Processing"
      ]
    },
    {
      "cell_type": "markdown",
      "metadata": {
        "id": "BdobvOE6x9CO"
      },
      "source": [
        "### Tokenization"
      ]
    },
    {
      "cell_type": "code",
      "execution_count": 26,
      "metadata": {
        "colab": {
          "base_uri": "https://localhost:8080/",
          "height": 36
        },
        "id": "iYdzq0XTx7Xq",
        "outputId": "026ccbc4-64a0-4c2e-ba7d-34492e59e1f1"
      },
      "outputs": [
        {
          "data": {
            "application/vnd.google.colaboratory.intrinsic+json": {
              "type": "string"
            },
            "text/plain": [
              "'As a young boy, Link is tricked by Ganondorf, the King of the Gerudo Thieves. The evil human uses Link to gain'"
            ]
          },
          "execution_count": 26,
          "metadata": {},
          "output_type": "execute_result"
        }
      ],
      "source": [
        "# Take first summary\n",
        "summary = df[\"Summary\"][0]\n",
        "summary[:110]"
      ]
    },
    {
      "cell_type": "markdown",
      "metadata": {
        "id": "cwZ5Typ8yBey"
      },
      "source": [
        "#### White Space Tokenization"
      ]
    },
    {
      "cell_type": "code",
      "execution_count": 27,
      "metadata": {
        "colab": {
          "base_uri": "https://localhost:8080/"
        },
        "id": "yDQzlZRwyBuW",
        "outputId": "ec4097a4-34e9-4896-9c6f-44726ca5b83f"
      },
      "outputs": [
        {
          "data": {
            "text/plain": [
              "['As',\n",
              " 'a',\n",
              " 'young',\n",
              " 'boy,',\n",
              " 'Link',\n",
              " 'is',\n",
              " 'tricked',\n",
              " 'by',\n",
              " 'Ganondorf,',\n",
              " 'the']"
            ]
          },
          "execution_count": 27,
          "metadata": {},
          "output_type": "execute_result"
        }
      ],
      "source": [
        "summary[:50].split()"
      ]
    },
    {
      "cell_type": "markdown",
      "metadata": {
        "id": "Qey1YwiFyE08"
      },
      "source": [
        "#### Spacy Tokenizer"
      ]
    },
    {
      "cell_type": "code",
      "execution_count": 28,
      "metadata": {
        "colab": {
          "base_uri": "https://localhost:8080/",
          "height": 154
        },
        "id": "kjj7AXVNyFUX",
        "outputId": "5c406736-ff72-4fe9-f40a-9dcedb2a90c2"
      },
      "outputs": [
        {
          "data": {
            "text/html": [
              "<hr/>\n",
              "<h3>SpacyTokenizer</h3>\n",
              "<blockquote><pre><code>SpacyTokenizer(lang='en', special_toks=None, buf_sz=5000)</code></pre></blockquote><p>Spacy tokenizer for `lang`</p>\n",
              "<p><a href=\"https://docs.fast.ai/text.core.html#spacytokenizer\" target=\"_blank\" rel=\"noreferrer noopener\">Show in docs</a></p>"
            ],
            "text/plain": [
              "<IPython.core.display.HTML object>"
            ]
          },
          "metadata": {},
          "output_type": "display_data"
        }
      ],
      "source": [
        "doc(SpacyTokenizer)"
      ]
    },
    {
      "cell_type": "code",
      "execution_count": 29,
      "metadata": {
        "colab": {
          "base_uri": "https://localhost:8080/"
        },
        "id": "DOgMfScsyHR1",
        "outputId": "0fc75412-1987-4f42-9590-99fd53ec8350"
      },
      "outputs": [
        {
          "data": {
            "text/plain": [
              "(#25) ['As','a','young','boy',',','Link','is','tricked','by','Ganondorf'...]"
            ]
          },
          "execution_count": 29,
          "metadata": {},
          "output_type": "execute_result"
        }
      ],
      "source": [
        "spacy = SpacyTokenizer()\n",
        "\n",
        "tokens = first(spacy([summary[:110]]))\n",
        "tokens"
      ]
    },
    {
      "cell_type": "code",
      "execution_count": 30,
      "metadata": {
        "colab": {
          "base_uri": "https://localhost:8080/"
        },
        "id": "8sYXiAesyJo2",
        "outputId": "5944ba5f-b475-4307-c35d-5a82d5d03015"
      },
      "outputs": [
        {
          "name": "stdout",
          "output_type": "stream",
          "text": [
            "(#25) ['As','a','young','boy',',','Link','is','tricked','by','Ganondorf',',','the','King','of','the','Gerudo','Thieves','.','The','evil','human','uses','Link','to','gain']\n"
          ]
        }
      ],
      "source": [
        "# Show All 25 Tokens\n",
        "print(coll_repr(tokens, 25))"
      ]
    },
    {
      "cell_type": "markdown",
      "metadata": {
        "id": "KZvScWOEyLK8"
      },
      "source": [
        "#### Fastai's Tokenizer\n",
        "Takes `SpacyTokenizer` as a parameter."
      ]
    },
    {
      "cell_type": "code",
      "execution_count": 31,
      "metadata": {
        "colab": {
          "base_uri": "https://localhost:8080/"
        },
        "id": "qFy1-Qa-yLcK",
        "outputId": "c12e4815-90e0-459b-9b9f-57cf9340aca9"
      },
      "outputs": [
        {
          "name": "stdout",
          "output_type": "stream",
          "text": [
            "(#34) ['xxbos','xxmaj','as','a','young','boy',',','xxmaj','link','is','tricked','by','xxmaj','ganondorf',',','the','xxmaj','king','of','the','xxmaj','gerudo','xxmaj','thieves','.','xxmaj','the','evil','human','uses','xxmaj','link','to','gain']\n"
          ]
        }
      ],
      "source": [
        "tokenizer = Tokenizer(spacy)\n",
        "\n",
        "print(coll_repr(tokenizer(summary[:110]), 34))"
      ]
    },
    {
      "cell_type": "code",
      "execution_count": 32,
      "metadata": {
        "colab": {
          "base_uri": "https://localhost:8080/"
        },
        "id": "eQSIDzaTyONw",
        "outputId": "b105bac5-5050-4851-98e4-9139c25a2d13"
      },
      "outputs": [
        {
          "data": {
            "text/plain": [
              "[<function fastai.text.core.fix_html(x)>,\n",
              " <function fastai.text.core.replace_rep(t)>,\n",
              " <function fastai.text.core.replace_wrep(t)>,\n",
              " <function fastai.text.core.spec_add_spaces(t)>,\n",
              " <function fastai.text.core.rm_useless_spaces(t)>,\n",
              " <function fastai.text.core.replace_all_caps(t)>,\n",
              " <function fastai.text.core.replace_maj(t)>,\n",
              " <function fastai.text.core.lowercase(t, add_bos=True, add_eos=False)>]"
            ]
          },
          "execution_count": 32,
          "metadata": {},
          "output_type": "execute_result"
        }
      ],
      "source": [
        "# Adds These Process To Tokenization by Default - Fastai's Tokenizer\n",
        "defaults.text_proc_rules"
      ]
    },
    {
      "cell_type": "markdown",
      "metadata": {
        "id": "qAoFnzs5yReN"
      },
      "source": [
        "#### Subword Tokenization"
      ]
    },
    {
      "cell_type": "code",
      "execution_count": 33,
      "metadata": {
        "colab": {
          "base_uri": "https://localhost:8080/",
          "height": 154
        },
        "id": "cDg3C__UyRt1",
        "outputId": "e664e514-ad90-419d-f64e-ed795d1218c5"
      },
      "outputs": [
        {
          "data": {
            "text/html": [
              "<hr/>\n",
              "<h3>SentencePieceTokenizer</h3>\n",
              "<blockquote><pre><code>SentencePieceTokenizer(lang='en', special_toks=None, sp_model=None, vocab_sz=None, max_vocab_sz=30000, model_type='unigram', char_coverage=None, cache_dir='tmp')</code></pre></blockquote><p>SentencePiece tokenizer for `lang`</p>\n",
              "<p><a href=\"https://docs.fast.ai/text.core.html#sentencepiecetokenizer\" target=\"_blank\" rel=\"noreferrer noopener\">Show in docs</a></p>"
            ],
            "text/plain": [
              "<IPython.core.display.HTML object>"
            ]
          },
          "metadata": {},
          "output_type": "display_data"
        }
      ],
      "source": [
        "doc(SentencePieceTokenizer)"
      ]
    },
    {
      "cell_type": "code",
      "execution_count": 34,
      "metadata": {
        "id": "ha6tpsK6yT9n"
      },
      "outputs": [],
      "source": [
        "# Get Corpus\n",
        "corpus = df[\"Summary\"][:1000]"
      ]
    },
    {
      "cell_type": "code",
      "execution_count": 35,
      "metadata": {
        "id": "NeMEi-tByW1P"
      },
      "outputs": [],
      "source": [
        "# Create Subword Function\n",
        "def subword(vocabulary_size):\n",
        "    sp_tokenizer = SentencePieceTokenizer(vocab_sz=vocabulary_size)\n",
        "    sp_tokenizer.setup(corpus)                                          # Created Corpus to Create Subword Vocabulary\n",
        "    return \" \".join(first(sp_tokenizer([summary]))[:50])"
      ]
    },
    {
      "cell_type": "code",
      "execution_count": 36,
      "metadata": {
        "colab": {
          "base_uri": "https://localhost:8080/",
          "height": 36
        },
        "id": "iglMD_U1yX_z",
        "outputId": "41384be7-6ce0-4b98-f6ce-385f2dac24fd"
      },
      "outputs": [
        {
          "data": {
            "text/html": [
              "\n",
              "<style>\n",
              "    /* Turns off some styling */\n",
              "    progress {\n",
              "        /* gets rid of default border in Firefox and Opera. */\n",
              "        border: none;\n",
              "        /* Needs to be in here for Safari polyfill so background images work as expected. */\n",
              "        background-size: auto;\n",
              "    }\n",
              "    progress:not([value]), progress:not([value])::-webkit-progress-bar {\n",
              "        background: repeating-linear-gradient(45deg, #7e7e7e, #7e7e7e 10px, #5c5c5c 10px, #5c5c5c 20px);\n",
              "    }\n",
              "    .progress-bar-interrupted, .progress-bar-interrupted::-webkit-progress-bar {\n",
              "        background: #F44336;\n",
              "    }\n",
              "</style>\n"
            ],
            "text/plain": [
              "<IPython.core.display.HTML object>"
            ]
          },
          "metadata": {},
          "output_type": "display_data"
        },
        {
          "data": {
            "text/html": [],
            "text/plain": [
              "<IPython.core.display.HTML object>"
            ]
          },
          "metadata": {},
          "output_type": "display_data"
        },
        {
          "data": {
            "application/vnd.google.colaboratory.intrinsic+json": {
              "type": "string"
            },
            "text/plain": [
              "'▁A s ▁a ▁you ng ▁bo y , ▁Link ▁is ▁t ri ck ed ▁by ▁G an on d or f , ▁the ▁K ing ▁of ▁the ▁G er u d o ▁Thi e ve s . ▁The ▁evil ▁human ▁use s ▁Link ▁to ▁g a in ▁a c ce'"
            ]
          },
          "execution_count": 36,
          "metadata": {},
          "output_type": "execute_result"
        }
      ],
      "source": [
        "subword(500)"
      ]
    },
    {
      "cell_type": "code",
      "execution_count": 37,
      "metadata": {
        "colab": {
          "base_uri": "https://localhost:8080/",
          "height": 53
        },
        "id": "B_N-74cQ2wNN",
        "outputId": "7c3ce390-24d1-45da-cd52-42492938ce84"
      },
      "outputs": [
        {
          "data": {
            "text/html": [
              "\n",
              "<style>\n",
              "    /* Turns off some styling */\n",
              "    progress {\n",
              "        /* gets rid of default border in Firefox and Opera. */\n",
              "        border: none;\n",
              "        /* Needs to be in here for Safari polyfill so background images work as expected. */\n",
              "        background-size: auto;\n",
              "    }\n",
              "    progress:not([value]), progress:not([value])::-webkit-progress-bar {\n",
              "        background: repeating-linear-gradient(45deg, #7e7e7e, #7e7e7e 10px, #5c5c5c 10px, #5c5c5c 20px);\n",
              "    }\n",
              "    .progress-bar-interrupted, .progress-bar-interrupted::-webkit-progress-bar {\n",
              "        background: #F44336;\n",
              "    }\n",
              "</style>\n"
            ],
            "text/plain": [
              "<IPython.core.display.HTML object>"
            ]
          },
          "metadata": {},
          "output_type": "display_data"
        },
        {
          "data": {
            "text/html": [],
            "text/plain": [
              "<IPython.core.display.HTML object>"
            ]
          },
          "metadata": {},
          "output_type": "display_data"
        },
        {
          "data": {
            "application/vnd.google.colaboratory.intrinsic+json": {
              "type": "string"
            },
            "text/plain": [
              "'▁A s ▁a ▁you ng ▁bo y , ▁Link ▁is ▁t ri ck ed ▁by ▁G an on d or f , ▁the ▁K ing ▁of ▁the ▁G er u d o ▁Thi e ve s . ▁The ▁evil ▁human ▁use s ▁Link ▁to ▁g a in ▁access ▁to ▁the'"
            ]
          },
          "execution_count": 37,
          "metadata": {},
          "output_type": "execute_result"
        }
      ],
      "source": [
        "subword(1000)"
      ]
    },
    {
      "cell_type": "code",
      "execution_count": 38,
      "metadata": {
        "colab": {
          "base_uri": "https://localhost:8080/",
          "height": 53
        },
        "id": "MEsp_mtt2w_t",
        "outputId": "78855b1c-9086-4acd-f7cb-c45c9bdf2e84"
      },
      "outputs": [
        {
          "data": {
            "text/html": [
              "\n",
              "<style>\n",
              "    /* Turns off some styling */\n",
              "    progress {\n",
              "        /* gets rid of default border in Firefox and Opera. */\n",
              "        border: none;\n",
              "        /* Needs to be in here for Safari polyfill so background images work as expected. */\n",
              "        background-size: auto;\n",
              "    }\n",
              "    progress:not([value]), progress:not([value])::-webkit-progress-bar {\n",
              "        background: repeating-linear-gradient(45deg, #7e7e7e, #7e7e7e 10px, #5c5c5c 10px, #5c5c5c 20px);\n",
              "    }\n",
              "    .progress-bar-interrupted, .progress-bar-interrupted::-webkit-progress-bar {\n",
              "        background: #F44336;\n",
              "    }\n",
              "</style>\n"
            ],
            "text/plain": [
              "<IPython.core.display.HTML object>"
            ]
          },
          "metadata": {},
          "output_type": "display_data"
        },
        {
          "data": {
            "text/html": [],
            "text/plain": [
              "<IPython.core.display.HTML object>"
            ]
          },
          "metadata": {},
          "output_type": "display_data"
        },
        {
          "data": {
            "application/vnd.google.colaboratory.intrinsic+json": {
              "type": "string"
            },
            "text/plain": [
              "'▁As ▁a ▁young ▁boy , ▁Link ▁is ▁trick ed ▁by ▁Ganondorf , ▁the ▁King ▁of ▁the ▁Ger udo ▁Thieves . ▁The ▁evil ▁human ▁use s ▁Link ▁to ▁gain ▁access ▁to ▁the ▁Sacr ed ▁Realm , ▁where ▁he ▁places ▁his ▁ tain ted ▁hands ▁on ▁Tri force ▁and ▁transform s ▁the'"
            ]
          },
          "execution_count": 38,
          "metadata": {},
          "output_type": "execute_result"
        }
      ],
      "source": [
        "subword(10_000)"
      ]
    },
    {
      "cell_type": "markdown",
      "metadata": {
        "id": "tHKNqtZB214F"
      },
      "source": [
        "### Numericalization\n",
        "Process of mapping tokens into integers. We use the vocabulary index to map this."
      ]
    },
    {
      "cell_type": "code",
      "execution_count": 39,
      "metadata": {
        "colab": {
          "base_uri": "https://localhost:8080/"
        },
        "id": "OvtW04dx2zH4",
        "outputId": "1d97a4cb-3925-4c7b-a2ec-14873d1708be"
      },
      "outputs": [
        {
          "name": "stdout",
          "output_type": "stream",
          "text": [
            "(#34) ['xxbos','xxmaj','as','a','young','boy',',','xxmaj','link','is','tricked','by','xxmaj','ganondorf',',','the','xxmaj','king','of','the','xxmaj','gerudo','xxmaj','thieves','.','xxmaj','the','evil','human','uses','xxmaj','link','to','gain']\n"
          ]
        }
      ],
      "source": [
        "# Tokenization - Fastai's\n",
        "tokenizer = Tokenizer(spacy)\n",
        "\n",
        "print(coll_repr(tokenizer(summary[:110]), 34))"
      ]
    },
    {
      "cell_type": "code",
      "execution_count": 40,
      "metadata": {
        "id": "UbGxypduEoxZ"
      },
      "outputs": [],
      "source": [
        "# Get Corpus\n",
        "corpus = df[\"Summary\"][:1000]"
      ]
    },
    {
      "cell_type": "code",
      "execution_count": 41,
      "metadata": {
        "colab": {
          "base_uri": "https://localhost:8080/"
        },
        "id": "gR00f9vJ24s8",
        "outputId": "336e0054-7f49-4038-990c-87162fad6109"
      },
      "outputs": [
        {
          "data": {
            "text/plain": [
              "(#97) ['xxbos','xxmaj','as','a','young','boy',',','xxmaj','link','is'...]"
            ]
          },
          "execution_count": 41,
          "metadata": {},
          "output_type": "execute_result"
        }
      ],
      "source": [
        "tokens = corpus[:100].map(tokenizer)\n",
        "tokens[0]"
      ]
    },
    {
      "cell_type": "code",
      "execution_count": 42,
      "metadata": {
        "colab": {
          "base_uri": "https://localhost:8080/",
          "height": 154
        },
        "id": "fqcIoYi33Jm3",
        "outputId": "08aec681-5e0e-4cff-ae2b-225a45a9f0af"
      },
      "outputs": [
        {
          "data": {
            "text/html": [
              "<hr/>\n",
              "<h3>Numericalize</h3>\n",
              "<blockquote><pre><code>Numericalize(vocab=None, min_freq=3, max_vocab=60000, special_toks=None)</code></pre></blockquote><p>Reversible transform of tokenized texts to numericalized ids</p>\n",
              "<p><a href=\"https://docs.fast.ai/text.data.html#numericalize\" target=\"_blank\" rel=\"noreferrer noopener\">Show in docs</a></p>"
            ],
            "text/plain": [
              "<IPython.core.display.HTML object>"
            ]
          },
          "metadata": {},
          "output_type": "display_data"
        }
      ],
      "source": [
        "doc(Numericalize)"
      ]
    },
    {
      "cell_type": "code",
      "execution_count": 43,
      "metadata": {
        "colab": {
          "base_uri": "https://localhost:8080/",
          "height": 36
        },
        "id": "dRwj-y4gEstZ",
        "outputId": "76722dd8-50c1-4853-82c4-abd431396e3d"
      },
      "outputs": [
        {
          "data": {
            "application/vnd.google.colaboratory.intrinsic+json": {
              "type": "string"
            },
            "text/plain": [
              "\"(#832) ['xxunk','xxpad','xxbos','xxeos','xxfld','xxrep','xxwrep','xxup','xxmaj','the',',','.','and','of','a','to','-','in','new','with'...]\""
            ]
          },
          "execution_count": 43,
          "metadata": {},
          "output_type": "execute_result"
        }
      ],
      "source": [
        "num = Numericalize()\n",
        "num.setup(tokens)\n",
        "coll_repr(num.vocab, 20)"
      ]
    },
    {
      "cell_type": "code",
      "execution_count": 44,
      "metadata": {
        "colab": {
          "base_uri": "https://localhost:8080/"
        },
        "id": "BhFa5CwCExD7",
        "outputId": "e2d17118-e532-422c-bad2-84130543f542"
      },
      "outputs": [
        {
          "data": {
            "text/plain": [
              "TensorText([  2,   8,  23,  14, 429, 263,  10,   8,  55,  21,   0,  36,   8,\n",
              "              0,  10,   9,   8,   0,  13,   9,   8,   0,   8, 124,  11,   8,\n",
              "              9,  91, 325,   0,   8,  55,  15,   0, 430,  15,   9,   8,   0,\n",
              "              8, 585,  10, 139,  43, 431,  34,   0, 227,  32,   8,   0,  12,\n",
              "            586,   9, 587,   8,   0, 588,  39,  14,   0,   0,  11,   8,  55,\n",
              "             21,   0,  15,   0,   9,   0,  43,   0,  15, 201,  10, 116,  19,\n",
              "              9, 140,  13,   8,   0,  43, 589,  61,  56,   0,   9, 590,  13,\n",
              "              9,   8,   0,   8,   0,  11])"
            ]
          },
          "execution_count": 44,
          "metadata": {},
          "output_type": "execute_result"
        }
      ],
      "source": [
        "# Encoding\n",
        "nums = num(tokens[0])\n",
        "nums"
      ]
    },
    {
      "cell_type": "code",
      "execution_count": 45,
      "metadata": {
        "colab": {
          "base_uri": "https://localhost:8080/",
          "height": 70
        },
        "id": "4kUx-dxjEyd5",
        "outputId": "c1992e60-d598-4d5a-b58b-59a02cf95784"
      },
      "outputs": [
        {
          "data": {
            "application/vnd.google.colaboratory.intrinsic+json": {
              "type": "string"
            },
            "text/plain": [
              "'As a young boy, Link is tricked by Ganondorf, the King of the Gerudo Thieves. The evil human uses Link to gain access to the Sacred Realm, where he places his tainted hands on Triforce and transforms the beautiful Hyrulean landscape into a barren wasteland. Link is determined to fix the problems he helped to create, so with the help of Rauru he travels through time gathering the powers of the Seven Sages.'"
            ]
          },
          "execution_count": 45,
          "metadata": {},
          "output_type": "execute_result"
        }
      ],
      "source": [
        "# First Corpus\n",
        "corpus[0]"
      ]
    },
    {
      "cell_type": "code",
      "execution_count": 46,
      "metadata": {
        "colab": {
          "base_uri": "https://localhost:8080/",
          "height": 70
        },
        "id": "8WRR0G8CEz4W",
        "outputId": "305ec5fb-7997-49a5-d157-d3ae9f6553cb"
      },
      "outputs": [
        {
          "data": {
            "application/vnd.google.colaboratory.intrinsic+json": {
              "type": "string"
            },
            "text/plain": [
              "'xxbos xxmaj as a young boy , xxmaj link is xxunk by xxmaj xxunk , the xxmaj xxunk of the xxmaj xxunk xxmaj thieves . xxmaj the evil human xxunk xxmaj link to xxunk access to the xxmaj xxunk xxmaj realm , where he places his xxunk hands on xxmaj xxunk and transforms the beautiful xxmaj xxunk landscape into a xxunk xxunk . xxmaj link is xxunk to xxunk the xxunk he xxunk to create , so with the help of xxmaj xxunk he travels through time xxunk the powers of the xxmaj xxunk xxmaj xxunk .'"
            ]
          },
          "execution_count": 46,
          "metadata": {},
          "output_type": "execute_result"
        }
      ],
      "source": [
        "# Decoding\n",
        "\" \".join(num.vocab[word] for word in nums)"
      ]
    },
    {
      "cell_type": "code",
      "execution_count": 47,
      "metadata": {
        "colab": {
          "base_uri": "https://localhost:8080/",
          "height": 36
        },
        "id": "cz6d9mCfFAza",
        "outputId": "9a882a0f-ddad-4327-efcc-f109b9daf423"
      },
      "outputs": [
        {
          "data": {
            "application/vnd.google.colaboratory.intrinsic+json": {
              "type": "string"
            },
            "text/plain": [
              "'young'"
            ]
          },
          "execution_count": 47,
          "metadata": {},
          "output_type": "execute_result"
        }
      ],
      "source": [
        "# Check Numerical Value To Corpus\n",
        "num.vocab[429]"
      ]
    },
    {
      "cell_type": "markdown",
      "metadata": {
        "id": "3Ra_Q_dsFCwr"
      },
      "source": [
        "## Language Modeling (LM)"
      ]
    },
    {
      "cell_type": "markdown",
      "metadata": {
        "id": "cJ7VZV5fFFvs"
      },
      "source": [
        "### Preparing Data for LMs"
      ]
    },
    {
      "cell_type": "code",
      "execution_count": 48,
      "metadata": {
        "colab": {
          "base_uri": "https://localhost:8080/",
          "height": 17
        },
        "id": "c9D_uFqvFBH-",
        "outputId": "631dbfbe-e2aa-4cc2-86fd-afc6ccde040b"
      },
      "outputs": [
        {
          "data": {
            "text/html": [
              "\n",
              "<style>\n",
              "    /* Turns off some styling */\n",
              "    progress {\n",
              "        /* gets rid of default border in Firefox and Opera. */\n",
              "        border: none;\n",
              "        /* Needs to be in here for Safari polyfill so background images work as expected. */\n",
              "        background-size: auto;\n",
              "    }\n",
              "    progress:not([value]), progress:not([value])::-webkit-progress-bar {\n",
              "        background: repeating-linear-gradient(45deg, #7e7e7e, #7e7e7e 10px, #5c5c5c 10px, #5c5c5c 20px);\n",
              "    }\n",
              "    .progress-bar-interrupted, .progress-bar-interrupted::-webkit-progress-bar {\n",
              "        background: #F44336;\n",
              "    }\n",
              "</style>\n"
            ],
            "text/plain": [
              "<IPython.core.display.HTML object>"
            ]
          },
          "metadata": {},
          "output_type": "display_data"
        },
        {
          "data": {
            "text/html": [],
            "text/plain": [
              "<IPython.core.display.HTML object>"
            ]
          },
          "metadata": {},
          "output_type": "display_data"
        }
      ],
      "source": [
        "dls_lm = TextDataLoaders.from_df(\n",
        "    df,\n",
        "    text_col=\"Summary\",\n",
        "    is_lm=True,\n",
        "    bs=16,                                              # bs: batch size\n",
        "    seq_len=512,                                        # seq_len: maximum sequence length\n",
        "    splitter=RandomSplitter(valid_pct=0.1, seed=42)\n",
        ")"
      ]
    },
    {
      "cell_type": "code",
      "execution_count": 49,
      "metadata": {
        "colab": {
          "base_uri": "https://localhost:8080/",
          "height": 508
        },
        "id": "vPJHZGSBFHxF",
        "outputId": "226417b0-5270-4bd9-902c-30631e92fdf1"
      },
      "outputs": [
        {
          "data": {
            "text/html": [
              "<table border=\"1\" class=\"dataframe\">\n",
              "  <thead>\n",
              "    <tr style=\"text-align: right;\">\n",
              "      <th></th>\n",
              "      <th>text</th>\n",
              "      <th>text_</th>\n",
              "    </tr>\n",
              "  </thead>\n",
              "  <tbody>\n",
              "    <tr>\n",
              "      <th>0</th>\n",
              "      <td>xxbos xxmaj gamers will take on the miniature role of a lost xxmaj sour xxmaj patch xxmaj kid in a stylized human - sized world , guiding the hero through the sticky floors of a movie theater , across the counter of a concession stand , and other unique and oversized environments . xxmaj joining forces with fellow lost xxmaj sour xxmaj patch xxmaj kids , players will use a combination of jumps , twists and puzzle - solving to negotiate and overcome larger than life obstacles . xxmaj along the way , they will battle unusual candy enemies , escape from deranged humans , and face - off against bizarre creatures including one very angry wad of sticky chewing gum . xxbos xxmaj mix all the intensity of classic pinball with the sights , sounds , and xxunk of war and what do you get ? xxmaj xxunk --</td>\n",
              "      <td>xxmaj gamers will take on the miniature role of a lost xxmaj sour xxmaj patch xxmaj kid in a stylized human - sized world , guiding the hero through the sticky floors of a movie theater , across the counter of a concession stand , and other unique and oversized environments . xxmaj joining forces with fellow lost xxmaj sour xxmaj patch xxmaj kids , players will use a combination of jumps , twists and puzzle - solving to negotiate and overcome larger than life obstacles . xxmaj along the way , they will battle unusual candy enemies , escape from deranged humans , and face - off against bizarre creatures including one very angry wad of sticky chewing gum . xxbos xxmaj mix all the intensity of classic pinball with the sights , sounds , and xxunk of war and what do you get ? xxmaj xxunk -- the</td>\n",
              "    </tr>\n",
              "    <tr>\n",
              "      <th>1</th>\n",
              "      <td>carmen from unearthing the drums and making off with the lost treasure . xxbos xxmaj you ’ve inherited your uncle ’s potion shop — and a huge debt . xxmaj better get brewing ! xxmaj customize your store , hire heroes to gather ingredients , befriend ( or romance ) fellow vendors to learn new xxunk strategies , and go head - to - head with competitors in this narrative - driven , deck - building shop simulator . xxbos xxmaj designed specifically to entertain both casual and hardcore gamers with its deep immersion , five to fifteen minute play sessions and turn - based play style , xxmaj puzzle xxmaj quest : xxmaj challenge of the xxmaj warlords incorporates strategy , role - playing elements and a persistent storyline in a puzzle board setting . xxmaj set in the xxmaj warlords universe , the game challenges players to create</td>\n",
              "      <td>from unearthing the drums and making off with the lost treasure . xxbos xxmaj you ’ve inherited your uncle ’s potion shop — and a huge debt . xxmaj better get brewing ! xxmaj customize your store , hire heroes to gather ingredients , befriend ( or romance ) fellow vendors to learn new xxunk strategies , and go head - to - head with competitors in this narrative - driven , deck - building shop simulator . xxbos xxmaj designed specifically to entertain both casual and hardcore gamers with its deep immersion , five to fifteen minute play sessions and turn - based play style , xxmaj puzzle xxmaj quest : xxmaj challenge of the xxmaj warlords incorporates strategy , role - playing elements and a persistent storyline in a puzzle board setting . xxmaj set in the xxmaj warlords universe , the game challenges players to create ,</td>\n",
              "    </tr>\n",
              "    <tr>\n",
              "      <th>2</th>\n",
              "      <td>of art only to return them days later . xxmaj dive into xxmaj raphael 's world and help him find the xxmaj xxunk of xxmaj xxunk to unmask the mystery behind his father 's disappearance . xxmaj while unravelling the truth players will encounter an assortment of different rhythm challenges to master . xxmaj tap the screen , swipe the stylus and control the gyro to the beat of the music to maneuver xxmaj raphael through the unique streets of xxmaj paris , brought to life by stylish animations and vibrant 3d maps and landscapes . xxbos xxmaj independent two - man studio xxmaj mad xxmaj xxunk brings you xxmaj aaero , a game that xxunk high - speed sci - fi shooting action with immersive music elements to deliver an amazing audio - visual experience . xxbos xxmaj orwell ’s xxmaj animal xxmaj farm is an adventure game where</td>\n",
              "      <td>art only to return them days later . xxmaj dive into xxmaj raphael 's world and help him find the xxmaj xxunk of xxmaj xxunk to unmask the mystery behind his father 's disappearance . xxmaj while unravelling the truth players will encounter an assortment of different rhythm challenges to master . xxmaj tap the screen , swipe the stylus and control the gyro to the beat of the music to maneuver xxmaj raphael through the unique streets of xxmaj paris , brought to life by stylish animations and vibrant 3d maps and landscapes . xxbos xxmaj independent two - man studio xxmaj mad xxmaj xxunk brings you xxmaj aaero , a game that xxunk high - speed sci - fi shooting action with immersive music elements to deliver an amazing audio - visual experience . xxbos xxmaj orwell ’s xxmaj animal xxmaj farm is an adventure game where all</td>\n",
              "    </tr>\n",
              "  </tbody>\n",
              "</table>"
            ],
            "text/plain": [
              "<IPython.core.display.HTML object>"
            ]
          },
          "metadata": {},
          "output_type": "display_data"
        }
      ],
      "source": [
        "dls_lm.show_batch(max_n=3)"
      ]
    },
    {
      "cell_type": "code",
      "execution_count": 50,
      "metadata": {
        "id": "HWwgrd49FLgU"
      },
      "outputs": [],
      "source": [
        "torch.save(dls_lm, \"dataloaders/lm_dls.pkl\")"
      ]
    },
    {
      "cell_type": "code",
      "execution_count": 51,
      "metadata": {
        "id": "WLa3p6CWFOCL"
      },
      "outputs": [],
      "source": [
        "# dls_lm = torch.load(\"../dataloaders/lm_dls.pkl\")"
      ]
    },
    {
      "cell_type": "markdown",
      "metadata": {
        "id": "ToUbAxGeFPnK"
      },
      "source": [
        "### Modeling"
      ]
    },
    {
      "cell_type": "code",
      "execution_count": 52,
      "metadata": {
        "colab": {
          "base_uri": "https://localhost:8080/",
          "height": 154
        },
        "id": "J-cLkHSgFQmu",
        "outputId": "6a77ac5a-f054-49e6-eb8b-df73bba3e5d3"
      },
      "outputs": [
        {
          "data": {
            "text/html": [
              "<hr/>\n",
              "<h3>AWD_LSTM</h3>\n",
              "<blockquote><pre><code>AWD_LSTM(vocab_sz:int, emb_sz:int, n_hid:int, n_layers:int, pad_token:int=1, hidden_p:float=0.2, input_p:float=0.6, embed_p:float=0.1, weight_p:float=0.5, bidir:bool=False)</code></pre></blockquote><p>AWD-LSTM inspired by https://arxiv.org/abs/1708.02182</p>\n",
              "<p><a href=\"https://docs.fast.ai/text.models.awdlstm.html#awd_lstm\" target=\"_blank\" rel=\"noreferrer noopener\">Show in docs</a></p>"
            ],
            "text/plain": [
              "<IPython.core.display.HTML object>"
            ]
          },
          "metadata": {},
          "output_type": "display_data"
        }
      ],
      "source": [
        "# This is a pretrained LSTM model on Wikipedia Corpus\n",
        "doc(AWD_LSTM)"
      ]
    },
    {
      "cell_type": "code",
      "execution_count": 53,
      "metadata": {
        "colab": {
          "base_uri": "https://localhost:8080/",
          "height": 174
        },
        "id": "ag65jxlcFSyl",
        "outputId": "e86e07c6-c7fb-4a4b-fc41-ee70a4325868"
      },
      "outputs": [
        {
          "data": {
            "text/html": [
              "<hr/>\n",
              "<h3>language_model_learner</h3>\n",
              "<blockquote><pre><code>language_model_learner(dls, arch, config=None, drop_mult=1.0, backwards=False, pretrained=True, pretrained_fnames=None, loss_func:callable|None=None, opt_func:Optimizer|OptimWrapper=<function Adam>, lr:float|slice=0.001, splitter:callable=<function trainable_params>, cbs:Callback|MutableSequence|None=None, metrics:callable|MutableSequence|None=None, path:str|Path|None=None, model_dir:str|Path='models', wd:float|int|None=None, wd_bn_bias:bool=False, train_bn:bool=True, moms:tuple=(0.95, 0.85, 0.95), default_cbs:bool=True)</code></pre></blockquote><p>Create a `Learner` with a language model from `dls` and `arch`.</p>\n",
              "<p><a href=\"https://docs.fast.ai/text.learner.html#language_model_learner\" target=\"_blank\" rel=\"noreferrer noopener\">Show in docs</a></p>"
            ],
            "text/plain": [
              "<IPython.core.display.HTML object>"
            ]
          },
          "metadata": {},
          "output_type": "display_data"
        }
      ],
      "source": [
        "doc(language_model_learner)"
      ]
    },
    {
      "cell_type": "code",
      "execution_count": 54,
      "metadata": {
        "colab": {
          "base_uri": "https://localhost:8080/",
          "height": 154
        },
        "id": "C7q7B_QjFT81",
        "outputId": "0ccb49b5-abf9-48b2-cd24-92978c03875d"
      },
      "outputs": [
        {
          "data": {
            "text/html": [
              "<hr/>\n",
              "<h3>Perplexity</h3>\n",
              "<blockquote><pre><code>Perplexity()</code></pre></blockquote><p>Perplexity (exponential of cross-entropy loss) for Language Models</p>\n",
              "<p><a href=\"https://docs.fast.ai/metrics.html#perplexity\" target=\"_blank\" rel=\"noreferrer noopener\">Show in docs</a></p>"
            ],
            "text/plain": [
              "<IPython.core.display.HTML object>"
            ]
          },
          "metadata": {},
          "output_type": "display_data"
        }
      ],
      "source": [
        "doc(Perplexity)"
      ]
    },
    {
      "cell_type": "code",
      "execution_count": 55,
      "metadata": {
        "colab": {
          "base_uri": "https://localhost:8080/",
          "height": 37
        },
        "id": "hCssMPtzFVU4",
        "outputId": "7c114a4d-26cd-4225-f812-8fb624c96323"
      },
      "outputs": [
        {
          "data": {
            "text/html": [
              "\n",
              "<style>\n",
              "    /* Turns off some styling */\n",
              "    progress {\n",
              "        /* gets rid of default border in Firefox and Opera. */\n",
              "        border: none;\n",
              "        /* Needs to be in here for Safari polyfill so background images work as expected. */\n",
              "        background-size: auto;\n",
              "    }\n",
              "    progress:not([value]), progress:not([value])::-webkit-progress-bar {\n",
              "        background: repeating-linear-gradient(45deg, #7e7e7e, #7e7e7e 10px, #5c5c5c 10px, #5c5c5c 20px);\n",
              "    }\n",
              "    .progress-bar-interrupted, .progress-bar-interrupted::-webkit-progress-bar {\n",
              "        background: #F44336;\n",
              "    }\n",
              "</style>\n"
            ],
            "text/plain": [
              "<IPython.core.display.HTML object>"
            ]
          },
          "metadata": {},
          "output_type": "display_data"
        },
        {
          "data": {
            "text/html": [
              "\n",
              "    <div>\n",
              "      <progress value='105070592' class='' max='105067061' style='width:300px; height:20px; vertical-align: middle;'></progress>\n",
              "      100.00% [105070592/105067061 00:01&lt;00:00]\n",
              "    </div>\n",
              "    "
            ],
            "text/plain": [
              "<IPython.core.display.HTML object>"
            ]
          },
          "metadata": {},
          "output_type": "display_data"
        }
      ],
      "source": [
        "learner = language_model_learner(\n",
        "    dls_lm,\n",
        "    AWD_LSTM,\n",
        "    drop_mult=0.3,\n",
        "    metrics=[accuracy, Perplexity()]\n",
        ").to_fp16()"
      ]
    },
    {
      "cell_type": "code",
      "execution_count": 56,
      "metadata": {
        "colab": {
          "base_uri": "https://localhost:8080/"
        },
        "id": "cttLSTAgFoez",
        "outputId": "4a28a051-78e1-486c-b09a-09c3f5f3a476"
      },
      "outputs": [
        {
          "data": {
            "text/plain": [
              "SequentialRNN(\n",
              "  (0): AWD_LSTM(\n",
              "    (encoder): Embedding(19496, 400, padding_idx=1)\n",
              "    (encoder_dp): EmbeddingDropout(\n",
              "      (emb): Embedding(19496, 400, padding_idx=1)\n",
              "    )\n",
              "    (rnns): ModuleList(\n",
              "      (0): WeightDropout(\n",
              "        (module): LSTM(400, 1152, batch_first=True)\n",
              "      )\n",
              "      (1): WeightDropout(\n",
              "        (module): LSTM(1152, 1152, batch_first=True)\n",
              "      )\n",
              "      (2): WeightDropout(\n",
              "        (module): LSTM(1152, 400, batch_first=True)\n",
              "      )\n",
              "    )\n",
              "    (input_dp): RNNDropout()\n",
              "    (hidden_dps): ModuleList(\n",
              "      (0-2): 3 x RNNDropout()\n",
              "    )\n",
              "  )\n",
              "  (1): LinearDecoder(\n",
              "    (decoder): Linear(in_features=400, out_features=19496, bias=True)\n",
              "    (output_dp): RNNDropout()\n",
              "  )\n",
              ")"
            ]
          },
          "execution_count": 56,
          "metadata": {},
          "output_type": "execute_result"
        }
      ],
      "source": [
        "learner.model"
      ]
    },
    {
      "cell_type": "code",
      "execution_count": 62,
      "metadata": {
        "colab": {
          "base_uri": "https://localhost:8080/"
        },
        "id": "GsKuNnicU55P",
        "outputId": "f715a80e-8621-485b-9eff-6feb0919f1d0"
      },
      "outputs": [
        {
          "name": "stdout",
          "output_type": "stream",
          "text": [
            "Vocabulary Size of the Model:  19496\n"
          ]
        }
      ],
      "source": [
        "# Vocabulary Size\n",
        "print(\"Vocabulary Size of the Model: \",len(dls_lm.vocab))"
      ]
    },
    {
      "cell_type": "markdown",
      "metadata": {
        "id": "tq9NHxt1GI96"
      },
      "source": [
        "#### Stage: 0"
      ]
    },
    {
      "cell_type": "code",
      "execution_count": 57,
      "metadata": {
        "id": "Z4C1yvQoFqBe"
      },
      "outputs": [],
      "source": [
        "learner.freeze()"
      ]
    },
    {
      "cell_type": "code",
      "execution_count": 58,
      "metadata": {
        "colab": {
          "base_uri": "https://localhost:8080/",
          "height": 471
        },
        "id": "Q8PyvuIVSWE6",
        "outputId": "1535b3a5-0d2c-41bf-f652-5992152a1e3b"
      },
      "outputs": [
        {
          "data": {
            "text/html": [
              "\n",
              "<style>\n",
              "    /* Turns off some styling */\n",
              "    progress {\n",
              "        /* gets rid of default border in Firefox and Opera. */\n",
              "        border: none;\n",
              "        /* Needs to be in here for Safari polyfill so background images work as expected. */\n",
              "        background-size: auto;\n",
              "    }\n",
              "    progress:not([value]), progress:not([value])::-webkit-progress-bar {\n",
              "        background: repeating-linear-gradient(45deg, #7e7e7e, #7e7e7e 10px, #5c5c5c 10px, #5c5c5c 20px);\n",
              "    }\n",
              "    .progress-bar-interrupted, .progress-bar-interrupted::-webkit-progress-bar {\n",
              "        background: #F44336;\n",
              "    }\n",
              "</style>\n"
            ],
            "text/plain": [
              "<IPython.core.display.HTML object>"
            ]
          },
          "metadata": {},
          "output_type": "display_data"
        },
        {
          "data": {
            "text/html": [],
            "text/plain": [
              "<IPython.core.display.HTML object>"
            ]
          },
          "metadata": {},
          "output_type": "display_data"
        },
        {
          "data": {
            "text/plain": [
              "SuggestedLRs(slide=0.007585775572806597, valley=0.0030199517495930195)"
            ]
          },
          "execution_count": 58,
          "metadata": {},
          "output_type": "execute_result"
        },
        {
          "data": {
            "image/png": "[encoded data removed]",
            "text/plain": [
              "<Figure size 640x480 with 1 Axes>"
            ]
          },
          "metadata": {},
          "output_type": "display_data"
        }
      ],
      "source": [
        "learner.lr_find(suggest_funcs=(slide, valley))"
      ]
    },
    {
      "cell_type": "code",
      "execution_count": 59,
      "metadata": {
        "colab": {
          "base_uri": "https://localhost:8080/",
          "height": 81
        },
        "id": "65Uf7TLNSbRn",
        "outputId": "256b72da-d6c8-4a9e-ba8b-415303495baa"
      },
      "outputs": [
        {
          "data": {
            "text/html": [
              "\n",
              "<style>\n",
              "    /* Turns off some styling */\n",
              "    progress {\n",
              "        /* gets rid of default border in Firefox and Opera. */\n",
              "        border: none;\n",
              "        /* Needs to be in here for Safari polyfill so background images work as expected. */\n",
              "        background-size: auto;\n",
              "    }\n",
              "    progress:not([value]), progress:not([value])::-webkit-progress-bar {\n",
              "        background: repeating-linear-gradient(45deg, #7e7e7e, #7e7e7e 10px, #5c5c5c 10px, #5c5c5c 20px);\n",
              "    }\n",
              "    .progress-bar-interrupted, .progress-bar-interrupted::-webkit-progress-bar {\n",
              "        background: #F44336;\n",
              "    }\n",
              "</style>\n"
            ],
            "text/plain": [
              "<IPython.core.display.HTML object>"
            ]
          },
          "metadata": {},
          "output_type": "display_data"
        },
        {
          "data": {
            "text/html": [
              "<table border=\"1\" class=\"dataframe\">\n",
              "  <thead>\n",
              "    <tr style=\"text-align: left;\">\n",
              "      <th>epoch</th>\n",
              "      <th>train_loss</th>\n",
              "      <th>valid_loss</th>\n",
              "      <th>accuracy</th>\n",
              "      <th>perplexity</th>\n",
              "      <th>time</th>\n",
              "    </tr>\n",
              "  </thead>\n",
              "  <tbody>\n",
              "    <tr>\n",
              "      <td>0</td>\n",
              "      <td>4.025788</td>\n",
              "      <td>3.876759</td>\n",
              "      <td>0.324582</td>\n",
              "      <td>48.267540</td>\n",
              "      <td>01:10</td>\n",
              "    </tr>\n",
              "  </tbody>\n",
              "</table>"
            ],
            "text/plain": [
              "<IPython.core.display.HTML object>"
            ]
          },
          "metadata": {},
          "output_type": "display_data"
        }
      ],
      "source": [
        "learner.fit_one_cycle(1, 6e-3)"
      ]
    },
    {
      "cell_type": "code",
      "execution_count": 63,
      "metadata": {
        "colab": {
          "base_uri": "https://localhost:8080/"
        },
        "id": "nM3mlNfzVdA4",
        "outputId": "22fad354-8038-4bc0-eea4-614206548f84"
      },
      "outputs": [
        {
          "data": {
            "text/plain": [
              "Path('models/lm-stage-0.pth')"
            ]
          },
          "execution_count": 63,
          "metadata": {},
          "output_type": "execute_result"
        }
      ],
      "source": [
        "learner.save(\"lm-stage-0\")"
      ]
    },
    {
      "cell_type": "code",
      "execution_count": 64,
      "metadata": {
        "id": "ItxZYeWOVidr"
      },
      "outputs": [],
      "source": [
        "# learner.load(\"lm-stage-0\")"
      ]
    },
    {
      "cell_type": "markdown",
      "metadata": {
        "id": "VJh3YTz1VaSy"
      },
      "source": [
        "#### Stage: 1"
      ]
    },
    {
      "cell_type": "code",
      "execution_count": 65,
      "metadata": {
        "id": "kcWYL7KGVa21"
      },
      "outputs": [],
      "source": [
        "learner.unfreeze()"
      ]
    },
    {
      "cell_type": "code",
      "execution_count": 67,
      "metadata": {
        "colab": {
          "base_uri": "https://localhost:8080/",
          "height": 472
        },
        "id": "yY0oKFHXVpbs",
        "outputId": "9abd0cf9-6334-46e5-9c2b-f27d25b17339"
      },
      "outputs": [
        {
          "data": {
            "text/html": [
              "\n",
              "<style>\n",
              "    /* Turns off some styling */\n",
              "    progress {\n",
              "        /* gets rid of default border in Firefox and Opera. */\n",
              "        border: none;\n",
              "        /* Needs to be in here for Safari polyfill so background images work as expected. */\n",
              "        background-size: auto;\n",
              "    }\n",
              "    progress:not([value]), progress:not([value])::-webkit-progress-bar {\n",
              "        background: repeating-linear-gradient(45deg, #7e7e7e, #7e7e7e 10px, #5c5c5c 10px, #5c5c5c 20px);\n",
              "    }\n",
              "    .progress-bar-interrupted, .progress-bar-interrupted::-webkit-progress-bar {\n",
              "        background: #F44336;\n",
              "    }\n",
              "</style>\n"
            ],
            "text/plain": [
              "<IPython.core.display.HTML object>"
            ]
          },
          "metadata": {},
          "output_type": "display_data"
        },
        {
          "data": {
            "text/html": [],
            "text/plain": [
              "<IPython.core.display.HTML object>"
            ]
          },
          "metadata": {},
          "output_type": "display_data"
        },
        {
          "data": {
            "text/plain": [
              "SuggestedLRs(slide=0.0002754228771664202, valley=0.00013182566908653826)"
            ]
          },
          "execution_count": 67,
          "metadata": {},
          "output_type": "execute_result"
        },
        {
          "data": {
            "image/png": "[encoded data removed]",
            "text/plain": [
              "<Figure size 640x480 with 1 Axes>"
            ]
          },
          "metadata": {},
          "output_type": "display_data"
        }
      ],
      "source": [
        "learner.lr_find(suggest_funcs=(slide, valley))"
      ]
    },
    {
      "cell_type": "code",
      "execution_count": 68,
      "metadata": {
        "colab": {
          "base_uri": "https://localhost:8080/",
          "height": 206
        },
        "id": "AnZtwPFgVuHY",
        "outputId": "2242a1c6-a183-48f4-b8d2-6103990af8a6"
      },
      "outputs": [
        {
          "data": {
            "text/html": [
              "\n",
              "<style>\n",
              "    /* Turns off some styling */\n",
              "    progress {\n",
              "        /* gets rid of default border in Firefox and Opera. */\n",
              "        border: none;\n",
              "        /* Needs to be in here for Safari polyfill so background images work as expected. */\n",
              "        background-size: auto;\n",
              "    }\n",
              "    progress:not([value]), progress:not([value])::-webkit-progress-bar {\n",
              "        background: repeating-linear-gradient(45deg, #7e7e7e, #7e7e7e 10px, #5c5c5c 10px, #5c5c5c 20px);\n",
              "    }\n",
              "    .progress-bar-interrupted, .progress-bar-interrupted::-webkit-progress-bar {\n",
              "        background: #F44336;\n",
              "    }\n",
              "</style>\n"
            ],
            "text/plain": [
              "<IPython.core.display.HTML object>"
            ]
          },
          "metadata": {},
          "output_type": "display_data"
        },
        {
          "data": {
            "text/html": [
              "<table border=\"1\" class=\"dataframe\">\n",
              "  <thead>\n",
              "    <tr style=\"text-align: left;\">\n",
              "      <th>epoch</th>\n",
              "      <th>train_loss</th>\n",
              "      <th>valid_loss</th>\n",
              "      <th>accuracy</th>\n",
              "      <th>perplexity</th>\n",
              "      <th>time</th>\n",
              "    </tr>\n",
              "  </thead>\n",
              "  <tbody>\n",
              "    <tr>\n",
              "      <td>0</td>\n",
              "      <td>3.784651</td>\n",
              "      <td>3.781254</td>\n",
              "      <td>0.333631</td>\n",
              "      <td>43.871002</td>\n",
              "      <td>01:15</td>\n",
              "    </tr>\n",
              "    <tr>\n",
              "      <td>1</td>\n",
              "      <td>3.685288</td>\n",
              "      <td>3.709859</td>\n",
              "      <td>0.341169</td>\n",
              "      <td>40.848053</td>\n",
              "      <td>01:12</td>\n",
              "    </tr>\n",
              "    <tr>\n",
              "      <td>2</td>\n",
              "      <td>3.609253</td>\n",
              "      <td>3.676070</td>\n",
              "      <td>0.344920</td>\n",
              "      <td>39.490898</td>\n",
              "      <td>01:11</td>\n",
              "    </tr>\n",
              "    <tr>\n",
              "      <td>3</td>\n",
              "      <td>3.557539</td>\n",
              "      <td>3.663031</td>\n",
              "      <td>0.346837</td>\n",
              "      <td>38.979305</td>\n",
              "      <td>01:13</td>\n",
              "    </tr>\n",
              "    <tr>\n",
              "      <td>4</td>\n",
              "      <td>3.534360</td>\n",
              "      <td>3.661543</td>\n",
              "      <td>0.347064</td>\n",
              "      <td>38.921349</td>\n",
              "      <td>01:12</td>\n",
              "    </tr>\n",
              "  </tbody>\n",
              "</table>"
            ],
            "text/plain": [
              "<IPython.core.display.HTML object>"
            ]
          },
          "metadata": {},
          "output_type": "display_data"
        }
      ],
      "source": [
        "learner.fit_one_cycle(5, slice(2.25e-4, 1.75e-4))"
      ]
    },
    {
      "cell_type": "markdown",
      "metadata": {
        "id": "NqU7NrfXY9GF"
      },
      "source": [
        "### Save the Encoder"
      ]
    },
    {
      "cell_type": "code",
      "execution_count": 69,
      "metadata": {
        "colab": {
          "base_uri": "https://localhost:8080/"
        },
        "id": "hyGrg4qOY_vd",
        "outputId": "a8785431-634c-46d5-816b-056a7b6567be"
      },
      "outputs": [
        {
          "data": {
            "text/plain": [
              "SequentialRNN(\n",
              "  (0): AWD_LSTM(\n",
              "    (encoder): Embedding(19496, 400, padding_idx=1)\n",
              "    (encoder_dp): EmbeddingDropout(\n",
              "      (emb): Embedding(19496, 400, padding_idx=1)\n",
              "    )\n",
              "    (rnns): ModuleList(\n",
              "      (0): WeightDropout(\n",
              "        (module): LSTM(400, 1152, batch_first=True)\n",
              "      )\n",
              "      (1): WeightDropout(\n",
              "        (module): LSTM(1152, 1152, batch_first=True)\n",
              "      )\n",
              "      (2): WeightDropout(\n",
              "        (module): LSTM(1152, 400, batch_first=True)\n",
              "      )\n",
              "    )\n",
              "    (input_dp): RNNDropout()\n",
              "    (hidden_dps): ModuleList(\n",
              "      (0-2): 3 x RNNDropout()\n",
              "    )\n",
              "  )\n",
              "  (1): LinearDecoder(\n",
              "    (decoder): Linear(in_features=400, out_features=19496, bias=True)\n",
              "    (output_dp): RNNDropout()\n",
              "  )\n",
              ")"
            ]
          },
          "execution_count": 69,
          "metadata": {},
          "output_type": "execute_result"
        }
      ],
      "source": [
        "learner.model"
      ]
    },
    {
      "cell_type": "code",
      "execution_count": 70,
      "metadata": {
        "id": "BvBskgpeZFlh"
      },
      "outputs": [],
      "source": [
        "# Only Saving the Encoder, Because We Do Not Need decoder Anymore For Classification\n",
        "learner.save_encoder(\"lm-encoder-finetuned\")"
      ]
    },
    {
      "cell_type": "markdown",
      "metadata": {
        "id": "3Qfohbj5ZUkN"
      },
      "source": [
        "## Predict Model"
      ]
    },
    {
      "cell_type": "code",
      "execution_count": 74,
      "metadata": {
        "colab": {
          "base_uri": "https://localhost:8080/",
          "height": 36
        },
        "id": "gUYeXJmqZTRC",
        "outputId": "b1bfb99a-954b-42dc-f40c-5394cc5cc811"
      },
      "outputs": [
        {
          "data": {
            "text/html": [
              "\n",
              "<style>\n",
              "    /* Turns off some styling */\n",
              "    progress {\n",
              "        /* gets rid of default border in Firefox and Opera. */\n",
              "        border: none;\n",
              "        /* Needs to be in here for Safari polyfill so background images work as expected. */\n",
              "        background-size: auto;\n",
              "    }\n",
              "    progress:not([value]), progress:not([value])::-webkit-progress-bar {\n",
              "        background: repeating-linear-gradient(45deg, #7e7e7e, #7e7e7e 10px, #5c5c5c 10px, #5c5c5c 20px);\n",
              "    }\n",
              "    .progress-bar-interrupted, .progress-bar-interrupted::-webkit-progress-bar {\n",
              "        background: #F44336;\n",
              "    }\n",
              "</style>\n"
            ],
            "text/plain": [
              "<IPython.core.display.HTML object>"
            ]
          },
          "metadata": {},
          "output_type": "display_data"
        },
        {
          "data": {
            "text/html": [],
            "text/plain": [
              "<IPython.core.display.HTML object>"
            ]
          },
          "metadata": {},
          "output_type": "display_data"
        },
        {
          "data": {
            "application/vnd.google.colaboratory.intrinsic+json": {
              "type": "string"
            },
            "text/plain": [
              "'This movie is about episode - long , first - person action taking place around five different nations , causing an intense and intense'"
            ]
          },
          "execution_count": 74,
          "metadata": {},
          "output_type": "execute_result"
        }
      ],
      "source": [
        "learner.predict('This movie is about', n_words=20)"
      ]
    }
  ],
  "metadata": {
    "accelerator": "GPU",
    "colab": {
      "collapsed_sections": [
        "HJSPWTSTDoi2",
        "D_MMWiSXD1x3",
        "ZFMiRS7zOoPj"
      ],
      "gpuType": "T4",
      "provenance": []
    },
    "kernelspec": {
      "display_name": "Python 3",
      "name": "python3"
    },
    "language_info": {
      "name": "python",
      "version": "3.11.0"
    }
  },
  "nbformat": 4,
  "nbformat_minor": 0
}
