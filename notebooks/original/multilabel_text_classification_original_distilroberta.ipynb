{
  "cells": [
    {
      "cell_type": "markdown",
      "metadata": {
        "id": "CIVeC_4Dvlwk"
      },
      "source": [
        "# Multilabel Text Classification"
      ]
    },
    {
      "cell_type": "markdown",
      "metadata": {
        "id": "9hCe39h-vqCV"
      },
      "source": [
        "## Setting Up Necessary Things"
      ]
    },
    {
      "cell_type": "code",
      "execution_count": null,
      "metadata": {
        "id": "ir7JMWe3nEsZ"
      },
      "outputs": [],
      "source": [
        "# Jupyter Notebook Magic Command - Auto Reloading\n",
        "%reload_ext autoreload\n",
        "%autoreload 2\n",
        "\n",
        "# Jupyter Notebook Magic Command - Inline Plotting\n",
        "%matplotlib inline"
      ]
    },
    {
      "cell_type": "code",
      "execution_count": null,
      "metadata": {
        "id": "Gn1lABxsvsSi"
      },
      "outputs": [],
      "source": [
        "# Ignore All Warnings\n",
        "import warnings\n",
        "warnings.filterwarnings(\"ignore\")"
      ]
    },
    {
      "cell_type": "code",
      "execution_count": null,
      "metadata": {
        "colab": {
          "base_uri": "https://localhost:8080/"
        },
        "id": "NcKG7Q_LvtrW",
        "outputId": "e6e5dcbd-838c-44f2-8d99-07c4eb84652a"
      },
      "outputs": [
        {
          "output_type": "stream",
          "name": "stdout",
          "text": [
            "Tue Aug 29 17:02:00 2023       \n",
            "+-----------------------------------------------------------------------------+\n",
            "| NVIDIA-SMI 525.105.17   Driver Version: 525.105.17   CUDA Version: 12.0     |\n",
            "|-------------------------------+----------------------+----------------------+\n",
            "| GPU  Name        Persistence-M| Bus-Id        Disp.A | Volatile Uncorr. ECC |\n",
            "| Fan  Temp  Perf  Pwr:Usage/Cap|         Memory-Usage | GPU-Util  Compute M. |\n",
            "|                               |                      |               MIG M. |\n",
            "|===============================+======================+======================|\n",
            "|   0  Tesla T4            Off  | 00000000:00:04.0 Off |                    0 |\n",
            "| N/A   44C    P8    11W /  70W |      0MiB / 15360MiB |      0%      Default |\n",
            "|                               |                      |                  N/A |\n",
            "+-------------------------------+----------------------+----------------------+\n",
            "                                                                               \n",
            "+-----------------------------------------------------------------------------+\n",
            "| Processes:                                                                  |\n",
            "|  GPU   GI   CI        PID   Type   Process name                  GPU Memory |\n",
            "|        ID   ID                                                   Usage      |\n",
            "|=============================================================================|\n",
            "|  No running processes found                                                 |\n",
            "+-----------------------------------------------------------------------------+\n"
          ]
        }
      ],
      "source": [
        "# NVIDIA Status\n",
        "! nvidia-smi"
      ]
    },
    {
      "cell_type": "code",
      "execution_count": null,
      "metadata": {
        "colab": {
          "base_uri": "https://localhost:8080/"
        },
        "id": "GNv3yxSQvwig",
        "outputId": "b1ffaf78-a929-4ebf-e4ac-cf0799f1f8c9"
      },
      "outputs": [
        {
          "output_type": "stream",
          "name": "stdout",
          "text": [
            "Mounted at /content/drive\n"
          ]
        }
      ],
      "source": [
        "from google.colab import drive\n",
        "drive.mount('/content/drive')"
      ]
    },
    {
      "cell_type": "code",
      "execution_count": null,
      "metadata": {
        "colab": {
          "base_uri": "https://localhost:8080/"
        },
        "id": "9-qjuw_1vxv8",
        "outputId": "4643c128-fcd8-4a33-eede-a04cbfb8b934"
      },
      "outputs": [
        {
          "output_type": "stream",
          "name": "stdout",
          "text": [
            "/content/drive/MyDrive/TC.Video.Game\n"
          ]
        }
      ],
      "source": [
        "%cd /content/drive/MyDrive/TC.Video.Game"
      ]
    },
    {
      "cell_type": "markdown",
      "metadata": {
        "id": "JJI-RGtYv0qm"
      },
      "source": [
        "## Necessary Imports"
      ]
    },
    {
      "cell_type": "code",
      "execution_count": null,
      "metadata": {
        "id": "3FckuMYIv0_G"
      },
      "outputs": [],
      "source": [
        "! pip install -q transformers sentencepiece fastbook fastai ohmeow-blurr nbdev"
      ]
    },
    {
      "cell_type": "code",
      "execution_count": null,
      "metadata": {
        "id": "IUkfTN1hwEjr"
      },
      "outputs": [],
      "source": [
        "import torch\n",
        "from transformers import AutoModelForSequenceClassification, AutoConfig\n",
        "from fastai.text.all import *\n",
        "from blurr.text.data.all import *\n",
        "from blurr.text.modeling.all import *"
      ]
    },
    {
      "cell_type": "markdown",
      "metadata": {
        "id": "niImA8C2wHuW"
      },
      "source": [
        "## Data Cleaning"
      ]
    },
    {
      "cell_type": "code",
      "execution_count": null,
      "metadata": {
        "colab": {
          "base_uri": "https://localhost:8080/",
          "height": 380
        },
        "id": "JV0Se7h6wIG7",
        "outputId": "58f32284-1754-45be-a75d-e7001de2d67e"
      },
      "outputs": [
        {
          "output_type": "execute_result",
          "data": {
            "text/plain": [
              "                                   Name  \\\n",
              "0  The Legend of Zelda: Ocarina of Time   \n",
              "1              Tony Hawk's Pro Skater 2   \n",
              "2                   Grand Theft Auto IV   \n",
              "3                           SoulCalibur   \n",
              "4                   Grand Theft Auto IV   \n",
              "\n",
              "                                                                                                                                                                                                                                                                                                                                                                                                                                                                                                                                                                                                                   Summary  \\\n",
              "0                                                                                                                                                                                                 As a young boy, Link is tricked by Ganondorf, the King of the Gerudo Thieves. The evil human uses Link to gain access to the Sacred Realm, where he places his tainted hands on Triforce and transforms the beautiful Hyrulean landscape into a barren wasteland. Link is determined to fix the problems he helped to create, so with the help of Rauru he travels through time gathering the powers of the Seven Sages.   \n",
              "1                                                                                                                                                                                                                                                                                                                                                                                                                As most major publishers' development efforts shift to any number of next-generation platforms, Tony Hawk 2 will likely stand as one of the last truly fantastic games to be released on the PlayStation.   \n",
              "2  [Metacritic's 2008 PS3 Game of the Year; Also known as \"GTA IV\"] What does the American Dream mean today? For Niko Belic, fresh off the boat from Europe. It's the hope he can escape his past. For his cousin, Roman, it is the vision that together they can find fortune in Liberty City, gateway to the land of opportunity. As they slip into debt and are dragged into a criminal underworld by a series of shysters, thieves and sociopaths, they discover that the reality is very different from the dream in a city that worships money and status, and is heaven for those who have them an a living nigh...   \n",
              "3                                                                                                                                                                                                                                                                                                                     This is a tale of souls and swords, transcending the world and all its history, told for all eternity... The greatest weapons-based fighter returns, this time on Sega Dreamcast. Soul Calibur unleashes incredible graphics, fantastic fighters, and combos so amazing they'll make your head spin!   \n",
              "4  [Metacritic's 2008 Xbox 360 Game of the Year; Also known as \"GTA IV\"] What does the American Dream mean today? For Niko Belic, fresh off the boat from Europe. It's the hope he can escape his past. For his cousin, Roman, it is the vision that together they can find fortune in Liberty City, gateway to the land of opportunity. As they slip into debt and are dragged into a criminal underworld by a series of shysters, thieves and sociopaths, they discover that the reality is very different from the dream in a city that worships money and status, and is heaven for those who have them an a living...   \n",
              "\n",
              "                                                   Genres  \n",
              "0                         ['Action Adventure', 'Fantasy']  \n",
              "1              ['Sports', 'Alternative', 'Skateboarding']  \n",
              "2  ['Action Adventure', 'Modern', 'Modern', 'Open-World']  \n",
              "3                            ['Action', 'Fighting', '3D']  \n",
              "4  ['Action Adventure', 'Modern', 'Modern', 'Open-World']  "
            ],
            "text/html": [
              "\n",
              "  <div id=\"df-74c57faf-3614-41a2-9895-fa2a9529ad49\" class=\"colab-df-container\">\n",
              "    <div>\n",
              "<style scoped>\n",
              "    .dataframe tbody tr th:only-of-type {\n",
              "        vertical-align: middle;\n",
              "    }\n",
              "\n",
              "    .dataframe tbody tr th {\n",
              "        vertical-align: top;\n",
              "    }\n",
              "\n",
              "    .dataframe thead th {\n",
              "        text-align: right;\n",
              "    }\n",
              "</style>\n",
              "<table border=\"1\" class=\"dataframe\">\n",
              "  <thead>\n",
              "    <tr style=\"text-align: right;\">\n",
              "      <th></th>\n",
              "      <th>Name</th>\n",
              "      <th>Summary</th>\n",
              "      <th>Genres</th>\n",
              "    </tr>\n",
              "  </thead>\n",
              "  <tbody>\n",
              "    <tr>\n",
              "      <th>0</th>\n",
              "      <td>The Legend of Zelda: Ocarina of Time</td>\n",
              "      <td>As a young boy, Link is tricked by Ganondorf, the King of the Gerudo Thieves. The evil human uses Link to gain access to the Sacred Realm, where he places his tainted hands on Triforce and transforms the beautiful Hyrulean landscape into a barren wasteland. Link is determined to fix the problems he helped to create, so with the help of Rauru he travels through time gathering the powers of the Seven Sages.</td>\n",
              "      <td>['Action Adventure', 'Fantasy']</td>\n",
              "    </tr>\n",
              "    <tr>\n",
              "      <th>1</th>\n",
              "      <td>Tony Hawk's Pro Skater 2</td>\n",
              "      <td>As most major publishers' development efforts shift to any number of next-generation platforms, Tony Hawk 2 will likely stand as one of the last truly fantastic games to be released on the PlayStation.</td>\n",
              "      <td>['Sports', 'Alternative', 'Skateboarding']</td>\n",
              "    </tr>\n",
              "    <tr>\n",
              "      <th>2</th>\n",
              "      <td>Grand Theft Auto IV</td>\n",
              "      <td>[Metacritic's 2008 PS3 Game of the Year; Also known as \"GTA IV\"] What does the American Dream mean today? For Niko Belic, fresh off the boat from Europe. It's the hope he can escape his past. For his cousin, Roman, it is the vision that together they can find fortune in Liberty City, gateway to the land of opportunity. As they slip into debt and are dragged into a criminal underworld by a series of shysters, thieves and sociopaths, they discover that the reality is very different from the dream in a city that worships money and status, and is heaven for those who have them an a living nigh...</td>\n",
              "      <td>['Action Adventure', 'Modern', 'Modern', 'Open-World']</td>\n",
              "    </tr>\n",
              "    <tr>\n",
              "      <th>3</th>\n",
              "      <td>SoulCalibur</td>\n",
              "      <td>This is a tale of souls and swords, transcending the world and all its history, told for all eternity... The greatest weapons-based fighter returns, this time on Sega Dreamcast. Soul Calibur unleashes incredible graphics, fantastic fighters, and combos so amazing they'll make your head spin!</td>\n",
              "      <td>['Action', 'Fighting', '3D']</td>\n",
              "    </tr>\n",
              "    <tr>\n",
              "      <th>4</th>\n",
              "      <td>Grand Theft Auto IV</td>\n",
              "      <td>[Metacritic's 2008 Xbox 360 Game of the Year; Also known as \"GTA IV\"] What does the American Dream mean today? For Niko Belic, fresh off the boat from Europe. It's the hope he can escape his past. For his cousin, Roman, it is the vision that together they can find fortune in Liberty City, gateway to the land of opportunity. As they slip into debt and are dragged into a criminal underworld by a series of shysters, thieves and sociopaths, they discover that the reality is very different from the dream in a city that worships money and status, and is heaven for those who have them an a living...</td>\n",
              "      <td>['Action Adventure', 'Modern', 'Modern', 'Open-World']</td>\n",
              "    </tr>\n",
              "  </tbody>\n",
              "</table>\n",
              "</div>\n",
              "    <div class=\"colab-df-buttons\">\n",
              "\n",
              "  <div class=\"colab-df-container\">\n",
              "    <button class=\"colab-df-convert\" onclick=\"convertToInteractive('df-74c57faf-3614-41a2-9895-fa2a9529ad49')\"\n",
              "            title=\"Convert this dataframe to an interactive table.\"\n",
              "            style=\"display:none;\">\n",
              "\n",
              "  <svg xmlns=\"http://www.w3.org/2000/svg\" height=\"24px\" viewBox=\"0 -960 960 960\">\n",
              "    <path d=\"M120-120v-720h720v720H120Zm60-500h600v-160H180v160Zm220 220h160v-160H400v160Zm0 220h160v-160H400v160ZM180-400h160v-160H180v160Zm440 0h160v-160H620v160ZM180-180h160v-160H180v160Zm440 0h160v-160H620v160Z\"/>\n",
              "  </svg>\n",
              "    </button>\n",
              "\n",
              "  <style>\n",
              "    .colab-df-container {\n",
              "      display:flex;\n",
              "      gap: 12px;\n",
              "    }\n",
              "\n",
              "    .colab-df-convert {\n",
              "      background-color: #E8F0FE;\n",
              "      border: none;\n",
              "      border-radius: 50%;\n",
              "      cursor: pointer;\n",
              "      display: none;\n",
              "      fill: #1967D2;\n",
              "      height: 32px;\n",
              "      padding: 0 0 0 0;\n",
              "      width: 32px;\n",
              "    }\n",
              "\n",
              "    .colab-df-convert:hover {\n",
              "      background-color: #E2EBFA;\n",
              "      box-shadow: 0px 1px 2px rgba(60, 64, 67, 0.3), 0px 1px 3px 1px rgba(60, 64, 67, 0.15);\n",
              "      fill: #174EA6;\n",
              "    }\n",
              "\n",
              "    .colab-df-buttons div {\n",
              "      margin-bottom: 4px;\n",
              "    }\n",
              "\n",
              "    [theme=dark] .colab-df-convert {\n",
              "      background-color: #3B4455;\n",
              "      fill: #D2E3FC;\n",
              "    }\n",
              "\n",
              "    [theme=dark] .colab-df-convert:hover {\n",
              "      background-color: #434B5C;\n",
              "      box-shadow: 0px 1px 3px 1px rgba(0, 0, 0, 0.15);\n",
              "      filter: drop-shadow(0px 1px 2px rgba(0, 0, 0, 0.3));\n",
              "      fill: #FFFFFF;\n",
              "    }\n",
              "  </style>\n",
              "\n",
              "    <script>\n",
              "      const buttonEl =\n",
              "        document.querySelector('#df-74c57faf-3614-41a2-9895-fa2a9529ad49 button.colab-df-convert');\n",
              "      buttonEl.style.display =\n",
              "        google.colab.kernel.accessAllowed ? 'block' : 'none';\n",
              "\n",
              "      async function convertToInteractive(key) {\n",
              "        const element = document.querySelector('#df-74c57faf-3614-41a2-9895-fa2a9529ad49');\n",
              "        const dataTable =\n",
              "          await google.colab.kernel.invokeFunction('convertToInteractive',\n",
              "                                                    [key], {});\n",
              "        if (!dataTable) return;\n",
              "\n",
              "        const docLinkHtml = 'Like what you see? Visit the ' +\n",
              "          '<a target=\"_blank\" href=https://colab.research.google.com/notebooks/data_table.ipynb>data table notebook</a>'\n",
              "          + ' to learn more about interactive tables.';\n",
              "        element.innerHTML = '';\n",
              "        dataTable['output_type'] = 'display_data';\n",
              "        await google.colab.output.renderOutput(dataTable, element);\n",
              "        const docLink = document.createElement('div');\n",
              "        docLink.innerHTML = docLinkHtml;\n",
              "        element.appendChild(docLink);\n",
              "      }\n",
              "    </script>\n",
              "  </div>\n",
              "\n",
              "\n",
              "<div id=\"df-0460757d-b959-49fd-aeb0-81ea564bd4f1\">\n",
              "  <button class=\"colab-df-quickchart\" onclick=\"quickchart('df-0460757d-b959-49fd-aeb0-81ea564bd4f1')\"\n",
              "            title=\"Suggest charts.\"\n",
              "            style=\"display:none;\">\n",
              "\n",
              "<svg xmlns=\"http://www.w3.org/2000/svg\" height=\"24px\"viewBox=\"0 0 24 24\"\n",
              "     width=\"24px\">\n",
              "    <g>\n",
              "        <path d=\"M19 3H5c-1.1 0-2 .9-2 2v14c0 1.1.9 2 2 2h14c1.1 0 2-.9 2-2V5c0-1.1-.9-2-2-2zM9 17H7v-7h2v7zm4 0h-2V7h2v10zm4 0h-2v-4h2v4z\"/>\n",
              "    </g>\n",
              "</svg>\n",
              "  </button>\n",
              "\n",
              "<style>\n",
              "  .colab-df-quickchart {\n",
              "    background-color: #E8F0FE;\n",
              "    border: none;\n",
              "    border-radius: 50%;\n",
              "    cursor: pointer;\n",
              "    display: none;\n",
              "    fill: #1967D2;\n",
              "    height: 32px;\n",
              "    padding: 0 0 0 0;\n",
              "    width: 32px;\n",
              "  }\n",
              "\n",
              "  .colab-df-quickchart:hover {\n",
              "    background-color: #E2EBFA;\n",
              "    box-shadow: 0px 1px 2px rgba(60, 64, 67, 0.3), 0px 1px 3px 1px rgba(60, 64, 67, 0.15);\n",
              "    fill: #174EA6;\n",
              "  }\n",
              "\n",
              "  [theme=dark] .colab-df-quickchart {\n",
              "    background-color: #3B4455;\n",
              "    fill: #D2E3FC;\n",
              "  }\n",
              "\n",
              "  [theme=dark] .colab-df-quickchart:hover {\n",
              "    background-color: #434B5C;\n",
              "    box-shadow: 0px 1px 3px 1px rgba(0, 0, 0, 0.15);\n",
              "    filter: drop-shadow(0px 1px 2px rgba(0, 0, 0, 0.3));\n",
              "    fill: #FFFFFF;\n",
              "  }\n",
              "</style>\n",
              "\n",
              "  <script>\n",
              "    async function quickchart(key) {\n",
              "      const charts = await google.colab.kernel.invokeFunction(\n",
              "          'suggestCharts', [key], {});\n",
              "    }\n",
              "    (() => {\n",
              "      let quickchartButtonEl =\n",
              "        document.querySelector('#df-0460757d-b959-49fd-aeb0-81ea564bd4f1 button');\n",
              "      quickchartButtonEl.style.display =\n",
              "        google.colab.kernel.accessAllowed ? 'block' : 'none';\n",
              "    })();\n",
              "  </script>\n",
              "</div>\n",
              "    </div>\n",
              "  </div>\n"
            ]
          },
          "metadata": {},
          "execution_count": 69
        }
      ],
      "source": [
        "# Load Data Into DataFrame\n",
        "df = pd.read_csv(\"data/raw_data/game_details_original.csv\")\n",
        "df.head()"
      ]
    },
    {
      "cell_type": "code",
      "execution_count": null,
      "metadata": {
        "colab": {
          "base_uri": "https://localhost:8080/"
        },
        "id": "5ZYxBuEa2Ii1",
        "outputId": "10dabe68-7bd6-4bea-ec19-3b498ab383f3"
      },
      "outputs": [
        {
          "output_type": "execute_result",
          "data": {
            "text/plain": [
              "(20406, 3)"
            ]
          },
          "metadata": {},
          "execution_count": 70
        }
      ],
      "source": [
        "# Shape of the DataFrame\n",
        "df.shape"
      ]
    },
    {
      "cell_type": "code",
      "execution_count": null,
      "metadata": {
        "id": "o27HMfO22P8l"
      },
      "outputs": [],
      "source": [
        "genres_list = df[\"Genres\"].to_list()    # list of all the genres\n",
        "genres_count = {}                       # count of all the genres\n",
        "\n",
        "for genres in genres_list:\n",
        "  try:\n",
        "    genre_list = eval(genres)\n",
        "\n",
        "    for genre in genre_list:\n",
        "      if genre in genres_count.keys():\n",
        "        genres_count[genre] += 1\n",
        "      else:\n",
        "        genres_count[genre] = 1\n",
        "  except:\n",
        "    continue"
      ]
    },
    {
      "cell_type": "code",
      "execution_count": null,
      "metadata": {
        "colab": {
          "base_uri": "https://localhost:8080/"
        },
        "id": "3CEXMURf2Vtj",
        "outputId": "2b0d3ee9-0916-4275-fc4a-552db1d4be6c"
      },
      "outputs": [
        {
          "output_type": "stream",
          "name": "stdout",
          "text": [
            "Total Number of Genres:  178\n",
            "Individual Genres Count: \n",
            " {'Action': 7097, 'General': 7035, 'Shooter': 3549, 'Action Adventure': 3424, 'Platformer': 2371, 'Arcade': 2355, 'Role-Playing': 2341, '3D': 2127, 'Adventure': 1995, '2D': 1979, 'Miscellaneous': 1927, 'Strategy': 1905, 'First-Person': 1875, 'Sci-Fi': 1779, 'Fantasy': 1729, 'Sports': 1727, 'Modern': 1569, 'Puzzle': 1376, 'Action RPG': 1300, 'Racing': 1239, 'Sim': 1162, 'Simulation': 1160, 'Third-Person': 1040, 'Traditional': 1015, 'Driving': 971, 'Historic': 915, 'Fighting': 838, 'Automobile': 782, 'Real-Time': 772, 'Turn-Based': 740, 'Open-World': 736, \"Beat-'Em-Up\": 713, 'Team': 619, 'Compilation': 546, 'Survival': 544, 'Individual': 450, \"Shoot-'Em-Up\": 433, 'Point-and-Click': 430, 'Horror': 419, 'Japanese-Style': 415, 'Music': 411, 'Tactical': 405, 'Tactics': 392, 'Combat': 382, 'Linear': 353, 'Console-style RPG': 346, 'Rhythm': 340, 'Management': 334, 'GT / Street': 283, 'Western-Style': 279, 'Soccer': 276, 'Scrolling': 264, 'Virtual Life': 249, 'Virtual': 237, 'Basketball': 222, 'Alternative': 216, 'Football': 213, 'Top-Down': 210, 'Flight': 204, 'Metroidvania': 174, 'Rally / Offroad': 172, 'Massively Multiplayer': 166, 'Vertical': 165, 'Business / Tycoon': 156, 'Wrestling': 156, 'Party / Minigame': 156, 'Visual Novel': 149, 'Other': 146, 'Baseball': 145, 'Matching': 144, 'Party': 140, 'Massively Multiplayer Online': 134, 'Golf': 130, 'Card Battle': 128, 'Vehicle': 128, 'Ice Hockey': 124, 'Tycoon': 124, 'PC-style RPG': 123, 'Mission-based': 112, 'Board / Card Game': 109, '': 106, 'Board Games': 103, 'Command': 102, 'Government': 101, 'Static': 101, 'Skateboarding': 99, 'Tennis': 99, 'Motorcycle': 99, 'Futuristic': 98, 'Career': 95, 'Dancing': 92, 'Civilian': 90, 'Horizontal': 89, 'Formula One': 87, 'WWII': 86, 'Parlor': 86, 'Logic': 85, 'Car Combat': 84, 'Street': 84, 'Kart': 83, 'Sandbox': 82, 'Defense': 81, 'Light Gun': 79, 'Space': 75, 'Breeding/Constructing': 71, 'Pinball': 67, 'Military': 67, 'Roguelike': 65, 'Boxing': 64, '4X': 61, 'Snowboarding': 60, 'Trainer': 60, 'Gambling': 60, 'Skate / Skateboard': 59, 'Rail': 56, 'Small Spaceship': 55, 'Mech': 55, 'Edutainment': 55, 'Olympic Sports': 54, 'Motocross': 52, 'Modern Jet': 48, 'Trivia / Game Show': 47, 'Stock Car': 45, 'MOBA': 44, 'Billiards': 40, 'Biking': 39, 'Athletics': 36, 'Wargame': 35, 'Stacking': 34, 'Music Maker': 34, 'Nature': 33, 'Fishing': 33, 'Boxing / Martial Arts': 31, 'Artillery': 28, 'Application': 27, 'Helicopter': 27, 'Ski / Snowboard': 27, 'Exercise / Fitness': 24, 'City Building': 23, 'Demolition Derby': 23, 'Large Spaceship': 21, 'Snow / Water': 20, 'Surfing': 20, 'Hidden Object': 19, 'Marine': 16, 'Ship': 16, 'Pet': 15, 'Rugby': 13, 'On-foot': 13, 'Truck': 12, 'Submarine': 11, 'Skating': 11, 'Train': 11, 'Hunting': 10, 'Text': 9, 'Civilian Plane': 9, 'On GameFAQs': 9, 'Bowling': 9, 'Surf / Wakeboard': 9, 'Volleyball': 6, 'Futuristic Sub': 6, 'Skiing': 6, 'Wakeboarding': 5, 'Futuristic Jet': 4, 'Cricket': 4, 'Horse Racing': 4, 'Interactive Movie': 4, 'Tank': 3, '6 Online': 2, 'No Online Multiplayer': 2, 'Videos': 2, 'Drag': 2, '1 Player': 2, '1-4': 1, 'Old Jet': 1, 'WWI': 1, '1-2': 1, 'Online Multiplayer': 1}\n"
          ]
        }
      ],
      "source": [
        "print(\"Total Number of Genres: \", len(genres_count))\n",
        "\n",
        "sorted_genres_count = dict(sorted(genres_count.items(), key=lambda item: item[1], reverse=True))\n",
        "print(\"Individual Genres Count: \\n\", sorted_genres_count)"
      ]
    },
    {
      "cell_type": "markdown",
      "metadata": {
        "id": "CqnywYg12k7G"
      },
      "source": [
        "### Removing Rare Genres"
      ]
    },
    {
      "cell_type": "code",
      "execution_count": null,
      "metadata": {
        "colab": {
          "base_uri": "https://localhost:8080/"
        },
        "id": "l9QtEDmG2lN_",
        "outputId": "b95e751b-71c3-4021-f2c5-e3e4335031b7"
      },
      "outputs": [
        {
          "output_type": "stream",
          "name": "stdout",
          "text": [
            "Total Rare Genres:  161\n",
            "Rare Genres:  ['Alternative', 'Skateboarding', 'Open-World', 'Fighting', 'Western-Style', 'Traditional', 'Football', 'Sim', 'Linear', 'Horror', 'Compilation', 'Action RPG', 'Visual Novel', 'Driving', 'Racing', 'GT / Street', 'PC-style RPG', 'Third-Person', 'Historic', 'Japanese-Style', 'Puzzle', 'Stacking', 'Console-style RPG', 'Survival', 'Turn-Based', '4X', 'Real-Time', 'Roguelike', 'Simulation', 'Management', 'Government', '', 'Metroidvania', 'Command', 'Snowboarding', 'Sandbox', 'Soccer', 'Kart', 'Rhythm', 'Music', \"Beat-'Em-Up\", 'Basketball', 'Application', 'Automobile', 'Ice Hockey', 'Virtual Life', 'Virtual', 'Wargame', 'Team', 'Tactical', 'Tennis', 'Tactics', 'Point-and-Click', 'Snow / Water', 'Massively Multiplayer', 'Flight', 'Civilian', 'Massively Multiplayer Online', 'Board / Card Game', 'Card Battle', 'Formula One', 'WWII', 'Combat', 'Space', 'Small Spaceship', 'Car Combat', 'Baseball', 'Individual', 'Golf', 'Skate / Skateboard', 'Motorcycle', 'Street', 'Business / Tycoon', 'Dancing', 'Wrestling', 'Text', 'Submarine', 'Marine', 'Static', \"Shoot-'Em-Up\", 'Top-Down', 'Modern Jet', 'Civilian Plane', 'MOBA', 'Rally / Offroad', 'Futuristic', 'Defense', 'Rail', 'Horizontal', 'Stock Car', 'Scrolling', 'Matching', 'Motocross', 'Parlor', 'Pinball', 'Trainer', 'Skating', 'Boxing', 'Boxing / Martial Arts', 'Light Gun', 'Vertical', 'Party', 'Vehicle', 'Mech', 'Breeding/Constructing', 'Military', 'Mission-based', 'Helicopter', 'Tank', 'Logic', 'Edutainment', 'Tycoon', 'Career', 'Other', 'Biking', 'Music Maker', 'Artillery', 'City Building', 'Train', 'Wakeboarding', 'Exercise / Fitness', 'Board Games', 'Party / Minigame', 'Pet', 'Futuristic Jet', 'Large Spaceship', 'Trivia / Game Show', 'Ski / Snowboard', 'Billiards', 'Athletics', 'Surfing', 'Demolition Derby', 'Nature', 'Fishing', 'Hidden Object', 'Gambling', 'Ship', '6 Online', 'Volleyball', 'On GameFAQs', 'Truck', 'No Online Multiplayer', 'Rugby', 'Olympic Sports', 'Cricket', 'Videos', 'Horse Racing', 'Futuristic Sub', 'Drag', 'Skiing', '1-4', 'Bowling', 'On-foot', 'Surf / Wakeboard', 'Old Jet', 'Hunting', 'WWI', '1-2', '1 Player', 'Interactive Movie', 'Online Multiplayer']\n"
          ]
        }
      ],
      "source": [
        "threshold = int(len(df) * 0.075)\n",
        "\n",
        "rare_genres = [item for item, count in genres_count.items() if count < threshold]\n",
        "\n",
        "print(\"Total Rare Genres: \", len(rare_genres))\n",
        "print(\"Rare Genres: \", rare_genres)"
      ]
    },
    {
      "cell_type": "code",
      "execution_count": null,
      "metadata": {
        "id": "EkSOJEDW4TI9"
      },
      "outputs": [],
      "source": [
        "genres_list = df[\"Genres\"].to_list()\n",
        "revised_genre_list = []\n",
        "indices_to_drop = []\n",
        "\n",
        "for idx, genres in enumerate(genres_list):\n",
        "  try:\n",
        "    genre_list = eval(genres)\n",
        "    revised_genres = []\n",
        "\n",
        "    for genre in genre_list:\n",
        "      if genre not in rare_genres:\n",
        "        revised_genres.append(genre)\n",
        "\n",
        "    if len(revised_genres) == 0:\n",
        "      indices_to_drop.append(idx)\n",
        "    else:\n",
        "      revised_genres_set = set(revised_genres)\n",
        "      revised_genre_list.append(list(revised_genres_set))\n",
        "  except:\n",
        "    indices_to_drop.append(idx)"
      ]
    },
    {
      "cell_type": "code",
      "execution_count": null,
      "metadata": {
        "colab": {
          "base_uri": "https://localhost:8080/"
        },
        "id": "h3QZ_2l34xGo",
        "outputId": "6e4c6de4-7715-4492-b940-e315c0db3301"
      },
      "outputs": [
        {
          "output_type": "execute_result",
          "data": {
            "text/plain": [
              "(18761, 3)"
            ]
          },
          "metadata": {},
          "execution_count": 75
        }
      ],
      "source": [
        "df = df.drop(indices_to_drop).reset_index(drop=True)\n",
        "df.shape"
      ]
    },
    {
      "cell_type": "code",
      "execution_count": null,
      "metadata": {
        "id": "fTfkX3V95cYg"
      },
      "outputs": [],
      "source": [
        "df[\"Revised Genres\"] = revised_genre_list"
      ]
    },
    {
      "cell_type": "code",
      "execution_count": null,
      "metadata": {
        "id": "UG0EdWzA5mJG"
      },
      "outputs": [],
      "source": [
        "revised_genres_list = df[\"Revised Genres\"].to_list()\n",
        "revised_genre_count = {}\n",
        "\n",
        "for genres in revised_genres_list:\n",
        "  genre_list = genres\n",
        "\n",
        "  for genre in genre_list:\n",
        "    if genre in revised_genre_count.keys():\n",
        "      revised_genre_count[genre] += 1\n",
        "    else:\n",
        "      revised_genre_count[genre] = 1"
      ]
    },
    {
      "cell_type": "code",
      "execution_count": null,
      "metadata": {
        "colab": {
          "base_uri": "https://localhost:8080/"
        },
        "id": "V7pgu-8q84N5",
        "outputId": "a2989455-334d-44c5-c85d-4ef695cf18a7"
      },
      "outputs": [
        {
          "output_type": "stream",
          "name": "stdout",
          "text": [
            "Total Number of Revised Genres:  17\n",
            "Individual Revised Genres Count: \n",
            " {'Action': 7037, 'General': 5579, 'Action Adventure': 3424, 'Shooter': 2513, 'Role-Playing': 2341, 'Arcade': 2186, 'Adventure': 1995, 'Miscellaneous': 1927, 'Strategy': 1905, 'Platformer': 1867, '3D': 1818, 'First-Person': 1811, 'Sports': 1727, '2D': 1590, 'Sci-Fi': 1140, 'Fantasy': 1092, 'Modern': 998}\n"
          ]
        }
      ],
      "source": [
        "print(\"Total Number of Revised Genres: \", len(revised_genre_count))\n",
        "\n",
        "sorted_revised_genre_count = dict(sorted(revised_genre_count.items(), key=lambda item: item[1], reverse=True))\n",
        "print(\"Individual Revised Genres Count: \\n\", sorted_revised_genre_count)"
      ]
    },
    {
      "cell_type": "code",
      "execution_count": null,
      "metadata": {
        "id": "wr_bcboHCK6e"
      },
      "outputs": [],
      "source": [
        "encode_genre_types = { key: idx for idx, (key, value) in enumerate(revised_genre_count.items())}\n",
        "\n",
        "with open(\"json_files/original/genre_types_encoded_original.json\", \"w\") as fp:\n",
        "  json.dump(encode_genre_types, fp)"
      ]
    },
    {
      "cell_type": "code",
      "execution_count": null,
      "metadata": {
        "colab": {
          "base_uri": "https://localhost:8080/"
        },
        "id": "SorOAr_BCylQ",
        "outputId": "213ca206-29cc-42ec-875c-d6cdb340cd71"
      },
      "outputs": [
        {
          "output_type": "execute_result",
          "data": {
            "text/plain": [
              "{'Action Adventure': 0,\n",
              " 'Fantasy': 1,\n",
              " 'Sports': 2,\n",
              " 'Modern': 3,\n",
              " '3D': 4,\n",
              " 'Action': 5,\n",
              " 'Platformer': 6,\n",
              " 'General': 7,\n",
              " 'Role-Playing': 8,\n",
              " 'Shooter': 9,\n",
              " 'First-Person': 10,\n",
              " 'Sci-Fi': 11,\n",
              " 'Arcade': 12,\n",
              " 'Miscellaneous': 13,\n",
              " 'Adventure': 14,\n",
              " '2D': 15,\n",
              " 'Strategy': 16}"
            ]
          },
          "metadata": {},
          "execution_count": 80
        }
      ],
      "source": [
        "encode_genre_types"
      ]
    },
    {
      "cell_type": "code",
      "execution_count": null,
      "metadata": {
        "colab": {
          "base_uri": "https://localhost:8080/"
        },
        "id": "vdHxv3OKCzzR",
        "outputId": "05527a0a-f0f4-4936-9fd9-1837268f0370"
      },
      "outputs": [
        {
          "output_type": "execute_result",
          "data": {
            "text/plain": [
              "[0, 0, 0, 0, 1, 1, 0, 0, 0, 0, 0, 0, 0, 0, 0, 0, 0]"
            ]
          },
          "metadata": {},
          "execution_count": 81
        }
      ],
      "source": [
        "# We need this because for multilabel classification all genres have possibility to be present in the predictions\n",
        "categorical_genre_list = []\n",
        "revised_genres_list = df[\"Revised Genres\"].to_list()\n",
        "\n",
        "for revised_genres in revised_genres_list:\n",
        "  categorical_list = [0] * len(encode_genre_types)\n",
        "\n",
        "  for genre in revised_genres:\n",
        "    if genre in encode_genre_types:\n",
        "      genre_type_index = encode_genre_types[genre]\n",
        "      categorical_list[genre_type_index] = 1\n",
        "\n",
        "  categorical_genre_list.append(categorical_list)\n",
        "\n",
        "categorical_genre_list[3][:23]"
      ]
    },
    {
      "cell_type": "code",
      "execution_count": null,
      "metadata": {
        "id": "gvWTpJokDzze"
      },
      "outputs": [],
      "source": [
        "df[\"Genre Cat List\"] = categorical_genre_list"
      ]
    },
    {
      "cell_type": "code",
      "execution_count": null,
      "metadata": {
        "colab": {
          "base_uri": "https://localhost:8080/",
          "height": 519
        },
        "id": "5-2NTx8QD1V3",
        "outputId": "2a7dcda1-f6a0-4a25-f8ce-55506fe0a67d"
      },
      "outputs": [
        {
          "output_type": "execute_result",
          "data": {
            "text/plain": [
              "                                   Name  \\\n",
              "0  The Legend of Zelda: Ocarina of Time   \n",
              "1              Tony Hawk's Pro Skater 2   \n",
              "2                   Grand Theft Auto IV   \n",
              "3                           SoulCalibur   \n",
              "4                   Grand Theft Auto IV   \n",
              "\n",
              "                                                                                                                                                                                                                                                                                                                                                                                                                                                                                                                                                                                                                   Summary  \\\n",
              "0                                                                                                                                                                                                 As a young boy, Link is tricked by Ganondorf, the King of the Gerudo Thieves. The evil human uses Link to gain access to the Sacred Realm, where he places his tainted hands on Triforce and transforms the beautiful Hyrulean landscape into a barren wasteland. Link is determined to fix the problems he helped to create, so with the help of Rauru he travels through time gathering the powers of the Seven Sages.   \n",
              "1                                                                                                                                                                                                                                                                                                                                                                                                                As most major publishers' development efforts shift to any number of next-generation platforms, Tony Hawk 2 will likely stand as one of the last truly fantastic games to be released on the PlayStation.   \n",
              "2  [Metacritic's 2008 PS3 Game of the Year; Also known as \"GTA IV\"] What does the American Dream mean today? For Niko Belic, fresh off the boat from Europe. It's the hope he can escape his past. For his cousin, Roman, it is the vision that together they can find fortune in Liberty City, gateway to the land of opportunity. As they slip into debt and are dragged into a criminal underworld by a series of shysters, thieves and sociopaths, they discover that the reality is very different from the dream in a city that worships money and status, and is heaven for those who have them an a living nigh...   \n",
              "3                                                                                                                                                                                                                                                                                                                     This is a tale of souls and swords, transcending the world and all its history, told for all eternity... The greatest weapons-based fighter returns, this time on Sega Dreamcast. Soul Calibur unleashes incredible graphics, fantastic fighters, and combos so amazing they'll make your head spin!   \n",
              "4  [Metacritic's 2008 Xbox 360 Game of the Year; Also known as \"GTA IV\"] What does the American Dream mean today? For Niko Belic, fresh off the boat from Europe. It's the hope he can escape his past. For his cousin, Roman, it is the vision that together they can find fortune in Liberty City, gateway to the land of opportunity. As they slip into debt and are dragged into a criminal underworld by a series of shysters, thieves and sociopaths, they discover that the reality is very different from the dream in a city that worships money and status, and is heaven for those who have them an a living...   \n",
              "\n",
              "                                                   Genres  \\\n",
              "0                         ['Action Adventure', 'Fantasy']   \n",
              "1              ['Sports', 'Alternative', 'Skateboarding']   \n",
              "2  ['Action Adventure', 'Modern', 'Modern', 'Open-World']   \n",
              "3                            ['Action', 'Fighting', '3D']   \n",
              "4  ['Action Adventure', 'Modern', 'Modern', 'Open-World']   \n",
              "\n",
              "                Revised Genres  \\\n",
              "0  [Action Adventure, Fantasy]   \n",
              "1                     [Sports]   \n",
              "2   [Action Adventure, Modern]   \n",
              "3                 [3D, Action]   \n",
              "4   [Action Adventure, Modern]   \n",
              "\n",
              "                                        Genre Cat List  \n",
              "0  [1, 1, 0, 0, 0, 0, 0, 0, 0, 0, 0, 0, 0, 0, 0, 0, 0]  \n",
              "1  [0, 0, 1, 0, 0, 0, 0, 0, 0, 0, 0, 0, 0, 0, 0, 0, 0]  \n",
              "2  [1, 0, 0, 1, 0, 0, 0, 0, 0, 0, 0, 0, 0, 0, 0, 0, 0]  \n",
              "3  [0, 0, 0, 0, 1, 1, 0, 0, 0, 0, 0, 0, 0, 0, 0, 0, 0]  \n",
              "4  [1, 0, 0, 1, 0, 0, 0, 0, 0, 0, 0, 0, 0, 0, 0, 0, 0]  "
            ],
            "text/html": [
              "\n",
              "  <div id=\"df-96bac911-0c84-424c-9c3e-97c2889bcb3b\" class=\"colab-df-container\">\n",
              "    <div>\n",
              "<style scoped>\n",
              "    .dataframe tbody tr th:only-of-type {\n",
              "        vertical-align: middle;\n",
              "    }\n",
              "\n",
              "    .dataframe tbody tr th {\n",
              "        vertical-align: top;\n",
              "    }\n",
              "\n",
              "    .dataframe thead th {\n",
              "        text-align: right;\n",
              "    }\n",
              "</style>\n",
              "<table border=\"1\" class=\"dataframe\">\n",
              "  <thead>\n",
              "    <tr style=\"text-align: right;\">\n",
              "      <th></th>\n",
              "      <th>Name</th>\n",
              "      <th>Summary</th>\n",
              "      <th>Genres</th>\n",
              "      <th>Revised Genres</th>\n",
              "      <th>Genre Cat List</th>\n",
              "    </tr>\n",
              "  </thead>\n",
              "  <tbody>\n",
              "    <tr>\n",
              "      <th>0</th>\n",
              "      <td>The Legend of Zelda: Ocarina of Time</td>\n",
              "      <td>As a young boy, Link is tricked by Ganondorf, the King of the Gerudo Thieves. The evil human uses Link to gain access to the Sacred Realm, where he places his tainted hands on Triforce and transforms the beautiful Hyrulean landscape into a barren wasteland. Link is determined to fix the problems he helped to create, so with the help of Rauru he travels through time gathering the powers of the Seven Sages.</td>\n",
              "      <td>['Action Adventure', 'Fantasy']</td>\n",
              "      <td>[Action Adventure, Fantasy]</td>\n",
              "      <td>[1, 1, 0, 0, 0, 0, 0, 0, 0, 0, 0, 0, 0, 0, 0, 0, 0]</td>\n",
              "    </tr>\n",
              "    <tr>\n",
              "      <th>1</th>\n",
              "      <td>Tony Hawk's Pro Skater 2</td>\n",
              "      <td>As most major publishers' development efforts shift to any number of next-generation platforms, Tony Hawk 2 will likely stand as one of the last truly fantastic games to be released on the PlayStation.</td>\n",
              "      <td>['Sports', 'Alternative', 'Skateboarding']</td>\n",
              "      <td>[Sports]</td>\n",
              "      <td>[0, 0, 1, 0, 0, 0, 0, 0, 0, 0, 0, 0, 0, 0, 0, 0, 0]</td>\n",
              "    </tr>\n",
              "    <tr>\n",
              "      <th>2</th>\n",
              "      <td>Grand Theft Auto IV</td>\n",
              "      <td>[Metacritic's 2008 PS3 Game of the Year; Also known as \"GTA IV\"] What does the American Dream mean today? For Niko Belic, fresh off the boat from Europe. It's the hope he can escape his past. For his cousin, Roman, it is the vision that together they can find fortune in Liberty City, gateway to the land of opportunity. As they slip into debt and are dragged into a criminal underworld by a series of shysters, thieves and sociopaths, they discover that the reality is very different from the dream in a city that worships money and status, and is heaven for those who have them an a living nigh...</td>\n",
              "      <td>['Action Adventure', 'Modern', 'Modern', 'Open-World']</td>\n",
              "      <td>[Action Adventure, Modern]</td>\n",
              "      <td>[1, 0, 0, 1, 0, 0, 0, 0, 0, 0, 0, 0, 0, 0, 0, 0, 0]</td>\n",
              "    </tr>\n",
              "    <tr>\n",
              "      <th>3</th>\n",
              "      <td>SoulCalibur</td>\n",
              "      <td>This is a tale of souls and swords, transcending the world and all its history, told for all eternity... The greatest weapons-based fighter returns, this time on Sega Dreamcast. Soul Calibur unleashes incredible graphics, fantastic fighters, and combos so amazing they'll make your head spin!</td>\n",
              "      <td>['Action', 'Fighting', '3D']</td>\n",
              "      <td>[3D, Action]</td>\n",
              "      <td>[0, 0, 0, 0, 1, 1, 0, 0, 0, 0, 0, 0, 0, 0, 0, 0, 0]</td>\n",
              "    </tr>\n",
              "    <tr>\n",
              "      <th>4</th>\n",
              "      <td>Grand Theft Auto IV</td>\n",
              "      <td>[Metacritic's 2008 Xbox 360 Game of the Year; Also known as \"GTA IV\"] What does the American Dream mean today? For Niko Belic, fresh off the boat from Europe. It's the hope he can escape his past. For his cousin, Roman, it is the vision that together they can find fortune in Liberty City, gateway to the land of opportunity. As they slip into debt and are dragged into a criminal underworld by a series of shysters, thieves and sociopaths, they discover that the reality is very different from the dream in a city that worships money and status, and is heaven for those who have them an a living...</td>\n",
              "      <td>['Action Adventure', 'Modern', 'Modern', 'Open-World']</td>\n",
              "      <td>[Action Adventure, Modern]</td>\n",
              "      <td>[1, 0, 0, 1, 0, 0, 0, 0, 0, 0, 0, 0, 0, 0, 0, 0, 0]</td>\n",
              "    </tr>\n",
              "  </tbody>\n",
              "</table>\n",
              "</div>\n",
              "    <div class=\"colab-df-buttons\">\n",
              "\n",
              "  <div class=\"colab-df-container\">\n",
              "    <button class=\"colab-df-convert\" onclick=\"convertToInteractive('df-96bac911-0c84-424c-9c3e-97c2889bcb3b')\"\n",
              "            title=\"Convert this dataframe to an interactive table.\"\n",
              "            style=\"display:none;\">\n",
              "\n",
              "  <svg xmlns=\"http://www.w3.org/2000/svg\" height=\"24px\" viewBox=\"0 -960 960 960\">\n",
              "    <path d=\"M120-120v-720h720v720H120Zm60-500h600v-160H180v160Zm220 220h160v-160H400v160Zm0 220h160v-160H400v160ZM180-400h160v-160H180v160Zm440 0h160v-160H620v160ZM180-180h160v-160H180v160Zm440 0h160v-160H620v160Z\"/>\n",
              "  </svg>\n",
              "    </button>\n",
              "\n",
              "  <style>\n",
              "    .colab-df-container {\n",
              "      display:flex;\n",
              "      gap: 12px;\n",
              "    }\n",
              "\n",
              "    .colab-df-convert {\n",
              "      background-color: #E8F0FE;\n",
              "      border: none;\n",
              "      border-radius: 50%;\n",
              "      cursor: pointer;\n",
              "      display: none;\n",
              "      fill: #1967D2;\n",
              "      height: 32px;\n",
              "      padding: 0 0 0 0;\n",
              "      width: 32px;\n",
              "    }\n",
              "\n",
              "    .colab-df-convert:hover {\n",
              "      background-color: #E2EBFA;\n",
              "      box-shadow: 0px 1px 2px rgba(60, 64, 67, 0.3), 0px 1px 3px 1px rgba(60, 64, 67, 0.15);\n",
              "      fill: #174EA6;\n",
              "    }\n",
              "\n",
              "    .colab-df-buttons div {\n",
              "      margin-bottom: 4px;\n",
              "    }\n",
              "\n",
              "    [theme=dark] .colab-df-convert {\n",
              "      background-color: #3B4455;\n",
              "      fill: #D2E3FC;\n",
              "    }\n",
              "\n",
              "    [theme=dark] .colab-df-convert:hover {\n",
              "      background-color: #434B5C;\n",
              "      box-shadow: 0px 1px 3px 1px rgba(0, 0, 0, 0.15);\n",
              "      filter: drop-shadow(0px 1px 2px rgba(0, 0, 0, 0.3));\n",
              "      fill: #FFFFFF;\n",
              "    }\n",
              "  </style>\n",
              "\n",
              "    <script>\n",
              "      const buttonEl =\n",
              "        document.querySelector('#df-96bac911-0c84-424c-9c3e-97c2889bcb3b button.colab-df-convert');\n",
              "      buttonEl.style.display =\n",
              "        google.colab.kernel.accessAllowed ? 'block' : 'none';\n",
              "\n",
              "      async function convertToInteractive(key) {\n",
              "        const element = document.querySelector('#df-96bac911-0c84-424c-9c3e-97c2889bcb3b');\n",
              "        const dataTable =\n",
              "          await google.colab.kernel.invokeFunction('convertToInteractive',\n",
              "                                                    [key], {});\n",
              "        if (!dataTable) return;\n",
              "\n",
              "        const docLinkHtml = 'Like what you see? Visit the ' +\n",
              "          '<a target=\"_blank\" href=https://colab.research.google.com/notebooks/data_table.ipynb>data table notebook</a>'\n",
              "          + ' to learn more about interactive tables.';\n",
              "        element.innerHTML = '';\n",
              "        dataTable['output_type'] = 'display_data';\n",
              "        await google.colab.output.renderOutput(dataTable, element);\n",
              "        const docLink = document.createElement('div');\n",
              "        docLink.innerHTML = docLinkHtml;\n",
              "        element.appendChild(docLink);\n",
              "      }\n",
              "    </script>\n",
              "  </div>\n",
              "\n",
              "\n",
              "<div id=\"df-11368dc1-9685-42f1-9a54-5add68347981\">\n",
              "  <button class=\"colab-df-quickchart\" onclick=\"quickchart('df-11368dc1-9685-42f1-9a54-5add68347981')\"\n",
              "            title=\"Suggest charts.\"\n",
              "            style=\"display:none;\">\n",
              "\n",
              "<svg xmlns=\"http://www.w3.org/2000/svg\" height=\"24px\"viewBox=\"0 0 24 24\"\n",
              "     width=\"24px\">\n",
              "    <g>\n",
              "        <path d=\"M19 3H5c-1.1 0-2 .9-2 2v14c0 1.1.9 2 2 2h14c1.1 0 2-.9 2-2V5c0-1.1-.9-2-2-2zM9 17H7v-7h2v7zm4 0h-2V7h2v10zm4 0h-2v-4h2v4z\"/>\n",
              "    </g>\n",
              "</svg>\n",
              "  </button>\n",
              "\n",
              "<style>\n",
              "  .colab-df-quickchart {\n",
              "    background-color: #E8F0FE;\n",
              "    border: none;\n",
              "    border-radius: 50%;\n",
              "    cursor: pointer;\n",
              "    display: none;\n",
              "    fill: #1967D2;\n",
              "    height: 32px;\n",
              "    padding: 0 0 0 0;\n",
              "    width: 32px;\n",
              "  }\n",
              "\n",
              "  .colab-df-quickchart:hover {\n",
              "    background-color: #E2EBFA;\n",
              "    box-shadow: 0px 1px 2px rgba(60, 64, 67, 0.3), 0px 1px 3px 1px rgba(60, 64, 67, 0.15);\n",
              "    fill: #174EA6;\n",
              "  }\n",
              "\n",
              "  [theme=dark] .colab-df-quickchart {\n",
              "    background-color: #3B4455;\n",
              "    fill: #D2E3FC;\n",
              "  }\n",
              "\n",
              "  [theme=dark] .colab-df-quickchart:hover {\n",
              "    background-color: #434B5C;\n",
              "    box-shadow: 0px 1px 3px 1px rgba(0, 0, 0, 0.15);\n",
              "    filter: drop-shadow(0px 1px 2px rgba(0, 0, 0, 0.3));\n",
              "    fill: #FFFFFF;\n",
              "  }\n",
              "</style>\n",
              "\n",
              "  <script>\n",
              "    async function quickchart(key) {\n",
              "      const charts = await google.colab.kernel.invokeFunction(\n",
              "          'suggestCharts', [key], {});\n",
              "    }\n",
              "    (() => {\n",
              "      let quickchartButtonEl =\n",
              "        document.querySelector('#df-11368dc1-9685-42f1-9a54-5add68347981 button');\n",
              "      quickchartButtonEl.style.display =\n",
              "        google.colab.kernel.accessAllowed ? 'block' : 'none';\n",
              "    })();\n",
              "  </script>\n",
              "</div>\n",
              "    </div>\n",
              "  </div>\n"
            ]
          },
          "metadata": {},
          "execution_count": 83
        }
      ],
      "source": [
        "df.head()"
      ]
    },
    {
      "cell_type": "code",
      "execution_count": null,
      "metadata": {
        "id": "Hua6D2DqEaN8"
      },
      "outputs": [],
      "source": [
        "# Drop Duplicate Summary from the DataFrame\n",
        "df = df.drop_duplicates(subset = \"Summary\", keep='first')"
      ]
    },
    {
      "cell_type": "code",
      "execution_count": null,
      "metadata": {
        "id": "scgxqX5QEtBP"
      },
      "outputs": [],
      "source": [
        "# Drop Genres Column\n",
        "df.drop([\"Genres\"], axis = 1, inplace = True)"
      ]
    },
    {
      "cell_type": "code",
      "execution_count": null,
      "metadata": {
        "id": "f2XOpaTqHVdP"
      },
      "outputs": [],
      "source": [
        "df = df.dropna().reset_index(drop=True)"
      ]
    },
    {
      "cell_type": "code",
      "execution_count": null,
      "metadata": {
        "colab": {
          "base_uri": "https://localhost:8080/"
        },
        "id": "l64QGi6ZHTWi",
        "outputId": "adfdc356-e4fb-4a91-8eb8-5ee8cdc3d995"
      },
      "outputs": [
        {
          "output_type": "execute_result",
          "data": {
            "text/plain": [
              "Name              0\n",
              "Summary           0\n",
              "Revised Genres    0\n",
              "Genre Cat List    0\n",
              "dtype: int64"
            ]
          },
          "metadata": {},
          "execution_count": 87
        }
      ],
      "source": [
        "df.isna().sum()"
      ]
    },
    {
      "cell_type": "code",
      "execution_count": null,
      "metadata": {
        "id": "IxCLKy4yhOg3"
      },
      "outputs": [],
      "source": [
        "# Shuffle DataFrame\n",
        "df = df.sample(frac=1, random_state=42).reset_index(drop=True)"
      ]
    },
    {
      "cell_type": "code",
      "execution_count": null,
      "metadata": {
        "colab": {
          "base_uri": "https://localhost:8080/",
          "height": 209
        },
        "id": "31EGUGZuEEZw",
        "outputId": "6c50bd75-8e95-4fdd-a63e-983c70349ad2"
      },
      "outputs": [
        {
          "output_type": "execute_result",
          "data": {
            "text/plain": [
              "                      Name  \\\n",
              "count                14657   \n",
              "unique               12152   \n",
              "top     Grand Theft Auto V   \n",
              "freq                     6   \n",
              "\n",
              "                                                                                                                                                                                                                                                                              Summary  \\\n",
              "count                                                                                                                                                                                                                                                                           14657   \n",
              "unique                                                                                                                                                                                                                                                                          14657   \n",
              "top     Railbound is a comfy track-bending puzzle game about a pair of dogs on a train journey around the world. Connect and sever railways across the world to help everyone reach their homes, and solve over 150 clever puzzles ranging from gentle slopes to twisted passageways.   \n",
              "freq                                                                                                                                                                                                                                                                                1   \n",
              "\n",
              "        Revised Genres                                       Genre Cat List  \n",
              "count            14657                                                14657  \n",
              "unique             348                                                  324  \n",
              "top     [Role-Playing]  [0, 0, 0, 0, 0, 0, 0, 0, 1, 0, 0, 0, 0, 0, 0, 0, 0]  \n",
              "freq              1132                                                 1132  "
            ],
            "text/html": [
              "\n",
              "  <div id=\"df-122ab588-d322-4f55-80c0-5f49ed829853\" class=\"colab-df-container\">\n",
              "    <div>\n",
              "<style scoped>\n",
              "    .dataframe tbody tr th:only-of-type {\n",
              "        vertical-align: middle;\n",
              "    }\n",
              "\n",
              "    .dataframe tbody tr th {\n",
              "        vertical-align: top;\n",
              "    }\n",
              "\n",
              "    .dataframe thead th {\n",
              "        text-align: right;\n",
              "    }\n",
              "</style>\n",
              "<table border=\"1\" class=\"dataframe\">\n",
              "  <thead>\n",
              "    <tr style=\"text-align: right;\">\n",
              "      <th></th>\n",
              "      <th>Name</th>\n",
              "      <th>Summary</th>\n",
              "      <th>Revised Genres</th>\n",
              "      <th>Genre Cat List</th>\n",
              "    </tr>\n",
              "  </thead>\n",
              "  <tbody>\n",
              "    <tr>\n",
              "      <th>count</th>\n",
              "      <td>14657</td>\n",
              "      <td>14657</td>\n",
              "      <td>14657</td>\n",
              "      <td>14657</td>\n",
              "    </tr>\n",
              "    <tr>\n",
              "      <th>unique</th>\n",
              "      <td>12152</td>\n",
              "      <td>14657</td>\n",
              "      <td>348</td>\n",
              "      <td>324</td>\n",
              "    </tr>\n",
              "    <tr>\n",
              "      <th>top</th>\n",
              "      <td>Grand Theft Auto V</td>\n",
              "      <td>Railbound is a comfy track-bending puzzle game about a pair of dogs on a train journey around the world. Connect and sever railways across the world to help everyone reach their homes, and solve over 150 clever puzzles ranging from gentle slopes to twisted passageways.</td>\n",
              "      <td>[Role-Playing]</td>\n",
              "      <td>[0, 0, 0, 0, 0, 0, 0, 0, 1, 0, 0, 0, 0, 0, 0, 0, 0]</td>\n",
              "    </tr>\n",
              "    <tr>\n",
              "      <th>freq</th>\n",
              "      <td>6</td>\n",
              "      <td>1</td>\n",
              "      <td>1132</td>\n",
              "      <td>1132</td>\n",
              "    </tr>\n",
              "  </tbody>\n",
              "</table>\n",
              "</div>\n",
              "    <div class=\"colab-df-buttons\">\n",
              "\n",
              "  <div class=\"colab-df-container\">\n",
              "    <button class=\"colab-df-convert\" onclick=\"convertToInteractive('df-122ab588-d322-4f55-80c0-5f49ed829853')\"\n",
              "            title=\"Convert this dataframe to an interactive table.\"\n",
              "            style=\"display:none;\">\n",
              "\n",
              "  <svg xmlns=\"http://www.w3.org/2000/svg\" height=\"24px\" viewBox=\"0 -960 960 960\">\n",
              "    <path d=\"M120-120v-720h720v720H120Zm60-500h600v-160H180v160Zm220 220h160v-160H400v160Zm0 220h160v-160H400v160ZM180-400h160v-160H180v160Zm440 0h160v-160H620v160ZM180-180h160v-160H180v160Zm440 0h160v-160H620v160Z\"/>\n",
              "  </svg>\n",
              "    </button>\n",
              "\n",
              "  <style>\n",
              "    .colab-df-container {\n",
              "      display:flex;\n",
              "      gap: 12px;\n",
              "    }\n",
              "\n",
              "    .colab-df-convert {\n",
              "      background-color: #E8F0FE;\n",
              "      border: none;\n",
              "      border-radius: 50%;\n",
              "      cursor: pointer;\n",
              "      display: none;\n",
              "      fill: #1967D2;\n",
              "      height: 32px;\n",
              "      padding: 0 0 0 0;\n",
              "      width: 32px;\n",
              "    }\n",
              "\n",
              "    .colab-df-convert:hover {\n",
              "      background-color: #E2EBFA;\n",
              "      box-shadow: 0px 1px 2px rgba(60, 64, 67, 0.3), 0px 1px 3px 1px rgba(60, 64, 67, 0.15);\n",
              "      fill: #174EA6;\n",
              "    }\n",
              "\n",
              "    .colab-df-buttons div {\n",
              "      margin-bottom: 4px;\n",
              "    }\n",
              "\n",
              "    [theme=dark] .colab-df-convert {\n",
              "      background-color: #3B4455;\n",
              "      fill: #D2E3FC;\n",
              "    }\n",
              "\n",
              "    [theme=dark] .colab-df-convert:hover {\n",
              "      background-color: #434B5C;\n",
              "      box-shadow: 0px 1px 3px 1px rgba(0, 0, 0, 0.15);\n",
              "      filter: drop-shadow(0px 1px 2px rgba(0, 0, 0, 0.3));\n",
              "      fill: #FFFFFF;\n",
              "    }\n",
              "  </style>\n",
              "\n",
              "    <script>\n",
              "      const buttonEl =\n",
              "        document.querySelector('#df-122ab588-d322-4f55-80c0-5f49ed829853 button.colab-df-convert');\n",
              "      buttonEl.style.display =\n",
              "        google.colab.kernel.accessAllowed ? 'block' : 'none';\n",
              "\n",
              "      async function convertToInteractive(key) {\n",
              "        const element = document.querySelector('#df-122ab588-d322-4f55-80c0-5f49ed829853');\n",
              "        const dataTable =\n",
              "          await google.colab.kernel.invokeFunction('convertToInteractive',\n",
              "                                                    [key], {});\n",
              "        if (!dataTable) return;\n",
              "\n",
              "        const docLinkHtml = 'Like what you see? Visit the ' +\n",
              "          '<a target=\"_blank\" href=https://colab.research.google.com/notebooks/data_table.ipynb>data table notebook</a>'\n",
              "          + ' to learn more about interactive tables.';\n",
              "        element.innerHTML = '';\n",
              "        dataTable['output_type'] = 'display_data';\n",
              "        await google.colab.output.renderOutput(dataTable, element);\n",
              "        const docLink = document.createElement('div');\n",
              "        docLink.innerHTML = docLinkHtml;\n",
              "        element.appendChild(docLink);\n",
              "      }\n",
              "    </script>\n",
              "  </div>\n",
              "\n",
              "    </div>\n",
              "  </div>\n"
            ]
          },
          "metadata": {},
          "execution_count": 89
        }
      ],
      "source": [
        "# Description of The DataFrame\n",
        "df.describe(include=\"object\")"
      ]
    },
    {
      "cell_type": "markdown",
      "metadata": {
        "id": "z14b4ATvICSM"
      },
      "source": [
        "## Data-Loaders and Modeling"
      ]
    },
    {
      "cell_type": "code",
      "execution_count": null,
      "metadata": {
        "id": "RuJviCSIHsQy"
      },
      "outputs": [],
      "source": [
        "labels = list(encode_genre_types.keys())"
      ]
    },
    {
      "cell_type": "code",
      "execution_count": null,
      "metadata": {
        "id": "eCsBpCQhILnX"
      },
      "outputs": [],
      "source": [
        "model_name = \"distilroberta-base\"\n",
        "\n",
        "model_cls = AutoModelForSequenceClassification\n",
        "config = AutoConfig.from_pretrained(model_name)\n",
        "config.num_labels = len(labels)\n",
        "\n",
        "hf_arch, hf_config, hf_tokenizer, hf_model = get_hf_objects(model_name, model_cls=model_cls, config=config)\n",
        "\n",
        "hf_model.config.problem_type = \"multi_label_classification\""
      ]
    },
    {
      "cell_type": "code",
      "execution_count": null,
      "metadata": {
        "id": "PGLD0minIm0i"
      },
      "outputs": [],
      "source": [
        "blocks = (\n",
        "    TextBlock(hf_arch, hf_config, hf_tokenizer, hf_model),\n",
        "    MultiCategoryBlock(encoded=True,vocab=labels)\n",
        ")\n",
        "\n",
        "dblock = DataBlock(\n",
        "    blocks=blocks,\n",
        "    get_x=ColReader(\"Summary\"),\n",
        "    get_y=ColReader(\"Genre Cat List\"),\n",
        "    splitter=RandomSplitter(valid_pct=0.1, seed=42)\n",
        ")"
      ]
    },
    {
      "cell_type": "code",
      "execution_count": null,
      "metadata": {
        "id": "wRSgf3bAJHsP"
      },
      "outputs": [],
      "source": [
        "dls = dblock.dataloaders(df, bs=32)\n",
        "\n",
        "torch.save(dls, \"dataloaders/original/dls-multilabel-game-classifier-original.pkl\")"
      ]
    },
    {
      "cell_type": "code",
      "execution_count": null,
      "metadata": {
        "colab": {
          "base_uri": "https://localhost:8080/"
        },
        "id": "ZDuDBQPgJSJ1",
        "outputId": "647919e0-8c31-4c32-fd65-92c3125ef619"
      },
      "outputs": [
        {
          "output_type": "execute_result",
          "data": {
            "text/plain": [
              "['Action Adventure', 'Fantasy', 'Sports', 'Modern', '3D', 'Action', 'Platformer', 'General', 'Role-Playing', 'Shooter', 'First-Person', 'Sci-Fi', 'Arcade', 'Miscellaneous', 'Adventure', '2D', 'Strategy']"
            ]
          },
          "metadata": {},
          "execution_count": 94
        }
      ],
      "source": [
        "dls.vocab"
      ]
    },
    {
      "cell_type": "code",
      "execution_count": null,
      "metadata": {
        "colab": {
          "base_uri": "https://localhost:8080/",
          "height": 314
        },
        "id": "3twCmVUfJfTZ",
        "outputId": "7537d40e-f0ad-4f8a-e52f-77580c54608a"
      },
      "outputs": [
        {
          "output_type": "display_data",
          "data": {
            "text/plain": [
              "<IPython.core.display.HTML object>"
            ],
            "text/html": [
              "<table border=\"1\" class=\"dataframe\">\n",
              "  <thead>\n",
              "    <tr style=\"text-align: right;\">\n",
              "      <th></th>\n",
              "      <th>text</th>\n",
              "      <th>target</th>\n",
              "    </tr>\n",
              "  </thead>\n",
              "  <tbody>\n",
              "    <tr>\n",
              "      <th>0</th>\n",
              "      <td>In The Eternal Cylinder, players control a herd of adorable creatures called Trebhums and must explore a strange alien world filled with exotic lifeforms, surreal environments, and the constant threat of the Cylinder, a gargantuan rolling structure of ancient origin which crushes everything in its path. This unique ecosystem is a massive, procedurally generated land with unique animal AI, real-time world destruction, and organic exploration and puzzle design to create emergent gameplay that ensures no two</td>\n",
              "      <td>[Action Adventure]</td>\n",
              "    </tr>\n",
              "    <tr>\n",
              "      <th>1</th>\n",
              "      <td>You are Geralt of Rivia, mercenary monster slayer. Before you stands a war-torn, monster-infested continent you can explore at will. Your current contract? Tracking down Ciri — the Child of Prophecy, a living weapon that can alter the shape of the world. The Complete Edition contains the base game, offering a huge, over 100-hour long, open-world adventure, as well as both of its massive story expansions: Hearts of Stone &amp; Blood and Wine worth an extra 50 hours of gameplay! It also comes with all additional</td>\n",
              "      <td>[Role-Playing]</td>\n",
              "    </tr>\n",
              "    <tr>\n",
              "      <th>2</th>\n",
              "      <td>Lemnis Gate is a time-warping, turn-based combat strategy FPS. Over five alternating turns taking place in a 25” time-loop, you are called to master the unique abilities of a varied cast of deep-space operatives and outskill, outsmart, and outmanoeuvre your opponent in mind-bending four-dimensional battles. Lemnis Gate twists time to subvert one of the world’s most popular game genres and offers a relentlessly inventive multiplayer experience deeply rooted in tactical FPS gameplay. Challenge yourself to th</td>\n",
              "      <td>[Action, Shooter, First-Person, Arcade]</td>\n",
              "    </tr>\n",
              "    <tr>\n",
              "      <th>3</th>\n",
              "      <td>Get ready for the GREATEST platformer with the most responsive controls to hit the App Store yet!The world needs your help! Evil scientists worldwide have joined forces forming a \"League of Evil\"; the only super agent who can stop them is YOU!As a specially trained agent you can double jump, flipping your way over obstacles. You are also trained in wall jumping gaps to reach new heights. So get ready to show your sick acrobatic moves across 160 challenging levels! Fight your way through your mission and fi</td>\n",
              "      <td>[Modern, Strategy]</td>\n",
              "    </tr>\n",
              "  </tbody>\n",
              "</table>"
            ]
          },
          "metadata": {}
        }
      ],
      "source": [
        "dls.show_batch(dataloaders=dls, max_n=4, trunc_at=512)"
      ]
    },
    {
      "cell_type": "code",
      "execution_count": null,
      "metadata": {
        "colab": {
          "base_uri": "https://localhost:8080/",
          "height": 154
        },
        "id": "eyq3sXdFJoXp",
        "outputId": "fa7c50a1-eaf5-4677-cd4e-600f234ed595"
      },
      "outputs": [
        {
          "output_type": "display_data",
          "data": {
            "text/plain": [
              "<IPython.core.display.HTML object>"
            ],
            "text/html": [
              "<hr/>\n",
              "<h3>accuracy_multi</h3>\n",
              "<blockquote><pre><code>accuracy_multi(inp, targ, thresh=0.5, sigmoid=True)</code></pre></blockquote><p>Compute accuracy when `inp` and `targ` are the same size.</p>\n",
              "<p><a href=\"https://docs.fast.ai/metrics.html#accuracy_multi\" target=\"_blank\" rel=\"noreferrer noopener\">Show in docs</a></p>"
            ]
          },
          "metadata": {}
        }
      ],
      "source": [
        "doc(accuracy_multi)"
      ]
    },
    {
      "cell_type": "code",
      "execution_count": null,
      "metadata": {
        "id": "dwXfi4PIJuK1"
      },
      "outputs": [],
      "source": [
        "model = BaseModelWrapper(hf_model)\n",
        "\n",
        "acc_02 = partial(accuracy_multi, thresh=0.2)\n",
        "\n",
        "learner = Learner(\n",
        "    dls,\n",
        "    model,\n",
        "    opt_func=partial(OptimWrapper, opt=torch.optim.AdamW),\n",
        "    loss_func=BCEWithLogitsLossFlat(),\n",
        "    metrics=[acc_02],\n",
        "    cbs=[BaseModelCallback],\n",
        "    splitter=blurr_splitter\n",
        ").to_fp16()"
      ]
    },
    {
      "cell_type": "markdown",
      "metadata": {
        "id": "vpg9DEF6KQlA"
      },
      "source": [
        "## Stage: 0"
      ]
    },
    {
      "cell_type": "code",
      "execution_count": null,
      "metadata": {
        "id": "WquxHPQpKSIC"
      },
      "outputs": [],
      "source": [
        "learner.freeze()"
      ]
    },
    {
      "cell_type": "code",
      "execution_count": null,
      "metadata": {
        "colab": {
          "base_uri": "https://localhost:8080/",
          "height": 471
        },
        "id": "FuFJCbaLLJtu",
        "outputId": "b3ad99c4-9eef-417b-9559-8e91886e8430"
      },
      "outputs": [
        {
          "output_type": "display_data",
          "data": {
            "text/plain": [
              "<IPython.core.display.HTML object>"
            ],
            "text/html": [
              "\n",
              "<style>\n",
              "    /* Turns off some styling */\n",
              "    progress {\n",
              "        /* gets rid of default border in Firefox and Opera. */\n",
              "        border: none;\n",
              "        /* Needs to be in here for Safari polyfill so background images work as expected. */\n",
              "        background-size: auto;\n",
              "    }\n",
              "    progress:not([value]), progress:not([value])::-webkit-progress-bar {\n",
              "        background: repeating-linear-gradient(45deg, #7e7e7e, #7e7e7e 10px, #5c5c5c 10px, #5c5c5c 20px);\n",
              "    }\n",
              "    .progress-bar-interrupted, .progress-bar-interrupted::-webkit-progress-bar {\n",
              "        background: #F44336;\n",
              "    }\n",
              "</style>\n"
            ]
          },
          "metadata": {}
        },
        {
          "output_type": "display_data",
          "data": {
            "text/plain": [
              "<IPython.core.display.HTML object>"
            ],
            "text/html": []
          },
          "metadata": {}
        },
        {
          "output_type": "execute_result",
          "data": {
            "text/plain": [
              "SuggestedLRs(slide=0.0014454397605732083, valley=0.00013182566908653826)"
            ]
          },
          "metadata": {},
          "execution_count": 99
        },
        {
          "output_type": "display_data",
          "data": {
            "text/plain": [
              "<Figure size 640x480 with 1 Axes>"
            ],
            "image/png": "[encoded data removed]"
          },
          "metadata": {}
        }
      ],
      "source": [
        "learner.lr_find(suggest_funcs=[slide, valley])"
      ]
    },
    {
      "cell_type": "code",
      "execution_count": null,
      "metadata": {
        "colab": {
          "base_uri": "https://localhost:8080/",
          "height": 81
        },
        "id": "VmBh_GZtM-zV",
        "outputId": "8248dccf-a394-489e-cbe0-882720227a4e"
      },
      "outputs": [
        {
          "output_type": "display_data",
          "data": {
            "text/plain": [
              "<IPython.core.display.HTML object>"
            ],
            "text/html": [
              "\n",
              "<style>\n",
              "    /* Turns off some styling */\n",
              "    progress {\n",
              "        /* gets rid of default border in Firefox and Opera. */\n",
              "        border: none;\n",
              "        /* Needs to be in here for Safari polyfill so background images work as expected. */\n",
              "        background-size: auto;\n",
              "    }\n",
              "    progress:not([value]), progress:not([value])::-webkit-progress-bar {\n",
              "        background: repeating-linear-gradient(45deg, #7e7e7e, #7e7e7e 10px, #5c5c5c 10px, #5c5c5c 20px);\n",
              "    }\n",
              "    .progress-bar-interrupted, .progress-bar-interrupted::-webkit-progress-bar {\n",
              "        background: #F44336;\n",
              "    }\n",
              "</style>\n"
            ]
          },
          "metadata": {}
        },
        {
          "output_type": "display_data",
          "data": {
            "text/plain": [
              "<IPython.core.display.HTML object>"
            ],
            "text/html": [
              "<table border=\"1\" class=\"dataframe\">\n",
              "  <thead>\n",
              "    <tr style=\"text-align: left;\">\n",
              "      <th>epoch</th>\n",
              "      <th>train_loss</th>\n",
              "      <th>valid_loss</th>\n",
              "      <th>accuracy_multi</th>\n",
              "      <th>time</th>\n",
              "    </tr>\n",
              "  </thead>\n",
              "  <tbody>\n",
              "    <tr>\n",
              "      <td>0</td>\n",
              "      <td>0.359258</td>\n",
              "      <td>0.360506</td>\n",
              "      <td>0.830235</td>\n",
              "      <td>00:53</td>\n",
              "    </tr>\n",
              "  </tbody>\n",
              "</table>"
            ]
          },
          "metadata": {}
        }
      ],
      "source": [
        "learner.fit_one_cycle(1, 5.75e-4)"
      ]
    },
    {
      "cell_type": "code",
      "execution_count": null,
      "metadata": {
        "colab": {
          "base_uri": "https://localhost:8080/"
        },
        "id": "uWSMWHHFNmZO",
        "outputId": "80a68c1f-5f78-4647-b525-5a0cb1f122b6"
      },
      "outputs": [
        {
          "output_type": "execute_result",
          "data": {
            "text/plain": [
              "Path('models/original/game-ml-classifier-stage-original-0.pth')"
            ]
          },
          "metadata": {},
          "execution_count": 101
        }
      ],
      "source": [
        "learner.save(\"original/game-ml-classifier-stage-original-0\")"
      ]
    },
    {
      "cell_type": "code",
      "execution_count": null,
      "metadata": {
        "id": "EvZ47jd4Np8A"
      },
      "outputs": [],
      "source": [
        "learner.export(\"models/original/game-ml-classifier-stage-original-0.pkl\")"
      ]
    },
    {
      "cell_type": "markdown",
      "metadata": {
        "id": "ho8HvLYYN5uI"
      },
      "source": [
        "## Stage: 1"
      ]
    },
    {
      "cell_type": "code",
      "execution_count": null,
      "metadata": {
        "id": "4N03lr5zOLCV"
      },
      "outputs": [],
      "source": [
        "learner.unfreeze()"
      ]
    },
    {
      "cell_type": "code",
      "execution_count": null,
      "metadata": {
        "colab": {
          "base_uri": "https://localhost:8080/",
          "height": 471
        },
        "id": "-z6UM4tYONmH",
        "outputId": "6202db54-5d2a-43ad-af34-2754472fcace"
      },
      "outputs": [
        {
          "output_type": "display_data",
          "data": {
            "text/plain": [
              "<IPython.core.display.HTML object>"
            ],
            "text/html": [
              "\n",
              "<style>\n",
              "    /* Turns off some styling */\n",
              "    progress {\n",
              "        /* gets rid of default border in Firefox and Opera. */\n",
              "        border: none;\n",
              "        /* Needs to be in here for Safari polyfill so background images work as expected. */\n",
              "        background-size: auto;\n",
              "    }\n",
              "    progress:not([value]), progress:not([value])::-webkit-progress-bar {\n",
              "        background: repeating-linear-gradient(45deg, #7e7e7e, #7e7e7e 10px, #5c5c5c 10px, #5c5c5c 20px);\n",
              "    }\n",
              "    .progress-bar-interrupted, .progress-bar-interrupted::-webkit-progress-bar {\n",
              "        background: #F44336;\n",
              "    }\n",
              "</style>\n"
            ]
          },
          "metadata": {}
        },
        {
          "output_type": "display_data",
          "data": {
            "text/plain": [
              "<IPython.core.display.HTML object>"
            ],
            "text/html": []
          },
          "metadata": {}
        },
        {
          "output_type": "execute_result",
          "data": {
            "text/plain": [
              "SuggestedLRs(slide=0.0014454397605732083, valley=2.0892961401841603e-05)"
            ]
          },
          "metadata": {},
          "execution_count": 104
        },
        {
          "output_type": "display_data",
          "data": {
            "text/plain": [
              "<Figure size 640x480 with 1 Axes>"
            ],
            "image/png": "[encoded data removed]"
          },
          "metadata": {}
        }
      ],
      "source": [
        "learner.lr_find(suggest_funcs=[slide, valley])"
      ]
    },
    {
      "cell_type": "code",
      "execution_count": null,
      "metadata": {
        "colab": {
          "base_uri": "https://localhost:8080/",
          "height": 143
        },
        "id": "sZ5fjkthOO_T",
        "outputId": "2e55d3c5-34cf-40b7-f66f-1f9234c83675"
      },
      "outputs": [
        {
          "output_type": "display_data",
          "data": {
            "text/plain": [
              "<IPython.core.display.HTML object>"
            ],
            "text/html": [
              "\n",
              "<style>\n",
              "    /* Turns off some styling */\n",
              "    progress {\n",
              "        /* gets rid of default border in Firefox and Opera. */\n",
              "        border: none;\n",
              "        /* Needs to be in here for Safari polyfill so background images work as expected. */\n",
              "        background-size: auto;\n",
              "    }\n",
              "    progress:not([value]), progress:not([value])::-webkit-progress-bar {\n",
              "        background: repeating-linear-gradient(45deg, #7e7e7e, #7e7e7e 10px, #5c5c5c 10px, #5c5c5c 20px);\n",
              "    }\n",
              "    .progress-bar-interrupted, .progress-bar-interrupted::-webkit-progress-bar {\n",
              "        background: #F44336;\n",
              "    }\n",
              "</style>\n"
            ]
          },
          "metadata": {}
        },
        {
          "output_type": "display_data",
          "data": {
            "text/plain": [
              "<IPython.core.display.HTML object>"
            ],
            "text/html": [
              "<table border=\"1\" class=\"dataframe\">\n",
              "  <thead>\n",
              "    <tr style=\"text-align: left;\">\n",
              "      <th>epoch</th>\n",
              "      <th>train_loss</th>\n",
              "      <th>valid_loss</th>\n",
              "      <th>accuracy_multi</th>\n",
              "      <th>time</th>\n",
              "    </tr>\n",
              "  </thead>\n",
              "  <tbody>\n",
              "    <tr>\n",
              "      <td>0</td>\n",
              "      <td>0.358620</td>\n",
              "      <td>0.361544</td>\n",
              "      <td>0.830235</td>\n",
              "      <td>01:13</td>\n",
              "    </tr>\n",
              "    <tr>\n",
              "      <td>1</td>\n",
              "      <td>0.363374</td>\n",
              "      <td>0.360399</td>\n",
              "      <td>0.830235</td>\n",
              "      <td>01:12</td>\n",
              "    </tr>\n",
              "    <tr>\n",
              "      <td>2</td>\n",
              "      <td>0.359411</td>\n",
              "      <td>0.360323</td>\n",
              "      <td>0.830235</td>\n",
              "      <td>01:13</td>\n",
              "    </tr>\n",
              "  </tbody>\n",
              "</table>"
            ]
          },
          "metadata": {}
        }
      ],
      "source": [
        "learner.fit_one_cycle(3,slice(1.75e-3, 1.75e-5))"
      ]
    },
    {
      "cell_type": "code",
      "execution_count": null,
      "metadata": {
        "colab": {
          "base_uri": "https://localhost:8080/"
        },
        "id": "bT444BMtOQMB",
        "outputId": "1220c1ac-bba7-4a5c-fe7e-9ca0531723bd"
      },
      "outputs": [
        {
          "output_type": "execute_result",
          "data": {
            "text/plain": [
              "Path('models/original/game-ml-classifier-stage-original-1.pth')"
            ]
          },
          "metadata": {},
          "execution_count": 106
        }
      ],
      "source": [
        "learner.save(\"original/game-ml-classifier-stage-original-1\")"
      ]
    },
    {
      "cell_type": "code",
      "execution_count": null,
      "metadata": {
        "id": "37jz-cEnORdj"
      },
      "outputs": [],
      "source": [
        "learner.export(\"models/original/game-ml-classifier-stage-original-1.pkl\")"
      ]
    },
    {
      "cell_type": "markdown",
      "metadata": {
        "id": "mNpuk-eFCkyS"
      },
      "source": [
        "## Data Split"
      ]
    },
    {
      "cell_type": "code",
      "execution_count": null,
      "metadata": {
        "colab": {
          "base_uri": "https://localhost:8080/"
        },
        "id": "mppSyNwJCnFm",
        "outputId": "8f6b3c67-33fd-4d3e-a955-368eb9fb70c4"
      },
      "outputs": [
        {
          "output_type": "stream",
          "name": "stdout",
          "text": [
            "Train Len:  13192\n",
            "Valid Len:  1465\n"
          ]
        }
      ],
      "source": [
        "splitter = RandomSplitter(valid_pct=0.1, seed=42)\n",
        "\n",
        "train_ids, valid_ids = splitter(df)\n",
        "\n",
        "print(\"Train Len: \", len(train_ids))\n",
        "print(\"Valid Len: \", len(valid_ids))"
      ]
    },
    {
      "cell_type": "code",
      "execution_count": null,
      "metadata": {
        "colab": {
          "base_uri": "https://localhost:8080/",
          "height": 467
        },
        "id": "vFTyELK7CtAe",
        "outputId": "6769d27b-1ef8-4a48-8bdc-f27fc7807e30"
      },
      "outputs": [
        {
          "output_type": "stream",
          "name": "stdout",
          "text": [
            "Valid Data: \n"
          ]
        },
        {
          "output_type": "execute_result",
          "data": {
            "text/plain": [
              "                            Name  \\\n",
              "2478       Unbound: Worlds Apart   \n",
              "5300                      Peggle   \n",
              "8193  Sid Meier's Alpha Centauri   \n",
              "3415          Pokemon Ultra Moon   \n",
              "962                 Mech Platoon   \n",
              "\n",
              "                                                                                                                                                                                                                                                                                                                                                                                                                                                                                                                                                                                                                      Summary  \\\n",
              "2478                                                                                                                                                                                                                                                                                                                                                                                                                Explore beautiful, hand-crafted Metroidvanian worlds by conjuring different magic portals. Each portal gives you unique abilities to solve puzzles, outsmart abominable creatures, and unravel mysteries.   \n",
              "5300                                                                                                                           [Playstation Network] The PlayStation Network edition of Peggle brings all the compelling gameplay action of the original PC version, including 55 levels of ball-bouncing madness, 10 unlockable Peggle Masters, Quick Play mode, Duel mode, and 75 Challenge mode levels. For non-stop competitive action, players can choose from two multiplayer options: two-player Duel mode, or Peg Party mode, where up to four players can compete against one another simultaneously. [PopCap Games]   \n",
              "8193                                                                                                                                                                         Legendary designer Sid Meier presents the next evolution in strategy games, with the most addictive, compelling gameplay yet. Explore the alien planet that is your new home and uncover its myriad mysteries. Discover over 75 extraordinary technologies. Build over 60 base upgrades and large-scale secret projects for your empire. Conquer your enemies with a war machine that you design from over 32,000 possible unit types. [Firaxis]   \n",
              "3415  A new light shines on the Alola region. Take on the role of a Pokemon Trainer and uncover new tales, and unravel the mystery behind the two forms reminiscent of the Legendary Pokemon. With new story additions and features this earns Pokemon Ultra Sun and Pokemon Ultra Moon the name \"Ultra!\" Another adventure is about to begin. New Pokemon forms have been discovered in the Aloha region in Pokemon Ultra Sun and Pokemon Ultra Moon. These forms are reminiscent of the Legendary Pokemon Solgaleo, Lunala, and Necrozma, first revealed in Pokemon Sun and Pokemon Moon. Head out on an epic journey as...   \n",
              "962                                                                                                                                                                                                                                                                             The wise men say \"there is no end to the truth.\" In this war-town place, there are two things without end - the universe and greed. Glittering stars give the impression of eternal serenity, but the reality is that they hide a lie. Among them blazes an endless war over limited resources; skirmishes that grow as the universe expands.   \n",
              "\n",
              "                                                                  Revised Genres  \\\n",
              "2478                                                           [Shooter, Action]   \n",
              "5300                                                  [Action Adventure, Modern]   \n",
              "8193                                                     [General, Role-Playing]   \n",
              "3415  [First-Person, Action Adventure, General, Action, Arcade, Sci-Fi, Shooter]   \n",
              "962                                                         [General, Adventure]   \n",
              "\n",
              "                                           Genre Cat List  \n",
              "2478  [0, 0, 0, 0, 0, 1, 0, 0, 0, 1, 0, 0, 0, 0, 0, 0, 0]  \n",
              "5300  [1, 0, 0, 1, 0, 0, 0, 0, 0, 0, 0, 0, 0, 0, 0, 0, 0]  \n",
              "8193  [0, 0, 0, 0, 0, 0, 0, 1, 1, 0, 0, 0, 0, 0, 0, 0, 0]  \n",
              "3415  [1, 0, 0, 0, 0, 1, 0, 1, 0, 1, 1, 1, 1, 0, 0, 0, 0]  \n",
              "962   [0, 0, 0, 0, 0, 0, 0, 1, 0, 0, 0, 0, 0, 0, 1, 0, 0]  "
            ],
            "text/html": [
              "\n",
              "  <div id=\"df-8d099436-cc70-466e-bee1-c53a9ae114c2\" class=\"colab-df-container\">\n",
              "    <div>\n",
              "<style scoped>\n",
              "    .dataframe tbody tr th:only-of-type {\n",
              "        vertical-align: middle;\n",
              "    }\n",
              "\n",
              "    .dataframe tbody tr th {\n",
              "        vertical-align: top;\n",
              "    }\n",
              "\n",
              "    .dataframe thead th {\n",
              "        text-align: right;\n",
              "    }\n",
              "</style>\n",
              "<table border=\"1\" class=\"dataframe\">\n",
              "  <thead>\n",
              "    <tr style=\"text-align: right;\">\n",
              "      <th></th>\n",
              "      <th>Name</th>\n",
              "      <th>Summary</th>\n",
              "      <th>Revised Genres</th>\n",
              "      <th>Genre Cat List</th>\n",
              "    </tr>\n",
              "  </thead>\n",
              "  <tbody>\n",
              "    <tr>\n",
              "      <th>2478</th>\n",
              "      <td>Unbound: Worlds Apart</td>\n",
              "      <td>Explore beautiful, hand-crafted Metroidvanian worlds by conjuring different magic portals. Each portal gives you unique abilities to solve puzzles, outsmart abominable creatures, and unravel mysteries.</td>\n",
              "      <td>[Shooter, Action]</td>\n",
              "      <td>[0, 0, 0, 0, 0, 1, 0, 0, 0, 1, 0, 0, 0, 0, 0, 0, 0]</td>\n",
              "    </tr>\n",
              "    <tr>\n",
              "      <th>5300</th>\n",
              "      <td>Peggle</td>\n",
              "      <td>[Playstation Network] The PlayStation Network edition of Peggle brings all the compelling gameplay action of the original PC version, including 55 levels of ball-bouncing madness, 10 unlockable Peggle Masters, Quick Play mode, Duel mode, and 75 Challenge mode levels. For non-stop competitive action, players can choose from two multiplayer options: two-player Duel mode, or Peg Party mode, where up to four players can compete against one another simultaneously. [PopCap Games]</td>\n",
              "      <td>[Action Adventure, Modern]</td>\n",
              "      <td>[1, 0, 0, 1, 0, 0, 0, 0, 0, 0, 0, 0, 0, 0, 0, 0, 0]</td>\n",
              "    </tr>\n",
              "    <tr>\n",
              "      <th>8193</th>\n",
              "      <td>Sid Meier's Alpha Centauri</td>\n",
              "      <td>Legendary designer Sid Meier presents the next evolution in strategy games, with the most addictive, compelling gameplay yet. Explore the alien planet that is your new home and uncover its myriad mysteries. Discover over 75 extraordinary technologies. Build over 60 base upgrades and large-scale secret projects for your empire. Conquer your enemies with a war machine that you design from over 32,000 possible unit types. [Firaxis]</td>\n",
              "      <td>[General, Role-Playing]</td>\n",
              "      <td>[0, 0, 0, 0, 0, 0, 0, 1, 1, 0, 0, 0, 0, 0, 0, 0, 0]</td>\n",
              "    </tr>\n",
              "    <tr>\n",
              "      <th>3415</th>\n",
              "      <td>Pokemon Ultra Moon</td>\n",
              "      <td>A new light shines on the Alola region. Take on the role of a Pokemon Trainer and uncover new tales, and unravel the mystery behind the two forms reminiscent of the Legendary Pokemon. With new story additions and features this earns Pokemon Ultra Sun and Pokemon Ultra Moon the name \"Ultra!\" Another adventure is about to begin. New Pokemon forms have been discovered in the Aloha region in Pokemon Ultra Sun and Pokemon Ultra Moon. These forms are reminiscent of the Legendary Pokemon Solgaleo, Lunala, and Necrozma, first revealed in Pokemon Sun and Pokemon Moon. Head out on an epic journey as...</td>\n",
              "      <td>[First-Person, Action Adventure, General, Action, Arcade, Sci-Fi, Shooter]</td>\n",
              "      <td>[1, 0, 0, 0, 0, 1, 0, 1, 0, 1, 1, 1, 1, 0, 0, 0, 0]</td>\n",
              "    </tr>\n",
              "    <tr>\n",
              "      <th>962</th>\n",
              "      <td>Mech Platoon</td>\n",
              "      <td>The wise men say \"there is no end to the truth.\" In this war-town place, there are two things without end - the universe and greed. Glittering stars give the impression of eternal serenity, but the reality is that they hide a lie. Among them blazes an endless war over limited resources; skirmishes that grow as the universe expands.</td>\n",
              "      <td>[General, Adventure]</td>\n",
              "      <td>[0, 0, 0, 0, 0, 0, 0, 1, 0, 0, 0, 0, 0, 0, 1, 0, 0]</td>\n",
              "    </tr>\n",
              "  </tbody>\n",
              "</table>\n",
              "</div>\n",
              "    <div class=\"colab-df-buttons\">\n",
              "\n",
              "  <div class=\"colab-df-container\">\n",
              "    <button class=\"colab-df-convert\" onclick=\"convertToInteractive('df-8d099436-cc70-466e-bee1-c53a9ae114c2')\"\n",
              "            title=\"Convert this dataframe to an interactive table.\"\n",
              "            style=\"display:none;\">\n",
              "\n",
              "  <svg xmlns=\"http://www.w3.org/2000/svg\" height=\"24px\" viewBox=\"0 -960 960 960\">\n",
              "    <path d=\"M120-120v-720h720v720H120Zm60-500h600v-160H180v160Zm220 220h160v-160H400v160Zm0 220h160v-160H400v160ZM180-400h160v-160H180v160Zm440 0h160v-160H620v160ZM180-180h160v-160H180v160Zm440 0h160v-160H620v160Z\"/>\n",
              "  </svg>\n",
              "    </button>\n",
              "\n",
              "  <style>\n",
              "    .colab-df-container {\n",
              "      display:flex;\n",
              "      gap: 12px;\n",
              "    }\n",
              "\n",
              "    .colab-df-convert {\n",
              "      background-color: #E8F0FE;\n",
              "      border: none;\n",
              "      border-radius: 50%;\n",
              "      cursor: pointer;\n",
              "      display: none;\n",
              "      fill: #1967D2;\n",
              "      height: 32px;\n",
              "      padding: 0 0 0 0;\n",
              "      width: 32px;\n",
              "    }\n",
              "\n",
              "    .colab-df-convert:hover {\n",
              "      background-color: #E2EBFA;\n",
              "      box-shadow: 0px 1px 2px rgba(60, 64, 67, 0.3), 0px 1px 3px 1px rgba(60, 64, 67, 0.15);\n",
              "      fill: #174EA6;\n",
              "    }\n",
              "\n",
              "    .colab-df-buttons div {\n",
              "      margin-bottom: 4px;\n",
              "    }\n",
              "\n",
              "    [theme=dark] .colab-df-convert {\n",
              "      background-color: #3B4455;\n",
              "      fill: #D2E3FC;\n",
              "    }\n",
              "\n",
              "    [theme=dark] .colab-df-convert:hover {\n",
              "      background-color: #434B5C;\n",
              "      box-shadow: 0px 1px 3px 1px rgba(0, 0, 0, 0.15);\n",
              "      filter: drop-shadow(0px 1px 2px rgba(0, 0, 0, 0.3));\n",
              "      fill: #FFFFFF;\n",
              "    }\n",
              "  </style>\n",
              "\n",
              "    <script>\n",
              "      const buttonEl =\n",
              "        document.querySelector('#df-8d099436-cc70-466e-bee1-c53a9ae114c2 button.colab-df-convert');\n",
              "      buttonEl.style.display =\n",
              "        google.colab.kernel.accessAllowed ? 'block' : 'none';\n",
              "\n",
              "      async function convertToInteractive(key) {\n",
              "        const element = document.querySelector('#df-8d099436-cc70-466e-bee1-c53a9ae114c2');\n",
              "        const dataTable =\n",
              "          await google.colab.kernel.invokeFunction('convertToInteractive',\n",
              "                                                    [key], {});\n",
              "        if (!dataTable) return;\n",
              "\n",
              "        const docLinkHtml = 'Like what you see? Visit the ' +\n",
              "          '<a target=\"_blank\" href=https://colab.research.google.com/notebooks/data_table.ipynb>data table notebook</a>'\n",
              "          + ' to learn more about interactive tables.';\n",
              "        element.innerHTML = '';\n",
              "        dataTable['output_type'] = 'display_data';\n",
              "        await google.colab.output.renderOutput(dataTable, element);\n",
              "        const docLink = document.createElement('div');\n",
              "        docLink.innerHTML = docLinkHtml;\n",
              "        element.appendChild(docLink);\n",
              "      }\n",
              "    </script>\n",
              "  </div>\n",
              "\n",
              "\n",
              "<div id=\"df-6ef34f84-e39e-494a-8c6d-7e4009434897\">\n",
              "  <button class=\"colab-df-quickchart\" onclick=\"quickchart('df-6ef34f84-e39e-494a-8c6d-7e4009434897')\"\n",
              "            title=\"Suggest charts.\"\n",
              "            style=\"display:none;\">\n",
              "\n",
              "<svg xmlns=\"http://www.w3.org/2000/svg\" height=\"24px\"viewBox=\"0 0 24 24\"\n",
              "     width=\"24px\">\n",
              "    <g>\n",
              "        <path d=\"M19 3H5c-1.1 0-2 .9-2 2v14c0 1.1.9 2 2 2h14c1.1 0 2-.9 2-2V5c0-1.1-.9-2-2-2zM9 17H7v-7h2v7zm4 0h-2V7h2v10zm4 0h-2v-4h2v4z\"/>\n",
              "    </g>\n",
              "</svg>\n",
              "  </button>\n",
              "\n",
              "<style>\n",
              "  .colab-df-quickchart {\n",
              "    background-color: #E8F0FE;\n",
              "    border: none;\n",
              "    border-radius: 50%;\n",
              "    cursor: pointer;\n",
              "    display: none;\n",
              "    fill: #1967D2;\n",
              "    height: 32px;\n",
              "    padding: 0 0 0 0;\n",
              "    width: 32px;\n",
              "  }\n",
              "\n",
              "  .colab-df-quickchart:hover {\n",
              "    background-color: #E2EBFA;\n",
              "    box-shadow: 0px 1px 2px rgba(60, 64, 67, 0.3), 0px 1px 3px 1px rgba(60, 64, 67, 0.15);\n",
              "    fill: #174EA6;\n",
              "  }\n",
              "\n",
              "  [theme=dark] .colab-df-quickchart {\n",
              "    background-color: #3B4455;\n",
              "    fill: #D2E3FC;\n",
              "  }\n",
              "\n",
              "  [theme=dark] .colab-df-quickchart:hover {\n",
              "    background-color: #434B5C;\n",
              "    box-shadow: 0px 1px 3px 1px rgba(0, 0, 0, 0.15);\n",
              "    filter: drop-shadow(0px 1px 2px rgba(0, 0, 0, 0.3));\n",
              "    fill: #FFFFFF;\n",
              "  }\n",
              "</style>\n",
              "\n",
              "  <script>\n",
              "    async function quickchart(key) {\n",
              "      const charts = await google.colab.kernel.invokeFunction(\n",
              "          'suggestCharts', [key], {});\n",
              "    }\n",
              "    (() => {\n",
              "      let quickchartButtonEl =\n",
              "        document.querySelector('#df-6ef34f84-e39e-494a-8c6d-7e4009434897 button');\n",
              "      quickchartButtonEl.style.display =\n",
              "        google.colab.kernel.accessAllowed ? 'block' : 'none';\n",
              "    })();\n",
              "  </script>\n",
              "</div>\n",
              "    </div>\n",
              "  </div>\n"
            ]
          },
          "metadata": {},
          "execution_count": 109
        }
      ],
      "source": [
        "valid_df = df.loc[valid_ids]\n",
        "\n",
        "print(\"Valid Data: \")\n",
        "valid_df.head()"
      ]
    },
    {
      "cell_type": "markdown",
      "metadata": {
        "id": "FZQvNij8Bkt-"
      },
      "source": [
        "## Evaluation"
      ]
    },
    {
      "cell_type": "code",
      "execution_count": null,
      "metadata": {
        "id": "vPvkxN2vD8Pm"
      },
      "outputs": [],
      "source": [
        "! pip install -q ohmeow-blurr"
      ]
    },
    {
      "cell_type": "code",
      "execution_count": null,
      "metadata": {
        "id": "FhvXBLkIEAXK"
      },
      "outputs": [],
      "source": [
        "learner_inf = learner"
      ]
    },
    {
      "cell_type": "code",
      "execution_count": null,
      "metadata": {
        "id": "O0tVHrRxBo8N"
      },
      "outputs": [],
      "source": [
        "from sklearn import metrics\n",
        "\n",
        "def metric_measures(test_df, preds):\n",
        "\n",
        "  targets = [np.asarray(target) for target in test_df['Genre Cat List'].to_list()]\n",
        "  outputs = [np.asarray(pred) for pred in preds]\n",
        "\n",
        "\n",
        "  accuracy = metrics.accuracy_score(targets, outputs)\n",
        "  f1_score_micro = metrics.f1_score(targets, outputs, average='micro')\n",
        "  f1_score_macro = metrics.f1_score(targets, outputs, average='macro')\n",
        "\n",
        "  print(f\"F1 Score (Micro) = {f1_score_micro}\")\n",
        "  print(f\"F1 Score (Macro) = {f1_score_macro}\")\n",
        "\n",
        "  return"
      ]
    },
    {
      "cell_type": "code",
      "execution_count": null,
      "metadata": {
        "colab": {
          "base_uri": "https://localhost:8080/",
          "height": 66,
          "referenced_widgets": [
            "98c7318b3cc048fea022804283ebf225",
            "12f41618caa64a78a3bb36c0bb3a2e80",
            "39e1a47ca99443be99a7c66a78d7a3c5",
            "917b2b37f3a94185807cfb56cf8a0331",
            "89ca3375a104441780a3d2566b71d3fe",
            "a4c8f1f6935541f18f46f1a1c697ba3e",
            "d2b9831982534ddea93808f01739c436",
            "148b3ef973d4458fad7a9ba588db5968",
            "d8ebb7c95c6e49a98e74a9a6676917af",
            "1e13c78d8bd148b48e666416b00eb664",
            "df5a690e4e8d4bb587ad965abc44dd9b"
          ]
        },
        "id": "R5CIAMkJBuYG",
        "outputId": "cd684554-9a8d-4e55-bbf6-bc220f8bd804"
      },
      "outputs": [
        {
          "output_type": "display_data",
          "data": {
            "text/plain": [
              "  0%|          | 0/1465 [00:00<?, ?it/s]"
            ],
            "application/vnd.jupyter.widget-view+json": {
              "version_major": 2,
              "version_minor": 0,
              "model_id": "98c7318b3cc048fea022804283ebf225"
            }
          },
          "metadata": {}
        },
        {
          "output_type": "execute_result",
          "data": {
            "text/plain": [
              "[0, 0, 0, 0, 0, 0, 0, 0, 0, 0, 0, 0, 0, 0, 0, 0, 0]"
            ]
          },
          "metadata": {},
          "execution_count": 113
        }
      ],
      "source": [
        "from tqdm.notebook import tqdm\n",
        "\n",
        "preds = []\n",
        "for idx, row in tqdm(valid_df.iterrows(), total=len(valid_df)):\n",
        "  desc = row['Summary']\n",
        "  labels = learner_inf.blurr_predict(desc)[0]['labels']\n",
        "  pred_genres = [0] * len(encode_genre_types)\n",
        "  for label in labels:\n",
        "    pred_genres[encode_genre_types[label]] = 1\n",
        "  preds.append(pred_genres)\n",
        "\n",
        "preds[0][:20]"
      ]
    },
    {
      "cell_type": "code",
      "source": [
        "print(preds[0])"
      ],
      "metadata": {
        "colab": {
          "base_uri": "https://localhost:8080/"
        },
        "id": "TnpQvJU3YE9n",
        "outputId": "58a733ce-3fe3-42ea-c2b9-a365a59b5cf6"
      },
      "execution_count": null,
      "outputs": [
        {
          "output_type": "stream",
          "name": "stdout",
          "text": [
            "[0, 0, 0, 0, 0, 0, 0, 0, 0, 0, 0, 0, 0, 0, 0, 0, 0]\n"
          ]
        }
      ]
    },
    {
      "cell_type": "code",
      "execution_count": null,
      "metadata": {
        "colab": {
          "base_uri": "https://localhost:8080/"
        },
        "id": "dI02XYw3CVFh",
        "outputId": "f6378769-5294-4565-9d0a-d52d245f9d89"
      },
      "outputs": [
        {
          "output_type": "stream",
          "name": "stdout",
          "text": [
            "F1 Score (Micro) = 0.0\n",
            "F1 Score (Macro) = 0.0\n"
          ]
        }
      ],
      "source": [
        "metric_measures(valid_df, preds)"
      ]
    }
  ],
  "metadata": {
    "accelerator": "GPU",
    "colab": {
      "provenance": []
    },
    "kernelspec": {
      "display_name": "Python 3",
      "name": "python3"
    },
    "language_info": {
      "name": "python"
    },
    "widgets": {
      "application/vnd.jupyter.widget-state+json": {
        "98c7318b3cc048fea022804283ebf225": {
          "model_module": "@jupyter-widgets/controls",
          "model_name": "HBoxModel",
          "model_module_version": "1.5.0",
          "state": {
            "_dom_classes": [],
            "_model_module": "@jupyter-widgets/controls",
            "_model_module_version": "1.5.0",
            "_model_name": "HBoxModel",
            "_view_count": null,
            "_view_module": "@jupyter-widgets/controls",
            "_view_module_version": "1.5.0",
            "_view_name": "HBoxView",
            "box_style": "",
            "children": [
              "IPY_MODEL_12f41618caa64a78a3bb36c0bb3a2e80",
              "IPY_MODEL_39e1a47ca99443be99a7c66a78d7a3c5",
              "IPY_MODEL_917b2b37f3a94185807cfb56cf8a0331"
            ],
            "layout": "IPY_MODEL_89ca3375a104441780a3d2566b71d3fe"
          }
        },
        "12f41618caa64a78a3bb36c0bb3a2e80": {
          "model_module": "@jupyter-widgets/controls",
          "model_name": "HTMLModel",
          "model_module_version": "1.5.0",
          "state": {
            "_dom_classes": [],
            "_model_module": "@jupyter-widgets/controls",
            "_model_module_version": "1.5.0",
            "_model_name": "HTMLModel",
            "_view_count": null,
            "_view_module": "@jupyter-widgets/controls",
            "_view_module_version": "1.5.0",
            "_view_name": "HTMLView",
            "description": "",
            "description_tooltip": null,
            "layout": "IPY_MODEL_a4c8f1f6935541f18f46f1a1c697ba3e",
            "placeholder": "​",
            "style": "IPY_MODEL_d2b9831982534ddea93808f01739c436",
            "value": "100%"
          }
        },
        "39e1a47ca99443be99a7c66a78d7a3c5": {
          "model_module": "@jupyter-widgets/controls",
          "model_name": "FloatProgressModel",
          "model_module_version": "1.5.0",
          "state": {
            "_dom_classes": [],
            "_model_module": "@jupyter-widgets/controls",
            "_model_module_version": "1.5.0",
            "_model_name": "FloatProgressModel",
            "_view_count": null,
            "_view_module": "@jupyter-widgets/controls",
            "_view_module_version": "1.5.0",
            "_view_name": "ProgressView",
            "bar_style": "success",
            "description": "",
            "description_tooltip": null,
            "layout": "IPY_MODEL_148b3ef973d4458fad7a9ba588db5968",
            "max": 1465,
            "min": 0,
            "orientation": "horizontal",
            "style": "IPY_MODEL_d8ebb7c95c6e49a98e74a9a6676917af",
            "value": 1465
          }
        },
        "917b2b37f3a94185807cfb56cf8a0331": {
          "model_module": "@jupyter-widgets/controls",
          "model_name": "HTMLModel",
          "model_module_version": "1.5.0",
          "state": {
            "_dom_classes": [],
            "_model_module": "@jupyter-widgets/controls",
            "_model_module_version": "1.5.0",
            "_model_name": "HTMLModel",
            "_view_count": null,
            "_view_module": "@jupyter-widgets/controls",
            "_view_module_version": "1.5.0",
            "_view_name": "HTMLView",
            "description": "",
            "description_tooltip": null,
            "layout": "IPY_MODEL_1e13c78d8bd148b48e666416b00eb664",
            "placeholder": "​",
            "style": "IPY_MODEL_df5a690e4e8d4bb587ad965abc44dd9b",
            "value": " 1465/1465 [01:10&lt;00:00, 37.43it/s]"
          }
        },
        "89ca3375a104441780a3d2566b71d3fe": {
          "model_module": "@jupyter-widgets/base",
          "model_name": "LayoutModel",
          "model_module_version": "1.2.0",
          "state": {
            "_model_module": "@jupyter-widgets/base",
            "_model_module_version": "1.2.0",
            "_model_name": "LayoutModel",
            "_view_count": null,
            "_view_module": "@jupyter-widgets/base",
            "_view_module_version": "1.2.0",
            "_view_name": "LayoutView",
            "align_content": null,
            "align_items": null,
            "align_self": null,
            "border": null,
            "bottom": null,
            "display": null,
            "flex": null,
            "flex_flow": null,
            "grid_area": null,
            "grid_auto_columns": null,
            "grid_auto_flow": null,
            "grid_auto_rows": null,
            "grid_column": null,
            "grid_gap": null,
            "grid_row": null,
            "grid_template_areas": null,
            "grid_template_columns": null,
            "grid_template_rows": null,
            "height": null,
            "justify_content": null,
            "justify_items": null,
            "left": null,
            "margin": null,
            "max_height": null,
            "max_width": null,
            "min_height": null,
            "min_width": null,
            "object_fit": null,
            "object_position": null,
            "order": null,
            "overflow": null,
            "overflow_x": null,
            "overflow_y": null,
            "padding": null,
            "right": null,
            "top": null,
            "visibility": null,
            "width": null
          }
        },
        "a4c8f1f6935541f18f46f1a1c697ba3e": {
          "model_module": "@jupyter-widgets/base",
          "model_name": "LayoutModel",
          "model_module_version": "1.2.0",
          "state": {
            "_model_module": "@jupyter-widgets/base",
            "_model_module_version": "1.2.0",
            "_model_name": "LayoutModel",
            "_view_count": null,
            "_view_module": "@jupyter-widgets/base",
            "_view_module_version": "1.2.0",
            "_view_name": "LayoutView",
            "align_content": null,
            "align_items": null,
            "align_self": null,
            "border": null,
            "bottom": null,
            "display": null,
            "flex": null,
            "flex_flow": null,
            "grid_area": null,
            "grid_auto_columns": null,
            "grid_auto_flow": null,
            "grid_auto_rows": null,
            "grid_column": null,
            "grid_gap": null,
            "grid_row": null,
            "grid_template_areas": null,
            "grid_template_columns": null,
            "grid_template_rows": null,
            "height": null,
            "justify_content": null,
            "justify_items": null,
            "left": null,
            "margin": null,
            "max_height": null,
            "max_width": null,
            "min_height": null,
            "min_width": null,
            "object_fit": null,
            "object_position": null,
            "order": null,
            "overflow": null,
            "overflow_x": null,
            "overflow_y": null,
            "padding": null,
            "right": null,
            "top": null,
            "visibility": null,
            "width": null
          }
        },
        "d2b9831982534ddea93808f01739c436": {
          "model_module": "@jupyter-widgets/controls",
          "model_name": "DescriptionStyleModel",
          "model_module_version": "1.5.0",
          "state": {
            "_model_module": "@jupyter-widgets/controls",
            "_model_module_version": "1.5.0",
            "_model_name": "DescriptionStyleModel",
            "_view_count": null,
            "_view_module": "@jupyter-widgets/base",
            "_view_module_version": "1.2.0",
            "_view_name": "StyleView",
            "description_width": ""
          }
        },
        "148b3ef973d4458fad7a9ba588db5968": {
          "model_module": "@jupyter-widgets/base",
          "model_name": "LayoutModel",
          "model_module_version": "1.2.0",
          "state": {
            "_model_module": "@jupyter-widgets/base",
            "_model_module_version": "1.2.0",
            "_model_name": "LayoutModel",
            "_view_count": null,
            "_view_module": "@jupyter-widgets/base",
            "_view_module_version": "1.2.0",
            "_view_name": "LayoutView",
            "align_content": null,
            "align_items": null,
            "align_self": null,
            "border": null,
            "bottom": null,
            "display": null,
            "flex": null,
            "flex_flow": null,
            "grid_area": null,
            "grid_auto_columns": null,
            "grid_auto_flow": null,
            "grid_auto_rows": null,
            "grid_column": null,
            "grid_gap": null,
            "grid_row": null,
            "grid_template_areas": null,
            "grid_template_columns": null,
            "grid_template_rows": null,
            "height": null,
            "justify_content": null,
            "justify_items": null,
            "left": null,
            "margin": null,
            "max_height": null,
            "max_width": null,
            "min_height": null,
            "min_width": null,
            "object_fit": null,
            "object_position": null,
            "order": null,
            "overflow": null,
            "overflow_x": null,
            "overflow_y": null,
            "padding": null,
            "right": null,
            "top": null,
            "visibility": null,
            "width": null
          }
        },
        "d8ebb7c95c6e49a98e74a9a6676917af": {
          "model_module": "@jupyter-widgets/controls",
          "model_name": "ProgressStyleModel",
          "model_module_version": "1.5.0",
          "state": {
            "_model_module": "@jupyter-widgets/controls",
            "_model_module_version": "1.5.0",
            "_model_name": "ProgressStyleModel",
            "_view_count": null,
            "_view_module": "@jupyter-widgets/base",
            "_view_module_version": "1.2.0",
            "_view_name": "StyleView",
            "bar_color": null,
            "description_width": ""
          }
        },
        "1e13c78d8bd148b48e666416b00eb664": {
          "model_module": "@jupyter-widgets/base",
          "model_name": "LayoutModel",
          "model_module_version": "1.2.0",
          "state": {
            "_model_module": "@jupyter-widgets/base",
            "_model_module_version": "1.2.0",
            "_model_name": "LayoutModel",
            "_view_count": null,
            "_view_module": "@jupyter-widgets/base",
            "_view_module_version": "1.2.0",
            "_view_name": "LayoutView",
            "align_content": null,
            "align_items": null,
            "align_self": null,
            "border": null,
            "bottom": null,
            "display": null,
            "flex": null,
            "flex_flow": null,
            "grid_area": null,
            "grid_auto_columns": null,
            "grid_auto_flow": null,
            "grid_auto_rows": null,
            "grid_column": null,
            "grid_gap": null,
            "grid_row": null,
            "grid_template_areas": null,
            "grid_template_columns": null,
            "grid_template_rows": null,
            "height": null,
            "justify_content": null,
            "justify_items": null,
            "left": null,
            "margin": null,
            "max_height": null,
            "max_width": null,
            "min_height": null,
            "min_width": null,
            "object_fit": null,
            "object_position": null,
            "order": null,
            "overflow": null,
            "overflow_x": null,
            "overflow_y": null,
            "padding": null,
            "right": null,
            "top": null,
            "visibility": null,
            "width": null
          }
        },
        "df5a690e4e8d4bb587ad965abc44dd9b": {
          "model_module": "@jupyter-widgets/controls",
          "model_name": "DescriptionStyleModel",
          "model_module_version": "1.5.0",
          "state": {
            "_model_module": "@jupyter-widgets/controls",
            "_model_module_version": "1.5.0",
            "_model_name": "DescriptionStyleModel",
            "_view_count": null,
            "_view_module": "@jupyter-widgets/base",
            "_view_module_version": "1.2.0",
            "_view_name": "StyleView",
            "description_width": ""
          }
        }
      }
    }
  },
  "nbformat": 4,
  "nbformat_minor": 0
}