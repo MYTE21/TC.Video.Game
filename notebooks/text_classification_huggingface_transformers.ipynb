{
  "nbformat": 4,
  "nbformat_minor": 0,
  "metadata": {
    "colab": {
      "provenance": [],
      "gpuType": "T4"
    },
    "kernelspec": {
      "name": "python3",
      "display_name": "Python 3"
    },
    "language_info": {
      "name": "python"
    },
    "accelerator": "GPU",
    "widgets": {
      "application/vnd.jupyter.widget-state+json": {
        "32b154a08cd54712acd8623521863bef": {
          "model_module": "@jupyter-widgets/controls",
          "model_name": "HBoxModel",
          "model_module_version": "1.5.0",
          "state": {
            "_dom_classes": [],
            "_model_module": "@jupyter-widgets/controls",
            "_model_module_version": "1.5.0",
            "_model_name": "HBoxModel",
            "_view_count": null,
            "_view_module": "@jupyter-widgets/controls",
            "_view_module_version": "1.5.0",
            "_view_name": "HBoxView",
            "box_style": "",
            "children": [
              "IPY_MODEL_057f064c026746fb8e12770f648fe22a",
              "IPY_MODEL_701be5bddbe249f0bc60a036885b1bea",
              "IPY_MODEL_f853e0add24141fb9ad3887f34f483e7"
            ],
            "layout": "IPY_MODEL_d18a191c27db4be89457b561d45ad685"
          }
        },
        "057f064c026746fb8e12770f648fe22a": {
          "model_module": "@jupyter-widgets/controls",
          "model_name": "HTMLModel",
          "model_module_version": "1.5.0",
          "state": {
            "_dom_classes": [],
            "_model_module": "@jupyter-widgets/controls",
            "_model_module_version": "1.5.0",
            "_model_name": "HTMLModel",
            "_view_count": null,
            "_view_module": "@jupyter-widgets/controls",
            "_view_module_version": "1.5.0",
            "_view_name": "HTMLView",
            "description": "",
            "description_tooltip": null,
            "layout": "IPY_MODEL_9edb3c1e222a4135ada6114614883510",
            "placeholder": "​",
            "style": "IPY_MODEL_0f0e4b139eab4328ace94ecc47a07862",
            "value": "Downloading (…)lve/main/config.json: 100%"
          }
        },
        "701be5bddbe249f0bc60a036885b1bea": {
          "model_module": "@jupyter-widgets/controls",
          "model_name": "FloatProgressModel",
          "model_module_version": "1.5.0",
          "state": {
            "_dom_classes": [],
            "_model_module": "@jupyter-widgets/controls",
            "_model_module_version": "1.5.0",
            "_model_name": "FloatProgressModel",
            "_view_count": null,
            "_view_module": "@jupyter-widgets/controls",
            "_view_module_version": "1.5.0",
            "_view_name": "ProgressView",
            "bar_style": "success",
            "description": "",
            "description_tooltip": null,
            "layout": "IPY_MODEL_b763f08de53e4834a0db6b20efc0d42a",
            "max": 480,
            "min": 0,
            "orientation": "horizontal",
            "style": "IPY_MODEL_0ce480474f7d494bb2a717f075c19b8d",
            "value": 480
          }
        },
        "f853e0add24141fb9ad3887f34f483e7": {
          "model_module": "@jupyter-widgets/controls",
          "model_name": "HTMLModel",
          "model_module_version": "1.5.0",
          "state": {
            "_dom_classes": [],
            "_model_module": "@jupyter-widgets/controls",
            "_model_module_version": "1.5.0",
            "_model_name": "HTMLModel",
            "_view_count": null,
            "_view_module": "@jupyter-widgets/controls",
            "_view_module_version": "1.5.0",
            "_view_name": "HTMLView",
            "description": "",
            "description_tooltip": null,
            "layout": "IPY_MODEL_3ebf6f4b975b4c15871cdb2628c67ce3",
            "placeholder": "​",
            "style": "IPY_MODEL_7bc0baf494e14c1287d4a39b6d502c4c",
            "value": " 480/480 [00:00&lt;00:00, 33.2kB/s]"
          }
        },
        "d18a191c27db4be89457b561d45ad685": {
          "model_module": "@jupyter-widgets/base",
          "model_name": "LayoutModel",
          "model_module_version": "1.2.0",
          "state": {
            "_model_module": "@jupyter-widgets/base",
            "_model_module_version": "1.2.0",
            "_model_name": "LayoutModel",
            "_view_count": null,
            "_view_module": "@jupyter-widgets/base",
            "_view_module_version": "1.2.0",
            "_view_name": "LayoutView",
            "align_content": null,
            "align_items": null,
            "align_self": null,
            "border": null,
            "bottom": null,
            "display": null,
            "flex": null,
            "flex_flow": null,
            "grid_area": null,
            "grid_auto_columns": null,
            "grid_auto_flow": null,
            "grid_auto_rows": null,
            "grid_column": null,
            "grid_gap": null,
            "grid_row": null,
            "grid_template_areas": null,
            "grid_template_columns": null,
            "grid_template_rows": null,
            "height": null,
            "justify_content": null,
            "justify_items": null,
            "left": null,
            "margin": null,
            "max_height": null,
            "max_width": null,
            "min_height": null,
            "min_width": null,
            "object_fit": null,
            "object_position": null,
            "order": null,
            "overflow": null,
            "overflow_x": null,
            "overflow_y": null,
            "padding": null,
            "right": null,
            "top": null,
            "visibility": null,
            "width": null
          }
        },
        "9edb3c1e222a4135ada6114614883510": {
          "model_module": "@jupyter-widgets/base",
          "model_name": "LayoutModel",
          "model_module_version": "1.2.0",
          "state": {
            "_model_module": "@jupyter-widgets/base",
            "_model_module_version": "1.2.0",
            "_model_name": "LayoutModel",
            "_view_count": null,
            "_view_module": "@jupyter-widgets/base",
            "_view_module_version": "1.2.0",
            "_view_name": "LayoutView",
            "align_content": null,
            "align_items": null,
            "align_self": null,
            "border": null,
            "bottom": null,
            "display": null,
            "flex": null,
            "flex_flow": null,
            "grid_area": null,
            "grid_auto_columns": null,
            "grid_auto_flow": null,
            "grid_auto_rows": null,
            "grid_column": null,
            "grid_gap": null,
            "grid_row": null,
            "grid_template_areas": null,
            "grid_template_columns": null,
            "grid_template_rows": null,
            "height": null,
            "justify_content": null,
            "justify_items": null,
            "left": null,
            "margin": null,
            "max_height": null,
            "max_width": null,
            "min_height": null,
            "min_width": null,
            "object_fit": null,
            "object_position": null,
            "order": null,
            "overflow": null,
            "overflow_x": null,
            "overflow_y": null,
            "padding": null,
            "right": null,
            "top": null,
            "visibility": null,
            "width": null
          }
        },
        "0f0e4b139eab4328ace94ecc47a07862": {
          "model_module": "@jupyter-widgets/controls",
          "model_name": "DescriptionStyleModel",
          "model_module_version": "1.5.0",
          "state": {
            "_model_module": "@jupyter-widgets/controls",
            "_model_module_version": "1.5.0",
            "_model_name": "DescriptionStyleModel",
            "_view_count": null,
            "_view_module": "@jupyter-widgets/base",
            "_view_module_version": "1.2.0",
            "_view_name": "StyleView",
            "description_width": ""
          }
        },
        "b763f08de53e4834a0db6b20efc0d42a": {
          "model_module": "@jupyter-widgets/base",
          "model_name": "LayoutModel",
          "model_module_version": "1.2.0",
          "state": {
            "_model_module": "@jupyter-widgets/base",
            "_model_module_version": "1.2.0",
            "_model_name": "LayoutModel",
            "_view_count": null,
            "_view_module": "@jupyter-widgets/base",
            "_view_module_version": "1.2.0",
            "_view_name": "LayoutView",
            "align_content": null,
            "align_items": null,
            "align_self": null,
            "border": null,
            "bottom": null,
            "display": null,
            "flex": null,
            "flex_flow": null,
            "grid_area": null,
            "grid_auto_columns": null,
            "grid_auto_flow": null,
            "grid_auto_rows": null,
            "grid_column": null,
            "grid_gap": null,
            "grid_row": null,
            "grid_template_areas": null,
            "grid_template_columns": null,
            "grid_template_rows": null,
            "height": null,
            "justify_content": null,
            "justify_items": null,
            "left": null,
            "margin": null,
            "max_height": null,
            "max_width": null,
            "min_height": null,
            "min_width": null,
            "object_fit": null,
            "object_position": null,
            "order": null,
            "overflow": null,
            "overflow_x": null,
            "overflow_y": null,
            "padding": null,
            "right": null,
            "top": null,
            "visibility": null,
            "width": null
          }
        },
        "0ce480474f7d494bb2a717f075c19b8d": {
          "model_module": "@jupyter-widgets/controls",
          "model_name": "ProgressStyleModel",
          "model_module_version": "1.5.0",
          "state": {
            "_model_module": "@jupyter-widgets/controls",
            "_model_module_version": "1.5.0",
            "_model_name": "ProgressStyleModel",
            "_view_count": null,
            "_view_module": "@jupyter-widgets/base",
            "_view_module_version": "1.2.0",
            "_view_name": "StyleView",
            "bar_color": null,
            "description_width": ""
          }
        },
        "3ebf6f4b975b4c15871cdb2628c67ce3": {
          "model_module": "@jupyter-widgets/base",
          "model_name": "LayoutModel",
          "model_module_version": "1.2.0",
          "state": {
            "_model_module": "@jupyter-widgets/base",
            "_model_module_version": "1.2.0",
            "_model_name": "LayoutModel",
            "_view_count": null,
            "_view_module": "@jupyter-widgets/base",
            "_view_module_version": "1.2.0",
            "_view_name": "LayoutView",
            "align_content": null,
            "align_items": null,
            "align_self": null,
            "border": null,
            "bottom": null,
            "display": null,
            "flex": null,
            "flex_flow": null,
            "grid_area": null,
            "grid_auto_columns": null,
            "grid_auto_flow": null,
            "grid_auto_rows": null,
            "grid_column": null,
            "grid_gap": null,
            "grid_row": null,
            "grid_template_areas": null,
            "grid_template_columns": null,
            "grid_template_rows": null,
            "height": null,
            "justify_content": null,
            "justify_items": null,
            "left": null,
            "margin": null,
            "max_height": null,
            "max_width": null,
            "min_height": null,
            "min_width": null,
            "object_fit": null,
            "object_position": null,
            "order": null,
            "overflow": null,
            "overflow_x": null,
            "overflow_y": null,
            "padding": null,
            "right": null,
            "top": null,
            "visibility": null,
            "width": null
          }
        },
        "7bc0baf494e14c1287d4a39b6d502c4c": {
          "model_module": "@jupyter-widgets/controls",
          "model_name": "DescriptionStyleModel",
          "model_module_version": "1.5.0",
          "state": {
            "_model_module": "@jupyter-widgets/controls",
            "_model_module_version": "1.5.0",
            "_model_name": "DescriptionStyleModel",
            "_view_count": null,
            "_view_module": "@jupyter-widgets/base",
            "_view_module_version": "1.2.0",
            "_view_name": "StyleView",
            "description_width": ""
          }
        },
        "0b18ea52e0b541a981975057ecd5fa51": {
          "model_module": "@jupyter-widgets/controls",
          "model_name": "HBoxModel",
          "model_module_version": "1.5.0",
          "state": {
            "_dom_classes": [],
            "_model_module": "@jupyter-widgets/controls",
            "_model_module_version": "1.5.0",
            "_model_name": "HBoxModel",
            "_view_count": null,
            "_view_module": "@jupyter-widgets/controls",
            "_view_module_version": "1.5.0",
            "_view_name": "HBoxView",
            "box_style": "",
            "children": [
              "IPY_MODEL_c59079597eb8452da21206b770005713",
              "IPY_MODEL_27a904b682e34ea4b81e53ede49cdb0d",
              "IPY_MODEL_15061698a0f54590aff5bcc057bc9423"
            ],
            "layout": "IPY_MODEL_258abf6f0d2d492a9c55d1c0685e610e"
          }
        },
        "c59079597eb8452da21206b770005713": {
          "model_module": "@jupyter-widgets/controls",
          "model_name": "HTMLModel",
          "model_module_version": "1.5.0",
          "state": {
            "_dom_classes": [],
            "_model_module": "@jupyter-widgets/controls",
            "_model_module_version": "1.5.0",
            "_model_name": "HTMLModel",
            "_view_count": null,
            "_view_module": "@jupyter-widgets/controls",
            "_view_module_version": "1.5.0",
            "_view_name": "HTMLView",
            "description": "",
            "description_tooltip": null,
            "layout": "IPY_MODEL_204c8a9815cf452ba82b747387c4f8bb",
            "placeholder": "​",
            "style": "IPY_MODEL_d79a1ffafb034d0b9de96f8897826b9b",
            "value": "Downloading (…)olve/main/vocab.json: 100%"
          }
        },
        "27a904b682e34ea4b81e53ede49cdb0d": {
          "model_module": "@jupyter-widgets/controls",
          "model_name": "FloatProgressModel",
          "model_module_version": "1.5.0",
          "state": {
            "_dom_classes": [],
            "_model_module": "@jupyter-widgets/controls",
            "_model_module_version": "1.5.0",
            "_model_name": "FloatProgressModel",
            "_view_count": null,
            "_view_module": "@jupyter-widgets/controls",
            "_view_module_version": "1.5.0",
            "_view_name": "ProgressView",
            "bar_style": "success",
            "description": "",
            "description_tooltip": null,
            "layout": "IPY_MODEL_7631c2f642ff4184bc5877b8fb3aeaa0",
            "max": 898823,
            "min": 0,
            "orientation": "horizontal",
            "style": "IPY_MODEL_37945b763baf4e629ced75a4fac88ee8",
            "value": 898823
          }
        },
        "15061698a0f54590aff5bcc057bc9423": {
          "model_module": "@jupyter-widgets/controls",
          "model_name": "HTMLModel",
          "model_module_version": "1.5.0",
          "state": {
            "_dom_classes": [],
            "_model_module": "@jupyter-widgets/controls",
            "_model_module_version": "1.5.0",
            "_model_name": "HTMLModel",
            "_view_count": null,
            "_view_module": "@jupyter-widgets/controls",
            "_view_module_version": "1.5.0",
            "_view_name": "HTMLView",
            "description": "",
            "description_tooltip": null,
            "layout": "IPY_MODEL_27d2971db2d24a9bb93c683cc5847075",
            "placeholder": "​",
            "style": "IPY_MODEL_c424cb54dc41491c92e91d7092318122",
            "value": " 899k/899k [00:00&lt;00:00, 1.06MB/s]"
          }
        },
        "258abf6f0d2d492a9c55d1c0685e610e": {
          "model_module": "@jupyter-widgets/base",
          "model_name": "LayoutModel",
          "model_module_version": "1.2.0",
          "state": {
            "_model_module": "@jupyter-widgets/base",
            "_model_module_version": "1.2.0",
            "_model_name": "LayoutModel",
            "_view_count": null,
            "_view_module": "@jupyter-widgets/base",
            "_view_module_version": "1.2.0",
            "_view_name": "LayoutView",
            "align_content": null,
            "align_items": null,
            "align_self": null,
            "border": null,
            "bottom": null,
            "display": null,
            "flex": null,
            "flex_flow": null,
            "grid_area": null,
            "grid_auto_columns": null,
            "grid_auto_flow": null,
            "grid_auto_rows": null,
            "grid_column": null,
            "grid_gap": null,
            "grid_row": null,
            "grid_template_areas": null,
            "grid_template_columns": null,
            "grid_template_rows": null,
            "height": null,
            "justify_content": null,
            "justify_items": null,
            "left": null,
            "margin": null,
            "max_height": null,
            "max_width": null,
            "min_height": null,
            "min_width": null,
            "object_fit": null,
            "object_position": null,
            "order": null,
            "overflow": null,
            "overflow_x": null,
            "overflow_y": null,
            "padding": null,
            "right": null,
            "top": null,
            "visibility": null,
            "width": null
          }
        },
        "204c8a9815cf452ba82b747387c4f8bb": {
          "model_module": "@jupyter-widgets/base",
          "model_name": "LayoutModel",
          "model_module_version": "1.2.0",
          "state": {
            "_model_module": "@jupyter-widgets/base",
            "_model_module_version": "1.2.0",
            "_model_name": "LayoutModel",
            "_view_count": null,
            "_view_module": "@jupyter-widgets/base",
            "_view_module_version": "1.2.0",
            "_view_name": "LayoutView",
            "align_content": null,
            "align_items": null,
            "align_self": null,
            "border": null,
            "bottom": null,
            "display": null,
            "flex": null,
            "flex_flow": null,
            "grid_area": null,
            "grid_auto_columns": null,
            "grid_auto_flow": null,
            "grid_auto_rows": null,
            "grid_column": null,
            "grid_gap": null,
            "grid_row": null,
            "grid_template_areas": null,
            "grid_template_columns": null,
            "grid_template_rows": null,
            "height": null,
            "justify_content": null,
            "justify_items": null,
            "left": null,
            "margin": null,
            "max_height": null,
            "max_width": null,
            "min_height": null,
            "min_width": null,
            "object_fit": null,
            "object_position": null,
            "order": null,
            "overflow": null,
            "overflow_x": null,
            "overflow_y": null,
            "padding": null,
            "right": null,
            "top": null,
            "visibility": null,
            "width": null
          }
        },
        "d79a1ffafb034d0b9de96f8897826b9b": {
          "model_module": "@jupyter-widgets/controls",
          "model_name": "DescriptionStyleModel",
          "model_module_version": "1.5.0",
          "state": {
            "_model_module": "@jupyter-widgets/controls",
            "_model_module_version": "1.5.0",
            "_model_name": "DescriptionStyleModel",
            "_view_count": null,
            "_view_module": "@jupyter-widgets/base",
            "_view_module_version": "1.2.0",
            "_view_name": "StyleView",
            "description_width": ""
          }
        },
        "7631c2f642ff4184bc5877b8fb3aeaa0": {
          "model_module": "@jupyter-widgets/base",
          "model_name": "LayoutModel",
          "model_module_version": "1.2.0",
          "state": {
            "_model_module": "@jupyter-widgets/base",
            "_model_module_version": "1.2.0",
            "_model_name": "LayoutModel",
            "_view_count": null,
            "_view_module": "@jupyter-widgets/base",
            "_view_module_version": "1.2.0",
            "_view_name": "LayoutView",
            "align_content": null,
            "align_items": null,
            "align_self": null,
            "border": null,
            "bottom": null,
            "display": null,
            "flex": null,
            "flex_flow": null,
            "grid_area": null,
            "grid_auto_columns": null,
            "grid_auto_flow": null,
            "grid_auto_rows": null,
            "grid_column": null,
            "grid_gap": null,
            "grid_row": null,
            "grid_template_areas": null,
            "grid_template_columns": null,
            "grid_template_rows": null,
            "height": null,
            "justify_content": null,
            "justify_items": null,
            "left": null,
            "margin": null,
            "max_height": null,
            "max_width": null,
            "min_height": null,
            "min_width": null,
            "object_fit": null,
            "object_position": null,
            "order": null,
            "overflow": null,
            "overflow_x": null,
            "overflow_y": null,
            "padding": null,
            "right": null,
            "top": null,
            "visibility": null,
            "width": null
          }
        },
        "37945b763baf4e629ced75a4fac88ee8": {
          "model_module": "@jupyter-widgets/controls",
          "model_name": "ProgressStyleModel",
          "model_module_version": "1.5.0",
          "state": {
            "_model_module": "@jupyter-widgets/controls",
            "_model_module_version": "1.5.0",
            "_model_name": "ProgressStyleModel",
            "_view_count": null,
            "_view_module": "@jupyter-widgets/base",
            "_view_module_version": "1.2.0",
            "_view_name": "StyleView",
            "bar_color": null,
            "description_width": ""
          }
        },
        "27d2971db2d24a9bb93c683cc5847075": {
          "model_module": "@jupyter-widgets/base",
          "model_name": "LayoutModel",
          "model_module_version": "1.2.0",
          "state": {
            "_model_module": "@jupyter-widgets/base",
            "_model_module_version": "1.2.0",
            "_model_name": "LayoutModel",
            "_view_count": null,
            "_view_module": "@jupyter-widgets/base",
            "_view_module_version": "1.2.0",
            "_view_name": "LayoutView",
            "align_content": null,
            "align_items": null,
            "align_self": null,
            "border": null,
            "bottom": null,
            "display": null,
            "flex": null,
            "flex_flow": null,
            "grid_area": null,
            "grid_auto_columns": null,
            "grid_auto_flow": null,
            "grid_auto_rows": null,
            "grid_column": null,
            "grid_gap": null,
            "grid_row": null,
            "grid_template_areas": null,
            "grid_template_columns": null,
            "grid_template_rows": null,
            "height": null,
            "justify_content": null,
            "justify_items": null,
            "left": null,
            "margin": null,
            "max_height": null,
            "max_width": null,
            "min_height": null,
            "min_width": null,
            "object_fit": null,
            "object_position": null,
            "order": null,
            "overflow": null,
            "overflow_x": null,
            "overflow_y": null,
            "padding": null,
            "right": null,
            "top": null,
            "visibility": null,
            "width": null
          }
        },
        "c424cb54dc41491c92e91d7092318122": {
          "model_module": "@jupyter-widgets/controls",
          "model_name": "DescriptionStyleModel",
          "model_module_version": "1.5.0",
          "state": {
            "_model_module": "@jupyter-widgets/controls",
            "_model_module_version": "1.5.0",
            "_model_name": "DescriptionStyleModel",
            "_view_count": null,
            "_view_module": "@jupyter-widgets/base",
            "_view_module_version": "1.2.0",
            "_view_name": "StyleView",
            "description_width": ""
          }
        },
        "90d6e9f888b245e7a1ca065731d2a24b": {
          "model_module": "@jupyter-widgets/controls",
          "model_name": "HBoxModel",
          "model_module_version": "1.5.0",
          "state": {
            "_dom_classes": [],
            "_model_module": "@jupyter-widgets/controls",
            "_model_module_version": "1.5.0",
            "_model_name": "HBoxModel",
            "_view_count": null,
            "_view_module": "@jupyter-widgets/controls",
            "_view_module_version": "1.5.0",
            "_view_name": "HBoxView",
            "box_style": "",
            "children": [
              "IPY_MODEL_47ab035321d54d638a2ac50fca9fb7f3",
              "IPY_MODEL_f58d586a320c426eae785ba4fb2d0dfd",
              "IPY_MODEL_7f7a2b52bafa43f2926c47cb963bfd46"
            ],
            "layout": "IPY_MODEL_3ea8236574e547fc9e5c277b769136d6"
          }
        },
        "47ab035321d54d638a2ac50fca9fb7f3": {
          "model_module": "@jupyter-widgets/controls",
          "model_name": "HTMLModel",
          "model_module_version": "1.5.0",
          "state": {
            "_dom_classes": [],
            "_model_module": "@jupyter-widgets/controls",
            "_model_module_version": "1.5.0",
            "_model_name": "HTMLModel",
            "_view_count": null,
            "_view_module": "@jupyter-widgets/controls",
            "_view_module_version": "1.5.0",
            "_view_name": "HTMLView",
            "description": "",
            "description_tooltip": null,
            "layout": "IPY_MODEL_77ab669d553f4db983c629da7bb59ad3",
            "placeholder": "​",
            "style": "IPY_MODEL_13ce8b04f67e40288621cdcb4ae98e58",
            "value": "Downloading (…)olve/main/merges.txt: 100%"
          }
        },
        "f58d586a320c426eae785ba4fb2d0dfd": {
          "model_module": "@jupyter-widgets/controls",
          "model_name": "FloatProgressModel",
          "model_module_version": "1.5.0",
          "state": {
            "_dom_classes": [],
            "_model_module": "@jupyter-widgets/controls",
            "_model_module_version": "1.5.0",
            "_model_name": "FloatProgressModel",
            "_view_count": null,
            "_view_module": "@jupyter-widgets/controls",
            "_view_module_version": "1.5.0",
            "_view_name": "ProgressView",
            "bar_style": "success",
            "description": "",
            "description_tooltip": null,
            "layout": "IPY_MODEL_f746f433e9c04ca68406e7934e86b60a",
            "max": 456318,
            "min": 0,
            "orientation": "horizontal",
            "style": "IPY_MODEL_6007513d715c41d78558b0ab14dd4ad7",
            "value": 456318
          }
        },
        "7f7a2b52bafa43f2926c47cb963bfd46": {
          "model_module": "@jupyter-widgets/controls",
          "model_name": "HTMLModel",
          "model_module_version": "1.5.0",
          "state": {
            "_dom_classes": [],
            "_model_module": "@jupyter-widgets/controls",
            "_model_module_version": "1.5.0",
            "_model_name": "HTMLModel",
            "_view_count": null,
            "_view_module": "@jupyter-widgets/controls",
            "_view_module_version": "1.5.0",
            "_view_name": "HTMLView",
            "description": "",
            "description_tooltip": null,
            "layout": "IPY_MODEL_c510b3323f69438cbdc6057208261566",
            "placeholder": "​",
            "style": "IPY_MODEL_9af0d2e5244d442d978fd19aa5249f11",
            "value": " 456k/456k [00:00&lt;00:00, 9.48MB/s]"
          }
        },
        "3ea8236574e547fc9e5c277b769136d6": {
          "model_module": "@jupyter-widgets/base",
          "model_name": "LayoutModel",
          "model_module_version": "1.2.0",
          "state": {
            "_model_module": "@jupyter-widgets/base",
            "_model_module_version": "1.2.0",
            "_model_name": "LayoutModel",
            "_view_count": null,
            "_view_module": "@jupyter-widgets/base",
            "_view_module_version": "1.2.0",
            "_view_name": "LayoutView",
            "align_content": null,
            "align_items": null,
            "align_self": null,
            "border": null,
            "bottom": null,
            "display": null,
            "flex": null,
            "flex_flow": null,
            "grid_area": null,
            "grid_auto_columns": null,
            "grid_auto_flow": null,
            "grid_auto_rows": null,
            "grid_column": null,
            "grid_gap": null,
            "grid_row": null,
            "grid_template_areas": null,
            "grid_template_columns": null,
            "grid_template_rows": null,
            "height": null,
            "justify_content": null,
            "justify_items": null,
            "left": null,
            "margin": null,
            "max_height": null,
            "max_width": null,
            "min_height": null,
            "min_width": null,
            "object_fit": null,
            "object_position": null,
            "order": null,
            "overflow": null,
            "overflow_x": null,
            "overflow_y": null,
            "padding": null,
            "right": null,
            "top": null,
            "visibility": null,
            "width": null
          }
        },
        "77ab669d553f4db983c629da7bb59ad3": {
          "model_module": "@jupyter-widgets/base",
          "model_name": "LayoutModel",
          "model_module_version": "1.2.0",
          "state": {
            "_model_module": "@jupyter-widgets/base",
            "_model_module_version": "1.2.0",
            "_model_name": "LayoutModel",
            "_view_count": null,
            "_view_module": "@jupyter-widgets/base",
            "_view_module_version": "1.2.0",
            "_view_name": "LayoutView",
            "align_content": null,
            "align_items": null,
            "align_self": null,
            "border": null,
            "bottom": null,
            "display": null,
            "flex": null,
            "flex_flow": null,
            "grid_area": null,
            "grid_auto_columns": null,
            "grid_auto_flow": null,
            "grid_auto_rows": null,
            "grid_column": null,
            "grid_gap": null,
            "grid_row": null,
            "grid_template_areas": null,
            "grid_template_columns": null,
            "grid_template_rows": null,
            "height": null,
            "justify_content": null,
            "justify_items": null,
            "left": null,
            "margin": null,
            "max_height": null,
            "max_width": null,
            "min_height": null,
            "min_width": null,
            "object_fit": null,
            "object_position": null,
            "order": null,
            "overflow": null,
            "overflow_x": null,
            "overflow_y": null,
            "padding": null,
            "right": null,
            "top": null,
            "visibility": null,
            "width": null
          }
        },
        "13ce8b04f67e40288621cdcb4ae98e58": {
          "model_module": "@jupyter-widgets/controls",
          "model_name": "DescriptionStyleModel",
          "model_module_version": "1.5.0",
          "state": {
            "_model_module": "@jupyter-widgets/controls",
            "_model_module_version": "1.5.0",
            "_model_name": "DescriptionStyleModel",
            "_view_count": null,
            "_view_module": "@jupyter-widgets/base",
            "_view_module_version": "1.2.0",
            "_view_name": "StyleView",
            "description_width": ""
          }
        },
        "f746f433e9c04ca68406e7934e86b60a": {
          "model_module": "@jupyter-widgets/base",
          "model_name": "LayoutModel",
          "model_module_version": "1.2.0",
          "state": {
            "_model_module": "@jupyter-widgets/base",
            "_model_module_version": "1.2.0",
            "_model_name": "LayoutModel",
            "_view_count": null,
            "_view_module": "@jupyter-widgets/base",
            "_view_module_version": "1.2.0",
            "_view_name": "LayoutView",
            "align_content": null,
            "align_items": null,
            "align_self": null,
            "border": null,
            "bottom": null,
            "display": null,
            "flex": null,
            "flex_flow": null,
            "grid_area": null,
            "grid_auto_columns": null,
            "grid_auto_flow": null,
            "grid_auto_rows": null,
            "grid_column": null,
            "grid_gap": null,
            "grid_row": null,
            "grid_template_areas": null,
            "grid_template_columns": null,
            "grid_template_rows": null,
            "height": null,
            "justify_content": null,
            "justify_items": null,
            "left": null,
            "margin": null,
            "max_height": null,
            "max_width": null,
            "min_height": null,
            "min_width": null,
            "object_fit": null,
            "object_position": null,
            "order": null,
            "overflow": null,
            "overflow_x": null,
            "overflow_y": null,
            "padding": null,
            "right": null,
            "top": null,
            "visibility": null,
            "width": null
          }
        },
        "6007513d715c41d78558b0ab14dd4ad7": {
          "model_module": "@jupyter-widgets/controls",
          "model_name": "ProgressStyleModel",
          "model_module_version": "1.5.0",
          "state": {
            "_model_module": "@jupyter-widgets/controls",
            "_model_module_version": "1.5.0",
            "_model_name": "ProgressStyleModel",
            "_view_count": null,
            "_view_module": "@jupyter-widgets/base",
            "_view_module_version": "1.2.0",
            "_view_name": "StyleView",
            "bar_color": null,
            "description_width": ""
          }
        },
        "c510b3323f69438cbdc6057208261566": {
          "model_module": "@jupyter-widgets/base",
          "model_name": "LayoutModel",
          "model_module_version": "1.2.0",
          "state": {
            "_model_module": "@jupyter-widgets/base",
            "_model_module_version": "1.2.0",
            "_model_name": "LayoutModel",
            "_view_count": null,
            "_view_module": "@jupyter-widgets/base",
            "_view_module_version": "1.2.0",
            "_view_name": "LayoutView",
            "align_content": null,
            "align_items": null,
            "align_self": null,
            "border": null,
            "bottom": null,
            "display": null,
            "flex": null,
            "flex_flow": null,
            "grid_area": null,
            "grid_auto_columns": null,
            "grid_auto_flow": null,
            "grid_auto_rows": null,
            "grid_column": null,
            "grid_gap": null,
            "grid_row": null,
            "grid_template_areas": null,
            "grid_template_columns": null,
            "grid_template_rows": null,
            "height": null,
            "justify_content": null,
            "justify_items": null,
            "left": null,
            "margin": null,
            "max_height": null,
            "max_width": null,
            "min_height": null,
            "min_width": null,
            "object_fit": null,
            "object_position": null,
            "order": null,
            "overflow": null,
            "overflow_x": null,
            "overflow_y": null,
            "padding": null,
            "right": null,
            "top": null,
            "visibility": null,
            "width": null
          }
        },
        "9af0d2e5244d442d978fd19aa5249f11": {
          "model_module": "@jupyter-widgets/controls",
          "model_name": "DescriptionStyleModel",
          "model_module_version": "1.5.0",
          "state": {
            "_model_module": "@jupyter-widgets/controls",
            "_model_module_version": "1.5.0",
            "_model_name": "DescriptionStyleModel",
            "_view_count": null,
            "_view_module": "@jupyter-widgets/base",
            "_view_module_version": "1.2.0",
            "_view_name": "StyleView",
            "description_width": ""
          }
        },
        "6f3829e1373a4c8a87991e2b37701117": {
          "model_module": "@jupyter-widgets/controls",
          "model_name": "HBoxModel",
          "model_module_version": "1.5.0",
          "state": {
            "_dom_classes": [],
            "_model_module": "@jupyter-widgets/controls",
            "_model_module_version": "1.5.0",
            "_model_name": "HBoxModel",
            "_view_count": null,
            "_view_module": "@jupyter-widgets/controls",
            "_view_module_version": "1.5.0",
            "_view_name": "HBoxView",
            "box_style": "",
            "children": [
              "IPY_MODEL_6990e78a7f064ef4864a942f224c6433",
              "IPY_MODEL_9f57a80331d440a8bc7478f3fbd33fe9",
              "IPY_MODEL_e95add6966cc473cab1c157e9a056e16"
            ],
            "layout": "IPY_MODEL_a6a52706fd11459aba9dc8426557b988"
          }
        },
        "6990e78a7f064ef4864a942f224c6433": {
          "model_module": "@jupyter-widgets/controls",
          "model_name": "HTMLModel",
          "model_module_version": "1.5.0",
          "state": {
            "_dom_classes": [],
            "_model_module": "@jupyter-widgets/controls",
            "_model_module_version": "1.5.0",
            "_model_name": "HTMLModel",
            "_view_count": null,
            "_view_module": "@jupyter-widgets/controls",
            "_view_module_version": "1.5.0",
            "_view_name": "HTMLView",
            "description": "",
            "description_tooltip": null,
            "layout": "IPY_MODEL_1ff8fec84d024dd49ee4e013d7ad52ad",
            "placeholder": "​",
            "style": "IPY_MODEL_44da367d97714708902c13c4dfe9c63e",
            "value": "Downloading (…)/main/tokenizer.json: 100%"
          }
        },
        "9f57a80331d440a8bc7478f3fbd33fe9": {
          "model_module": "@jupyter-widgets/controls",
          "model_name": "FloatProgressModel",
          "model_module_version": "1.5.0",
          "state": {
            "_dom_classes": [],
            "_model_module": "@jupyter-widgets/controls",
            "_model_module_version": "1.5.0",
            "_model_name": "FloatProgressModel",
            "_view_count": null,
            "_view_module": "@jupyter-widgets/controls",
            "_view_module_version": "1.5.0",
            "_view_name": "ProgressView",
            "bar_style": "success",
            "description": "",
            "description_tooltip": null,
            "layout": "IPY_MODEL_bf91d7e24c384b7ea93c7d626fbbaf4c",
            "max": 1355863,
            "min": 0,
            "orientation": "horizontal",
            "style": "IPY_MODEL_272aa6368ed5448cbb4894ca84a1941c",
            "value": 1355863
          }
        },
        "e95add6966cc473cab1c157e9a056e16": {
          "model_module": "@jupyter-widgets/controls",
          "model_name": "HTMLModel",
          "model_module_version": "1.5.0",
          "state": {
            "_dom_classes": [],
            "_model_module": "@jupyter-widgets/controls",
            "_model_module_version": "1.5.0",
            "_model_name": "HTMLModel",
            "_view_count": null,
            "_view_module": "@jupyter-widgets/controls",
            "_view_module_version": "1.5.0",
            "_view_name": "HTMLView",
            "description": "",
            "description_tooltip": null,
            "layout": "IPY_MODEL_199e17b2145a4a598037ad54a09a1a6e",
            "placeholder": "​",
            "style": "IPY_MODEL_52ffb352c2194d0585a4fc7356210d79",
            "value": " 1.36M/1.36M [00:00&lt;00:00, 6.34MB/s]"
          }
        },
        "a6a52706fd11459aba9dc8426557b988": {
          "model_module": "@jupyter-widgets/base",
          "model_name": "LayoutModel",
          "model_module_version": "1.2.0",
          "state": {
            "_model_module": "@jupyter-widgets/base",
            "_model_module_version": "1.2.0",
            "_model_name": "LayoutModel",
            "_view_count": null,
            "_view_module": "@jupyter-widgets/base",
            "_view_module_version": "1.2.0",
            "_view_name": "LayoutView",
            "align_content": null,
            "align_items": null,
            "align_self": null,
            "border": null,
            "bottom": null,
            "display": null,
            "flex": null,
            "flex_flow": null,
            "grid_area": null,
            "grid_auto_columns": null,
            "grid_auto_flow": null,
            "grid_auto_rows": null,
            "grid_column": null,
            "grid_gap": null,
            "grid_row": null,
            "grid_template_areas": null,
            "grid_template_columns": null,
            "grid_template_rows": null,
            "height": null,
            "justify_content": null,
            "justify_items": null,
            "left": null,
            "margin": null,
            "max_height": null,
            "max_width": null,
            "min_height": null,
            "min_width": null,
            "object_fit": null,
            "object_position": null,
            "order": null,
            "overflow": null,
            "overflow_x": null,
            "overflow_y": null,
            "padding": null,
            "right": null,
            "top": null,
            "visibility": null,
            "width": null
          }
        },
        "1ff8fec84d024dd49ee4e013d7ad52ad": {
          "model_module": "@jupyter-widgets/base",
          "model_name": "LayoutModel",
          "model_module_version": "1.2.0",
          "state": {
            "_model_module": "@jupyter-widgets/base",
            "_model_module_version": "1.2.0",
            "_model_name": "LayoutModel",
            "_view_count": null,
            "_view_module": "@jupyter-widgets/base",
            "_view_module_version": "1.2.0",
            "_view_name": "LayoutView",
            "align_content": null,
            "align_items": null,
            "align_self": null,
            "border": null,
            "bottom": null,
            "display": null,
            "flex": null,
            "flex_flow": null,
            "grid_area": null,
            "grid_auto_columns": null,
            "grid_auto_flow": null,
            "grid_auto_rows": null,
            "grid_column": null,
            "grid_gap": null,
            "grid_row": null,
            "grid_template_areas": null,
            "grid_template_columns": null,
            "grid_template_rows": null,
            "height": null,
            "justify_content": null,
            "justify_items": null,
            "left": null,
            "margin": null,
            "max_height": null,
            "max_width": null,
            "min_height": null,
            "min_width": null,
            "object_fit": null,
            "object_position": null,
            "order": null,
            "overflow": null,
            "overflow_x": null,
            "overflow_y": null,
            "padding": null,
            "right": null,
            "top": null,
            "visibility": null,
            "width": null
          }
        },
        "44da367d97714708902c13c4dfe9c63e": {
          "model_module": "@jupyter-widgets/controls",
          "model_name": "DescriptionStyleModel",
          "model_module_version": "1.5.0",
          "state": {
            "_model_module": "@jupyter-widgets/controls",
            "_model_module_version": "1.5.0",
            "_model_name": "DescriptionStyleModel",
            "_view_count": null,
            "_view_module": "@jupyter-widgets/base",
            "_view_module_version": "1.2.0",
            "_view_name": "StyleView",
            "description_width": ""
          }
        },
        "bf91d7e24c384b7ea93c7d626fbbaf4c": {
          "model_module": "@jupyter-widgets/base",
          "model_name": "LayoutModel",
          "model_module_version": "1.2.0",
          "state": {
            "_model_module": "@jupyter-widgets/base",
            "_model_module_version": "1.2.0",
            "_model_name": "LayoutModel",
            "_view_count": null,
            "_view_module": "@jupyter-widgets/base",
            "_view_module_version": "1.2.0",
            "_view_name": "LayoutView",
            "align_content": null,
            "align_items": null,
            "align_self": null,
            "border": null,
            "bottom": null,
            "display": null,
            "flex": null,
            "flex_flow": null,
            "grid_area": null,
            "grid_auto_columns": null,
            "grid_auto_flow": null,
            "grid_auto_rows": null,
            "grid_column": null,
            "grid_gap": null,
            "grid_row": null,
            "grid_template_areas": null,
            "grid_template_columns": null,
            "grid_template_rows": null,
            "height": null,
            "justify_content": null,
            "justify_items": null,
            "left": null,
            "margin": null,
            "max_height": null,
            "max_width": null,
            "min_height": null,
            "min_width": null,
            "object_fit": null,
            "object_position": null,
            "order": null,
            "overflow": null,
            "overflow_x": null,
            "overflow_y": null,
            "padding": null,
            "right": null,
            "top": null,
            "visibility": null,
            "width": null
          }
        },
        "272aa6368ed5448cbb4894ca84a1941c": {
          "model_module": "@jupyter-widgets/controls",
          "model_name": "ProgressStyleModel",
          "model_module_version": "1.5.0",
          "state": {
            "_model_module": "@jupyter-widgets/controls",
            "_model_module_version": "1.5.0",
            "_model_name": "ProgressStyleModel",
            "_view_count": null,
            "_view_module": "@jupyter-widgets/base",
            "_view_module_version": "1.2.0",
            "_view_name": "StyleView",
            "bar_color": null,
            "description_width": ""
          }
        },
        "199e17b2145a4a598037ad54a09a1a6e": {
          "model_module": "@jupyter-widgets/base",
          "model_name": "LayoutModel",
          "model_module_version": "1.2.0",
          "state": {
            "_model_module": "@jupyter-widgets/base",
            "_model_module_version": "1.2.0",
            "_model_name": "LayoutModel",
            "_view_count": null,
            "_view_module": "@jupyter-widgets/base",
            "_view_module_version": "1.2.0",
            "_view_name": "LayoutView",
            "align_content": null,
            "align_items": null,
            "align_self": null,
            "border": null,
            "bottom": null,
            "display": null,
            "flex": null,
            "flex_flow": null,
            "grid_area": null,
            "grid_auto_columns": null,
            "grid_auto_flow": null,
            "grid_auto_rows": null,
            "grid_column": null,
            "grid_gap": null,
            "grid_row": null,
            "grid_template_areas": null,
            "grid_template_columns": null,
            "grid_template_rows": null,
            "height": null,
            "justify_content": null,
            "justify_items": null,
            "left": null,
            "margin": null,
            "max_height": null,
            "max_width": null,
            "min_height": null,
            "min_width": null,
            "object_fit": null,
            "object_position": null,
            "order": null,
            "overflow": null,
            "overflow_x": null,
            "overflow_y": null,
            "padding": null,
            "right": null,
            "top": null,
            "visibility": null,
            "width": null
          }
        },
        "52ffb352c2194d0585a4fc7356210d79": {
          "model_module": "@jupyter-widgets/controls",
          "model_name": "DescriptionStyleModel",
          "model_module_version": "1.5.0",
          "state": {
            "_model_module": "@jupyter-widgets/controls",
            "_model_module_version": "1.5.0",
            "_model_name": "DescriptionStyleModel",
            "_view_count": null,
            "_view_module": "@jupyter-widgets/base",
            "_view_module_version": "1.2.0",
            "_view_name": "StyleView",
            "description_width": ""
          }
        },
        "ac4be264a9de4821ac7bfa33e2853772": {
          "model_module": "@jupyter-widgets/controls",
          "model_name": "HBoxModel",
          "model_module_version": "1.5.0",
          "state": {
            "_dom_classes": [],
            "_model_module": "@jupyter-widgets/controls",
            "_model_module_version": "1.5.0",
            "_model_name": "HBoxModel",
            "_view_count": null,
            "_view_module": "@jupyter-widgets/controls",
            "_view_module_version": "1.5.0",
            "_view_name": "HBoxView",
            "box_style": "",
            "children": [
              "IPY_MODEL_c7e5a7e75e7b48f693cafe838b4a1870",
              "IPY_MODEL_e2d11c7452604bb595908a094c652052",
              "IPY_MODEL_6b4eb6f5be634fbc9214959e8ab957bf"
            ],
            "layout": "IPY_MODEL_e4452a8bf402406f994bca28b70568cf"
          }
        },
        "c7e5a7e75e7b48f693cafe838b4a1870": {
          "model_module": "@jupyter-widgets/controls",
          "model_name": "HTMLModel",
          "model_module_version": "1.5.0",
          "state": {
            "_dom_classes": [],
            "_model_module": "@jupyter-widgets/controls",
            "_model_module_version": "1.5.0",
            "_model_name": "HTMLModel",
            "_view_count": null,
            "_view_module": "@jupyter-widgets/controls",
            "_view_module_version": "1.5.0",
            "_view_name": "HTMLView",
            "description": "",
            "description_tooltip": null,
            "layout": "IPY_MODEL_8e948b06074742e48d7b0fd91fd295fa",
            "placeholder": "​",
            "style": "IPY_MODEL_ce1d049f7a354a238c6eb0b7a1c8ec1a",
            "value": "Map: 100%"
          }
        },
        "e2d11c7452604bb595908a094c652052": {
          "model_module": "@jupyter-widgets/controls",
          "model_name": "FloatProgressModel",
          "model_module_version": "1.5.0",
          "state": {
            "_dom_classes": [],
            "_model_module": "@jupyter-widgets/controls",
            "_model_module_version": "1.5.0",
            "_model_name": "FloatProgressModel",
            "_view_count": null,
            "_view_module": "@jupyter-widgets/controls",
            "_view_module_version": "1.5.0",
            "_view_name": "ProgressView",
            "bar_style": "success",
            "description": "",
            "description_tooltip": null,
            "layout": "IPY_MODEL_6c5bf7497ad54cd9b85135e05f121721",
            "max": 15037,
            "min": 0,
            "orientation": "horizontal",
            "style": "IPY_MODEL_9453a036d25a405dbef8477714b5e7f7",
            "value": 15037
          }
        },
        "6b4eb6f5be634fbc9214959e8ab957bf": {
          "model_module": "@jupyter-widgets/controls",
          "model_name": "HTMLModel",
          "model_module_version": "1.5.0",
          "state": {
            "_dom_classes": [],
            "_model_module": "@jupyter-widgets/controls",
            "_model_module_version": "1.5.0",
            "_model_name": "HTMLModel",
            "_view_count": null,
            "_view_module": "@jupyter-widgets/controls",
            "_view_module_version": "1.5.0",
            "_view_name": "HTMLView",
            "description": "",
            "description_tooltip": null,
            "layout": "IPY_MODEL_fac6030ccfcc4a3d94717a4d2a2076b7",
            "placeholder": "​",
            "style": "IPY_MODEL_cf158127f4e64716afd0f0c464e02ca6",
            "value": " 15037/15037 [00:15&lt;00:00, 1362.49 examples/s]"
          }
        },
        "e4452a8bf402406f994bca28b70568cf": {
          "model_module": "@jupyter-widgets/base",
          "model_name": "LayoutModel",
          "model_module_version": "1.2.0",
          "state": {
            "_model_module": "@jupyter-widgets/base",
            "_model_module_version": "1.2.0",
            "_model_name": "LayoutModel",
            "_view_count": null,
            "_view_module": "@jupyter-widgets/base",
            "_view_module_version": "1.2.0",
            "_view_name": "LayoutView",
            "align_content": null,
            "align_items": null,
            "align_self": null,
            "border": null,
            "bottom": null,
            "display": null,
            "flex": null,
            "flex_flow": null,
            "grid_area": null,
            "grid_auto_columns": null,
            "grid_auto_flow": null,
            "grid_auto_rows": null,
            "grid_column": null,
            "grid_gap": null,
            "grid_row": null,
            "grid_template_areas": null,
            "grid_template_columns": null,
            "grid_template_rows": null,
            "height": null,
            "justify_content": null,
            "justify_items": null,
            "left": null,
            "margin": null,
            "max_height": null,
            "max_width": null,
            "min_height": null,
            "min_width": null,
            "object_fit": null,
            "object_position": null,
            "order": null,
            "overflow": null,
            "overflow_x": null,
            "overflow_y": null,
            "padding": null,
            "right": null,
            "top": null,
            "visibility": null,
            "width": null
          }
        },
        "8e948b06074742e48d7b0fd91fd295fa": {
          "model_module": "@jupyter-widgets/base",
          "model_name": "LayoutModel",
          "model_module_version": "1.2.0",
          "state": {
            "_model_module": "@jupyter-widgets/base",
            "_model_module_version": "1.2.0",
            "_model_name": "LayoutModel",
            "_view_count": null,
            "_view_module": "@jupyter-widgets/base",
            "_view_module_version": "1.2.0",
            "_view_name": "LayoutView",
            "align_content": null,
            "align_items": null,
            "align_self": null,
            "border": null,
            "bottom": null,
            "display": null,
            "flex": null,
            "flex_flow": null,
            "grid_area": null,
            "grid_auto_columns": null,
            "grid_auto_flow": null,
            "grid_auto_rows": null,
            "grid_column": null,
            "grid_gap": null,
            "grid_row": null,
            "grid_template_areas": null,
            "grid_template_columns": null,
            "grid_template_rows": null,
            "height": null,
            "justify_content": null,
            "justify_items": null,
            "left": null,
            "margin": null,
            "max_height": null,
            "max_width": null,
            "min_height": null,
            "min_width": null,
            "object_fit": null,
            "object_position": null,
            "order": null,
            "overflow": null,
            "overflow_x": null,
            "overflow_y": null,
            "padding": null,
            "right": null,
            "top": null,
            "visibility": null,
            "width": null
          }
        },
        "ce1d049f7a354a238c6eb0b7a1c8ec1a": {
          "model_module": "@jupyter-widgets/controls",
          "model_name": "DescriptionStyleModel",
          "model_module_version": "1.5.0",
          "state": {
            "_model_module": "@jupyter-widgets/controls",
            "_model_module_version": "1.5.0",
            "_model_name": "DescriptionStyleModel",
            "_view_count": null,
            "_view_module": "@jupyter-widgets/base",
            "_view_module_version": "1.2.0",
            "_view_name": "StyleView",
            "description_width": ""
          }
        },
        "6c5bf7497ad54cd9b85135e05f121721": {
          "model_module": "@jupyter-widgets/base",
          "model_name": "LayoutModel",
          "model_module_version": "1.2.0",
          "state": {
            "_model_module": "@jupyter-widgets/base",
            "_model_module_version": "1.2.0",
            "_model_name": "LayoutModel",
            "_view_count": null,
            "_view_module": "@jupyter-widgets/base",
            "_view_module_version": "1.2.0",
            "_view_name": "LayoutView",
            "align_content": null,
            "align_items": null,
            "align_self": null,
            "border": null,
            "bottom": null,
            "display": null,
            "flex": null,
            "flex_flow": null,
            "grid_area": null,
            "grid_auto_columns": null,
            "grid_auto_flow": null,
            "grid_auto_rows": null,
            "grid_column": null,
            "grid_gap": null,
            "grid_row": null,
            "grid_template_areas": null,
            "grid_template_columns": null,
            "grid_template_rows": null,
            "height": null,
            "justify_content": null,
            "justify_items": null,
            "left": null,
            "margin": null,
            "max_height": null,
            "max_width": null,
            "min_height": null,
            "min_width": null,
            "object_fit": null,
            "object_position": null,
            "order": null,
            "overflow": null,
            "overflow_x": null,
            "overflow_y": null,
            "padding": null,
            "right": null,
            "top": null,
            "visibility": null,
            "width": null
          }
        },
        "9453a036d25a405dbef8477714b5e7f7": {
          "model_module": "@jupyter-widgets/controls",
          "model_name": "ProgressStyleModel",
          "model_module_version": "1.5.0",
          "state": {
            "_model_module": "@jupyter-widgets/controls",
            "_model_module_version": "1.5.0",
            "_model_name": "ProgressStyleModel",
            "_view_count": null,
            "_view_module": "@jupyter-widgets/base",
            "_view_module_version": "1.2.0",
            "_view_name": "StyleView",
            "bar_color": null,
            "description_width": ""
          }
        },
        "fac6030ccfcc4a3d94717a4d2a2076b7": {
          "model_module": "@jupyter-widgets/base",
          "model_name": "LayoutModel",
          "model_module_version": "1.2.0",
          "state": {
            "_model_module": "@jupyter-widgets/base",
            "_model_module_version": "1.2.0",
            "_model_name": "LayoutModel",
            "_view_count": null,
            "_view_module": "@jupyter-widgets/base",
            "_view_module_version": "1.2.0",
            "_view_name": "LayoutView",
            "align_content": null,
            "align_items": null,
            "align_self": null,
            "border": null,
            "bottom": null,
            "display": null,
            "flex": null,
            "flex_flow": null,
            "grid_area": null,
            "grid_auto_columns": null,
            "grid_auto_flow": null,
            "grid_auto_rows": null,
            "grid_column": null,
            "grid_gap": null,
            "grid_row": null,
            "grid_template_areas": null,
            "grid_template_columns": null,
            "grid_template_rows": null,
            "height": null,
            "justify_content": null,
            "justify_items": null,
            "left": null,
            "margin": null,
            "max_height": null,
            "max_width": null,
            "min_height": null,
            "min_width": null,
            "object_fit": null,
            "object_position": null,
            "order": null,
            "overflow": null,
            "overflow_x": null,
            "overflow_y": null,
            "padding": null,
            "right": null,
            "top": null,
            "visibility": null,
            "width": null
          }
        },
        "cf158127f4e64716afd0f0c464e02ca6": {
          "model_module": "@jupyter-widgets/controls",
          "model_name": "DescriptionStyleModel",
          "model_module_version": "1.5.0",
          "state": {
            "_model_module": "@jupyter-widgets/controls",
            "_model_module_version": "1.5.0",
            "_model_name": "DescriptionStyleModel",
            "_view_count": null,
            "_view_module": "@jupyter-widgets/base",
            "_view_module_version": "1.2.0",
            "_view_name": "StyleView",
            "description_width": ""
          }
        },
        "88f9724b159644248076ec57eba79d96": {
          "model_module": "@jupyter-widgets/controls",
          "model_name": "HBoxModel",
          "model_module_version": "1.5.0",
          "state": {
            "_dom_classes": [],
            "_model_module": "@jupyter-widgets/controls",
            "_model_module_version": "1.5.0",
            "_model_name": "HBoxModel",
            "_view_count": null,
            "_view_module": "@jupyter-widgets/controls",
            "_view_module_version": "1.5.0",
            "_view_name": "HBoxView",
            "box_style": "",
            "children": [
              "IPY_MODEL_f9c22f41ece442f8a3670fd764d7cdd2",
              "IPY_MODEL_61564148f7164f1d9152a274b26c9375",
              "IPY_MODEL_686e4286aa934b0eb95cf372cd4ded6f"
            ],
            "layout": "IPY_MODEL_680d46fc3cde4156a16091f39b721708"
          }
        },
        "f9c22f41ece442f8a3670fd764d7cdd2": {
          "model_module": "@jupyter-widgets/controls",
          "model_name": "HTMLModel",
          "model_module_version": "1.5.0",
          "state": {
            "_dom_classes": [],
            "_model_module": "@jupyter-widgets/controls",
            "_model_module_version": "1.5.0",
            "_model_name": "HTMLModel",
            "_view_count": null,
            "_view_module": "@jupyter-widgets/controls",
            "_view_module_version": "1.5.0",
            "_view_name": "HTMLView",
            "description": "",
            "description_tooltip": null,
            "layout": "IPY_MODEL_7035381c7ea84147b9f1d101357f92c6",
            "placeholder": "​",
            "style": "IPY_MODEL_676e7dd07bfc4d1189f64e2aef33ca82",
            "value": "Map: 100%"
          }
        },
        "61564148f7164f1d9152a274b26c9375": {
          "model_module": "@jupyter-widgets/controls",
          "model_name": "FloatProgressModel",
          "model_module_version": "1.5.0",
          "state": {
            "_dom_classes": [],
            "_model_module": "@jupyter-widgets/controls",
            "_model_module_version": "1.5.0",
            "_model_name": "FloatProgressModel",
            "_view_count": null,
            "_view_module": "@jupyter-widgets/controls",
            "_view_module_version": "1.5.0",
            "_view_name": "ProgressView",
            "bar_style": "success",
            "description": "",
            "description_tooltip": null,
            "layout": "IPY_MODEL_7f2865a823ab467b87f5933f666e30b2",
            "max": 15037,
            "min": 0,
            "orientation": "horizontal",
            "style": "IPY_MODEL_1b53c1c23797428fb98e89d93229d4ed",
            "value": 15037
          }
        },
        "686e4286aa934b0eb95cf372cd4ded6f": {
          "model_module": "@jupyter-widgets/controls",
          "model_name": "HTMLModel",
          "model_module_version": "1.5.0",
          "state": {
            "_dom_classes": [],
            "_model_module": "@jupyter-widgets/controls",
            "_model_module_version": "1.5.0",
            "_model_name": "HTMLModel",
            "_view_count": null,
            "_view_module": "@jupyter-widgets/controls",
            "_view_module_version": "1.5.0",
            "_view_name": "HTMLView",
            "description": "",
            "description_tooltip": null,
            "layout": "IPY_MODEL_2e442b1eb2a148798217d751eb1f5d4d",
            "placeholder": "​",
            "style": "IPY_MODEL_7cc86ea106a44fb185b36f4ca13d0d52",
            "value": " 15037/15037 [00:00&lt;00:00, 42131.29 examples/s]"
          }
        },
        "680d46fc3cde4156a16091f39b721708": {
          "model_module": "@jupyter-widgets/base",
          "model_name": "LayoutModel",
          "model_module_version": "1.2.0",
          "state": {
            "_model_module": "@jupyter-widgets/base",
            "_model_module_version": "1.2.0",
            "_model_name": "LayoutModel",
            "_view_count": null,
            "_view_module": "@jupyter-widgets/base",
            "_view_module_version": "1.2.0",
            "_view_name": "LayoutView",
            "align_content": null,
            "align_items": null,
            "align_self": null,
            "border": null,
            "bottom": null,
            "display": null,
            "flex": null,
            "flex_flow": null,
            "grid_area": null,
            "grid_auto_columns": null,
            "grid_auto_flow": null,
            "grid_auto_rows": null,
            "grid_column": null,
            "grid_gap": null,
            "grid_row": null,
            "grid_template_areas": null,
            "grid_template_columns": null,
            "grid_template_rows": null,
            "height": null,
            "justify_content": null,
            "justify_items": null,
            "left": null,
            "margin": null,
            "max_height": null,
            "max_width": null,
            "min_height": null,
            "min_width": null,
            "object_fit": null,
            "object_position": null,
            "order": null,
            "overflow": null,
            "overflow_x": null,
            "overflow_y": null,
            "padding": null,
            "right": null,
            "top": null,
            "visibility": null,
            "width": null
          }
        },
        "7035381c7ea84147b9f1d101357f92c6": {
          "model_module": "@jupyter-widgets/base",
          "model_name": "LayoutModel",
          "model_module_version": "1.2.0",
          "state": {
            "_model_module": "@jupyter-widgets/base",
            "_model_module_version": "1.2.0",
            "_model_name": "LayoutModel",
            "_view_count": null,
            "_view_module": "@jupyter-widgets/base",
            "_view_module_version": "1.2.0",
            "_view_name": "LayoutView",
            "align_content": null,
            "align_items": null,
            "align_self": null,
            "border": null,
            "bottom": null,
            "display": null,
            "flex": null,
            "flex_flow": null,
            "grid_area": null,
            "grid_auto_columns": null,
            "grid_auto_flow": null,
            "grid_auto_rows": null,
            "grid_column": null,
            "grid_gap": null,
            "grid_row": null,
            "grid_template_areas": null,
            "grid_template_columns": null,
            "grid_template_rows": null,
            "height": null,
            "justify_content": null,
            "justify_items": null,
            "left": null,
            "margin": null,
            "max_height": null,
            "max_width": null,
            "min_height": null,
            "min_width": null,
            "object_fit": null,
            "object_position": null,
            "order": null,
            "overflow": null,
            "overflow_x": null,
            "overflow_y": null,
            "padding": null,
            "right": null,
            "top": null,
            "visibility": null,
            "width": null
          }
        },
        "676e7dd07bfc4d1189f64e2aef33ca82": {
          "model_module": "@jupyter-widgets/controls",
          "model_name": "DescriptionStyleModel",
          "model_module_version": "1.5.0",
          "state": {
            "_model_module": "@jupyter-widgets/controls",
            "_model_module_version": "1.5.0",
            "_model_name": "DescriptionStyleModel",
            "_view_count": null,
            "_view_module": "@jupyter-widgets/base",
            "_view_module_version": "1.2.0",
            "_view_name": "StyleView",
            "description_width": ""
          }
        },
        "7f2865a823ab467b87f5933f666e30b2": {
          "model_module": "@jupyter-widgets/base",
          "model_name": "LayoutModel",
          "model_module_version": "1.2.0",
          "state": {
            "_model_module": "@jupyter-widgets/base",
            "_model_module_version": "1.2.0",
            "_model_name": "LayoutModel",
            "_view_count": null,
            "_view_module": "@jupyter-widgets/base",
            "_view_module_version": "1.2.0",
            "_view_name": "LayoutView",
            "align_content": null,
            "align_items": null,
            "align_self": null,
            "border": null,
            "bottom": null,
            "display": null,
            "flex": null,
            "flex_flow": null,
            "grid_area": null,
            "grid_auto_columns": null,
            "grid_auto_flow": null,
            "grid_auto_rows": null,
            "grid_column": null,
            "grid_gap": null,
            "grid_row": null,
            "grid_template_areas": null,
            "grid_template_columns": null,
            "grid_template_rows": null,
            "height": null,
            "justify_content": null,
            "justify_items": null,
            "left": null,
            "margin": null,
            "max_height": null,
            "max_width": null,
            "min_height": null,
            "min_width": null,
            "object_fit": null,
            "object_position": null,
            "order": null,
            "overflow": null,
            "overflow_x": null,
            "overflow_y": null,
            "padding": null,
            "right": null,
            "top": null,
            "visibility": null,
            "width": null
          }
        },
        "1b53c1c23797428fb98e89d93229d4ed": {
          "model_module": "@jupyter-widgets/controls",
          "model_name": "ProgressStyleModel",
          "model_module_version": "1.5.0",
          "state": {
            "_model_module": "@jupyter-widgets/controls",
            "_model_module_version": "1.5.0",
            "_model_name": "ProgressStyleModel",
            "_view_count": null,
            "_view_module": "@jupyter-widgets/base",
            "_view_module_version": "1.2.0",
            "_view_name": "StyleView",
            "bar_color": null,
            "description_width": ""
          }
        },
        "2e442b1eb2a148798217d751eb1f5d4d": {
          "model_module": "@jupyter-widgets/base",
          "model_name": "LayoutModel",
          "model_module_version": "1.2.0",
          "state": {
            "_model_module": "@jupyter-widgets/base",
            "_model_module_version": "1.2.0",
            "_model_name": "LayoutModel",
            "_view_count": null,
            "_view_module": "@jupyter-widgets/base",
            "_view_module_version": "1.2.0",
            "_view_name": "LayoutView",
            "align_content": null,
            "align_items": null,
            "align_self": null,
            "border": null,
            "bottom": null,
            "display": null,
            "flex": null,
            "flex_flow": null,
            "grid_area": null,
            "grid_auto_columns": null,
            "grid_auto_flow": null,
            "grid_auto_rows": null,
            "grid_column": null,
            "grid_gap": null,
            "grid_row": null,
            "grid_template_areas": null,
            "grid_template_columns": null,
            "grid_template_rows": null,
            "height": null,
            "justify_content": null,
            "justify_items": null,
            "left": null,
            "margin": null,
            "max_height": null,
            "max_width": null,
            "min_height": null,
            "min_width": null,
            "object_fit": null,
            "object_position": null,
            "order": null,
            "overflow": null,
            "overflow_x": null,
            "overflow_y": null,
            "padding": null,
            "right": null,
            "top": null,
            "visibility": null,
            "width": null
          }
        },
        "7cc86ea106a44fb185b36f4ca13d0d52": {
          "model_module": "@jupyter-widgets/controls",
          "model_name": "DescriptionStyleModel",
          "model_module_version": "1.5.0",
          "state": {
            "_model_module": "@jupyter-widgets/controls",
            "_model_module_version": "1.5.0",
            "_model_name": "DescriptionStyleModel",
            "_view_count": null,
            "_view_module": "@jupyter-widgets/base",
            "_view_module_version": "1.2.0",
            "_view_name": "StyleView",
            "description_width": ""
          }
        },
        "38245b83a9c4456c8cd5f3775162562f": {
          "model_module": "@jupyter-widgets/controls",
          "model_name": "HBoxModel",
          "model_module_version": "1.5.0",
          "state": {
            "_dom_classes": [],
            "_model_module": "@jupyter-widgets/controls",
            "_model_module_version": "1.5.0",
            "_model_name": "HBoxModel",
            "_view_count": null,
            "_view_module": "@jupyter-widgets/controls",
            "_view_module_version": "1.5.0",
            "_view_name": "HBoxView",
            "box_style": "",
            "children": [
              "IPY_MODEL_57252b3625e94bf98247bddd8a621541",
              "IPY_MODEL_3a3dbe4ee19c4231aceebba4b0c37ce1",
              "IPY_MODEL_2b9fca5837d148638a99978f4052dbd6"
            ],
            "layout": "IPY_MODEL_8eabf2eeb67447d0852b30d491ab1238"
          }
        },
        "57252b3625e94bf98247bddd8a621541": {
          "model_module": "@jupyter-widgets/controls",
          "model_name": "HTMLModel",
          "model_module_version": "1.5.0",
          "state": {
            "_dom_classes": [],
            "_model_module": "@jupyter-widgets/controls",
            "_model_module_version": "1.5.0",
            "_model_name": "HTMLModel",
            "_view_count": null,
            "_view_module": "@jupyter-widgets/controls",
            "_view_module_version": "1.5.0",
            "_view_name": "HTMLView",
            "description": "",
            "description_tooltip": null,
            "layout": "IPY_MODEL_a65c5b65d9644b3599f3ef82e76bbace",
            "placeholder": "​",
            "style": "IPY_MODEL_ac8544ab63844f67b5bc4b880c6e4b6f",
            "value": "Downloading pytorch_model.bin: 100%"
          }
        },
        "3a3dbe4ee19c4231aceebba4b0c37ce1": {
          "model_module": "@jupyter-widgets/controls",
          "model_name": "FloatProgressModel",
          "model_module_version": "1.5.0",
          "state": {
            "_dom_classes": [],
            "_model_module": "@jupyter-widgets/controls",
            "_model_module_version": "1.5.0",
            "_model_name": "FloatProgressModel",
            "_view_count": null,
            "_view_module": "@jupyter-widgets/controls",
            "_view_module_version": "1.5.0",
            "_view_name": "ProgressView",
            "bar_style": "success",
            "description": "",
            "description_tooltip": null,
            "layout": "IPY_MODEL_8a73c340b27f4c85b8c7fa4b44a4d138",
            "max": 331070498,
            "min": 0,
            "orientation": "horizontal",
            "style": "IPY_MODEL_6efc7f4430264070af95b99aa71b8fbf",
            "value": 331070498
          }
        },
        "2b9fca5837d148638a99978f4052dbd6": {
          "model_module": "@jupyter-widgets/controls",
          "model_name": "HTMLModel",
          "model_module_version": "1.5.0",
          "state": {
            "_dom_classes": [],
            "_model_module": "@jupyter-widgets/controls",
            "_model_module_version": "1.5.0",
            "_model_name": "HTMLModel",
            "_view_count": null,
            "_view_module": "@jupyter-widgets/controls",
            "_view_module_version": "1.5.0",
            "_view_name": "HTMLView",
            "description": "",
            "description_tooltip": null,
            "layout": "IPY_MODEL_5a43c8d1c3c5462a9f70f39deb5d4e93",
            "placeholder": "​",
            "style": "IPY_MODEL_da7db086effc4f81a662e01257ce4dc4",
            "value": " 331M/331M [00:04&lt;00:00, 43.6MB/s]"
          }
        },
        "8eabf2eeb67447d0852b30d491ab1238": {
          "model_module": "@jupyter-widgets/base",
          "model_name": "LayoutModel",
          "model_module_version": "1.2.0",
          "state": {
            "_model_module": "@jupyter-widgets/base",
            "_model_module_version": "1.2.0",
            "_model_name": "LayoutModel",
            "_view_count": null,
            "_view_module": "@jupyter-widgets/base",
            "_view_module_version": "1.2.0",
            "_view_name": "LayoutView",
            "align_content": null,
            "align_items": null,
            "align_self": null,
            "border": null,
            "bottom": null,
            "display": null,
            "flex": null,
            "flex_flow": null,
            "grid_area": null,
            "grid_auto_columns": null,
            "grid_auto_flow": null,
            "grid_auto_rows": null,
            "grid_column": null,
            "grid_gap": null,
            "grid_row": null,
            "grid_template_areas": null,
            "grid_template_columns": null,
            "grid_template_rows": null,
            "height": null,
            "justify_content": null,
            "justify_items": null,
            "left": null,
            "margin": null,
            "max_height": null,
            "max_width": null,
            "min_height": null,
            "min_width": null,
            "object_fit": null,
            "object_position": null,
            "order": null,
            "overflow": null,
            "overflow_x": null,
            "overflow_y": null,
            "padding": null,
            "right": null,
            "top": null,
            "visibility": null,
            "width": null
          }
        },
        "a65c5b65d9644b3599f3ef82e76bbace": {
          "model_module": "@jupyter-widgets/base",
          "model_name": "LayoutModel",
          "model_module_version": "1.2.0",
          "state": {
            "_model_module": "@jupyter-widgets/base",
            "_model_module_version": "1.2.0",
            "_model_name": "LayoutModel",
            "_view_count": null,
            "_view_module": "@jupyter-widgets/base",
            "_view_module_version": "1.2.0",
            "_view_name": "LayoutView",
            "align_content": null,
            "align_items": null,
            "align_self": null,
            "border": null,
            "bottom": null,
            "display": null,
            "flex": null,
            "flex_flow": null,
            "grid_area": null,
            "grid_auto_columns": null,
            "grid_auto_flow": null,
            "grid_auto_rows": null,
            "grid_column": null,
            "grid_gap": null,
            "grid_row": null,
            "grid_template_areas": null,
            "grid_template_columns": null,
            "grid_template_rows": null,
            "height": null,
            "justify_content": null,
            "justify_items": null,
            "left": null,
            "margin": null,
            "max_height": null,
            "max_width": null,
            "min_height": null,
            "min_width": null,
            "object_fit": null,
            "object_position": null,
            "order": null,
            "overflow": null,
            "overflow_x": null,
            "overflow_y": null,
            "padding": null,
            "right": null,
            "top": null,
            "visibility": null,
            "width": null
          }
        },
        "ac8544ab63844f67b5bc4b880c6e4b6f": {
          "model_module": "@jupyter-widgets/controls",
          "model_name": "DescriptionStyleModel",
          "model_module_version": "1.5.0",
          "state": {
            "_model_module": "@jupyter-widgets/controls",
            "_model_module_version": "1.5.0",
            "_model_name": "DescriptionStyleModel",
            "_view_count": null,
            "_view_module": "@jupyter-widgets/base",
            "_view_module_version": "1.2.0",
            "_view_name": "StyleView",
            "description_width": ""
          }
        },
        "8a73c340b27f4c85b8c7fa4b44a4d138": {
          "model_module": "@jupyter-widgets/base",
          "model_name": "LayoutModel",
          "model_module_version": "1.2.0",
          "state": {
            "_model_module": "@jupyter-widgets/base",
            "_model_module_version": "1.2.0",
            "_model_name": "LayoutModel",
            "_view_count": null,
            "_view_module": "@jupyter-widgets/base",
            "_view_module_version": "1.2.0",
            "_view_name": "LayoutView",
            "align_content": null,
            "align_items": null,
            "align_self": null,
            "border": null,
            "bottom": null,
            "display": null,
            "flex": null,
            "flex_flow": null,
            "grid_area": null,
            "grid_auto_columns": null,
            "grid_auto_flow": null,
            "grid_auto_rows": null,
            "grid_column": null,
            "grid_gap": null,
            "grid_row": null,
            "grid_template_areas": null,
            "grid_template_columns": null,
            "grid_template_rows": null,
            "height": null,
            "justify_content": null,
            "justify_items": null,
            "left": null,
            "margin": null,
            "max_height": null,
            "max_width": null,
            "min_height": null,
            "min_width": null,
            "object_fit": null,
            "object_position": null,
            "order": null,
            "overflow": null,
            "overflow_x": null,
            "overflow_y": null,
            "padding": null,
            "right": null,
            "top": null,
            "visibility": null,
            "width": null
          }
        },
        "6efc7f4430264070af95b99aa71b8fbf": {
          "model_module": "@jupyter-widgets/controls",
          "model_name": "ProgressStyleModel",
          "model_module_version": "1.5.0",
          "state": {
            "_model_module": "@jupyter-widgets/controls",
            "_model_module_version": "1.5.0",
            "_model_name": "ProgressStyleModel",
            "_view_count": null,
            "_view_module": "@jupyter-widgets/base",
            "_view_module_version": "1.2.0",
            "_view_name": "StyleView",
            "bar_color": null,
            "description_width": ""
          }
        },
        "5a43c8d1c3c5462a9f70f39deb5d4e93": {
          "model_module": "@jupyter-widgets/base",
          "model_name": "LayoutModel",
          "model_module_version": "1.2.0",
          "state": {
            "_model_module": "@jupyter-widgets/base",
            "_model_module_version": "1.2.0",
            "_model_name": "LayoutModel",
            "_view_count": null,
            "_view_module": "@jupyter-widgets/base",
            "_view_module_version": "1.2.0",
            "_view_name": "LayoutView",
            "align_content": null,
            "align_items": null,
            "align_self": null,
            "border": null,
            "bottom": null,
            "display": null,
            "flex": null,
            "flex_flow": null,
            "grid_area": null,
            "grid_auto_columns": null,
            "grid_auto_flow": null,
            "grid_auto_rows": null,
            "grid_column": null,
            "grid_gap": null,
            "grid_row": null,
            "grid_template_areas": null,
            "grid_template_columns": null,
            "grid_template_rows": null,
            "height": null,
            "justify_content": null,
            "justify_items": null,
            "left": null,
            "margin": null,
            "max_height": null,
            "max_width": null,
            "min_height": null,
            "min_width": null,
            "object_fit": null,
            "object_position": null,
            "order": null,
            "overflow": null,
            "overflow_x": null,
            "overflow_y": null,
            "padding": null,
            "right": null,
            "top": null,
            "visibility": null,
            "width": null
          }
        },
        "da7db086effc4f81a662e01257ce4dc4": {
          "model_module": "@jupyter-widgets/controls",
          "model_name": "DescriptionStyleModel",
          "model_module_version": "1.5.0",
          "state": {
            "_model_module": "@jupyter-widgets/controls",
            "_model_module_version": "1.5.0",
            "_model_name": "DescriptionStyleModel",
            "_view_count": null,
            "_view_module": "@jupyter-widgets/base",
            "_view_module_version": "1.2.0",
            "_view_name": "StyleView",
            "description_width": ""
          }
        },
        "fb52e0c8cebe4dcfa7babd8b2b418f1f": {
          "model_module": "@jupyter-widgets/controls",
          "model_name": "HBoxModel",
          "model_module_version": "1.5.0",
          "state": {
            "_dom_classes": [],
            "_model_module": "@jupyter-widgets/controls",
            "_model_module_version": "1.5.0",
            "_model_name": "HBoxModel",
            "_view_count": null,
            "_view_module": "@jupyter-widgets/controls",
            "_view_module_version": "1.5.0",
            "_view_name": "HBoxView",
            "box_style": "",
            "children": [
              "IPY_MODEL_1f333a36e357498c865a3cfd386590b4",
              "IPY_MODEL_b7e036bc2f124dd8a62398c1dfd96110",
              "IPY_MODEL_8e032d80350340758e58e53c86f7c20c"
            ],
            "layout": "IPY_MODEL_8a459d494217471e8260228b4d57ac55"
          }
        },
        "1f333a36e357498c865a3cfd386590b4": {
          "model_module": "@jupyter-widgets/controls",
          "model_name": "HTMLModel",
          "model_module_version": "1.5.0",
          "state": {
            "_dom_classes": [],
            "_model_module": "@jupyter-widgets/controls",
            "_model_module_version": "1.5.0",
            "_model_name": "HTMLModel",
            "_view_count": null,
            "_view_module": "@jupyter-widgets/controls",
            "_view_module_version": "1.5.0",
            "_view_name": "HTMLView",
            "description": "",
            "description_tooltip": null,
            "layout": "IPY_MODEL_66b6c119837747a5b9f3139b9cfb1e6e",
            "placeholder": "​",
            "style": "IPY_MODEL_25aa05c10aa44882a23304c2bed9278e",
            "value": "Downloading builder script: 100%"
          }
        },
        "b7e036bc2f124dd8a62398c1dfd96110": {
          "model_module": "@jupyter-widgets/controls",
          "model_name": "FloatProgressModel",
          "model_module_version": "1.5.0",
          "state": {
            "_dom_classes": [],
            "_model_module": "@jupyter-widgets/controls",
            "_model_module_version": "1.5.0",
            "_model_name": "FloatProgressModel",
            "_view_count": null,
            "_view_module": "@jupyter-widgets/controls",
            "_view_module_version": "1.5.0",
            "_view_name": "ProgressView",
            "bar_style": "success",
            "description": "",
            "description_tooltip": null,
            "layout": "IPY_MODEL_86625b5391d54070be0e4261bd68f11a",
            "max": 4203,
            "min": 0,
            "orientation": "horizontal",
            "style": "IPY_MODEL_321439aa2f594e30ab071b0fff11e470",
            "value": 4203
          }
        },
        "8e032d80350340758e58e53c86f7c20c": {
          "model_module": "@jupyter-widgets/controls",
          "model_name": "HTMLModel",
          "model_module_version": "1.5.0",
          "state": {
            "_dom_classes": [],
            "_model_module": "@jupyter-widgets/controls",
            "_model_module_version": "1.5.0",
            "_model_name": "HTMLModel",
            "_view_count": null,
            "_view_module": "@jupyter-widgets/controls",
            "_view_module_version": "1.5.0",
            "_view_name": "HTMLView",
            "description": "",
            "description_tooltip": null,
            "layout": "IPY_MODEL_d532a248bc244d68bb38f62283825b10",
            "placeholder": "​",
            "style": "IPY_MODEL_5c1d26e7e9ad4e3c942f55f91e389659",
            "value": " 4.20k/4.20k [00:00&lt;00:00, 168kB/s]"
          }
        },
        "8a459d494217471e8260228b4d57ac55": {
          "model_module": "@jupyter-widgets/base",
          "model_name": "LayoutModel",
          "model_module_version": "1.2.0",
          "state": {
            "_model_module": "@jupyter-widgets/base",
            "_model_module_version": "1.2.0",
            "_model_name": "LayoutModel",
            "_view_count": null,
            "_view_module": "@jupyter-widgets/base",
            "_view_module_version": "1.2.0",
            "_view_name": "LayoutView",
            "align_content": null,
            "align_items": null,
            "align_self": null,
            "border": null,
            "bottom": null,
            "display": null,
            "flex": null,
            "flex_flow": null,
            "grid_area": null,
            "grid_auto_columns": null,
            "grid_auto_flow": null,
            "grid_auto_rows": null,
            "grid_column": null,
            "grid_gap": null,
            "grid_row": null,
            "grid_template_areas": null,
            "grid_template_columns": null,
            "grid_template_rows": null,
            "height": null,
            "justify_content": null,
            "justify_items": null,
            "left": null,
            "margin": null,
            "max_height": null,
            "max_width": null,
            "min_height": null,
            "min_width": null,
            "object_fit": null,
            "object_position": null,
            "order": null,
            "overflow": null,
            "overflow_x": null,
            "overflow_y": null,
            "padding": null,
            "right": null,
            "top": null,
            "visibility": null,
            "width": null
          }
        },
        "66b6c119837747a5b9f3139b9cfb1e6e": {
          "model_module": "@jupyter-widgets/base",
          "model_name": "LayoutModel",
          "model_module_version": "1.2.0",
          "state": {
            "_model_module": "@jupyter-widgets/base",
            "_model_module_version": "1.2.0",
            "_model_name": "LayoutModel",
            "_view_count": null,
            "_view_module": "@jupyter-widgets/base",
            "_view_module_version": "1.2.0",
            "_view_name": "LayoutView",
            "align_content": null,
            "align_items": null,
            "align_self": null,
            "border": null,
            "bottom": null,
            "display": null,
            "flex": null,
            "flex_flow": null,
            "grid_area": null,
            "grid_auto_columns": null,
            "grid_auto_flow": null,
            "grid_auto_rows": null,
            "grid_column": null,
            "grid_gap": null,
            "grid_row": null,
            "grid_template_areas": null,
            "grid_template_columns": null,
            "grid_template_rows": null,
            "height": null,
            "justify_content": null,
            "justify_items": null,
            "left": null,
            "margin": null,
            "max_height": null,
            "max_width": null,
            "min_height": null,
            "min_width": null,
            "object_fit": null,
            "object_position": null,
            "order": null,
            "overflow": null,
            "overflow_x": null,
            "overflow_y": null,
            "padding": null,
            "right": null,
            "top": null,
            "visibility": null,
            "width": null
          }
        },
        "25aa05c10aa44882a23304c2bed9278e": {
          "model_module": "@jupyter-widgets/controls",
          "model_name": "DescriptionStyleModel",
          "model_module_version": "1.5.0",
          "state": {
            "_model_module": "@jupyter-widgets/controls",
            "_model_module_version": "1.5.0",
            "_model_name": "DescriptionStyleModel",
            "_view_count": null,
            "_view_module": "@jupyter-widgets/base",
            "_view_module_version": "1.2.0",
            "_view_name": "StyleView",
            "description_width": ""
          }
        },
        "86625b5391d54070be0e4261bd68f11a": {
          "model_module": "@jupyter-widgets/base",
          "model_name": "LayoutModel",
          "model_module_version": "1.2.0",
          "state": {
            "_model_module": "@jupyter-widgets/base",
            "_model_module_version": "1.2.0",
            "_model_name": "LayoutModel",
            "_view_count": null,
            "_view_module": "@jupyter-widgets/base",
            "_view_module_version": "1.2.0",
            "_view_name": "LayoutView",
            "align_content": null,
            "align_items": null,
            "align_self": null,
            "border": null,
            "bottom": null,
            "display": null,
            "flex": null,
            "flex_flow": null,
            "grid_area": null,
            "grid_auto_columns": null,
            "grid_auto_flow": null,
            "grid_auto_rows": null,
            "grid_column": null,
            "grid_gap": null,
            "grid_row": null,
            "grid_template_areas": null,
            "grid_template_columns": null,
            "grid_template_rows": null,
            "height": null,
            "justify_content": null,
            "justify_items": null,
            "left": null,
            "margin": null,
            "max_height": null,
            "max_width": null,
            "min_height": null,
            "min_width": null,
            "object_fit": null,
            "object_position": null,
            "order": null,
            "overflow": null,
            "overflow_x": null,
            "overflow_y": null,
            "padding": null,
            "right": null,
            "top": null,
            "visibility": null,
            "width": null
          }
        },
        "321439aa2f594e30ab071b0fff11e470": {
          "model_module": "@jupyter-widgets/controls",
          "model_name": "ProgressStyleModel",
          "model_module_version": "1.5.0",
          "state": {
            "_model_module": "@jupyter-widgets/controls",
            "_model_module_version": "1.5.0",
            "_model_name": "ProgressStyleModel",
            "_view_count": null,
            "_view_module": "@jupyter-widgets/base",
            "_view_module_version": "1.2.0",
            "_view_name": "StyleView",
            "bar_color": null,
            "description_width": ""
          }
        },
        "d532a248bc244d68bb38f62283825b10": {
          "model_module": "@jupyter-widgets/base",
          "model_name": "LayoutModel",
          "model_module_version": "1.2.0",
          "state": {
            "_model_module": "@jupyter-widgets/base",
            "_model_module_version": "1.2.0",
            "_model_name": "LayoutModel",
            "_view_count": null,
            "_view_module": "@jupyter-widgets/base",
            "_view_module_version": "1.2.0",
            "_view_name": "LayoutView",
            "align_content": null,
            "align_items": null,
            "align_self": null,
            "border": null,
            "bottom": null,
            "display": null,
            "flex": null,
            "flex_flow": null,
            "grid_area": null,
            "grid_auto_columns": null,
            "grid_auto_flow": null,
            "grid_auto_rows": null,
            "grid_column": null,
            "grid_gap": null,
            "grid_row": null,
            "grid_template_areas": null,
            "grid_template_columns": null,
            "grid_template_rows": null,
            "height": null,
            "justify_content": null,
            "justify_items": null,
            "left": null,
            "margin": null,
            "max_height": null,
            "max_width": null,
            "min_height": null,
            "min_width": null,
            "object_fit": null,
            "object_position": null,
            "order": null,
            "overflow": null,
            "overflow_x": null,
            "overflow_y": null,
            "padding": null,
            "right": null,
            "top": null,
            "visibility": null,
            "width": null
          }
        },
        "5c1d26e7e9ad4e3c942f55f91e389659": {
          "model_module": "@jupyter-widgets/controls",
          "model_name": "DescriptionStyleModel",
          "model_module_version": "1.5.0",
          "state": {
            "_model_module": "@jupyter-widgets/controls",
            "_model_module_version": "1.5.0",
            "_model_name": "DescriptionStyleModel",
            "_view_count": null,
            "_view_module": "@jupyter-widgets/base",
            "_view_module_version": "1.2.0",
            "_view_name": "StyleView",
            "description_width": ""
          }
        }
      }
    }
  },
  "cells": [
    {
      "cell_type": "markdown",
      "source": [
        "# Text Classification Huggingface Transformers"
      ],
      "metadata": {
        "id": "My3fYCg_PAFY"
      }
    },
    {
      "cell_type": "markdown",
      "source": [
        "## Setting Up Necessary Things"
      ],
      "metadata": {
        "id": "aM05qB4PPEMH"
      }
    },
    {
      "cell_type": "code",
      "execution_count": 1,
      "metadata": {
        "id": "GdM9KjBHOsss"
      },
      "outputs": [],
      "source": [
        "# Jupyter Notebook Magic Command - Auto Reloading\n",
        "%reload_ext autoreload\n",
        "%autoreload 2\n",
        "\n",
        "# Jupyter Notebook Magic Command - Inline Plotting\n",
        "%matplotlib inline"
      ]
    },
    {
      "cell_type": "code",
      "source": [
        "# Ignore All Warnings\n",
        "import warnings\n",
        "warnings.filterwarnings(\"ignore\")"
      ],
      "metadata": {
        "id": "yCX7y2hVPHGK"
      },
      "execution_count": 2,
      "outputs": []
    },
    {
      "cell_type": "code",
      "source": [
        "# NVIDIA Status\n",
        "! nvidia-smi"
      ],
      "metadata": {
        "colab": {
          "base_uri": "https://localhost:8080/"
        },
        "id": "h7QwhV0IPJTu",
        "outputId": "a533645c-aa14-4f60-816c-d09f3a7959cd"
      },
      "execution_count": 3,
      "outputs": [
        {
          "output_type": "stream",
          "name": "stdout",
          "text": [
            "Thu Aug 17 06:19:53 2023       \n",
            "+-----------------------------------------------------------------------------+\n",
            "| NVIDIA-SMI 525.105.17   Driver Version: 525.105.17   CUDA Version: 12.0     |\n",
            "|-------------------------------+----------------------+----------------------+\n",
            "| GPU  Name        Persistence-M| Bus-Id        Disp.A | Volatile Uncorr. ECC |\n",
            "| Fan  Temp  Perf  Pwr:Usage/Cap|         Memory-Usage | GPU-Util  Compute M. |\n",
            "|                               |                      |               MIG M. |\n",
            "|===============================+======================+======================|\n",
            "|   0  Tesla T4            Off  | 00000000:00:04.0 Off |                    0 |\n",
            "| N/A   49C    P8    10W /  70W |      0MiB / 15360MiB |      0%      Default |\n",
            "|                               |                      |                  N/A |\n",
            "+-------------------------------+----------------------+----------------------+\n",
            "                                                                               \n",
            "+-----------------------------------------------------------------------------+\n",
            "| Processes:                                                                  |\n",
            "|  GPU   GI   CI        PID   Type   Process name                  GPU Memory |\n",
            "|        ID   ID                                                   Usage      |\n",
            "|=============================================================================|\n",
            "|  No running processes found                                                 |\n",
            "+-----------------------------------------------------------------------------+\n"
          ]
        }
      ]
    },
    {
      "cell_type": "code",
      "source": [
        "from google.colab import drive\n",
        "drive.mount('/content/drive')"
      ],
      "metadata": {
        "colab": {
          "base_uri": "https://localhost:8080/"
        },
        "id": "PlS9n7gDPK4r",
        "outputId": "3a162488-46fa-4853-ee6e-775db808d3a6"
      },
      "execution_count": 4,
      "outputs": [
        {
          "output_type": "stream",
          "name": "stdout",
          "text": [
            "Mounted at /content/drive\n"
          ]
        }
      ]
    },
    {
      "cell_type": "code",
      "source": [
        "%cd /content/drive/MyDrive/Colab Notebooks/TC.Video.Game"
      ],
      "metadata": {
        "colab": {
          "base_uri": "https://localhost:8080/"
        },
        "id": "EyROxaIOPMQH",
        "outputId": "1e45a0e2-f6ce-4dd4-89bc-423b88293e48"
      },
      "execution_count": 5,
      "outputs": [
        {
          "output_type": "stream",
          "name": "stdout",
          "text": [
            "/content/drive/MyDrive/Colab Notebooks/TC.Video.Game\n"
          ]
        }
      ]
    },
    {
      "cell_type": "markdown",
      "source": [
        "## Necessary Imports"
      ],
      "metadata": {
        "id": "duTfhyPgPOxP"
      }
    },
    {
      "cell_type": "code",
      "source": [
        "! pip install -q transformers[sentencepiece]==4.28.0 datasets evaluate"
      ],
      "metadata": {
        "colab": {
          "base_uri": "https://localhost:8080/"
        },
        "id": "EZfkyaOhPOYZ",
        "outputId": "113bc8f7-492a-4f8d-d429-8a9f3646b797"
      },
      "execution_count": 6,
      "outputs": [
        {
          "output_type": "stream",
          "name": "stdout",
          "text": [
            "\u001b[2K     \u001b[90m━━━━━━━━━━━━━━━━━━━━━━━━━━━━━━━━━━━━━━━━\u001b[0m \u001b[32m7.0/7.0 MB\u001b[0m \u001b[31m56.0 MB/s\u001b[0m eta \u001b[36m0:00:00\u001b[0m\n",
            "\u001b[2K     \u001b[90m━━━━━━━━━━━━━━━━━━━━━━━━━━━━━━━━━━━━━━\u001b[0m \u001b[32m519.3/519.3 kB\u001b[0m \u001b[31m32.4 MB/s\u001b[0m eta \u001b[36m0:00:00\u001b[0m\n",
            "\u001b[2K     \u001b[90m━━━━━━━━━━━━━━━━━━━━━━━━━━━━━━━━━━━━━━━━\u001b[0m \u001b[32m81.4/81.4 kB\u001b[0m \u001b[31m8.5 MB/s\u001b[0m eta \u001b[36m0:00:00\u001b[0m\n",
            "\u001b[2K     \u001b[90m━━━━━━━━━━━━━━━━━━━━━━━━━━━━━━━━━━━━━━\u001b[0m \u001b[32m268.8/268.8 kB\u001b[0m \u001b[31m32.3 MB/s\u001b[0m eta \u001b[36m0:00:00\u001b[0m\n",
            "\u001b[2K     \u001b[90m━━━━━━━━━━━━━━━━━━━━━━━━━━━━━━━━━━━━━━━━\u001b[0m \u001b[32m7.8/7.8 MB\u001b[0m \u001b[31m78.0 MB/s\u001b[0m eta \u001b[36m0:00:00\u001b[0m\n",
            "\u001b[2K     \u001b[90m━━━━━━━━━━━━━━━━━━━━━━━━━━━━━━━━━━━━━━━━\u001b[0m \u001b[32m1.3/1.3 MB\u001b[0m \u001b[31m68.4 MB/s\u001b[0m eta \u001b[36m0:00:00\u001b[0m\n",
            "\u001b[2K     \u001b[90m━━━━━━━━━━━━━━━━━━━━━━━━━━━━━━━━━━━━━━━━\u001b[0m \u001b[32m1.1/1.1 MB\u001b[0m \u001b[31m20.4 MB/s\u001b[0m eta \u001b[36m0:00:00\u001b[0m\n",
            "\u001b[2K     \u001b[90m━━━━━━━━━━━━━━━━━━━━━━━━━━━━━━━━━━━━━━\u001b[0m \u001b[32m115.3/115.3 kB\u001b[0m \u001b[31m16.3 MB/s\u001b[0m eta \u001b[36m0:00:00\u001b[0m\n",
            "\u001b[2K     \u001b[90m━━━━━━━━━━━━━━━━━━━━━━━━━━━━━━━━━━━━━━\u001b[0m \u001b[32m194.1/194.1 kB\u001b[0m \u001b[31m24.1 MB/s\u001b[0m eta \u001b[36m0:00:00\u001b[0m\n",
            "\u001b[2K     \u001b[90m━━━━━━━━━━━━━━━━━━━━━━━━━━━━━━━━━━━━━━\u001b[0m \u001b[32m134.8/134.8 kB\u001b[0m \u001b[31m15.8 MB/s\u001b[0m eta \u001b[36m0:00:00\u001b[0m\n",
            "\u001b[?25h\u001b[31mERROR: pip's dependency resolver does not currently take into account all the packages that are installed. This behaviour is the source of the following dependency conflicts.\n",
            "tensorflow 2.12.0 requires protobuf!=4.21.0,!=4.21.1,!=4.21.2,!=4.21.3,!=4.21.4,!=4.21.5,<5.0.0dev,>=3.20.3, but you have protobuf 3.20.2 which is incompatible.\n",
            "tensorflow-metadata 1.14.0 requires protobuf<4.21,>=3.20.3, but you have protobuf 3.20.2 which is incompatible.\u001b[0m\u001b[31m\n",
            "\u001b[0m"
          ]
        }
      ]
    },
    {
      "cell_type": "code",
      "source": [
        "import pandas as pd\n",
        "import transformers\n",
        "\n",
        "from datasets import Dataset, DatasetDict\n",
        "from transformers import AutoTokenizer\n",
        "\n",
        "from transformers import AutoModelForSequenceClassification\n",
        "from transformers import TrainingArguments, Trainer\n",
        "\n",
        "import evaluate\n",
        "import numpy as np"
      ],
      "metadata": {
        "id": "Ymce-1WIPUl4"
      },
      "execution_count": 52,
      "outputs": []
    },
    {
      "cell_type": "code",
      "source": [
        "bs = 32\n",
        "epochs = 7\n",
        "lr = 3.75e-4"
      ],
      "metadata": {
        "id": "6c_rCgCZF0TL"
      },
      "execution_count": 8,
      "outputs": []
    },
    {
      "cell_type": "markdown",
      "source": [
        "*URL to the model: [distilroberta-base](https://huggingface.co/distilroberta-base)*"
      ],
      "metadata": {
        "id": "Mc8yk09uPdun"
      }
    },
    {
      "cell_type": "code",
      "source": [
        "model_name = \"distilroberta-base\""
      ],
      "metadata": {
        "id": "w3fKtgomPX_9"
      },
      "execution_count": 9,
      "outputs": []
    },
    {
      "cell_type": "markdown",
      "source": [
        "## Data Cleaning"
      ],
      "metadata": {
        "id": "MC2f0e08PrEi"
      }
    },
    {
      "cell_type": "code",
      "source": [
        "# Load Data Into DataFrame\n",
        "df = pd.read_csv(\"data/raw_data/game_details.csv\")\n",
        "df.head()"
      ],
      "metadata": {
        "colab": {
          "base_uri": "https://localhost:8080/",
          "height": 206
        },
        "id": "t4d-PuyBPrTr",
        "outputId": "57cef90f-c739-4a58-bfab-edc150131b62"
      },
      "execution_count": 10,
      "outputs": [
        {
          "output_type": "execute_result",
          "data": {
            "text/plain": [
              "                                   Name  \\\n",
              "0  The Legend of Zelda: Ocarina of Time   \n",
              "1              Tony Hawk's Pro Skater 2   \n",
              "2                   Grand Theft Auto IV   \n",
              "3                           SoulCalibur   \n",
              "4                   Grand Theft Auto IV   \n",
              "\n",
              "                                             Summary  \\\n",
              "0  As a young boy, Link is tricked by Ganondorf, ...   \n",
              "1  As most major publishers' development efforts ...   \n",
              "2  [Metacritic's 2008 PS3 Game of the Year; Also ...   \n",
              "3  This is a tale of souls and swords, transcendi...   \n",
              "4  [Metacritic's 2008 Xbox 360 Game of the Year; ...   \n",
              "\n",
              "                                              Genres  \n",
              "0                    ['Action Adventure', 'Fantasy']  \n",
              "1         ['Sports', 'Alternative', 'Skateboarding']  \n",
              "2  ['Action Adventure', 'Modern', 'Modern', 'Open...  \n",
              "3                       ['Action', 'Fighting', '3D']  \n",
              "4  ['Action Adventure', 'Modern', 'Modern', 'Open...  "
            ],
            "text/html": [
              "\n",
              "\n",
              "  <div id=\"df-84ae938b-5ddb-4b49-a4d1-1340725e38df\">\n",
              "    <div class=\"colab-df-container\">\n",
              "      <div>\n",
              "<style scoped>\n",
              "    .dataframe tbody tr th:only-of-type {\n",
              "        vertical-align: middle;\n",
              "    }\n",
              "\n",
              "    .dataframe tbody tr th {\n",
              "        vertical-align: top;\n",
              "    }\n",
              "\n",
              "    .dataframe thead th {\n",
              "        text-align: right;\n",
              "    }\n",
              "</style>\n",
              "<table border=\"1\" class=\"dataframe\">\n",
              "  <thead>\n",
              "    <tr style=\"text-align: right;\">\n",
              "      <th></th>\n",
              "      <th>Name</th>\n",
              "      <th>Summary</th>\n",
              "      <th>Genres</th>\n",
              "    </tr>\n",
              "  </thead>\n",
              "  <tbody>\n",
              "    <tr>\n",
              "      <th>0</th>\n",
              "      <td>The Legend of Zelda: Ocarina of Time</td>\n",
              "      <td>As a young boy, Link is tricked by Ganondorf, ...</td>\n",
              "      <td>['Action Adventure', 'Fantasy']</td>\n",
              "    </tr>\n",
              "    <tr>\n",
              "      <th>1</th>\n",
              "      <td>Tony Hawk's Pro Skater 2</td>\n",
              "      <td>As most major publishers' development efforts ...</td>\n",
              "      <td>['Sports', 'Alternative', 'Skateboarding']</td>\n",
              "    </tr>\n",
              "    <tr>\n",
              "      <th>2</th>\n",
              "      <td>Grand Theft Auto IV</td>\n",
              "      <td>[Metacritic's 2008 PS3 Game of the Year; Also ...</td>\n",
              "      <td>['Action Adventure', 'Modern', 'Modern', 'Open...</td>\n",
              "    </tr>\n",
              "    <tr>\n",
              "      <th>3</th>\n",
              "      <td>SoulCalibur</td>\n",
              "      <td>This is a tale of souls and swords, transcendi...</td>\n",
              "      <td>['Action', 'Fighting', '3D']</td>\n",
              "    </tr>\n",
              "    <tr>\n",
              "      <th>4</th>\n",
              "      <td>Grand Theft Auto IV</td>\n",
              "      <td>[Metacritic's 2008 Xbox 360 Game of the Year; ...</td>\n",
              "      <td>['Action Adventure', 'Modern', 'Modern', 'Open...</td>\n",
              "    </tr>\n",
              "  </tbody>\n",
              "</table>\n",
              "</div>\n",
              "      <button class=\"colab-df-convert\" onclick=\"convertToInteractive('df-84ae938b-5ddb-4b49-a4d1-1340725e38df')\"\n",
              "              title=\"Convert this dataframe to an interactive table.\"\n",
              "              style=\"display:none;\">\n",
              "\n",
              "  <svg xmlns=\"http://www.w3.org/2000/svg\" height=\"24px\"viewBox=\"0 0 24 24\"\n",
              "       width=\"24px\">\n",
              "    <path d=\"M0 0h24v24H0V0z\" fill=\"none\"/>\n",
              "    <path d=\"M18.56 5.44l.94 2.06.94-2.06 2.06-.94-2.06-.94-.94-2.06-.94 2.06-2.06.94zm-11 1L8.5 8.5l.94-2.06 2.06-.94-2.06-.94L8.5 2.5l-.94 2.06-2.06.94zm10 10l.94 2.06.94-2.06 2.06-.94-2.06-.94-.94-2.06-.94 2.06-2.06.94z\"/><path d=\"M17.41 7.96l-1.37-1.37c-.4-.4-.92-.59-1.43-.59-.52 0-1.04.2-1.43.59L10.3 9.45l-7.72 7.72c-.78.78-.78 2.05 0 2.83L4 21.41c.39.39.9.59 1.41.59.51 0 1.02-.2 1.41-.59l7.78-7.78 2.81-2.81c.8-.78.8-2.07 0-2.86zM5.41 20L4 18.59l7.72-7.72 1.47 1.35L5.41 20z\"/>\n",
              "  </svg>\n",
              "      </button>\n",
              "\n",
              "\n",
              "\n",
              "    <div id=\"df-c878c789-ccfa-46c7-b2c6-ce50b167bbf8\">\n",
              "      <button class=\"colab-df-quickchart\" onclick=\"quickchart('df-c878c789-ccfa-46c7-b2c6-ce50b167bbf8')\"\n",
              "              title=\"Suggest charts.\"\n",
              "              style=\"display:none;\">\n",
              "\n",
              "<svg xmlns=\"http://www.w3.org/2000/svg\" height=\"24px\"viewBox=\"0 0 24 24\"\n",
              "     width=\"24px\">\n",
              "    <g>\n",
              "        <path d=\"M19 3H5c-1.1 0-2 .9-2 2v14c0 1.1.9 2 2 2h14c1.1 0 2-.9 2-2V5c0-1.1-.9-2-2-2zM9 17H7v-7h2v7zm4 0h-2V7h2v10zm4 0h-2v-4h2v4z\"/>\n",
              "    </g>\n",
              "</svg>\n",
              "      </button>\n",
              "    </div>\n",
              "\n",
              "<style>\n",
              "  .colab-df-quickchart {\n",
              "    background-color: #E8F0FE;\n",
              "    border: none;\n",
              "    border-radius: 50%;\n",
              "    cursor: pointer;\n",
              "    display: none;\n",
              "    fill: #1967D2;\n",
              "    height: 32px;\n",
              "    padding: 0 0 0 0;\n",
              "    width: 32px;\n",
              "  }\n",
              "\n",
              "  .colab-df-quickchart:hover {\n",
              "    background-color: #E2EBFA;\n",
              "    box-shadow: 0px 1px 2px rgba(60, 64, 67, 0.3), 0px 1px 3px 1px rgba(60, 64, 67, 0.15);\n",
              "    fill: #174EA6;\n",
              "  }\n",
              "\n",
              "  [theme=dark] .colab-df-quickchart {\n",
              "    background-color: #3B4455;\n",
              "    fill: #D2E3FC;\n",
              "  }\n",
              "\n",
              "  [theme=dark] .colab-df-quickchart:hover {\n",
              "    background-color: #434B5C;\n",
              "    box-shadow: 0px 1px 3px 1px rgba(0, 0, 0, 0.15);\n",
              "    filter: drop-shadow(0px 1px 2px rgba(0, 0, 0, 0.3));\n",
              "    fill: #FFFFFF;\n",
              "  }\n",
              "</style>\n",
              "\n",
              "    <script>\n",
              "      async function quickchart(key) {\n",
              "        const containerElement = document.querySelector('#' + key);\n",
              "        const charts = await google.colab.kernel.invokeFunction(\n",
              "            'suggestCharts', [key], {});\n",
              "      }\n",
              "    </script>\n",
              "\n",
              "\n",
              "      <script>\n",
              "\n",
              "function displayQuickchartButton(domScope) {\n",
              "  let quickchartButtonEl =\n",
              "    domScope.querySelector('#df-c878c789-ccfa-46c7-b2c6-ce50b167bbf8 button.colab-df-quickchart');\n",
              "  quickchartButtonEl.style.display =\n",
              "    google.colab.kernel.accessAllowed ? 'block' : 'none';\n",
              "}\n",
              "\n",
              "        displayQuickchartButton(document);\n",
              "      </script>\n",
              "      <style>\n",
              "    .colab-df-container {\n",
              "      display:flex;\n",
              "      flex-wrap:wrap;\n",
              "      gap: 12px;\n",
              "    }\n",
              "\n",
              "    .colab-df-convert {\n",
              "      background-color: #E8F0FE;\n",
              "      border: none;\n",
              "      border-radius: 50%;\n",
              "      cursor: pointer;\n",
              "      display: none;\n",
              "      fill: #1967D2;\n",
              "      height: 32px;\n",
              "      padding: 0 0 0 0;\n",
              "      width: 32px;\n",
              "    }\n",
              "\n",
              "    .colab-df-convert:hover {\n",
              "      background-color: #E2EBFA;\n",
              "      box-shadow: 0px 1px 2px rgba(60, 64, 67, 0.3), 0px 1px 3px 1px rgba(60, 64, 67, 0.15);\n",
              "      fill: #174EA6;\n",
              "    }\n",
              "\n",
              "    [theme=dark] .colab-df-convert {\n",
              "      background-color: #3B4455;\n",
              "      fill: #D2E3FC;\n",
              "    }\n",
              "\n",
              "    [theme=dark] .colab-df-convert:hover {\n",
              "      background-color: #434B5C;\n",
              "      box-shadow: 0px 1px 3px 1px rgba(0, 0, 0, 0.15);\n",
              "      filter: drop-shadow(0px 1px 2px rgba(0, 0, 0, 0.3));\n",
              "      fill: #FFFFFF;\n",
              "    }\n",
              "  </style>\n",
              "\n",
              "      <script>\n",
              "        const buttonEl =\n",
              "          document.querySelector('#df-84ae938b-5ddb-4b49-a4d1-1340725e38df button.colab-df-convert');\n",
              "        buttonEl.style.display =\n",
              "          google.colab.kernel.accessAllowed ? 'block' : 'none';\n",
              "\n",
              "        async function convertToInteractive(key) {\n",
              "          const element = document.querySelector('#df-84ae938b-5ddb-4b49-a4d1-1340725e38df');\n",
              "          const dataTable =\n",
              "            await google.colab.kernel.invokeFunction('convertToInteractive',\n",
              "                                                     [key], {});\n",
              "          if (!dataTable) return;\n",
              "\n",
              "          const docLinkHtml = 'Like what you see? Visit the ' +\n",
              "            '<a target=\"_blank\" href=https://colab.research.google.com/notebooks/data_table.ipynb>data table notebook</a>'\n",
              "            + ' to learn more about interactive tables.';\n",
              "          element.innerHTML = '';\n",
              "          dataTable['output_type'] = 'display_data';\n",
              "          await google.colab.output.renderOutput(dataTable, element);\n",
              "          const docLink = document.createElement('div');\n",
              "          docLink.innerHTML = docLinkHtml;\n",
              "          element.appendChild(docLink);\n",
              "        }\n",
              "      </script>\n",
              "    </div>\n",
              "  </div>\n"
            ]
          },
          "metadata": {},
          "execution_count": 10
        }
      ]
    },
    {
      "cell_type": "code",
      "source": [
        "# Shape of the DataFrame\n",
        "df.shape"
      ],
      "metadata": {
        "colab": {
          "base_uri": "https://localhost:8080/"
        },
        "id": "PxL4fS8KQMdn",
        "outputId": "8258edab-df9d-4af3-ad3a-1d20f93b5f29"
      },
      "execution_count": 11,
      "outputs": [
        {
          "output_type": "execute_result",
          "data": {
            "text/plain": [
              "(20406, 3)"
            ]
          },
          "metadata": {},
          "execution_count": 11
        }
      ]
    },
    {
      "cell_type": "markdown",
      "source": [
        "### Total Number of Genres"
      ],
      "metadata": {
        "id": "4FnDgDLwQOV9"
      }
    },
    {
      "cell_type": "code",
      "source": [
        "genres_list = df[\"Genres\"].to_list()    # list of all the genres\n",
        "genres_count = {}                       # count of all the genres\n",
        "\n",
        "for genres in genres_list:\n",
        "    genre_list = eval(genres)\n",
        "\n",
        "    for genre in genre_list:\n",
        "        if genre in genres_count.keys():\n",
        "            genres_count[genre] += 1\n",
        "        else:\n",
        "            genres_count[genre] = 1"
      ],
      "metadata": {
        "id": "6UOPIamNQPM2"
      },
      "execution_count": 12,
      "outputs": []
    },
    {
      "cell_type": "code",
      "source": [
        "print(\"Total Number of Genres: \", len(genres_count))\n",
        "\n",
        "sorted_genres_count = dict(sorted(genres_count.items(), key=lambda item: item[1], reverse=True))\n",
        "print(\"Individual Genres Count: \\n\", sorted_genres_count)"
      ],
      "metadata": {
        "colab": {
          "base_uri": "https://localhost:8080/"
        },
        "id": "UpWjXQYHQR8H",
        "outputId": "aab12df4-44fa-4b25-cd3b-e0778182ef5c"
      },
      "execution_count": 13,
      "outputs": [
        {
          "output_type": "stream",
          "name": "stdout",
          "text": [
            "Total Number of Genres:  178\n",
            "Individual Genres Count: \n",
            " {'Action': 7097, 'General': 7035, 'Shooter': 3549, 'Action Adventure': 3424, 'Platformer': 2371, 'Arcade': 2355, 'Role-Playing': 2341, '3D': 2127, 'Adventure': 1995, '2D': 1979, 'Miscellaneous': 1927, 'Strategy': 1905, 'First-Person': 1875, 'Sci-Fi': 1779, 'Fantasy': 1729, 'Sports': 1727, 'Modern': 1569, 'Puzzle': 1376, 'Action RPG': 1300, 'Racing': 1239, 'Sim': 1162, 'Simulation': 1160, 'Third-Person': 1040, 'Traditional': 1015, 'Driving': 971, 'Historic': 915, 'Fighting': 838, 'Automobile': 782, 'Real-Time': 772, 'Turn-Based': 740, 'Open-World': 736, \"Beat-'Em-Up\": 713, 'Team': 619, 'Compilation': 546, 'Survival': 544, 'Individual': 450, \"Shoot-'Em-Up\": 433, 'Point-and-Click': 430, 'Horror': 419, 'Japanese-Style': 415, 'Music': 411, 'Tactical': 405, 'Tactics': 392, 'Combat': 382, 'Linear': 353, 'Console-style RPG': 346, 'Rhythm': 340, 'Management': 334, 'GT / Street': 283, 'Western-Style': 279, 'Soccer': 276, 'Scrolling': 264, 'Virtual Life': 249, 'Virtual': 237, 'Basketball': 222, 'Alternative': 216, 'Football': 213, 'Top-Down': 210, 'Flight': 204, 'Metroidvania': 174, 'Rally / Offroad': 172, 'Massively Multiplayer': 166, 'Vertical': 165, 'Business / Tycoon': 156, 'Wrestling': 156, 'Party / Minigame': 156, 'Visual Novel': 149, 'Other': 146, 'Baseball': 145, 'Matching': 144, 'Party': 140, 'Massively Multiplayer Online': 134, 'Golf': 130, 'Card Battle': 128, 'Vehicle': 128, 'Ice Hockey': 124, 'Tycoon': 124, 'PC-style RPG': 123, 'Mission-based': 112, 'Board / Card Game': 109, '': 106, 'Board Games': 103, 'Command': 102, 'Government': 101, 'Static': 101, 'Skateboarding': 99, 'Tennis': 99, 'Motorcycle': 99, 'Futuristic': 98, 'Career': 95, 'Dancing': 92, 'Civilian': 90, 'Horizontal': 89, 'Formula One': 87, 'WWII': 86, 'Parlor': 86, 'Logic': 85, 'Car Combat': 84, 'Street': 84, 'Kart': 83, 'Sandbox': 82, 'Defense': 81, 'Light Gun': 79, 'Space': 75, 'Breeding/Constructing': 71, 'Pinball': 67, 'Military': 67, 'Roguelike': 65, 'Boxing': 64, '4X': 61, 'Snowboarding': 60, 'Trainer': 60, 'Gambling': 60, 'Skate / Skateboard': 59, 'Rail': 56, 'Small Spaceship': 55, 'Mech': 55, 'Edutainment': 55, 'Olympic Sports': 54, 'Motocross': 52, 'Modern Jet': 48, 'Trivia / Game Show': 47, 'Stock Car': 45, 'MOBA': 44, 'Billiards': 40, 'Biking': 39, 'Athletics': 36, 'Wargame': 35, 'Stacking': 34, 'Music Maker': 34, 'Nature': 33, 'Fishing': 33, 'Boxing / Martial Arts': 31, 'Artillery': 28, 'Application': 27, 'Helicopter': 27, 'Ski / Snowboard': 27, 'Exercise / Fitness': 24, 'City Building': 23, 'Demolition Derby': 23, 'Large Spaceship': 21, 'Snow / Water': 20, 'Surfing': 20, 'Hidden Object': 19, 'Marine': 16, 'Ship': 16, 'Pet': 15, 'Rugby': 13, 'On-foot': 13, 'Truck': 12, 'Submarine': 11, 'Skating': 11, 'Train': 11, 'Hunting': 10, 'Text': 9, 'Civilian Plane': 9, 'On GameFAQs': 9, 'Bowling': 9, 'Surf / Wakeboard': 9, 'Volleyball': 6, 'Futuristic Sub': 6, 'Skiing': 6, 'Wakeboarding': 5, 'Futuristic Jet': 4, 'Cricket': 4, 'Horse Racing': 4, 'Interactive Movie': 4, 'Tank': 3, '6 Online': 2, 'No Online Multiplayer': 2, 'Videos': 2, 'Drag': 2, '1 Player': 2, '1-4': 1, 'Old Jet': 1, 'WWI': 1, '1-2': 1, 'Online Multiplayer': 1}\n"
          ]
        }
      ]
    },
    {
      "cell_type": "markdown",
      "source": [
        "### Using Only 1st Category of the Genres: Single-Label Classification"
      ],
      "metadata": {
        "id": "3E4z6nFDQTk8"
      }
    },
    {
      "cell_type": "code",
      "source": [
        "primary_genre_list = []    # only first genre\n",
        "indices_to_drop = []       # empty genre indices drop\n",
        "\n",
        "for idx, genres in enumerate(df[\"Genres\"].to_list()):\n",
        "    genres_list = eval(genres)\n",
        "\n",
        "    if len(genres_list) != 0:\n",
        "        primary_genre_list.append(genres_list[0])\n",
        "    else:\n",
        "        indices_to_drop.append(idx)"
      ],
      "metadata": {
        "id": "kgPCOenHQUKm"
      },
      "execution_count": 14,
      "outputs": []
    },
    {
      "cell_type": "code",
      "source": [
        "# Total Primary Genres\n",
        "print(\"Total Primary Genres: \", len(primary_genre_list))\n",
        "print(primary_genre_list)\n",
        "\n",
        "# Total Indices to Drop\n",
        "print(\"Total Indices to Drop: \", len(indices_to_drop))"
      ],
      "metadata": {
        "colab": {
          "base_uri": "https://localhost:8080/"
        },
        "id": "o9yfI1Z-QWwX",
        "outputId": "83d9ca0b-bde5-45d5-f44e-98944881ff8c"
      },
      "execution_count": 15,
      "outputs": [
        {
          "output_type": "stream",
          "name": "stdout",
          "text": [
            "Total Primary Genres:  19894\n",
            "['Action Adventure', 'Sports', 'Action Adventure', 'Action', 'Action Adventure', 'Action Adventure', 'Sports', 'Action Adventure', 'Action', 'Action Adventure', 'Action Adventure', 'Sports', 'Action Adventure', 'Action', 'Action Adventure', 'Action Adventure', 'Sports', 'Action Adventure', 'Action', 'Action Adventure', 'Action', 'Action', 'Action Adventure', 'Action Adventure', 'Modern', 'Role-Playing', 'Modern', 'Sports', 'Action Adventure', 'Role-Playing', 'Sports', 'Action', 'Action Adventure', 'Action Adventure', 'Action', 'Action Adventure', 'Action', 'Action', 'Sports', 'Action', 'Modern', 'Fantasy', 'Action', 'Action', 'Action Adventure', 'Action Adventure', 'Action', 'Action', 'Action Adventure', 'Action', 'Role-Playing', 'Role-Playing', 'Adventure', 'Action Adventure', 'Role-Playing', 'Action', 'Role-Playing', 'Action Adventure', 'Action Adventure', 'Driving', 'Action Adventure', 'Action', 'Action Adventure', 'Miscellaneous', 'Miscellaneous', 'Role-Playing', 'Action Adventure', 'Action Adventure', 'Action', 'Action Adventure', 'Action', 'Driving', 'Action', 'Role-Playing', 'Action Adventure', 'Action Adventure', 'Modern', 'Action Adventure', 'Sports', 'Sports', 'Role-Playing', 'Action Adventure', 'Action', 'Action', 'Action', 'Modern', 'Action', 'Puzzle', 'Miscellaneous', 'Role-Playing', 'Action', 'Role-Playing', 'Action', 'Action Adventure', 'Sports', 'Action Adventure', 'Action', 'Sports', 'Action Adventure', 'Action', 'Action', 'Action', 'Action', 'Action', 'Action Adventure', 'Role-Playing', 'Action', 'Action', 'Action', 'Action Adventure', 'Role-Playing', 'Action', 'Action', 'Action', 'Action Adventure', 'Role-Playing', 'Action', 'Action', 'Action', 'Action Adventure', 'Role-Playing', 'Role-Playing', 'Action', 'Action', 'Action', 'Action Adventure', 'Adventure', 'Action Adventure', 'Action Adventure', 'Driving', 'Role-Playing', 'Role-Playing', 'Action Adventure', 'Open-World', 'Action', 'Action Adventure', 'Sports', 'Role-Playing', 'Action Adventure', 'Role-Playing', 'Strategy', 'Sports', 'Action', 'Action', 'Action RPG', 'Driving', 'Action', 'Strategy', 'Driving', 'General', 'Role-Playing', 'Action Adventure', 'Action Adventure', 'Adventure', 'Action', 'Role-Playing', 'Turn-Based', 'Sports', 'Action', 'Role-Playing', 'Action RPG', 'Action', 'Action', 'Action', 'Action', 'Action Adventure', 'Platformer', 'Strategy', 'Sports', 'Action', 'Action Adventure', 'Adventure', 'Role-Playing', 'Role-Playing', 'Role-Playing', 'Role-Playing', 'Action Adventure', 'Sports', 'Action Adventure', 'Action Adventure', 'Action', 'Strategy', 'Action Adventure', 'Role-Playing', 'Role-Playing', 'Action', 'Action Adventure', 'Action', 'Sports', 'Sports', 'Role-Playing', 'Modern', 'Role-Playing', 'Fantasy', 'Puzzle', 'Driving', 'Action', 'Action', 'Action', 'Driving', 'Sports', 'Role-Playing', 'Miscellaneous', 'Sports', 'Sports', 'Action', 'Role-Playing', 'Miscellaneous', 'Sports', 'Sports', 'Action', 'Role-Playing', 'Miscellaneous', 'Sports', 'Sports', 'Action', 'Role-Playing', 'Miscellaneous', 'Sports', 'Sports', 'Action', 'Role-Playing', 'Action Adventure', 'Action', 'Racing', 'Action Adventure', 'Role-Playing', 'Sports', 'Sports', 'Sports', 'Action', 'Action Adventure', 'Action Adventure', 'Action', 'Action', 'Fantasy', 'Action Adventure', 'Strategy', 'Sports', 'Simulation', 'Action', 'Strategy', 'Action', 'Action', 'Driving', 'Sports', 'Action', 'Racing', 'Action', 'Sports', 'Strategy', 'Role-Playing', 'Adventure', 'Action', 'Action Adventure', 'Action Adventure', 'Role-Playing', 'Role-Playing', 'Sports', 'Action RPG', 'Action', 'Sports', 'Action', 'Role-Playing', 'Sports', 'Sports', 'Strategy', 'Driving', 'Role-Playing', 'Action Adventure', 'Role-Playing', 'Action Adventure', 'Action', 'Sports', 'Action', 'Sports', 'Action Adventure', 'Strategy', 'Action', 'Strategy', 'Action', 'Role-Playing', 'Action Adventure', 'Miscellaneous', 'Action', 'Strategy', 'Driving', 'Role-Playing', 'Strategy', 'Action', 'Miscellaneous', 'Role-Playing', 'Action', 'Role-Playing', 'Action Adventure', 'Role-Playing', 'Action', 'Role-Playing', 'Action', 'Action', 'Miscellaneous', 'Action', 'Action', 'Action RPG', 'Action Adventure', 'Sports', 'Action', 'Action', 'Action RPG', 'Action Adventure', 'Sports', 'Action', 'Action', 'Action RPG', 'Action Adventure', 'Sports', 'Action', 'Action', 'Action RPG', 'Action Adventure', 'Sports', 'Action', 'Strategy', 'Action', 'Action', 'Simulation', 'Miscellaneous', 'Role-Playing', 'Role-Playing', 'Action', 'Action', 'Strategy', 'General', 'Driving', 'Sports', 'Sports', 'Role-Playing', 'Action Adventure', 'Role-Playing', 'Action RPG', 'Action', 'Action', 'Simulation', 'Sports', 'Simulation', 'Simulation', 'Action Adventure', 'Action', 'Action Adventure', 'Sports', 'Action Adventure', 'Action Adventure', 'Role-Playing', 'Driving', 'Action', 'Action Adventure', 'Action', 'Action Adventure', 'Action Adventure', 'Action Adventure', 'Racing', 'Miscellaneous', 'Action Adventure', 'Action', 'Action', 'Action Adventure', 'Racing', 'Action', 'Adventure', 'Sports', 'Action', 'Action Adventure', 'Action Adventure', 'Role-Playing', 'Action', 'Role-Playing', 'Sports', 'Action Adventure', 'Action', 'Role-Playing', 'Sports', 'Sports', 'Sports', 'Adventure', 'Sports', 'Action', 'Action Adventure', 'Action', 'Action Adventure', 'Strategy', 'Role-Playing', 'Action', 'Action Adventure', 'Driving', 'Action Adventure', 'Strategy', \"Beat-'Em-Up\", 'Action', 'Miscellaneous', 'Role-Playing', 'Action', 'Sports', 'Role-Playing', 'Role-Playing', 'Action', 'Racing', 'Action', 'Role-Playing', 'Role-Playing', 'Action', 'Racing', 'Action', 'Role-Playing', 'Role-Playing', 'Action', 'Racing', 'Action', 'Role-Playing', 'Role-Playing', 'Action', 'Racing', 'Action', 'Role-Playing', 'Sports', 'Strategy', 'Action RPG', 'Role-Playing', 'Action RPG', 'Action', 'Action Adventure', 'Action', 'Action', 'Action RPG', 'Action', 'Role-Playing', 'General', 'Driving', 'Action', 'Sports', 'Sports', 'Action', 'Action Adventure', 'Driving', 'Sports', 'Simulation', 'Simulation', 'Role-Playing', 'Role-Playing', 'Role-Playing', 'Action', 'Sports', 'Action', 'Action', 'Action RPG', 'Action', 'Action', 'Action Adventure', 'Action', 'Sports', 'Miscellaneous', 'Role-Playing', 'Action', 'Action', 'Sports', 'Action', 'Action', 'Action', 'Role-Playing', 'Driving', 'Action Adventure', 'Sports', 'Role-Playing', 'Strategy', 'Action', 'Sports', 'Action', 'Sports', 'Sports', 'Strategy', 'Role-Playing', 'Action Adventure', 'Action', 'Sports', 'Action', 'Puzzle', 'Action Adventure', 'Adventure', 'Sports', 'Sports', 'Miscellaneous', 'Sports', 'Strategy', 'Platformer', 'Sports', 'Role-Playing', 'Action', 'Simulation', 'Action Adventure', 'Role-Playing', 'Simulation', 'Role-Playing', 'Role-Playing', 'Role-Playing', 'Action', 'Sports', 'Action', 'Platformer', 'Role-Playing', 'Action', 'Sports', 'Action', 'Platformer', 'Role-Playing', 'Action', 'Sports', 'Action', 'Platformer', 'Role-Playing', 'Action', 'Sports', 'Action', 'Platformer', 'Action', 'Adventure', 'Sports', 'Sports', 'Strategy', 'Sports', 'Action', 'Action', 'Adventure', 'Simulation', 'Action Adventure', 'Action Adventure', 'Action Adventure', 'Role-Playing', 'Action', 'Action Adventure', 'Action', 'Strategy', 'Fantasy', 'Sports', 'Sports', 'Role-Playing', 'Action', 'Strategy', 'Action', 'Driving', 'Simulation', 'Adventure', 'Action', 'Strategy', 'Action', 'Role-Playing', 'Simulation', 'Action', 'Action Adventure', 'Action', 'General', 'Sports', 'Action', 'General', 'Driving', 'Adventure', 'Miscellaneous', 'Role-Playing', 'Miscellaneous', 'Action', 'Sports', 'Sports', 'Role-Playing', 'Sports', 'Driving', 'Sports', 'Sports', 'Strategy', 'Adventure', 'Action', 'Driving', 'Action Adventure', 'Action Adventure', 'Sports', 'Action Adventure', 'Strategy', 'Strategy', 'Miscellaneous', 'Action', 'Role-Playing', 'Adventure', 'Role-Playing', 'Action Adventure', 'Miscellaneous', 'Adventure', 'Action', 'Sports', 'Sports', 'Action', 'Sports', 'Role-Playing', 'Driving', 'Strategy', 'Role-Playing', 'Action', 'Fantasy', 'Action', 'Compilation', 'Sports', 'Action', 'Fantasy', 'Action', 'Compilation', 'Sports', 'Action', 'Fantasy', 'Action', 'Compilation', 'Sports', 'Action', 'Fantasy', 'Action', 'Compilation', 'Sports', 'Strategy', 'Strategy', 'Sports', 'Strategy', 'Miscellaneous', 'Driving', 'Action', 'Role-Playing', 'Strategy', 'Action', 'Action', 'Role-Playing', 'Action', 'Sports', 'Role-Playing', 'PC-style RPG', 'Role-Playing', 'Action', 'Strategy', 'Racing', 'Action Adventure', 'Role-Playing', 'Action', 'Action', 'Sports', 'Role-Playing', 'Role-Playing', 'Action', 'Action Adventure', 'Action', 'Sports', 'Sports', 'Action', 'Adventure', 'Action', 'Strategy', 'Action', 'Action', 'Action', 'Action', 'Racing', 'Role-Playing', 'Action', 'Role-Playing', 'Sports', 'Sports', 'Sports', 'Driving', 'Role-Playing', 'Action Adventure', 'Action', 'Driving', 'Driving', 'Role-Playing', 'Action', 'Role-Playing', 'Sports', 'Driving', 'Action Adventure', \"Beat-'Em-Up\", 'Action Adventure', 'Sports', 'Sports', 'Strategy', 'Sports', 'Strategy', 'Action', 'Puzzle', 'Action', 'Action Adventure', 'Action', 'Role-Playing', 'Miscellaneous', 'Role-Playing', 'Miscellaneous', 'Action', 'Sports', 'Role-Playing', 'Action', 'Simulation', 'Role-Playing', 'Action', 'Role-Playing', 'Action', 'Sports', 'Role-Playing', 'Action', 'Role-Playing', 'Action', 'Sports', 'Role-Playing', 'Action', 'Role-Playing', 'Action', 'Sports', 'Role-Playing', 'Action', 'Role-Playing', 'Action', 'Sports', 'Action', 'Driving', 'Action', 'Action Adventure', 'Action Adventure', 'Sports', 'Action Adventure', 'Role-Playing', 'Action', 'General', 'Action', 'Action', 'Action Adventure', 'Sports', 'Action Adventure', 'Strategy', 'Role-Playing', 'Strategy', 'Action Adventure', 'Action', 'Role-Playing', 'Driving', 'Sports', 'Driving', 'Action', 'Action Adventure', 'Adventure', 'Adventure', 'Action', 'Role-Playing', 'Miscellaneous', 'Action', 'Action', 'Action', 'Action', 'Miscellaneous', 'Action', 'Action', 'Action', 'Miscellaneous', 'Sports', 'Action', 'Driving', 'General', 'Adventure', 'Action', 'Strategy', 'Driving', 'Action Adventure', 'Adventure', 'Miscellaneous', 'First-Person', 'Action', 'Miscellaneous', 'Action Adventure', 'Sports', 'Action', 'Action Adventure', 'Action', 'Action Adventure', 'Action', 'Miscellaneous', 'Adventure', 'Action', 'Sports', 'Role-Playing', 'Miscellaneous', 'Action', 'Sports', 'Role-Playing', 'Role-Playing', 'Sports', 'Action', 'Action Adventure', 'Role-Playing', 'General', 'Action Adventure', 'Action Adventure', 'Adventure', 'Sports', 'Action', 'Sports', 'Simulation', 'Sports', 'Strategy', 'Action', 'Sports', 'Simulation', 'Sports', 'Strategy', 'Action', 'Sports', 'Simulation', 'Sports', 'Strategy', 'Action', 'Sports', 'Simulation', 'Sports', 'Strategy', 'Action Adventure', 'Sports', 'Driving', 'Driving', 'Action', 'Action', 'Sports', 'Action Adventure', 'Action', 'Action', 'General', 'Action', 'Action Adventure', 'Action Adventure', 'Sports', 'Puzzle', 'Action Adventure', 'Action', 'Strategy', 'Action Adventure', 'Driving', 'Action Adventure', 'Action', 'Action', 'Action', 'Driving', 'Action', 'Adventure', 'Driving', 'Action', 'Sports', 'Role-Playing', 'Action', 'Action', 'Action', 'Action', 'Horror', 'Action', 'Sports', 'Sim', 'Sports', 'Action', 'Sci-Fi', 'Action', 'Driving', 'Action', 'Sports', 'Action', 'Action Adventure', 'Action', 'Role-Playing', 'Miscellaneous', 'Adventure', 'Action Adventure', 'Sports', 'Action Adventure', 'Role-Playing', 'Sports', 'Action Adventure', 'Action', 'Strategy', 'Action', 'Action', 'Sports', 'Sports', 'Strategy', 'Sports', 'Strategy', 'Strategy', 'Action Adventure', 'Action', 'Action Adventure', 'Role-Playing', 'Action', 'Action', 'Sports', 'Action', 'Action', 'Action', 'Sports', 'Sports', 'Adventure', 'Action', 'Action', 'Action', 'Sports', 'Adventure', 'Action', 'Action', 'Action', 'Sports', 'Adventure', 'Action', 'Action', 'Action', 'Sports', 'Adventure', 'Action', 'Action', 'Action', 'Role-Playing', 'Action Adventure', 'Action', 'Sci-Fi', 'Sports', 'Sports', 'Sports', 'Sports', 'Action', 'Sports', 'Action', 'Action', 'Action', 'Strategy', 'Action Adventure', 'Strategy', 'Action', 'Strategy', 'Sports', 'Action', 'Role-Playing', 'Miscellaneous', 'Action', 'Action Adventure', 'Action', 'Role-Playing', 'Action', 'Action', 'Action', 'Action', 'Action', 'Sports', 'Sports', 'Sports', 'Action', 'Adventure', 'Action Adventure', 'Action RPG', 'Card Battle', 'Strategy', 'Action Adventure', 'Role-Playing', 'Action', 'Miscellaneous', 'Strategy', 'Action', 'Action', 'Action', 'Action Adventure', 'Action', 'Sports', 'Sports', 'Sports', 'Driving', 'Action', 'Action', 'Strategy', 'Action', 'Action', 'Miscellaneous', 'Role-Playing', 'Sports', 'Action', 'Action', 'Strategy', 'Strategy', 'Strategy', 'General', 'Sci-Fi', 'Role-Playing', 'Racing', 'Action', 'Action Adventure', 'Role-Playing', 'Sports', 'Role-Playing', 'Action Adventure', 'Strategy', 'Strategy', 'Action', 'Sports', 'Adventure', 'Driving', 'Action', 'Simulation', 'Sports', 'Adventure', 'Driving', 'Action', 'Simulation', 'Sports', 'Adventure', 'Driving', 'Action', 'Simulation', 'Sports', 'Adventure', 'Driving', 'Action', 'Simulation', 'Driving', 'Driving', 'Action', 'Role-Playing', 'Role-Playing', 'Action', 'Fantasy', 'Adventure', 'Action', 'Sports', 'Fantasy', 'Action', 'Driving', 'Action', 'Driving', 'Racing', 'Racing', 'Sports', 'Action', 'Role-Playing', 'Simulation', 'Role-Playing', 'Action', 'Adventure', 'Action Adventure', 'Miscellaneous', 'Sports', 'Role-Playing', 'Sports', 'Sports', 'Action', 'Strategy', 'Action', 'Driving', 'Action', 'Action', 'Action Adventure', 'Action Adventure', 'Strategy', 'Driving', 'Role-Playing', 'Action Adventure', 'Action', 'Fantasy', 'Shooter', 'Adventure', 'Sports', 'Role-Playing', 'Role-Playing', 'Action Adventure', 'Strategy', 'Action', 'Action', 'Action Adventure', 'Action', 'Miscellaneous', 'Sci-Fi', 'Action', 'Driving', 'Adventure', 'Strategy', 'Action', 'Action', 'Action', 'Miscellaneous', 'Strategy', 'Driving', 'Japanese-Style', 'Role-Playing', 'Adventure', 'Action Adventure', 'Role-Playing', 'Role-Playing', 'Role-Playing', 'Sci-Fi', 'Action Adventure', 'Role-Playing', 'Strategy', 'Sports', 'Driving', 'Driving', 'Racing', 'Fantasy', 'Driving', 'Miscellaneous', 'Driving', 'Racing', 'Fantasy', 'Driving', 'Miscellaneous', 'Driving', 'Racing', 'Fantasy', 'Driving', 'Miscellaneous', 'Driving', 'Racing', 'Fantasy', 'Driving', 'Miscellaneous', 'Action', 'Action', 'Action', 'Action', 'Strategy', 'Role-Playing', 'Strategy', 'Role-Playing', 'Miscellaneous', 'Action', 'Action', 'Action', 'Adventure', 'Japanese-Style', 'Miscellaneous', 'Simulation', 'Action Adventure', 'Strategy', 'Action Adventure', 'Role-Playing', 'Adventure', 'Adventure', 'Action', 'Miscellaneous', 'Action Adventure', 'Action', 'Role-Playing', 'Driving', 'Action', 'Action', 'Role-Playing', 'Action', 'Action', 'Action Adventure', 'Role-Playing', 'Action', 'Action', 'Action Adventure', 'Strategy', 'Sports', 'Action Adventure', 'Action Adventure', 'Miscellaneous', 'General', 'Action', 'Action', 'Strategy', 'Driving', 'Strategy', 'Sports', 'Action Adventure', 'Action', 'Action Adventure', 'Action Adventure', 'Role-Playing', 'Action', 'Action', 'Action Adventure', 'Role-Playing', 'Action', 'Action', 'Role-Playing', 'Action Adventure', 'Action', 'Driving', 'Action', 'Action', 'Action', 'Action', 'Action', 'Sports', 'Action Adventure', 'Driving', 'Sports', 'Action', 'Role-Playing', 'Driving', 'Action', 'Action Adventure', 'Action', 'Sports', 'Action', 'Action', 'Simulation', 'Sports', 'Sports', 'Action', 'Action', 'Simulation', 'Sports', 'Sports', 'Action', 'Action', 'Simulation', 'Sports', 'Sports', 'Action', 'Action', 'Simulation', 'Sports', 'Strategy', 'Action Adventure', 'Sports', 'Miscellaneous', 'Action', 'Action', 'Sports', 'Strategy', 'Miscellaneous', 'Strategy', 'Action Adventure', 'Action', 'Driving', 'Action', 'Strategy', 'Role-Playing', 'Action', 'Sports', 'Role-Playing', 'Action Adventure', 'Action RPG', 'Action', 'Strategy', 'Sports', 'Sports', 'Action', 'Action', 'Miscellaneous', 'Driving', 'Action Adventure', 'Sports', 'Strategy', 'Action', 'Driving', 'Sports', 'Action', 'Sports', 'Role-Playing', 'Role-Playing', 'Action Adventure', 'Miscellaneous', 'Action', 'Action', 'Action', 'Action', 'Role-Playing', 'Action', 'Driving', 'Puzzle', 'Action', 'Action RPG', 'Adventure', 'Action Adventure', 'Strategy', 'Driving', 'Action Adventure', 'Action Adventure', 'Action', 'Action', 'Action Adventure', 'Action', 'Driving', 'Action', 'Action', 'Action', 'Racing', 'Sports', 'Miscellaneous', 'Action', 'Role-Playing', 'Action', 'Role-Playing', 'Action', 'Adventure', 'Role-Playing', 'Racing', 'Action', 'Action', 'Role-Playing', 'Action', 'Strategy', 'Sports', 'Sports', 'Strategy', 'Driving', 'Strategy', 'Sports', 'Sports', 'Strategy', 'Driving', 'Driving', 'Strategy', 'Sports', 'Sports', 'Strategy', 'Driving', 'Strategy', 'Sports', 'Sports', 'Strategy', 'Driving', 'Role-Playing', 'Action', 'Sports', 'Role-Playing', 'Action', 'Adventure', 'Miscellaneous', 'Racing', 'Miscellaneous', 'Role-Playing', 'Action', 'Action Adventure', 'Action', 'Strategy', 'Role-Playing', 'Driving', 'Role-Playing', 'Action Adventure', 'Action', 'Role-Playing', 'Action', 'General', 'Sports', 'Action', 'Action', 'Sports', 'Driving', 'Action', 'Action', 'Action', 'Strategy', 'Action Adventure', 'Action Adventure', 'Role-Playing', 'Strategy', 'Racing', 'Adventure', 'Action', 'Action', 'Action', 'Role-Playing', 'Action', 'Adventure', 'Sci-Fi', 'Strategy', 'Adventure', 'Action', 'Adventure', 'Miscellaneous', 'Action', 'Miscellaneous', 'Role-Playing', 'Sports', 'Miscellaneous', 'Strategy', 'Racing', 'Adventure', 'Strategy', 'Strategy', 'Sports', 'Simulation', 'Action Adventure', 'Role-Playing', 'Action', 'Action', 'Driving', 'Massively Multiplayer Online', 'Sports', 'Sports', 'Sports', 'Adventure', 'Racing', 'Role-Playing', 'Strategy', 'Action', 'Action', 'Action', 'Racing', 'Action', 'Action', 'Role-Playing', 'Miscellaneous', 'Adventure', 'Role-Playing', 'Action Adventure', 'Role-Playing', 'Miscellaneous', 'Adventure', 'Role-Playing', 'Action Adventure', 'Role-Playing', 'Miscellaneous', 'Adventure', 'Role-Playing', 'Action Adventure', 'Role-Playing', 'Miscellaneous', 'Adventure', 'Role-Playing', 'Action Adventure', 'Sim', 'Puzzle', 'Strategy', 'Role-Playing', 'Sports', 'Racing', 'Role-Playing', 'Action', 'Action', 'Action', 'Action Adventure', 'Action Adventure', 'Driving', 'Action Adventure', 'Fantasy', 'Role-Playing', 'Role-Playing', 'Action Adventure', 'Miscellaneous', 'Action', 'Role-Playing', 'Role-Playing', 'Simulation', 'Driving', 'Strategy', 'Role-Playing', 'Driving', 'Strategy', 'Role-Playing', 'Sports', 'Action', 'Strategy', 'Role-Playing', 'Action', 'Role-Playing', 'Action', 'Simulation', 'Action', 'Role-Playing', 'Action', 'Action', 'Adventure', 'Shooter', 'Action Adventure', 'Puzzle', 'Action Adventure', 'Horror', 'Action', 'Shooter', 'Action', 'Action', 'Sports', 'Sports', 'Role-Playing', 'Role-Playing', 'Action Adventure', 'Action', 'Action Adventure', 'Role-Playing', 'Action', 'Action', 'Action', 'Action', 'Action Adventure', 'Action Adventure', 'Driving', 'Strategy', 'Adventure', 'Role-Playing', 'Sports', 'Sports', 'Role-Playing', 'Action', 'Strategy', 'Action Adventure', 'Adventure', 'Miscellaneous', 'Role-Playing', 'Action', 'Action', 'Action', 'Action Adventure', 'Action', 'Sports', 'Sports', 'Action', 'Action Adventure', 'Action', 'Sports', 'Sports', 'Action', 'Action Adventure', 'Action', 'Sports', 'Sports', 'Action', 'Action Adventure', 'Action', 'Sports', 'Sports', 'Action', 'Role-Playing', 'Adventure', 'Adventure', 'Action', 'Action', 'Miscellaneous', 'Action', 'Role-Playing', 'Strategy', 'Miscellaneous', 'Action', 'Simulation', 'Action Adventure', 'Miscellaneous', 'Role-Playing', 'Action', 'Role-Playing', 'Action', 'Action Adventure', 'Action', 'Driving', 'Action', 'Action', 'Action', 'Action', 'Miscellaneous', 'Action Adventure', 'Action', 'Role-Playing', 'Sports', 'Action', 'Strategy', 'Action', 'Simulation', 'Action', 'Sports', 'Racing', 'Miscellaneous', 'Role-Playing', 'Driving', 'Fantasy', 'Action Adventure', 'Action', 'Action Adventure', 'Driving', 'Role-Playing', 'Sports', 'Sports', 'Driving', 'Action', 'Driving', 'Driving', 'Action', 'Strategy', 'Driving', 'Sports', 'Role-Playing', 'Adventure', 'Action', 'Role-Playing', 'Action Adventure', 'Strategy', 'Action', 'Puzzle', 'Modern', 'Strategy', 'Role-Playing', 'Sports', 'Role-Playing', 'Action', 'Action', 'Strategy', 'Action', 'Sports', 'Role-Playing', 'Action Adventure', 'Sports', 'Fantasy', 'Action', 'Strategy', 'Strategy', 'Adventure', 'Action', 'Sci-Fi', 'Strategy', 'Strategy', 'Adventure', 'Action', 'Sci-Fi', 'Strategy', 'Strategy', 'Adventure', 'Action', 'Sci-Fi', 'Strategy', 'Strategy', 'Adventure', 'Action', 'Sci-Fi', 'Adventure', 'Simulation', 'Sci-Fi', 'Action', 'Role-Playing', 'Action', 'Action', 'Massively Multiplayer Online', 'Action', 'Action Adventure', 'Dancing', 'Action', 'Fantasy', 'Action', 'Action Adventure', 'Action', 'Action', 'Action', 'Action', 'Action Adventure', 'Action', 'Role-Playing', 'Role-Playing', 'Driving', 'Role-Playing', 'Action Adventure', 'Role-Playing', 'Action', 'Action', 'Racing', 'Adventure', 'Action', 'Strategy', 'Action', 'Action RPG', 'Action', 'Action', 'Action', 'Sports', 'Action', 'Action Adventure', 'Racing', 'Adventure', 'Action', 'Sports', 'Action', 'Strategy', 'Action', 'Sports', 'Miscellaneous', 'Action', 'Action', 'Action', 'Adventure', 'Role-Playing', 'Action Adventure', 'Action RPG', 'Sports', 'Role-Playing', 'Strategy', 'Racing', 'Action', 'Sports', 'Action Adventure', 'Racing', 'Strategy', 'Role-Playing', 'Action', 'Role-Playing', 'Action', 'Miscellaneous', 'Sports', 'Simulation', 'Action', 'Role-Playing', 'Role-Playing', 'Action', 'Action', 'Action', 'Action', 'Action Adventure', 'Driving', 'Sports', 'General', 'Role-Playing', 'Action Adventure', 'Driving', 'Sports', 'General', 'Role-Playing', 'Action Adventure', 'Driving', 'Sports', 'General', 'Role-Playing', 'Action Adventure', 'Driving', 'Sports', 'General', 'Role-Playing', 'Action', 'Action Adventure', 'Action', 'Action', 'Action Adventure', 'Action', 'Strategy', 'Sports', 'Sports', 'Action Adventure', 'Simulation', 'Action', 'Action', 'Role-Playing', 'General', 'Sports', 'Role-Playing', 'Sports', 'Action', 'Sports', 'Action Adventure', 'Action', 'Strategy', 'Role-Playing', 'Adventure', 'Action', 'PC-style RPG', 'Adventure', 'Strategy', 'Open-World', 'Action Adventure', 'Sports', 'Action', 'Role-Playing', 'Role-Playing', 'Adventure', 'Action', 'Action', 'Action', 'Action', 'Role-Playing', 'Action RPG', 'Action', 'Role-Playing', 'Action', 'Action', 'Action', 'Action', 'Driving', 'Sports', 'Driving', 'Role-Playing', 'Driving', 'Role-Playing', 'Street', 'Action Adventure', 'Role-Playing', 'Console-style RPG', 'Action', 'Sci-Fi', 'Strategy', 'Action', 'Strategy', 'Action', 'Adventure', 'Sports', 'Action', 'Action', 'Action Adventure', 'Action', 'Action Adventure', 'Role-Playing', 'Action Adventure', 'Strategy', 'Strategy', 'Sports', 'General', 'Action Adventure', 'Action', 'Action', 'Action', 'Strategy', 'Action', 'Driving', 'Racing', 'Action', 'Strategy', 'Action', 'Driving', 'Racing', 'Action', 'Strategy', 'Action', 'Driving', 'Racing', 'Action', 'Strategy', 'Action', 'Driving', 'Racing', 'Action', 'Driving', 'Driving', 'Action', 'Action', 'Role-Playing', 'Action', 'Role-Playing', 'Action Adventure', 'Action', 'Action', 'Action Adventure', 'Action', 'Action Adventure', 'Driving', 'Role-Playing', 'Driving', 'Action', 'Fantasy', 'Miscellaneous', 'Driving', 'Role-Playing', 'Role-Playing', 'Action', 'Action Adventure', 'Sports', 'Action', 'Sports', 'Action', 'Sports', 'Sports', 'Sports', 'Role-Playing', 'Action', 'Adventure', 'Action', 'Action Adventure', 'Strategy', 'General', 'Role-Playing', 'Action', 'Sports', 'Role-Playing', 'Strategy', 'Fighting', 'Strategy', 'Action', 'Sports', 'Strategy', 'Action', 'Strategy', 'Action Adventure', 'Role-Playing', 'Action', 'Sports', 'Action', 'Platformer', 'Role-Playing', 'Action', 'Action Adventure', 'Miscellaneous', 'Miscellaneous', 'Action', 'Sports', 'Action', 'Sports', 'Sports', 'Strategy', 'Sports', 'Adventure', 'Action Adventure', 'Adventure', 'Action', 'Driving', 'Role-Playing', 'Adventure', 'Role-Playing', 'Strategy', 'Role-Playing', 'Racing', 'Action', 'Miscellaneous', 'Simulation', 'Sports', 'Simulation', 'Action', 'Miscellaneous', 'Simulation', 'Sports', 'Simulation', 'Action', 'Miscellaneous', 'Simulation', 'Sports', 'Simulation', 'Action', 'Miscellaneous', 'Simulation', 'Sports', 'Simulation', 'Action', 'Miscellaneous', 'Role-Playing', 'Miscellaneous', 'Action', 'Adventure', 'Racing', 'Miscellaneous', 'Action Adventure', 'Action', 'Action Adventure', 'Sports', 'Action', 'Action', 'Role-Playing', 'Sports', 'Action Adventure', 'Action', 'Action Adventure', 'Action', 'Driving', 'Action Adventure', 'Action', 'Adventure', 'Sports', 'Sports', 'Role-Playing', 'Adventure', 'Action Adventure', 'General', 'Action', 'Modern', 'Action', 'Strategy', 'Strategy', 'Role-Playing', 'Action Adventure', 'Action', 'Traditional', 'Driving', 'Miscellaneous', 'Driving', 'Sports', 'Driving', 'Role-Playing', 'Miscellaneous', 'Sports', 'Sports', 'Action', 'Role-Playing', 'Action', 'Role-Playing', 'Action Adventure', 'Role-Playing', 'Action', 'Action', 'Action Adventure', 'Action Adventure', 'Role-Playing', 'Action', 'Role-Playing', 'Miscellaneous', 'Action', 'General', 'Action Adventure', 'Action', 'Action Adventure', 'Adventure', 'Action', 'Sports', 'Action Adventure', 'Strategy', 'Action Adventure', 'Action Adventure', 'Role-Playing', 'Action', 'Miscellaneous', 'Driving', 'Sports', 'Sports', 'Action', 'Action Adventure', 'Action', 'Action', 'Action', 'Action', 'Action Adventure', 'Action', 'Action', 'Action', 'Action', 'Action Adventure', 'Action', 'Action', 'Action', 'Action', 'Action Adventure', 'Action', 'Action', 'Action', 'Role-Playing', 'Action', 'Action', 'Action', 'Strategy', 'Adventure', 'Action', 'Role-Playing', 'Action', 'Action', 'Miscellaneous', 'Role-Playing', 'Action', 'Role-Playing', 'Driving', 'Action', 'Simulation', 'Action Adventure', 'Action', 'Action', 'Action Adventure', 'Action', 'Action', 'Puzzle', 'Action', 'Driving', 'Action Adventure', 'Action Adventure', 'Action', 'Strategy', 'Sports', 'Action', 'Miscellaneous', 'Action', 'Strategy', 'Action Adventure', 'Action', 'Action Adventure', 'Action', 'Racing', 'Modern', 'Role-Playing', 'Strategy', 'Action', 'Sports', 'Strategy', 'Role-Playing', 'Action', 'Role-Playing', 'Sports', 'Sports', 'Action Adventure', 'Action Adventure', 'Action', 'Action Adventure', 'Strategy', 'Miscellaneous', 'Adventure', 'Sci-Fi', 'Racing', 'Action', 'Sports', 'Role-Playing', 'Sci-Fi', 'Sports', 'Action', 'Action', 'Action', 'Strategy', 'Action Adventure', 'Action', 'Adventure', 'Action', 'Sports', 'Sports', 'Role-Playing', 'Role-Playing', 'Driving', 'Sports', 'Sports', 'Role-Playing', 'Adventure', 'Action', 'Strategy', 'Racing', 'Role-Playing', 'Adventure', 'Action', 'Strategy', 'Racing', 'Role-Playing', 'Adventure', 'Action', 'Strategy', 'Racing', 'Role-Playing', 'Adventure', 'Action', 'Strategy', 'Racing', 'Racing', 'Action Adventure', 'Adventure', 'Miscellaneous', 'Strategy', 'Miscellaneous', 'Sports', 'Action Adventure', 'Strategy', 'Action', 'Action', 'Sports', 'Miscellaneous', 'Sports', 'Action Adventure', 'Strategy', 'Action', 'Action Adventure', 'Role-Playing', 'Action', 'Sports', 'Strategy', 'Strategy', 'Action', 'Action', 'Action', 'Fantasy', 'Fantasy', 'Miscellaneous', 'Simulation', 'Action', 'Role-Playing', 'Action', 'Action', 'Strategy', 'Role-Playing', 'Action Adventure', 'Role-Playing', 'Role-Playing', 'Miscellaneous', 'Simulation', 'Adventure', 'Action', 'Role-Playing', 'Action', 'Role-Playing', 'Strategy', 'Role-Playing', 'Strategy', 'Action', 'Action', 'Action', 'Action', 'Role-Playing', 'Action', 'Sports', 'Racing', 'Action Adventure', 'Driving', 'Sports', 'Action', 'Sports', 'Strategy', 'Adventure', 'Action', 'Driving', 'Driving', 'Action', 'Action', 'Adventure', 'General', 'Action', 'Action', 'Miscellaneous', 'Driving', 'Sports', 'Sports', 'Action Adventure', 'Miscellaneous', 'Action', 'Action', 'Puzzle', 'Adventure', 'Action Adventure', 'Action Adventure', 'Action', 'Puzzle', 'Adventure', 'Action Adventure', 'Action Adventure', 'Action', 'Puzzle', 'Adventure', 'Action Adventure', 'Action Adventure', 'Action', 'Puzzle', 'Adventure', 'Action Adventure', 'Action Adventure', 'Action', 'Action Adventure', 'Strategy', 'Sports', 'Strategy', 'Strategy', 'Action Adventure', 'Action', 'Miscellaneous', 'Action', 'Role-Playing', 'Sci-Fi', 'Role-Playing', 'Shooter', 'Driving', 'Strategy', 'Racing', 'Action', 'Sports', 'Driving', 'Sports', 'Adventure', 'Action Adventure', 'Sports', 'Role-Playing', 'Puzzle', 'Action', 'Action', 'Action', 'Action Adventure', 'Action', 'Role-Playing', 'Action', 'Racing', 'Puzzle', 'Action', 'Action Adventure', 'Role-Playing', 'Role-Playing', 'Sports', 'Role-Playing', 'Strategy', 'Miscellaneous', 'Action', 'Racing', 'Action', 'Open-World', 'Strategy', 'Adventure', 'Strategy', 'Strategy', 'Strategy', 'Sports', 'Driving', 'Role-Playing', 'Driving', 'Action Adventure', 'Driving', 'Driving', 'Adventure', 'Action', 'Strategy', 'Action', 'Adventure', 'Action', 'Action', 'Adventure', 'Miscellaneous', 'Role-Playing', 'Action', 'Role-Playing', 'Role-Playing', 'Adventure', 'Strategy', 'Adventure', 'Action Adventure', 'Action Adventure', 'Driving', 'Action', 'General', 'Action Adventure', 'Strategy', 'Strategy', 'Action', 'Role-Playing', 'Action Adventure', 'Strategy', 'Strategy', 'Action', 'Role-Playing', 'Action Adventure', 'Strategy', 'Strategy', 'Action', 'Role-Playing', 'Action Adventure', 'Strategy', 'Strategy', 'Action', 'Role-Playing', 'Sports', 'Action', 'Strategy', 'Action Adventure', 'Sports', 'Strategy', 'Sports', 'Action Adventure', 'Sports', 'Action', 'Action', 'Action', 'Action', 'Action', 'Miscellaneous', 'Action', 'Driving', 'Role-Playing', 'Action', 'Action', 'Simulation', 'Strategy', 'Action Adventure', 'Action Adventure', 'Action', 'Role-Playing', '2D', 'Sports', 'Role-Playing', 'Strategy', 'Sports', 'Action Adventure', 'Action', 'Action', 'Action', 'Miscellaneous', 'Action', 'Sports', 'Strategy', 'Strategy', 'Sports', 'Driving', 'Action', 'Action', 'Simulation', 'Driving', 'Driving', 'Action', 'Strategy', 'Action Adventure', 'Driving', 'Strategy', 'Action', 'Action Adventure', 'Action', 'Adventure', 'Puzzle', 'Action', 'Adventure', 'Role-Playing', 'Role-Playing', 'Action', 'Action', 'Role-Playing', 'Action', 'Role-Playing', 'Role-Playing', 'Action Adventure', 'Action', 'Action', 'Strategy', 'General', 'Sports', 'Driving', 'Miscellaneous', 'Simulation', 'Sports', 'Role-Playing', 'Role-Playing', 'Sports', 'Driving', 'Action Adventure', 'Driving', 'Adventure', 'Action', 'Driving', 'Action Adventure', 'Driving', 'Adventure', 'Action', 'Driving', 'Action Adventure', 'Driving', 'Adventure', 'Action', 'Driving', 'Action Adventure', 'Driving', 'Adventure', 'Action', 'Action', 'Action', 'Sports', 'Role-Playing', 'Miscellaneous', 'Role-Playing', 'Action', 'Action Adventure', 'Action Adventure', 'Role-Playing', 'Action Adventure', 'Simulation', 'General', 'Role-Playing', 'Action', 'Action Adventure', 'Action Adventure', 'Action', 'Adventure', 'Role-Playing', 'Role-Playing', 'Action', 'Sports', 'Adventure', 'Strategy', 'Adventure', 'Action Adventure', 'Action', 'Action', 'Action', 'Adventure', 'Strategy', 'Racing', 'Action', 'Action Adventure', 'Action Adventure', 'Action Adventure', 'Action', 'Role-Playing', 'Action', 'Strategy', 'Sports', 'Miscellaneous', 'Action', 'General', 'Action', 'Action Adventure', 'Role-Playing', 'Strategy', 'Action', 'Role-Playing', 'Strategy', 'Platformer', 'Action', 'Puzzle', 'Sports', 'Action Adventure', 'Action', 'Action', 'Action', 'Action', 'Role-Playing', 'Ice Hockey', 'Action', 'Sports', 'Action', 'Fighting', 'Sports', 'Action', 'Action Adventure', 'Action', 'Action', 'Action', 'Strategy', 'Role-Playing', 'Adventure', 'Adventure', 'Action Adventure', 'Racing', 'Role-Playing', 'Action Adventure', 'Strategy', 'Action', 'Sports', 'Action', 'Action Adventure', 'Strategy', 'Action', 'Sports', 'Action', 'Action Adventure', 'Strategy', 'Action', 'Sports', 'Action', 'Action Adventure', 'Strategy', 'Action', 'Sports', 'Action', 'Driving', 'Strategy', 'Adventure', 'Simulation', 'Strategy', 'Action Adventure', 'Action Adventure', 'Miscellaneous', 'Sports', 'Strategy', 'Action Adventure', 'Action', 'Sports', 'Action', 'Sports', 'Action', 'Driving', 'Miscellaneous', 'Action', 'Action', 'Action', 'Sports', 'Role-Playing', 'Action', 'Strategy', 'Puzzle', 'Action', 'Japanese-Style', 'Action', 'Driving', 'Miscellaneous', 'Action', 'Action Adventure', 'Role-Playing', 'Role-Playing', 'Action', 'Role-Playing', 'Puzzle', 'Miscellaneous', 'Strategy', 'Platformer', 'Sports', 'Action', 'Action', 'Action', 'Action', 'Action', 'Miscellaneous', 'Action Adventure', 'Driving', 'Action Adventure', 'Miscellaneous', 'Action Adventure', 'General', 'Action Adventure', 'Action', 'Miscellaneous', 'Role-Playing', 'Action', 'Action RPG', 'Simulation', 'Role-Playing', 'Simulation', 'Miscellaneous', 'Puzzle', 'Action', 'Action', 'Fantasy', 'Adventure', 'Strategy', 'Sports', 'Action RPG', 'Action', 'Adventure', 'Action', 'Adventure', 'Role-Playing', 'Action', 'Adventure', 'Sports', 'Action Adventure', 'Action', 'Adventure', 'Sports', 'Action Adventure', 'Action', 'Adventure', 'Sports', 'Action Adventure', 'Action', 'Action', 'Adventure', 'Sports', 'Action Adventure', 'Action', 'Action Adventure', 'Puzzle', 'Sports', 'Strategy', 'Miscellaneous', 'Role-Playing', 'Action Adventure', 'Action', 'Action Adventure', 'Action', 'Role-Playing', 'Action', 'Action', 'Adventure', 'Action', 'Fighting', 'Sports', 'Action Adventure', 'Adventure', 'Role-Playing', 'Strategy', 'Role-Playing', 'Action', 'Action', 'Strategy', 'Action', 'Miscellaneous', 'Sports', 'Miscellaneous', 'Action', '2D', 'Action', 'Role-Playing', 'Role-Playing', 'Role-Playing', 'Adventure', 'Action', 'Sports', 'Role-Playing', 'Action', 'Action Adventure', 'Action', 'Miscellaneous', 'Action Adventure', 'Strategy', 'Driving', 'Sports', 'Strategy', 'Strategy', 'Sports', 'Role-Playing', 'Strategy', 'Action Adventure', 'Role-Playing', 'Action', 'Action', 'Adventure', 'Driving', 'Racing', 'Racing', 'Strategy', 'Sports', 'Action Adventure', 'Adventure', 'Action', 'Action', 'Sports', 'Role-Playing', 'Driving', 'Action Adventure', 'Strategy', 'Action RPG', 'Action Adventure', 'Adventure', 'Action Adventure', 'Role-Playing', 'Action Adventure', 'Action', 'Role-Playing', 'Action Adventure', 'Sports', 'Sports', 'Horror', 'Action', 'Action', 'Sports', 'Sports', 'Horror', 'Action', 'Action', 'Sports', 'Sports', 'Horror', 'Action', 'Action', 'Sports', 'Sports', 'Horror', 'Action', 'Action', 'Adventure', 'Action', 'Puzzle', 'Action', 'Role-Playing', 'Sports', 'Action Adventure', 'Action', 'Action', 'Strategy', 'Role-Playing', 'General', 'Role-Playing', 'Action', 'Action Adventure', 'Role-Playing', 'Action', 'Action Adventure', 'Sports', 'Driving', 'Driving', 'Action', 'Action Adventure', 'Driving', 'Action', 'Strategy', 'Horror', 'Action', 'Arcade', 'Driving', 'Sports', 'Action', 'Strategy', 'Miscellaneous', 'Role-Playing', 'Action', 'Role-Playing', 'Sports', 'Racing', 'Adventure', 'Action', 'Action', 'Action', 'Action', 'Sports', 'Driving', 'Action', 'Strategy', 'Adventure', 'Role-Playing', 'Racing', 'Action', 'Miscellaneous', 'Action', 'Driving', 'Action', 'Sports', 'Sports', 'Role-Playing', 'Strategy', 'Role-Playing', 'Miscellaneous', 'Action Adventure', 'Role-Playing', 'Action', 'Miscellaneous', 'Action Adventure', 'Action', 'General', 'Role-Playing', 'Action', 'Action Adventure', 'Action', 'Adventure', 'Role-Playing', 'Action Adventure', 'Action', 'Action', 'Role-Playing', 'Sports', 'Role-Playing', 'Action', 'Action Adventure', 'Action', 'Action', 'Role-Playing', 'Action', 'Action Adventure', 'Action', 'Action', 'Role-Playing', 'Action', 'Action Adventure', 'Action', 'Action', 'Role-Playing', 'Action', 'Action Adventure', 'Action', 'Action', 'Strategy', 'Adventure', 'Action', 'Action Adventure', 'Sports', 'Sports', 'Role-Playing', 'Action Adventure', 'Miscellaneous', 'Miscellaneous', 'Action', 'Role-Playing', 'Driving', 'Action', 'Driving', 'Simulation', 'Action', 'Action', 'Action', 'General', 'Puzzle', 'Action', 'Modern', 'Miscellaneous', 'Action', 'Sports', 'Miscellaneous', 'Puzzle', 'Miscellaneous', 'Miscellaneous', 'Action', 'Puzzle', 'Role-Playing', 'Action', 'Action', 'Adventure', 'Action Adventure', 'Action', 'Sports', 'Action Adventure', 'Adventure', 'Role-Playing', 'Action', 'Adventure', 'Role-Playing', 'Simulation', 'Role-Playing', 'Action', 'Action Adventure', 'Sports', 'Action Adventure', 'Miscellaneous', 'Shooter', 'Miscellaneous', 'Action Adventure', 'Sports', 'Sports', 'Adventure', 'Adventure', 'Action Adventure', 'Racing', 'Action', 'Role-Playing', 'Action', 'Action Adventure', 'Action Adventure', 'Role-Playing', 'Action Adventure', 'Adventure', 'Role-Playing', 'Action', 'Role-Playing', 'Role-Playing', 'Action Adventure', 'Simulation', 'Action', 'Action Adventure', 'Modern', 'Driving', 'Role-Playing', 'Action', 'Driving', 'Sports', 'Action', 'Role-Playing', 'Action', 'Driving', 'Sports', 'Action', 'Role-Playing', 'Action', 'Driving', 'Sports', 'Action', 'Role-Playing', 'Action', 'Driving', 'Sports', 'Action', 'Role-Playing', 'Sports', 'Action', 'Action', 'Action', 'Miscellaneous', 'Action', 'Action', 'Sports', 'Simulation', 'Driving', 'Sports', 'Simulation', 'Miscellaneous', 'Sports', 'Action', 'Miscellaneous', 'Action', 'Simulation', 'Role-Playing', 'Driving', 'Role-Playing', 'Racing', 'Sports', 'Driving', 'Adventure', 'Action', 'Strategy', 'Action Adventure', 'Action', 'Role-Playing', 'Sports', 'Miscellaneous', 'Sports', 'Action', 'Role-Playing', 'Role-Playing', 'Action Adventure', 'Action', 'Action', 'Adventure', 'Adventure', 'Action', 'Modern', 'Strategy', 'Role-Playing', 'Action Adventure', 'Action Adventure', 'Action Adventure', 'Action', 'Miscellaneous', 'Action', 'Miscellaneous', 'Strategy', 'Role-Playing', 'Role-Playing', 'Role-Playing', 'Role-Playing', 'Strategy', 'Role-Playing', 'Action Adventure', 'Action', 'Action', 'Simulation', 'Role-Playing', 'Adventure', 'Action Adventure', 'Miscellaneous', 'Action', 'Strategy', 'Role-Playing', 'Driving', 'Action', 'Miscellaneous', 'Sports', 'Driving', 'Driving', 'Puzzle', 'Action Adventure', 'Action', 'Adventure', 'Action', 'Strategy', 'Action', 'Strategy', 'Action', 'Action', 'Strategy', 'Action', 'Strategy', 'Action', 'Action', 'Strategy', 'Action', 'Strategy', 'Action', 'Action', 'Strategy', 'Action', 'Strategy', 'Action', 'Driving', 'Role-Playing', 'Action', 'Action Adventure', 'Action', 'Action Adventure', 'Action', 'Role-Playing', 'Strategy', 'Action', 'Platformer', 'Strategy', 'Role-Playing', 'Action', 'Action', 'Action Adventure', 'Action', 'Action', 'Sports', 'Action', 'Driving', 'Simulation', 'Adventure', 'Strategy', 'Simulation', 'Adventure', 'Miscellaneous', 'Strategy', 'Sports', 'Strategy', 'Historic', 'Simulation', 'General', 'Role-Playing', 'Adventure', 'Action', 'Action', 'Action', 'Role-Playing', 'Strategy', 'Sports', 'Action', 'Strategy', 'Driving', 'Action Adventure', 'Action Adventure', 'Modern', 'Action', 'Action', 'Action Adventure', 'Action Adventure', 'Sports', 'Miscellaneous', 'Puzzle', 'Action', 'Action', 'Action', 'Action', 'Sports', 'Miscellaneous', 'Strategy', 'Action', 'Action Adventure', 'Strategy', 'Action Adventure', 'Role-Playing', 'Action Adventure', 'Platformer', 'Role-Playing', 'Action Adventure', 'Adventure', 'Strategy', 'Action Adventure', 'Adventure', 'Strategy', 'Role-Playing', 'Adventure', 'Action', 'Simulation', 'Racing', 'Miscellaneous', 'Driving', 'Strategy', 'Action Adventure', 'Role-Playing', 'Miscellaneous', 'Driving', 'Strategy', 'Action Adventure', 'Role-Playing', 'Miscellaneous', 'Driving', 'Strategy', 'Action Adventure', 'Role-Playing', 'Miscellaneous', 'Driving', 'Strategy', 'Action Adventure', 'Role-Playing', 'Strategy', 'Miscellaneous', 'Miscellaneous', 'Action', 'Action', 'Action Adventure', 'Action', 'Action', 'Role-Playing', 'Action Adventure', 'Action', 'Miscellaneous', 'Action', 'Adventure', 'Role-Playing', 'Adventure', 'Action Adventure', 'Sports', 'Action', 'Action', 'Action', 'Action', 'Miscellaneous', 'Role-Playing', 'Action', 'Strategy', 'Action Adventure', 'Miscellaneous', 'Role-Playing', 'Driving', 'Action', 'Sports', 'Driving', 'Strategy', 'Driving', 'Driving', 'Driving', 'Role-Playing', 'Action', 'General', 'Miscellaneous', 'Action', 'Racing', 'Role-Playing', 'Strategy', 'Strategy', 'Action', 'Action Adventure', 'Sports', 'Survival', 'Action', 'Action Adventure', 'Action', 'Action Adventure', 'Adventure', 'Sports', 'Action', 'Adventure', 'Role-Playing', 'Action', 'Role-Playing', 'Racing', 'Strategy', 'Action', 'Action', 'Action Adventure', 'Action Adventure', 'Adventure', 'Fantasy', 'Sports', 'Action', 'Sports', 'Racing', 'Sports', 'Action Adventure', 'Action Adventure', 'Sports', 'Action Adventure', 'Action Adventure', 'Miscellaneous', 'Role-Playing', 'Simulation', 'Action Adventure', 'Miscellaneous', 'Action Adventure', 'Role-Playing', 'Simulation', 'Action Adventure', 'Miscellaneous', 'Action Adventure', 'Role-Playing', 'Simulation', 'Action Adventure', 'Miscellaneous', 'Action Adventure', 'Role-Playing', 'Simulation', 'Action Adventure', 'Miscellaneous', 'Action Adventure', 'First-Person', 'Driving', 'General', 'Sports', 'Strategy', 'Sports', 'General', 'Action', 'Action', 'Action', 'Action', 'Racing', 'Action', 'Action', 'Action', 'Sports', 'Adventure', 'Action', 'Action', 'Action', 'Miscellaneous', 'Miscellaneous', 'Driving', 'Action', 'Action Adventure', 'Simulation', 'Role-Playing', 'Racing', 'Simulation', 'Adventure', 'Action', 'Sports', 'Action', 'Strategy', 'Action', 'Role-Playing', 'Sports', 'Action Adventure', 'Role-Playing', 'Platformer', 'Miscellaneous', 'Simulation', 'Driving', 'Action', 'Action', 'Miscellaneous', 'Action', 'Action Adventure', 'Action Adventure', 'Role-Playing', 'Miscellaneous', 'Action', 'First-Person', 'Miscellaneous', 'Action Adventure', 'Action', 'Role-Playing', 'Strategy', 'Platformer', 'Adventure', 'Adventure', 'Strategy', 'Action', 'Action', 'Action', 'Driving', 'Miscellaneous', 'Adventure', 'Driving', 'Role-Playing', 'Strategy', 'Sports', 'Role-Playing', 'Action', 'Strategy', 'Action', 'Role-Playing', 'Role-Playing', 'Role-Playing', 'Strategy', 'Role-Playing', 'Adventure', 'Role-Playing', 'Strategy', 'Role-Playing', 'Role-Playing', 'Adventure', 'Role-Playing', 'Strategy', 'Role-Playing', 'Role-Playing', 'Role-Playing', 'Adventure', 'Role-Playing', 'Strategy', 'Role-Playing', 'Role-Playing', 'Adventure', 'Role-Playing', 'Strategy', 'Role-Playing', 'Action Adventure', 'Action', 'General', 'General', 'Driving', 'Action Adventure', 'Adventure', 'Adventure', 'Miscellaneous', 'Driving', 'Sports', 'Role-Playing', 'Driving', 'Strategy', 'Adventure', 'Strategy', 'Driving', 'Action', 'Action', 'Action', 'Strategy', 'Strategy', 'Action Adventure', 'Action', 'Sports', 'Action', 'General', 'Role-Playing', 'Action', 'Action Adventure', 'Adventure', 'Action Adventure', 'Role-Playing', 'Strategy', 'Miscellaneous', 'Action Adventure', 'Driving', 'Action', 'Miscellaneous', 'Driving', 'Adventure', 'Adventure', 'Action', 'Simulation', 'Role-Playing', 'Adventure', 'Action', 'Action', 'Simulation', 'Action', 'Miscellaneous', 'Action', 'Platformer', 'Role-Playing', 'General', 'Sports', 'Role-Playing', 'Role-Playing', 'Strategy', 'Action Adventure', 'Action Adventure', 'Sports', 'Action Adventure', 'Action', 'Action Adventure', 'Action', 'Action', 'Sports', 'Action Adventure', 'Miscellaneous', 'Strategy', 'Action Adventure', 'Strategy', 'Miscellaneous', 'Role-Playing', 'Action', 'Strategy', 'Action', 'Action', 'Action', 'Action', 'Action Adventure', 'Action', 'Action Adventure', 'Action', 'Action', 'Action Adventure', 'Action', 'Action Adventure', 'Action', 'Action', 'Action Adventure', 'Action', 'Action Adventure', 'Action', 'Action', 'Action Adventure', 'Action', 'Action Adventure', 'Action', 'Action Adventure', 'Role-Playing', 'Action Adventure', 'Action', 'Adventure', 'General', 'Action', 'Role-Playing', 'General', 'Action', 'Action Adventure', 'Sports', 'Action', 'Strategy', 'Role-Playing', 'Sports', 'Action', 'Action Adventure', 'Puzzle', 'Fantasy', 'Action', 'Action Adventure', 'Action', 'Action Adventure', 'Action', 'Action Adventure', 'Action Adventure', 'Simulation', 'Sports', 'Sports', 'Action Adventure', 'Role-Playing', 'Action', 'Strategy', 'Sports', 'Action', 'Action', 'Sports', 'Driving', 'Strategy', 'Action', 'Driving', 'Role-Playing', 'Strategy', 'Action', 'Modern', 'Miscellaneous', 'Driving', 'Action Adventure', 'General', 'Adventure', 'Action', 'Miscellaneous', 'Sports', 'Role-Playing', 'Racing', 'Role-Playing', 'Miscellaneous', 'Action', 'Simulation', 'Sports', 'Miscellaneous', 'Action Adventure', 'Action', 'Action Adventure', 'Action Adventure', 'Sports', 'Action Adventure', 'Role-Playing', 'Action Adventure', 'Action', 'Strategy', 'Sports', 'Action', 'Action Adventure', 'Action', 'Action', 'Action Adventure', 'Simulation', 'Action', 'Action', 'Action', 'Action Adventure', 'Driving', 'General', 'Action', 'Action', 'Action Adventure', 'Driving', 'General', 'Action', 'Action', 'Action Adventure', 'Driving', 'General', 'Action', 'Action', 'Action Adventure', 'Driving', 'General', 'Action', 'Role-Playing', 'Action RPG', 'Miscellaneous', 'Strategy', 'Action Adventure', 'Role-Playing', 'Racing', 'Miscellaneous', 'Puzzle', 'Sports', 'Sports', 'Strategy', 'Driving', 'Driving', 'Strategy', 'Strategy', 'Role-Playing', 'Adventure', 'Adventure', 'Action Adventure', 'Action', 'Action', 'Action', 'Action Adventure', 'Sports', 'Action', 'Action', 'Action', 'Adventure', 'Adventure', 'Miscellaneous', 'Role-Playing', 'Fantasy', 'Sports', 'Racing', 'Driving', 'Adventure', 'Sports', 'Role-Playing', 'Fantasy', 'Role-Playing', 'Action', 'Action', 'Adventure', 'Racing', 'Sports', 'Simulation', 'Strategy', 'Strategy', 'Strategy', 'Driving', 'Racing', 'General', 'Action', 'Action', 'Sports', 'Action', 'Puzzle', 'Role-Playing', 'Role-Playing', 'Driving', 'Action', 'Miscellaneous', 'Role-Playing', 'Role-Playing', 'Simulation', 'Action', 'Action Adventure', 'Action', 'Role-Playing', 'Sports', 'Action', 'Role-Playing', 'Role-Playing', 'Action Adventure', 'Fantasy', 'Strategy', 'Miscellaneous', 'Adventure', 'Simulation', 'Sports', 'Sports', 'Driving', 'Role-Playing', 'Simulation', 'Sports', 'Sports', 'Driving', 'Role-Playing', 'Simulation', 'Sports', 'Sports', 'Driving', 'Role-Playing', 'Simulation', 'Sports', 'Sports', 'Driving', 'Role-Playing', 'Sports', 'Role-Playing', 'Simulation', 'Racing', 'Role-Playing', 'Adventure', 'Action', 'Role-Playing', 'Action', 'Puzzle', 'Action', 'Horror', 'Action', 'Fantasy', 'Action Adventure', 'Action', 'Action', 'Miscellaneous', 'Action Adventure', 'Miscellaneous', 'Strategy', 'Strategy', 'General', 'Action', 'Adventure', 'Role-Playing', 'Driving', 'Driving', 'General', 'Sports', 'Role-Playing', 'Miscellaneous', 'Sports', 'Role-Playing', 'Action', 'Action Adventure', 'Fantasy', 'Role-Playing', 'Role-Playing', 'Action', 'Adventure', 'Miscellaneous', 'Action', 'Strategy', 'Driving', 'Simulation', 'Role-Playing', 'Role-Playing', 'Action', 'Action Adventure', 'Action', 'Action', 'Action', 'Action', 'Action', 'Sports', 'Action', 'Miscellaneous', 'Action', 'Action', 'Puzzle', 'Role-Playing', 'Role-Playing', 'Sports', 'Adventure', 'Driving', 'Action Adventure', 'Action Adventure', 'Adventure', 'Role-Playing', 'General', 'Action Adventure', 'Puzzle', 'Sports', 'Action', 'Action Adventure', 'Sports', 'Sports', 'Sports', 'Action', 'Adventure', 'Action Adventure', 'Role-Playing', 'Action', 'Adventure', 'Adventure', 'Action Adventure', 'Role-Playing', 'Action', 'Adventure', 'Adventure', 'Action Adventure', 'Role-Playing', 'Action', 'Adventure', 'Adventure', 'Action Adventure', 'Role-Playing', 'Action', 'Adventure', 'Miscellaneous', 'General', 'Miscellaneous', 'Sports', 'Sci-Fi', 'General', 'Role-Playing', 'Strategy', 'Sports', 'Action', 'Driving', 'Miscellaneous', 'Sports', 'Action', 'Simulation', 'Strategy', 'Adventure', 'Driving', 'Action Adventure', 'Role-Playing', 'Driving', 'Action', 'Sports', 'Sports', 'Puzzle', 'Action', 'Adventure', 'Action', 'Role-Playing', 'Action Adventure', 'Action Adventure', 'Role-Playing', 'Action', 'Fantasy', 'Miscellaneous', 'Action Adventure', 'Sports', 'Action Adventure', 'Adventure', 'Action', 'General', 'Role-Playing', 'Action', 'Sports', 'Miscellaneous', 'Action Adventure', 'General', 'Puzzle', 'Sports', 'Adventure', 'Action', 'Miscellaneous', 'Puzzle', 'Sports', 'Action', 'Role-Playing', 'Sports', 'Role-Playing', 'Sports', 'Sports', 'Action', 'Action Adventure', 'Simulation', 'Role-Playing', 'Simulation', 'Fantasy', 'Simulation', 'General', 'Action', 'Strategy', 'Miscellaneous', 'General', 'Sports', 'Role-Playing', 'Role-Playing', 'Action', 'Action', 'Miscellaneous', 'Role-Playing', 'Strategy', 'Action Adventure', 'Action Adventure', 'Role-Playing', 'Miscellaneous', 'Miscellaneous', 'Action Adventure', 'Action Adventure', 'Role-Playing', 'Miscellaneous', 'Miscellaneous', 'Action Adventure', 'Action Adventure', 'Role-Playing', 'Miscellaneous', 'Miscellaneous', 'Action Adventure', 'Action Adventure', 'Role-Playing', 'Miscellaneous', 'Miscellaneous', 'Fantasy', 'Strategy', 'Action', 'Adventure', 'Action', 'Action', 'Action Adventure', 'Sci-Fi', 'General', 'Action', 'Role-Playing', 'Sports', 'Action', 'Racing', 'Action', 'Strategy', 'Action Adventure', 'Action', 'Role-Playing', 'Role-Playing', 'Simulation', 'Miscellaneous', 'Strategy', 'Simulation', 'Action', 'Action', 'Role-Playing', 'Sports', 'Action Adventure', 'Action', 'Action Adventure', 'Action Adventure', 'General', 'Role-Playing', 'Sports', 'Adventure', 'Action', 'Role-Playing', 'Miscellaneous', 'Miscellaneous', 'Action', 'Action', 'Sports', 'Simulation', 'Sports', 'Action', 'Action', 'Strategy', 'Adventure', 'Action Adventure', 'Sports', 'Adventure', 'Action Adventure', 'Action', 'Action Adventure', 'Role-Playing', 'Action', 'Action', 'Miscellaneous', 'Action', 'Action Adventure', 'Action', 'Role-Playing', 'Action', 'Action', 'Miscellaneous', 'Adventure', 'Action', 'Action', 'Racing', 'Adventure', 'Action', 'Action', 'Action', 'Sci-Fi', 'Adventure', 'Adventure', 'Role-Playing', 'Adventure', 'Action', 'Role-Playing', 'Sports', 'Role-Playing', 'Miscellaneous', 'Driving', 'Role-Playing', 'Sports', 'Role-Playing', 'Miscellaneous', 'Driving', 'Role-Playing', 'Sports', 'Role-Playing', 'Miscellaneous', 'Driving', 'Role-Playing', 'Sports', 'Role-Playing', 'Miscellaneous', 'Driving', 'Sports', 'Action', 'Driving', 'Action', 'Action', 'Role-Playing', 'Role-Playing', 'Action', 'Strategy', 'Sports', 'Strategy', 'Action', 'Sports', 'Driving', 'Miscellaneous', 'Action Adventure', 'Action', 'Strategy', 'Simulation', 'Action', 'Role-Playing', 'Puzzle', 'Strategy', 'Adventure', 'Action Adventure', 'Action', 'Action Adventure', 'Action Adventure', 'Miscellaneous', 'Strategy', 'Role-Playing', 'Adventure', 'Role-Playing', 'Adventure', 'Action Adventure', 'Action', 'Action', 'Action', 'Action', 'Miscellaneous', 'Action', 'Simulation', 'Puzzle', 'Action', 'Sports', 'Sports', 'Strategy', 'Adventure', 'Action Adventure', 'Adventure', 'Sports', 'Role-Playing', 'Miscellaneous', 'Action', 'Strategy', 'Action Adventure', 'Role-Playing', 'Action', 'Strategy', 'Driving', 'Action Adventure', 'Miscellaneous', 'Driving', 'Action Adventure', 'Strategy', 'Shooter', 'Action', 'Miscellaneous', 'Strategy', 'Miscellaneous', 'Role-Playing', 'Role-Playing', 'Driving', 'General', 'Strategy', 'Role-Playing', 'Adventure', 'General', 'Action', 'Action', 'Strategy', 'Action Adventure', 'Role-Playing', 'Action Adventure', 'Action', 'Strategy', 'Action Adventure', 'Role-Playing', 'Action Adventure', 'Action', 'Strategy', 'Action Adventure', 'Role-Playing', 'Action Adventure', 'Action', 'Strategy', 'Action Adventure', 'Role-Playing', 'Action Adventure', 'Action', 'Action', 'Sports', 'Action', 'General', 'Action', 'Action', 'Action Adventure', 'Sports', 'Action', 'Strategy', 'Action Adventure', 'Sports', 'Miscellaneous', 'Action', 'Action', 'General', 'Action', 'Role-Playing', 'Adventure', 'Action', 'Miscellaneous', 'Action', 'Role-Playing', 'Sci-Fi', 'Adventure', 'Sports', 'Simulation', 'Role-Playing', 'General', 'Action', 'Action Adventure', 'Puzzle', 'Strategy', 'Action', 'Action', 'Puzzle', 'Action', 'Role-Playing', 'Miscellaneous', 'Sports', 'Sports', 'Role-Playing', 'Action', 'Sports', 'Sports', 'Strategy', 'Miscellaneous', 'Driving', 'Driving', 'Strategy', 'Action', 'Action', 'Action', 'Action Adventure', 'Action', 'Adventure', 'Adventure', 'Driving', 'Miscellaneous', 'Racing', 'Action', 'Action', 'Action', 'Action', 'Action', 'Role-Playing', 'Simulation', 'Action Adventure', 'Role-Playing', 'Action', 'Sports', 'Role-Playing', 'Action Adventure', 'Sports', 'Action', 'Action', 'Simulation', 'Sports', 'Action', 'Role-Playing', 'Action', 'Simulation', 'Role-Playing', 'Action', 'Sports', 'Miscellaneous', 'Simulation', 'Role-Playing', 'Action', 'Sports', 'Miscellaneous', 'Simulation', 'Role-Playing', 'Strategy', 'Action', 'Action', 'Action Adventure', 'Adventure', 'Action', 'Action', 'Simulation', 'Action', 'Role-Playing', 'Adventure', 'Sports', 'Role-Playing', 'Action', 'Strategy', 'Strategy', 'Sports', 'Sports', 'Miscellaneous', 'Strategy', 'Strategy', 'Strategy', 'Miscellaneous', 'Strategy', 'Puzzle', 'Action', 'Role-Playing', 'Action', 'Sports', 'Sports', 'Miscellaneous', 'Action', 'Action', 'Action', 'Action Adventure', 'Strategy', 'Action', 'Platformer', 'Driving', 'Sports', 'General', 'Adventure', 'Miscellaneous', 'Action Adventure', 'Action', 'Action', 'Action', 'Adventure', 'Action', 'Sports', 'Role-Playing', 'Action', 'Action', 'Strategy', 'Role-Playing', 'Strategy', 'Action', 'Simulation', 'PC-style RPG', 'Role-Playing', 'Strategy', 'Action Adventure', 'Role-Playing', 'Adventure', 'Sports', 'Action', 'Miscellaneous', 'Adventure', 'Action', 'Action', 'Miscellaneous', 'Strategy', 'Action', 'Action', 'Sports', 'Adventure', 'Role-Playing', 'General', 'Action', 'Adventure', 'Miscellaneous', 'Strategy', 'Sports', 'Sports', 'Action', 'Miscellaneous', 'Strategy', 'Sports', 'Sports', 'Action', 'Miscellaneous', 'Strategy', 'Sports', 'Sports', 'Action', 'Miscellaneous', 'Strategy', 'Sports', 'Sports', 'Action', 'Action', 'Puzzle', 'Simulation', 'Action', 'Action', 'Adventure', 'Strategy', 'Action', 'Adventure', 'Role-Playing', 'Driving', 'Action Adventure', 'Simulation', 'Sports', 'Miscellaneous', 'Sports', 'Adventure', 'Sports', 'Strategy', 'Sports', 'Action', 'Driving', 'Action', 'Strategy', 'Role-Playing', 'Platformer', 'Racing', 'Action', 'Adventure', 'Action', 'Action', 'Miscellaneous', 'Strategy', 'Action', 'Miscellaneous', 'Action', 'Role-Playing', 'Sports', 'Strategy', 'Action', 'Driving', 'Action', 'General', 'Role-Playing', 'Action', 'Action Adventure', 'Action', 'Action', 'Adventure', 'Action', 'Role-Playing', 'Action', 'Action Adventure', 'Action', 'Action', 'Miscellaneous', 'Adventure', 'Role-Playing', 'Sports', 'Strategy', 'Action', 'Action', 'Role-Playing', 'Action', 'Action', 'Sports', 'Action', 'Sports', 'Action', 'Action', 'Strategy', 'Strategy', 'Action', 'Adventure', 'Action', 'Action', 'Action Adventure', 'Action Adventure', 'Action Adventure', 'Role-Playing', 'Simulation', 'Action', 'Action', 'Sports', 'Role-Playing', 'Simulation', 'Action', 'Action', 'Sports', 'Role-Playing', 'Simulation', 'Action', 'Action', 'Sports', 'Role-Playing', 'Simulation', 'Action', 'Action', 'Sports', 'Role-Playing', 'Adventure', 'Action Adventure', 'Adventure', 'Driving', 'Role-Playing', 'Role-Playing', 'Action Adventure', 'General', 'Action', 'Sports', 'Driving', 'Strategy', 'Sports', 'Sports', 'Strategy', 'Action Adventure', 'Action', 'Strategy', 'Racing', 'Action', 'Miscellaneous', 'Role-Playing', 'Action', 'Action', 'Action', 'Action', 'Miscellaneous', 'Strategy', 'Action Adventure', 'Action', 'General', 'Adventure', 'Miscellaneous', 'Role-Playing', 'Role-Playing', 'Action', 'Strategy', 'Puzzle', 'Adventure', 'Action', 'Adventure', 'General', 'Puzzle', 'Strategy', 'Strategy', 'Miscellaneous', 'Role-Playing', 'Driving', 'Action Adventure', 'Action Adventure', 'Action', 'Role-Playing', 'Action', 'General', 'Action Adventure', 'Miscellaneous', 'Action', 'Racing', 'Miscellaneous', 'Action', 'Miscellaneous', 'Miscellaneous', 'Strategy', 'Action', 'Puzzle', 'Sports', 'Strategy', 'Action', 'Strategy', 'Scrolling', 'Action Adventure', 'Role-Playing', 'Action', 'Action', 'Puzzle', 'Open-World', 'Action', 'Action', 'Strategy', 'Action Adventure', 'Action', 'Action Adventure', 'Action', 'Role-Playing', 'Action', 'Action', 'Action Adventure', 'Action', 'Role-Playing', 'Action', 'Action', 'Action Adventure', 'Action', 'Role-Playing', 'Action', 'Action', 'Action Adventure', 'Action', 'Role-Playing', 'Action', 'Sports', 'Role-Playing', 'Strategy', 'Role-Playing', 'Strategy', 'Sports', 'Miscellaneous', 'Action', 'Action', 'Strategy', 'Role-Playing', 'Miscellaneous', 'Action', 'Sports', 'Action Adventure', 'Sports', 'Adventure', 'Adventure', 'Adventure', 'Role-Playing', 'Action', 'Fantasy', 'Action', 'Role-Playing', 'Strategy', 'Strategy', 'Action', 'Action Adventure', 'Strategy', 'Strategy', 'Miscellaneous', 'Role-Playing', 'Action Adventure', 'Role-Playing', 'Miscellaneous', 'Modern', 'Strategy', 'Action', 'Action Adventure', 'Action', 'Racing', 'Racing', 'Miscellaneous', 'Modern', 'Action Adventure', 'Action Adventure', 'Adventure', 'Action Adventure', 'Action Adventure', 'Action Adventure', 'Strategy', 'Role-Playing', 'Adventure', 'Role-Playing', 'Action', 'Action Adventure', 'Action', 'Action', 'Simulation', 'Adventure', 'Action', 'Action Adventure', 'Driving', 'Adventure', 'Action Adventure', 'Sports', 'Action', 'Action', 'Strategy', 'Adventure', 'Action', 'Role-Playing', 'Strategy', 'Role-Playing', 'Action', 'Action', 'Sports', 'Action', 'Action', 'Role-Playing', 'Arcade', 'Action', 'Driving', 'Action Adventure', 'Action', 'Arcade', 'Action', 'Driving', 'Action Adventure', 'Action', 'Arcade', 'Action', 'Driving', 'Action Adventure', 'Action', 'Arcade', 'Action', 'Driving', 'Action Adventure', 'Action', 'Sports', 'Miscellaneous', 'Action Adventure', 'Puzzle', 'Role-Playing', 'Action Adventure', 'Action', 'Adventure', 'Strategy', 'Miscellaneous', 'Action', 'Action', 'Action', 'Strategy', 'Action', 'Sports', 'Action Adventure', 'Sports', 'Sports', 'Sports', 'Action Adventure', 'Miscellaneous', 'Action Adventure', 'Role-Playing', 'Miscellaneous', 'Action Adventure', 'Miscellaneous', 'Action', 'Action Adventure', 'Role-Playing', 'Role-Playing', 'Action', 'Action Adventure', 'Adventure', 'Sports', 'Adventure', 'Action', 'Action Adventure', 'Miscellaneous', 'Simulation', 'Action', 'Adventure', 'Strategy', 'Action', 'Action Adventure', 'Action Adventure', 'Action', 'Action', 'Action Adventure', 'Action Adventure', 'General', 'Action', 'Driving', 'General', 'Adventure', 'Action', 'Action', 'Action', 'Action', 'Action Adventure', 'Action', 'Action', 'Strategy', 'Action', 'Action Adventure', 'Action', 'Action', 'Strategy', 'Puzzle', 'Action', 'Action', 'Miscellaneous', 'Role-Playing', 'Action', 'Sports', 'Role-Playing', 'Role-Playing', 'Role-Playing', 'Action', 'Action', 'Action', 'Action', 'Strategy', 'General', 'Strategy', 'Action', 'Action', 'Strategy', 'General', 'Strategy', 'Action', 'Action', 'Strategy', 'General', 'Strategy', 'Action', 'Action', 'Strategy', 'General', 'Strategy', 'Miscellaneous', 'Action', 'Action Adventure', 'Action', 'Sports', 'Role-Playing', 'Strategy', 'Miscellaneous', 'Action', 'Action', 'Strategy', 'Action', 'Sports', 'Role-Playing', 'Strategy', 'Role-Playing', 'Sports', 'Action', 'Action', 'Sports', 'Sports', 'Driving', 'Action', 'Strategy', 'Role-Playing', 'Role-Playing', 'Action', 'General', 'Role-Playing', 'Role-Playing', 'Driving', 'Sports', 'Role-Playing', 'Action', 'Sports', 'Action', 'Adventure', 'Sci-Fi', 'Driving', 'Role-Playing', 'Simulation', 'Racing', 'Action Adventure', 'Sports', 'Action Adventure', 'Role-Playing', 'Action Adventure', 'Action', 'Adventure', 'General', 'Action', 'Miscellaneous', 'Adventure', 'Action', 'Adventure', 'Adventure', 'Action', 'Miscellaneous', 'Action', 'Action', 'Action Adventure', 'Miscellaneous', 'Sports', 'Strategy', 'Strategy', 'General', 'Action', 'Action Adventure', 'Miscellaneous', 'Action', 'Action', 'Real-Time', 'Sports', 'Role-Playing', 'Adventure', 'Strategy', 'Action', 'Role-Playing', 'Miscellaneous', 'Action Adventure', 'Action Adventure', 'Action Adventure', 'Action', 'Action', 'Action', 'Action Adventure', 'Action Adventure', 'Action', 'Action', 'Action', 'Action Adventure', 'Action Adventure', 'Action', 'Action', 'Action', 'Action Adventure', 'Action Adventure', 'Action', 'Action', 'Action', 'Action Adventure', 'Action', 'Action', 'Role-Playing', 'Action Adventure', 'Strategy', 'Action', 'Action', 'Role-Playing', 'Action', 'Racing', 'Sports', 'Role-Playing', 'Strategy', 'Action', 'Miscellaneous', 'Action Adventure', 'Puzzle', 'Action', 'Role-Playing', 'Action', 'Miscellaneous', 'Action', 'Miscellaneous', 'Action Adventure', 'Role-Playing', 'Modern', 'Miscellaneous', 'Driving', 'Sports', 'Miscellaneous', 'Simulation', 'Traditional', 'Role-Playing', 'Action Adventure', 'Action', 'Sports', 'Strategy', 'General', 'Action', 'Action', 'Action', 'Miscellaneous', 'Strategy', 'Driving', 'Role-Playing', 'General', 'Adventure', 'Action Adventure', 'Action Adventure', 'Adventure', 'Action', 'Sports', 'Adventure', 'Role-Playing', 'Adventure', 'Action', 'Action', 'Adventure', 'Puzzle', 'Strategy', 'Role-Playing', 'Action Adventure', 'Miscellaneous', 'Action', 'Strategy', 'Miscellaneous', 'Action', 'Action', 'Simulation', 'Role-Playing', 'Action', 'General', 'Action', 'General', 'Simulation', 'Action', 'Sports', 'Action', 'Action', 'Action', 'Miscellaneous', 'Action', 'Miscellaneous', 'Action', 'Action', 'Miscellaneous', 'Action', 'Miscellaneous', 'Action', 'Action', 'Miscellaneous', 'Action', 'Miscellaneous', 'Action', 'Action', 'Miscellaneous', 'Action', 'Miscellaneous', 'Strategy', 'Strategy', 'Role-Playing', 'Role-Playing', 'Puzzle', 'Miscellaneous', 'Role-Playing', 'Role-Playing', 'Action', 'Action', 'Action', 'Action', 'Action Adventure', 'Sports', 'Action', 'Action', 'Role-Playing', 'Action', 'Action Adventure', 'Miscellaneous', 'Strategy', 'Sports', 'Action', 'Sports', 'Action', 'Action', 'First-Person', 'Role-Playing', 'Action', 'Puzzle', 'Adventure', 'Action', 'Action', 'Driving', 'Sports', 'Sports', 'Action', 'Action Adventure', 'Simulation', 'Driving', 'Strategy', 'Action', 'Miscellaneous', 'Sports', 'Role-Playing', 'Action', 'Action Adventure', 'Adventure', 'Action', 'Action', 'Adventure', 'Action', 'Sports', 'Action', 'Sports', 'Action', 'Action', 'Action', 'Strategy', 'Strategy', 'Miscellaneous', 'Action Adventure', 'Action', 'Sports', 'Role-Playing', 'Action Adventure', 'Adventure', 'Role-Playing', 'Miscellaneous', 'Strategy', 'Sports', 'Action', 'General', 'Action', 'Role-Playing', 'Miscellaneous', 'Strategy', 'Sports', 'Sports', 'Strategy', 'Adventure', 'Adventure', 'Sports', 'Driving', 'Driving', 'Adventure', 'Adventure', 'Sports', 'Driving', 'Driving', 'Adventure', 'Adventure', 'Sports', 'Driving', 'Driving', 'Adventure', 'Adventure', 'Sports', 'Driving', 'Driving', 'Sports', 'Action', 'Action', 'Action Adventure', 'Sports', 'Role-Playing', 'Action', 'Action', 'Role-Playing', 'Role-Playing', 'Sports', 'Action', 'Action Adventure', 'Puzzle', 'Adventure', 'Simulation', 'Role-Playing', 'Strategy', 'Sports', 'Action RPG', 'Action Adventure', 'Strategy', 'Role-Playing', 'Action', 'Driving', 'Role-Playing', 'Role-Playing', 'Simulation', 'Strategy', 'Action', 'Action', 'Puzzle', 'Action', 'Action', 'Action RPG', 'Action Adventure', 'Action', 'General', 'Adventure', 'Action', 'Simulation', 'Action', 'Action', 'Action', 'Role-Playing', 'Action', 'Action', 'Action', 'General', 'Action', 'Action', 'PC-style RPG', 'Action', 'Action', 'Action', 'Action Adventure', 'Action Adventure', 'Action Adventure', 'Role-Playing', 'Role-Playing', 'Sports', 'General', 'Miscellaneous', 'Action', 'Action', 'Strategy', 'Miscellaneous', 'Action', 'Action Adventure', 'Strategy', 'Action', 'Action', 'Sports', 'Console-style RPG', 'Action Adventure', 'Sports', 'Sci-Fi', 'Action', 'Shooter', 'Adventure', 'Action', 'Action', 'Strategy', 'Sports', 'Role-Playing', 'Action', 'Action', 'Strategy', 'Sports', 'Role-Playing', 'Action', 'Action', 'Strategy', 'Sports', 'Role-Playing', 'Action', 'Action', 'Strategy', 'Sports', 'Role-Playing', 'Strategy', 'Adventure', 'Action', 'Miscellaneous', 'Sports', 'Miscellaneous', 'Role-Playing', 'Role-Playing', 'Role-Playing', 'Action Adventure', 'Action', 'Action', 'Sports', 'Action', 'Action Adventure', 'Role-Playing', 'Racing', 'Adventure', 'Action Adventure', 'Sports', 'Strategy', 'Action Adventure', 'Strategy', 'Sports', 'Driving', 'Action Adventure', 'Miscellaneous', 'Action', 'Sports', 'Sports', 'Shooter', 'Action', 'Puzzle', 'Action', 'Action', 'Action', 'Action', 'Role-Playing', 'Action', 'Action Adventure', 'Action', 'Action', 'Sports', 'Action', 'Driving', 'Action', 'Sports', 'Action', 'Action', 'Adventure', 'Action', 'Miscellaneous', 'Strategy', 'Strategy', 'Action', 'Adventure', 'Strategy', 'Action', 'Action', 'Miscellaneous', 'Strategy', 'Simulation', 'Action Adventure', 'Action', 'Adventure', 'Action', 'Driving', 'Sports', 'Strategy', 'Sports', 'Action', 'Action', 'Strategy', 'Role-Playing', 'Strategy', 'Driving', 'Action', 'Adventure', 'Action', 'Shooter', 'Action Adventure', 'Action', 'Sports', 'Action', 'Action Adventure', 'Action Adventure', 'Action', 'Sports', 'Action', 'Action Adventure', 'Action Adventure', 'Action', 'Sports', 'Action', 'Action Adventure', 'Action Adventure', 'Action', 'Sports', 'Action', 'Action Adventure', 'Action Adventure', 'Racing', 'Action', 'Adventure', 'Action Adventure', 'Action', 'Strategy', 'Miscellaneous', 'Adventure', 'Strategy', 'Action', 'Action', 'Role-Playing', 'Strategy', 'Adventure', 'Action Adventure', 'Simulation', 'Action', 'Action', 'Strategy', 'Action', 'Action', 'Miscellaneous', 'Action', 'Action', 'Action', 'Sports', 'Action Adventure', 'Driving', 'Action Adventure', 'Strategy', 'Adventure', 'Strategy', 'Strategy', 'Role-Playing', 'Sports', 'Action Adventure', 'Adventure', 'Adventure', 'Action Adventure', 'Adventure', 'Japanese-Style', 'Strategy', 'Action', 'Action', 'Action Adventure', 'Action', 'Simulation', 'Strategy', 'Adventure', 'Role-Playing', 'Strategy', 'Action Adventure', 'Sports', 'Driving', 'Driving', 'Role-Playing', 'Strategy', 'Driving', 'GT / Street', 'Action', 'Action Adventure', 'Action', 'Action', 'Strategy', 'Action', 'Action Adventure', 'General', 'Action', 'Role-Playing', 'Action', 'Sci-Fi', 'Action Adventure', 'Driving', 'Action Adventure', 'Adventure', 'Adventure', 'Adventure', 'Miscellaneous', 'Action Adventure', 'Action Adventure', 'Role-Playing', 'Racing', 'Action', 'Strategy', 'Action Adventure', 'Role-Playing', 'Racing', 'Action', 'Strategy', 'Action Adventure', 'Role-Playing', 'Racing', 'Action', 'Strategy', 'Action Adventure', 'Role-Playing', 'Racing', 'Action', 'Strategy', 'Miscellaneous', 'Strategy', 'Miscellaneous', 'Action', 'Action', 'Driving', 'Driving', 'Simulation', 'Strategy', 'Miscellaneous', 'Action', 'Action', 'Action', 'Action', 'Adventure', 'Action Adventure', 'Adventure', 'Role-Playing', 'Puzzle', 'Adventure', 'Action', 'Action', 'Horror', 'Strategy', 'Sports', 'Action', 'Action Adventure', 'Miscellaneous', 'Strategy', 'Action Adventure', 'Racing', 'Action Adventure', 'Action', 'Miscellaneous', 'Strategy', 'Sports', 'Miscellaneous', 'Action', 'Action', 'Action Adventure', 'Action', 'Action', 'Simulation', 'Action', 'Adventure', 'Adventure', 'Action', 'Racing', 'Strategy', 'Adventure', 'Role-Playing', 'Action', 'Action Adventure', 'Driving', 'Action', 'Action', 'Strategy', 'General', 'Action Adventure', 'Action', 'Action Adventure', 'Sports', 'Strategy', 'Adventure', 'Miscellaneous', 'Simulation', 'Driving', 'Miscellaneous', 'Role-Playing', 'Action Adventure', 'Action', 'Miscellaneous', 'Sports', 'Action', 'Role-Playing', 'Sports', 'Sports', 'Strategy', 'Action', 'Strategy', 'Miscellaneous', 'Action', 'Action', 'Action', 'Role-Playing', 'Miscellaneous', 'Action', 'Action', 'Action', 'Role-Playing', 'Miscellaneous', 'Action', 'Action', 'Action', 'Role-Playing', 'Miscellaneous', 'Action', 'Action', 'Action', 'Role-Playing', 'Sports', 'Strategy', 'General', 'Action', 'Role-Playing', 'Action Adventure', 'Action', 'Adventure', 'Role-Playing', 'Action', 'Driving', 'Action Adventure', 'Strategy', 'Action', 'Action', 'Action Adventure', 'Action', 'Role-Playing', 'Sports', 'Strategy', 'Action', 'Action Adventure', 'Strategy', 'Adventure', 'Action', 'Adventure', 'Role-Playing', 'Puzzle', 'Action', 'Strategy', 'Miscellaneous', 'Adventure', 'Action Adventure', 'Strategy', 'Action', 'Action', 'Action', 'General', 'Action', 'Action', 'Adventure', 'Driving', 'Strategy', 'Action', 'Strategy', 'Puzzle', 'Adventure', 'Action', 'Role-Playing', 'Strategy', 'Sports', 'Miscellaneous', 'Simulation', 'Miscellaneous', 'Adventure', 'Miscellaneous', 'Sports', 'Action', 'Miscellaneous', 'Sports', 'Action', 'Action Adventure', 'Role-Playing', 'Sports', 'Adventure', 'Miscellaneous', 'General', 'Sports', 'Action', 'Arcade', 'Adventure', 'Action', 'Platformer', 'Action', 'Sports', 'Action', 'Action Adventure', 'Action Adventure', 'Action Adventure', 'Driving', 'Action', 'Miscellaneous', 'Action', 'Action', 'Role-Playing', 'Action', 'Miscellaneous', 'Action', 'Action', 'Role-Playing', 'Action', 'Miscellaneous', 'Action', 'Action', 'Role-Playing', 'Action', 'Miscellaneous', 'Action', 'Action', 'Role-Playing', 'Adventure', 'Action', 'Sports', 'Action', 'Action', 'Action RPG', 'Strategy', 'Miscellaneous', 'Strategy', 'Action Adventure', 'Action', 'Action', 'Strategy', 'Action Adventure', 'Driving', 'Action Adventure', 'Action', 'Simulation', 'Miscellaneous', 'Sports', 'Action', 'Role-Playing', 'Role-Playing', 'Sports', 'Action', 'Role-Playing', 'Action Adventure', 'Action', 'Simulation', 'Action', 'Action Adventure', 'Role-Playing', 'Adventure', 'Role-Playing', 'Action', 'Miscellaneous', 'Action', 'Action', 'Strategy', 'General', 'Sports', 'Action', 'Action Adventure', 'General', 'Action', 'Action', 'Action', 'Action Adventure', 'Strategy', 'Driving', 'Action', 'Action', 'Action', 'Role-Playing', 'Action Adventure', 'Miscellaneous', 'Role-Playing', 'Action', 'Strategy', 'Action', 'Miscellaneous', 'Action', 'Action', 'Driving', 'Role-Playing', 'Miscellaneous', 'Miscellaneous', 'Action', 'Driving', 'Action', 'Action', 'Adventure', 'Action Adventure', 'Role-Playing', 'Action', 'Action Adventure', 'Adventure', 'Action', 'Action Adventure', 'Adventure', 'Action', 'Role-Playing', 'Action', 'Role-Playing', 'Adventure', 'Action', 'Role-Playing', 'Action', 'Role-Playing', 'Adventure', 'Action', 'Role-Playing', 'Action', 'Role-Playing', 'Adventure', 'Action', 'Role-Playing', 'Action', 'Role-Playing', 'Adventure', 'Adventure', 'Action Adventure', 'Action', 'Strategy', 'Action Adventure', 'Action', 'Sports', 'Adventure', 'Sports', 'Miscellaneous', 'Miscellaneous', 'Strategy', 'Action', 'Action', 'Driving', 'Simulation', 'Miscellaneous', 'Strategy', 'Sports', 'Action Adventure', 'Sports', 'Action', 'Shooter', 'Action Adventure', 'Action', 'Adventure', 'Action', 'Action', 'Action', 'Action', 'Action', 'Driving', 'Action', 'Adventure', 'Action', 'Sports', 'Action', 'Action Adventure', 'Sports', 'Sports', 'Action', 'Action', 'Strategy', 'Miscellaneous', 'Adventure', 'Action', 'Strategy', 'Adventure', 'Role-Playing', 'Miscellaneous', 'Sports', 'Action', 'Strategy', '2D', 'Driving', 'Role-Playing', 'Role-Playing', 'Role-Playing', 'Miscellaneous', 'Adventure', 'Adventure', 'Action Adventure', 'Miscellaneous', 'Action', 'Adventure', 'Role-Playing', 'Sports', 'Sports', 'Action', 'Action', 'Action', 'Action', 'Action', 'Adventure', 'Role-Playing', 'Action', 'Adventure', 'Driving', 'Action', 'Role-Playing', 'Action Adventure', 'Action Adventure', 'Strategy', 'General', 'Action', 'Action Adventure', 'Action Adventure', 'Strategy', 'General', 'Action', 'Action Adventure', 'Action Adventure', 'Strategy', 'General', 'Action', 'Action Adventure', 'Action Adventure', 'Strategy', 'General', 'Action', 'Action', 'Miscellaneous', 'Sports', 'Action', 'Role-Playing', 'Sports', 'Role-Playing', 'Action', 'Sports', 'Adventure', 'Action Adventure', 'Role-Playing', 'Strategy', 'Sports', 'Action Adventure', 'Role-Playing', 'Action', 'Miscellaneous', 'Role-Playing', 'Action Adventure', 'Role-Playing', 'Racing', 'Action Adventure', 'Strategy', 'Action', 'Racing', 'Role-Playing', 'Action', 'Adventure', 'Action', 'Action', 'Action Adventure', 'Action Adventure', 'Racing', 'Adventure', 'Role-Playing', 'Action Adventure', 'Action Adventure', 'Role-Playing', 'Sports', 'Action', 'Role-Playing', 'Action Adventure', 'Action Adventure', 'Miscellaneous', 'Role-Playing', 'Action Adventure', 'Role-Playing', 'Action', 'Simulation', 'Sports', 'Simulation', 'Sports', 'Strategy', 'Action Adventure', 'Action', 'Action', 'Action', 'Japanese-Style', 'Simulation', 'Action Adventure', 'Role-Playing', 'Puzzle', 'Action', 'Driving', 'Adventure', 'Racing', 'Action Adventure', 'Simulation', 'Action', 'Driving', 'Racing', 'Action Adventure', 'Sci-Fi', 'Action', 'Strategy', 'Adventure', 'Action', 'Action', 'Puzzle', 'Strategy', 'Action', 'Sports', 'Role-Playing', 'Strategy', 'Strategy', 'Action', 'Sports', 'Role-Playing', 'Strategy', 'Strategy', 'Action', 'Sports', 'Role-Playing', 'Strategy', 'Strategy', 'Action', 'Sports', 'Role-Playing', 'Strategy', 'Action Adventure', 'Action Adventure', 'Miscellaneous', 'Adventure', 'Adventure', 'Action', 'Puzzle', 'General', 'Miscellaneous', 'Sports', 'Strategy', 'Sports', 'Sports', 'Action', 'Adventure', 'General', 'Action', 'Action Adventure', 'Action', 'Sports', 'Action', 'Action', 'Adventure', 'Action Adventure', 'Simulation', 'Action', 'General', 'Adventure', 'Miscellaneous', 'Action', 'Action', 'Action', 'Puzzle', 'Action', 'Action', 'Adventure', 'Sports', 'Action', 'Adventure', 'Action', 'Action', 'Action', 'Role-Playing', 'Sports', 'Action', 'Action Adventure', 'Adventure', 'Miscellaneous', 'Action', 'Adventure', 'Adventure', 'Role-Playing', 'Sports', 'Driving', 'Action', 'Racing', 'Strategy', 'Strategy', 'Action', 'General', 'Action', 'Action Adventure', 'Racing', 'Sports', 'Sports', 'Action', 'Puzzle', 'Action Adventure', 'Role-Playing', 'Miscellaneous', 'Action Adventure', 'Driving', 'Role-Playing', 'Sports', 'Role-Playing', 'Simulation', 'Miscellaneous', 'Action', 'Action', 'Simulation', 'Strategy', 'Adventure', 'Action', 'Role-Playing', 'Racing', 'Strategy', 'Adventure', 'Action', 'Role-Playing', 'Racing', 'Strategy', 'Adventure', 'Action', 'Role-Playing', 'Racing', 'Strategy', 'Adventure', 'Action', 'Role-Playing', 'Racing', 'Action', 'Action', 'Puzzle', 'Role-Playing', 'Driving', 'Simulation', 'Action Adventure', 'Action', 'Adventure', 'Action', 'Role-Playing', 'Action', 'Sports', 'Driving', 'Action Adventure', 'Role-Playing', 'Action', 'Adventure', 'Strategy', 'Action', 'Role-Playing', 'Action', 'Action Adventure', 'Action', 'Action', 'Simulation', 'Adventure', 'Role-Playing', 'Action', 'Action Adventure', 'Simulation', 'Racing', 'Role-Playing', 'Action', 'Adventure', 'Action', 'Role-Playing', 'Action', 'Action', 'Strategy', 'Role-Playing', 'Miscellaneous', 'Action', 'Sports', 'Miscellaneous', 'Sports', 'Adventure', 'Sports', 'Action', 'Role-Playing', 'Sports', 'Strategy', 'Driving', 'Action Adventure', 'Strategy', 'Sports', 'Action', 'Driving', 'Role-Playing', 'Simulation', 'Action Adventure', 'Action', 'Miscellaneous', 'Platformer', 'Action', 'Driving', 'Action', 'General', 'Action', 'Miscellaneous', 'Action Adventure', 'Adventure', 'Strategy', 'Adventure', 'Role-Playing', 'Action', 'Sports', 'Action', 'Strategy', 'Action', 'Role-Playing', 'Adventure', 'Role-Playing', 'Miscellaneous', 'Action Adventure', 'Role-Playing', 'Adventure', 'Role-Playing', 'Miscellaneous', 'Action Adventure', 'Role-Playing', 'Adventure', 'Role-Playing', 'Miscellaneous', 'Action Adventure', 'Role-Playing', 'Adventure', 'Role-Playing', 'Miscellaneous', 'Action Adventure', 'Sports', 'Adventure', 'Adventure', 'Miscellaneous', 'Role-Playing', 'Strategy', 'Action', 'Action Adventure', 'Action Adventure', 'Action', 'Role-Playing', 'Sports', 'Simulation', 'Action', 'Simulation', 'Sports', 'Role-Playing', 'Driving', 'Sports', 'Action', 'Driving', 'Action', 'Adventure', 'Driving', 'Sports', 'Strategy', 'Action Adventure', 'Action', 'Action Adventure', 'Action Adventure', 'Sports', 'Sports', 'Action Adventure', 'Action Adventure', 'Simulation', 'Action', 'Role-Playing', 'Action', 'Action', 'Action', 'Action', 'Adventure', 'Action Adventure', 'Action', 'Adventure', 'Action', 'Role-Playing', 'Role-Playing', 'Action', 'Role-Playing', 'Action', 'Action', 'Sports', 'Sports', 'Action Adventure', 'Strategy', 'Action', 'Action', 'Action', 'General', 'Miscellaneous', 'Action', 'Miscellaneous', 'Action', 'Action', 'Action Adventure', 'Action', 'Action', 'Adventure', 'Sports', 'Adventure', 'Action', 'Action Adventure', 'Adventure', 'Adventure', 'Action', 'Puzzle', 'Miscellaneous', 'Action', 'Adventure', 'Sports', 'Role-Playing', 'Sports', 'Action', 'Miscellaneous', 'Sports', 'Role-Playing', 'Sports', 'Action', 'Miscellaneous', 'Sports', 'Role-Playing', 'Sports', 'Action', 'Miscellaneous', 'Sports', 'Role-Playing', 'Sports', 'Action', 'Miscellaneous', 'Action', 'Role-Playing', 'Action Adventure', 'Action', 'Role-Playing', 'Strategy', 'Role-Playing', 'Action Adventure', 'Action', 'Simulation', 'Action', 'Action', 'Strategy', 'Action Adventure', 'Action Adventure', 'Miscellaneous', 'Action', 'Action Adventure', 'General', 'Miscellaneous', 'Action', 'Sports', 'Adventure', 'Role-Playing', 'Action', 'Adventure', 'Adventure', 'Action', 'Driving', 'Miscellaneous', 'Role-Playing', 'Action', 'Action', 'Action Adventure', 'Strategy', 'Action Adventure', 'Action', 'Action', 'Adventure', 'Sports', 'Adventure', 'Action Adventure', 'Role-Playing', 'Action Adventure', 'Action', 'Strategy', 'Adventure', 'Strategy', 'Action', 'Action', 'Sports', 'Action Adventure', 'Driving', 'Sports', 'Action', 'Driving', 'Action', 'Action Adventure', 'Strategy', 'Driving', 'Simulation', 'Sports', 'Driving', 'Sports', 'Adventure', 'Role-Playing', 'Open-World', 'Role-Playing', 'Miscellaneous', 'Action', 'Action', 'Action', 'Miscellaneous', 'Adventure', 'Role-Playing', 'Simulation', 'Action', 'Action', 'Action', 'Role-Playing', 'Adventure', 'Action', 'Action Adventure', 'Action', 'Role-Playing', 'Adventure', 'Action', 'Action Adventure', 'Action', 'Role-Playing', 'Adventure', 'Action', 'Action Adventure', 'Action', 'Role-Playing', 'Adventure', 'Action', 'Action Adventure', 'Action', 'Role-Playing', 'Adventure', 'Action Adventure', 'Adventure', 'Action', 'Action', 'Strategy', 'Action', 'Action', 'Driving', 'Adventure', 'Action', 'Action', 'Action', 'Action', 'Action', 'Racing', 'Miscellaneous', 'Action', 'Adventure', 'Miscellaneous', 'Role-Playing', 'Sports', 'Action Adventure', 'Action', 'Miscellaneous', 'Action', 'Action', 'Sports', 'Sports', 'Strategy', 'Miscellaneous', 'Strategy', 'Action', 'Role-Playing', 'Action', 'Action', 'Action Adventure', 'Action Adventure', 'Action', 'Role-Playing', 'Adventure', 'Action', 'Strategy', 'Puzzle', 'Action', 'Action', 'Action', 'Action', 'Strategy', 'Action', 'Miscellaneous', 'Sports', 'Action', 'Adventure', 'Miscellaneous', 'Sports', 'Action', 'Action', 'Role-Playing', 'Action', 'Action Adventure', 'Action', 'Action Adventure', 'Action', 'Strategy', 'Miscellaneous', 'Sports', 'Role-Playing', 'Puzzle', 'Role-Playing', 'Action', 'Adventure', 'Role-Playing', 'Action', 'General', 'Action Adventure', 'Simulation', 'Adventure', 'Action', 'Action', 'Puzzle', 'Action', 'Sports', 'Action Adventure', 'Action', 'Puzzle', 'Action', 'Sports', 'Action Adventure', 'Action', 'Puzzle', 'Action', 'Sports', 'Action Adventure', 'Action', 'Puzzle', 'Action', 'Sports', 'Action Adventure', 'Action', 'Simulation', 'Action Adventure', 'Miscellaneous', 'Action Adventure', 'Sports', 'Miscellaneous', 'Role-Playing', 'Miscellaneous', 'Sports', 'Driving', 'Driving', 'Action', 'Strategy', 'Action Adventure', 'Action', 'Sports', 'Miscellaneous', 'Action', 'Sports', 'Action', 'Miscellaneous', 'Action', 'Role-Playing', 'Action', 'Action', 'Role-Playing', 'Sports', 'Action', 'Simulation', 'Action', 'Miscellaneous', 'Action', 'Action', 'Strategy', 'Action Adventure', 'Sports', 'Action', 'Action', 'Adventure', 'Miscellaneous', 'Action', 'Action', 'Racing', 'Action', 'Action', 'Adventure', 'Miscellaneous', 'Role-Playing', 'Role-Playing', 'Adventure', 'Action', 'Sports', 'Action', 'Action', 'Action Adventure', 'Role-Playing', 'Driving', 'Action Adventure', 'Action', 'Sports', 'Role-Playing', 'Strategy', 'Action', 'Strategy', 'Sports', 'Simulation', 'Driving', 'Simulation', 'Sports', 'Sports', 'Action', 'Role-Playing', 'Action', 'Sports', 'Role-Playing', 'Action Adventure', 'Action', 'Strategy', 'Miscellaneous', 'Action', 'Action Adventure', 'Strategy', 'Role-Playing', 'Adventure', 'Strategy', 'Action Adventure', 'Strategy', 'Role-Playing', 'Adventure', 'Strategy', 'Action Adventure', 'Strategy', 'Role-Playing', 'Adventure', 'Strategy', 'Action Adventure', 'Strategy', 'Role-Playing', 'Adventure', 'Strategy', 'Turn-Based', 'Action Adventure', 'Miscellaneous', 'Role-Playing', 'Adventure', 'Action', 'Miscellaneous', 'Driving', 'Simulation', 'Racing', 'Strategy', 'Role-Playing', 'Sports', 'Sports', 'Role-Playing', 'Strategy', 'Role-Playing', 'PC-style RPG', 'Action Adventure', 'Strategy', 'Action', 'Driving', 'Action', 'Role-Playing', 'Action', 'Action Adventure', 'Sports', 'Action', 'Action Adventure', 'Action', 'Simulation', 'Action', 'Action', 'Adventure', 'Action', 'Strategy', 'Action', 'Strategy', 'Action', 'Driving', 'Sports', 'Strategy', 'Sports', 'Action', 'Strategy', 'Simulation', 'Action', 'Strategy', 'Driving', 'Action', 'Action', 'Driving', 'Action Adventure', 'Sports', 'Role-Playing', 'Action Adventure', 'Action Adventure', 'Action', 'Role-Playing', 'Action', 'Action Adventure', 'Puzzle', 'Action', 'Action Adventure', 'Strategy', 'Role-Playing', 'Action Adventure', 'Action', 'General', 'Action', 'Historic', 'Role-Playing', 'Miscellaneous', 'Strategy', 'Strategy', 'Action', 'Strategy', 'Role-Playing', 'Simulation', 'Action Adventure', 'General', 'Action', 'Miscellaneous', 'Action', 'Adventure', 'General', 'Action', 'Miscellaneous', 'Action', 'Adventure', 'General', 'Action', 'Miscellaneous', 'Action', 'Adventure', 'General', 'Action', 'Miscellaneous', 'Action', 'Adventure', 'Action Adventure', 'Action', 'Role-Playing', 'Action', 'Action Adventure', 'Action', 'Sports', 'Miscellaneous', 'Action', 'Driving', 'Strategy', 'Role-Playing', 'Action', 'Strategy', 'Strategy', 'Action', 'Action', 'Puzzle', 'Adventure', 'Sports', 'Strategy', 'Role-Playing', 'Sports', 'Driving', 'Role-Playing', 'Simulation', 'Sports', 'Driving', 'Action Adventure', 'General', 'Strategy', 'Action Adventure', 'Sports', 'Action', 'Miscellaneous', 'Role-Playing', 'Sports', 'Miscellaneous', 'Puzzle', 'Action Adventure', 'Simulation', 'Strategy', 'Driving', 'Driving', 'Strategy', 'Action', 'Puzzle', 'General', 'Action', 'Action', 'Action Adventure', 'Role-Playing', 'Racing', 'Action', 'Action', 'Action', 'Action', 'Role-Playing', 'Role-Playing', 'Action Adventure', 'Sports', 'General', 'Adventure', 'Role-Playing', 'Adventure', 'Sports', 'Action Adventure', 'Action Adventure', 'Action', 'Action', 'Miscellaneous', 'Adventure', 'Sports', 'Miscellaneous', 'Action', 'Action', 'Action Adventure', 'Puzzle', 'Miscellaneous', 'Action', 'Action', 'Role-Playing', 'Sports', 'Driving', 'Action', 'Action', 'Role-Playing', 'Sports', 'Driving', 'Action', 'Action', 'Role-Playing', 'Sports', 'Driving', 'Action', 'Action', 'Role-Playing', 'Sports', 'Driving', 'Action', 'Sports', 'Strategy', 'Simulation', 'Driving', 'Action Adventure', 'Strategy', 'Action', 'Simulation', 'Driving', 'Strategy', 'Action', 'Action Adventure', 'Action', 'Adventure', 'Action', 'Action Adventure', 'Action', 'Adventure', 'Driving', 'Sports', 'Miscellaneous', 'Fantasy', 'Adventure', 'Puzzle', 'Action', 'Action', 'Action Adventure', 'Strategy', 'Action Adventure', 'Sports', 'Adventure', 'Action', 'Role-Playing', 'Simulation', 'Simulation', 'Puzzle', 'Adventure', 'Miscellaneous', 'Miscellaneous', 'Adventure', 'Action', 'Simulation', 'Action Adventure', 'Action Adventure', 'Sports', 'Horror', 'Driving', 'Action', 'Action', 'Role-Playing', 'Action', 'Role-Playing', 'Action', 'Strategy', 'Action', 'Racing', 'Real-Time', 'Action', 'Simulation', 'Miscellaneous', 'Action', 'Sports', 'Sports', 'Action', 'Action', 'Racing', 'Action', 'Strategy', 'Strategy', 'Action', 'Role-Playing', 'Adventure', 'Strategy', 'Adventure', 'Action', 'Action', 'Action', 'Puzzle', 'Strategy', 'Strategy', 'Miscellaneous', 'Sports', 'Action', 'Sports', 'Sports', 'Miscellaneous', 'Sports', 'Action', 'Sports', 'Sports', 'Miscellaneous', 'Sports', 'Action', 'Sports', 'Sports', 'Miscellaneous', 'Sports', 'Action', 'Sports', 'Sports', 'Sports', 'Sports', 'Action', 'Role-Playing', 'Action', 'Action', 'Action', 'Strategy', 'Action Adventure', 'Driving', 'Action', 'Action', 'Action', 'Strategy', 'Role-Playing', 'Action', 'Sports', 'Action', 'Sports', 'Action Adventure', 'Action Adventure', 'Miscellaneous', 'Action', 'Action', 'Sports', 'Sports', 'Strategy', 'Action', 'Miscellaneous', 'Action', 'Simulation', 'Miscellaneous', 'Racing', 'Action', 'Action', 'Action Adventure', 'Miscellaneous', 'Action', 'Strategy', 'Simulation', 'Miscellaneous', 'Action Adventure', 'Miscellaneous', 'Action', 'Action', 'Simulation', 'Action', 'Driving', 'Action Adventure', 'Action', 'Role-Playing', 'Miscellaneous', 'Driving', 'Action', 'Action', 'Strategy', 'Role-Playing', 'Adventure', 'Puzzle', 'Puzzle', 'Miscellaneous', 'Sports', 'Action', 'Action', 'Driving', 'Strategy', 'Sports', 'Driving', 'Strategy', 'Simulation', 'Sports', 'Action Adventure', 'Adventure', 'Adventure', 'Action Adventure', 'Strategy', 'Simulation', 'Driving', 'Racing', 'Sports', 'Action', 'Action', 'Action', 'Action', 'Strategy', 'Action', 'Action', 'Action', 'Action', 'Strategy', 'Action', 'Action', 'Action', 'Action', 'Strategy', 'Action', 'Action', 'Action', 'Action', 'Strategy', 'Miscellaneous', 'Strategy', 'Action', 'Action', 'Action Adventure', 'Action', 'Action', 'Action Adventure', 'Action', 'Action', 'Action', 'Puzzle', 'Adventure', 'Action', 'Action Adventure', 'Driving', 'Sports', 'Strategy', 'Action', 'Adventure', 'Sports', 'Action', 'Sports', 'Role-Playing', 'Strategy', 'Role-Playing', 'Action', 'Miscellaneous', 'Action Adventure', 'Role-Playing', 'Strategy', 'Action Adventure', 'Action', 'Action', 'Strategy', 'Action', 'Miscellaneous', 'Action', 'Miscellaneous', 'Action Adventure', 'Action', 'Sports', 'Action', 'Action', 'Action Adventure', 'Action', 'Sports', 'Strategy', 'Sports', 'Action Adventure', 'Action Adventure', 'Action', 'Action', 'Action', 'Strategy', 'Adventure', 'General', 'Sports', 'Sports', 'Role-Playing', 'Adventure', 'Action', 'Action', 'Miscellaneous', 'Role-Playing', 'Sports', 'Strategy', 'Action Adventure', 'Role-Playing', 'Action Adventure', 'Role-Playing', 'Adventure', 'Role-Playing', 'Action', 'Adventure', 'Action', 'Action', 'Action', 'Action Adventure', '2D', 'Role-Playing', 'Miscellaneous', 'Adventure', 'Role-Playing', 'Simulation', 'Role-Playing', 'Miscellaneous', 'Adventure', 'Role-Playing', 'Simulation', 'Role-Playing', 'Miscellaneous', 'Adventure', 'Role-Playing', 'Simulation', 'Role-Playing', 'Miscellaneous', 'Adventure', 'Role-Playing', 'Simulation', 'Strategy', 'Action', 'Strategy', 'Driving', 'Sports', 'Role-Playing', 'Action', 'Action Adventure', 'Compilation', 'Action', 'Racing', 'Action', 'Strategy', 'Puzzle', 'Strategy', 'Role-Playing', 'Adventure', 'Action', 'Action', 'Action Adventure', 'Action', 'Action', 'Action', 'Action', 'Strategy', 'Action Adventure', 'Sports', 'Adventure', 'Driving', 'Action Adventure', 'Platformer', 'Sports', 'Strategy', 'Action', 'Adventure', 'Simulation', 'Strategy', 'Action', 'Action', 'Sports', 'Action Adventure', 'Strategy', 'Action Adventure', 'Sports', 'Miscellaneous', 'Miscellaneous', 'Action', 'Role-Playing', 'Action', 'Action', 'Adventure', 'Action', 'Action', 'Action', 'Adventure', 'Racing', 'Action', 'Role-Playing', 'Action', 'Action', 'Action', 'Role-Playing', 'Role-Playing', 'General', 'Role-Playing', 'Action', 'Action', 'Action', 'Action', 'Strategy', 'Racing', 'Role-Playing', 'Role-Playing', 'Action Adventure', 'Strategy', 'Adventure', 'Adventure', 'Action', 'Driving', 'Action', 'Adventure', 'Action', 'Action', 'Shooter', 'Miscellaneous', 'Adventure', 'Action', 'Action', 'Shooter', 'Miscellaneous', 'Adventure', 'Action', 'Action', 'Shooter', 'Miscellaneous', 'Adventure', 'Action', 'Action', 'Shooter', 'Miscellaneous', 'Adventure', 'Action Adventure', 'Action', 'Action', 'Action', 'Adventure', 'Driving', 'Sports', 'Action', 'Action Adventure', 'Adventure', 'Adventure', 'Sci-Fi', 'Action', 'Action', 'Action Adventure', 'Action Adventure', 'Action', 'Action', 'Action', 'Action Adventure', 'Miscellaneous', 'Action', 'Action', 'Action Adventure', 'General', 'Sports', 'Sports', 'Strategy', 'Role-Playing', 'Action', 'Strategy', 'Miscellaneous', 'Miscellaneous', 'Driving', 'Action', 'Adventure', 'Action Adventure', 'Role-Playing', 'Action Adventure', 'Role-Playing', 'Adventure', 'Action Adventure', 'Sports', 'Action', 'Action', 'Strategy', 'General', 'Action', 'Action Adventure', 'Driving', 'Action Adventure', 'Role-Playing', 'Action', 'Adventure', 'Strategy', 'Role-Playing', 'Action Adventure', 'Adventure', 'Action', 'Action', 'Action', 'Action', 'Strategy', 'Adventure', 'Adventure', 'Action', 'Action Adventure', 'Action Adventure', 'Action', 'Console-style RPG', 'Puzzle', 'Action', 'Action', 'Action', 'Miscellaneous', 'Action', 'Miscellaneous', 'Action', 'Action Adventure', 'Action', 'Action', 'Action', 'Action', 'Action', 'Action', 'Action', 'Action', 'Action', 'Action', 'Action', 'Action', 'Action', 'Action', 'Action', 'Action', 'Action', 'Action', 'Action', 'Action', 'Action', 'Action', 'Action', 'Strategy', 'Role-Playing', 'Role-Playing', 'Action', 'Action', 'Action', 'Action', 'Action', 'Action', 'Sports', 'Role-Playing', 'Action', 'Adventure', 'Action', 'Action Adventure', 'Action', 'Strategy', 'Action Adventure', 'Miscellaneous', 'Miscellaneous', 'Action', 'Adventure', 'Action', 'Adventure', 'Role-Playing', 'Miscellaneous', 'Adventure', 'Racing', 'Action Adventure', 'Action', 'Action', 'Sports', 'Adventure', 'Action Adventure', 'Sci-Fi', 'Action', 'Simulation', 'Role-Playing', 'Action', 'Role-Playing', 'Sports', 'Strategy', 'Sports', 'Role-Playing', 'Music', 'Strategy', 'Role-Playing', 'Strategy', 'Action Adventure', 'Strategy', 'Driving', 'Strategy', 'Action', 'Role-Playing', 'Action Adventure', 'Strategy', 'Strategy', 'Strategy', 'Adventure', 'Action Adventure', 'Action', 'Role-Playing', 'Puzzle', 'Miscellaneous', 'Action', 'Action', 'Action', 'Role-Playing', 'Simulation', 'Action', 'Action', 'Action', 'Adventure', 'Adventure', 'Sports', 'Action', 'Driving', 'Action', 'Action', 'Adventure', 'Sports', 'Action', 'Action', 'Action', 'Adventure', 'Sports', 'Action', 'Action', 'Action', 'Adventure', 'Sports', 'Action', 'Action', 'Action', 'Adventure', 'Sports', 'Action', 'Action Adventure', 'Miscellaneous', 'Action', 'Adventure', 'Action', 'Action', 'Sports', 'Role-Playing', 'Driving', 'Sports', 'Action Adventure', 'Sports', 'Action Adventure', 'Sports', 'Strategy', 'Action Adventure', 'Driving', 'Strategy', 'Driving', 'Sports', 'Action', 'Racing', 'Driving', 'Miscellaneous', 'Sports', 'Racing', 'Action Adventure', 'Action', 'Action', 'Action', 'Action', 'Sports', 'Sports', 'Role-Playing', 'Sports', 'Strategy', 'Sports', 'Action', 'Action Adventure', 'Fantasy', 'Role-Playing', 'Action', 'Role-Playing', 'Miscellaneous', 'Action', 'Role-Playing', 'Action', 'Historic', 'Simulation', 'Role-Playing', 'Simulation', 'Action', 'Role-Playing', 'Action', 'Action Adventure', 'Action', 'Action', 'Role-Playing', 'Role-Playing', 'Strategy', 'Action Adventure', 'Strategy', 'Action', 'Action', 'Action', 'Sports', 'Role-Playing', 'Sports', 'Adventure', 'Miscellaneous', 'Action', 'Action Adventure', 'Strategy', 'Miscellaneous', 'Driving', 'General', 'Strategy', 'Action Adventure', 'Adventure', 'Racing', 'Adventure', 'Sports', 'Action Adventure', 'Racing', 'Action Adventure', 'Adventure', 'Sports', 'Action Adventure', 'Racing', 'Action Adventure', 'Adventure', 'Sports', 'Action Adventure', 'Racing', 'Action Adventure', 'Adventure', 'Sports', 'Action Adventure', 'Racing', 'Action Adventure', 'Action', 'General', 'Miscellaneous', 'Simulation', 'Action Adventure', 'Racing', 'Role-Playing', 'Role-Playing', 'Role-Playing', 'Strategy', 'Miscellaneous', 'Adventure', 'Role-Playing', 'Role-Playing', 'Adventure', 'Action', 'Action', 'Action', 'Role-Playing', 'Strategy', 'Sports', 'Action', 'Action', 'Action', 'Adventure', 'Action Adventure', 'Strategy', 'Strategy', 'Adventure', 'Sci-Fi', 'Adventure', 'Action', 'Action', 'Role-Playing', 'Action', 'Action Adventure', 'Simulation', 'Action Adventure', 'Role-Playing', 'Action Adventure', 'General', 'Action', 'General', 'Adventure', 'Action', 'Sports', 'Strategy', 'Sports', 'Puzzle', 'Action Adventure', 'Action Adventure', 'Role-Playing', 'Action', 'Action Adventure', 'Action', 'PC-style RPG', 'Racing', 'Simulation', 'Action', 'Action', 'Action', 'Action Adventure', 'Action', 'Action Adventure', 'Strategy', 'Action', 'Action', 'Action', 'Action', 'Action', 'Action Adventure', 'Role-Playing', 'Action', 'Strategy', 'Action', 'Action Adventure', 'Action', 'Action Adventure', 'Role-Playing', 'Miscellaneous', 'Adventure', 'Adventure', 'Action', 'Adventure', 'Role-Playing', 'Adventure', 'Adventure', 'Action', 'Adventure', 'Role-Playing', 'Adventure', 'Adventure', 'Action', 'Adventure', 'Role-Playing', 'Adventure', 'Adventure', 'Action', 'Adventure', 'Role-Playing', 'Action', 'Action', 'Role-Playing', 'Sports', 'Action', 'Racing', 'Action', 'Miscellaneous', 'Adventure', 'Action', 'Strategy', 'Action Adventure', 'Action', 'Strategy', 'Action', 'Miscellaneous', 'Racing', 'Adventure', 'Action', 'Miscellaneous', 'Action Adventure', 'Sports', 'Action', 'Role-Playing', 'Role-Playing', 'Role-Playing', 'Adventure', 'Action', 'Role-Playing', 'Simulation', 'Action Adventure', 'Adventure', 'Adventure', 'Action', 'Action', 'Action', 'Puzzle', 'Strategy', 'Sports', 'Sports', 'Miscellaneous', 'Driving', 'Role-Playing', 'Miscellaneous', 'Sports', 'Miscellaneous', 'Sports', 'Action', 'Adventure', 'Strategy', 'Miscellaneous', 'Racing', 'Sports', 'Tycoon', 'Role-Playing', 'Strategy', 'Action', 'Action', 'Action', 'Miscellaneous', 'Action', 'Sports', 'Strategy', 'Strategy', '6 Online', 'Strategy', 'Role-Playing', 'Action', 'Action', 'Adventure', 'Action Adventure', 'Action', 'Miscellaneous', 'Action RPG', 'Action', 'Shooter', 'Action', 'Sports', 'Sports', 'Action', 'Action', 'Action', 'Racing', 'Adventure', 'Simulation', 'Action', 'Action', 'Racing', 'Adventure', 'Simulation', 'Action', 'Action', 'Racing', 'Adventure', 'Simulation', 'Action', 'Action', 'Racing', 'Adventure', 'Simulation', 'Action', 'Action Adventure', 'Simulation', 'Strategy', 'Sports', 'Action', 'Sports', 'Sports', 'Strategy', 'Driving', 'Sports', 'Miscellaneous', 'Adventure', 'Action', 'Action', 'Action', 'Action', 'Action', 'Action', 'Action', 'Racing', 'Strategy', 'Role-Playing', 'Adventure', 'Action', 'Action', 'Action Adventure', 'Action', 'Driving', 'Miscellaneous', 'Puzzle', 'Sports', 'Action', 'Miscellaneous', 'Adventure', 'Adventure', 'Action Adventure', 'Role-Playing', 'Action Adventure', 'Miscellaneous', 'Sports', 'Party / Minigame', 'Action', 'Action', 'General', 'Driving', 'Action', 'Miscellaneous', 'Action', 'Action', 'Adventure', 'Puzzle', 'Console-style RPG', 'Strategy', 'Action Adventure', 'Action Adventure', 'Action', 'Strategy', 'Strategy', 'Sports', 'Miscellaneous', 'Strategy', 'Miscellaneous', 'General', 'Sports', 'Role-Playing', 'Action', 'Action', 'Simulation', 'Adventure', 'Role-Playing', 'Strategy', 'Sports', 'Action', 'Strategy', 'Action', 'Action', 'Miscellaneous', 'Action', 'Strategy', 'Sci-Fi', 'Action', 'Simulation', 'Action', 'General', 'Sci-Fi', 'Action', 'Simulation', 'Action', 'General', 'Sci-Fi', 'Action', 'Simulation', 'Action', 'General', 'Sci-Fi', 'Action', 'Simulation', 'Action', 'General', 'Action Adventure', 'Miscellaneous', 'Adventure', 'Action', 'Miscellaneous', 'Strategy', 'Miscellaneous', 'Simulation', 'Action Adventure', 'General', 'Action Adventure', 'Action Adventure', 'Puzzle', 'Action Adventure', 'Action', 'Role-Playing', 'Puzzle', 'Arcade', 'Adventure', 'Action', 'Role-Playing', 'Adventure', 'Simulation', 'Action', 'Action Adventure', 'Action', 'Action', 'Action Adventure', 'Action', 'Action', 'Action Adventure', 'Action', 'Action Adventure', 'Miscellaneous', 'Action', 'Action Adventure', 'Action Adventure', 'Action Adventure', 'Sports', 'Action', 'Miscellaneous', 'Action', 'Strategy', 'Simulation', 'Action', 'Strategy', 'Action', 'Strategy', 'Puzzle', 'Role-Playing', 'Sports', 'Fantasy', 'Strategy', 'Role-Playing', 'Action', 'Adventure', 'Action', 'Action', 'Action', 'Fantasy', 'General', 'Action', 'Racing', 'Action', 'Strategy', 'Role-Playing', 'Role-Playing', 'Action', 'Action', 'Adventure', 'Action', 'Sports', 'Role-Playing', 'Role-Playing', 'Miscellaneous', 'Sports', 'Adventure', 'Strategy', 'Action', 'Action Adventure', 'Action', 'Strategy', 'Action', 'Adventure', 'Adventure', 'Action', 'Strategy', 'Action', 'Adventure', 'Adventure', 'Action', 'Strategy', 'Action', 'Adventure', 'Adventure', 'Action', 'Strategy', 'Action', 'Adventure', 'Adventure', 'Action', 'Action', 'Action', 'Action Adventure', 'Racing', 'Strategy', 'Action', 'Simulation', 'Simulation', 'Sports', 'Sports', 'Strategy', 'Sports', 'Sports', 'Adventure', 'Action Adventure', 'Role-Playing', 'Console-style RPG', 'Action', 'Action', 'Action Adventure', 'Action', 'General', 'Action', 'Action', 'Role-Playing', 'Role-Playing', 'Action', 'Action', 'Adventure', 'Puzzle', 'Action Adventure', 'Action', 'Action', 'Sports', 'Strategy', 'Action', 'Action Adventure', 'Action Adventure', 'Action Adventure', 'Action', 'Role-Playing', 'Action Adventure', 'Action', 'Action', 'Adventure', 'Action', 'Driving', 'Action Adventure', 'Miscellaneous', 'Strategy', 'Adventure', 'Action', 'Action Adventure', 'Simulation', 'Action', 'Puzzle', 'Adventure', 'Action Adventure', 'Role-Playing', 'Role-Playing', 'Action', 'Miscellaneous', 'Role-Playing', 'Racing', 'Strategy', 'Action', 'Adventure', 'Adventure', 'Puzzle', 'Simulation', 'Action', 'Action', 'Action', 'Miscellaneous', 'Racing', 'Action', 'Action', 'Action Adventure', 'Action', 'Sports', 'Driving', 'Action', 'Simulation', 'Action', 'Sports', 'Driving', 'Action', 'Simulation', 'Action', 'Sports', 'Driving', 'Action', 'Simulation', 'Action', 'Sports', 'Driving', 'Action', 'Simulation', 'Action', 'Historic', 'Simulation', 'Sports', 'Japanese-Style', 'Sports', 'Miscellaneous', 'Role-Playing', 'Role-Playing', 'Adventure', 'Action', 'Action Adventure', 'Puzzle', 'Miscellaneous', 'Miscellaneous', 'Sports', 'Action', 'Sports', 'Sports', 'Role-Playing', 'Action', 'Strategy', 'Action Adventure', 'Action Adventure', 'Strategy', 'Miscellaneous', 'Action', 'Action', 'Sports', 'Role-Playing', 'Action', 'Role-Playing', 'Action', 'Action', 'Action', 'Action', 'Role-Playing', 'Adventure', 'Action', 'Action', 'Action', 'Action', 'Action', 'Sports', 'Action', 'Action', 'Action', 'Action Adventure', 'Action', 'Action', 'Adventure', 'Miscellaneous', 'Role-Playing', 'Role-Playing', 'Action', 'Role-Playing', 'Role-Playing', 'Role-Playing', 'Role-Playing', 'Sports', 'Sports', 'Action Adventure', 'Sports', 'Role-Playing', 'Action Adventure', 'Sports', 'Puzzle', 'Action Adventure', 'Puzzle', 'Action', 'Role-Playing', 'Driving', 'Role-Playing', 'Adventure', 'Sports', 'Simulation', 'Strategy', 'Action', 'Action', 'Strategy', 'Action', 'Action', 'Sports', 'Action', 'Racing', 'Action Adventure', 'Action', 'Sports', 'Action', 'Racing', 'Action Adventure', 'Action', 'Sports', 'Action', 'Racing', 'Action Adventure', 'Action', 'Sports', 'Action', 'Racing', 'Action Adventure', 'Action', 'General', 'Action', 'Role-Playing', 'Action', 'Third-Person', 'Action Adventure', 'Action Adventure', 'Action', 'Adventure', 'Action', 'Role-Playing', 'Miscellaneous', 'Action', 'Strategy', 'Action Adventure', 'Action', 'Action', 'Miscellaneous', 'Strategy', 'Action Adventure', 'Action', 'Action Adventure', 'Action', 'Adventure', 'Action Adventure', 'Adventure', 'Strategy', 'Miscellaneous', 'Role-Playing', 'Action', 'Action', 'Action', 'Driving', 'Miscellaneous', 'Adventure', 'Action', 'Action', 'Adventure', 'Action Adventure', 'Puzzle', 'Action', 'Strategy', 'Action', 'Action', 'Action', 'Action', 'Action', 'Action', 'Action', 'Action', 'Adventure', 'Role-Playing', 'Action', 'Action', 'Miscellaneous', 'Action Adventure', 'Adventure', 'Role-Playing', 'Action', 'General', 'Action', 'Fantasy', 'Driving', 'Miscellaneous', 'Action', 'Strategy', 'Adventure', 'Action', 'Simulation', 'Sports', 'Role-Playing', 'Action', 'Miscellaneous', 'Role-Playing', 'Role-Playing', 'Adventure', 'Action', 'Arcade', 'Adventure', 'Miscellaneous', 'Action', 'Role-Playing', 'Sports', 'Action', 'Miscellaneous', 'Action', 'Role-Playing', 'Sports', 'Action', 'Miscellaneous', 'Action', 'Role-Playing', 'Sports', 'Action', 'Miscellaneous', 'Action', 'Role-Playing', 'Sports', 'Action', 'Role-Playing', 'Action', 'Miscellaneous', 'Third-Person', 'Action Adventure', 'Action', 'Adventure', 'Miscellaneous', 'Action', 'Strategy', 'Driving', 'Action', 'Sports', 'Role-Playing', 'Action', 'Strategy', 'Role-Playing', 'Driving', 'Action Adventure', 'Strategy', 'Miscellaneous', 'Racing', 'Strategy', 'Action', 'Action Adventure', 'Role-Playing', 'Adventure', 'Breeding/Constructing', 'Simulation', 'Action Adventure', 'Action', 'Action', 'Sports', 'Action', 'Sci-Fi', 'Strategy', 'Action Adventure', 'Action', 'Action', 'Strategy', 'Role-Playing', 'Strategy', 'Action', 'Action Adventure', 'Role-Playing', 'Adventure', 'Adventure', 'Driving', 'Action Adventure', 'Driving', 'Action', 'Adventure', 'Action', 'Sports', 'Sports', 'Role-Playing', 'Adventure', 'Action Adventure', 'Role-Playing', 'Adventure', 'Action Adventure', 'Miscellaneous', 'Action', 'General', 'Role-Playing', 'Action', 'Driving', 'Action Adventure', 'Action', 'Miscellaneous', 'Action', 'General', 'Action', 'Strategy', 'Role-Playing', 'Adventure', 'Adventure', 'Action', 'Action Adventure', 'Action Adventure', 'Driving', 'Driving', 'Action Adventure', 'Role-Playing', 'Driving', 'Driving', 'Driving', 'Action Adventure', 'Role-Playing', 'Driving', 'Driving', 'Driving', 'Action Adventure', 'Role-Playing', 'Driving', 'Driving', 'Driving', 'Action Adventure', 'Role-Playing', 'Driving', 'Sports', 'Action Adventure', 'Miscellaneous', 'Strategy', 'Adventure', 'General', 'Miscellaneous', 'Sports', 'Role-Playing', 'Sports', 'Simulation', 'Miscellaneous', 'Action', 'Action', 'Puzzle', 'Action', 'Strategy', 'Miscellaneous', 'Strategy', 'Strategy', 'Strategy', 'Role-Playing', 'Miscellaneous', 'Fantasy', 'Action Adventure', 'Simulation', 'Miscellaneous', 'Action', 'Miscellaneous', 'Racing', 'Action', 'Role-Playing', 'Action Adventure', 'Action Adventure', 'Role-Playing', 'Action', 'Action', 'Action', 'Action', 'Miscellaneous', 'Role-Playing', 'Miscellaneous', 'Strategy', 'Role-Playing', 'Sports', 'Action', 'Action Adventure', 'Strategy', 'Simulation', 'Role-Playing', 'Action', 'Miscellaneous', 'Action', 'Action', 'Action', 'Driving', 'Action', 'Simulation', 'Adventure', 'Action Adventure', 'Puzzle', 'Action', 'Action Adventure', 'Action', 'Action', 'Miscellaneous', 'Miscellaneous', 'Racing', 'Action', 'Action Adventure', 'Sports', 'Action', 'Adventure', 'Action Adventure', 'Action', 'Miscellaneous', 'Role-Playing', 'Action', 'Driving', 'Simulation', 'Driving', 'Racing', 'Action Adventure', 'Miscellaneous', 'Action Adventure', 'Driving', 'Racing', 'Action Adventure', 'Miscellaneous', 'Action Adventure', 'Driving', 'Racing', 'Action Adventure', 'Miscellaneous', 'Action Adventure', 'Driving', 'Racing', 'Action Adventure', 'Miscellaneous', 'Action Adventure', 'Action', 'Action', 'Adventure', 'Action', 'Miscellaneous', 'Miscellaneous', 'Action', 'Miscellaneous', 'Simulation', 'Action', 'Action', 'Sports', 'Adventure', 'Strategy', 'Action', 'Role-Playing', 'Miscellaneous', 'Adventure', 'Action', 'Racing', 'Action', 'Sim', 'Role-Playing', 'Action', 'Action', 'Action', 'Strategy', 'Action', 'Action', 'Adventure', 'Platformer', 'Action Adventure', 'Action', 'Alternative', 'Action Adventure', 'Action Adventure', 'On GameFAQs', 'Simulation', 'Action', 'Action', 'Role-Playing', 'Adventure', 'Action', 'Fantasy', 'Sports', 'Action', 'Action', 'Sports', 'Strategy', 'Strategy', 'Strategy', 'Action', 'Sports', 'Miscellaneous', 'Action Adventure', 'Simulation', 'Sports', 'Racing', 'Action', 'Sports', 'Action Adventure', 'Action Adventure', 'Action', 'Strategy', 'Action Adventure', 'Role-Playing', 'Action', 'Sports', 'Action', 'Simulation', 'Simulation', 'Action', 'Action', 'Strategy', 'Role-Playing', 'Simulation', 'Miscellaneous', 'Action Adventure', 'Action', 'Puzzle', 'Adventure', 'Role-Playing', 'Action Adventure', 'Action Adventure', 'Sports', 'Adventure', 'Role-Playing', 'Action Adventure', 'Action Adventure', 'Sports', 'Adventure', 'Role-Playing', 'Action Adventure', 'Action Adventure', 'Sports', 'Adventure', 'Role-Playing', 'Action Adventure', 'Action Adventure', 'Sports', 'Action Adventure', 'Strategy', 'Adventure', 'Miscellaneous', 'Miscellaneous', 'Action', 'Sports', 'Action', 'Role-Playing', 'Sports', 'Action', 'Action Adventure', 'Action', 'Action Adventure', 'Adventure', 'Adventure', 'Role-Playing', 'Action', 'Driving', 'Action Adventure', 'Miscellaneous', 'Strategy', 'Action', 'Action Adventure', 'Action', 'Action Adventure', 'Role-Playing', 'Action', 'Sports', 'Action', 'Action', 'Action', 'Sports', 'Strategy', 'Action Adventure', 'Role-Playing', 'Sports', 'Action', 'Action', 'Strategy', 'Sports', 'Action', 'Action Adventure', 'Adventure', 'Driving', 'Miscellaneous', 'Sci-Fi', 'Sports', 'Action', 'Action Adventure', 'Adventure', 'Strategy', 'Sports', 'Action', 'General', 'Action', 'Role-Playing', 'Action Adventure', 'Action Adventure', 'Driving', 'Adventure', 'Adventure', 'Miscellaneous', 'Platformer', 'Action', 'Sports', 'Action Adventure', 'Action', 'Action Adventure', 'Strategy', 'Sports', 'Miscellaneous', 'Action', 'Role-Playing', 'Adventure', 'Action Adventure', 'Action Adventure', 'Action Adventure', 'Driving', 'Action Adventure', 'Action', 'Miscellaneous', 'Action', 'Adventure', 'Action', 'Action', 'Miscellaneous', 'Action', 'Adventure', 'Action', 'Action', 'Miscellaneous', 'Action', 'Adventure', 'Action', 'Action', 'Miscellaneous', 'Action', 'Adventure', 'Action', 'General', 'Role-Playing', 'Adventure', 'Action Adventure', 'Action Adventure', 'Driving', 'Action Adventure', 'Action', 'Simulation', 'Modern', 'Simulation', 'Sports', 'Sports', 'Action Adventure', 'Simulation', 'Action Adventure', 'Simulation', 'Action Adventure', 'Action Adventure', 'Role-Playing', 'Strategy', 'Action Adventure', 'Tycoon', 'Action Adventure', 'Action', 'Action', 'Role-Playing', 'Action', 'Role-Playing', 'Driving', 'Miscellaneous', 'Action', 'Driving', 'Action', 'Adventure', 'Action Adventure', 'Role-Playing', 'Simulation', 'Adventure', 'Role-Playing', 'Role-Playing', 'General', 'Action', 'Action Adventure', 'Role-Playing', 'Adventure', 'Action', 'Adventure', 'Action', 'Role-Playing', 'Action', 'Action', 'Strategy', 'Miscellaneous', 'Role-Playing', 'Adventure', 'Action', 'Action', 'Action Adventure', 'Adventure', 'Action', 'Strategy', 'Miscellaneous', 'Adventure', 'Driving', 'Action', 'Role-Playing', 'Miscellaneous', 'Driving', 'Action', 'Driving', 'Action', 'Action Adventure', 'General', 'Action Adventure', 'Action Adventure', 'Simulation', 'Role-Playing', 'Racing', 'Action', 'Action', 'Action', 'Role-Playing', 'Sports', 'Action', 'Action', 'Action', 'Role-Playing', 'Sports', 'Action', 'Action', 'Action', 'Role-Playing', 'Sports', 'Action', 'Action', 'Action', 'Role-Playing', 'Sports', 'Action', 'Strategy', 'Action Adventure', 'General', 'Action', 'Miscellaneous', 'Role-Playing', 'Action', 'Sports', 'Action', 'Action', 'Action Adventure', 'Action Adventure', 'Action', 'Role-Playing', 'Driving', 'Action Adventure', 'Role-Playing', 'First-Person', 'Strategy', 'Role-Playing', 'Role-Playing', 'Action', 'Puzzle', 'Simulation', 'Miscellaneous', 'Miscellaneous', 'Action', 'Racing', 'Adventure', 'Simulation', 'Strategy', 'Action', 'Miscellaneous', 'Action Adventure', 'Role-Playing', 'Action', 'Miscellaneous', 'Action', 'Action Adventure', 'Adventure', 'Action', 'Adventure', 'Strategy', 'Action', 'Adventure', 'Adventure', 'Racing', 'Strategy', 'Action Adventure', 'Adventure', 'Role-Playing', 'Racing', 'Adventure', 'Action', 'Adventure', 'Strategy', 'Adventure', 'Puzzle', 'Action Adventure', 'Action', 'Action', 'Action', 'Action', 'Driving', 'Action', 'Action', 'Action', 'Strategy', 'Simulation', 'Sports', 'Strategy', 'Miscellaneous', 'Action Adventure', 'Action', 'Simulation', 'Action', 'Strategy', 'Driving', 'Simulation', 'Sports', 'Action', 'Action', 'Strategy', 'Action', 'Action', 'Action', 'Action', 'Strategy', 'Action', 'Action', 'Action', 'Action', 'Strategy', 'Action', 'Action', 'Action', 'Action', 'Strategy', 'Action', 'Action', 'Action Adventure', 'Role-Playing', 'Sports', 'Action Adventure', 'Simulation', 'Miscellaneous', 'Action', 'Action', 'Action', 'Action', 'Action Adventure', 'Role-Playing', 'Strategy', 'Adventure', 'Sports', 'Action', 'Simulation', 'Role-Playing', 'Action', 'Action Adventure', 'Action Adventure', 'Action', 'Sports', 'Miscellaneous', 'Strategy', 'Strategy', 'Miscellaneous', 'Action', 'Action', 'Sports', 'Action Adventure', 'Action Adventure', 'Adventure', 'Shooter', 'Sports', 'Action', 'Action', 'Action', 'Action', 'Action', 'Miscellaneous', 'Action Adventure', 'Role-Playing', 'Strategy', 'Role-Playing', 'Action', 'Action Adventure', 'Action', 'Simulation', 'Adventure', 'Action Adventure', 'Action', 'Role-Playing', 'Strategy', 'Strategy', 'Simulation', 'Driving', 'Action', 'Action Adventure', 'Miscellaneous', 'Role-Playing', 'Strategy', 'Strategy', 'Strategy', 'Adventure', 'Strategy', 'Sports', 'Action', 'Action', 'Action', 'Action', 'Action', 'Horror', 'Action', 'Action', 'Action', 'Role-Playing', 'Action Adventure', 'Action', 'Strategy', 'Role-Playing', 'Driving', 'Miscellaneous', 'Action', 'Sports', 'Role-Playing', 'Driving', 'Miscellaneous', 'Action', 'Sports', 'Role-Playing', 'Driving', 'Miscellaneous', 'Action', 'Sports', 'Role-Playing', 'Driving', 'Miscellaneous', 'Action', 'Sports', 'Miscellaneous', 'Action', 'Action', 'Strategy', 'Miscellaneous', 'Action', 'Strategy', 'Action', 'Miscellaneous', 'Action', 'Modern', 'Strategy', 'Adventure', 'Action', 'Miscellaneous', 'Miscellaneous', 'Action', 'Action', 'Action', 'Role-Playing', 'Action Adventure', 'Adventure', 'Action Adventure', 'Action', 'Adventure', 'Action', 'Action', 'Miscellaneous', 'Racing', 'Driving', 'Action Adventure', 'Miscellaneous', 'Action', 'Action Adventure', 'Role-Playing', 'Strategy', 'Action', 'Fantasy', 'Role-Playing', 'Racing', 'Action', 'Action', 'Action', 'Sports', 'Action', 'Simulation', 'Action', 'Strategy', 'Action', 'Miscellaneous', 'Action', 'Action Adventure', 'Rally / Offroad', 'Action', 'Action Adventure', 'Action', 'Sports', 'Action', 'Action Adventure', 'Role-Playing', 'Action', 'Adventure', 'Racing', 'Miscellaneous', 'Adventure', 'Miscellaneous', 'Simulation', 'Horror', 'Action', 'Action', 'Role-Playing', 'Adventure', 'Sports', 'Strategy', 'Action', 'Strategy', 'Action', 'Adventure', 'Action', 'Racing', 'Fantasy', 'Adventure', 'Miscellaneous', 'Miscellaneous', 'Action', 'Fantasy', 'Adventure', 'Miscellaneous', 'Miscellaneous', 'Action', 'Fantasy', 'Adventure', 'Miscellaneous', 'Miscellaneous', 'Action', 'Fantasy', 'Adventure', 'Miscellaneous', 'Miscellaneous', 'Action', 'Role-Playing', 'Action Adventure', 'Role-Playing', 'Adventure', 'Action', 'Action Adventure', 'Miscellaneous', 'Miscellaneous', 'Action', 'Action', 'Action', 'Action', 'Miscellaneous', 'Action', 'Adventure', 'Adventure', 'Action', 'Action', 'Adventure', 'Role-Playing', 'Action', 'Action Adventure', 'Strategy', 'Puzzle', 'Puzzle', 'Strategy', 'Driving', 'Sports', 'Action Adventure', 'Action', 'Action', 'Adventure', 'Strategy', 'Adventure', 'Strategy', 'Action', 'Action', 'Action', 'Action', 'Action', 'Sports', 'Sports', 'Action', 'Action', 'Simulation', 'Action Adventure', 'Action', 'Miscellaneous', 'Action Adventure', 'Adventure', 'Adventure', 'Simulation', 'Action Adventure', 'Action', 'General', 'Strategy', 'Action', 'Strategy', 'Strategy', 'Action Adventure', 'Strategy', 'General', 'Action', 'Adventure', 'Action Adventure', 'Action', 'Miscellaneous', 'Action Adventure', 'Action', 'Action', 'Action', 'Action Adventure', 'Action', 'Adventure', 'Strategy', 'Role-Playing', 'Miscellaneous', 'Sci-Fi', 'Strategy', 'Action', 'Driving', 'Action', 'Adventure', 'Strategy', 'Strategy', 'Driving', 'Action', 'Adventure', 'Strategy', 'Strategy', 'Driving', 'Action', 'Adventure', 'Strategy', 'Strategy', 'Driving', 'Action', 'Adventure', 'Strategy', 'Strategy', 'Strategy', 'Sports', 'Role-Playing', 'Action Adventure', 'Action Adventure', 'Action', 'Action', 'Adventure', 'Action', 'Action', 'Adventure', 'Strategy', 'Adventure', 'Military', 'Action Adventure', 'Strategy', 'Adventure', 'Strategy', 'Horror', 'Action', 'Sports', 'Action', 'Strategy', 'Action', 'Adventure', 'Action Adventure', 'Strategy', 'Strategy', 'Action', 'Action', 'Action', 'Adventure', 'Role-Playing', 'Action', 'Sports', 'Strategy', 'Action', 'Action', 'Simulation', 'Action', 'Action', 'Miscellaneous', 'Sports', 'Action', 'Action', 'Action Adventure', 'Action Adventure', 'Action', 'Puzzle', 'Adventure', 'Role-Playing', 'Action', 'Action Adventure', 'Miscellaneous', 'Adventure', 'Action', 'Action Adventure', 'Action', 'Action', 'Action Adventure', 'Adventure', 'Action', 'Adventure', 'Role-Playing', 'Miscellaneous', 'Role-Playing', 'Simulation', 'Role-Playing', 'Action Adventure', 'Role-Playing', 'Action', 'Action Adventure', 'Action', 'Action Adventure', 'Action Adventure', 'Action', 'Action', 'Role-Playing', 'Action', 'Action', 'Action', 'Action', 'Puzzle', 'Role-Playing', 'Action', 'Action', 'Action', 'Puzzle', 'Role-Playing', 'Action', 'Action', 'Action', 'Puzzle', 'Role-Playing', 'Action', 'Action', 'Action', 'Puzzle', 'Role-Playing', 'Action', 'Strategy', 'Action', 'Action', 'Miscellaneous', 'Action', 'Sports', 'Action Adventure', 'Action', 'Sports', 'Action', 'Driving', 'Adventure', 'Action', 'Role-Playing', 'Action', 'Action', 'Puzzle', 'Action Adventure', 'Racing', 'Action', 'Miscellaneous', 'Adventure', 'Adventure', 'Action', 'Strategy', 'Role-Playing', 'Action', 'Action', 'Action', 'Action', 'Action', 'Sports', 'Action', 'Miscellaneous', 'Racing', 'Action', 'Adventure', 'Action', 'Role-Playing', 'Strategy', 'Action', 'Action', 'Strategy', 'Action', 'Action', 'Action', 'No Online Multiplayer', 'Action', 'Miscellaneous', 'Miscellaneous', 'Action', 'Strategy', 'Action', 'Action', 'Action', 'Miscellaneous', 'Role-Playing', 'Action Adventure', 'Simulation', 'Action Adventure', 'Role-Playing', 'Strategy', 'Action', 'Action', 'Role-Playing', 'Action Adventure', 'Adventure', 'Adventure', 'Role-Playing', 'Puzzle', 'Driving', 'Sports', 'Action', 'Role-Playing', 'Action', 'Action', 'Miscellaneous', 'Sci-Fi', 'Action', 'Sports', 'Action Adventure', 'Action Adventure', 'Modern', 'Miscellaneous', 'Role-Playing', 'Action Adventure', 'Action Adventure', 'Modern', 'Miscellaneous', 'Role-Playing', 'Action Adventure', 'Action Adventure', 'Modern', 'Miscellaneous', 'Role-Playing', 'Action Adventure', 'Action Adventure', 'Modern', 'Miscellaneous', 'Role-Playing', 'Strategy', 'Strategy', 'Strategy', 'Shooter', 'Sports', 'Strategy', 'Action Adventure', 'Racing', 'Adventure', 'Action', 'Action', 'Racing', 'Role-Playing', 'Action', 'Driving', 'Action', 'Racing', 'Sports', 'Adventure', 'Adventure', 'Role-Playing', 'Action', 'Racing', 'Strategy', 'Action', 'Miscellaneous', 'Action Adventure', 'Role-Playing', 'Role-Playing', 'Sports', 'Sports', 'Sports', 'Action', 'Adventure', 'Strategy', 'Action Adventure', 'Action', 'Action', 'Action', 'General', 'Action', 'Strategy', 'Sports', 'Action', 'Action', 'Miscellaneous', 'Driving', 'Action Adventure', 'Adventure', 'Adventure', 'Strategy', 'Action', 'Action', 'Action', 'Role-Playing', 'Adventure', 'Action Adventure', 'Action', 'Strategy', 'Role-Playing', 'Strategy', 'Action Adventure', 'Racing', 'Miscellaneous', 'Action Adventure', 'Role-Playing', 'Action', 'Strategy', 'Action', 'Sports', 'Miscellaneous', 'Driving', 'Action', 'Action', 'Action', 'Historic', 'Miscellaneous', 'Miscellaneous', 'Role-Playing', 'Action', 'Role-Playing', 'Action', 'Simulation', 'Strategy', 'Strategy', 'Role-Playing', 'Action', 'Simulation', 'Strategy', 'Strategy', 'Role-Playing', 'Action', 'Simulation', 'Strategy', 'Strategy', 'Role-Playing', 'Action', 'Simulation', 'Strategy', 'Strategy', 'Action', 'Action Adventure', 'Simulation', 'Role-Playing', 'Action Adventure', 'Role-Playing', 'Simulation', 'Strategy', 'Action Adventure', 'Role-Playing', 'Action', 'Action', 'Action', 'Action Adventure', 'Racing', 'Action Adventure', 'Driving', 'Role-Playing', 'Simulation', 'Action', 'Strategy', 'Strategy', 'Strategy', 'Miscellaneous', 'Strategy', 'Action', 'Adventure', 'Strategy', 'Simulation', 'Racing', 'Action', 'Sports', 'Role-Playing', 'Action Adventure', 'Strategy', 'Strategy', 'Action', 'Role-Playing', 'Action', 'Driving', 'Action Adventure', 'Action Adventure', 'Adventure', 'Action', 'Action', 'Driving', 'Action', 'Action', 'Action', 'Action', 'Racing', 'Action Adventure', 'Action', 'Action Adventure', 'Adventure', 'Racing', 'Action', 'Sports', 'Action', 'Adventure', 'Action', 'Action', 'Strategy', 'Role-Playing', 'Role-Playing', 'Action', 'Sports', 'Puzzle', 'General', 'Action Adventure', 'Action', 'Adventure', 'General', 'Action Adventure', 'Role-Playing', 'Miscellaneous', 'Driving', 'Action', 'Adventure', 'Miscellaneous', 'Role-Playing', 'Miscellaneous', 'Strategy', 'Adventure', 'Action', 'Role-Playing', 'Miscellaneous', 'Strategy', 'Adventure', 'Action', 'Role-Playing', 'Miscellaneous', 'Strategy', 'Adventure', 'Action', 'Role-Playing', 'Miscellaneous', 'Strategy', 'Adventure', 'Action', 'Strategy', 'Adventure', 'Action Adventure', 'Action', 'Action', 'Action', 'Miscellaneous', 'Action Adventure', 'Action', 'Puzzle', 'Miscellaneous', 'Action', 'Action', 'Action', 'Action', 'Strategy', 'Adventure', 'Action', 'Action', 'Action', 'Action', 'Action', 'Action', 'Action', 'Role-Playing', 'Action', 'Strategy', 'Action Adventure', 'Strategy', 'Horror', 'Role-Playing', 'Action', 'Role-Playing', 'Action', 'Action Adventure', 'Action', 'Modern', 'Adventure', 'Action Adventure', 'Role-Playing', 'Action', 'Action Adventure', 'Strategy', 'Role-Playing', 'Role-Playing', 'Action', 'Miscellaneous', 'Role-Playing', 'Action', 'Action', 'Action', 'Action Adventure', 'Action Adventure', 'Strategy', 'Role-Playing', 'Miscellaneous', 'Action', 'Action Adventure', 'Racing', 'Action', 'Racing', 'General', 'Action', 'Action', 'Action Adventure', 'Modern', 'Action Adventure', 'Action', 'Action', 'Action', 'Role-Playing', 'Miscellaneous', 'Action', 'Role-Playing', 'Action', 'Role-Playing', 'Role-Playing', 'Role-Playing', 'Action', 'Action', 'Driving', 'Simulation', 'Action Adventure', 'Action Adventure', 'Driving', 'Driving', 'Simulation', 'Action Adventure', 'Action Adventure', 'Driving', 'Driving', 'Simulation', 'Action Adventure', 'Action Adventure', 'Driving', 'Driving', 'Simulation', 'Action Adventure', 'Action Adventure', 'Driving', 'Simulation', 'Driving', 'Role-Playing', 'Action', 'Action', 'Platformer', 'Action', 'Role-Playing', 'Racing', 'Miscellaneous', 'Action', 'Driving', 'Role-Playing', 'General', 'Sports', 'Racing', 'Action', 'Action Adventure', 'Role-Playing', 'Action', 'Role-Playing', 'Action', 'Action', 'Strategy', 'Sports', 'Action', 'Racing', 'Sports', 'Strategy', 'Action', 'Strategy', 'Adventure', 'Miscellaneous', 'Action', 'Adventure', 'Action', 'Action', 'Action', 'Sports', 'Sports', 'Action Adventure', 'Action', 'Sports', 'Action Adventure', 'Action', 'Action', 'Strategy', 'Action', 'Adventure', 'Action', 'Action', 'Action', 'Action', 'Sports', 'Driving', 'Action Adventure', 'Racing', 'Action', 'Action', 'Action Adventure', 'Role-Playing', 'Sports', 'Action', 'Miscellaneous', 'Adventure', 'Adventure', 'Action Adventure', 'Miscellaneous', 'Role-Playing', 'Action', 'Action Adventure', 'Strategy', 'Adventure', 'Adventure', 'Adventure', 'Action', 'Role-Playing', 'Horror', 'Action', 'Simulation', 'Driving', 'Role-Playing', 'Miscellaneous', 'Adventure', 'Strategy', 'Driving', 'Role-Playing', 'Miscellaneous', 'Adventure', 'Strategy', 'Driving', 'Role-Playing', 'Miscellaneous', 'Adventure', 'Strategy', 'Driving', 'Role-Playing', 'Miscellaneous', 'Adventure', 'Strategy', 'Strategy', 'Horror', 'Action', 'Action', 'Action Adventure', 'Sports', 'Sports', 'Strategy', 'Action', 'Adventure', 'Sports', 'Japanese-Style', 'Strategy', 'Strategy', 'Action', 'Miscellaneous', 'Role-Playing', 'Action', 'Strategy', 'Adventure', 'Action Adventure', 'Action', 'Action', 'Action', 'Action', 'Role-Playing', 'Adventure', 'Role-Playing', 'Driving', 'Action', 'Action', 'Action Adventure', 'Action Adventure', 'Action Adventure', 'Strategy', 'Action', 'Adventure', 'Miscellaneous', 'Action', 'Action', 'Action Adventure', 'Action', 'Action Adventure', 'Action', 'Sports', 'Action Adventure', 'Action', 'Action', 'Strategy', 'Action', 'Action', 'Strategy', 'Action', 'Adventure', 'Sports', 'Action', 'Action', 'Role-Playing', 'Action Adventure', 'Action', 'Sports', 'Miscellaneous', 'Sports', 'Role-Playing', 'Action', 'Action Adventure', 'Miscellaneous', 'Role-Playing', 'Miscellaneous', 'Adventure', 'Action', 'Racing', 'Racing', 'Shooter', 'Strategy', 'Role-Playing', 'Racing', 'Simulation', 'Strategy', 'Strategy', 'Action Adventure', 'Racing', 'Strategy', 'Action', 'Miscellaneous', 'Action Adventure', 'Racing', 'Strategy', 'Action', 'Miscellaneous', 'Action Adventure', 'Racing', 'Strategy', 'Action', 'Miscellaneous', 'Action Adventure', 'Racing', 'Strategy', 'Action', 'Miscellaneous', 'Action Adventure', 'Adventure', 'Action Adventure', 'Sports', 'Action', 'Strategy', 'Role-Playing', 'Action Adventure', 'Strategy', 'Action', 'Simulation', 'Role-Playing', 'Action Adventure', 'Miscellaneous', 'Adventure', 'Role-Playing', 'Strategy', 'Adventure', 'Action', 'Role-Playing', 'Role-Playing', 'Action', 'Role-Playing', 'Sports', 'Sports', 'Sports', 'Sports', 'Simulation', 'Action', 'Strategy', 'Miscellaneous', 'Action', 'Action', 'Action', 'Miscellaneous', 'Strategy', 'Role-Playing', 'Role-Playing', 'Action', 'Action', 'Action', 'Action Adventure', 'Simulation', 'Role-Playing', 'Role-Playing', 'Action', 'Adventure', 'Strategy', 'Miscellaneous', 'Role-Playing', 'Sports', 'Action', 'Adventure', 'Sports', 'Action Adventure', 'Action', 'Sports', 'Driving', 'Action', 'Action Adventure', 'Action', 'Action Adventure', 'Action Adventure', 'Adventure', 'Strategy', 'Adventure', 'Action', 'Sports', 'Action', 'Sports', 'Action Adventure', 'Sports', 'Action', 'Action', 'Sports', 'Action', 'Shooter', 'Platformer', 'Action', 'Action', 'Miscellaneous', 'Role-Playing', 'Driving', 'Role-Playing', 'Miscellaneous', 'Miscellaneous', 'Role-Playing', 'Driving', 'Role-Playing', 'Miscellaneous', 'Miscellaneous', 'Role-Playing', 'Driving', 'Role-Playing', 'Miscellaneous', 'Miscellaneous', 'Role-Playing', 'Driving', 'Role-Playing', 'Miscellaneous', 'Adventure', 'Action', 'Action Adventure', 'Action', 'Action', 'Simulation', 'Action Adventure', 'Action Adventure', 'Simulation', 'Action', 'Action Adventure', 'Miscellaneous', 'Miscellaneous', 'Sports', 'Role-Playing', 'Driving', 'Action', 'Miscellaneous', 'Action', 'Role-Playing', 'Driving', 'Action', 'Sports', 'Racing', 'Role-Playing', 'Role-Playing', 'Adventure', 'Action Adventure', 'Action', 'Action', 'Action', 'Action', 'Music', 'Action', 'Sports', 'Miscellaneous', 'Simulation', 'General', 'Action Adventure', 'Action Adventure', 'Strategy', 'Action', 'Action', 'Strategy', 'Action', 'Role-Playing', 'Action Adventure', 'Action', 'Action', 'Strategy', 'Action', 'Action', 'Role-Playing', 'Puzzle', 'Miscellaneous', 'Action', 'Action', 'Action', 'Role-Playing', 'Action', 'Action', 'Action', 'Driving', 'Driving', 'Driving', 'Driving', 'Action', 'Sports', 'Action', 'Action Adventure', 'Action Adventure', 'Action', 'Miscellaneous', 'Action', 'Miscellaneous', 'Action', 'Driving', 'Action Adventure', 'Miscellaneous', 'Miscellaneous', 'Action', 'On GameFAQs', 'Action', 'Simulation', 'Action', 'Action', 'On GameFAQs', 'Action', 'Simulation', 'Action', 'Action', 'On GameFAQs', 'Action', 'Simulation', 'Action', 'Action', 'On GameFAQs', 'Action', 'Simulation', 'Action', 'Strategy', 'Miscellaneous', 'Strategy', 'Action', 'Action', 'Action Adventure', 'Role-Playing', 'Action Adventure', 'Action', 'Role-Playing', 'Action', 'Action', 'Miscellaneous', 'Strategy', 'Action', 'Action', 'Action', 'Action', 'Sports', 'Role-Playing', 'Sports', 'Action', 'Simulation', 'Racing', 'Action', 'Role-Playing', 'Role-Playing', 'Action Adventure', 'Adventure', 'Action', 'Miscellaneous', 'Action', 'Action', 'Action', 'Action', 'Miscellaneous', 'Miscellaneous', 'Miscellaneous', 'Action', 'Strategy', 'Simulation', 'Driving', 'Action', 'Action Adventure', 'Action', 'Role-Playing', 'Action', 'Action', 'Miscellaneous', 'Role-Playing', 'General', 'Miscellaneous', 'Role-Playing', 'Action', 'Action', 'Driving', 'Miscellaneous', 'Sports', 'Strategy', 'Sports', 'Action', 'Sports', 'Action', 'Racing', 'Action Adventure', 'Action Adventure', 'Strategy', 'Action', 'Miscellaneous', 'Adventure', 'Action Adventure', 'Adventure', 'Sports', 'Action', 'Action Adventure', 'Simulation', 'Action Adventure', 'Strategy', 'Action Adventure', 'Miscellaneous', 'Driving', 'Role-Playing', 'Action', 'Role-Playing', 'Action', 'Driving', 'Role-Playing', 'Action', 'Role-Playing', 'Action', 'Driving', 'Role-Playing', 'Action', 'Role-Playing', 'Action', 'Driving', 'Role-Playing', 'Action', 'Role-Playing', 'Action', 'Action Adventure', 'Action Adventure', 'Action Adventure', 'Role-Playing', 'Action', 'Racing', 'Adventure', 'Action', 'Strategy', 'Simulation', 'Miscellaneous', 'Role-Playing', 'Action', 'Puzzle', 'Simulation', 'Adventure', 'Action', 'Role-Playing', 'Strategy', 'Action', 'Simulation', 'General', 'Miscellaneous', 'Action', 'Action', 'Action Adventure', 'Action', 'Action', 'Strategy', 'Action', 'Sports', 'Strategy', 'Miscellaneous', 'Sci-Fi', 'Action Adventure', 'Action Adventure', 'Action Adventure', 'Adventure', 'Action', 'Simulation', 'Action Adventure', 'Adventure', 'Sports', 'Action', 'Action', 'Miscellaneous', 'Racing', 'Strategy', 'Role-Playing', 'Strategy', 'Miscellaneous', 'Strategy', 'Role-Playing', 'Action', 'Action Adventure', 'Role-Playing', 'Strategy', 'Action Adventure', 'Driving', 'Role-Playing', 'Strategy', 'Miscellaneous', 'Action', 'Role-Playing', 'Role-Playing', 'Action', 'Role-Playing', 'Action Adventure', 'Role-Playing', 'Adventure', 'Action Adventure', 'Role-Playing', 'Strategy', 'Role-Playing', 'Adventure', 'Action', 'Simulation', 'Action Adventure', 'Sports', 'Action', 'General', 'Action Adventure', 'Action Adventure', 'Action', 'Action', 'General', 'Action Adventure', 'Action Adventure', 'Action', 'Action', 'General', 'Action Adventure', 'Action Adventure', 'Action', 'Action', 'General', 'Action Adventure', 'Action Adventure', 'Action', 'Action', 'Action', 'Action Adventure', 'Action Adventure', 'Role-Playing', 'On GameFAQs', 'Action', 'Action Adventure', 'Action', 'Action', 'Sports', 'Adventure', 'Miscellaneous', 'Action', 'Action', 'Driving', 'Miscellaneous', 'Miscellaneous', 'Action Adventure', 'Action Adventure', 'Action', 'Role-Playing', 'Miscellaneous', 'Action', 'Action', 'Sports', 'Action', 'Action', 'Role-Playing', 'Action', 'Action', 'Role-Playing', 'Role-Playing', 'Racing', 'Adventure', 'Action', 'Adventure', 'Strategy', 'Action Adventure', 'Action Adventure', 'Action', 'Strategy', 'Sports', 'General', 'Sports', 'Strategy', 'Action', 'Sports', 'Role-Playing', 'Role-Playing', 'Role-Playing', 'Action', 'Miscellaneous', 'Role-Playing', 'Action', 'Sports', 'Action', 'Adventure', 'Action', 'Miscellaneous', 'Miscellaneous', 'Action Adventure', 'Action', 'Driving', 'Sports', 'Action', 'Action', 'Sports', 'Driving', 'Sports', 'General', 'Action Adventure', 'Adventure', 'Action', 'Action', 'Action Adventure', 'Action', 'Miscellaneous', 'Strategy', 'Puzzle', 'Role-Playing', 'Simulation', 'Action', 'Role-Playing', 'Miscellaneous', 'Strategy', 'Simulation', 'Action', 'Role-Playing', 'Miscellaneous', 'Strategy', 'Simulation', 'Action', 'Role-Playing', 'Miscellaneous', 'Strategy', 'Simulation', 'Action', 'Role-Playing', 'Miscellaneous', 'Strategy', 'Adventure', 'General', 'Action Adventure', 'Sports', 'Role-Playing', 'Action', 'Strategy', 'Action', 'Strategy', 'Action', 'Adventure', 'Modern', 'Action', 'Action Adventure', 'Role-Playing', 'Miscellaneous', 'Adventure', 'Puzzle', 'Simulation', 'Strategy', 'Strategy', 'Strategy', 'Action', 'Sports', 'Simulation', 'Driving', 'Simulation', 'Action', 'Adventure', 'Action', 'Simulation', 'Strategy', 'Strategy', 'Action', 'Action Adventure', 'Sports', 'Simulation', 'Action', 'Action', 'Strategy', 'Role-Playing', 'Action', 'Action', 'Action', 'Role-Playing', 'Action', 'Sports', 'Action Adventure', 'Simulation', 'Adventure', 'Strategy', 'Action', 'Action', 'Racing', 'Simulation', 'Action', 'Action', 'Driving', 'Action', 'Action', 'Action', 'Racing', 'Adventure', 'Adventure', 'Action', 'Strategy', 'Action', 'General', 'Sports', 'Adventure', 'Action', 'Action', 'Driving', 'Role-Playing', 'Action Adventure', 'Simulation', 'Racing', 'Action', 'Adventure', 'Role-Playing', 'Strategy', 'Action', 'Driving', 'Sports', 'Action Adventure', 'Strategy', 'Action', 'Driving', 'Sports', 'Action Adventure', 'Strategy', 'Action', 'Driving', 'Sports', 'Action Adventure', 'Strategy', 'Action', 'Driving', 'Sports', 'Action Adventure', 'Miscellaneous', 'Sports', 'Simulation', 'Strategy', 'Strategy', 'Action', 'Action', 'Role-Playing', 'Action', 'Action', 'Action Adventure', 'Role-Playing', 'Action', 'Miscellaneous', 'Action', 'Fantasy', 'Role-Playing', 'Action', 'Strategy', 'Action', 'Horror', 'Action Adventure', 'Adventure', 'Action', 'Role-Playing', 'Puzzle', 'Miscellaneous', 'Sports', 'Action', 'Modern', 'General', 'Role-Playing', 'Action', 'Action Adventure', 'Action Adventure', 'Strategy', 'Action', 'Role-Playing', 'Action', 'Action Adventure', 'Action', 'Action Adventure', 'Action Adventure', 'Action', 'Driving', 'Adventure', 'Action', 'Miscellaneous', 'Action Adventure', 'Role-Playing', 'Sports', 'Strategy', 'Action', 'Adventure', 'Strategy', 'Miscellaneous', 'Strategy', 'Role-Playing', 'Simulation', 'Action', 'Sports', 'Sports', 'Action', 'Miscellaneous', 'Action', 'Adventure', 'Action Adventure', 'Role-Playing', 'Role-Playing', 'Action Adventure', 'Sports', 'Action', 'Strategy', 'Action Adventure', 'Strategy', 'Role-Playing', 'Action Adventure', 'Action', 'Driving', 'Sports', 'Adventure', 'Strategy', 'Action', 'General', 'Sports', 'Adventure', 'Strategy', 'Action', 'General', 'Sports', 'Adventure', 'Strategy', 'Action', 'General', 'Sports', 'Adventure', 'Strategy', 'Action', 'General', 'Sports', 'Adventure', 'Action', 'Adventure', 'Action', 'Role-Playing', 'Role-Playing', 'Sports', 'Driving', 'Simulation', 'Action', 'Miscellaneous', 'Action Adventure', 'Miscellaneous', 'Strategy', 'Action Adventure', 'Puzzle', 'Sports', 'Action', 'Adventure', 'Action', 'Miscellaneous', 'Simulation', 'Action', 'Action', 'Strategy', 'Action', 'Action', 'Action', 'Action', 'Action', 'Strategy', 'Action', 'Action Adventure', 'Action', 'Strategy', 'Action', 'Simulation', 'Role-Playing', 'General', 'Role-Playing', 'Sports', 'Modern', 'Action', 'Action Adventure', 'Adventure', 'Action', 'Action Adventure', 'Simulation', 'Action Adventure', 'Role-Playing', 'Adventure', 'Action Adventure', 'Action', 'Action', 'Puzzle', 'Role-Playing', 'Action', 'Role-Playing', 'Miscellaneous', 'Action', 'Puzzle', 'Miscellaneous', 'Action', 'Action Adventure', 'Action', 'Action Adventure', 'Action', 'Action Adventure', 'General', 'Action', 'Driving', 'Role-Playing', 'Role-Playing', 'Action', 'Strategy', 'Action Adventure', 'Sports', 'Action', 'Driving', 'Sports', 'Action', 'Strategy', 'Sports', 'Adventure', 'Driving', 'Action', 'Strategy', 'Sports', 'Adventure', 'Driving', 'Action', 'Strategy', 'Sports', 'Adventure', 'Driving', 'Action', 'Strategy', 'Sports', 'Adventure', 'Driving', 'Strategy', 'Action', 'Miscellaneous', 'Miscellaneous', 'Action Adventure', 'Action', 'Miscellaneous', 'Action Adventure', 'Action', 'Action', 'Simulation', 'Simulation', 'Action', 'Action', 'Sports', 'Action', 'Action', 'Action Adventure', 'Action', 'Adventure', 'Sports', 'Action Adventure', 'Action Adventure', 'Sports', 'Action', 'Action', 'Sports', 'Miscellaneous', 'Action', 'Action', 'Role-Playing', 'Action Adventure', 'Action Adventure', 'Strategy', 'Action', 'Sports', 'Strategy', 'Adventure', 'Sports', 'Adventure', 'Role-Playing', 'Role-Playing', 'Action Adventure', 'General', 'General', 'Action', 'Driving', 'Miscellaneous', 'Action Adventure', 'Action Adventure', 'Action', 'Action', 'Action', 'Strategy', 'Sports', 'Action', 'Strategy', 'Action', 'Strategy', 'Role-Playing', 'Strategy', 'Action', 'Puzzle', 'Action Adventure', 'Adventure', 'Action', 'Action', 'Action', 'Action', 'Action Adventure', 'Role-Playing', 'Action', 'Role-Playing', 'Action', 'Action', 'Action', 'Adventure', 'Action Adventure', 'Strategy', 'Action', 'Racing', 'Strategy', 'Modern', 'Strategy', 'Action', 'Racing', 'Strategy', 'Modern', 'Strategy', 'Action', 'Racing', 'Strategy', 'Modern', 'Strategy', 'Action', 'Racing', 'Strategy', 'Modern', 'Strategy', 'Action', 'Miscellaneous', 'Shooter', 'Driving', 'Action Adventure', 'Role-Playing', 'Action', 'Strategy', 'Strategy', 'Action Adventure', 'Action', 'Action Adventure', 'Miscellaneous', 'Puzzle', 'Action', 'Action', 'Miscellaneous', 'Driving', 'Action', 'Strategy', 'Action Adventure', 'Action Adventure', 'Strategy', 'Action Adventure', 'Action', 'Sports', 'Action', 'Action', 'Racing', 'Simulation', 'Miscellaneous', 'Strategy', 'Driving', 'Role-Playing', 'Adventure', 'Action', 'Adventure', 'Action', 'Miscellaneous', 'Role-Playing', 'Strategy', 'Sports', 'Driving', 'Action', 'Action Adventure', 'Action Adventure', 'Strategy', 'Action', 'Role-Playing', 'Adventure', 'Racing', 'General', 'Miscellaneous', 'Adventure', 'Action', 'Racing', 'Action', 'Action RPG', 'Adventure', 'Action', 'Strategy', 'Action', 'Action', 'Action', 'Action', 'Action Adventure', 'Action', 'Role-Playing', 'Adventure', 'Driving', 'Sports', 'Racing', 'Action', 'Role-Playing', 'Action', 'Adventure', 'Puzzle', 'Action', 'Action Adventure', 'Puzzle', 'Action', 'Simulation', 'General', 'Action', 'Adventure', 'Driving', 'Simulation', 'General', 'Action', 'Adventure', 'Driving', 'Simulation', 'General', 'Action', 'Adventure', 'Driving', 'Simulation', 'General', 'Action', 'Adventure', 'Driving', 'Role-Playing', 'Strategy', 'Strategy', 'Sports', 'Sports', 'Action', 'Driving', 'Adventure', 'Role-Playing', 'Action Adventure', 'Action', 'Action', 'Role-Playing', 'Sports', 'Role-Playing', 'Sports', 'Action Adventure', 'Action', 'Action', 'Adventure', 'Action', 'Action Adventure', 'Action', 'Sports', 'Adventure', 'Action Adventure', 'Action', 'Strategy', 'Adventure', 'Platformer', 'Action Adventure', 'General', 'Role-Playing', 'Action', 'Action', 'Role-Playing', 'Strategy', 'Adventure', 'Puzzle', 'Strategy', 'Action Adventure', 'Action Adventure', 'Strategy', 'Action', 'Miscellaneous', 'Miscellaneous', 'Action', 'Simulation', 'Driving', 'Sports', 'Action', 'Miscellaneous', 'Action', 'Miscellaneous', 'Simulation', 'Role-Playing', 'Action', 'Sports', 'Action', 'Action Adventure', 'Sports', 'Action', 'Action', 'Role-Playing', 'Driving', 'Action Adventure', 'Action Adventure', 'Role-Playing', 'Action Adventure', 'Role-Playing', 'Action', 'Action', 'Action', 'Simulation', 'Action', 'Action', 'Simulation', 'Strategy', 'Action Adventure', 'Sports', 'Miscellaneous', 'Action', 'Role-Playing', 'Strategy', 'Strategy', 'Miscellaneous', 'Action', 'Role-Playing', 'Strategy', 'Strategy', 'Miscellaneous', 'Action', 'Role-Playing', 'Strategy', 'Strategy', 'Miscellaneous', 'Action', 'Role-Playing', 'Strategy', 'Strategy', 'Miscellaneous', 'Miscellaneous', 'Miscellaneous', 'Action', 'Role-Playing', 'Action', 'Role-Playing', 'Fantasy', 'Action', 'Adventure', 'Action', 'Role-Playing', 'Action', 'Action', 'Role-Playing', 'Driving', 'Action', 'Action', 'Sports', 'Action', 'Action', 'Simulation', 'Action', 'Role-Playing', 'Adventure', 'Sports', 'Action', 'Adventure', 'Action', 'Historic', 'Action', 'Action', 'General', 'Action', 'Action Adventure', 'Action', 'Action', 'Action Adventure', 'Role-Playing', 'Action Adventure', 'Action', 'Action Adventure', 'Strategy', 'Strategy', 'Action', 'Miscellaneous', 'Strategy', 'Simulation', 'Action', 'Racing', 'Sports', 'Miscellaneous', 'Sports', 'Role-Playing', 'Adventure', 'Action', 'Racing', 'Action', 'Action Adventure', 'Action', 'Adventure', 'Action Adventure', 'Sports', 'Action Adventure', 'Action Adventure', 'Action Adventure', 'Action Adventure', 'Adventure', 'Action', 'Adventure', 'Action', 'Action Adventure', 'Sports', 'Strategy', 'Driving', 'Miscellaneous', 'Action', 'Driving', 'Action', 'Miscellaneous', 'Sci-Fi', 'Action', 'Role-Playing', 'Action', 'Action', 'Sci-Fi', 'Action', 'Role-Playing', 'Action', 'Action', 'Sci-Fi', 'Action', 'Role-Playing', 'Action', 'Action', 'Sci-Fi', 'Action', 'Role-Playing', 'Action', 'Action', 'Action Adventure', 'Action Adventure', 'Action', 'Action', 'Action', 'Action', 'Adventure', 'Action Adventure', 'Adventure', 'Action', 'Action', 'Action', 'Miscellaneous', 'Miscellaneous', 'Action Adventure', 'Action', 'Action', 'Action', 'Miscellaneous', 'Strategy', 'Action', 'Simulation', 'Action Adventure', 'Role-Playing', 'Action', 'Role-Playing', 'Driving', 'Racing', 'Action', 'Action', 'Action', 'Action', 'Sports', 'Strategy', 'Miscellaneous', 'Racing', 'Action', 'Adventure', 'Miscellaneous', 'Action', 'Sports', 'Simulation', 'Action', 'Action', 'Adventure', 'Role-Playing', 'Simulation', 'Puzzle', 'Action', 'Action', 'Sports', 'Action', 'Action', 'Action Adventure', 'Shooter', 'Miscellaneous', 'Action', 'Action Adventure', 'Action', 'Action', 'Action Adventure', 'Sports', 'Strategy', 'Role-Playing', 'Action Adventure', 'Sports', 'Action Adventure', 'Action', 'Puzzle', 'Sports', 'Miscellaneous', 'Action', 'Strategy', 'Simulation', 'Action', 'Strategy', 'Sports', 'Action Adventure', 'Action Adventure', 'Sports', 'Action Adventure', 'Action', 'Driving', 'Miscellaneous', 'Strategy', 'Action Adventure', 'Action', 'Driving', 'Miscellaneous', 'Strategy', 'Action Adventure', 'Action', 'Driving', 'Miscellaneous', 'Strategy', 'Action Adventure', 'Action', 'Driving', 'Miscellaneous', 'Strategy', 'Action', 'Driving', 'Action', 'Role-Playing', 'Strategy', 'Role-Playing', 'Action Adventure', 'Action', 'Action', 'Role-Playing', 'Adventure', 'Action', 'Action', 'Action', 'Action Adventure', 'Action Adventure', 'Sports', 'Action', 'Miscellaneous', 'Action Adventure', 'Action', 'Action', 'Action', 'Action', 'Role-Playing', 'General', 'Role-Playing', 'Action', 'Action Adventure', 'Action', 'Action Adventure', 'Action', 'Strategy', 'Action', 'Adventure', 'Action', 'Action', 'Adventure', 'Action Adventure', 'Action', 'Driving', 'Miscellaneous', 'Role-Playing', 'Action', 'Adventure', 'Action', 'Miscellaneous', 'Action', 'Action', 'General', 'Role-Playing', 'Action', 'Role-Playing', 'Role-Playing', 'Role-Playing', 'Action', 'Role-Playing', 'Sports', 'Strategy', 'Miscellaneous', 'Action', 'Role-Playing', 'Action', 'Adventure', 'Action', 'Sci-Fi', 'Strategy', 'Action Adventure', 'Role-Playing', 'Action Adventure', 'Action', 'Racing', 'Puzzle', 'Miscellaneous', 'Action Adventure', 'Driving', 'Action Adventure', 'Action', 'Action Adventure', 'Sports', 'Miscellaneous', 'Action', 'Action', 'Sports', 'Action', 'Miscellaneous', 'Action', 'Action', 'Sports', 'Action', 'Miscellaneous', 'Action', 'Action', 'Sports', 'Action', 'Miscellaneous', 'Action', 'Action', 'Sports', 'Action', 'Sports', 'Miscellaneous', 'Miscellaneous', 'Miscellaneous', 'Role-Playing', 'Role-Playing', 'Miscellaneous', 'Action', 'Role-Playing', 'Racing', 'Role-Playing', 'Action', 'Action', 'Role-Playing', 'Action Adventure', 'Action Adventure', 'Simulation', 'Action', 'Action Adventure', 'Action', 'Adventure', 'Fantasy', 'Action Adventure', 'Strategy', 'Simulation', 'Action', 'Action', 'Action', 'Action Adventure', 'Miscellaneous', 'Adventure', 'Role-Playing', 'Action Adventure', 'Action', 'Miscellaneous', 'Miscellaneous', 'Strategy', 'Adventure', 'Action', 'Action', 'Action', 'Strategy', 'Action', 'Action', 'Action', 'Role-Playing', 'Action Adventure', 'Action', 'Sports', 'Action', 'Action', 'Action', 'Action Adventure', 'Action', 'Action', 'Action', 'Action', 'Action', 'Action Adventure', 'Action', 'Action', 'Action Adventure', 'Action', 'Miscellaneous', 'Action Adventure', 'Action', 'Action Adventure', 'Action Adventure', 'Action Adventure', 'Sports', 'Role-Playing', 'Adventure', 'Puzzle', 'Action', 'Adventure', 'Action', 'Sports', 'Role-Playing', 'Action Adventure', 'Sports', 'Action Adventure', 'Strategy', 'Action', 'Strategy', 'Action Adventure', 'Action Adventure', 'Strategy', 'Action', 'Strategy', 'Action Adventure', 'Action Adventure', 'Strategy', 'Action', 'Strategy', 'Action Adventure', 'Action Adventure', 'Strategy', 'Action', 'Strategy', 'Action Adventure', 'Driving', 'Sports', 'Simulation', 'Action', 'Action', 'Sports', 'Simulation', 'Role-Playing', 'Action Adventure', 'Action', 'Miscellaneous', 'Modern', 'Action', 'Action', 'Action', 'GT / Street', 'Miscellaneous', 'Action', 'Role-Playing', 'Role-Playing', 'Strategy', 'Action', 'Sci-Fi', 'Action Adventure', 'Driving', 'Role-Playing', 'Action', 'Action Adventure', 'Action Adventure', 'Action', 'Strategy', 'Action', 'Miscellaneous', 'Strategy', 'Action', 'Action', 'Action Adventure', 'General', 'Miscellaneous', 'Action', 'Action', 'Action', 'Action', 'Miscellaneous', 'Role-Playing', 'Adventure', 'Action', 'Miscellaneous', 'Action', 'Role-Playing', 'Action', 'Adventure', 'Adventure', 'Action Adventure', 'Role-Playing', 'Adventure', 'Action Adventure', 'Action', 'Role-Playing', 'Action Adventure', 'Miscellaneous', 'Sports', 'Action', 'Action', 'Action Adventure', 'Action', 'Strategy', 'Driving', 'Action Adventure', 'Driving', 'Action', 'Simulation', 'Role-Playing', 'Adventure', 'Action Adventure', 'Simulation', 'Action Adventure', 'Role-Playing', 'Action', 'Action Adventure', 'Action Adventure', 'Action Adventure', 'Action', 'Action Adventure', 'Action Adventure', 'Action Adventure', 'Action Adventure', 'Action', 'Action Adventure', 'Action Adventure', 'Action Adventure', 'Action Adventure', 'Action', 'Action Adventure', 'Action Adventure', 'Action Adventure', 'Action Adventure', 'Action', 'Action Adventure', 'Sci-Fi', 'Adventure', 'Action', 'Miscellaneous', 'Racing', 'Action', 'Action Adventure', 'Adventure', 'Puzzle', 'Action', 'Miscellaneous', 'Sports', 'Action', 'Action Adventure', 'Action', 'Role-Playing', 'Sports', 'Racing', 'Sports', 'Action', 'Simulation', 'Racing', 'Action', 'Action Adventure', 'Strategy', 'Adventure', 'Action', 'Role-Playing', 'Strategy', 'Role-Playing', 'Adventure', 'Action Adventure', 'Adventure', 'Puzzle', 'Action Adventure', 'Strategy', 'Miscellaneous', 'Driving', 'Simulation', 'Sports', 'Simulation', 'Strategy', 'Action Adventure', 'Miscellaneous', 'Action', 'Action Adventure', 'Role-Playing', 'Action Adventure', 'Adventure', 'Adventure', 'Miscellaneous', 'Miscellaneous', 'Miscellaneous', 'Action', 'Action Adventure', 'Action', 'Simulation', 'Action', 'Strategy', 'Action Adventure', 'Strategy', 'Adventure', 'Adventure', 'Action', 'Action', 'Action', 'Shooter', 'Role-Playing', 'Strategy', 'Strategy', 'Action Adventure', 'Action', 'Action', 'Adventure', 'Adventure', 'Action', 'Puzzle', 'Adventure', 'Action', 'Action', 'Simulation', 'Adventure', 'Action Adventure', 'Action', 'Action Adventure', 'Simulation', 'Adventure', 'Action Adventure', 'Action', 'Action Adventure', 'Simulation', 'Adventure', 'Action Adventure', 'Action', 'Action Adventure', 'Simulation', 'Adventure', 'Action Adventure', 'Action', 'Action Adventure', 'Strategy', 'Action', 'Miscellaneous', 'Simulation', 'Action', 'Adventure', 'Action', 'Action', 'Strategy', 'Action Adventure', 'Driving', 'Action', 'Action', 'Strategy', 'Action', 'Action Adventure', 'Miscellaneous', 'Action', 'Action Adventure', 'Action', 'Action', 'Role-Playing', 'Action Adventure', 'Role-Playing', 'Sports', 'Action Adventure', 'Action', 'Sports', 'Adventure', 'Role-Playing', 'Driving', 'Simulation', 'Action Adventure', 'Action', 'Action', 'Strategy', 'Adventure', 'Action Adventure', 'Action', 'Action', 'Action', 'Role-Playing', 'Action Adventure', 'Action Adventure', 'Adventure', 'Action', 'Action', 'Action Adventure', 'Adventure', 'Simulation', 'Adventure', 'Action', 'Action', 'Role-Playing', 'Action Adventure', 'Simulation', 'Adventure', 'Action', 'Role-Playing', 'Action Adventure', 'Driving', 'Action Adventure', 'Action', 'Action RPG', 'General', 'Action', 'Strategy', 'Action', 'Adventure', 'Racing', 'Action', 'Adventure', 'Strategy', 'Strategy', 'Action Adventure', 'Strategy', 'Sports', 'Action', 'Strategy', 'Sports', 'Action', 'Action', 'First-Person', 'Strategy', 'Action Adventure', 'Action', 'Action', 'First-Person', 'Strategy', 'Action Adventure', 'Action', 'Action', 'First-Person', 'Strategy', 'Action Adventure', 'Action', 'Action', 'First-Person', 'Strategy', 'Action Adventure', 'Driving', 'Adventure', 'Action', 'Adventure', 'Miscellaneous', 'Strategy', 'Driving', 'Action Adventure', 'Sports', 'Driving', 'Miscellaneous', 'Action', 'Action', 'Action', 'Action', 'Sports', 'Racing', 'Modern', 'Action', 'General', 'Action', 'Puzzle', 'Action', 'Action', 'Action', 'Action', 'Action', 'Strategy', 'Action', 'Action', 'Adventure', 'Action', 'Action', 'Adventure', 'Action', 'Puzzle', 'Strategy', 'Action Adventure', 'Strategy', 'Simulation', 'Role-Playing', 'Action Adventure', 'Action Adventure', 'Adventure', 'Adventure', 'Adventure', 'Action', 'Puzzle', 'Simulation', 'Adventure', 'Adventure', 'Action', 'Action', 'Action', 'Action', 'Sports', 'Action Adventure', 'Miscellaneous', 'Action', 'Driving', 'Miscellaneous', 'Strategy', 'Sports', 'Sports', 'Action', 'Role-Playing', 'Action', 'Action', 'Sports', 'Action', 'Sports', 'Strategy', 'Driving', 'Sports', 'Strategy', 'Driving', 'Modern', 'Action', 'Action', 'Action', 'Driving', 'Strategy', 'Adventure', 'Action', 'Action Adventure', 'Driving', 'Strategy', 'Adventure', 'Action', 'Action Adventure', 'Driving', 'Strategy', 'Adventure', 'Action', 'Action Adventure', 'Driving', 'Strategy', 'Adventure', 'Action', 'Action Adventure', 'Action Adventure', 'Puzzle', 'Role-Playing', 'Action Adventure', 'Role-Playing', 'Role-Playing', 'Miscellaneous', 'Action', 'Action Adventure', 'Action', 'Action Adventure', 'Action', 'Miscellaneous', 'Miscellaneous', 'Action Adventure', 'Sports', 'Action', 'Action Adventure', 'Action', 'Strategy', 'Role-Playing', 'Action', 'Role-Playing', 'Action', 'Action', 'Action', 'Simulation', 'Action', 'Action Adventure', 'Action', 'Action', 'Action Adventure', 'Role-Playing', 'Adventure', 'Miscellaneous', 'Action', 'Action', 'Sports', 'Action', 'Action Adventure', 'Sports', 'Action Adventure', 'Action', 'Driving', 'Action', 'Action', 'Miscellaneous', 'Strategy', 'Miscellaneous', 'Miscellaneous', 'Action', 'Racing', 'Strategy', 'Miscellaneous', 'Action', 'Action', 'Action', 'Sports', 'Action', 'Adventure', 'Simulation', 'Action Adventure', 'Action Adventure', 'Action', 'Action Adventure', 'Action Adventure', 'Driving', 'Strategy', 'Strategy', 'Simulation', 'Action Adventure', 'Adventure', 'Adventure', 'Action Adventure', 'Adventure', 'Action', 'Action', 'Action', 'Action', 'Strategy', 'Action', 'Role-Playing', 'Action', 'Action', 'Action', 'Action', 'Role-Playing', 'Action', 'Action', 'Action', 'Action', 'Role-Playing', 'Action', 'Action', 'Action', 'Action', 'Role-Playing', 'Action', 'Action', 'Action', 'Action Adventure', 'Adventure', 'Miscellaneous', 'Miscellaneous', 'Adventure', 'Action Adventure', 'General', 'Role-Playing', 'Sports', 'Strategy', 'Action', 'Action Adventure', 'Miscellaneous', 'Action', 'Action', 'Action Adventure', 'Miscellaneous', 'Action', 'Action', 'Role-Playing', 'Action', 'Role-Playing', 'Sports', 'Action', 'Action', 'Sports', 'Strategy', 'Puzzle', 'Miscellaneous', 'Action', 'Action', 'Driving', 'Action', 'Action', 'Action', 'Miscellaneous', 'Miscellaneous', 'Action Adventure', 'General', 'Strategy', 'Action Adventure', 'Action', 'Action Adventure', 'Driving', 'Miscellaneous', 'Strategy', 'Action', 'Sports', 'Miscellaneous', 'Driving', 'Role-Playing', 'Role-Playing', 'Adventure', 'Action Adventure', 'Role-Playing', 'Action', 'Scrolling', 'Action', 'Simulation', 'Adventure', 'Adventure', 'Action Adventure', 'Strategy', 'Fantasy', 'Miscellaneous', 'Action', 'Action Adventure', 'Adventure', 'Role-Playing', 'Simulation', 'Action Adventure', 'Miscellaneous', 'Action Adventure', 'Simulation', 'Adventure', 'Action', 'Strategy', 'Simulation', 'Action', 'Role-Playing', 'Adventure', 'Miscellaneous', 'Horror', 'Action Adventure', 'Action', 'Adventure', 'Miscellaneous', 'Horror', 'Action Adventure', 'Action', 'Adventure', 'Miscellaneous', 'Horror', 'Action Adventure', 'Action', 'Adventure', 'Miscellaneous', 'Horror', 'Action Adventure', 'Action', 'Action Adventure', 'Action', 'Action', 'Action Adventure', 'Role-Playing', 'Action Adventure', 'Strategy', 'Adventure', 'Action', 'Puzzle', 'Sports', 'Strategy', 'Action', 'Action Adventure', 'Action Adventure', 'Miscellaneous', 'Action', 'Action Adventure', 'Action', 'Simulation', 'Action', 'Action Adventure', 'Action', 'Action', 'Action', 'Miscellaneous', 'Miscellaneous', 'Adventure', 'Action Adventure', 'Action', 'Driving', 'Driving', 'Strategy', 'Simulation', 'Driving', 'Sports', 'Action', 'Action Adventure', 'Action', 'Role-Playing', 'Puzzle', 'Role-Playing', 'Action', 'Sports', 'Action Adventure', 'Action Adventure', 'Strategy', 'Puzzle', 'Simulation', 'Action', 'Strategy', 'Shooter', 'Sports', 'Action Adventure', 'Strategy', 'Action', 'Action', 'Action', 'Sports', 'Action', 'Role-Playing', 'Sports', 'Simulation', 'Action Adventure', 'Adventure', 'Action', 'Role-Playing', 'Adventure', 'Adventure', 'Adventure', 'Fighting', 'Strategy', 'Driving', 'Strategy', 'Action', 'Action Adventure', 'Adventure', 'Action', 'Sports', 'Action Adventure', 'Action', 'Role-Playing', 'Action', 'Action Adventure', 'Driving', 'Action', 'Role-Playing', 'Action', 'Action Adventure', 'Driving', 'Action', 'Role-Playing', 'Action', 'Action Adventure', 'Driving', 'Action', 'Role-Playing', 'Action', 'Action Adventure', 'Driving', 'Role-Playing', 'Driving', 'Action', 'Action', 'Action', 'Simulation', 'Strategy', 'Sports', 'Sports', 'Role-Playing', 'Strategy', 'Action Adventure', 'Action Adventure', 'Role-Playing', 'Sports', 'Role-Playing', 'Adventure', 'Action Adventure', 'Action', 'Miscellaneous', 'Action Adventure', 'Action', 'Adventure', 'Strategy', 'Action', 'Strategy', 'Adventure', 'Strategy', 'Action', 'General', 'Role-Playing', 'Action Adventure', 'Sports', 'Action', 'Action Adventure', 'Platformer', 'Action', 'Action', 'Simulation', 'Action', 'Action Adventure', 'Strategy', 'Miscellaneous', 'Action Adventure', 'Adventure', 'Action Adventure', 'Action Adventure', 'Adventure', 'Action Adventure', 'Action', 'Action Adventure', 'Action', 'Driving', 'Action', 'Action', 'Role-Playing', 'Action', 'Role-Playing', 'Action Adventure', 'Miscellaneous', 'Action', 'Driving', 'Role-Playing', 'Sports', 'Action', 'Strategy', 'Sports', 'Action Adventure', 'Racing', 'Third-Person', 'Action', 'Action', 'Action', 'Action', 'Action', 'Strategy', 'Strategy', 'Miscellaneous', 'Miscellaneous', 'Action', 'Role-Playing', 'Action', 'Racing', 'Action', 'Action Adventure', 'Role-Playing', 'Action', 'Racing', 'Action', 'Action Adventure', 'Role-Playing', 'Action', 'Racing', 'Action', 'Action Adventure', 'Role-Playing', 'Action', 'Racing', 'Action', 'Action Adventure', 'Racing', 'Action Adventure', 'Simulation', 'Action Adventure', 'Action', 'Sci-Fi', 'Simulation', 'Sports', 'Miscellaneous', 'Strategy', 'Action', 'General', 'Simulation', 'Action', 'Action Adventure', 'Action', 'Action', 'Action', 'Role-Playing', 'Action', 'Role-Playing', 'Simulation', 'Miscellaneous', 'Action Adventure', 'Action', 'Action Adventure', 'Strategy', 'Action', 'Sports', 'Action Adventure', 'Strategy', 'Strategy', 'Sports', 'Role-Playing', 'Action', 'Sports', 'Action', 'Driving', 'Action', 'Action', 'Sci-Fi', 'Action Adventure', 'Action', 'General', 'Action', 'Action', 'Sports', 'Adventure', 'Racing', 'Adventure', 'Adventure', 'Simulation', 'Action Adventure', 'Simulation', 'Role-Playing', 'Role-Playing', 'Action', 'Sports', 'Action', 'Role-Playing', 'Action', 'Racing', 'General', 'Racing', 'Action', 'Action', 'Action Adventure', 'Action Adventure', 'Action Adventure', 'Role-Playing', 'Action', 'Action', 'Driving', 'Action', 'Sports', 'Action Adventure', 'Miscellaneous', 'Adventure', 'Action', 'Strategy', 'Racing', 'Role-Playing', 'Miscellaneous', 'Driving', 'Role-Playing', 'Racing', 'Role-Playing', 'Miscellaneous', 'Driving', 'Role-Playing', 'Racing', 'Role-Playing', 'Miscellaneous', 'Driving', 'Role-Playing', 'Racing', 'Role-Playing', 'Miscellaneous', 'Driving', 'Role-Playing', 'Driving', 'Strategy', 'Miscellaneous', 'Strategy', 'Simulation', 'Action', 'Action Adventure', 'Action', 'Action', 'Action', 'Action Adventure', 'Action Adventure', 'Role-Playing', 'Action Adventure', 'Action', 'Action', 'Action', 'Action Adventure', 'Action', 'Role-Playing', 'Action Adventure', 'Adventure', 'Action Adventure', 'Driving', 'Sports', 'Strategy', 'Action', 'Racing', 'Adventure', 'Action', 'Action', 'Action', 'Action Adventure', 'Action', 'Action Adventure', 'Simulation', 'Action', 'Action', 'Strategy', 'Action', 'Driving', 'Simulation', 'Miscellaneous', 'Driving', 'Action', 'Racing', 'Action', 'Adventure', 'Role-Playing', 'Action Adventure', 'Sports', 'Action', 'Action Adventure', 'Strategy', 'Strategy', 'Action', 'Simulation', 'Role-Playing', 'Action', 'Strategy', 'Traditional', 'Action Adventure', 'Sports', 'Strategy', 'Driving', 'Action', 'Simulation', 'Sports', 'Action', 'Action Adventure', 'Action', 'Action', 'Action', 'Action', 'Action', 'Action Adventure', 'Action', 'Miscellaneous', 'Driving', 'Action', 'Racing', 'Action Adventure', 'Miscellaneous', 'Miscellaneous', 'Racing', 'Racing', 'Action Adventure', 'Miscellaneous', 'Miscellaneous', 'Racing', 'Racing', 'Action Adventure', 'Miscellaneous', 'Miscellaneous', 'Racing', 'Racing', 'Action Adventure', 'Miscellaneous', 'Miscellaneous', 'Racing', 'Sports', 'Action', 'Action', 'Action', 'Miscellaneous', 'Adventure', 'Action', 'Action Adventure', 'Miscellaneous', 'Action', 'Adventure', 'Racing', 'Action', 'Adventure', 'Miscellaneous', 'Role-Playing', 'Miscellaneous', 'Puzzle', 'Sports', 'Strategy', 'General', 'Strategy', 'Puzzle', 'Action', 'Action', 'Miscellaneous', 'Sports', 'Action', 'Action Adventure', 'Action', 'Action', 'Action', 'Driving', 'Driving', 'Sports', 'Strategy', 'Action', 'Action Adventure', 'Action', 'Role-Playing', 'Driving', 'Action Adventure', 'Miscellaneous', 'Role-Playing', 'General', 'Action', 'Sports', 'Action Adventure', 'Miscellaneous', 'Strategy', 'Puzzle', 'Strategy', 'Action Adventure', 'Sports', 'Action', 'Strategy', 'Action', 'Action Adventure', 'Miscellaneous', 'Action', 'Action Adventure', 'Adventure', 'Fantasy', 'Simulation', 'Action', 'Action', 'Action', 'Action', 'Action', 'Action', 'Action', 'Miscellaneous', 'Action', 'Role-Playing', 'Action', 'Strategy', 'Action', 'Role-Playing', 'Action', 'Miscellaneous', 'Action', 'Adventure', 'Action Adventure', 'Action', 'Miscellaneous', 'Action', 'Adventure', 'Action Adventure', 'Action', 'Miscellaneous', 'Action', 'Adventure', 'Action Adventure', 'Action', 'Miscellaneous', 'Action', 'Adventure', 'Action Adventure', 'Action', 'Miscellaneous', 'Adventure', 'Sports', 'Action Adventure', 'Strategy', 'Role-Playing', 'Strategy', 'Action', 'Action', 'Simulation', 'General', 'Strategy', 'Action', 'Adventure', 'Strategy', 'Miscellaneous', 'Action', 'Action', 'Miscellaneous', 'Action Adventure', 'Strategy', 'Simulation', 'Adventure', 'Action', 'Action', 'Action', 'Action Adventure', 'Strategy', 'Miscellaneous', 'Driving', 'Action Adventure', 'Racing', 'Action Adventure', 'Miscellaneous', 'Adventure', 'Action', 'Simulation', 'Simulation', 'Sports', 'Action Adventure', 'Miscellaneous', 'Action Adventure', 'Action', 'Adventure', 'Action', 'Action', 'Role-Playing', 'Action', 'Action', 'Role-Playing', 'Action', 'Action Adventure', 'Adventure', 'Action', 'Action', 'Adventure', 'Action', 'Action Adventure', 'Action Adventure', 'Role-Playing', 'Miscellaneous', 'Action', 'Role-Playing', 'Action', 'Strategy', 'Action', 'Action Adventure', 'Action', 'Sports', 'Driving', 'Miscellaneous', 'Action Adventure', 'Action', 'Action Adventure', 'Action', 'Action', 'Sports', 'Strategy', 'Role-Playing', 'Miscellaneous', 'Role-Playing', 'Action', 'Action Adventure', 'Strategy', 'Action', 'Role-Playing', 'Action', 'Action Adventure', 'Strategy', 'Action', 'Role-Playing', 'Action', 'Action Adventure', 'Strategy', 'Action', 'Role-Playing', 'Action', 'Action Adventure', 'Strategy', 'Action', 'Action', 'Driving', 'Action', 'Adventure', 'Sports', 'General', 'Action', 'Adventure', 'Racing', 'Action', 'Action Adventure', 'Action', 'Sports', 'Action', 'Action Adventure', 'Action Adventure', 'Sports', 'Role-Playing', 'Action', 'Adventure', 'Action Adventure', 'Action', 'Action', 'Action', 'Sports', 'Action', 'Action', 'Action', 'Strategy', 'Role-Playing', 'Strategy', 'Fantasy', 'Action Adventure', 'Strategy', 'Miscellaneous', 'Adventure', 'Strategy', 'Strategy', 'Role-Playing', 'Action', 'Sports', 'Action', 'Role-Playing', 'Sports', 'Simulation', 'Role-Playing', 'Action', 'Role-Playing', 'Action', 'Strategy', 'Puzzle', 'Action', 'Virtual Life', 'Action Adventure', 'Role-Playing', 'Miscellaneous', 'Strategy', 'Action', 'Action', 'Role-Playing', 'Action', 'Action', 'Action', 'Action', 'Action Adventure', 'Strategy', 'Adventure', 'Miscellaneous', 'Sports', 'Role-Playing', 'Action Adventure', 'Action Adventure', 'Action', 'Action', 'Action Adventure', 'Action', 'Adventure', 'Adventure', 'Action', 'Sports', 'Miscellaneous', 'Action', 'Action Adventure', 'Role-Playing', 'Role-Playing', 'Miscellaneous', 'Action', 'Action Adventure', 'Role-Playing', 'Role-Playing', 'Miscellaneous', 'Action', 'Action Adventure', 'Role-Playing', 'Role-Playing', 'Miscellaneous', 'Action', 'Action Adventure', 'Role-Playing', 'Role-Playing', 'Miscellaneous', 'Action Adventure', 'Action', 'Strategy', 'Sports', 'Action', 'Miscellaneous', 'Action', 'Driving', 'Sports', 'Action', 'Action', 'Action Adventure', 'Action', 'Miscellaneous', 'Simulation', 'Adventure', 'Action', 'Action Adventure', 'Action Adventure', 'Action', 'Action Adventure', 'Action', 'Action', 'Role-Playing', 'Action', 'Action', 'Action', 'Strategy', 'Role-Playing', 'Action', 'Action', 'Action', 'Strategy', 'Miscellaneous', 'Sports', 'Strategy', 'Miscellaneous', 'Driving', 'Action', 'Action Adventure', 'Action Adventure', 'Simulation', 'Role-Playing', 'Miscellaneous', 'Sports', 'Strategy', 'Racing', 'Miscellaneous', 'Miscellaneous', 'Miscellaneous', 'Simulation', 'General', 'Action', 'General', 'Action Adventure', 'Action', 'Miscellaneous', 'Action', 'Role-Playing', 'Action Adventure', 'Adventure', 'Action Adventure', 'Sports', 'Role-Playing', 'Action', 'Simulation', 'Action Adventure', 'Action Adventure', 'Adventure', 'Action', 'Miscellaneous', 'Strategy', 'Action', 'General', 'Action', 'Sports', 'Action', 'Strategy', 'Driving', 'Action Adventure', 'Adventure', 'Strategy', 'Strategy', 'Role-Playing', 'Action Adventure', 'Adventure', 'Strategy', 'Strategy', 'Role-Playing', 'Action Adventure', 'Adventure', 'Strategy', 'Strategy', 'Role-Playing', 'Action Adventure', 'Adventure', 'Strategy', 'Strategy', 'Role-Playing', 'Adventure', 'Role-Playing', 'Miscellaneous', 'Action', 'Action', 'Adventure', 'Adventure', 'Action', 'Role-Playing', 'Action Adventure', 'Role-Playing', 'Strategy', 'Modern', 'Miscellaneous', 'Driving', 'Sports', 'Role-Playing', 'Sports', 'Action Adventure', 'Simulation', 'Action', 'Action Adventure', 'Action', 'Action', 'Action', 'Adventure', 'Action Adventure', 'Driving', 'Sports', 'Action RPG', 'Action Adventure', 'Action', 'Action', 'Action Adventure', 'Strategy', 'Action', 'Action', 'Action', 'Driving', 'Strategy', 'Action Adventure', 'Driving', 'Miscellaneous', 'Action', 'Action', 'Racing', 'Historic', 'Adventure', 'Action Adventure', 'Strategy', 'Adventure', 'Role-Playing', 'Role-Playing', 'Action', 'Strategy', 'Strategy', 'Action', 'Simulation', 'Simulation', 'Action', 'Strategy', 'Sports', 'Fantasy', 'Action Adventure', 'Role-Playing', 'Action', 'Action Adventure', 'Strategy', 'Role-Playing', 'Role-Playing', 'Action', 'Sci-Fi', 'Miscellaneous', 'Sports', 'Strategy', 'Action Adventure', 'Strategy', 'Driving', 'Driving', 'Action', 'Sports', 'Strategy', 'Driving', 'Strategy', 'Strategy', 'Sports', 'Strategy', 'Driving', 'Strategy', 'Strategy', 'Sports', 'Strategy', 'Driving', 'Strategy', 'Strategy', 'Sports', 'Strategy', 'Driving', 'Strategy', 'Strategy', 'Action', 'Simulation', 'Sports', 'Action Adventure', 'Action', 'Action', 'Action', 'Racing', 'Adventure', 'Action', 'Adventure', 'Strategy', 'Action', 'Puzzle', 'Action', 'General', 'Strategy', 'Action Adventure', 'Miscellaneous', 'Historic', 'Action Adventure', 'Action', 'Action', 'Action Adventure', 'General', 'Miscellaneous', 'Action', 'Sports', 'Strategy', 'Action', 'Role-Playing', 'Strategy', 'Action', 'Adventure', 'Strategy', 'Action Adventure', 'Action Adventure', 'Role-Playing', 'Fantasy', 'Simulation', 'Role-Playing', 'Action Adventure', 'Action', 'Action Adventure', 'Strategy', 'Action', 'Action', 'Role-Playing', 'Miscellaneous', 'Action', 'Action', 'Role-Playing', 'Strategy', 'Strategy', 'Action Adventure', 'Action', 'Action', 'Driving', 'Driving', 'Action', 'Driving', 'Driving', 'Action Adventure', 'Action', 'Role-Playing', 'Strategy', 'Shooter', 'Role-Playing', 'Action', 'Driving', 'Strategy', 'Driving', 'Action', 'Action', 'Role-Playing', 'Action', 'Sci-Fi', 'Role-Playing', 'Sports', 'Adventure', 'Action Adventure', 'Sports', 'Adventure', 'Role-Playing', 'Role-Playing', 'Action Adventure', 'Sports', 'Adventure', 'Role-Playing', 'Role-Playing', 'Action Adventure', 'Sports', 'Adventure', 'Role-Playing', 'Role-Playing', 'Action Adventure', 'Sports', 'Adventure', 'Role-Playing', 'Role-Playing', 'Action', 'Action', 'Action', 'Sports', 'Sports', 'Action', 'Sports', 'Action Adventure', 'Action', 'Sports', 'Action', 'Action', 'Action', 'Sports', 'Action', 'Action', 'Strategy', 'Simulation', 'Role-Playing', 'Role-Playing', 'Miscellaneous', 'Driving', 'Action', 'Action', 'Role-Playing', 'Sports', 'Sports', 'Miscellaneous', 'Sports', 'Action', 'Modern', 'Action Adventure', 'Miscellaneous', 'Action', 'Adventure', 'Action', 'Sports', 'Action Adventure', 'Action', 'Sports', 'Action', 'Sci-Fi', 'Action', 'Action', 'Action', 'Role-Playing', 'Miscellaneous', 'Action', 'Action Adventure', 'Role-Playing', 'Action', 'Sports', 'Strategy', 'Sports', 'Action', 'Action Adventure', 'Miscellaneous', 'Action', 'Adventure', 'Action', 'Action Adventure', 'Simulation', 'Action Adventure', 'Adventure', 'Adventure', 'Adventure', 'Action', 'Miscellaneous', 'Action', 'Adventure', 'Action', 'Miscellaneous', 'Driving', 'Action', 'General', 'Driving', 'Action', 'Strategy', 'Action', 'Action', 'Role-Playing', 'Action', 'Action Adventure', 'Action Adventure', 'Strategy', 'Role-Playing', 'Action', 'Action Adventure', 'Action Adventure', 'Strategy', 'Role-Playing', 'Action', 'Action Adventure', 'Action Adventure', 'Strategy', 'Role-Playing', 'Action', 'Action Adventure', 'Action Adventure', 'Strategy', 'Action', 'Action', 'Action', 'Action Adventure', 'Sports', 'Action', 'Role-Playing', 'Role-Playing', 'Japanese-Style', 'Sim', 'Driving', 'Action', 'Sports', 'Action', 'Role-Playing', 'Action Adventure', 'Role-Playing', 'Adventure', 'Action Adventure', 'Miscellaneous', 'Action', 'Role-Playing', 'Historic', 'Adventure', 'Action', 'Driving', 'Action', 'Simulation', 'Simulation', 'Action', 'Action', 'Role-Playing', 'Action Adventure', 'Action', 'Action', 'Miscellaneous', 'Adventure', 'Action', 'Sports', 'Puzzle', 'Miscellaneous', 'Sports', 'Action', 'Adventure', 'Action', 'Shooter', 'Sports', 'Simulation', 'Adventure', 'Action', 'Sports', 'Strategy', 'Action', 'Miscellaneous', 'Action Adventure', 'Strategy', 'Action', 'Action', 'Sports', 'Strategy', 'Racing', 'Action', 'Action', 'Miscellaneous', 'Racing', 'Miscellaneous', 'Action', 'Driving', 'Strategy', 'Action', 'Action', 'Action', 'Action', 'General', 'Action Adventure', 'Strategy', 'Action', 'Miscellaneous', 'Strategy', 'Action Adventure', 'Action Adventure', 'Action', 'Role-Playing', 'Action', 'Action', 'Action Adventure', 'Action', 'Role-Playing', 'Action', 'Action', 'Action Adventure', 'Action', 'Role-Playing', 'Action', 'Action', 'Action Adventure', 'Action', 'Role-Playing', 'Action', 'Action', 'Miscellaneous', 'Action', 'Sports', 'Action', 'Driving', 'Action', 'Action', 'Adventure', 'Role-Playing', 'Action', 'Simulation', 'Sports', 'Strategy', 'Action', 'Action Adventure', 'Racing', 'Action', 'Simulation', 'Action Adventure', 'Action Adventure', 'Action', 'Action', 'Action Adventure', 'Role-Playing', 'Adventure', 'Sports', 'Action', 'Action', 'Simulation', 'Strategy', 'Adventure', 'Strategy', 'Action', 'Sports', 'Strategy', 'Action', 'Miscellaneous', 'Action', 'Sports', 'Sports', 'Action', 'Sports', 'Action Adventure', 'Edutainment', 'Miscellaneous', 'Action Adventure', 'Adventure', 'Action Adventure', 'Action', 'Action', 'Strategy', 'Action Adventure', 'Action', 'Action Adventure', 'Action', 'Action', 'Action', 'Role-Playing', 'Action', 'Action', 'Action', 'Role-Playing', 'Action', 'Modern', 'Action', 'Action', 'Action Adventure', 'Action', 'Action', 'Driving', 'Action Adventure', 'Role-Playing', 'Action', 'Action Adventure', 'Action', 'Miscellaneous', 'Action Adventure', 'Role-Playing', 'Historic', 'Action', 'Adventure', 'Action Adventure', 'Action', 'Action Adventure', 'Action Adventure', 'Adventure', 'Action Adventure', 'Action', 'Action Adventure', 'Action Adventure', 'Adventure', 'Action Adventure', 'Action', 'Action Adventure', 'Action Adventure', 'Adventure', 'Action Adventure', 'Action', 'Action Adventure', 'Action Adventure', 'Action Adventure', 'Racing', 'Role-Playing', 'Sports', 'Racing', 'Action', 'Miscellaneous', 'Role-Playing', 'Action', 'Driving', 'Racing', 'Strategy', 'Miscellaneous', 'Sports', 'Sports', 'Action Adventure', 'Action Adventure', 'Action', 'Role-Playing', 'Role-Playing', 'Action', 'Action', 'Action', 'Miscellaneous', 'Driving', 'Action', 'Strategy', 'Strategy', 'Driving', 'Miscellaneous', 'Sports', 'Role-Playing', 'Strategy', 'Action', 'Card Battle', 'Miscellaneous', 'Strategy', 'Action Adventure', 'Simulation', 'Racing', 'Simulation', 'Strategy', 'Action Adventure', 'Action', 'Strategy', 'Action', 'Action', 'Action', 'Action', 'Adventure', 'Sports', 'Adventure', 'General', 'Action Adventure', 'Strategy', 'Racing', 'Miscellaneous', 'General', 'Action', 'Action Adventure', 'Action', 'Adventure', 'Action', 'Action', 'Action', 'Action', 'Action Adventure', 'Miscellaneous', 'Adventure', 'Action', 'Simulation', 'Role-Playing', 'Strategy', 'Sports', 'Adventure', 'Action', 'Adventure', 'General', 'Adventure', 'Racing', 'Strategy', 'Action', 'Action Adventure', 'Action Adventure', 'Role-Playing', 'Strategy', 'Action', 'Action Adventure', 'Action Adventure', 'Role-Playing', 'Strategy', 'Action', 'Action Adventure', 'Action Adventure', 'Role-Playing', 'Strategy', 'Action', 'Action Adventure', 'Action Adventure', 'Role-Playing', 'Simulation', 'Action', 'Strategy', 'Strategy', 'Action', 'Action', 'Action Adventure', 'Sports', 'Miscellaneous', 'Role-Playing', 'Action', 'Action Adventure', 'Adventure', 'Action', 'Sports', 'Strategy', 'Action', 'Action', 'Strategy', 'Role-Playing', 'Sports', 'Miscellaneous', 'Strategy', 'Action', 'Role-Playing', 'General', 'Action', 'Action', 'Role-Playing', 'Simulation', 'Simulation', 'Puzzle', 'Action', 'Action', 'Adventure', 'Role-Playing', 'General', 'Adventure', 'Strategy', 'Action', 'Action', 'Action', 'Role-Playing', 'Action', 'Adventure', 'Action Adventure', 'Action', 'Miscellaneous', 'Miscellaneous', 'Action', 'Strategy', 'Action', 'Driving', 'Strategy', 'Adventure', 'Sports', 'Action Adventure', 'Action', 'Action', 'Strategy', 'Action', 'Miscellaneous', 'Strategy', 'Action Adventure', 'Action', 'Racing', 'Miscellaneous', 'Strategy', 'Sports', 'Massively Multiplayer Online', 'Action Adventure', 'Adventure', 'Adventure', 'Action', 'Action', 'Adventure', 'Puzzle', 'Action', 'Driving', 'Action Adventure', 'General', 'Role-Playing', 'Action', 'Action', 'Action', 'General', 'Role-Playing', 'Action', 'Action', 'Action', 'General', 'Role-Playing', 'Action', 'Action', 'Action', 'General', 'Role-Playing', 'Action', 'Action', 'Action', 'Role-Playing', 'Action', 'Action', 'Action', 'Miscellaneous', 'Action', 'Strategy', 'Action Adventure', 'Driving', 'Sports', 'Adventure', 'Shooter', 'Strategy', 'Action', 'Action', 'Miscellaneous', 'Action Adventure', 'Adventure', 'Action', 'Role-Playing', 'Role-Playing', 'Puzzle', 'Action', 'Action Adventure', 'Action Adventure', 'Action', 'Role-Playing', 'Action Adventure', 'Action', 'Strategy', 'Sports', 'Driving', 'Adventure', 'Miscellaneous', 'Role-Playing', 'Role-Playing', 'Action', 'Role-Playing', 'Adventure', 'Action', 'Action', 'Action Adventure', 'Action', 'Action', 'Action', 'Adventure', 'Sports', 'Action', 'Action Adventure', 'Action Adventure', 'Action', 'Action', 'Action Adventure', 'Action', 'Racing', 'Sci-Fi', 'Adventure', 'Action', 'Adventure', 'Driving', 'Action', 'Action', 'Role-Playing', 'Action Adventure', 'Action Adventure', 'Action', 'Miscellaneous', 'Driving', 'Action', 'Sports', 'Sports', 'Action', 'Miscellaneous', 'Action Adventure', 'Adventure', 'Action Adventure', 'Action', 'Action', 'Action', 'Miscellaneous', 'Action', 'Action', 'Role-Playing', 'Adventure', 'Action', 'Action', 'Action', 'Role-Playing', 'Adventure', 'Action', 'Action', 'Action', 'Role-Playing', 'Adventure', 'Action', 'Action', 'Action', 'Role-Playing', 'Adventure', 'Action', 'Adventure', 'Action Adventure', 'Role-Playing', 'Action', 'Role-Playing', 'Action Adventure', 'Action', 'Strategy', 'Sports', 'Action', 'Action', 'Action', 'Action Adventure', 'Action', 'MOBA', 'Action', 'Miscellaneous', 'Miscellaneous', 'Action Adventure', 'Driving', 'Driving', 'Action', 'Action', 'Action Adventure', 'Racing', 'Simulation', 'Strategy', 'Action', 'Driving', 'Action Adventure', 'Miscellaneous', 'Action Adventure', 'Action', 'Action Adventure', 'Adventure', 'Action Adventure', 'Strategy', 'Strategy', 'Sports', 'Driving', 'Action', 'Action', 'Action', 'Miscellaneous', 'Role-Playing', 'Action', 'Strategy', 'Action', 'Role-Playing', 'Miscellaneous', 'Action', 'Action', 'Historic', 'Strategy', 'Strategy', 'Strategy', 'Sports', 'Role-Playing', 'Role-Playing', 'Action', 'Adventure', 'Action', 'Action', 'Role-Playing', 'Adventure', 'Racing', 'Role-Playing', 'Action', 'Driving', 'Sports', 'Action', 'Adventure', 'Role-Playing', 'General', 'Action', 'Driving', 'Strategy', 'Driving', 'Action Adventure', 'Miscellaneous', 'Racing', 'Adventure', 'Adventure', 'Action', 'Puzzle', 'Racing', 'Adventure', 'Adventure', 'Action', 'Puzzle', 'Racing', 'Adventure', 'Adventure', 'Action', 'Puzzle', 'Racing', 'Adventure', 'Adventure', 'Action', 'Puzzle', 'Action', 'Role-Playing', 'Action', 'Action Adventure', 'Horror', 'Sports', 'Miscellaneous', 'Action Adventure', 'Action', 'Miscellaneous', 'Miscellaneous', 'Action', 'Miscellaneous', 'Action', 'Miscellaneous', 'Adventure', 'Sports', 'Driving', 'Strategy', 'Action', 'Action', 'Simulation', 'Action Adventure', 'Role-Playing', 'Action Adventure', 'Action', 'Action', 'Action', 'Role-Playing', 'Strategy', 'Adventure', 'Simulation', 'Miscellaneous', 'Sports', 'Role-Playing', 'Sports', 'Adventure', 'Racing', 'Action', 'Strategy', 'Racing', 'Action', 'Role-Playing', 'Adventure', 'Strategy', 'Action', 'Action Adventure', 'Action Adventure', 'Alternative', 'Action', 'Strategy', 'Miscellaneous', 'Action Adventure', 'Action', 'Action', 'Driving', 'Action Adventure', 'Role-Playing', 'Sports', 'Action', 'Strategy', 'Action', 'Action', 'Driving', 'Miscellaneous', 'Action Adventure', 'Racing', 'Sports', 'Sports', 'Role-Playing', 'Racing', 'Adventure', 'Action', 'Miscellaneous', 'Action Adventure', 'Action', 'Miscellaneous', 'Action', 'Action', 'Strategy', 'Simulation', 'Action', 'Role-Playing', 'Miscellaneous', 'Adventure', 'Simulation', 'Action', 'Role-Playing', 'Miscellaneous', 'Adventure', 'Simulation', 'Action', 'Role-Playing', 'Miscellaneous', 'Adventure', 'Simulation', 'Action', 'Role-Playing', 'Miscellaneous', 'Adventure', 'Strategy', 'Racing', 'Role-Playing', 'Adventure', 'Action Adventure', 'Action Adventure', 'Action', 'Role-Playing', 'Action Adventure', 'Miscellaneous', 'Sports', 'Action Adventure', 'Action', 'Horror', 'Action Adventure', 'Action Adventure', 'Action', 'Action', 'Action', 'Adventure', 'Action Adventure', 'Action', 'Action Adventure', 'Sports', 'Sports', 'Action', 'Driving', 'Action Adventure', 'Action', 'Action', 'Action', 'Driving', 'Role-Playing', 'Adventure', 'Role-Playing', 'Adventure', 'Miscellaneous', 'Adventure', 'Strategy', 'Puzzle', 'Adventure', 'Role-Playing', 'Action', 'Adventure', 'Strategy', 'Role-Playing', 'Sports', 'Action', 'Adventure', 'Action', 'Miscellaneous', 'Adventure', 'Action', 'Puzzle', 'Action', 'Strategy', 'Action Adventure', 'Miscellaneous', 'Action Adventure', 'Action Adventure', 'Action', 'Action', 'Action', 'Arcade', 'Simulation', 'Role-Playing', 'Action', 'Adventure', 'Role-Playing', 'Strategy', 'Miscellaneous', 'Sports', 'Miscellaneous', 'Miscellaneous', 'Driving', 'Action', 'Strategy', 'Action', 'Role-Playing', 'Action', 'Driving', 'Role-Playing', 'Action Adventure', 'Driving', 'Action', 'Driving', 'Role-Playing', 'Action Adventure', 'Driving', 'Action', 'Driving', 'Role-Playing', 'Action Adventure', 'Driving', 'Action', 'Driving', 'Role-Playing', 'Action Adventure', 'Driving', 'Action', 'Miscellaneous', 'Action', 'Sports', 'Action', 'Role-Playing', 'Action', 'Miscellaneous', 'Action', 'Action', 'Role-Playing', 'Action', 'Sports', 'Role-Playing', 'Action', 'Adventure', 'Role-Playing', 'Strategy', 'Action Adventure', 'Action Adventure', 'Action', 'Action Adventure', 'Role-Playing', 'Miscellaneous', 'Adventure', 'Action Adventure', 'Miscellaneous', 'Simulation', 'Miscellaneous', 'Action', 'Miscellaneous', 'Action Adventure', 'Action', 'Miscellaneous', 'Action Adventure', 'Strategy', 'Action', 'Role-Playing', 'Strategy', 'Action', 'Action', 'Strategy', 'Action Adventure', 'Simulation', 'Role-Playing', 'Racing', 'Adventure', 'Action Adventure', 'Action', 'Action Adventure', 'Action', 'Action', 'Role-Playing', 'Strategy', 'Action Adventure', 'Role-Playing', 'Miscellaneous', 'Strategy', 'Action', 'Strategy', 'Action', 'Action Adventure', 'Driving', 'Puzzle', 'Role-Playing', 'Puzzle', 'Action', 'Driving', 'Action', 'Action', 'Action', 'Action', 'Action Adventure', 'Action', 'Action', 'Action RPG', 'Strategy', 'Strategy', 'Strategy', 'Action', 'Role-Playing', 'Adventure', 'Role-Playing', 'Simulation', 'Puzzle', 'Strategy', 'Adventure', 'Role-Playing', 'Simulation', 'Puzzle', 'Strategy', 'Adventure', 'Role-Playing', 'Simulation', 'Puzzle', 'Strategy', 'Adventure', 'Role-Playing', 'Simulation', 'Puzzle', 'Strategy', 'Puzzle', 'Strategy', 'Action Adventure', 'Role-Playing', 'Action', 'Miscellaneous', 'Role-Playing', 'Miscellaneous', 'Driving', 'Action Adventure', 'Action', 'Action', 'Simulation', 'Action Adventure', 'Driving', 'Action', 'Action', 'Action', 'Action Adventure', 'Action', 'Action', 'Strategy', 'Action', 'Adventure', 'Role-Playing', 'Adventure', 'Sports', 'Strategy', 'Role-Playing', 'Action Adventure', 'Miscellaneous', 'Action', 'Action', '1-4', 'Action', 'Action Adventure', 'Role-Playing', 'Action', 'Action', 'Adventure', 'Action', 'Action', 'Action Adventure', 'Strategy', 'Sports', 'Action', 'Action', 'Strategy', 'Action Adventure', 'Driving', 'Simulation', 'Strategy', 'Action Adventure', 'Adventure', 'Simulation', 'Action', 'Action', 'Strategy', 'Sports', 'Action', 'Sports', 'Action', 'Action', 'Role-Playing', 'Adventure', 'Shooter', 'Role-Playing', 'Puzzle', 'Action Adventure', 'General', 'Action', 'Miscellaneous', 'Action Adventure', 'Role-Playing', 'Action Adventure', 'Strategy', 'Action', 'Miscellaneous', 'Sports', 'Miscellaneous', 'Simulation', 'Action', 'Action', 'Adventure', 'Action', 'Simulation', 'Action', 'Action', 'Adventure', 'Action', 'Simulation', 'Action', 'Action', 'Adventure', 'Action', 'Simulation', 'Action', 'Action', 'Adventure', 'Action', 'Action', 'Role-Playing', 'Action', 'Strategy', 'Action', 'Simulation', 'Action', 'Role-Playing', 'Adventure', 'Action', 'Role-Playing', 'Action', 'Action Adventure', 'Role-Playing', 'Action', 'Role-Playing', 'Action Adventure', 'Action Adventure', 'Simulation', 'Action', 'Action Adventure', 'Adventure', 'Action', 'Miscellaneous', 'Action', 'Action', 'Action', 'Action Adventure', 'Action', 'Simulation', 'Action', 'Role-Playing', 'Action Adventure', 'Action', 'Action', 'Driving', 'Turn-Based', 'Action Adventure', 'Role-Playing', 'Action Adventure', 'Miscellaneous', 'Role-Playing', 'Strategy', 'Adventure', 'Adventure', 'Action', 'Action', 'Simulation', 'Action', 'Action', 'Driving', 'Fantasy', 'Action', 'Strategy', 'Role-Playing', 'Action', 'Role-Playing', 'Action', 'Action', 'Action', 'Action', 'Action', 'Adventure', 'Action', 'Strategy', 'Sports', 'Role-Playing', 'Sports', 'Action', 'Strategy', 'Action', 'Driving', 'Action', 'Sports', 'Action Adventure', 'Action', 'Role-Playing', 'Action', 'Driving', 'Strategy', 'Strategy', 'Adventure', 'Role-Playing', 'Adventure', 'Action', 'Strategy', 'Adventure', 'Role-Playing', 'Adventure', 'Action', 'Strategy', 'Adventure', 'Role-Playing', 'Adventure', 'Action', 'Strategy', 'Adventure', 'Role-Playing', 'Adventure', 'Action', 'Adventure', 'Action', 'Action', 'Action', 'Adventure', 'Adventure', 'Action', 'Shooter', 'Role-Playing', 'Adventure', 'Action', 'Racing', 'Puzzle', 'Action', 'Action Adventure', 'Adventure', 'Strategy', 'Action Adventure', 'Sports', 'Miscellaneous', 'Action', 'Action', 'Sports', 'Action', 'Strategy', 'Simulation', 'Action Adventure', 'Miscellaneous', 'Strategy', 'Action', 'GT / Street', 'Simulation', 'Action', 'Action', 'Action', 'Adventure', 'Action Adventure', 'Fantasy', 'Action', 'Miscellaneous', 'Action', 'Strategy', 'Action Adventure', 'Adventure', 'Role-Playing', 'Sports', 'Role-Playing', 'Action Adventure', 'Driving', 'Sports', 'Action', 'Arcade', 'Role-Playing', 'Racing', 'Action', 'Action', 'Role-Playing', 'Action', 'Strategy', 'Strategy', 'Adventure', 'Action', 'Adventure', 'Role-Playing', 'Simulation', 'Simulation', 'Sports', '3D', 'Action Adventure', 'Role-Playing', 'Action Adventure', 'Action', 'Role-Playing', 'Action', 'Action Adventure', 'Action', 'Action', 'Action', 'Action', 'Role-Playing', 'Action', 'Role-Playing', 'Action Adventure', 'Action', 'Miscellaneous', 'Action', 'Role-Playing', 'Action Adventure', 'Action', 'Miscellaneous', 'Action', 'Role-Playing', 'Action Adventure', 'Action', 'Miscellaneous', 'Action', 'Role-Playing', 'Action Adventure', 'Action', 'Miscellaneous', 'Role-Playing', 'Miscellaneous', 'Role-Playing', 'Strategy', 'Sports', 'Simulation', 'Role-Playing', 'Adventure', 'Strategy', 'Action Adventure', 'Adventure', 'Action', 'Role-Playing', 'Simulation', 'Action', 'Driving', 'Miscellaneous', 'Action Adventure', 'Strategy', 'Sports', 'Action', 'Sports', 'Action', 'Strategy', 'Sports', 'Action', 'Role-Playing', 'Action', 'Simulation', 'Action Adventure', 'Adventure', 'Miscellaneous', 'Adventure', 'Driving', 'Sports', 'Driving', 'Sports', 'Strategy', 'Miscellaneous', 'Strategy', 'Miscellaneous', 'Action', 'Driving', 'Strategy', 'Adventure', 'Fantasy', 'Miscellaneous', 'Action Adventure', 'Action', 'Strategy', 'Sports', 'Strategy', 'Sports', 'Role-Playing', 'Racing', 'Action', 'Action', 'Action Adventure', 'Adventure', 'Driving', 'Fantasy', 'Adventure', 'Miscellaneous', 'Action Adventure', 'Strategy', 'Action', 'Action', 'Role-Playing', 'Action Adventure', 'Strategy', 'Action Adventure', 'Action', 'Action', 'Action', 'Role-Playing', 'Miscellaneous', 'Action', 'Sports', 'Action Adventure', 'Action', 'Role-Playing', 'Sports', 'Action', 'Action', 'Role-Playing', 'Role-Playing', 'Sports', 'Action', 'Action', 'Role-Playing', 'Role-Playing', 'Sports', 'Action', 'Action', 'Role-Playing', 'Role-Playing', 'Sports', 'Action', 'Action', 'Role-Playing', 'Racing', 'Strategy', 'Action', 'Action Adventure', 'Driving', 'Strategy', 'Action', 'Racing', 'Action Adventure', 'Action Adventure', 'Role-Playing', 'Action', 'Driving', 'Action', 'Action Adventure', 'Action', 'Adventure', 'Driving', 'Action', 'Action Adventure', 'Action', 'Action Adventure', 'Action', 'Sports', 'Adventure', 'Action Adventure', 'Adventure', 'Action Adventure', 'Puzzle', 'Action', 'Action', 'Action', 'Driving', 'Action Adventure', 'Strategy', 'Action', 'Action Adventure', 'Action', 'Simulation', 'Action Adventure', 'Simulation', 'Action', 'Action', 'Adventure', 'Action', 'Adventure', 'Action Adventure', 'Racing', 'Miscellaneous', 'Miscellaneous', 'Action', 'Role-Playing', 'Simulation', 'Strategy', 'Action Adventure', 'Miscellaneous', 'Action', 'Action', 'Adventure', 'Driving', 'Miscellaneous', 'Strategy', 'Action Adventure', 'Action Adventure', 'Role-Playing', 'Action Adventure', 'Action Adventure', 'Strategy', 'Adventure', 'Role-Playing', 'Adventure', 'Sports', 'Action', 'Sports', 'Action Adventure', 'Miscellaneous', 'Role-Playing', 'Action', 'Action', 'Simulation', 'Role-Playing', 'Action Adventure', 'Miscellaneous', 'Sports', 'Action', 'Role-Playing', 'Action Adventure', 'Miscellaneous', 'Sports', 'Action', 'Role-Playing', 'Action Adventure', 'Miscellaneous', 'Sports', 'Action', 'Role-Playing', 'Action Adventure', 'Miscellaneous', 'Sports', 'Action', 'Action Adventure', 'Action', 'Role-Playing', 'Adventure', 'Miscellaneous', 'Sports', 'Miscellaneous', 'Action', 'Action', 'Action', 'Adventure', 'Role-Playing', 'Sports', 'Sports', 'Action', 'Action', 'Action Adventure', 'Strategy', 'Action Adventure', 'Strategy', 'Action', 'Adventure', 'Racing', 'Action', 'Strategy', 'Action Adventure', 'Action', 'Action', 'Racing', 'Action', 'Action Adventure', 'Role-Playing', 'Sports', 'Action', 'Racing', 'Action', 'Sports', 'Action', 'Action', 'Simulation', 'Sports', 'Simulation', 'Sports', 'Action', 'Driving', 'Role-Playing', 'Miscellaneous', 'Sports', 'Action', 'Adventure', 'Adventure', 'Miscellaneous', 'Action', 'Sports', 'Action', 'Strategy', 'Action', 'Action', 'Sports', 'Modern', 'Sports', 'Action', 'Action', 'Adventure', 'Strategy', 'Action', 'Role-Playing', 'Role-Playing', 'Simulation', 'Action', 'Action Adventure', 'Adventure', 'Role-Playing', 'Action', 'Simulation', 'Action', 'Sports', 'Action Adventure', 'Action', 'Simulation', 'Action', 'Role-Playing', 'Action', 'Action', 'Action Adventure', 'Action', 'Role-Playing', 'Action', 'Action', 'Action Adventure', 'Action', 'Role-Playing', 'Action', 'Action', 'Action Adventure', 'Action', 'Role-Playing', 'Action', 'Action', 'Action Adventure', 'Action Adventure', 'Action Adventure', 'Action Adventure', 'Driving', 'Action', 'Action', 'Action Adventure', 'Adventure', 'Action', 'Sports', 'Action Adventure', 'Adventure', 'Action Adventure', 'Role-Playing', 'Action Adventure', 'Simulation', 'Miscellaneous', 'Action', 'Action Adventure', 'Strategy', 'Role-Playing', 'Action', 'Action', 'Racing', 'Driving', 'Racing', 'Action Adventure', 'Role-Playing', 'Action', 'Action', 'Sports', 'Sports', 'Strategy', 'Adventure', 'Action Adventure', 'Driving', 'Miscellaneous', 'Sports', 'Simulation', 'Action', 'Action', 'Role-Playing', 'Driving', 'Action', 'Action', 'Role-Playing', 'Role-Playing', 'Adventure', 'Action Adventure', 'Action', 'Strategy', 'Action Adventure', 'Adventure', 'Simulation', 'Adventure', 'Puzzle', 'Miscellaneous', 'Action', 'Action Adventure', 'Action Adventure', 'Sports', 'Action', 'Action', 'Action', 'Action', 'Strategy', 'Driving', 'Miscellaneous', 'Action', 'Action Adventure', 'Miscellaneous', 'Action', 'Strategy', 'Action', 'Miscellaneous', 'Action', 'Role-Playing', 'Action Adventure', 'Action', 'Action', 'Miscellaneous', 'Action', 'Modern', 'Adventure', 'Action', 'Miscellaneous', 'Action', 'Modern', 'Adventure', 'Action', 'Miscellaneous', 'Action', 'Modern', 'Adventure', 'Action', 'Miscellaneous', 'Action', 'Modern', 'Adventure', 'Action', 'Racing', 'Simulation', 'Action Adventure', 'Action', 'Miscellaneous', 'Racing', 'Sports', 'Action', 'Role-Playing', 'Action Adventure', 'Adventure', 'Racing', 'Simulation', 'Miscellaneous', 'Role-Playing', 'Action', 'Action', 'Racing', 'Sports', 'Adventure', 'Action', 'Action Adventure', 'Action', 'Role-Playing', 'Adventure', 'Adventure', 'Role-Playing', 'Action', 'Action', 'Action', 'Sports', 'Action', 'Role-Playing', 'Action', 'General', 'Miscellaneous', 'Driving', 'Driving', 'Driving', 'Action', 'Action Adventure', 'Action', 'Role-Playing', 'Role-Playing', 'Strategy', 'Miscellaneous', 'Miscellaneous', 'Action Adventure', 'Action', 'Role-Playing', 'Adventure', 'Adventure', 'Action', 'Racing', 'Sports', 'Miscellaneous', 'Role-Playing', 'Action', 'Action', 'Miscellaneous', 'Simulation', 'Action Adventure', 'Role-Playing', 'Simulation', 'Sports', 'Action Adventure', 'Role-Playing', 'Adventure', 'Role-Playing', 'Adventure', 'Action Adventure', 'Role-Playing', 'Role-Playing', 'Action Adventure', 'Role-Playing', 'Sports', 'Puzzle', 'Action', 'Action', 'Miscellaneous', 'Simulation', 'Driving', 'Action Adventure', 'Action Adventure', 'Adventure', 'Simulation', 'Driving', 'Action Adventure', 'Action Adventure', 'Adventure', 'Simulation', 'Driving', 'Action Adventure', 'Action Adventure', 'Adventure', 'Simulation', 'Driving', 'Action Adventure', 'Action Adventure', 'Adventure', 'Action', 'Miscellaneous', 'Sports', 'General', 'Racing', 'Racing', 'Role-Playing', 'Action', 'Traditional', 'Simulation', 'Action', 'Action Adventure', 'Role-Playing', 'Action Adventure', 'Sports', 'Adventure', 'Miscellaneous', 'Action Adventure', 'Strategy', 'Action', 'Driving', 'Action Adventure', 'Adventure', 'Miscellaneous', 'Action', 'Racing', 'Racing', 'Action', 'Role-Playing', 'Strategy', 'Action Adventure', 'Role-Playing', 'Action Adventure', 'Action', 'Action', 'Action', 'Miscellaneous', 'Action', 'Simulation', 'Strategy', 'Action', 'Sports', 'Driving', 'Action', 'Role-Playing', 'Adventure', 'Sports', 'Simulation', 'Action Adventure', 'Action', 'Role-Playing', 'Action Adventure', 'Action', 'Role-Playing', 'Action', 'Sports', 'Miscellaneous', 'Party', 'Simulation', 'Sci-Fi', 'Sports', 'Sports', 'Action', 'Action Adventure', 'Role-Playing', 'Sports', 'Simulation', 'Sports', 'General', 'Strategy', 'Action', 'Miscellaneous', 'Sports', 'Simulation', 'Action', 'Role-Playing', 'Sports', 'Sports', 'Action', 'Action', 'Role-Playing', 'Racing', 'General', 'Action', 'Miscellaneous', 'Role-Playing', 'Racing', 'General', 'Action', 'Miscellaneous', 'Role-Playing', 'Racing', 'General', 'Action', 'Miscellaneous', 'Role-Playing', 'Racing', 'General', 'Action', 'Miscellaneous', 'Driving', 'Role-Playing', 'Action', 'Action Adventure', 'Sports', 'Role-Playing', 'Action', 'Adventure', 'Action', 'Role-Playing', 'Action', 'Adventure', 'Strategy', 'General', 'Action', 'Sports', 'Puzzle', 'Action', 'Action', 'Miscellaneous', 'Action', 'Action', 'Action', 'Action', 'Action', 'Driving', 'Sports', '3D', 'Role-Playing', 'Action', 'Action', 'Action Adventure', 'Sports', 'Miscellaneous', 'Strategy', 'Action', 'Action', 'Sports', 'Action', 'Adventure', 'Action', 'Miscellaneous', 'Action', 'Adventure', 'Sports', 'Role-Playing', 'Action', 'Action Adventure', 'Sports', 'Action Adventure', 'Miscellaneous', 'Action Adventure', 'Driving', 'Action', 'Adventure', 'Strategy', 'Action', 'Adventure', 'Action', 'Action', 'Action', 'Adventure', 'Scrolling', 'Action', 'Sci-Fi', 'Sports', 'Adventure', 'Adventure', 'Adventure', 'Action', 'Sports', 'Action Adventure', 'Action', 'Action', 'Action Adventure', 'Miscellaneous', 'Adventure', 'Action', 'Action', 'Miscellaneous', 'Action', 'Action Adventure', 'Miscellaneous', 'Action', 'Miscellaneous', 'Action', 'Action Adventure', 'Miscellaneous', 'Action', 'Miscellaneous', 'Action', 'Action Adventure', 'Miscellaneous', 'Action', 'Miscellaneous', 'Action', 'Action Adventure', 'Miscellaneous', 'Action', 'Role-Playing', 'Action', 'Action', 'Action', 'Action Adventure', 'Action', 'Action', 'Racing', 'Action', 'Driving', 'Action', 'Role-Playing', 'Miscellaneous', 'Action', 'Driving', 'Simulation', 'Strategy', 'Action', 'Action', 'Action', 'Role-Playing', 'Simulation', 'Action', 'Adventure', 'Role-Playing', 'Action', 'Adventure', 'Strategy', 'Strategy', 'Action', 'Action', 'Simulation', 'Driving', 'Strategy', 'Action Adventure', 'Action Adventure', 'Sports', 'Strategy', 'Action', 'Strategy', 'Strategy', 'Action', 'Sports', 'Sports', 'Action Adventure', 'Sports', 'Action', 'Action Adventure', 'Role-Playing', 'Driving', 'Historic', 'Action', 'Simulation', 'Action Adventure', 'Action', 'Strategy', 'Action Adventure', 'Action', 'Action', 'Driving', 'Miscellaneous', 'Simulation', 'Role-Playing', 'Strategy', 'Role-Playing', 'Action Adventure', 'Role-Playing', 'Adventure', 'Strategy', 'Action', 'Adventure', 'Action', 'Sports', 'Strategy', 'General', 'Strategy', 'Role-Playing', 'Adventure', 'Sports', 'Action Adventure', 'Action', 'Action', 'Miscellaneous', 'Action Adventure', 'Action Adventure', 'Action', 'Action', 'Miscellaneous', 'Action Adventure', 'Action Adventure', 'Action', 'Action', 'Miscellaneous', 'Action Adventure', 'Action Adventure', 'Action', 'Action', 'Miscellaneous', 'Action Adventure', 'Simulation', 'Adventure', 'Action Adventure', 'Simulation', 'Action', 'Action Adventure', 'Action', 'Action', 'Action', 'Action', 'Fantasy', 'Action', 'Puzzle', 'Role-Playing', 'Driving', 'Strategy', 'Role-Playing', 'Strategy', 'Driving', 'Action', 'Action', 'Simulation', 'Adventure', 'Action', 'Role-Playing', 'Action', 'Action Adventure', 'Driving', 'Action', 'Action Adventure', 'Action', 'Strategy', 'Driving', 'Driving', 'Strategy', 'Adventure', 'Action', 'Action Adventure', 'Racing', 'Action Adventure', 'Role-Playing', 'Miscellaneous', 'Role-Playing', 'Action Adventure', 'Action Adventure', 'Action', 'Action', 'Simulation', 'Adventure', 'Action Adventure', 'Strategy', 'Role-Playing', 'Strategy', 'Role-Playing', 'Strategy', 'Strategy', 'Adventure', 'Sports', \"Beat-'Em-Up\", 'Sports', 'Adventure', 'Action', 'Role-Playing', 'Action', 'Action', 'Action', 'Action', 'Role-Playing', 'Action', 'Action Adventure', 'Sports', 'Action', 'Action', 'Sports', 'Miscellaneous', 'Simulation', 'Action', 'Action Adventure', 'Simulation', 'Miscellaneous', 'Action', 'Strategy', 'Adventure', 'Miscellaneous', 'Action', 'Action', 'Strategy', 'Adventure', 'Miscellaneous', 'Action', 'Action', 'Strategy', 'Adventure', 'Miscellaneous', 'Action', 'Action', 'Strategy', 'Adventure', 'Miscellaneous', 'Action', 'Action', 'Action', 'Action', 'Action', 'Role-Playing', 'Action', 'Sports', 'Driving', 'Adventure', 'Action', 'Action', 'Miscellaneous', 'Action', 'Role-Playing', 'Adventure', 'Racing', 'Action Adventure', 'Action', 'Sports', 'Action', 'Action', 'Action', 'Action Adventure', 'Action', 'Adventure', 'Action', 'Action', 'Action', 'Sports', 'Action', 'Action', 'Strategy', 'Driving', 'Miscellaneous', 'Action', 'Sports', 'Miscellaneous', 'Action', 'Strategy', 'General', 'Strategy', 'Action', 'Action', 'Strategy', 'Action Adventure', 'Sports', 'Action', 'Action', 'Action Adventure', 'Action', 'Miscellaneous', 'Action', 'Action', 'Strategy', 'Adventure', 'Adventure', 'Action Adventure', 'Simulation', 'Action', 'Action Adventure', 'Action', 'Action', 'Action', 'Action', 'Racing', 'Action Adventure', 'Strategy', 'Adventure', 'Action', 'Action', 'Action', 'Action', 'Action', 'Driving', 'Strategy', 'Simulation', 'Action Adventure', 'Action', 'Role-Playing', 'Action', 'Adventure', 'Action Adventure', 'Action', 'Action Adventure', 'Miscellaneous', 'Adventure', 'Action Adventure', 'Action', 'Action Adventure', 'Miscellaneous', 'Adventure', 'Action Adventure', 'Action', 'Action Adventure', 'Miscellaneous', 'Adventure', 'Action Adventure', 'Action', 'Action Adventure', 'Miscellaneous', 'Miscellaneous', 'Sports', 'Miscellaneous', 'Action Adventure', 'Miscellaneous', 'Sports', 'Action', 'Adventure', 'Miscellaneous', 'Strategy', 'Action', 'Sports', 'Action', 'Action', 'Action', 'Action', 'Action', 'Action', 'Action', 'Action', 'Adventure', 'Sports', 'Miscellaneous', 'Action', 'Miscellaneous', 'Role-Playing', 'Action', 'Action', 'Miscellaneous', 'Adventure', 'Adventure', 'Racing', 'Role-Playing', 'Action', 'Action', 'Action', 'Miscellaneous', 'Simulation', 'Action Adventure', 'Driving', 'Role-Playing', 'Role-Playing', 'Action', 'Action', 'Alternative', 'Strategy', 'Action', 'Action', 'Action', 'Action', 'Simulation', 'Adventure', 'Real-Time', 'Action', 'Strategy', 'Action', 'Racing', 'Action Adventure', 'Action Adventure', 'Action', 'Action', 'Action', 'Sports', 'Action', 'Action Adventure', 'Action Adventure', 'Driving', 'Driving', 'Driving', 'Role-Playing', 'Action', 'Action', 'Action', 'Action', 'Arcade', 'Driving', 'Action', 'Role-Playing', 'Action', 'Driving', 'Action', 'Real-Time', 'Action', 'Action', 'Action', 'Action', 'Real-Time', 'Action', 'Action', 'Action', 'Action', 'Real-Time', 'Action', 'Action', 'Action', 'Action', 'Real-Time', 'Action', 'Action', 'Action', 'Miscellaneous', 'Action', 'Adventure', 'Role-Playing', 'Role-Playing', 'Adventure', 'Simulation', 'Action', 'Simulation', 'Action', 'Strategy', 'Miscellaneous', 'Action', 'Sports', 'Miscellaneous', 'Action', 'Action', 'Action', 'Role-Playing', 'Role-Playing', 'Action', 'Role-Playing', 'Strategy', 'Strategy', 'Miscellaneous', 'Driving', 'Action', 'Action', 'Role-Playing', 'Action', 'Action', 'Action', 'Role-Playing', 'Role-Playing', 'Miscellaneous', 'Miscellaneous', 'Action', 'Action', 'Action', 'Action', 'General', 'Action', 'Action', 'Military', 'Simulation', 'Action', 'Action', 'Adventure', 'Strategy', 'Action', 'Action', 'Simulation', 'Action Adventure', 'Action', 'Miscellaneous', 'Action', 'Adventure', 'Action Adventure', 'Action', 'Simulation', 'Action', 'Action', 'Strategy', 'Action', 'Simulation', 'Strategy', 'Sports', 'Action', 'Driving', 'Role-Playing', 'Action', 'Action', 'Role-Playing', 'Role-Playing', 'Action', 'Miscellaneous', 'Driving', 'Driving', 'Action', 'Simulation', 'Adventure', 'Action', 'Sports', 'Miscellaneous', 'Action Adventure', 'Adventure', 'Action', 'Sports', 'Miscellaneous', 'Action Adventure', 'Adventure', 'Action', 'Sports', 'Miscellaneous', 'Action Adventure', 'Adventure', 'Action', 'Sports', 'Miscellaneous', 'Action Adventure', 'Simulation', 'Racing', 'Strategy', 'Action', 'Action Adventure', 'Action', 'Action', 'Action Adventure', 'Strategy', 'Miscellaneous', 'Action Adventure', 'Sports', 'Action', 'Miscellaneous', 'Action', 'Action', 'Action', 'Action', 'Role-Playing', 'Action', 'Racing', 'Miscellaneous', 'Simulation', 'Miscellaneous', 'Miscellaneous', 'Adventure', 'Action', 'Strategy', 'Sports', 'Action', 'Strategy', 'Miscellaneous', 'Action', 'Action', 'Action', 'Miscellaneous', 'Action', 'Miscellaneous', 'Action', 'Role-Playing', 'Strategy', 'Action Adventure', 'Strategy', 'Strategy', 'Role-Playing', 'Simulation', 'Miscellaneous', 'Sports', 'Action', 'Role-Playing', 'Action Adventure', 'Strategy', 'Sports', 'Action', 'Role-Playing', 'Strategy', 'Action Adventure', 'Action', 'Strategy', 'Sci-Fi', 'Strategy', 'Action', 'Action', 'Racing', 'Action Adventure', 'Role-Playing', 'Action Adventure', 'Miscellaneous', 'Action', 'General', 'Action', 'Role-Playing', 'Simulation', 'Role-Playing', 'Racing', 'Action Adventure', 'Action', 'Adventure', 'Strategy', 'Role-Playing', 'Action Adventure', 'Action Adventure', 'Adventure', 'Action Adventure', 'Action Adventure', 'Action Adventure', 'Action Adventure', 'Adventure', 'Action Adventure', 'Action Adventure', 'Action Adventure', 'Action Adventure', 'Adventure', 'Action Adventure', 'Action Adventure', 'Action Adventure', 'Action Adventure', 'Adventure', 'Action Adventure', 'Action Adventure', 'Simulation', 'Miscellaneous', 'Action', 'Action', 'Action', 'Action Adventure', 'Action', 'Puzzle', 'Simulation', 'Simulation', 'Simulation', 'Sports', 'Driving', 'Action', 'Miscellaneous', 'Action Adventure', 'Action', 'Miscellaneous', 'Simulation', 'Driving', 'Driving', 'Role-Playing', 'Puzzle', 'Traditional', 'Action', 'Adventure', 'Role-Playing', 'Action Adventure', 'Action', 'Adventure', 'Simulation', 'Action', 'Olympic Sports', 'Adventure', 'Action', 'Racing', 'Adventure', 'Strategy', 'Miscellaneous', 'Sports', 'Strategy', 'Strategy', 'Adventure', 'Action', 'Action', 'Miscellaneous', 'Strategy', 'Sports', 'Action Adventure', 'Sports', 'Sports', 'Role-Playing', 'Miscellaneous', 'Action Adventure', 'Sports', 'Shooter', 'Action', 'Action', 'Action', 'Sports', 'Miscellaneous', 'Role-Playing', 'Role-Playing', 'Role-Playing', 'Driving', 'Role-Playing', 'Action', 'Action', 'Miscellaneous', 'Action Adventure', 'Role-Playing', 'Puzzle', 'Action', 'Action Adventure', 'Action Adventure', 'Rally / Offroad', 'Action', 'Role-Playing', 'Action', 'Action', 'Sports', 'Action Adventure', 'Action Adventure', 'Sports', 'Action', 'Sports', 'Action Adventure', 'Action Adventure', 'Sports', 'Action', 'Sports', 'Action Adventure', 'Action Adventure', 'Sports', 'Action', 'Sports', 'Action Adventure', 'Action Adventure', 'Sports', 'Action', 'Action', 'Action Adventure', 'Action Adventure', 'Action', 'Action', 'Role-Playing', 'Action Adventure', 'Sports', 'Action', 'Action Adventure', 'Action', 'Action', 'Adventure', 'Simulation', 'Action', 'Puzzle', 'Adventure', 'Miscellaneous', 'Action Adventure', 'Miscellaneous', 'Action', 'Action', 'Miscellaneous', 'Adventure', 'Action', 'Action', 'Action Adventure', 'Driving', 'Action', 'Action Adventure', 'Sports', 'Miscellaneous', 'Action Adventure', 'Sports', 'Sports', 'Simulation', 'Action', 'Driving', 'Action Adventure', 'Puzzle', 'Action', 'Action Adventure', 'Role-Playing', 'Adventure', 'Action', 'Strategy', 'Action', 'Sports', 'Action Adventure', 'Miscellaneous', 'Action', 'Action', 'Action', 'Action', 'Action Adventure', 'Action', 'Role-Playing', 'Action Adventure', 'Action', 'Role-Playing', 'Action', 'Action Adventure', 'Simulation', 'Driving', 'Driving', 'Strategy', 'Action Adventure', 'Action Adventure', 'Racing', 'Simulation', 'Action', 'Action', 'Action', 'Miscellaneous', 'Miscellaneous', 'Strategy', 'Miscellaneous', 'Action', 'Massively Multiplayer', 'Racing', 'Adventure', 'Role-Playing', 'Racing', 'Action', 'Action Adventure', 'Action', 'Role-Playing', 'Racing', 'Action', 'Action Adventure', 'Action', 'Role-Playing', 'Racing', 'Action', 'Action Adventure', 'Action', 'Role-Playing', 'Racing', 'Action', 'Action Adventure', 'Action', 'Action', 'Miscellaneous', 'Sports', 'Action Adventure', 'Driving', 'Driving', 'Action', 'Action', 'Strategy', 'Miscellaneous', 'Adventure', 'Action Adventure', 'Action', 'Action', 'Action', 'Role-Playing', 'Strategy', 'Role-Playing', 'Role-Playing', 'Miscellaneous', 'Strategy', 'Action', 'Miscellaneous', 'Role-Playing', 'Action', 'Simulation', 'Sports', 'Adventure', 'Strategy', 'Driving', 'Action', 'Fantasy', 'Strategy', 'Action Adventure', 'Action Adventure', 'Strategy', 'Role-Playing', 'Action', 'Miscellaneous', 'Miscellaneous', 'Action', 'Driving', 'Simulation', 'Action Adventure', 'Action', 'Action Adventure', 'Strategy', 'Adventure', 'Action', 'Action', 'Action', 'Driving', 'Action', 'Role-Playing', 'Action', 'Action', 'Action Adventure', 'Driving', 'Action Adventure', 'Sports', 'Action', 'Action', 'Adventure', 'Action', 'Action', 'Adventure', 'Action', 'Strategy', 'Role-Playing', 'Driving', 'Driving', 'General', 'Action', 'Role-Playing', 'Simulation', 'Action', 'Action', 'Action', 'Role-Playing', 'Driving', 'Strategy', 'Action', 'Action', 'Action Adventure', 'Action', 'Strategy', 'Action', 'Action', 'Action Adventure', 'Action', 'Strategy', 'Action', 'Action', 'Action Adventure', 'Action', 'Strategy', 'Action', 'Action', 'Action Adventure', 'Action', 'Strategy', 'Role-Playing', '2D', 'Action', 'Action', 'Sports', 'Action', 'Strategy', 'Action', 'Action', 'Racing', 'Action Adventure', 'Role-Playing', 'Action Adventure', 'Miscellaneous', 'Strategy', 'Role-Playing', 'Role-Playing', 'Action', 'Adventure', 'Miscellaneous', 'Action', 'Role-Playing', 'Driving', 'Action Adventure', 'Role-Playing', 'Action', 'Action', 'Strategy', 'Adventure', 'Action', 'Role-Playing', 'Role-Playing', 'Puzzle', 'Action', 'Miscellaneous', 'Strategy', 'Action Adventure', 'Action Adventure', 'Action', 'Strategy', 'Driving', 'Driving', 'Action Adventure', 'Action', 'Driving', 'Action', 'Driving', 'Adventure', 'Action Adventure', 'Action', 'Adventure', 'Miscellaneous', 'Role-Playing', 'Action', 'Action', 'Role-Playing', 'Strategy', 'Action Adventure', 'Simulation', 'Action', 'Sports', 'Role-Playing', 'Puzzle', 'Action', 'Action', 'Strategy', 'Shooter', 'Miscellaneous', 'Action Adventure', 'Action', 'Action', 'Puzzle', 'Action Adventure', 'Action', 'Sports', 'Role-Playing', 'Action Adventure', 'Simulation', 'Role-Playing', 'Sports', 'Action Adventure', 'Action', 'Adventure', 'Sports', 'Sports', 'Action Adventure', 'Action', 'Adventure', 'Sports', 'Sports', 'Action Adventure', 'Action', 'Adventure', 'Sports', 'Sports', 'Action Adventure', 'Action', 'Adventure', 'Sports', 'Action', 'Action', 'Shooter', 'Action Adventure', 'Role-Playing', 'Action', 'Sports', 'Action Adventure', 'Action', 'Action', 'Action Adventure', 'Action', 'Miscellaneous', 'Action Adventure', 'Simulation', 'Sports', 'Adventure', 'Action', 'Role-Playing', 'Role-Playing', 'Action Adventure', 'Action Adventure', 'Sci-Fi', 'Adventure', 'Action', 'Miscellaneous', 'Action Adventure', 'Action', 'Action', 'Miscellaneous', 'Action', 'Miscellaneous', 'Strategy', 'Action', 'Action', 'Sports', 'Adventure', 'Miscellaneous', 'Racing', 'Action', 'Action', 'Simulation', 'Sports', 'Action', 'Strategy', 'Action', 'Miscellaneous', 'Simulation', 'Action', 'Action', 'Action', 'Action Adventure', 'Driving', 'Strategy', 'Strategy', 'Action', 'Action', 'Strategy', 'Puzzle', 'Action', 'Action', 'Strategy', 'Action', 'Action Adventure', 'Miscellaneous', 'Action', 'Sports', 'Driving', 'Action', 'Action', 'Sports', 'Action Adventure', 'Sports', 'Action', 'Sports', 'Action', 'Driving', 'Driving', 'Role-Playing', 'Action', 'Action', 'Action Adventure', 'Action', 'Sports', 'Racing', 'Action', 'Action Adventure', 'Action', 'Sports', 'Racing', 'Action', 'Action Adventure', 'Action', 'Sports', 'Racing', 'Action', 'Action Adventure', 'Action', 'Sports', 'Racing', 'Action', 'Role-Playing', 'Action', 'Role-Playing', 'Action Adventure', 'Action', 'Action', 'Action', 'Action', 'Action Adventure', 'Action', 'Adventure', 'Driving', 'Role-Playing', 'Action', 'Role-Playing', 'Action Adventure', 'Action', 'Miscellaneous', 'Action', 'Action', 'Action', 'Action', 'Strategy', 'Driving', 'Action', 'Strategy', 'Simulation', 'Strategy', 'Action', 'Racing', 'Action', 'Adventure', 'Action', 'Action', 'Racing', 'Action Adventure', 'Action', 'Adventure', 'Action', 'Adventure', 'Action Adventure', 'Driving', 'Action Adventure', 'Action', 'Role-Playing', 'Action', 'Role-Playing', 'Role-Playing', 'Action Adventure', 'Adventure', 'Action', 'Adventure', 'Strategy', 'Role-Playing', 'Action', 'Strategy', 'Action', 'Strategy', 'Adventure', 'Action', 'Sports', 'Role-Playing', 'Miscellaneous', 'Driving', 'Action', 'Simulation', 'Miscellaneous', 'Action Adventure', 'Miscellaneous', 'Strategy', 'Sports', 'Sports', 'Fantasy', 'Action', 'Strategy', 'Action', 'Action', 'Miscellaneous', 'Miscellaneous', 'Action Adventure', 'Action', 'Driving', 'Driving', 'Action', 'Action Adventure', 'Action', 'Driving', 'Driving', 'Action', 'Action Adventure', 'Action', 'Driving', 'Driving', 'Action', 'Action Adventure', 'Action', 'Driving', 'Driving', 'Action', 'Adventure', 'Driving', 'Strategy', 'Action', 'Role-Playing', 'Role-Playing', 'Adventure', 'Strategy', 'Miscellaneous', 'Role-Playing', 'Adventure', 'Action', 'Driving', 'Action', 'Action Adventure', 'Action', 'Miscellaneous', 'Strategy', 'Racing', 'Action', 'Driving', 'Role-Playing', 'Driving', 'Action', 'Sci-Fi', 'Action Adventure', 'Action', 'Miscellaneous', 'Action', 'Action Adventure', 'Action', 'Driving', 'Action', 'Role-Playing', 'Action', 'Driving', 'Action', 'Action', 'Action Adventure', 'Strategy', 'Driving', 'Action', 'Simulation', 'Strategy', 'Action', 'Action', 'Action Adventure', 'Strategy', 'Strategy', 'Action', 'Miscellaneous', 'Adventure', 'Action', 'Miscellaneous', 'Action', 'Driving', 'Action', 'Action', 'Action Adventure', 'Role-Playing', 'Sports', 'Action', 'Miscellaneous', 'Sports', 'Role-Playing', 'Action', 'Driving', 'Action', 'Role-Playing', 'Action', 'Racing', 'Sports', 'Adventure', 'Racing', 'Sports', 'Strategy', 'Sports', 'Action', 'Action', 'Driving', 'Adventure', 'Driving', 'Racing', 'Historic', 'Action', 'Adventure', 'Driving', 'Racing', 'Historic', 'Action', 'Adventure', 'Driving', 'Racing', 'Historic', 'Action', 'Adventure', 'Driving', 'Racing', 'Historic', 'Action', 'Action', 'Action', 'Strategy', 'Miscellaneous', 'Action', 'Action', 'Sports', 'Miscellaneous', 'Role-Playing', 'Racing', 'Adventure', 'Action', 'Miscellaneous', 'Miscellaneous', 'Action', 'Simulation', 'Action', 'Role-Playing', 'Strategy', 'Sports', 'Action', 'Action Adventure', 'Adventure', 'Action Adventure', 'Adventure', 'Role-Playing', 'Action', 'Action', 'Adventure', 'Sports', 'Action', 'Miscellaneous', 'Action', 'Role-Playing', 'Adventure', 'Action', 'Strategy', 'Role-Playing', 'Action Adventure', 'Action', 'Adventure', 'Strategy', 'Strategy', 'Puzzle', 'Strategy', 'Role-Playing', 'Action', 'Role-Playing', 'Strategy', 'Adventure', 'Miscellaneous', 'Role-Playing', 'Action', 'Driving', 'Role-Playing', 'Action', 'Adventure', 'Role-Playing', 'Driving', 'Action', 'Action', 'Driving', 'Action Adventure', 'Sci-Fi', 'Role-Playing', 'Action', 'Role-Playing', 'Action', 'Strategy', 'Strategy', 'Simulation', 'Sports', 'Action', 'Action', 'Adventure', 'Adventure', 'Sports', 'Sports', 'Role-Playing', 'Driving', 'Miscellaneous', 'Role-Playing', 'Strategy', 'Action', 'Driving', 'Miscellaneous', 'Role-Playing', 'Strategy', 'Action', 'Driving', 'Miscellaneous', 'Role-Playing', 'Strategy', 'Action', 'Driving', 'Miscellaneous', 'Role-Playing', 'Strategy', 'Action', 'Strategy', 'Action', 'Action', 'Racing', 'Action Adventure', 'Role-Playing', 'Action', 'Action', 'Miscellaneous', 'Miscellaneous', 'Action', 'Simulation', 'Action', 'Racing', 'Miscellaneous', 'Action Adventure', 'Driving', 'Action', 'Racing', 'Action Adventure', 'Modern', 'Sports', 'Simulation', 'Driving', 'Sports', 'Action', 'Puzzle', 'Role-Playing', 'Driving', 'Action', 'Action', 'Action', 'Role-Playing', 'Action Adventure', 'Action', 'Action', 'Simulation', 'Driving', 'Strategy', 'Action Adventure', 'Action', 'Action', 'Action', 'Action', 'Action', 'Action', 'Driving', 'Miscellaneous', 'Strategy', 'General', 'Government', 'Action', 'Role-Playing', 'Simulation', 'Action Adventure', 'Action Adventure', 'Action Adventure', 'Simulation', 'Strategy', 'Action', 'Action', 'Action Adventure', 'Miscellaneous', 'Miscellaneous', 'Miscellaneous', 'Action', 'Action Adventure', 'Role-Playing', 'Action', 'Action', 'Adventure', 'Adventure', 'Role-Playing', 'Action', 'Action', 'Racing', 'Action', 'Simulation', 'Action', 'Action', 'Action Adventure', 'Miscellaneous', 'Role-Playing', 'Simulation', 'Role-Playing', 'Action Adventure', 'Miscellaneous', 'Role-Playing', 'Simulation', 'Role-Playing', 'Action Adventure', 'Miscellaneous', 'Role-Playing', 'Simulation', 'Role-Playing', 'Action Adventure', 'Miscellaneous', 'Role-Playing', 'Simulation', 'Role-Playing', 'Adventure', 'Action', 'Miscellaneous', 'Role-Playing', 'Action', 'Adventure', 'Racing', 'Action', 'Action', 'Action', 'Sports', 'Action', 'Action Adventure', 'Sports', 'Action Adventure', 'Action Adventure', 'Action Adventure', 'Action', 'Action', 'Action', 'Action', 'Strategy', 'Adventure', 'Action', 'Sports', 'Sports', 'Action', 'Role-Playing', 'Miscellaneous', 'Action Adventure', 'Action Adventure', 'Miscellaneous', 'Action Adventure', 'Action', 'Action', 'Simulation', 'Role-Playing', 'Sci-Fi', 'Action Adventure', 'General', 'Action', 'Action', 'Action', 'Action Adventure', 'Action', 'Fantasy', 'Action', 'Action', 'Action', 'Action', 'Role-Playing', 'Simulation', 'Miscellaneous', 'Role-Playing', 'Puzzle', 'Role-Playing', 'Action', 'Adventure', 'Puzzle', 'Action Adventure', 'Action Adventure', 'Action', 'Driving', 'Action', 'Action', 'Action', 'Action', 'Miscellaneous', 'Action', 'Action', 'Miscellaneous', 'Strategy', 'Action', 'Action', 'Driving', 'Sports', 'Strategy', 'Sports', 'Role-Playing', 'Action Adventure', 'Strategy', 'Simulation', 'Action Adventure', 'Strategy', 'Miscellaneous', 'Strategy', 'Simulation', 'Action Adventure', 'Strategy', 'Miscellaneous', 'Strategy', 'Simulation', 'Action Adventure', 'Strategy', 'Miscellaneous', 'Strategy', 'Simulation', 'Action Adventure', 'Strategy', 'Miscellaneous', 'Racing', 'Action', 'Role-Playing', 'Strategy', 'Miscellaneous', 'Action Adventure', 'Strategy', 'Strategy', 'Role-Playing', 'Action', 'Action', 'Miscellaneous', 'Role-Playing', 'Action', 'Adventure', 'Miscellaneous', 'Miscellaneous', 'Miscellaneous', 'Action', 'Action', 'General', 'Simulation', 'Miscellaneous', 'Action', 'Puzzle', 'Action Adventure', 'Action', 'Driving', 'Miscellaneous', 'Adventure', 'Action', 'Action', 'Action', 'Action', 'Action', 'Simulation', 'Action Adventure', 'Role-Playing', 'Action', 'Action Adventure', 'Adventure', 'Role-Playing', 'Action', 'Role-Playing', 'Simulation', 'Racing', 'Action', 'Action', 'Role-Playing', 'Driving', 'Miscellaneous', 'Strategy', 'Driving', 'Action Adventure', 'Strategy', 'Action', 'Strategy', 'Driving', 'Sports', 'Strategy', 'Action', 'Role-Playing', 'Action', 'Action Adventure', 'Role-Playing', 'Driving', 'Action', 'Role-Playing', 'Driving', 'Action Adventure', 'Action', 'Adventure', 'Strategy', 'Strategy', 'Puzzle', 'Strategy', 'Action', 'Action', 'Driving', 'Action', 'Action', 'Role-Playing', 'General', 'Action', 'Action', 'Action', 'Role-Playing', 'General', 'Action', 'Action', 'Action', 'Role-Playing', 'General', 'Action', 'Action', 'Action', 'Role-Playing', 'General', 'Action', 'Action', 'Formula One', 'Driving', 'Action', 'Driving', 'Strategy', 'Action', 'Action', 'Adventure', 'Action', 'Sports', 'Action', 'Action', 'Miscellaneous', 'Sports', 'Action', 'Action', 'Action', 'Sports', 'Sports', 'Action Adventure', 'Simulation', 'Strategy', 'Miscellaneous', 'Miscellaneous', 'Strategy', 'Role-Playing', 'Role-Playing', 'Fighting', 'Action Adventure', 'Action', 'Action', 'Driving', 'Role-Playing', 'Role-Playing', 'Driving', 'Simulation', 'Action', 'Action', 'Strategy', 'Action', 'Modern', 'Action', 'Action', 'Action', 'Simulation', 'Simulation', 'Action Adventure', 'Adventure', 'Action', 'Adventure', 'Role-Playing', 'Miscellaneous', 'Role-Playing', 'Strategy', 'Role-Playing', 'Action Adventure', 'Puzzle', 'Strategy', 'Action', 'Role-Playing', 'Action', 'Action', 'Adventure', 'Action Adventure', 'Action', 'Action', 'Racing', 'Action Adventure', 'Sports', 'Action', 'Action', 'Traditional', 'Action', 'Action', 'Action', 'Role-Playing', 'Action Adventure', 'Action', 'Action Adventure', 'Miscellaneous', 'Sports', 'Action', 'Strategy', 'Action', 'Action Adventure', 'Sports', 'Action', 'Strategy', 'Action', 'Action Adventure', 'Sports', 'Action', 'Strategy', 'Action', 'Action Adventure', 'Sports', 'Action', 'Strategy', 'Action', 'Action Adventure', 'Sci-Fi', 'Action', 'Action', 'Action Adventure', 'Action', 'Sports', 'Action Adventure', 'Action', 'Driving', 'Miscellaneous', 'Action', 'Strategy', 'Action', 'Action', 'Action', 'Action', 'Miscellaneous', 'Role-Playing', 'Action Adventure', 'Driving', 'Action', 'Horror', 'Adventure', 'Action', 'Driving', 'Sports', 'Action Adventure', 'Role-Playing', 'Role-Playing', 'Action Adventure', 'Action', 'Strategy', 'Action Adventure', 'Role-Playing', 'Action Adventure', 'Action', 'Miscellaneous', 'Driving', 'Action', 'Adventure', 'Action', 'Action', 'Action Adventure', 'Adventure', 'Action Adventure', 'General', 'Action', 'Miscellaneous', 'Action', 'General', 'Role-Playing', 'Role-Playing', 'Role-Playing', 'Action', 'Action', 'Shooter', 'Action', 'Sports', 'Action', 'Strategy', 'Action', 'Adventure', 'Action Adventure', 'Action', 'Role-Playing', 'Action', 'Driving', 'Sports', 'Adventure', 'Action Adventure', 'Action', 'Sports', 'Driving', 'Action', 'Adventure', 'Strategy', 'Simulation', 'Sports', 'Action', 'Role-Playing', 'Action', 'Action Adventure', 'Action Adventure', 'Action', 'Action', 'Action', 'Action Adventure', 'Action Adventure', 'Action', 'Action', 'Action', 'Action Adventure', 'Action Adventure', 'Action', 'Action', 'Action', 'Action Adventure', 'Action Adventure', 'Action', 'Action', 'Action', 'Action', 'Action', 'Action Adventure', 'Role-Playing', 'Role-Playing', 'Simulation', 'Action', 'Strategy', 'Racing', 'Sports', 'Adventure', 'Strategy', 'Action', 'Sports', 'Driving', 'Action', 'Action Adventure', 'Simulation', 'Action Adventure', 'Action', 'Action', 'Driving', 'Action', 'Action', 'Role-Playing', 'Action', 'Role-Playing', 'Action', 'Driving', 'Racing', 'GT / Street', 'Role-Playing', 'Role-Playing', 'Action', 'Action', 'Action', 'Simulation', 'Simulation', 'Miscellaneous', 'Role-Playing', 'Action', 'Action', 'Action', 'Action', 'Action', 'Adventure', 'Action', 'Action', 'Miscellaneous', 'Strategy', 'Adventure', 'Action Adventure', 'Modern', 'Action', 'Miscellaneous', 'Adventure', 'Strategy', 'Sports', 'Sports', 'Action Adventure', 'Strategy', 'Role-Playing', 'Action Adventure', 'Action', 'Role-Playing', 'Role-Playing', 'Role-Playing', 'Action', 'Strategy', 'Miscellaneous', 'Action Adventure', 'Action', 'Miscellaneous', 'Action', 'Adventure', 'Strategy', 'Role-Playing', 'Action', 'Adventure', 'Action', 'Action Adventure', 'Action', 'Action', 'Action', 'Action', 'Action Adventure', 'Action', 'Action', 'Action', 'Action', 'Action Adventure', 'Action', 'Action', 'Action', 'Action', 'Action Adventure', 'Action', 'Action', 'Action', 'Sports', 'Action', 'Fighting', 'Action', 'Action', 'Simulation', 'Driving', 'Role-Playing', 'Action', 'Action', 'Action', 'Action Adventure', 'Adventure', 'Action', 'Action', 'Sports', 'Action Adventure', 'Action', 'Action Adventure', 'Driving', 'Role-Playing', 'Strategy', 'Action', 'Action Adventure', 'Action', 'Miscellaneous', 'Action', 'Action Adventure', 'Adventure', 'Action Adventure', 'Strategy', 'Driving', 'Action', 'Sports', 'Action', 'Strategy', 'Puzzle', 'Driving', 'Simulation', 'Role-Playing', 'Action', 'Action Adventure', 'Action', 'Action Adventure', 'Sports', 'Driving', 'Action', 'Racing', 'Action', 'Miscellaneous', 'Action', 'Action', 'Simulation', 'Action', 'Action Adventure', 'Role-Playing', 'Action', 'Action', 'Strategy', 'Action', 'Action', 'Action', '1-2', 'Driving', 'General', 'Action', 'Strategy', 'Action', 'Action', 'Sports', 'Strategy', 'Action', 'Driving', 'Strategy', 'Sports', 'Role-Playing', 'Driving', 'Miscellaneous', 'Action', 'Miscellaneous', 'Action RPG', 'Action', 'Action', 'Action', 'Simulation', 'Action RPG', 'Action', 'Action', 'Action', 'Simulation', 'Action RPG', 'Action', 'Action', 'Action', 'Simulation', 'Action RPG', 'Action', 'Action', 'Action', 'Simulation', 'Miscellaneous', 'Action', 'Action Adventure', 'Action Adventure', 'Action', 'Action', 'Action', 'Action', 'Action', 'Miscellaneous', 'Strategy', 'Miscellaneous', 'Action', 'Action', 'Action', 'Action', 'Adventure', 'Action Adventure', 'Action', 'Driving', 'Action', 'Action', 'Driving', 'Miscellaneous', 'Action Adventure', 'Action Adventure', 'Action Adventure', 'Adventure', 'Action', 'Adventure', 'Strategy', 'Action', 'General', 'Action RPG', 'Strategy', 'Action', 'Miscellaneous', 'Role-Playing', 'Miscellaneous', 'Simulation', 'Simulation', 'Action', 'Simulation', 'Role-Playing', 'Action', 'Action Adventure', 'Miscellaneous', 'Action Adventure', 'Action', 'Adventure', 'Strategy', 'Action', 'Action', 'Miscellaneous', 'Sports', 'Role-Playing', 'Role-Playing', 'Miscellaneous', 'Sports', 'Driving', 'Driving', 'Action', 'Role-Playing', 'Action', 'Action Adventure', 'Miscellaneous', 'Miscellaneous', 'Simulation', 'Action', 'Strategy', 'Action', 'Simulation', 'Fantasy', 'Role-Playing', 'Action', 'Role-Playing', 'Driving', 'Action', 'Traditional', 'Strategy', 'Adventure', 'Role-Playing', 'Action', 'Strategy', 'Strategy', 'Adventure', 'Role-Playing', 'Action', 'Strategy', 'Strategy', 'Adventure', 'Role-Playing', 'Action', 'Strategy', 'Strategy', 'Adventure', 'Role-Playing', 'Action', 'Strategy', 'Strategy', 'Action', 'Action', 'Strategy', 'Action Adventure', 'Action Adventure', 'Action', 'Action', 'Role-Playing', 'Action Adventure', 'Adventure', 'Miscellaneous', 'Action Adventure', 'Action Adventure', 'Role-Playing', 'Action Adventure', 'Action', 'Miscellaneous', 'Action', 'Miscellaneous', 'Adventure', 'Miscellaneous', 'Action', 'Action', 'Action', 'Adventure', 'Futuristic', 'Role-Playing', 'Action Adventure', 'Sports', 'Miscellaneous', 'Action', 'Action Adventure', 'Action RPG', 'Sports', 'Sports', 'Action', 'Action Adventure', 'Miscellaneous', 'Strategy', 'Action Adventure', 'Role-Playing', 'Action', 'Action', 'Action Adventure', 'Role-Playing', 'Action', 'Adventure', 'Strategy', 'Miscellaneous', 'Miscellaneous', 'Strategy', 'Action', 'Strategy', 'Role-Playing', 'Simulation', 'Action', 'Action', 'Shooter', 'Action', 'Action', 'Adventure', 'Simulation', 'Action Adventure', 'Strategy', 'Action', 'Action', 'Action Adventure', 'Action', 'Sports', 'Action', 'Action', 'Sports', 'Action Adventure', 'Simulation', 'Action Adventure', 'Role-Playing', 'Racing', 'Action', 'Racing', 'Miscellaneous', 'Action Adventure', 'Sports', 'Action', 'Miscellaneous', 'Miscellaneous', 'Action Adventure', 'Sports', 'Action', 'Miscellaneous', 'Miscellaneous', 'Action Adventure', 'Sports', 'Action', 'Miscellaneous', 'Miscellaneous', 'Action Adventure', 'Sports', 'Action', 'Miscellaneous', 'Miscellaneous', 'Action', 'Action', 'Miscellaneous', 'Action', 'Action', 'Action', 'Action', 'Driving', 'Action', 'Action', 'Adventure', 'Sports', 'Adventure', 'Sports', 'Action', 'Adventure', 'Action', 'Action', 'Driving', 'Action', 'Action', 'Action', 'Role-Playing', 'Action', 'Action', 'Action', 'Strategy', 'Miscellaneous', 'Action', 'Action', 'Miscellaneous', 'Miscellaneous', 'Action', 'Strategy', 'Role-Playing', 'Adventure', 'Sports', 'Action Adventure', 'Action', 'Action', 'General', 'Action', 'Action Adventure', 'Action', 'Miscellaneous', 'Simulation', 'Miscellaneous', 'Action', 'Action', 'Adventure', 'Action Adventure', 'Action', 'Action RPG', 'Action', 'Miscellaneous', 'Action Adventure', 'Adventure', 'Action Adventure', 'Strategy', 'Action Adventure', 'Driving', 'Sports', 'Action Adventure', 'Simulation', 'Action', 'Miscellaneous', 'Action', 'Action Adventure', 'Action', 'Action', 'Action Adventure', 'Role-Playing', 'Action', 'Action', 'Role-Playing', 'Driving', 'Strategy', 'Role-Playing', 'Role-Playing', 'Action', 'Action', 'Miscellaneous', 'Driving', 'Action', 'Action', 'Action', 'Miscellaneous', 'Driving', 'Action', 'Action', 'Action', 'Miscellaneous', 'Driving', 'Action', 'Action', 'Action', 'Miscellaneous', 'Driving', 'Action', 'Action', 'Action', 'Role-Playing', 'Driving', 'Simulation', 'Role-Playing', 'Action Adventure', 'Action Adventure', 'Action', 'Action', 'Driving', 'Action', 'Action Adventure', 'Action', 'Action Adventure', 'Action', 'Action', 'Action', 'Action', 'Strategy', 'Action', 'Action', 'Action', 'Sports', 'Role-Playing', 'Action', 'Driving', 'Action', 'Action', 'Adventure', 'Action', 'General', 'Sports', 'Driving', 'Action Adventure', 'Action Adventure', 'Simulation', 'Simulation', 'Role-Playing', 'Simulation', 'Puzzle', 'Action', 'Adventure', 'Action Adventure', 'Action Adventure', 'Miscellaneous', 'Action Adventure', 'Action', 'Role-Playing', 'Action', 'Action Adventure', 'Strategy', 'Miscellaneous', 'Action', 'Action Adventure', 'Driving', 'Action Adventure', 'Adventure', 'Action Adventure', 'Action Adventure', 'Adventure', 'Action', 'Action Adventure', 'Action', 'Action', 'Action', 'Action', 'Action Adventure', 'Role-Playing', 'Action', 'Action', 'Strategy', 'Miscellaneous', 'Action', 'Driving', 'Action Adventure', 'Role-Playing', 'Miscellaneous', 'Miscellaneous', 'Action', 'Action Adventure', 'Action', 'Simulation', 'Sports', 'Action', 'Strategy', 'Action', 'Simulation', 'Sports', 'Action', 'Strategy', 'Action', 'Simulation', 'Sports', 'Action', 'Strategy', 'Action', 'Simulation', 'Sports', 'Action', 'Strategy', 'Action Adventure', 'Action Adventure', 'Simulation', 'Strategy', 'Action Adventure', 'Action', 'Action', 'Action Adventure', 'Action', 'Strategy', 'No Online Multiplayer', 'Action Adventure', 'Sports', 'Racing', 'Sports', 'Action', 'Action', 'Sports', 'Role-Playing', 'Sports', 'Action Adventure', 'Action', 'Racing', 'Action', 'Miscellaneous', 'Role-Playing', 'Action Adventure', 'Driving', 'Action', 'Simulation', 'Action', 'Miscellaneous', 'Action', 'Action', 'Action', 'Driving', 'Action', 'Sports', 'Strategy', 'Strategy', 'Platformer', 'Role-Playing', 'Strategy', 'Action', 'Driving', 'Adventure', 'Action Adventure', 'Action Adventure', 'Action Adventure', 'Action', 'Action', 'Role-Playing', 'Role-Playing', 'Adventure', 'Action', 'Role-Playing', 'Sports', 'Action', 'Action', 'Adventure', 'Adventure', 'Sports', 'Simulation', 'Action', 'General', 'Role-Playing', 'Action', 'Action', 'Strategy', 'Action Adventure', 'Action', 'Driving', 'Driving', 'Sports', 'Action Adventure', 'Strategy', 'Strategy', 'Strategy', 'Sports', 'Adventure', 'Action Adventure', 'Action', 'Miscellaneous', 'Simulation', 'Adventure', 'Action Adventure', 'Action', 'Miscellaneous', 'Simulation', 'Adventure', 'Action Adventure', 'Action', 'Miscellaneous', 'Simulation', 'Adventure', 'Action Adventure', 'Action', 'Miscellaneous', 'Simulation', 'Adventure', 'Action Adventure', 'Action', 'Simulation', 'Action', 'Action', 'Adventure', 'Action Adventure', 'General', 'Sports', 'Sci-Fi', 'Role-Playing', 'Action', 'Role-Playing', 'Strategy', 'Action', 'Action', 'Adventure', 'Action Adventure', 'Driving', 'Action', 'Action', 'Simulation', 'Action Adventure', 'Action', 'Action', 'Strategy', 'Simulation', 'Driving', 'Action Adventure', 'Driving', 'Action', 'Driving', 'Action', 'Role-Playing', 'Sports', 'Action', 'Action Adventure', 'Strategy', 'Adventure', 'Action', 'Role-Playing', 'Miscellaneous', 'Action', 'Action', 'Driving', 'Driving', 'Sports', 'Action', 'Action', 'Sports', 'Action Adventure', 'Action Adventure', 'Driving', 'Action', 'Action Adventure', 'Adventure', 'Role-Playing', 'Puzzle', 'Action', 'Adventure', 'Action', 'Adventure', 'Adventure', 'Action', 'Action', 'Strategy', 'Racing', 'Miscellaneous', 'Sports', 'Action Adventure', 'Action', 'Action', 'Action', 'Action', 'Strategy', 'Action', 'Action', 'Action Adventure', 'Adventure', 'Action', 'Action', 'Simulation', 'Role-Playing', 'Action', 'Fantasy', 'Action', 'Simulation', 'Role-Playing', 'Action', 'Fantasy', 'Action', 'Simulation', 'Role-Playing', 'Action', 'Fantasy', 'Action', 'Simulation', 'Role-Playing', 'Action', 'Fantasy', 'Action', 'Sports', 'Sports', 'Miscellaneous', 'Action', 'Miscellaneous', 'Action', 'Role-Playing', 'Miscellaneous', 'Action Adventure', 'Action', 'Action', 'Strategy', 'Strategy', 'Sports', 'Action', 'Simulation', 'Action', 'Adventure', 'Simulation', 'Role-Playing', 'Racing', 'Action Adventure', 'Sports', 'Action', 'Action', 'Driving', 'Racing', 'Action', 'Miscellaneous', 'Action Adventure', 'Action Adventure', 'Action', 'Strategy', 'Action', 'Action', 'Role-Playing', 'Strategy', 'Adventure', 'Action', 'Sports', 'Strategy', 'Driving', 'Driving', 'Strategy', 'Strategy', 'Miscellaneous', 'Adventure', 'Action', 'Racing', 'Action', 'Action', 'Action Adventure', 'Action', 'Driving', 'Action', 'Sports', 'Strategy', 'Role-Playing', 'Strategy', 'Driving', 'Role-Playing', 'Action Adventure', 'Adventure', 'Strategy', 'Action', 'Role-Playing', 'Miscellaneous', 'Action', 'Action', 'Action Adventure', 'Miscellaneous', 'Adventure', 'Action', 'Action', 'Adventure', 'Action', 'Miscellaneous', 'Sports', 'Action Adventure', 'Strategy', 'Action', 'Miscellaneous', 'Sports', 'Action Adventure', 'Strategy', 'Action', 'Miscellaneous', 'Sports', 'Action Adventure', 'Strategy', 'Action', 'Miscellaneous', 'Sports', 'Action Adventure', 'Strategy', 'Sports', 'Strategy', 'Action Adventure', 'Adventure', 'Sports', 'Action Adventure', 'Action', 'Action', 'Action', 'Simulation', 'Action', 'General', 'Role-Playing', 'Action', 'Simulation', 'Action', 'Action Adventure', 'Adventure', 'Action', 'Sports', 'Driving', 'Action Adventure', 'Miscellaneous', 'Driving', 'Sports', 'Action', 'Action', 'Strategy', 'Action Adventure', 'Sports', 'Strategy', 'Sports', 'Action', 'Action', 'General', 'Simulation', 'Sports', 'Role-Playing', 'Driving', 'Action', 'Puzzle', 'Action', 'Miscellaneous', 'Simulation', 'Action', 'Action Adventure', 'Driving', 'Adventure', 'Action Adventure', 'Sports', 'Simulation', 'Sports', 'Adventure', 'Action', 'Action Adventure', 'Sports', 'Action', 'Action Adventure', 'Action Adventure', 'Driving', 'Action', 'Strategy', 'Action Adventure', 'Role-Playing', 'Action', 'Action', 'Action', 'Racing', 'Adventure', 'Strategy', 'Action Adventure', 'Action', 'Action Adventure', 'Action', 'Role-Playing', 'Action', 'Simulation', 'Racing', 'Fantasy', 'Action', 'Action Adventure', 'Role-Playing', 'Adventure', 'Action', 'Action', 'Action Adventure', 'Role-Playing', 'Adventure', 'Action', 'Action', 'Action Adventure', 'Role-Playing', 'Adventure', 'Action', 'Action', 'Action Adventure', 'Role-Playing', 'Adventure', 'Action', 'Action', 'Action', 'Miscellaneous', 'Action', 'Action', 'Action', 'Action Adventure', 'Action Adventure', 'Simulation', 'Action', 'Strategy', 'Driving', 'Driving', 'Strategy', 'Action Adventure', 'Driving', 'Strategy', 'Sports', 'Action', 'Sports', 'Action', 'Adventure', 'Driving', 'Action Adventure', 'Action', 'Action', 'Action', 'Action Adventure', 'Action', 'Simulation', 'Action', 'Driving', 'Role-Playing', 'Racing', 'Action Adventure', 'Strategy', 'Action', 'Action', 'Action Adventure', 'Sci-Fi', 'Action', 'Sports', 'Action', 'Strategy', 'Role-Playing', 'Action', 'Action', 'Action Adventure', 'Driving', 'Action', 'Sports', 'Strategy', 'Action', 'Action Adventure', 'Sports', 'Action Adventure', 'Action', 'Role-Playing', 'Action', 'Action Adventure', 'Role-Playing', 'Action', 'Role-Playing', 'Action', 'Action', 'Role-Playing', 'Strategy', 'Role-Playing', 'Action', 'Action', 'Role-Playing', 'Strategy', 'Role-Playing', 'Action', 'Action', 'Role-Playing', 'Strategy', 'Role-Playing', 'Action', 'Action', 'Role-Playing', 'Strategy', 'Action', 'Action', 'Role-Playing', 'Role-Playing', 'Strategy', 'Action', 'Action Adventure', 'Action', 'Action', 'Miscellaneous', 'Adventure', 'Action Adventure', 'Driving', 'Action', 'Action', 'Role-Playing', 'Adventure', 'Action', 'Simulation', 'Role-Playing', 'Miscellaneous', 'Sports', 'Action', 'Strategy', 'Role-Playing', 'Action', 'Action', 'Action', 'Miscellaneous', 'Role-Playing', 'Console-style RPG', 'Action', 'Adventure', 'Miscellaneous', 'Action', 'Adventure', 'Action Adventure', 'Action', 'Action Adventure', 'Action', 'Action', 'Miscellaneous', 'Action', 'Adventure', 'Action', 'Driving', 'Action', 'Adventure', 'Action', 'Driving', 'Action', 'Adventure', 'Action', 'Driving', 'Action', 'Adventure', 'Action', 'Action', 'Driving', 'Role-Playing', 'Action', 'Racing', 'Action', 'Action', 'Action', 'Role-Playing', 'Action Adventure', 'Strategy', 'Driving', 'Sports', 'Action Adventure', 'Sports', 'Action', 'Action', 'Action', 'Action', 'Action', 'Action', 'Action', 'Action', 'Action', 'Role-Playing', 'Action Adventure', 'Action', 'Action', 'Strategy', 'Action', 'Action Adventure', 'Action', 'Sports', 'Role-Playing', 'Strategy', 'Action', 'Action', 'Adventure', 'Role-Playing', 'Action', 'Action Adventure', 'Role-Playing', 'Action Adventure', 'Role-Playing', 'Action Adventure', 'Role-Playing', 'Action Adventure', 'Role-Playing', 'Strategy', 'Action Adventure', 'Action', 'Action', 'Action', 'Action', 'Sports', 'Action', 'Miscellaneous', 'Sports', 'Miscellaneous', 'Sports', 'Miscellaneous', 'Sports', 'Miscellaneous', 'Sports', 'Miscellaneous', 'Strategy', 'Action Adventure', 'Action', 'Action Adventure', 'Sports', 'Action Adventure', 'Action', 'Action', 'Sports', 'Simulation', 'Simulation', 'Simulation', 'Simulation', 'Action', 'Action', 'Action', 'Action', 'Role-Playing', 'Miscellaneous', 'Miscellaneous', 'Action', 'Action', 'Action Adventure', 'Action Adventure', 'Action', 'Action', 'Miscellaneous', 'Action Adventure', 'Action', 'Strategy', 'Driving', 'Action', 'Action', 'Role-Playing', 'Adventure', 'Strategy', 'Action Adventure', 'Tactical', 'Adventure', 'Action', 'Action', 'Sports', 'Sports', 'Action', 'Strategy', 'Action', 'Strategy', 'Miscellaneous', 'Action', 'Strategy', 'General', 'Miscellaneous', 'Action', 'Strategy', 'General', 'Miscellaneous', 'Action', 'Action', 'Strategy', 'General', 'Driving', 'Action Adventure', 'Action', 'Action', 'Driving', 'Miscellaneous', 'Role-Playing', 'Action Adventure', 'Miscellaneous', 'Puzzle', 'Strategy', 'Adventure', 'Action', 'Role-Playing', 'Action', 'Action', 'Action', 'Action', 'Action', 'Action', 'Action', 'Action', 'Sports', 'Action', 'Miscellaneous', 'Action', 'Action', 'Action', 'Action Adventure', 'Simulation', 'Sports', 'Action Adventure', 'Action', 'Action', 'Strategy', 'Adventure', 'Strategy', 'Platformer', 'Role-Playing', 'Action', 'Role-Playing', 'Platformer', 'Role-Playing', 'Action', 'Role-Playing', 'Sports', 'Platformer', 'Role-Playing', 'Action', 'Role-Playing', 'Sports', 'Platformer', 'Role-Playing', 'Action', 'Racing', 'Action', 'Action Adventure', 'Action', 'Action', 'Action', 'Role-Playing', 'Action', 'Action', 'Driving', 'Role-Playing', 'Action', 'Action', 'Action', 'Sports', 'Action Adventure', 'Action Adventure', 'Action', 'Role-Playing', 'Strategy', 'Action', 'Miscellaneous', 'Action', 'Role-Playing', 'Role-Playing', 'Strategy', 'Action Adventure', 'Sports', 'Driving', 'Sports', 'Role-Playing', 'Sports', 'Action Adventure', 'Action', 'Action Adventure', 'Action Adventure', 'Strategy', 'Action', 'Action', 'Strategy', 'Action Adventure', 'Action Adventure', 'Action Adventure', 'Driving', 'Driving', 'Action', 'Driving', 'Action', 'Action', 'Adventure', 'Action', 'Action Adventure', 'Action Adventure', 'Action', 'Action', 'Action', 'Action Adventure', 'Role-Playing', 'Action', 'Action Adventure', 'Action', 'Driving', 'Action', 'Action Adventure', 'Adventure', 'Sports', 'Role-Playing', 'Role-Playing', 'Action', 'Action', 'Action', 'Role-Playing', 'Role-Playing', 'Adventure', 'Role-Playing', 'Action', 'Miscellaneous', 'Role-Playing', 'Sports', 'Action Adventure', 'Simulation', 'Sci-Fi', 'Role-Playing', 'Sports', 'Action Adventure', 'Simulation', 'Sci-Fi', 'Role-Playing', 'Sports', 'Action Adventure', 'Simulation', 'Sci-Fi', 'Role-Playing', 'Sports', 'Action Adventure', 'Simulation', 'Sci-Fi', 'Strategy', 'Role-Playing', 'Action Adventure', 'Action Adventure', 'Driving', 'Strategy', 'Adventure', 'Miscellaneous', 'Action', 'Role-Playing', 'Miscellaneous', 'Action Adventure', 'Strategy', 'Action', 'Adventure', 'Adventure', 'Action', 'Strategy', 'Sports', 'Sports', 'Driving', 'Action Adventure', 'Action', 'Driving', 'Miscellaneous', 'Action', 'On GameFAQs', 'Action', 'Adventure', 'Flight', 'Miscellaneous', 'Action', 'Role-Playing', 'Action', 'Action', 'Action', 'Role-Playing', 'Role-Playing', 'Role-Playing', 'Action Adventure', 'Action', 'Strategy', 'Action Adventure', 'Action Adventure', 'Sports', 'Strategy', 'Action', 'Adventure', 'Action', 'Role-Playing', 'Action Adventure', 'Miscellaneous', 'Role-Playing', 'Racing', 'Action', 'Simulation', 'Driving', 'Action', 'Action', 'Role-Playing', 'Action', 'Adventure', 'Action', 'Action', 'Action', 'Action', 'Sports', 'Driving', 'Sports', 'Action Adventure', 'Miscellaneous', 'Role-Playing', 'Action', 'Action', 'Miscellaneous', 'Adventure', 'Action', 'Simulation', 'Sports', 'Action', 'Action Adventure', 'Action Adventure', 'Simulation', 'Sports', 'Action', 'Action Adventure', 'Action Adventure', 'Simulation', 'Sports', 'Action', 'Action Adventure', 'Action Adventure', 'Simulation', 'Sports', 'Action', 'Action Adventure', 'Action Adventure', 'Adventure', 'Action Adventure', 'Action', 'Action', 'Driving', 'Miscellaneous', 'Simulation', 'Action', 'Action Adventure', 'Action', 'Action', 'Miscellaneous', 'Action', 'Strategy', 'Role-Playing', 'Action Adventure', 'Action', 'Miscellaneous', 'Sports', 'Action', 'Miscellaneous', 'Action', 'Miscellaneous', 'Adventure', 'Action Adventure', 'Action', 'Action Adventure', 'Sports', 'Racing', 'Fantasy', 'Miscellaneous', 'Action', 'Action Adventure', 'Action', 'Driving', 'Action', 'Action', 'Action', 'Miscellaneous', 'Role-Playing', 'Action Adventure', 'Sports', 'Action', 'Action', 'Action', 'Adventure', 'General', 'Action', 'Simulation', 'Action', 'Action', 'Sports', 'Sports', 'Driving', 'Action', 'Action', 'Action Adventure', 'Simulation', 'Action Adventure', 'Adventure', 'Action', 'Action', 'Action', 'Action', 'Action', 'Action', 'Action Adventure', 'Role-Playing', 'Action', 'Action', 'Driving', 'Action', 'Action', 'Action', 'Role-Playing', 'Strategy', 'Racing', 'Action', 'Strategy', 'Strategy', 'Miscellaneous', 'Action', 'Action', 'Action', 'Role-Playing', 'Miscellaneous', 'Action', 'Action', 'Action', 'Role-Playing', 'Miscellaneous', 'Action', 'Action', 'Action', 'Role-Playing', 'Miscellaneous', 'Action', 'Action', 'Action', 'Role-Playing', 'Miscellaneous', 'Adventure', 'Adventure', 'Shooter', 'Action', 'Action Adventure', 'Simulation', 'Role-Playing', 'Miscellaneous', 'Sports', 'Role-Playing', 'Action Adventure', 'Action Adventure', 'Tactical', 'Action', 'Action Adventure', 'Role-Playing', 'Action Adventure', 'Miscellaneous', 'Action Adventure', 'Action Adventure', 'Strategy', 'Sports', 'Miscellaneous', 'Action', 'Simulation', 'Strategy', 'Role-Playing', 'Miscellaneous', 'Strategy', 'Driving', 'Action', 'Action Adventure', 'Miscellaneous', 'Miscellaneous', '6 Online', 'Driving', 'Action Adventure', 'Miscellaneous', 'Strategy', 'Action', 'Sports', 'Action', 'Action', 'Action', 'Action', 'Action', 'Adventure', 'Action', 'Action', 'Action', 'Action', 'Action Adventure', 'Action Adventure', 'Role-Playing', 'Simulation', 'Miscellaneous', 'Action', 'Adventure', 'Action', 'Action', 'Miscellaneous', 'Miscellaneous', 'Action', 'Adventure', 'Action', 'Sports', 'Action', 'Miscellaneous', 'Sports', 'Role-Playing', 'Simulation', 'Action', 'Action Adventure', 'Driving', 'Action', 'Simulation', 'Action', 'Sports', 'Miscellaneous', 'Action', 'Action Adventure', 'Action', 'Role-Playing', 'Strategy', 'Action', 'Action Adventure', 'Action', 'Role-Playing', 'Strategy', 'Action', 'Action Adventure', 'Action', 'Role-Playing', 'Strategy', 'Action', 'Action Adventure', 'Action', 'Role-Playing', 'Strategy', 'Miscellaneous', 'Action', 'Action Adventure', 'Action Adventure', 'Action Adventure', 'Role-Playing', 'Role-Playing', 'Strategy', 'Sports', 'Action', 'Adventure', 'Strategy', 'Miscellaneous', 'Sports', 'Action Adventure', 'Miscellaneous', 'Action', 'Action', 'Driving', 'Action', 'Role-Playing', 'Sports', 'Adventure', 'Action', 'Action Adventure', 'Strategy', 'Strategy', 'Miscellaneous', 'Action', 'Role-Playing', 'Action', 'Action', 'Action Adventure', 'Action', 'Action', 'Strategy', 'Action', 'Action', 'Action', 'Action', 'Action Adventure', 'Role-Playing', 'Action', 'Action', 'Adventure', 'Miscellaneous', 'Action', 'Miscellaneous', 'Role-Playing', 'Racing', 'Miscellaneous', 'Action Adventure', 'Action Adventure', 'Action', 'Simulation', 'Action Adventure', 'Action Adventure', 'Role-Playing', 'Action', 'Adventure', 'Sports', 'Miscellaneous', 'Action', 'Action', 'Role-Playing', 'Driving', 'Action', 'Strategy', 'Action', 'Action', 'Adventure', 'Action', 'Action', 'Role-Playing', 'Action Adventure', 'Miscellaneous', 'Strategy', 'Sports', 'Role-Playing', 'Adventure', 'Adventure', 'Strategy', 'Miscellaneous', 'Action', 'Action Adventure', 'Adventure', 'Strategy', 'Miscellaneous', 'Action', 'Action Adventure', 'Adventure', 'Strategy', 'Miscellaneous', 'Action', 'Action Adventure', 'Adventure', 'Strategy', 'Miscellaneous', 'Action', 'Action Adventure', 'Action Adventure', 'Action', 'Role-Playing', 'Miscellaneous', 'Adventure', 'Action Adventure', 'Adventure', 'Action Adventure', 'Driving', 'Action', 'Action', 'Action Adventure', 'Action', 'Action Adventure', 'Driving', 'Action Adventure', 'Action', 'Driving', 'Action', 'Action', 'Action Adventure', 'Sports', 'Role-Playing', 'Action Adventure', 'Action', 'Action', 'Strategy', 'Action', 'Strategy', 'Action Adventure', 'Action Adventure', 'Driving', 'Action Adventure', 'General', 'Action', 'Shooter', 'Driving', 'Strategy', 'Adventure', 'Adventure', 'Action', 'Action', 'Action Adventure', 'Role-Playing', 'Simulation', 'Action', 'Action', 'Action Adventure', 'Strategy', 'Action', 'Action Adventure', 'Action', 'Role-Playing', 'Driving', 'Action', 'Action', 'Action', 'Driving', 'Action', 'Action Adventure', 'Miscellaneous', 'On GameFAQs', 'Action', 'Action Adventure', 'Shooter', 'Platformer', 'Sports', 'Action Adventure', 'Action', 'Action Adventure', 'Sports', 'Action', 'Action', 'Action', 'Action', 'Action', 'Miscellaneous', 'Sports', 'Strategy', 'Driving', 'Simulation', 'Action', 'Miscellaneous', 'Action Adventure', 'Action', 'Simulation', 'Action', 'Miscellaneous', 'Action Adventure', 'Action', 'Simulation', 'Action', 'Miscellaneous', 'Action Adventure', 'Action', 'Simulation', 'Action', 'Miscellaneous', 'Action Adventure', 'Action', 'Action', 'Action', 'Action', 'Strategy', 'Driving', 'Action', 'Action Adventure', 'Action', 'Miscellaneous', 'Strategy', 'Strategy', 'Shooter', 'Miscellaneous', 'Action Adventure', 'Action', 'Action Adventure', 'Sports', 'Sports', 'Action Adventure', 'Sports', 'Action', 'Action Adventure', 'Adventure', 'Adventure', 'Action Adventure', 'Action', 'Action', 'Role-Playing', 'Role-Playing', 'Action', 'Action', 'Action RPG', 'Action', 'Action', 'Action', 'Action', 'Action', 'Role-Playing', 'Sports', 'Sci-Fi', 'Action Adventure', 'Sports', 'Modern', 'Strategy', 'Role-Playing', 'Action Adventure', 'Action', 'Action', 'Sports', 'Simulation', 'Action', 'Action', 'Driving', 'Sports', 'Driving', 'Driving', 'Action', 'Strategy', 'Action Adventure', 'Adventure', 'Driving', 'Action Adventure', 'Action', 'Action Adventure', 'Action', 'Driving', 'Miscellaneous', 'Driving', 'Driving', 'Action', 'Sports', 'Sports', 'Action', 'Role-Playing', 'Action', 'Action', 'Strategy', 'Strategy', 'Action', 'Action', 'Action', 'Adventure', 'Adventure', 'Action', 'Action Adventure', 'Action', 'Adventure', 'Adventure', 'Action', 'Action Adventure', 'Action', 'Adventure', 'Adventure', 'Action', 'Action Adventure', 'Action', 'Adventure', 'Adventure', 'Action', 'Action Adventure', 'Action Adventure', 'Action', 'Role-Playing', 'Adventure', 'Action Adventure', 'Miscellaneous', 'Action', 'Action', 'Action', 'Simulation', 'Action', 'Adventure', 'Action', 'Strategy', 'Miscellaneous', 'Action', 'Action', 'Miscellaneous', 'Action', 'Action', 'Miscellaneous', 'Action', 'Action', 'Action', 'Driving', 'Sports', 'Sports', 'Puzzle', 'Strategy', 'Simulation', 'Action', 'Sports', 'Action', 'Racing', 'Action Adventure', 'Action', 'Action Adventure', 'Action Adventure', 'Driving', 'Action', 'Action Adventure', 'Action Adventure', 'Sports', 'Action Adventure', 'Action Adventure', 'Simulation', 'Simulation', 'Action', 'Strategy', 'Action Adventure', 'Action Adventure', 'Action Adventure', 'Action Adventure', 'Puzzle', 'Action', 'Miscellaneous', 'Driving', 'Action Adventure', 'Action', 'Action', 'Role-Playing', 'Action', 'Horror', 'Driving', 'Role-Playing', 'Action Adventure', 'Simulation', 'Action Adventure', 'Sports', 'Simulation', 'Action', 'Action', 'Simulation', 'Action Adventure', 'Action', 'General', 'Action', 'Action', 'Simulation', 'Action Adventure', 'Sports', 'Action Adventure', 'Driving', 'Action Adventure', 'Action', 'Sports', 'Action Adventure', 'Driving', 'Action Adventure', 'Action', 'Sports', 'Action Adventure', 'Driving', 'Action Adventure', 'Action', 'Sports', 'Action Adventure', 'Driving', 'Action Adventure', 'Action', 'Action', 'Action', 'Action', 'Action', 'Action', 'Action', 'Adventure', 'Action Adventure', 'Action Adventure', 'Action Adventure', 'Role-Playing', 'Sports', 'Role-Playing', 'Action', 'Action', 'Role-Playing', 'Role-Playing', 'Role-Playing', 'Miscellaneous', 'Simulation', 'Action', 'Adventure', 'Action', 'Role-Playing', 'Action', 'Action Adventure', 'Action', 'Miscellaneous', 'Simulation', 'Miscellaneous', 'Role-Playing', 'Action', 'Strategy', 'Adventure', 'Role-Playing', 'Action Adventure', 'Action', 'Horror', 'Action', 'Driving', 'Action', 'Driving', 'Action', 'Action', 'Action Adventure', 'Strategy', 'Action Adventure', 'Action', 'Adventure', 'Adventure', 'Action', 'Action', 'Miscellaneous', 'Strategy', 'Driving', 'Action', 'Action', 'Action', 'Action', 'Role-Playing', 'Action', 'Action', 'Action', 'Action Adventure', 'Sports', 'Action', 'Action', 'Strategy', 'Role-Playing', 'Action', 'Strategy', 'Action Adventure', 'Action Adventure', 'Miscellaneous', 'Miscellaneous', 'Strategy', 'Action', 'Adventure', 'Action', 'Action', 'Role-Playing', 'Action', 'Strategy', 'Action', 'Driving', 'Role-Playing', 'Action', 'Strategy', 'Action', 'Driving', 'Role-Playing', 'Action', 'Strategy', 'Action', 'Driving', 'Role-Playing', 'Action', 'Strategy', 'Action', 'Driving', 'Action', 'Role-Playing', 'Action', 'Driving', 'Action', 'Action', 'Sports', 'Action', 'Action', 'Action', 'Action', 'Action Adventure', 'Role-Playing', 'Action', 'Action', 'Action', 'Sports', 'Action Adventure', 'Simulation', 'Role-Playing', 'Role-Playing', 'Sports', 'Action', 'Adventure', 'Sports', 'Action Adventure', 'Action', 'Action', 'Action', 'Role-Playing', 'Adventure', 'Role-Playing', 'Sports', 'Action', 'Action Adventure', 'Action', 'Role-Playing', 'Miscellaneous', 'Driving', 'Miscellaneous', 'Action', 'Driving', 'Sports', 'Sports', 'Action Adventure', 'Action', 'Adventure', 'Action Adventure', 'Miscellaneous', 'Action Adventure', 'Strategy', 'Strategy', 'Action', 'Action Adventure', 'Action', 'Simulation', 'Action', 'Action Adventure', 'Action', 'Action', 'Action', 'Action', 'Strategy', 'Action', 'Miscellaneous', 'Action Adventure', 'Action', 'Action', 'Action', 'Action', 'Simulation', 'Role-Playing', 'Action', 'Simulation', 'Driving', 'Action', 'Action', 'Driving', 'Miscellaneous', 'Action', 'Role-Playing', 'Action', 'Action', 'Sports', 'Action', 'Role-Playing', 'Action', 'Action', 'Sports', 'Action', 'Role-Playing', 'Action', 'Action', 'Sports', 'Action', 'Role-Playing', 'Action', 'Action', 'Sports', 'Action', 'Sports', 'Action', 'Miscellaneous', 'Action', 'Adventure', 'Miscellaneous', 'Action', 'Adventure', 'Action Adventure', 'Action', 'Action', 'Miscellaneous', 'Action', 'Action', 'Action Adventure', 'Driving', 'Action Adventure', 'Action Adventure', 'Action', 'Driving', 'Action', 'Action', 'Action', 'Sports', 'Role-Playing', 'Strategy', 'Sports', 'First-Person', 'Role-Playing', 'Action', 'Miscellaneous', 'Action', 'Action', 'Action Adventure', 'Action Adventure', 'Action', 'Action', 'Strategy', 'Role-Playing', 'Strategy', 'Action Adventure', 'Action', 'Miscellaneous', 'Action', 'Miscellaneous', 'Sports', 'Simulation', 'Action', 'Miscellaneous', 'Action Adventure', 'Action', 'Strategy', 'Action', 'Racing', 'Action', 'Action', 'Action', 'Miscellaneous', 'WWII', 'Miscellaneous', 'Action', 'Miscellaneous', 'Puzzle', 'Action Adventure', 'Racing', '1 Player', 'Miscellaneous', 'Miscellaneous', 'Role-Playing', 'Action', 'Action Adventure', 'Adventure', 'Modern', 'Simulation', 'Action Adventure', 'Role-Playing', 'Platformer', 'Action', 'Role-Playing', 'Action', 'Driving', 'Action', 'Role-Playing', 'Action', 'Sports', 'Driving', 'Action', 'Role-Playing', 'Action', 'Sports', 'Driving', 'Action', 'Role-Playing', 'Action', 'Sports', 'Driving', 'Action', 'Role-Playing', 'Action', 'Sports', 'Sports', 'Action', 'Adventure', 'Action', 'Action', 'Action', 'Action', 'Strategy', 'Action', 'Role-Playing', 'Strategy', 'Action', 'Sports', 'Role-Playing', 'Action', 'Simulation', 'Action Adventure', 'Action Adventure', 'Action', 'Driving', 'Miscellaneous', 'Sports', 'Role-Playing', 'Action', 'Action', 'Action', 'Role-Playing', 'Action', 'Sci-Fi', 'Action Adventure', 'Horror', 'Action', 'Action', 'Strategy', 'Driving', 'Action', 'Driving', 'Role-Playing', 'Action', 'Puzzle', 'Action', 'Action Adventure', 'Action', 'Adventure', 'Strategy', 'Sports', 'Sports', 'Miscellaneous', 'Action', 'Driving', 'Action', 'Action', 'Action', 'Sports', 'Action', 'Adventure', 'Action Adventure', 'Sports', 'Action', 'Miscellaneous', 'Strategy', 'Strategy', 'Sports', 'Sports', 'Simulation', 'Role-Playing', 'Driving', 'Action', 'Strategy', 'Adventure', 'Action Adventure', 'Action', 'Action', 'Sports', 'Action', 'Sports', 'Action', 'Driving', 'Action', 'Action', 'Action', 'Action Adventure', 'Action', 'Action Adventure', 'Miscellaneous', 'Action', 'Action Adventure', 'Action', 'Action Adventure', 'Miscellaneous', 'Action', 'Action Adventure', 'Action', 'Action Adventure', 'Miscellaneous', 'Action', 'Action Adventure', 'Action', 'Action Adventure', 'Miscellaneous', 'Driving', 'Miscellaneous', 'Action', 'Sports', 'Driving', 'Simulation', 'Adventure', 'Sports', 'Fantasy', 'Role-Playing', 'Strategy', 'Action', 'Action', 'Action', 'Role-Playing', 'Role-Playing', 'Action', 'Driving', 'Action Adventure', 'Strategy', 'Role-Playing', 'Action', 'Action', 'Action', 'Action Adventure', 'Action', 'Simulation', 'Racing', 'Adventure', 'Miscellaneous', 'Action Adventure', 'Action', 'Action', 'Driving', 'Action Adventure', 'Third-Person', 'Simulation', 'Action', 'Sports', 'Action Adventure', 'Action', 'Action', 'Action Adventure', 'Simulation', 'Adventure', 'Sports', 'Action', 'Strategy', 'Role-Playing', 'Simulation', 'General', 'Action Adventure', 'Role-Playing', 'Action Adventure', 'Adventure', 'Action', 'Puzzle', 'Action', 'Action Adventure', 'Action', 'Strategy', 'Action', 'Miscellaneous', 'Simulation', 'Action', 'Action', 'Action', 'Action', 'Miscellaneous', 'Action', 'Action Adventure', 'Action', 'Sports', 'Action Adventure', 'Role-Playing', 'Action', 'Miscellaneous', 'Action Adventure', 'Driving', 'Strategy', 'Racing', 'Role-Playing', 'Driving', 'Action', 'Action', 'Racing', 'Role-Playing', 'Driving', 'Action', 'Action', 'Racing', 'Role-Playing', 'Driving', 'Action', 'Action', 'Racing', 'Role-Playing', 'Driving', 'Action', 'Action', 'Strategy', 'Sports', 'Simulation', 'Racing', 'Action Adventure', 'Action', 'Driving', 'Miscellaneous', 'Simulation', 'Action', 'Action', 'Action', 'Action Adventure', 'Action', 'Action', 'Role-Playing', 'Action Adventure', 'Action', 'Action Adventure', 'Action', 'Action', 'Action', 'Action', 'Action', 'Sports', 'Action', 'Miscellaneous', 'Action', 'Simulation', 'Action Adventure', 'Role-Playing', 'Action Adventure', 'Role-Playing', 'Role-Playing', 'Action', 'Strategy', 'Driving', 'Sports', 'Strategy', 'Adventure', 'Miscellaneous', 'Action', 'Action Adventure', 'Role-Playing', 'Action Adventure', 'Sports', 'Sports', 'Driving', 'Action', 'Action', 'Role-Playing', 'Strategy', 'Action', 'Strategy', 'Action', 'Miscellaneous', 'Action', 'Simulation', 'Role-Playing', 'Action Adventure', 'Action', 'Adventure', 'Action', 'Strategy', 'Action', 'Role-Playing', 'Driving', 'Action', 'General', 'Sports', 'Action', 'Sports', 'Sports', 'Action Adventure', 'Action', 'Action Adventure', 'Driving', 'Action Adventure', 'Action', 'Action', 'Action', 'Action', 'Driving', 'Action', 'Adventure', 'Action', 'Action', 'Driving', 'Action', 'Adventure', 'Action', 'Action', 'Driving', 'Action', 'Adventure', 'Action', 'Action', 'Driving', 'Action', 'Adventure', 'Role-Playing', 'Sports', 'Sports', 'Action', 'Action', 'Sports', 'Sports', 'Action', 'Strategy', 'Action', 'Action', 'Sports', 'Miscellaneous', 'Action', 'Sports', 'Action', 'Action', 'Action', 'Driving', 'Action', 'Action Adventure', 'Role-Playing', 'Action', 'Action Adventure', 'Miscellaneous', 'Action', 'Driving', 'Action Adventure', 'Simulation', 'Miscellaneous', 'Role-Playing', 'Action', 'Action', 'Miscellaneous', 'Strategy', 'Action Adventure', 'Action', 'Action', 'Action', 'Action', 'Action', 'Action', 'Driving', 'Action', 'Action', 'Adventure', 'Action Adventure', 'Strategy', 'Strategy', 'Action', 'Action', 'Action Adventure', 'Action', 'Sports', 'Action', 'Driving', 'Action', 'Role-Playing', 'Puzzle', 'Action Adventure', 'Action Adventure', 'Action', 'Action', 'Action Adventure', 'Action', 'Driving', 'Miscellaneous', 'Action', 'Action', 'Action', 'Action Adventure', 'Action', 'Sports', 'Driving', 'Action', 'Sports', 'Adventure', 'Action Adventure', 'Miscellaneous', 'Sports', 'Simulation', 'Action', 'Action', 'Strategy', 'Action', 'Simulation', 'Action', 'Action', 'Strategy', 'Action', 'Simulation', 'Action', 'Action', 'Strategy', 'Action', 'Simulation', 'Action', 'Action', 'Strategy', 'Action', 'Action', 'Role-Playing', 'Action', 'Strategy', 'Sports', 'Sports', 'Action', 'Action', 'Action Adventure', 'Action', 'Action', 'Action', 'Role-Playing', 'Driving', 'Action', 'Strategy', 'Action Adventure', 'Action', 'Action', 'Action', 'Sports', 'Action', 'Strategy', 'Sports', 'Sports', 'Action Adventure', 'Action', 'Role-Playing', 'Action', 'Sports', 'Action', 'Role-Playing', 'Action', 'Role-Playing', 'Shooter', 'Action', 'Action', 'Action Adventure', 'Action', 'Miscellaneous', 'Action Adventure', 'Action', 'Role-Playing', 'Role-Playing', 'Action', 'Driving', 'Action Adventure', 'Action', 'Action', 'Strategy', 'Action', 'On GameFAQs', 'Strategy', 'Sports', 'Action', 'Strategy', 'Modern', 'Action', 'General', 'Action', 'Sports', 'Miscellaneous', 'Miscellaneous', 'Action', 'Action', 'Action Adventure', 'Miscellaneous', 'Action', 'Action', 'Action', 'Simulation', 'Sports', 'Action', 'Action Adventure', 'Horror', 'Action', 'Action', 'Action Adventure', 'Adventure', 'Sports', 'Action', 'Action', 'Miscellaneous', 'Driving', 'Action Adventure', 'Action', 'Action', 'Miscellaneous', 'Driving', 'Action Adventure', 'Action', 'Action', 'Miscellaneous', 'Driving', 'Action Adventure', 'Action', 'Action', 'Miscellaneous', 'Driving', 'Action Adventure', 'Action', 'Tycoon', 'Action', 'Driving', 'Action', 'Arcade', 'Action', 'Action', 'Action', 'Action', 'Action', 'Miscellaneous', 'Action', 'Action Adventure', 'Sports', 'Action', 'Adventure', 'Role-Playing', 'Driving', 'Role-Playing', 'Role-Playing', 'Strategy', 'Action', 'Action Adventure', 'Strategy', 'Action Adventure', 'Action', 'Action', 'Strategy', 'Adventure', 'Action Adventure', 'Action', 'Action', 'Role-Playing', 'Miscellaneous', 'Role-Playing', 'Role-Playing', 'Miscellaneous', 'Action', 'Simulation', 'Role-Playing', 'Action', 'Racing', 'Adventure', 'Action', 'Action Adventure', 'Action', 'Action', 'Sports', 'Action', 'Miscellaneous', 'Action Adventure', 'Role-Playing', 'Action Adventure', 'Action', 'Strategy', 'Strategy', 'Action', 'Racing', 'Adventure', 'Sports', 'Adventure', 'Driving', 'Driving', 'Action', 'PC-style RPG', 'Action', 'Sports', 'Action', 'Action Adventure', 'Simulation', 'Action', 'Sports', 'Sports', 'Sports', 'Adventure', 'Action', 'Action', 'General', 'Driving', 'Action', 'Sports', 'Action', 'Action Adventure', 'Action', 'Action', 'Sports', 'Action', 'Action Adventure', 'Action', 'Action', 'Sports', 'Action', 'Action Adventure', 'Action', 'Action', 'Sports', 'Action', 'Action Adventure', 'Action', 'Action', 'Miscellaneous', 'Sports', 'Action Adventure', '1 Player', 'Sports', 'Strategy', 'Action', 'Driving', 'Sports', 'Action', 'Miscellaneous', 'Sports', 'Action', 'Strategy', 'Action', 'Action Adventure', 'Action Adventure', 'Action', 'Action', 'Adventure', 'Simulation', 'Role-Playing', 'Racing', 'General', 'Adventure', 'Simulation', 'Action', 'Action', 'Historic', 'Action', 'Action Adventure', 'Action Adventure', 'Action Adventure', 'Simulation', 'Action', 'Action', 'Action', 'Driving', 'Action', 'Driving', 'Action', 'Action Adventure', 'Role-Playing', 'Action Adventure', 'Driving', 'Action', 'Action', 'Action', 'Sports', 'Action Adventure', 'Action', 'Action Adventure', 'Action', 'Action', 'Simulation', 'Action Adventure', 'Action', 'Action', 'Miscellaneous', 'Sports', 'Action', 'Simulation', 'Adventure', 'Sports', 'Action', 'Action', 'Action', 'Action Adventure', 'Action', 'Sports', 'Action', 'Action', 'Action Adventure', 'Action', 'Action', 'Action Adventure', 'Action Adventure', 'Strategy', 'Action Adventure', 'Action Adventure', 'Action', 'Action Adventure', 'Action', 'Adventure', 'Action Adventure', 'Action', 'Action Adventure', 'Action', 'Adventure', 'Action Adventure', 'Action', 'Action Adventure', 'Action', 'Adventure', 'Action Adventure', 'Action', 'Action Adventure', 'Action', 'Adventure', 'Miscellaneous', 'Action Adventure', 'Action', 'Action', 'Action', 'Action', 'Adventure', 'Action', 'Sports', 'Action Adventure', 'Driving', 'Adventure', 'Action', 'Miscellaneous', 'Action Adventure', 'Action Adventure', 'Adventure', 'Sports', 'Action', 'Action', 'Action Adventure', 'Action', 'Action', 'Action', 'Driving', 'Driving', 'Action', 'Action', 'Action', 'Action', 'Action', 'Action', 'Action', 'Strategy', 'Driving', 'Driving', 'Action Adventure', 'Action Adventure', 'Action', 'Action', 'Action', 'Action Adventure', 'Action', 'Action', 'Sports', 'Strategy', 'Action', 'Sports', 'Action', 'Action', 'Action', 'Action', 'Action Adventure', 'Action Adventure', 'Action', 'Adventure', 'Action', 'Action', 'Action Adventure', 'Action', 'Strategy', 'Action Adventure', 'Sports', 'Action Adventure', 'Action', 'Simulation', 'Action', 'Action', 'Action', 'Sports', 'Action', 'Action', 'Action Adventure', 'Action', 'Action', 'Action Adventure', 'Action', 'Sports', 'Sports', 'Driving', 'Miscellaneous', 'Role-Playing', 'Miscellaneous', 'Sports', 'Sports', 'Miscellaneous', 'Role-Playing', 'Miscellaneous', 'Sports', 'Sports', 'Miscellaneous', 'Role-Playing', 'Miscellaneous', 'Sports', 'Sports', 'Miscellaneous', 'Role-Playing', 'Miscellaneous', 'Sports', 'Sports', 'Role-Playing', 'Adventure', 'Action', 'Action Adventure', 'Miscellaneous', 'Action', 'Action', 'Action', 'Action Adventure', 'Action', 'Miscellaneous', 'Strategy', 'Action', 'Action', 'Sports', 'Action', 'Action', 'Action', 'Action', 'Arcade', 'Racing', 'Action', 'Action', 'Action', 'Action', 'Action', 'Miscellaneous', 'Action', 'Simulation', 'Action', 'Sports', 'Action', 'Action Adventure', 'Simulation', 'Action', 'Action', 'Action', 'Action Adventure', 'Driving', 'Action', 'Action', 'Role-Playing', 'Action', 'Role-Playing', 'Action', 'Role-Playing', 'Action', 'Action', 'Action', 'Action', 'Action', 'Action', 'Action Adventure', 'Action Adventure', 'Action', 'Miscellaneous', 'Action', 'Driving', 'Action', 'Action Adventure', 'Action', 'Sports', 'Sports', 'Action', 'Action Adventure', 'Adventure', 'Action', 'Action', 'Action Adventure', 'Action', 'Role-Playing', 'Adventure', 'Action', 'Action', 'Sports', 'Strategy', 'Action', 'Driving', 'Action', 'Action', 'Action', 'Action', 'Action Adventure', 'Action Adventure', 'Action', 'Action', 'Action', 'Action Adventure', 'Action Adventure', 'Action', 'Action', 'Action', 'Action Adventure', 'Action Adventure', 'Action', 'Action', 'Action', 'Action Adventure', 'Action Adventure', 'Action', 'Action', 'Miscellaneous', 'Action Adventure', 'Action', 'Action', 'Action', 'Sports', 'Simulation', 'Simulation', 'Action Adventure', 'Action', 'Action Adventure', 'Strategy', 'Action', 'Shooter', 'Role-Playing', 'Action', 'Simulation', 'Action', 'Action', 'Action', 'Action', 'Action', 'Action', 'Sports', 'Action', 'Adventure', 'Action', 'Action Adventure', 'General', 'Action', 'Action', 'Miscellaneous', 'Action', 'Action', 'Action', 'Miscellaneous', 'Action', 'Driving', 'Strategy', 'Action', 'Sports', 'Action', 'Action', 'Action', 'Sports', 'Strategy', 'Action', 'Action', 'Adventure', 'Sports', 'Miscellaneous', 'Action', 'Driving', 'Strategy', 'Sports', 'Action', 'Action Adventure', 'Action', 'Action', 'Action Adventure', 'Action', 'Action', 'Miscellaneous', 'Action Adventure', 'Action', 'Action', 'Action', 'Action', 'Adventure', 'Action Adventure', 'Action', 'Racing', 'Miscellaneous', 'Action', 'Action', 'Action Adventure', 'Action', 'Online Multiplayer', 'Simulation']\n",
            "Total Indices to Drop:  512\n"
          ]
        }
      ]
    },
    {
      "cell_type": "code",
      "source": [
        "# Drop Empty Genre Data\n",
        "df = df.drop(indices_to_drop).reset_index(drop=True)"
      ],
      "metadata": {
        "id": "VJL-qK4_QYQE"
      },
      "execution_count": 16,
      "outputs": []
    },
    {
      "cell_type": "code",
      "source": [
        "# Create a Column Named Primary Genre\n",
        "df[\"Primary Genre\"] = primary_genre_list"
      ],
      "metadata": {
        "id": "eK53PgHlQZk_"
      },
      "execution_count": 17,
      "outputs": []
    },
    {
      "cell_type": "code",
      "source": [
        "# Individual Primary Genre Values Count\n",
        "print(\"Primary Genre Value Count: \")\n",
        "df[\"Primary Genre\"].value_counts()"
      ],
      "metadata": {
        "colab": {
          "base_uri": "https://localhost:8080/"
        },
        "id": "mb3wgctmQa8s",
        "outputId": "c8a71cfe-c0df-4412-ed03-19d4cb5c458d"
      },
      "execution_count": 18,
      "outputs": [
        {
          "output_type": "stream",
          "name": "stdout",
          "text": [
            "Primary Genre Value Count: \n"
          ]
        },
        {
          "output_type": "execute_result",
          "data": {
            "text/plain": [
              "Action                6436\n",
              "Action Adventure      2579\n",
              "Role-Playing          2081\n",
              "Sports                1620\n",
              "Strategy              1608\n",
              "                      ... \n",
              "Party / Minigame         1\n",
              "Survival                 1\n",
              "Street                   1\n",
              "Dancing                  1\n",
              "Online Multiplayer       1\n",
              "Name: Primary Genre, Length: 70, dtype: int64"
            ]
          },
          "metadata": {},
          "execution_count": 18
        }
      ]
    },
    {
      "cell_type": "code",
      "source": [
        "# After Inserting Primary Genre\n",
        "df.head()"
      ],
      "metadata": {
        "colab": {
          "base_uri": "https://localhost:8080/",
          "height": 206
        },
        "id": "u_DVcAl2QctY",
        "outputId": "a52fc18b-0662-41c3-81f9-81e8badc8a08"
      },
      "execution_count": 19,
      "outputs": [
        {
          "output_type": "execute_result",
          "data": {
            "text/plain": [
              "                                   Name  \\\n",
              "0  The Legend of Zelda: Ocarina of Time   \n",
              "1              Tony Hawk's Pro Skater 2   \n",
              "2                   Grand Theft Auto IV   \n",
              "3                           SoulCalibur   \n",
              "4                   Grand Theft Auto IV   \n",
              "\n",
              "                                             Summary  \\\n",
              "0  As a young boy, Link is tricked by Ganondorf, ...   \n",
              "1  As most major publishers' development efforts ...   \n",
              "2  [Metacritic's 2008 PS3 Game of the Year; Also ...   \n",
              "3  This is a tale of souls and swords, transcendi...   \n",
              "4  [Metacritic's 2008 Xbox 360 Game of the Year; ...   \n",
              "\n",
              "                                              Genres     Primary Genre  \n",
              "0                    ['Action Adventure', 'Fantasy']  Action Adventure  \n",
              "1         ['Sports', 'Alternative', 'Skateboarding']            Sports  \n",
              "2  ['Action Adventure', 'Modern', 'Modern', 'Open...  Action Adventure  \n",
              "3                       ['Action', 'Fighting', '3D']            Action  \n",
              "4  ['Action Adventure', 'Modern', 'Modern', 'Open...  Action Adventure  "
            ],
            "text/html": [
              "\n",
              "\n",
              "  <div id=\"df-1495bd05-48ce-420e-b6bc-ccb60f9e46fb\">\n",
              "    <div class=\"colab-df-container\">\n",
              "      <div>\n",
              "<style scoped>\n",
              "    .dataframe tbody tr th:only-of-type {\n",
              "        vertical-align: middle;\n",
              "    }\n",
              "\n",
              "    .dataframe tbody tr th {\n",
              "        vertical-align: top;\n",
              "    }\n",
              "\n",
              "    .dataframe thead th {\n",
              "        text-align: right;\n",
              "    }\n",
              "</style>\n",
              "<table border=\"1\" class=\"dataframe\">\n",
              "  <thead>\n",
              "    <tr style=\"text-align: right;\">\n",
              "      <th></th>\n",
              "      <th>Name</th>\n",
              "      <th>Summary</th>\n",
              "      <th>Genres</th>\n",
              "      <th>Primary Genre</th>\n",
              "    </tr>\n",
              "  </thead>\n",
              "  <tbody>\n",
              "    <tr>\n",
              "      <th>0</th>\n",
              "      <td>The Legend of Zelda: Ocarina of Time</td>\n",
              "      <td>As a young boy, Link is tricked by Ganondorf, ...</td>\n",
              "      <td>['Action Adventure', 'Fantasy']</td>\n",
              "      <td>Action Adventure</td>\n",
              "    </tr>\n",
              "    <tr>\n",
              "      <th>1</th>\n",
              "      <td>Tony Hawk's Pro Skater 2</td>\n",
              "      <td>As most major publishers' development efforts ...</td>\n",
              "      <td>['Sports', 'Alternative', 'Skateboarding']</td>\n",
              "      <td>Sports</td>\n",
              "    </tr>\n",
              "    <tr>\n",
              "      <th>2</th>\n",
              "      <td>Grand Theft Auto IV</td>\n",
              "      <td>[Metacritic's 2008 PS3 Game of the Year; Also ...</td>\n",
              "      <td>['Action Adventure', 'Modern', 'Modern', 'Open...</td>\n",
              "      <td>Action Adventure</td>\n",
              "    </tr>\n",
              "    <tr>\n",
              "      <th>3</th>\n",
              "      <td>SoulCalibur</td>\n",
              "      <td>This is a tale of souls and swords, transcendi...</td>\n",
              "      <td>['Action', 'Fighting', '3D']</td>\n",
              "      <td>Action</td>\n",
              "    </tr>\n",
              "    <tr>\n",
              "      <th>4</th>\n",
              "      <td>Grand Theft Auto IV</td>\n",
              "      <td>[Metacritic's 2008 Xbox 360 Game of the Year; ...</td>\n",
              "      <td>['Action Adventure', 'Modern', 'Modern', 'Open...</td>\n",
              "      <td>Action Adventure</td>\n",
              "    </tr>\n",
              "  </tbody>\n",
              "</table>\n",
              "</div>\n",
              "      <button class=\"colab-df-convert\" onclick=\"convertToInteractive('df-1495bd05-48ce-420e-b6bc-ccb60f9e46fb')\"\n",
              "              title=\"Convert this dataframe to an interactive table.\"\n",
              "              style=\"display:none;\">\n",
              "\n",
              "  <svg xmlns=\"http://www.w3.org/2000/svg\" height=\"24px\"viewBox=\"0 0 24 24\"\n",
              "       width=\"24px\">\n",
              "    <path d=\"M0 0h24v24H0V0z\" fill=\"none\"/>\n",
              "    <path d=\"M18.56 5.44l.94 2.06.94-2.06 2.06-.94-2.06-.94-.94-2.06-.94 2.06-2.06.94zm-11 1L8.5 8.5l.94-2.06 2.06-.94-2.06-.94L8.5 2.5l-.94 2.06-2.06.94zm10 10l.94 2.06.94-2.06 2.06-.94-2.06-.94-.94-2.06-.94 2.06-2.06.94z\"/><path d=\"M17.41 7.96l-1.37-1.37c-.4-.4-.92-.59-1.43-.59-.52 0-1.04.2-1.43.59L10.3 9.45l-7.72 7.72c-.78.78-.78 2.05 0 2.83L4 21.41c.39.39.9.59 1.41.59.51 0 1.02-.2 1.41-.59l7.78-7.78 2.81-2.81c.8-.78.8-2.07 0-2.86zM5.41 20L4 18.59l7.72-7.72 1.47 1.35L5.41 20z\"/>\n",
              "  </svg>\n",
              "      </button>\n",
              "\n",
              "\n",
              "\n",
              "    <div id=\"df-dacbe9c5-09a2-49c4-810a-5f096b297ef4\">\n",
              "      <button class=\"colab-df-quickchart\" onclick=\"quickchart('df-dacbe9c5-09a2-49c4-810a-5f096b297ef4')\"\n",
              "              title=\"Suggest charts.\"\n",
              "              style=\"display:none;\">\n",
              "\n",
              "<svg xmlns=\"http://www.w3.org/2000/svg\" height=\"24px\"viewBox=\"0 0 24 24\"\n",
              "     width=\"24px\">\n",
              "    <g>\n",
              "        <path d=\"M19 3H5c-1.1 0-2 .9-2 2v14c0 1.1.9 2 2 2h14c1.1 0 2-.9 2-2V5c0-1.1-.9-2-2-2zM9 17H7v-7h2v7zm4 0h-2V7h2v10zm4 0h-2v-4h2v4z\"/>\n",
              "    </g>\n",
              "</svg>\n",
              "      </button>\n",
              "    </div>\n",
              "\n",
              "<style>\n",
              "  .colab-df-quickchart {\n",
              "    background-color: #E8F0FE;\n",
              "    border: none;\n",
              "    border-radius: 50%;\n",
              "    cursor: pointer;\n",
              "    display: none;\n",
              "    fill: #1967D2;\n",
              "    height: 32px;\n",
              "    padding: 0 0 0 0;\n",
              "    width: 32px;\n",
              "  }\n",
              "\n",
              "  .colab-df-quickchart:hover {\n",
              "    background-color: #E2EBFA;\n",
              "    box-shadow: 0px 1px 2px rgba(60, 64, 67, 0.3), 0px 1px 3px 1px rgba(60, 64, 67, 0.15);\n",
              "    fill: #174EA6;\n",
              "  }\n",
              "\n",
              "  [theme=dark] .colab-df-quickchart {\n",
              "    background-color: #3B4455;\n",
              "    fill: #D2E3FC;\n",
              "  }\n",
              "\n",
              "  [theme=dark] .colab-df-quickchart:hover {\n",
              "    background-color: #434B5C;\n",
              "    box-shadow: 0px 1px 3px 1px rgba(0, 0, 0, 0.15);\n",
              "    filter: drop-shadow(0px 1px 2px rgba(0, 0, 0, 0.3));\n",
              "    fill: #FFFFFF;\n",
              "  }\n",
              "</style>\n",
              "\n",
              "    <script>\n",
              "      async function quickchart(key) {\n",
              "        const containerElement = document.querySelector('#' + key);\n",
              "        const charts = await google.colab.kernel.invokeFunction(\n",
              "            'suggestCharts', [key], {});\n",
              "      }\n",
              "    </script>\n",
              "\n",
              "\n",
              "      <script>\n",
              "\n",
              "function displayQuickchartButton(domScope) {\n",
              "  let quickchartButtonEl =\n",
              "    domScope.querySelector('#df-dacbe9c5-09a2-49c4-810a-5f096b297ef4 button.colab-df-quickchart');\n",
              "  quickchartButtonEl.style.display =\n",
              "    google.colab.kernel.accessAllowed ? 'block' : 'none';\n",
              "}\n",
              "\n",
              "        displayQuickchartButton(document);\n",
              "      </script>\n",
              "      <style>\n",
              "    .colab-df-container {\n",
              "      display:flex;\n",
              "      flex-wrap:wrap;\n",
              "      gap: 12px;\n",
              "    }\n",
              "\n",
              "    .colab-df-convert {\n",
              "      background-color: #E8F0FE;\n",
              "      border: none;\n",
              "      border-radius: 50%;\n",
              "      cursor: pointer;\n",
              "      display: none;\n",
              "      fill: #1967D2;\n",
              "      height: 32px;\n",
              "      padding: 0 0 0 0;\n",
              "      width: 32px;\n",
              "    }\n",
              "\n",
              "    .colab-df-convert:hover {\n",
              "      background-color: #E2EBFA;\n",
              "      box-shadow: 0px 1px 2px rgba(60, 64, 67, 0.3), 0px 1px 3px 1px rgba(60, 64, 67, 0.15);\n",
              "      fill: #174EA6;\n",
              "    }\n",
              "\n",
              "    [theme=dark] .colab-df-convert {\n",
              "      background-color: #3B4455;\n",
              "      fill: #D2E3FC;\n",
              "    }\n",
              "\n",
              "    [theme=dark] .colab-df-convert:hover {\n",
              "      background-color: #434B5C;\n",
              "      box-shadow: 0px 1px 3px 1px rgba(0, 0, 0, 0.15);\n",
              "      filter: drop-shadow(0px 1px 2px rgba(0, 0, 0, 0.3));\n",
              "      fill: #FFFFFF;\n",
              "    }\n",
              "  </style>\n",
              "\n",
              "      <script>\n",
              "        const buttonEl =\n",
              "          document.querySelector('#df-1495bd05-48ce-420e-b6bc-ccb60f9e46fb button.colab-df-convert');\n",
              "        buttonEl.style.display =\n",
              "          google.colab.kernel.accessAllowed ? 'block' : 'none';\n",
              "\n",
              "        async function convertToInteractive(key) {\n",
              "          const element = document.querySelector('#df-1495bd05-48ce-420e-b6bc-ccb60f9e46fb');\n",
              "          const dataTable =\n",
              "            await google.colab.kernel.invokeFunction('convertToInteractive',\n",
              "                                                     [key], {});\n",
              "          if (!dataTable) return;\n",
              "\n",
              "          const docLinkHtml = 'Like what you see? Visit the ' +\n",
              "            '<a target=\"_blank\" href=https://colab.research.google.com/notebooks/data_table.ipynb>data table notebook</a>'\n",
              "            + ' to learn more about interactive tables.';\n",
              "          element.innerHTML = '';\n",
              "          dataTable['output_type'] = 'display_data';\n",
              "          await google.colab.output.renderOutput(dataTable, element);\n",
              "          const docLink = document.createElement('div');\n",
              "          docLink.innerHTML = docLinkHtml;\n",
              "          element.appendChild(docLink);\n",
              "        }\n",
              "      </script>\n",
              "    </div>\n",
              "  </div>\n"
            ]
          },
          "metadata": {},
          "execution_count": 19
        }
      ]
    },
    {
      "cell_type": "markdown",
      "source": [
        "### Removing Rare Genres"
      ],
      "metadata": {
        "id": "gsbwtBooQhpp"
      }
    },
    {
      "cell_type": "code",
      "source": [
        "genre_count = df[\"Primary Genre\"].value_counts()\n",
        "threshold = int(len(df) * 0.004)\n",
        "\n",
        "rare_genres = [item for item, count in genre_count.items() if count < threshold]\n",
        "\n",
        "print(\"Total Rare Genres: \", len(rare_genres))"
      ],
      "metadata": {
        "colab": {
          "base_uri": "https://localhost:8080/"
        },
        "id": "OJeAVY6-QhUo",
        "outputId": "ad3aef23-3fd9-47c2-e05d-3acea0197dbd"
      },
      "execution_count": 20,
      "outputs": [
        {
          "output_type": "stream",
          "name": "stdout",
          "text": [
            "Total Rare Genres:  58\n"
          ]
        }
      ]
    },
    {
      "cell_type": "code",
      "source": [
        "# Rare indices to drop\n",
        "rare_indices_to_drop = [index for index, row in df.iterrows() if row[\"Primary Genre\"] in rare_genres]\n",
        "\n",
        "print(\"Total Rare Indices to Drop: \", len(rare_indices_to_drop))"
      ],
      "metadata": {
        "colab": {
          "base_uri": "https://localhost:8080/"
        },
        "id": "L-SJZxKdQjZ9",
        "outputId": "d7037996-47ea-4f3f-8201-eac3a57a10ff"
      },
      "execution_count": 21,
      "outputs": [
        {
          "output_type": "stream",
          "name": "stdout",
          "text": [
            "Total Rare Indices to Drop:  493\n"
          ]
        }
      ]
    },
    {
      "cell_type": "code",
      "source": [
        "# Drop Rare Genres\n",
        "df = df.drop(rare_indices_to_drop).reset_index(drop=True)"
      ],
      "metadata": {
        "id": "jixof4xJQk8L"
      },
      "execution_count": 22,
      "outputs": []
    },
    {
      "cell_type": "code",
      "source": [
        "# Shape After Dropping Rare Genres\n",
        "df.shape"
      ],
      "metadata": {
        "colab": {
          "base_uri": "https://localhost:8080/"
        },
        "id": "GVsItQbLQmWh",
        "outputId": "bbc8ed61-5711-44ab-aa67-81436d49c353"
      },
      "execution_count": 23,
      "outputs": [
        {
          "output_type": "execute_result",
          "data": {
            "text/plain": [
              "(19401, 4)"
            ]
          },
          "metadata": {},
          "execution_count": 23
        }
      ]
    },
    {
      "cell_type": "code",
      "source": [
        "# Show Remaining Primary Genres\n",
        "print(\"Total Remaining Genres Count: \", len(df[\"Primary Genre\"].value_counts()))\n",
        "\n",
        "print(\"Individual Genres Count: \")\n",
        "df[\"Primary Genre\"].value_counts()"
      ],
      "metadata": {
        "colab": {
          "base_uri": "https://localhost:8080/"
        },
        "id": "pr7sT--kQngb",
        "outputId": "376447d8-6116-400b-eba3-994f2ddcdb61"
      },
      "execution_count": 24,
      "outputs": [
        {
          "output_type": "stream",
          "name": "stdout",
          "text": [
            "Total Remaining Genres Count:  12\n",
            "Individual Genres Count: \n"
          ]
        },
        {
          "output_type": "execute_result",
          "data": {
            "text/plain": [
              "Action              6436\n",
              "Action Adventure    2579\n",
              "Role-Playing        2081\n",
              "Sports              1620\n",
              "Strategy            1608\n",
              "Miscellaneous       1366\n",
              "Adventure           1346\n",
              "Driving              921\n",
              "Simulation           640\n",
              "Racing               355\n",
              "General              249\n",
              "Puzzle               200\n",
              "Name: Primary Genre, dtype: int64"
            ]
          },
          "metadata": {},
          "execution_count": 24
        }
      ]
    },
    {
      "cell_type": "code",
      "source": [
        "# Drop Genres Column\n",
        "df.drop([\"Genres\"], axis = 1, inplace = True)"
      ],
      "metadata": {
        "id": "qZ9y9dQvQp7S"
      },
      "execution_count": 25,
      "outputs": []
    },
    {
      "cell_type": "code",
      "source": [
        "# Drop Duplicate Summary from the DataFrame\n",
        "df = df.drop_duplicates(subset = \"Summary\", keep='first')"
      ],
      "metadata": {
        "id": "waDT28v6Qrbv"
      },
      "execution_count": 26,
      "outputs": []
    },
    {
      "cell_type": "code",
      "source": [
        "# Get Labels\n",
        "labels = list(set(df[\"Primary Genre\"].to_list()))\n",
        "label_count = len(labels)\n",
        "\n",
        "print(\"Total Label Count: \", label_count)\n",
        "print(\"Labels: \", labels)"
      ],
      "metadata": {
        "colab": {
          "base_uri": "https://localhost:8080/"
        },
        "id": "wk7N2hEPQ2hL",
        "outputId": "77206878-ae1e-4c8b-bc28-a1927120da0c"
      },
      "execution_count": 27,
      "outputs": [
        {
          "output_type": "stream",
          "name": "stdout",
          "text": [
            "Total Label Count:  12\n",
            "Labels:  ['Puzzle', 'General', 'Racing', 'Simulation', 'Strategy', 'Action Adventure', 'Role-Playing', 'Sports', 'Driving', 'Action', 'Miscellaneous', 'Adventure']\n"
          ]
        }
      ]
    },
    {
      "cell_type": "code",
      "source": [
        "# Total Null Values in the Columns\n",
        "df.isna().sum()"
      ],
      "metadata": {
        "colab": {
          "base_uri": "https://localhost:8080/"
        },
        "id": "NpXiqH54-iBR",
        "outputId": "a43f857b-0855-42ba-b9af-e244d3036ff2"
      },
      "execution_count": 28,
      "outputs": [
        {
          "output_type": "execute_result",
          "data": {
            "text/plain": [
              "Name             0\n",
              "Summary          1\n",
              "Primary Genre    0\n",
              "dtype: int64"
            ]
          },
          "metadata": {},
          "execution_count": 28
        }
      ]
    },
    {
      "cell_type": "code",
      "source": [
        "# Drop Null Values\n",
        "df = df.dropna()"
      ],
      "metadata": {
        "id": "EvRMDbwB_xj9"
      },
      "execution_count": 29,
      "outputs": []
    },
    {
      "cell_type": "code",
      "source": [
        "# Description of The DataFrame\n",
        "df.describe(include=\"object\")"
      ],
      "metadata": {
        "colab": {
          "base_uri": "https://localhost:8080/",
          "height": 175
        },
        "id": "56t8CF71Qspq",
        "outputId": "7ff0761b-ae26-49be-9b01-2031feea6df1"
      },
      "execution_count": 30,
      "outputs": [
        {
          "output_type": "execute_result",
          "data": {
            "text/plain": [
              "                      Name                                            Summary  \\\n",
              "count                15037                                              15037   \n",
              "unique               12411                                              15037   \n",
              "top     MX vs. ATV Untamed  As a young boy, Link is tricked by Ganondorf, ...   \n",
              "freq                     6                                                  1   \n",
              "\n",
              "       Primary Genre  \n",
              "count          15037  \n",
              "unique            12  \n",
              "top           Action  \n",
              "freq            4915  "
            ],
            "text/html": [
              "\n",
              "\n",
              "  <div id=\"df-64421c2c-d604-4b87-9410-8a0d4ea48e78\">\n",
              "    <div class=\"colab-df-container\">\n",
              "      <div>\n",
              "<style scoped>\n",
              "    .dataframe tbody tr th:only-of-type {\n",
              "        vertical-align: middle;\n",
              "    }\n",
              "\n",
              "    .dataframe tbody tr th {\n",
              "        vertical-align: top;\n",
              "    }\n",
              "\n",
              "    .dataframe thead th {\n",
              "        text-align: right;\n",
              "    }\n",
              "</style>\n",
              "<table border=\"1\" class=\"dataframe\">\n",
              "  <thead>\n",
              "    <tr style=\"text-align: right;\">\n",
              "      <th></th>\n",
              "      <th>Name</th>\n",
              "      <th>Summary</th>\n",
              "      <th>Primary Genre</th>\n",
              "    </tr>\n",
              "  </thead>\n",
              "  <tbody>\n",
              "    <tr>\n",
              "      <th>count</th>\n",
              "      <td>15037</td>\n",
              "      <td>15037</td>\n",
              "      <td>15037</td>\n",
              "    </tr>\n",
              "    <tr>\n",
              "      <th>unique</th>\n",
              "      <td>12411</td>\n",
              "      <td>15037</td>\n",
              "      <td>12</td>\n",
              "    </tr>\n",
              "    <tr>\n",
              "      <th>top</th>\n",
              "      <td>MX vs. ATV Untamed</td>\n",
              "      <td>As a young boy, Link is tricked by Ganondorf, ...</td>\n",
              "      <td>Action</td>\n",
              "    </tr>\n",
              "    <tr>\n",
              "      <th>freq</th>\n",
              "      <td>6</td>\n",
              "      <td>1</td>\n",
              "      <td>4915</td>\n",
              "    </tr>\n",
              "  </tbody>\n",
              "</table>\n",
              "</div>\n",
              "      <button class=\"colab-df-convert\" onclick=\"convertToInteractive('df-64421c2c-d604-4b87-9410-8a0d4ea48e78')\"\n",
              "              title=\"Convert this dataframe to an interactive table.\"\n",
              "              style=\"display:none;\">\n",
              "\n",
              "  <svg xmlns=\"http://www.w3.org/2000/svg\" height=\"24px\"viewBox=\"0 0 24 24\"\n",
              "       width=\"24px\">\n",
              "    <path d=\"M0 0h24v24H0V0z\" fill=\"none\"/>\n",
              "    <path d=\"M18.56 5.44l.94 2.06.94-2.06 2.06-.94-2.06-.94-.94-2.06-.94 2.06-2.06.94zm-11 1L8.5 8.5l.94-2.06 2.06-.94-2.06-.94L8.5 2.5l-.94 2.06-2.06.94zm10 10l.94 2.06.94-2.06 2.06-.94-2.06-.94-.94-2.06-.94 2.06-2.06.94z\"/><path d=\"M17.41 7.96l-1.37-1.37c-.4-.4-.92-.59-1.43-.59-.52 0-1.04.2-1.43.59L10.3 9.45l-7.72 7.72c-.78.78-.78 2.05 0 2.83L4 21.41c.39.39.9.59 1.41.59.51 0 1.02-.2 1.41-.59l7.78-7.78 2.81-2.81c.8-.78.8-2.07 0-2.86zM5.41 20L4 18.59l7.72-7.72 1.47 1.35L5.41 20z\"/>\n",
              "  </svg>\n",
              "      </button>\n",
              "\n",
              "\n",
              "\n",
              "    <div id=\"df-92aaf2e6-457d-4bd0-b111-b3da6569d62b\">\n",
              "      <button class=\"colab-df-quickchart\" onclick=\"quickchart('df-92aaf2e6-457d-4bd0-b111-b3da6569d62b')\"\n",
              "              title=\"Suggest charts.\"\n",
              "              style=\"display:none;\">\n",
              "\n",
              "<svg xmlns=\"http://www.w3.org/2000/svg\" height=\"24px\"viewBox=\"0 0 24 24\"\n",
              "     width=\"24px\">\n",
              "    <g>\n",
              "        <path d=\"M19 3H5c-1.1 0-2 .9-2 2v14c0 1.1.9 2 2 2h14c1.1 0 2-.9 2-2V5c0-1.1-.9-2-2-2zM9 17H7v-7h2v7zm4 0h-2V7h2v10zm4 0h-2v-4h2v4z\"/>\n",
              "    </g>\n",
              "</svg>\n",
              "      </button>\n",
              "    </div>\n",
              "\n",
              "<style>\n",
              "  .colab-df-quickchart {\n",
              "    background-color: #E8F0FE;\n",
              "    border: none;\n",
              "    border-radius: 50%;\n",
              "    cursor: pointer;\n",
              "    display: none;\n",
              "    fill: #1967D2;\n",
              "    height: 32px;\n",
              "    padding: 0 0 0 0;\n",
              "    width: 32px;\n",
              "  }\n",
              "\n",
              "  .colab-df-quickchart:hover {\n",
              "    background-color: #E2EBFA;\n",
              "    box-shadow: 0px 1px 2px rgba(60, 64, 67, 0.3), 0px 1px 3px 1px rgba(60, 64, 67, 0.15);\n",
              "    fill: #174EA6;\n",
              "  }\n",
              "\n",
              "  [theme=dark] .colab-df-quickchart {\n",
              "    background-color: #3B4455;\n",
              "    fill: #D2E3FC;\n",
              "  }\n",
              "\n",
              "  [theme=dark] .colab-df-quickchart:hover {\n",
              "    background-color: #434B5C;\n",
              "    box-shadow: 0px 1px 3px 1px rgba(0, 0, 0, 0.15);\n",
              "    filter: drop-shadow(0px 1px 2px rgba(0, 0, 0, 0.3));\n",
              "    fill: #FFFFFF;\n",
              "  }\n",
              "</style>\n",
              "\n",
              "    <script>\n",
              "      async function quickchart(key) {\n",
              "        const containerElement = document.querySelector('#' + key);\n",
              "        const charts = await google.colab.kernel.invokeFunction(\n",
              "            'suggestCharts', [key], {});\n",
              "      }\n",
              "    </script>\n",
              "\n",
              "\n",
              "      <script>\n",
              "\n",
              "function displayQuickchartButton(domScope) {\n",
              "  let quickchartButtonEl =\n",
              "    domScope.querySelector('#df-92aaf2e6-457d-4bd0-b111-b3da6569d62b button.colab-df-quickchart');\n",
              "  quickchartButtonEl.style.display =\n",
              "    google.colab.kernel.accessAllowed ? 'block' : 'none';\n",
              "}\n",
              "\n",
              "        displayQuickchartButton(document);\n",
              "      </script>\n",
              "      <style>\n",
              "    .colab-df-container {\n",
              "      display:flex;\n",
              "      flex-wrap:wrap;\n",
              "      gap: 12px;\n",
              "    }\n",
              "\n",
              "    .colab-df-convert {\n",
              "      background-color: #E8F0FE;\n",
              "      border: none;\n",
              "      border-radius: 50%;\n",
              "      cursor: pointer;\n",
              "      display: none;\n",
              "      fill: #1967D2;\n",
              "      height: 32px;\n",
              "      padding: 0 0 0 0;\n",
              "      width: 32px;\n",
              "    }\n",
              "\n",
              "    .colab-df-convert:hover {\n",
              "      background-color: #E2EBFA;\n",
              "      box-shadow: 0px 1px 2px rgba(60, 64, 67, 0.3), 0px 1px 3px 1px rgba(60, 64, 67, 0.15);\n",
              "      fill: #174EA6;\n",
              "    }\n",
              "\n",
              "    [theme=dark] .colab-df-convert {\n",
              "      background-color: #3B4455;\n",
              "      fill: #D2E3FC;\n",
              "    }\n",
              "\n",
              "    [theme=dark] .colab-df-convert:hover {\n",
              "      background-color: #434B5C;\n",
              "      box-shadow: 0px 1px 3px 1px rgba(0, 0, 0, 0.15);\n",
              "      filter: drop-shadow(0px 1px 2px rgba(0, 0, 0, 0.3));\n",
              "      fill: #FFFFFF;\n",
              "    }\n",
              "  </style>\n",
              "\n",
              "      <script>\n",
              "        const buttonEl =\n",
              "          document.querySelector('#df-64421c2c-d604-4b87-9410-8a0d4ea48e78 button.colab-df-convert');\n",
              "        buttonEl.style.display =\n",
              "          google.colab.kernel.accessAllowed ? 'block' : 'none';\n",
              "\n",
              "        async function convertToInteractive(key) {\n",
              "          const element = document.querySelector('#df-64421c2c-d604-4b87-9410-8a0d4ea48e78');\n",
              "          const dataTable =\n",
              "            await google.colab.kernel.invokeFunction('convertToInteractive',\n",
              "                                                     [key], {});\n",
              "          if (!dataTable) return;\n",
              "\n",
              "          const docLinkHtml = 'Like what you see? Visit the ' +\n",
              "            '<a target=\"_blank\" href=https://colab.research.google.com/notebooks/data_table.ipynb>data table notebook</a>'\n",
              "            + ' to learn more about interactive tables.';\n",
              "          element.innerHTML = '';\n",
              "          dataTable['output_type'] = 'display_data';\n",
              "          await google.colab.output.renderOutput(dataTable, element);\n",
              "          const docLink = document.createElement('div');\n",
              "          docLink.innerHTML = docLinkHtml;\n",
              "          element.appendChild(docLink);\n",
              "        }\n",
              "      </script>\n",
              "    </div>\n",
              "  </div>\n"
            ]
          },
          "metadata": {},
          "execution_count": 30
        }
      ]
    },
    {
      "cell_type": "markdown",
      "source": [
        "## Data Processing"
      ],
      "metadata": {
        "id": "NZXZWl_pRjqN"
      }
    },
    {
      "cell_type": "code",
      "source": [
        "ds = Dataset.from_pandas(df)"
      ],
      "metadata": {
        "id": "sQloqm1RRMO0"
      },
      "execution_count": 31,
      "outputs": []
    },
    {
      "cell_type": "code",
      "source": [
        "ds"
      ],
      "metadata": {
        "colab": {
          "base_uri": "https://localhost:8080/"
        },
        "id": "qsUWrQOs6NGS",
        "outputId": "a09cd182-00a2-4803-bfd0-19e061420dd3"
      },
      "execution_count": 32,
      "outputs": [
        {
          "output_type": "execute_result",
          "data": {
            "text/plain": [
              "Dataset({\n",
              "    features: ['Name', 'Summary', 'Primary Genre', '__index_level_0__'],\n",
              "    num_rows: 15037\n",
              "})"
            ]
          },
          "metadata": {},
          "execution_count": 32
        }
      ]
    },
    {
      "cell_type": "code",
      "source": [
        "ds[0]"
      ],
      "metadata": {
        "colab": {
          "base_uri": "https://localhost:8080/"
        },
        "id": "ZovKtrWY6kh1",
        "outputId": "15cc1df6-c6a3-494c-d29d-97fa6ea6892a"
      },
      "execution_count": 33,
      "outputs": [
        {
          "output_type": "execute_result",
          "data": {
            "text/plain": [
              "{'Name': 'The Legend of Zelda: Ocarina of Time',\n",
              " 'Summary': 'As a young boy, Link is tricked by Ganondorf, the King of the Gerudo Thieves. The evil human uses Link to gain access to the Sacred Realm, where he places his tainted hands on Triforce and transforms the beautiful Hyrulean landscape into a barren wasteland. Link is determined to fix the problems he helped to create, so with the help of Rauru he travels through time gathering the powers of the Seven Sages.',\n",
              " 'Primary Genre': 'Action Adventure',\n",
              " '__index_level_0__': 0}"
            ]
          },
          "metadata": {},
          "execution_count": 33
        }
      ]
    },
    {
      "cell_type": "markdown",
      "source": [
        "### Tokenization"
      ],
      "metadata": {
        "id": "i9vn4xr_6Ryj"
      }
    },
    {
      "cell_type": "markdown",
      "source": [
        "#### Dummy Tokenization"
      ],
      "metadata": {
        "id": "-OvmanK8AjyI"
      }
    },
    {
      "cell_type": "code",
      "source": [
        "# Pretrain Tokenizer\n",
        "tokenizer = AutoTokenizer.from_pretrained((model_name))"
      ],
      "metadata": {
        "colab": {
          "base_uri": "https://localhost:8080/",
          "height": 145,
          "referenced_widgets": [
            "32b154a08cd54712acd8623521863bef",
            "057f064c026746fb8e12770f648fe22a",
            "701be5bddbe249f0bc60a036885b1bea",
            "f853e0add24141fb9ad3887f34f483e7",
            "d18a191c27db4be89457b561d45ad685",
            "9edb3c1e222a4135ada6114614883510",
            "0f0e4b139eab4328ace94ecc47a07862",
            "b763f08de53e4834a0db6b20efc0d42a",
            "0ce480474f7d494bb2a717f075c19b8d",
            "3ebf6f4b975b4c15871cdb2628c67ce3",
            "7bc0baf494e14c1287d4a39b6d502c4c",
            "0b18ea52e0b541a981975057ecd5fa51",
            "c59079597eb8452da21206b770005713",
            "27a904b682e34ea4b81e53ede49cdb0d",
            "15061698a0f54590aff5bcc057bc9423",
            "258abf6f0d2d492a9c55d1c0685e610e",
            "204c8a9815cf452ba82b747387c4f8bb",
            "d79a1ffafb034d0b9de96f8897826b9b",
            "7631c2f642ff4184bc5877b8fb3aeaa0",
            "37945b763baf4e629ced75a4fac88ee8",
            "27d2971db2d24a9bb93c683cc5847075",
            "c424cb54dc41491c92e91d7092318122",
            "90d6e9f888b245e7a1ca065731d2a24b",
            "47ab035321d54d638a2ac50fca9fb7f3",
            "f58d586a320c426eae785ba4fb2d0dfd",
            "7f7a2b52bafa43f2926c47cb963bfd46",
            "3ea8236574e547fc9e5c277b769136d6",
            "77ab669d553f4db983c629da7bb59ad3",
            "13ce8b04f67e40288621cdcb4ae98e58",
            "f746f433e9c04ca68406e7934e86b60a",
            "6007513d715c41d78558b0ab14dd4ad7",
            "c510b3323f69438cbdc6057208261566",
            "9af0d2e5244d442d978fd19aa5249f11",
            "6f3829e1373a4c8a87991e2b37701117",
            "6990e78a7f064ef4864a942f224c6433",
            "9f57a80331d440a8bc7478f3fbd33fe9",
            "e95add6966cc473cab1c157e9a056e16",
            "a6a52706fd11459aba9dc8426557b988",
            "1ff8fec84d024dd49ee4e013d7ad52ad",
            "44da367d97714708902c13c4dfe9c63e",
            "bf91d7e24c384b7ea93c7d626fbbaf4c",
            "272aa6368ed5448cbb4894ca84a1941c",
            "199e17b2145a4a598037ad54a09a1a6e",
            "52ffb352c2194d0585a4fc7356210d79"
          ]
        },
        "id": "5Jwkgxsg6Uxo",
        "outputId": "d5544863-a343-45bb-bf79-f61679cbecf2"
      },
      "execution_count": 34,
      "outputs": [
        {
          "output_type": "display_data",
          "data": {
            "text/plain": [
              "Downloading (…)lve/main/config.json:   0%|          | 0.00/480 [00:00<?, ?B/s]"
            ],
            "application/vnd.jupyter.widget-view+json": {
              "version_major": 2,
              "version_minor": 0,
              "model_id": "32b154a08cd54712acd8623521863bef"
            }
          },
          "metadata": {}
        },
        {
          "output_type": "display_data",
          "data": {
            "text/plain": [
              "Downloading (…)olve/main/vocab.json:   0%|          | 0.00/899k [00:00<?, ?B/s]"
            ],
            "application/vnd.jupyter.widget-view+json": {
              "version_major": 2,
              "version_minor": 0,
              "model_id": "0b18ea52e0b541a981975057ecd5fa51"
            }
          },
          "metadata": {}
        },
        {
          "output_type": "display_data",
          "data": {
            "text/plain": [
              "Downloading (…)olve/main/merges.txt:   0%|          | 0.00/456k [00:00<?, ?B/s]"
            ],
            "application/vnd.jupyter.widget-view+json": {
              "version_major": 2,
              "version_minor": 0,
              "model_id": "90d6e9f888b245e7a1ca065731d2a24b"
            }
          },
          "metadata": {}
        },
        {
          "output_type": "display_data",
          "data": {
            "text/plain": [
              "Downloading (…)/main/tokenizer.json:   0%|          | 0.00/1.36M [00:00<?, ?B/s]"
            ],
            "application/vnd.jupyter.widget-view+json": {
              "version_major": 2,
              "version_minor": 0,
              "model_id": "6f3829e1373a4c8a87991e2b37701117"
            }
          },
          "metadata": {}
        }
      ]
    },
    {
      "cell_type": "code",
      "source": [
        "tokenizer.tokenize(ds[0][\"Summary\"][:110])"
      ],
      "metadata": {
        "colab": {
          "base_uri": "https://localhost:8080/"
        },
        "id": "tba4xHxt7Flk",
        "outputId": "6ce894d8-4c53-45d3-d456-fe913301887b"
      },
      "execution_count": 35,
      "outputs": [
        {
          "output_type": "execute_result",
          "data": {
            "text/plain": [
              "['As',\n",
              " 'Ġa',\n",
              " 'Ġyoung',\n",
              " 'Ġboy',\n",
              " ',',\n",
              " 'ĠLink',\n",
              " 'Ġis',\n",
              " 'Ġtricked',\n",
              " 'Ġby',\n",
              " 'ĠGan',\n",
              " 'ond',\n",
              " 'orf',\n",
              " ',',\n",
              " 'Ġthe',\n",
              " 'ĠKing',\n",
              " 'Ġof',\n",
              " 'Ġthe',\n",
              " 'ĠGer',\n",
              " 'udo',\n",
              " 'ĠThieves',\n",
              " '.',\n",
              " 'ĠThe',\n",
              " 'Ġevil',\n",
              " 'Ġhuman',\n",
              " 'Ġuses',\n",
              " 'ĠLink',\n",
              " 'Ġto',\n",
              " 'Ġgain']"
            ]
          },
          "metadata": {},
          "execution_count": 35
        }
      ]
    },
    {
      "cell_type": "code",
      "source": [
        "tokenizer(ds[0][\"Summary\"][:110])"
      ],
      "metadata": {
        "colab": {
          "base_uri": "https://localhost:8080/"
        },
        "id": "8dhcwc7TAeut",
        "outputId": "431574bb-8e0c-408e-bdb5-d66887d84122"
      },
      "execution_count": 36,
      "outputs": [
        {
          "output_type": "execute_result",
          "data": {
            "text/plain": [
              "{'input_ids': [0, 1620, 10, 664, 2143, 6, 4341, 16, 36985, 30, 16929, 2832, 16385, 6, 5, 1745, 9, 5, 7965, 23259, 40036, 4, 20, 9247, 1050, 2939, 4341, 7, 2364, 2], 'attention_mask': [1, 1, 1, 1, 1, 1, 1, 1, 1, 1, 1, 1, 1, 1, 1, 1, 1, 1, 1, 1, 1, 1, 1, 1, 1, 1, 1, 1, 1, 1]}"
            ]
          },
          "metadata": {},
          "execution_count": 36
        }
      ]
    },
    {
      "cell_type": "markdown",
      "source": [
        "#### Full DataFrame Tokenization and Numericalization"
      ],
      "metadata": {
        "id": "qfqNEls1AnBN"
      }
    },
    {
      "cell_type": "code",
      "source": [
        "def tokenize_summary(dataframe):\n",
        "  return tokenizer(dataframe[\"Summary\"], truncation=True, padding=True)"
      ],
      "metadata": {
        "id": "zRc88u3C7bFL"
      },
      "execution_count": 37,
      "outputs": []
    },
    {
      "cell_type": "code",
      "source": [
        "tokenized_ds = ds.map(tokenize_summary, batched=True)"
      ],
      "metadata": {
        "colab": {
          "base_uri": "https://localhost:8080/",
          "height": 49,
          "referenced_widgets": [
            "ac4be264a9de4821ac7bfa33e2853772",
            "c7e5a7e75e7b48f693cafe838b4a1870",
            "e2d11c7452604bb595908a094c652052",
            "6b4eb6f5be634fbc9214959e8ab957bf",
            "e4452a8bf402406f994bca28b70568cf",
            "8e948b06074742e48d7b0fd91fd295fa",
            "ce1d049f7a354a238c6eb0b7a1c8ec1a",
            "6c5bf7497ad54cd9b85135e05f121721",
            "9453a036d25a405dbef8477714b5e7f7",
            "fac6030ccfcc4a3d94717a4d2a2076b7",
            "cf158127f4e64716afd0f0c464e02ca6"
          ]
        },
        "id": "1J85DK919BZx",
        "outputId": "ea3034f3-9fe7-43bf-b9a9-503eb71338cc"
      },
      "execution_count": 38,
      "outputs": [
        {
          "output_type": "display_data",
          "data": {
            "text/plain": [
              "Map:   0%|          | 0/15037 [00:00<?, ? examples/s]"
            ],
            "application/vnd.jupyter.widget-view+json": {
              "version_major": 2,
              "version_minor": 0,
              "model_id": "ac4be264a9de4821ac7bfa33e2853772"
            }
          },
          "metadata": {}
        }
      ]
    },
    {
      "cell_type": "code",
      "source": [
        "tokenized_ds[0]"
      ],
      "metadata": {
        "id": "ht1D1aGRAzed"
      },
      "execution_count": null,
      "outputs": []
    },
    {
      "cell_type": "code",
      "source": [
        "row = tokenized_ds[0]\n",
        "\n",
        "print(\"Summary: \", row[\"Summary\"])\n",
        "print(\"Input IDs: \", row[\"input_ids\"])"
      ],
      "metadata": {
        "colab": {
          "base_uri": "https://localhost:8080/"
        },
        "id": "MdR1uKuoA1U9",
        "outputId": "4f54afa5-df1b-4407-eca5-418403b1b7fe"
      },
      "execution_count": 40,
      "outputs": [
        {
          "output_type": "stream",
          "name": "stdout",
          "text": [
            "Summary:  As a young boy, Link is tricked by Ganondorf, the King of the Gerudo Thieves. The evil human uses Link to gain access to the Sacred Realm, where he places his tainted hands on Triforce and transforms the beautiful Hyrulean landscape into a barren wasteland. Link is determined to fix the problems he helped to create, so with the help of Rauru he travels through time gathering the powers of the Seven Sages.\n",
            "Input IDs:  [0, 1620, 10, 664, 2143, 6, 4341, 16, 36985, 30, 16929, 2832, 16385, 6, 5, 1745, 9, 5, 7965, 23259, 40036, 4, 20, 9247, 1050, 2939, 4341, 7, 2364, 899, 7, 5, 25095, 38814, 6, 147, 37, 2127, 39, 25686, 1420, 15, 2393, 1594, 34260, 8, 33622, 5, 2721, 8851, 2070, 21926, 5252, 88, 10, 36175, 43689, 4, 4341, 16, 3030, 7, 4190, 5, 1272, 37, 1147, 7, 1045, 6, 98, 19, 5, 244, 9, 248, 8616, 257, 37, 12524, 149, 86, 5660, 5, 4361, 9, 5, 7732, 208, 3443, 4, 2, 1, 1, 1, 1, 1, 1, 1, 1, 1, 1, 1, 1, 1, 1, 1, 1, 1, 1, 1, 1, 1, 1, 1, 1, 1, 1, 1, 1, 1, 1, 1, 1, 1, 1, 1, 1, 1, 1, 1, 1, 1, 1, 1, 1, 1, 1, 1, 1, 1, 1, 1, 1, 1, 1, 1, 1, 1, 1, 1, 1, 1, 1, 1, 1, 1, 1, 1, 1, 1, 1, 1, 1, 1, 1, 1, 1, 1, 1, 1, 1, 1, 1, 1, 1, 1, 1, 1, 1, 1, 1, 1, 1, 1, 1, 1, 1, 1, 1, 1, 1, 1, 1, 1, 1, 1, 1, 1, 1, 1, 1, 1, 1, 1, 1, 1, 1, 1, 1, 1, 1, 1, 1, 1, 1, 1, 1, 1, 1, 1, 1, 1, 1, 1, 1, 1, 1, 1, 1, 1, 1, 1, 1, 1, 1, 1, 1, 1, 1, 1, 1, 1, 1, 1, 1, 1, 1, 1, 1, 1, 1, 1, 1, 1, 1, 1, 1, 1, 1, 1, 1, 1, 1, 1, 1, 1, 1, 1, 1, 1, 1, 1, 1, 1, 1, 1, 1, 1, 1, 1, 1, 1, 1, 1, 1, 1, 1, 1, 1, 1, 1, 1, 1, 1, 1, 1, 1, 1, 1, 1, 1, 1, 1, 1, 1, 1, 1, 1, 1, 1, 1, 1, 1, 1, 1, 1, 1, 1, 1, 1, 1, 1, 1, 1, 1, 1, 1, 1, 1, 1, 1, 1, 1, 1, 1, 1, 1, 1, 1, 1, 1, 1, 1, 1, 1, 1, 1, 1, 1, 1, 1, 1, 1, 1, 1, 1, 1, 1, 1, 1, 1, 1, 1, 1, 1, 1, 1, 1, 1, 1, 1, 1, 1, 1, 1, 1, 1, 1, 1, 1, 1, 1, 1, 1, 1, 1, 1, 1, 1, 1, 1, 1, 1, 1, 1, 1, 1, 1, 1, 1, 1, 1, 1, 1, 1, 1, 1, 1, 1, 1, 1, 1, 1, 1, 1, 1, 1, 1, 1, 1, 1, 1, 1, 1, 1, 1, 1, 1, 1, 1, 1, 1, 1, 1, 1, 1, 1, 1, 1, 1, 1, 1, 1, 1, 1, 1, 1, 1, 1, 1, 1, 1, 1, 1, 1, 1, 1, 1, 1, 1, 1, 1, 1, 1, 1, 1, 1, 1, 1, 1, 1, 1, 1, 1, 1, 1, 1, 1, 1, 1, 1, 1, 1, 1, 1, 1, 1, 1, 1, 1, 1, 1, 1, 1, 1, 1, 1, 1, 1, 1, 1, 1, 1, 1, 1, 1, 1, 1, 1, 1, 1]\n"
          ]
        }
      ]
    },
    {
      "cell_type": "code",
      "source": [
        "# Vocabulary index, Numericalization like we did in ULMFit\n",
        "tokenizer.vocab[\"Ġyoung\"]"
      ],
      "metadata": {
        "colab": {
          "base_uri": "https://localhost:8080/"
        },
        "id": "o63-QWPRBog3",
        "outputId": "b0296538-455d-4317-af48-fffd80b98ee1"
      },
      "execution_count": 41,
      "outputs": [
        {
          "output_type": "execute_result",
          "data": {
            "text/plain": [
              "664"
            ]
          },
          "metadata": {},
          "execution_count": 41
        }
      ]
    },
    {
      "cell_type": "markdown",
      "source": [
        "#### Categorize"
      ],
      "metadata": {
        "id": "mC22WHm1CNSW"
      }
    },
    {
      "cell_type": "code",
      "source": [
        "print(\"All the Labels: \")\n",
        "labels"
      ],
      "metadata": {
        "colab": {
          "base_uri": "https://localhost:8080/"
        },
        "id": "_Yz3Y6LDCRUp",
        "outputId": "10c54440-6765-4917-bd0e-d3c057b0c559"
      },
      "execution_count": 42,
      "outputs": [
        {
          "output_type": "stream",
          "name": "stdout",
          "text": [
            "All the Labels: \n"
          ]
        },
        {
          "output_type": "execute_result",
          "data": {
            "text/plain": [
              "['Puzzle',\n",
              " 'General',\n",
              " 'Racing',\n",
              " 'Simulation',\n",
              " 'Strategy',\n",
              " 'Action Adventure',\n",
              " 'Role-Playing',\n",
              " 'Sports',\n",
              " 'Driving',\n",
              " 'Action',\n",
              " 'Miscellaneous',\n",
              " 'Adventure']"
            ]
          },
          "metadata": {},
          "execution_count": 42
        }
      ]
    },
    {
      "cell_type": "code",
      "source": [
        "# Index of a label\n",
        "labels.index(\"Action\")"
      ],
      "metadata": {
        "colab": {
          "base_uri": "https://localhost:8080/"
        },
        "id": "KtReiqPiCsek",
        "outputId": "8f0bc9c0-bbfa-4f76-9d2b-8db24173973d"
      },
      "execution_count": 43,
      "outputs": [
        {
          "output_type": "execute_result",
          "data": {
            "text/plain": [
              "9"
            ]
          },
          "metadata": {},
          "execution_count": 43
        }
      ]
    },
    {
      "cell_type": "code",
      "source": [
        "def categorize(dataframe):\n",
        "  return {\"labels\": [labels.index(primary_genre) for primary_genre in dataframe[\"Primary Genre\"]]}"
      ],
      "metadata": {
        "id": "hxSJctUrCyIt"
      },
      "execution_count": 44,
      "outputs": []
    },
    {
      "cell_type": "code",
      "source": [
        "categorized_ds = tokenized_ds.map(categorize, batched=True)"
      ],
      "metadata": {
        "colab": {
          "base_uri": "https://localhost:8080/",
          "height": 49,
          "referenced_widgets": [
            "88f9724b159644248076ec57eba79d96",
            "f9c22f41ece442f8a3670fd764d7cdd2",
            "61564148f7164f1d9152a274b26c9375",
            "686e4286aa934b0eb95cf372cd4ded6f",
            "680d46fc3cde4156a16091f39b721708",
            "7035381c7ea84147b9f1d101357f92c6",
            "676e7dd07bfc4d1189f64e2aef33ca82",
            "7f2865a823ab467b87f5933f666e30b2",
            "1b53c1c23797428fb98e89d93229d4ed",
            "2e442b1eb2a148798217d751eb1f5d4d",
            "7cc86ea106a44fb185b36f4ca13d0d52"
          ]
        },
        "id": "XuVLIo1DEedz",
        "outputId": "8cc5510d-1d03-447e-8ccd-a690b79c4b90"
      },
      "execution_count": 45,
      "outputs": [
        {
          "output_type": "display_data",
          "data": {
            "text/plain": [
              "Map:   0%|          | 0/15037 [00:00<?, ? examples/s]"
            ],
            "application/vnd.jupyter.widget-view+json": {
              "version_major": 2,
              "version_minor": 0,
              "model_id": "88f9724b159644248076ec57eba79d96"
            }
          },
          "metadata": {}
        }
      ]
    },
    {
      "cell_type": "code",
      "source": [
        "categorized_ds"
      ],
      "metadata": {
        "colab": {
          "base_uri": "https://localhost:8080/"
        },
        "id": "CnykXaIJEp0m",
        "outputId": "d0dfcdad-bed4-4689-cc58-8e2262af3ff5"
      },
      "execution_count": 46,
      "outputs": [
        {
          "output_type": "execute_result",
          "data": {
            "text/plain": [
              "Dataset({\n",
              "    features: ['Name', 'Summary', 'Primary Genre', '__index_level_0__', 'input_ids', 'attention_mask', 'labels'],\n",
              "    num_rows: 15037\n",
              "})"
            ]
          },
          "metadata": {},
          "execution_count": 46
        }
      ]
    },
    {
      "cell_type": "code",
      "source": [
        "row = categorized_ds[0]\n",
        "row[\"labels\"]"
      ],
      "metadata": {
        "colab": {
          "base_uri": "https://localhost:8080/"
        },
        "id": "fp9k50z7E0DO",
        "outputId": "6bd48523-d8cd-47aa-a8c3-7010674209f8"
      },
      "execution_count": 47,
      "outputs": [
        {
          "output_type": "execute_result",
          "data": {
            "text/plain": [
              "5"
            ]
          },
          "metadata": {},
          "execution_count": 47
        }
      ]
    },
    {
      "cell_type": "code",
      "source": [
        "categorized_ds[0]"
      ],
      "metadata": {
        "id": "cNqbPpj2E3ys"
      },
      "execution_count": null,
      "outputs": []
    },
    {
      "cell_type": "markdown",
      "source": [
        "## Data Splitting"
      ],
      "metadata": {
        "id": "DHw7nd8sFY1U"
      }
    },
    {
      "cell_type": "code",
      "source": [
        "split_ds = categorized_ds.train_test_split(0.1, seed=42)\n",
        "split_ds"
      ],
      "metadata": {
        "colab": {
          "base_uri": "https://localhost:8080/"
        },
        "id": "seTFy9EbFAao",
        "outputId": "ff187689-2e3c-485f-c09c-3b7b30caa417"
      },
      "execution_count": 49,
      "outputs": [
        {
          "output_type": "execute_result",
          "data": {
            "text/plain": [
              "DatasetDict({\n",
              "    train: Dataset({\n",
              "        features: ['Name', 'Summary', 'Primary Genre', '__index_level_0__', 'input_ids', 'attention_mask', 'labels'],\n",
              "        num_rows: 13533\n",
              "    })\n",
              "    test: Dataset({\n",
              "        features: ['Name', 'Summary', 'Primary Genre', '__index_level_0__', 'input_ids', 'attention_mask', 'labels'],\n",
              "        num_rows: 1504\n",
              "    })\n",
              "})"
            ]
          },
          "metadata": {},
          "execution_count": 49
        }
      ]
    },
    {
      "cell_type": "markdown",
      "source": [
        "## Modeling"
      ],
      "metadata": {
        "id": "22lk9YyCFkLo"
      }
    },
    {
      "cell_type": "code",
      "source": [
        "args = TrainingArguments(\n",
        "    \"models\",\n",
        "    learning_rate = lr,\n",
        "    warmup_ratio = 0.1,\n",
        "    lr_scheduler_type='cosine',\n",
        "    fp16=True,\n",
        "    evaluation_strategy='epoch',\n",
        "    per_device_train_batch_size=bs,\n",
        "    per_device_eval_batch_size=bs,\n",
        "    num_train_epochs=epochs,\n",
        "    weight_decay=0.01,\n",
        "    report_to='none'\n",
        ")"
      ],
      "metadata": {
        "id": "A9nuKjIkFlNT"
      },
      "execution_count": 50,
      "outputs": []
    },
    {
      "cell_type": "code",
      "source": [
        "model = AutoModelForSequenceClassification.from_pretrained(model_name, num_labels=label_count)\n",
        "model"
      ],
      "metadata": {
        "colab": {
          "base_uri": "https://localhost:8080/",
          "height": 919,
          "referenced_widgets": [
            "38245b83a9c4456c8cd5f3775162562f",
            "57252b3625e94bf98247bddd8a621541",
            "3a3dbe4ee19c4231aceebba4b0c37ce1",
            "2b9fca5837d148638a99978f4052dbd6",
            "8eabf2eeb67447d0852b30d491ab1238",
            "a65c5b65d9644b3599f3ef82e76bbace",
            "ac8544ab63844f67b5bc4b880c6e4b6f",
            "8a73c340b27f4c85b8c7fa4b44a4d138",
            "6efc7f4430264070af95b99aa71b8fbf",
            "5a43c8d1c3c5462a9f70f39deb5d4e93",
            "da7db086effc4f81a662e01257ce4dc4"
          ]
        },
        "id": "WmaTyLCvKAIf",
        "outputId": "cb4ffc34-c27c-4401-bc06-d0fc14a94b57"
      },
      "execution_count": 51,
      "outputs": [
        {
          "output_type": "display_data",
          "data": {
            "text/plain": [
              "Downloading pytorch_model.bin:   0%|          | 0.00/331M [00:00<?, ?B/s]"
            ],
            "application/vnd.jupyter.widget-view+json": {
              "version_major": 2,
              "version_minor": 0,
              "model_id": "38245b83a9c4456c8cd5f3775162562f"
            }
          },
          "metadata": {}
        },
        {
          "output_type": "stream",
          "name": "stderr",
          "text": [
            "Some weights of the model checkpoint at distilroberta-base were not used when initializing RobertaForSequenceClassification: ['lm_head.dense.weight', 'lm_head.layer_norm.bias', 'lm_head.bias', 'lm_head.layer_norm.weight', 'lm_head.dense.bias', 'roberta.pooler.dense.bias', 'roberta.pooler.dense.weight', 'lm_head.decoder.weight']\n",
            "- This IS expected if you are initializing RobertaForSequenceClassification from the checkpoint of a model trained on another task or with another architecture (e.g. initializing a BertForSequenceClassification model from a BertForPreTraining model).\n",
            "- This IS NOT expected if you are initializing RobertaForSequenceClassification from the checkpoint of a model that you expect to be exactly identical (initializing a BertForSequenceClassification model from a BertForSequenceClassification model).\n",
            "Some weights of RobertaForSequenceClassification were not initialized from the model checkpoint at distilroberta-base and are newly initialized: ['classifier.out_proj.bias', 'classifier.dense.bias', 'classifier.dense.weight', 'classifier.out_proj.weight']\n",
            "You should probably TRAIN this model on a down-stream task to be able to use it for predictions and inference.\n"
          ]
        },
        {
          "output_type": "execute_result",
          "data": {
            "text/plain": [
              "RobertaForSequenceClassification(\n",
              "  (roberta): RobertaModel(\n",
              "    (embeddings): RobertaEmbeddings(\n",
              "      (word_embeddings): Embedding(50265, 768, padding_idx=1)\n",
              "      (position_embeddings): Embedding(514, 768, padding_idx=1)\n",
              "      (token_type_embeddings): Embedding(1, 768)\n",
              "      (LayerNorm): LayerNorm((768,), eps=1e-05, elementwise_affine=True)\n",
              "      (dropout): Dropout(p=0.1, inplace=False)\n",
              "    )\n",
              "    (encoder): RobertaEncoder(\n",
              "      (layer): ModuleList(\n",
              "        (0-5): 6 x RobertaLayer(\n",
              "          (attention): RobertaAttention(\n",
              "            (self): RobertaSelfAttention(\n",
              "              (query): Linear(in_features=768, out_features=768, bias=True)\n",
              "              (key): Linear(in_features=768, out_features=768, bias=True)\n",
              "              (value): Linear(in_features=768, out_features=768, bias=True)\n",
              "              (dropout): Dropout(p=0.1, inplace=False)\n",
              "            )\n",
              "            (output): RobertaSelfOutput(\n",
              "              (dense): Linear(in_features=768, out_features=768, bias=True)\n",
              "              (LayerNorm): LayerNorm((768,), eps=1e-05, elementwise_affine=True)\n",
              "              (dropout): Dropout(p=0.1, inplace=False)\n",
              "            )\n",
              "          )\n",
              "          (intermediate): RobertaIntermediate(\n",
              "            (dense): Linear(in_features=768, out_features=3072, bias=True)\n",
              "            (intermediate_act_fn): GELUActivation()\n",
              "          )\n",
              "          (output): RobertaOutput(\n",
              "            (dense): Linear(in_features=3072, out_features=768, bias=True)\n",
              "            (LayerNorm): LayerNorm((768,), eps=1e-05, elementwise_affine=True)\n",
              "            (dropout): Dropout(p=0.1, inplace=False)\n",
              "          )\n",
              "        )\n",
              "      )\n",
              "    )\n",
              "  )\n",
              "  (classifier): RobertaClassificationHead(\n",
              "    (dense): Linear(in_features=768, out_features=768, bias=True)\n",
              "    (dropout): Dropout(p=0.1, inplace=False)\n",
              "    (out_proj): Linear(in_features=768, out_features=12, bias=True)\n",
              "  )\n",
              ")"
            ]
          },
          "metadata": {},
          "execution_count": 51
        }
      ]
    },
    {
      "cell_type": "code",
      "source": [
        "def accuracy(eval_preds):\n",
        "  metric = evaluate.load(\"accuracy\")\n",
        "  logits, labels = eval_preds\n",
        "  predictions = np.argmax(logits, axis=-1)\n",
        "  return metric.compute(predictions=predictions, references=labels)"
      ],
      "metadata": {
        "id": "7Q_YKhLuLMj6"
      },
      "execution_count": 53,
      "outputs": []
    },
    {
      "cell_type": "code",
      "source": [
        "trainer = Trainer(\n",
        "    model,\n",
        "    args,\n",
        "    train_dataset = split_ds[\"train\"],\n",
        "    eval_dataset = split_ds[\"test\"],\n",
        "    tokenizer = tokenizer,\n",
        "    compute_metrics = accuracy\n",
        ")"
      ],
      "metadata": {
        "id": "_Fo2bZFnLV7v"
      },
      "execution_count": 54,
      "outputs": []
    },
    {
      "cell_type": "code",
      "source": [
        "trainer.train()"
      ],
      "metadata": {
        "colab": {
          "base_uri": "https://localhost:8080/",
          "height": 399,
          "referenced_widgets": [
            "fb52e0c8cebe4dcfa7babd8b2b418f1f",
            "1f333a36e357498c865a3cfd386590b4",
            "b7e036bc2f124dd8a62398c1dfd96110",
            "8e032d80350340758e58e53c86f7c20c",
            "8a459d494217471e8260228b4d57ac55",
            "66b6c119837747a5b9f3139b9cfb1e6e",
            "25aa05c10aa44882a23304c2bed9278e",
            "86625b5391d54070be0e4261bd68f11a",
            "321439aa2f594e30ab071b0fff11e470",
            "d532a248bc244d68bb38f62283825b10",
            "5c1d26e7e9ad4e3c942f55f91e389659"
          ]
        },
        "id": "gp6UqoBgLZk9",
        "outputId": "c87d5f07-a87b-4d48-cc02-1dae27b8ceb3"
      },
      "execution_count": 55,
      "outputs": [
        {
          "output_type": "stream",
          "name": "stderr",
          "text": [
            "You're using a RobertaTokenizerFast tokenizer. Please note that with a fast tokenizer, using the `__call__` method is faster than using a method to encode the text followed by a call to the `pad` method to get a padded encoding.\n"
          ]
        },
        {
          "output_type": "display_data",
          "data": {
            "text/plain": [
              "<IPython.core.display.HTML object>"
            ],
            "text/html": [
              "\n",
              "    <div>\n",
              "      \n",
              "      <progress value='2961' max='2961' style='width:300px; height:20px; vertical-align: middle;'></progress>\n",
              "      [2961/2961 29:09, Epoch 7/7]\n",
              "    </div>\n",
              "    <table border=\"1\" class=\"dataframe\">\n",
              "  <thead>\n",
              " <tr style=\"text-align: left;\">\n",
              "      <th>Epoch</th>\n",
              "      <th>Training Loss</th>\n",
              "      <th>Validation Loss</th>\n",
              "      <th>Accuracy</th>\n",
              "    </tr>\n",
              "  </thead>\n",
              "  <tbody>\n",
              "    <tr>\n",
              "      <td>1</td>\n",
              "      <td>No log</td>\n",
              "      <td>2.108583</td>\n",
              "      <td>0.341090</td>\n",
              "    </tr>\n",
              "    <tr>\n",
              "      <td>2</td>\n",
              "      <td>2.151200</td>\n",
              "      <td>2.096765</td>\n",
              "      <td>0.341090</td>\n",
              "    </tr>\n",
              "    <tr>\n",
              "      <td>3</td>\n",
              "      <td>2.126300</td>\n",
              "      <td>2.098485</td>\n",
              "      <td>0.341090</td>\n",
              "    </tr>\n",
              "    <tr>\n",
              "      <td>4</td>\n",
              "      <td>2.114800</td>\n",
              "      <td>2.092949</td>\n",
              "      <td>0.341090</td>\n",
              "    </tr>\n",
              "    <tr>\n",
              "      <td>5</td>\n",
              "      <td>2.115900</td>\n",
              "      <td>2.091029</td>\n",
              "      <td>0.341090</td>\n",
              "    </tr>\n",
              "    <tr>\n",
              "      <td>6</td>\n",
              "      <td>2.101500</td>\n",
              "      <td>2.091440</td>\n",
              "      <td>0.341090</td>\n",
              "    </tr>\n",
              "    <tr>\n",
              "      <td>7</td>\n",
              "      <td>2.101500</td>\n",
              "      <td>2.090294</td>\n",
              "      <td>0.341090</td>\n",
              "    </tr>\n",
              "  </tbody>\n",
              "</table><p>"
            ]
          },
          "metadata": {}
        },
        {
          "output_type": "display_data",
          "data": {
            "text/plain": [
              "Downloading builder script:   0%|          | 0.00/4.20k [00:00<?, ?B/s]"
            ],
            "application/vnd.jupyter.widget-view+json": {
              "version_major": 2,
              "version_minor": 0,
              "model_id": "fb52e0c8cebe4dcfa7babd8b2b418f1f"
            }
          },
          "metadata": {}
        },
        {
          "output_type": "execute_result",
          "data": {
            "text/plain": [
              "TrainOutput(global_step=2961, training_loss=2.119608870393237, metrics={'train_runtime': 1752.4009, 'train_samples_per_second': 54.058, 'train_steps_per_second': 1.69, 'total_flos': 1.2551007036911616e+16, 'train_loss': 2.119608870393237, 'epoch': 7.0})"
            ]
          },
          "metadata": {},
          "execution_count": 55
        }
      ]
    },
    {
      "cell_type": "code",
      "source": [
        "trainer.save_model('models/game-classifier')"
      ],
      "metadata": {
        "id": "FVnjuzS-LbCC"
      },
      "execution_count": 56,
      "outputs": []
    }
  ]
}